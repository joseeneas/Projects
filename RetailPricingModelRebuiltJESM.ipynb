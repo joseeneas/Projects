{
 "cells": [
  {
   "cell_type": "markdown",
   "id": "38b28cc6",
   "metadata": {},
   "source": [
    "# Retail Pricing Optimization Model\n",
    "This notebook optimizes weekly pricing using a discrete price ladder and a linear demand model to maximize revenue over a 13-week horizon (excluding week 164)."
   ]
  },
  {
   "cell_type": "markdown",
   "id": "6c270150",
   "metadata": {},
   "source": [
    "### Import Required Libraries"
   ]
  },
  {
   "cell_type": "code",
   "execution_count": 1,
   "id": "7e4d235a",
   "metadata": {},
   "outputs": [
    {
     "name": "stdout",
     "output_type": "stream",
     "text": [
      "Requirement already satisfied: gurobipy in /opt/anaconda3/envs/eneas/lib/python3.13/site-packages (12.0.1)\n",
      "Note: you may need to restart the kernel to use updated packages.\n"
     ]
    }
   ],
   "source": [
    "%pip install gurobipy "
   ]
  },
  {
   "cell_type": "code",
   "execution_count": 2,
   "id": "ad2d2294",
   "metadata": {},
   "outputs": [],
   "source": [
    "import numpy as np\n",
    "import pandas as pd\n",
    "import gurobipy as gp\n",
    "from gurobipy import GRB\n",
    "import plotly.express as px"
   ]
  },
  {
   "cell_type": "markdown",
   "id": "53860517",
   "metadata": {},
   "source": [
    "### Define Weeks and Price Ladder"
   ]
  },
  {
   "cell_type": "code",
   "execution_count": 3,
   "id": "f5b8cb0e",
   "metadata": {},
   "outputs": [],
   "source": [
    "weeks = list(range(157, 170))\n",
    "weeks.remove(164)  # Exclude week 164\n",
    "p_ladder = [1.00, 0.95, 0.85, 0.75, 0.60, 0.50]  # Price ladder"
   ]
  },
  {
   "cell_type": "markdown",
   "id": "db9593c3",
   "metadata": {},
   "source": [
    "### Map Weeks to Seasons"
   ]
  },
  {
   "cell_type": "code",
   "execution_count": 4,
   "id": "e8af1dac",
   "metadata": {},
   "outputs": [
    {
     "name": "stdout",
     "output_type": "stream",
     "text": [
      "{157: 1, 158: 1, 159: 1, 160: 1, 161: 2, 162: 2, 163: 2, 165: 3, 166: 3, 167: 3, 168: 3, 169: 4}\n"
     ]
    }
   ],
   "source": [
    "season = {}\n",
    "for w in weeks:\n",
    "    season[w] = int(np.ceil((w % 52) / 4))\n",
    "print(season)"
   ]
  },
  {
   "cell_type": "markdown",
   "id": "e9576ca8",
   "metadata": {},
   "source": [
    "### Define Demand Model Coefficients"
   ]
  },
  {
   "cell_type": "code",
   "execution_count": 5,
   "id": "84ed6962",
   "metadata": {},
   "outputs": [],
   "source": [
    "intercept = 1.978242858\n",
    "p_coeff = -2.809634145\n",
    "p1_coeff = 0.963410728\n",
    "p2_coeff = 0.759639170\n",
    "\n",
    "season_coeff = {\n",
    "    1: 0,\n",
    "    2: -0.562046910, 3: 0.087545274, 4: -0.402637480,\n",
    "    5: -0.027326010, 6: 0.004349885, 7: -0.036102297,\n",
    "    8: -0.069280527, 9: 0.160276197, 10: 1.104208897,\n",
    "    11: 1.122711287, 12: 1.176802194, 13: 0.947945548\n",
    "}"
   ]
  },
  {
   "cell_type": "markdown",
   "id": "13e74113",
   "metadata": {},
   "source": [
    "### Build Optimization Model"
   ]
  },
  {
   "cell_type": "code",
   "execution_count": 6,
   "id": "b82e2ebf",
   "metadata": {},
   "outputs": [
    {
     "name": "stdout",
     "output_type": "stream",
     "text": [
      "Restricted license - for non-production use only - expires 2026-11-23\n",
      "Gurobi Optimizer version 12.0.1 build v12.0.1rc0 (mac64[arm] - Darwin 24.5.0 24F5053j)\n",
      "\n",
      "CPU model: Apple M4 Max\n",
      "Thread count: 16 physical cores, 16 logical processors, using up to 16 threads\n",
      "\n",
      "Optimize a model with 24 rows, 84 columns and 156 nonzeros\n",
      "Model fingerprint: 0x35c141f4\n",
      "Model has 31 quadratic objective terms\n",
      "Variable types: 12 continuous, 72 integer (72 binary)\n",
      "Coefficient statistics:\n",
      "  Matrix range     [5e-01, 1e+00]\n",
      "  Objective range  [1e+00, 4e+00]\n",
      "  QObjective range [2e+00, 6e+00]\n",
      "  Bounds range     [1e+00, 1e+00]\n",
      "  RHS range        [1e+00, 1e+00]\n",
      "Found heuristic solution: objective 8.0544624\n",
      "Presolve removed 0 rows and 12 columns\n",
      "Presolve time: 0.01s\n",
      "Presolved: 24 rows, 72 columns, 132 nonzeros\n",
      "Presolved model has 31 quadratic objective terms\n",
      "Variable types: 12 continuous, 60 integer (60 binary)\n",
      "\n",
      "Root relaxation: objective 1.052862e+01, 37 iterations, 0.00 seconds (0.00 work units)\n",
      "\n",
      "    Nodes    |    Current Node    |     Objective Bounds      |     Work\n",
      " Expl Unexpl |  Obj  Depth IntInf | Incumbent    BestBd   Gap | It/Node Time\n",
      "\n",
      "     0     0   10.52862    0   12    8.05446   10.52862  30.7%     -    0s\n",
      "H    0     0                      10.1288447   10.52862  3.95%     -    0s\n",
      "H    0     0                      10.1421566   10.52862  3.81%     -    0s\n",
      "H    0     0                      10.2216581   10.52862  3.00%     -    0s\n",
      "     0     0   10.52862    0   12   10.22166   10.52862  3.00%     -    0s\n",
      "H    0     0                      10.2534584   10.52862  2.68%     -    0s\n",
      "H    0     0                      10.2843562   10.52862  2.38%     -    0s\n",
      "H    0     0                      10.3094967   10.52862  2.13%     -    0s\n",
      "H    0     0                      10.3176333   10.52862  2.04%     -    0s\n",
      "H    0     1                      10.3778561   10.52862  1.45%     -    0s\n",
      "     0     1   10.52862    0   12   10.37786   10.52862  1.45%     -    0s\n",
      "H   35    82                      10.3786851   10.52862  1.44%   2.9    0s\n",
      "H   35    82                      10.3805783   10.52862  1.43%   2.9    0s\n",
      "H   37    82                      10.4005713   10.52799  1.23%   3.0    0s\n",
      "H   40    82                      10.4131402   10.52799  1.10%   3.0    0s\n",
      "H   50    82                      10.4295445   10.52799  0.94%   3.1    0s\n",
      "H  117    93                      10.4309364   10.52799  0.93%   3.1    0s\n",
      "H  195   124                      10.4526188   10.52188  0.66%   2.8    0s\n",
      "H  195   124                      10.4593463   10.52188  0.60%   2.8    0s\n",
      "H  210   124                      10.4624878   10.52117  0.56%   2.8    0s\n",
      "H  225   124                      10.4636567   10.52117  0.55%   2.8    0s\n",
      "H  294   137                      10.4655903   10.52071  0.53%   2.9    0s\n",
      "H  299   137                      10.4680339   10.52071  0.50%   3.0    0s\n",
      "H  319   137                      10.4879014   10.51318  0.24%   2.9    0s\n",
      "H  355   103                      10.4932586   10.51318  0.19%   2.9    0s\n",
      "\n",
      "Explored 570 nodes (1421 simplex iterations) in 0.04 seconds (0.01 work units)\n",
      "Thread count was 16 (of 16 available processors)\n",
      "\n",
      "Solution count 10: 10.4933 10.4879 10.468 ... 10.4295\n",
      "\n",
      "Optimal solution found (tolerance 1.00e-04)\n",
      "Best objective 1.049325864306e+01, best bound 1.049325864306e+01, gap 0.0000%\n"
     ]
    }
   ],
   "source": [
    "mod = gp.Model(\"price_model_with_ladder\")\n",
    "\n",
    "# Decision variables\n",
    "p = mod.addVars(weeks)\n",
    "x = mod.addVars(weeks, p_ladder, vtype=GRB.BINARY)\n",
    "\n",
    "# Each week selects one price from the ladder\n",
    "mod.addConstrs((gp.quicksum(x[w, k] for k in p_ladder) == 1) for w in weeks)\n",
    "\n",
    "# Price is equal to the selected ladder value\n",
    "mod.addConstrs((p[w] == gp.quicksum(k * x[w, k] for k in p_ladder)) for w in weeks)\n",
    "\n",
    "# Safe defaults for prior prices\n",
    "default_p1 = 1.00\n",
    "default_p2 = 1.00\n",
    "\n",
    "# Objective function: maximize revenue\n",
    "mod.setObjective(\n",
    "    gp.quicksum(\n",
    "        p[w] * (\n",
    "            intercept +\n",
    "            p_coeff * p[w] +\n",
    "            p1_coeff * (p[w-1] if (w-1) in weeks else default_p1) +\n",
    "            p2_coeff * (p[w-2] if (w-2) in weeks else default_p2) +\n",
    "            season_coeff[season[w]]\n",
    "        )\n",
    "        for w in weeks\n",
    "    ),\n",
    "    GRB.MAXIMIZE\n",
    ")\n",
    "\n",
    "mod.optimize()"
   ]
  },
  {
   "cell_type": "markdown",
   "id": "d247cc97",
   "metadata": {},
   "source": [
    "### View Optimized Prices"
   ]
  },
  {
   "cell_type": "code",
   "execution_count": 7,
   "id": "7bcd615f",
   "metadata": {},
   "outputs": [
    {
     "data": {
      "application/vnd.microsoft.datawrangler.viewer.v0+json": {
       "columns": [
        {
         "name": "index",
         "rawType": "int64",
         "type": "integer"
        },
        {
         "name": "price",
         "rawType": "object",
         "type": "unknown"
        }
       ],
       "conversionMethod": "pd.DataFrame",
       "ref": "3b0411f7-602c-4cfd-8063-56289211c4ba",
       "rows": [
        [
         "157",
         "0.95"
        ],
        [
         "158",
         "0.95"
        ],
        [
         "159",
         "0.85"
        ],
        [
         "160",
         "0.85"
        ],
        [
         "161",
         "0.75"
        ],
        [
         "162",
         "0.6"
        ],
        [
         "163",
         "0.6"
        ],
        [
         "165",
         "0.85"
        ],
        [
         "166",
         "0.85"
        ],
        [
         "167",
         "0.85"
        ],
        [
         "168",
         "0.75"
        ],
        [
         "169",
         "0.5"
        ]
       ],
       "shape": {
        "columns": 1,
        "rows": 12
       }
      },
      "text/html": [
       "<div>\n",
       "<style scoped>\n",
       "    .dataframe tbody tr th:only-of-type {\n",
       "        vertical-align: middle;\n",
       "    }\n",
       "\n",
       "    .dataframe tbody tr th {\n",
       "        vertical-align: top;\n",
       "    }\n",
       "\n",
       "    .dataframe thead th {\n",
       "        text-align: right;\n",
       "    }\n",
       "</style>\n",
       "<table border=\"1\" class=\"dataframe\">\n",
       "  <thead>\n",
       "    <tr style=\"text-align: right;\">\n",
       "      <th></th>\n",
       "      <th>price</th>\n",
       "    </tr>\n",
       "  </thead>\n",
       "  <tbody>\n",
       "    <tr>\n",
       "      <th>157</th>\n",
       "      <td>0.95</td>\n",
       "    </tr>\n",
       "    <tr>\n",
       "      <th>158</th>\n",
       "      <td>0.95</td>\n",
       "    </tr>\n",
       "    <tr>\n",
       "      <th>159</th>\n",
       "      <td>0.85</td>\n",
       "    </tr>\n",
       "    <tr>\n",
       "      <th>160</th>\n",
       "      <td>0.85</td>\n",
       "    </tr>\n",
       "    <tr>\n",
       "      <th>161</th>\n",
       "      <td>0.75</td>\n",
       "    </tr>\n",
       "    <tr>\n",
       "      <th>162</th>\n",
       "      <td>0.6</td>\n",
       "    </tr>\n",
       "    <tr>\n",
       "      <th>163</th>\n",
       "      <td>0.6</td>\n",
       "    </tr>\n",
       "    <tr>\n",
       "      <th>165</th>\n",
       "      <td>0.85</td>\n",
       "    </tr>\n",
       "    <tr>\n",
       "      <th>166</th>\n",
       "      <td>0.85</td>\n",
       "    </tr>\n",
       "    <tr>\n",
       "      <th>167</th>\n",
       "      <td>0.85</td>\n",
       "    </tr>\n",
       "    <tr>\n",
       "      <th>168</th>\n",
       "      <td>0.75</td>\n",
       "    </tr>\n",
       "    <tr>\n",
       "      <th>169</th>\n",
       "      <td>0.5</td>\n",
       "    </tr>\n",
       "  </tbody>\n",
       "</table>\n",
       "</div>"
      ],
      "text/plain": [
       "    price\n",
       "157  0.95\n",
       "158  0.95\n",
       "159  0.85\n",
       "160  0.85\n",
       "161  0.75\n",
       "162   0.6\n",
       "163   0.6\n",
       "165  0.85\n",
       "166  0.85\n",
       "167  0.85\n",
       "168  0.75\n",
       "169   0.5"
      ]
     },
     "execution_count": 7,
     "metadata": {},
     "output_type": "execute_result"
    }
   ],
   "source": [
    "df = pd.DataFrame(index=weeks, columns=['price'])\n",
    "for w in weeks:\n",
    "    df.loc[w, 'price'] = p[w].X\n",
    "\n",
    "df"
   ]
  },
  {
   "cell_type": "markdown",
   "id": "9c32ddf7",
   "metadata": {},
   "source": [
    "### Plot Results"
   ]
  },
  {
   "cell_type": "code",
   "execution_count": 8,
   "id": "41bfd06a",
   "metadata": {},
   "outputs": [
    {
     "data": {
      "application/vnd.plotly.v1+json": {
       "config": {
        "plotlyServerURL": "https://plot.ly"
       },
       "data": [
        {
         "hovertemplate": "index=%{x}<br>price=%{y}<extra></extra>",
         "legendgroup": "",
         "line": {
          "color": "#636efa",
          "dash": "solid"
         },
         "marker": {
          "symbol": "circle"
         },
         "mode": "lines+markers",
         "name": "",
         "orientation": "h",
         "showlegend": false,
         "type": "scatter",
         "x": {
          "bdata": "nQCeAJ8AoAChAKIAowClAKYApwCoAKkA",
          "dtype": "i2"
         },
         "xaxis": "x",
         "y": [
          0.95,
          0.95,
          0.85,
          0.85,
          0.75,
          0.6,
          0.6,
          0.85,
          0.85,
          0.85,
          0.75,
          0.5
         ],
         "yaxis": "y"
        }
       ],
       "layout": {
        "legend": {
         "tracegroupgap": 0
        },
        "margin": {
         "t": 60
        },
        "plot_bgcolor": "white",
        "template": {
         "data": {
          "bar": [
           {
            "error_x": {
             "color": "#2a3f5f"
            },
            "error_y": {
             "color": "#2a3f5f"
            },
            "marker": {
             "line": {
              "color": "#E5ECF6",
              "width": 0.5
             },
             "pattern": {
              "fillmode": "overlay",
              "size": 10,
              "solidity": 0.2
             }
            },
            "type": "bar"
           }
          ],
          "barpolar": [
           {
            "marker": {
             "line": {
              "color": "#E5ECF6",
              "width": 0.5
             },
             "pattern": {
              "fillmode": "overlay",
              "size": 10,
              "solidity": 0.2
             }
            },
            "type": "barpolar"
           }
          ],
          "carpet": [
           {
            "aaxis": {
             "endlinecolor": "#2a3f5f",
             "gridcolor": "white",
             "linecolor": "white",
             "minorgridcolor": "white",
             "startlinecolor": "#2a3f5f"
            },
            "baxis": {
             "endlinecolor": "#2a3f5f",
             "gridcolor": "white",
             "linecolor": "white",
             "minorgridcolor": "white",
             "startlinecolor": "#2a3f5f"
            },
            "type": "carpet"
           }
          ],
          "choropleth": [
           {
            "colorbar": {
             "outlinewidth": 0,
             "ticks": ""
            },
            "type": "choropleth"
           }
          ],
          "contour": [
           {
            "colorbar": {
             "outlinewidth": 0,
             "ticks": ""
            },
            "colorscale": [
             [
              0,
              "#0d0887"
             ],
             [
              0.1111111111111111,
              "#46039f"
             ],
             [
              0.2222222222222222,
              "#7201a8"
             ],
             [
              0.3333333333333333,
              "#9c179e"
             ],
             [
              0.4444444444444444,
              "#bd3786"
             ],
             [
              0.5555555555555556,
              "#d8576b"
             ],
             [
              0.6666666666666666,
              "#ed7953"
             ],
             [
              0.7777777777777778,
              "#fb9f3a"
             ],
             [
              0.8888888888888888,
              "#fdca26"
             ],
             [
              1,
              "#f0f921"
             ]
            ],
            "type": "contour"
           }
          ],
          "contourcarpet": [
           {
            "colorbar": {
             "outlinewidth": 0,
             "ticks": ""
            },
            "type": "contourcarpet"
           }
          ],
          "heatmap": [
           {
            "colorbar": {
             "outlinewidth": 0,
             "ticks": ""
            },
            "colorscale": [
             [
              0,
              "#0d0887"
             ],
             [
              0.1111111111111111,
              "#46039f"
             ],
             [
              0.2222222222222222,
              "#7201a8"
             ],
             [
              0.3333333333333333,
              "#9c179e"
             ],
             [
              0.4444444444444444,
              "#bd3786"
             ],
             [
              0.5555555555555556,
              "#d8576b"
             ],
             [
              0.6666666666666666,
              "#ed7953"
             ],
             [
              0.7777777777777778,
              "#fb9f3a"
             ],
             [
              0.8888888888888888,
              "#fdca26"
             ],
             [
              1,
              "#f0f921"
             ]
            ],
            "type": "heatmap"
           }
          ],
          "histogram": [
           {
            "marker": {
             "pattern": {
              "fillmode": "overlay",
              "size": 10,
              "solidity": 0.2
             }
            },
            "type": "histogram"
           }
          ],
          "histogram2d": [
           {
            "colorbar": {
             "outlinewidth": 0,
             "ticks": ""
            },
            "colorscale": [
             [
              0,
              "#0d0887"
             ],
             [
              0.1111111111111111,
              "#46039f"
             ],
             [
              0.2222222222222222,
              "#7201a8"
             ],
             [
              0.3333333333333333,
              "#9c179e"
             ],
             [
              0.4444444444444444,
              "#bd3786"
             ],
             [
              0.5555555555555556,
              "#d8576b"
             ],
             [
              0.6666666666666666,
              "#ed7953"
             ],
             [
              0.7777777777777778,
              "#fb9f3a"
             ],
             [
              0.8888888888888888,
              "#fdca26"
             ],
             [
              1,
              "#f0f921"
             ]
            ],
            "type": "histogram2d"
           }
          ],
          "histogram2dcontour": [
           {
            "colorbar": {
             "outlinewidth": 0,
             "ticks": ""
            },
            "colorscale": [
             [
              0,
              "#0d0887"
             ],
             [
              0.1111111111111111,
              "#46039f"
             ],
             [
              0.2222222222222222,
              "#7201a8"
             ],
             [
              0.3333333333333333,
              "#9c179e"
             ],
             [
              0.4444444444444444,
              "#bd3786"
             ],
             [
              0.5555555555555556,
              "#d8576b"
             ],
             [
              0.6666666666666666,
              "#ed7953"
             ],
             [
              0.7777777777777778,
              "#fb9f3a"
             ],
             [
              0.8888888888888888,
              "#fdca26"
             ],
             [
              1,
              "#f0f921"
             ]
            ],
            "type": "histogram2dcontour"
           }
          ],
          "mesh3d": [
           {
            "colorbar": {
             "outlinewidth": 0,
             "ticks": ""
            },
            "type": "mesh3d"
           }
          ],
          "parcoords": [
           {
            "line": {
             "colorbar": {
              "outlinewidth": 0,
              "ticks": ""
             }
            },
            "type": "parcoords"
           }
          ],
          "pie": [
           {
            "automargin": true,
            "type": "pie"
           }
          ],
          "scatter": [
           {
            "fillpattern": {
             "fillmode": "overlay",
             "size": 10,
             "solidity": 0.2
            },
            "type": "scatter"
           }
          ],
          "scatter3d": [
           {
            "line": {
             "colorbar": {
              "outlinewidth": 0,
              "ticks": ""
             }
            },
            "marker": {
             "colorbar": {
              "outlinewidth": 0,
              "ticks": ""
             }
            },
            "type": "scatter3d"
           }
          ],
          "scattercarpet": [
           {
            "marker": {
             "colorbar": {
              "outlinewidth": 0,
              "ticks": ""
             }
            },
            "type": "scattercarpet"
           }
          ],
          "scattergeo": [
           {
            "marker": {
             "colorbar": {
              "outlinewidth": 0,
              "ticks": ""
             }
            },
            "type": "scattergeo"
           }
          ],
          "scattergl": [
           {
            "marker": {
             "colorbar": {
              "outlinewidth": 0,
              "ticks": ""
             }
            },
            "type": "scattergl"
           }
          ],
          "scattermap": [
           {
            "marker": {
             "colorbar": {
              "outlinewidth": 0,
              "ticks": ""
             }
            },
            "type": "scattermap"
           }
          ],
          "scattermapbox": [
           {
            "marker": {
             "colorbar": {
              "outlinewidth": 0,
              "ticks": ""
             }
            },
            "type": "scattermapbox"
           }
          ],
          "scatterpolar": [
           {
            "marker": {
             "colorbar": {
              "outlinewidth": 0,
              "ticks": ""
             }
            },
            "type": "scatterpolar"
           }
          ],
          "scatterpolargl": [
           {
            "marker": {
             "colorbar": {
              "outlinewidth": 0,
              "ticks": ""
             }
            },
            "type": "scatterpolargl"
           }
          ],
          "scatterternary": [
           {
            "marker": {
             "colorbar": {
              "outlinewidth": 0,
              "ticks": ""
             }
            },
            "type": "scatterternary"
           }
          ],
          "surface": [
           {
            "colorbar": {
             "outlinewidth": 0,
             "ticks": ""
            },
            "colorscale": [
             [
              0,
              "#0d0887"
             ],
             [
              0.1111111111111111,
              "#46039f"
             ],
             [
              0.2222222222222222,
              "#7201a8"
             ],
             [
              0.3333333333333333,
              "#9c179e"
             ],
             [
              0.4444444444444444,
              "#bd3786"
             ],
             [
              0.5555555555555556,
              "#d8576b"
             ],
             [
              0.6666666666666666,
              "#ed7953"
             ],
             [
              0.7777777777777778,
              "#fb9f3a"
             ],
             [
              0.8888888888888888,
              "#fdca26"
             ],
             [
              1,
              "#f0f921"
             ]
            ],
            "type": "surface"
           }
          ],
          "table": [
           {
            "cells": {
             "fill": {
              "color": "#EBF0F8"
             },
             "line": {
              "color": "white"
             }
            },
            "header": {
             "fill": {
              "color": "#C8D4E3"
             },
             "line": {
              "color": "white"
             }
            },
            "type": "table"
           }
          ]
         },
         "layout": {
          "annotationdefaults": {
           "arrowcolor": "#2a3f5f",
           "arrowhead": 0,
           "arrowwidth": 1
          },
          "autotypenumbers": "strict",
          "coloraxis": {
           "colorbar": {
            "outlinewidth": 0,
            "ticks": ""
           }
          },
          "colorscale": {
           "diverging": [
            [
             0,
             "#8e0152"
            ],
            [
             0.1,
             "#c51b7d"
            ],
            [
             0.2,
             "#de77ae"
            ],
            [
             0.3,
             "#f1b6da"
            ],
            [
             0.4,
             "#fde0ef"
            ],
            [
             0.5,
             "#f7f7f7"
            ],
            [
             0.6,
             "#e6f5d0"
            ],
            [
             0.7,
             "#b8e186"
            ],
            [
             0.8,
             "#7fbc41"
            ],
            [
             0.9,
             "#4d9221"
            ],
            [
             1,
             "#276419"
            ]
           ],
           "sequential": [
            [
             0,
             "#0d0887"
            ],
            [
             0.1111111111111111,
             "#46039f"
            ],
            [
             0.2222222222222222,
             "#7201a8"
            ],
            [
             0.3333333333333333,
             "#9c179e"
            ],
            [
             0.4444444444444444,
             "#bd3786"
            ],
            [
             0.5555555555555556,
             "#d8576b"
            ],
            [
             0.6666666666666666,
             "#ed7953"
            ],
            [
             0.7777777777777778,
             "#fb9f3a"
            ],
            [
             0.8888888888888888,
             "#fdca26"
            ],
            [
             1,
             "#f0f921"
            ]
           ],
           "sequentialminus": [
            [
             0,
             "#0d0887"
            ],
            [
             0.1111111111111111,
             "#46039f"
            ],
            [
             0.2222222222222222,
             "#7201a8"
            ],
            [
             0.3333333333333333,
             "#9c179e"
            ],
            [
             0.4444444444444444,
             "#bd3786"
            ],
            [
             0.5555555555555556,
             "#d8576b"
            ],
            [
             0.6666666666666666,
             "#ed7953"
            ],
            [
             0.7777777777777778,
             "#fb9f3a"
            ],
            [
             0.8888888888888888,
             "#fdca26"
            ],
            [
             1,
             "#f0f921"
            ]
           ]
          },
          "colorway": [
           "#636efa",
           "#EF553B",
           "#00cc96",
           "#ab63fa",
           "#FFA15A",
           "#19d3f3",
           "#FF6692",
           "#B6E880",
           "#FF97FF",
           "#FECB52"
          ],
          "font": {
           "color": "#2a3f5f"
          },
          "geo": {
           "bgcolor": "white",
           "lakecolor": "white",
           "landcolor": "#E5ECF6",
           "showlakes": true,
           "showland": true,
           "subunitcolor": "white"
          },
          "hoverlabel": {
           "align": "left"
          },
          "hovermode": "closest",
          "mapbox": {
           "style": "light"
          },
          "paper_bgcolor": "white",
          "plot_bgcolor": "#E5ECF6",
          "polar": {
           "angularaxis": {
            "gridcolor": "white",
            "linecolor": "white",
            "ticks": ""
           },
           "bgcolor": "#E5ECF6",
           "radialaxis": {
            "gridcolor": "white",
            "linecolor": "white",
            "ticks": ""
           }
          },
          "scene": {
           "xaxis": {
            "backgroundcolor": "#E5ECF6",
            "gridcolor": "white",
            "gridwidth": 2,
            "linecolor": "white",
            "showbackground": true,
            "ticks": "",
            "zerolinecolor": "white"
           },
           "yaxis": {
            "backgroundcolor": "#E5ECF6",
            "gridcolor": "white",
            "gridwidth": 2,
            "linecolor": "white",
            "showbackground": true,
            "ticks": "",
            "zerolinecolor": "white"
           },
           "zaxis": {
            "backgroundcolor": "#E5ECF6",
            "gridcolor": "white",
            "gridwidth": 2,
            "linecolor": "white",
            "showbackground": true,
            "ticks": "",
            "zerolinecolor": "white"
           }
          },
          "shapedefaults": {
           "line": {
            "color": "#2a3f5f"
           }
          },
          "ternary": {
           "aaxis": {
            "gridcolor": "white",
            "linecolor": "white",
            "ticks": ""
           },
           "baxis": {
            "gridcolor": "white",
            "linecolor": "white",
            "ticks": ""
           },
           "bgcolor": "#E5ECF6",
           "caxis": {
            "gridcolor": "white",
            "linecolor": "white",
            "ticks": ""
           }
          },
          "title": {
           "x": 0.05
          },
          "xaxis": {
           "automargin": true,
           "gridcolor": "white",
           "linecolor": "white",
           "ticks": "",
           "title": {
            "standoff": 15
           },
           "zerolinecolor": "white",
           "zerolinewidth": 2
          },
          "yaxis": {
           "automargin": true,
           "gridcolor": "white",
           "linecolor": "white",
           "ticks": "",
           "title": {
            "standoff": 15
           },
           "zerolinecolor": "white",
           "zerolinewidth": 2
          }
         }
        },
        "title": {
         "text": "Optimized Weekly Prices"
        },
        "xaxis": {
         "anchor": "y",
         "domain": [
          0,
          1
         ],
         "title": {
          "text": "Week"
         }
        },
        "yaxis": {
         "anchor": "x",
         "domain": [
          0,
          1
         ],
         "title": {
          "text": "Price"
         }
        }
       }
      }
     },
     "metadata": {},
     "output_type": "display_data"
    }
   ],
   "source": [
    "fig = px.line(df, x=df.index, y='price', markers=True)\n",
    "fig.update_layout(title='Optimized Weekly Prices', xaxis_title='Week', yaxis_title='Price', plot_bgcolor='white')\n",
    "fig.show()"
   ]
  }
 ],
 "metadata": {
  "kernelspec": {
   "display_name": "eneas",
   "language": "python",
   "name": "python3"
  },
  "language_info": {
   "codemirror_mode": {
    "name": "ipython",
    "version": 3
   },
   "file_extension": ".py",
   "mimetype": "text/x-python",
   "name": "python",
   "nbconvert_exporter": "python",
   "pygments_lexer": "ipython3",
   "version": "3.13.2"
  }
 },
 "nbformat": 4,
 "nbformat_minor": 5
}
