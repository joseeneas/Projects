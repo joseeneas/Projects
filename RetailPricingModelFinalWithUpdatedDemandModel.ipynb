{
 "cells": [
  {
   "cell_type": "markdown",
   "metadata": {
    "id": "cbEQlIplwY5k"
   },
   "source": [
    "# The Analytics Edge of Retail Optimization\n",
    "\n",
    "Both binary variables and non-linear functions\n"
   ]
  },
  {
   "cell_type": "markdown",
   "metadata": {
    "id": "OIEu-mPyZTQY"
   },
   "source": [
    "#gurobipy\n",
    "The Gurobi Optimizer is a mathematical optimization software library for solving mixed-integer linear and quadratic optimization problems."
   ]
  },
  {
   "cell_type": "code",
   "execution_count": 1,
   "metadata": {
    "colab": {
     "base_uri": "https://localhost:8080/"
    },
    "id": "1O-gl14_WI6y",
    "outputId": "a9e99302-46a9-40ed-8a53-8314b46dfed7"
   },
   "outputs": [
    {
     "name": "stdout",
     "output_type": "stream",
     "text": [
      "Requirement already satisfied: gurobipy in /opt/anaconda3/envs/eneas/lib/python3.13/site-packages (12.0.1)\n",
      "Note: you may need to restart the kernel to use updated packages.\n"
     ]
    }
   ],
   "source": [
    "%pip install gurobipy "
   ]
  },
  {
   "cell_type": "markdown",
   "metadata": {
    "id": "LE2WflaNaeLM"
   },
   "source": [
    "# load require packages"
   ]
  },
  {
   "cell_type": "code",
   "execution_count": 2,
   "metadata": {
    "id": "uYc7Lo9Eya8P"
   },
   "outputs": [],
   "source": [
    "import numpy as np\n",
    "import pandas as pd\n",
    "import gurobipy as gp\n",
    "from gurobipy import GRB\n",
    "import plotly.express as px"
   ]
  },
  {
   "cell_type": "markdown",
   "metadata": {
    "id": "gaYJniqpVq7y"
   },
   "source": [
    "### Lists"
   ]
  },
  {
   "cell_type": "code",
   "execution_count": 3,
   "metadata": {
    "colab": {
     "base_uri": "https://localhost:8080/"
    },
    "id": "Zx0UbIs6Vq7z",
    "outputId": "351d114e-d317-4a43-a08e-951d2ececa9d"
   },
   "outputs": [
    {
     "name": "stdout",
     "output_type": "stream",
     "text": [
      "weeks (t)  [157, 158, 159, 160, 161, 162, 163, 165, 166, 167, 168, 169]\n",
      "157\n",
      "158\n"
     ]
    }
   ],
   "source": [
    "# Be careful with Python indices! \n",
    "# The range function range(a,b) creates a range of integers starting at <a> but ending at <b-1>\n",
    "weeks = list(range(157,170))\n",
    "weeks.remove(164)\n",
    "print(\"weeks (t) \", weeks)\n",
    "# Also note here that the first element of a list has index 0. The second element has index 1, and so on... \n",
    "w1 = weeks[0] #denotes the number of the first week in our planning horizon\n",
    "print(w1)\n",
    "w2 = weeks[1] #denotes the number of the second week in our planning horizon\n",
    "print(w2)"
   ]
  },
  {
   "cell_type": "markdown",
   "metadata": {
    "id": "YtsvfOLLVq70"
   },
   "source": [
    "### Parameters"
   ]
  },
  {
   "cell_type": "code",
   "execution_count": 4,
   "metadata": {
    "id": "j0c8QcZ5Vq71"
   },
   "outputs": [],
   "source": [
    "intercept = 1.978242858\n",
    "p_coeff = -2.809634145\n",
    "p1_coeff = 0.963410728\n",
    "p2_coeff = 0.759639170\n",
    "season_coeff = {\n",
    "    1: 0, 2: -0.562046910, 3: 0.087545274, 4: -0.402637480, 5: -0.027326010, 6: 0.004349885,\n",
    "    7: -0.036102297, 8: -0.069280527, 9: 0.160276197, 10: 1.104208897, 11: 1.122711287,\n",
    "    12: 1.176802194, 13: 0.947945548\n",
    "}"
   ]
  },
  {
   "cell_type": "code",
   "execution_count": 5,
   "metadata": {
    "colab": {
     "base_uri": "https://localhost:8080/"
    },
    "id": "zuLbALQKVq72",
    "outputId": "ccc4180d-82f5-4e81-ebd3-665b4ec4bb27"
   },
   "outputs": [
    {
     "name": "stdout",
     "output_type": "stream",
     "text": [
      "{157: np.float64(1.0), 158: np.float64(1.0), 159: np.float64(1.0), 160: np.float64(1.0), 161: np.float64(2.0), 162: np.float64(2.0), 163: np.float64(2.0), 165: np.float64(3.0), 166: np.float64(3.0), 167: np.float64(3.0), 168: np.float64(3.0), 169: np.float64(4.0)}\n"
     ]
    }
   ],
   "source": [
    "# Here we create a dictionary that associates a season with each week in the planning horizon\n",
    "season = {}\n",
    "for w in weeks:\n",
    "    season[w] = np.ceil((w % 52) / 4)\n",
    "\n",
    "print(season)"
   ]
  },
  {
   "cell_type": "markdown",
   "metadata": {
    "id": "1v-3KLDjVq73"
   },
   "source": [
    "## Model 1 - no price ladder or business rules\n",
    "#### DECISION VARIABLES:  prices in weeks 157 – 169  and demand in weeks 157 – 169 \n",
    "######  Prices; 𝑝_𝑡  for  t = 157, … , 169   and   𝑑_𝑡  for  t = 157, … , 169\n",
    "######  Demand; follows linearly additive model:\n",
    "#### MAXIMIZE 𝑅𝑒𝑣𝑒𝑛𝑢𝑒= 𝑝157𝑑157 + 𝑝158𝑑158 + 𝑝159𝑑159 + ... + 𝑝169𝑑169\n",
    "#### Objective function,  sales revenue in next quarter (weeks 157 – 169)\n",
    "\n",
    "1.   List item\n",
    "2.   List item\n",
    "\n",
    "\n",
    "#### SUBJECT TO CONSTRAINTS:\n",
    "#### Demand is characterized by our linearly additive model:\n",
    "#### 𝑑_𝑡 = 2181 − 2801*𝑝_𝑡 + 929*𝑝_(𝑡−1) + 728*𝑝_(𝑡−2) −555.430*𝑆𝑒𝑎𝑠𝑜𝑛2 +...+ 949.056*𝑆𝑒𝑎𝑠𝑜𝑛13\n"
   ]
  },
  {
   "cell_type": "code",
   "execution_count": 6,
   "metadata": {
    "colab": {
     "base_uri": "https://localhost:8080/"
    },
    "id": "D0_gNqWxVq74",
    "outputId": "b4f798f0-c6e7-44a0-8a49-0b2d667a2392"
   },
   "outputs": [
    {
     "name": "stdout",
     "output_type": "stream",
     "text": [
      "Restricted license - for non-production use only - expires 2026-11-23\n"
     ]
    }
   ],
   "source": [
    "# Create Gurobi model object - repository for all objects to be used in the model\n",
    "mod1 = gp.Model (\"price_model_1\")"
   ]
  },
  {
   "cell_type": "code",
   "execution_count": 7,
   "metadata": {
    "id": "-OhegsuyVq75"
   },
   "outputs": [],
   "source": [
    "# Define decision variables\n",
    "p = mod1.addVars(weeks, ub = 1)"
   ]
  },
  {
   "cell_type": "code",
   "execution_count": 8,
   "metadata": {
    "colab": {
     "base_uri": "https://localhost:8080/"
    },
    "id": "96-B16Ro6ojZ",
    "outputId": "48752889-d83e-4603-ab0d-c1104d712811"
   },
   "outputs": [
    {
     "data": {
      "text/plain": [
       "{157: <gurobi.Var *Awaiting Model Update*>,\n",
       " 158: <gurobi.Var *Awaiting Model Update*>,\n",
       " 159: <gurobi.Var *Awaiting Model Update*>,\n",
       " 160: <gurobi.Var *Awaiting Model Update*>,\n",
       " 161: <gurobi.Var *Awaiting Model Update*>,\n",
       " 162: <gurobi.Var *Awaiting Model Update*>,\n",
       " 163: <gurobi.Var *Awaiting Model Update*>,\n",
       " 165: <gurobi.Var *Awaiting Model Update*>,\n",
       " 166: <gurobi.Var *Awaiting Model Update*>,\n",
       " 167: <gurobi.Var *Awaiting Model Update*>,\n",
       " 168: <gurobi.Var *Awaiting Model Update*>,\n",
       " 169: <gurobi.Var *Awaiting Model Update*>}"
      ]
     },
     "execution_count": 8,
     "metadata": {},
     "output_type": "execute_result"
    }
   ],
   "source": [
    "p"
   ]
  },
  {
   "cell_type": "code",
   "execution_count": 11,
   "metadata": {
    "id": "f6IZXkdrVq76"
   },
   "outputs": [
    {
     "ename": "KeyError",
     "evalue": "164",
     "output_type": "error",
     "traceback": [
      "\u001b[31m---------------------------------------------------------------------------\u001b[39m",
      "\u001b[31mKeyError\u001b[39m                                  Traceback (most recent call last)",
      "\u001b[36mCell\u001b[39m\u001b[36m \u001b[39m\u001b[32mIn[11]\u001b[39m\u001b[32m, line 8\u001b[39m\n\u001b[32m      1\u001b[39m \u001b[38;5;66;03m# Set objective function\u001b[39;00m\n\u001b[32m      2\u001b[39m \u001b[38;5;66;03m# Example first 2 lines fully written out, \u001b[39;00m\n\u001b[32m      3\u001b[39m \u001b[38;5;66;03m# Short cut for writing out each line\u001b[39;00m\n\u001b[32m      4\u001b[39m \u001b[38;5;66;03m#  after the first 2 weeks, the remaining weeks[2:], are developed using the sum() and a for loop  (weeks 159 on...)\u001b[39;00m\n\u001b[32m      5\u001b[39m \u001b[38;5;66;03m#    price at week(wx) * demand (from linear demand fucntion at weekx)\u001b[39;00m\n\u001b[32m      6\u001b[39m obj_fn = mod1.setObjective(p[w1] * (intercept + p_coeff*p[w1] + p1_coeff*\u001b[32m1\u001b[39m + p2_coeff*\u001b[32m1\u001b[39m + season_coeff[season[w1]]) +\n\u001b[32m      7\u001b[39m                            p[w2] * (intercept + p_coeff*p[w2] + p1_coeff*p[w1] + p2_coeff*\u001b[32m1\u001b[39m + season_coeff[season[w2]]) +\n\u001b[32m----> \u001b[39m\u001b[32m8\u001b[39m                            \u001b[38;5;28;43msum\u001b[39;49m\u001b[43m(\u001b[49m\u001b[43mp\u001b[49m\u001b[43m[\u001b[49m\u001b[43mw\u001b[49m\u001b[43m]\u001b[49m\u001b[43m \u001b[49m\u001b[43m*\u001b[49m\u001b[43m \u001b[49m\u001b[43m(\u001b[49m\u001b[43mintercept\u001b[49m\u001b[43m \u001b[49m\u001b[43m+\u001b[49m\u001b[43m \u001b[49m\u001b[43mp_coeff\u001b[49m\u001b[43m*\u001b[49m\u001b[43mp\u001b[49m\u001b[43m[\u001b[49m\u001b[43mw\u001b[49m\u001b[43m]\u001b[49m\u001b[43m \u001b[49m\u001b[43m+\u001b[49m\u001b[43m \u001b[49m\u001b[43mp1_coeff\u001b[49m\u001b[43m*\u001b[49m\u001b[43mp\u001b[49m\u001b[43m[\u001b[49m\u001b[43mw\u001b[49m\u001b[43m-\u001b[49m\u001b[32;43m1\u001b[39;49m\u001b[43m]\u001b[49m\u001b[43m \u001b[49m\u001b[43m+\u001b[49m\u001b[43m \u001b[49m\u001b[43mp2_coeff\u001b[49m\u001b[43m*\u001b[49m\u001b[43mp\u001b[49m\u001b[43m[\u001b[49m\u001b[43mw\u001b[49m\u001b[43m-\u001b[49m\u001b[32;43m2\u001b[39;49m\u001b[43m]\u001b[49m\u001b[43m \u001b[49m\u001b[43m+\u001b[49m\u001b[43m \u001b[49m\u001b[43mseason_coeff\u001b[49m\u001b[43m[\u001b[49m\u001b[43mseason\u001b[49m\u001b[43m[\u001b[49m\u001b[43mw\u001b[49m\u001b[43m]\u001b[49m\u001b[43m]\u001b[49m\u001b[43m)\u001b[49m\u001b[43m \u001b[49m\n\u001b[32m      9\u001b[39m \u001b[43m                               \u001b[49m\u001b[38;5;28;43;01mfor\u001b[39;49;00m\u001b[43m \u001b[49m\u001b[43mw\u001b[49m\u001b[43m \u001b[49m\u001b[38;5;129;43;01min\u001b[39;49;00m\u001b[43m \u001b[49m\u001b[43mweeks\u001b[49m\u001b[43m[\u001b[49m\u001b[32;43m2\u001b[39;49m\u001b[43m:\u001b[49m\u001b[43m]\u001b[49m\u001b[43m \u001b[49m\u001b[38;5;28;43;01mif\u001b[39;49;00m\u001b[43m \u001b[49m\u001b[43mw\u001b[49m\u001b[43m \u001b[49m\u001b[38;5;129;43;01min\u001b[39;49;00m\u001b[43m \u001b[49m\u001b[43mseason\u001b[49m\u001b[43m)\u001b[49m,\n\u001b[32m     10\u001b[39m                           GRB.MAXIMIZE)\n",
      "\u001b[36mCell\u001b[39m\u001b[36m \u001b[39m\u001b[32mIn[11]\u001b[39m\u001b[32m, line 8\u001b[39m, in \u001b[36m<genexpr>\u001b[39m\u001b[34m(.0)\u001b[39m\n\u001b[32m      1\u001b[39m \u001b[38;5;66;03m# Set objective function\u001b[39;00m\n\u001b[32m      2\u001b[39m \u001b[38;5;66;03m# Example first 2 lines fully written out, \u001b[39;00m\n\u001b[32m      3\u001b[39m \u001b[38;5;66;03m# Short cut for writing out each line\u001b[39;00m\n\u001b[32m      4\u001b[39m \u001b[38;5;66;03m#  after the first 2 weeks, the remaining weeks[2:], are developed using the sum() and a for loop  (weeks 159 on...)\u001b[39;00m\n\u001b[32m      5\u001b[39m \u001b[38;5;66;03m#    price at week(wx) * demand (from linear demand fucntion at weekx)\u001b[39;00m\n\u001b[32m      6\u001b[39m obj_fn = mod1.setObjective(p[w1] * (intercept + p_coeff*p[w1] + p1_coeff*\u001b[32m1\u001b[39m + p2_coeff*\u001b[32m1\u001b[39m + season_coeff[season[w1]]) +\n\u001b[32m      7\u001b[39m                            p[w2] * (intercept + p_coeff*p[w2] + p1_coeff*p[w1] + p2_coeff*\u001b[32m1\u001b[39m + season_coeff[season[w2]]) +\n\u001b[32m----> \u001b[39m\u001b[32m8\u001b[39m                            \u001b[38;5;28msum\u001b[39m(p[w] * (intercept + p_coeff*p[w] + p1_coeff*\u001b[43mp\u001b[49m\u001b[43m[\u001b[49m\u001b[43mw\u001b[49m\u001b[43m-\u001b[49m\u001b[32;43m1\u001b[39;49m\u001b[43m]\u001b[49m + p2_coeff*p[w-\u001b[32m2\u001b[39m] + season_coeff[season[w]]) \n\u001b[32m      9\u001b[39m                                \u001b[38;5;28;01mfor\u001b[39;00m w \u001b[38;5;129;01min\u001b[39;00m weeks[\u001b[32m2\u001b[39m:] \u001b[38;5;28;01mif\u001b[39;00m w \u001b[38;5;129;01min\u001b[39;00m season),\n\u001b[32m     10\u001b[39m                           GRB.MAXIMIZE)\n",
      "\u001b[31mKeyError\u001b[39m: 164"
     ]
    }
   ],
   "source": [
    "# Set objective function\n",
    "# Example first 2 lines fully written out, \n",
    "# Short cut for writing out each line\n",
    "#  after the first 2 weeks, the remaining weeks[2:], are developed using the sum() and a for loop  (weeks 159 on...)\n",
    "#    price at week(wx) * demand (from linear demand fucntion at weekx)\n",
    "obj_fn = mod1.setObjective(p[w1] * (intercept + p_coeff*p[w1] + p1_coeff*1 + p2_coeff*1 + season_coeff[season[w1]]) +\n",
    "                           p[w2] * (intercept + p_coeff*p[w2] + p1_coeff*p[w1] + p2_coeff*1 + season_coeff[season[w2]]) +\n",
    "                           sum(p[w] * (intercept + p_coeff*p[w] + p1_coeff*p[w-1] + p2_coeff*p[w-2] + season_coeff[season[w]]) \n",
    "                               for w in weeks[2:] if w in season),\n",
    "                          GRB.MAXIMIZE)"
   ]
  },
  {
   "cell_type": "code",
   "execution_count": null,
   "metadata": {
    "colab": {
     "base_uri": "https://localhost:8080/"
    },
    "id": "v-DlADDxVq77",
    "outputId": "6084590f-496e-4646-cffc-ebb586b9b942",
    "scrolled": false
   },
   "outputs": [],
   "source": [
    "mod1.optimize()"
   ]
  },
  {
   "cell_type": "code",
   "execution_count": null,
   "metadata": {
    "colab": {
     "base_uri": "https://localhost:8080/"
    },
    "id": "QQd9dN2sGeZ6",
    "outputId": "eb45d8d9-5e45-4db7-fe69-ae8b14f1de21"
   },
   "outputs": [],
   "source": [
    "p[157] # to see 1st prediction"
   ]
  },
  {
   "cell_type": "code",
   "execution_count": null,
   "metadata": {
    "colab": {
     "base_uri": "https://localhost:8080/"
    },
    "id": "h7Pvu-TYKNAh",
    "outputId": "b9ee44c3-6331-4233-defd-8384003f1b49"
   },
   "outputs": [],
   "source": [
    "p[158] # to see 2nd prediction"
   ]
  },
  {
   "cell_type": "code",
   "execution_count": null,
   "metadata": {
    "colab": {
     "base_uri": "https://localhost:8080/",
     "height": 457
    },
    "id": "wa29FKtVVq77",
    "outputId": "5beb7570-d49c-46ba-bf51-5974d95bdb92",
    "scrolled": true
   },
   "outputs": [],
   "source": [
    "# to see all predictions and save to a dataframe\n",
    "df1 = pd.DataFrame(data = None, index = weeks, columns = [\"price\"])\n",
    "for w in weeks:\n",
    "    df1.loc[w,\"price\"] = p[w].x       \n",
    "df1    "
   ]
  },
  {
   "cell_type": "code",
   "execution_count": null,
   "metadata": {
    "colab": {
     "base_uri": "https://localhost:8080/",
     "height": 542
    },
    "id": "rmFl8oRrVq78",
    "outputId": "73c03a5f-697e-4993-a089-83d39584eb2a",
    "scrolled": false
   },
   "outputs": [],
   "source": [
    "fig = px.line(df1, x=df1.index, y='price', markers=True)\n",
    "fig.update_layout(plot_bgcolor= \"white\", xaxis_title= \"week\")\n",
    "fig.update_traces(line_color= \"red\")\n",
    "fig.show()"
   ]
  },
  {
   "cell_type": "markdown",
   "metadata": {
    "id": "n6ITcV5mVq79"
   },
   "source": [
    "## Model 2 - no business rules + price ladder"
   ]
  },
  {
   "cell_type": "code",
   "execution_count": null,
   "metadata": {
    "id": "dAzO96GmVq70"
   },
   "outputs": [],
   "source": [
    "p_ladder = [1.00, 0.95, 0.85, 0.75, 0.60, 0.50] # updated price ladder per business rule"
   ]
  },
  {
   "cell_type": "code",
   "execution_count": null,
   "metadata": {
    "id": "r0TYRrOMVq79"
   },
   "outputs": [],
   "source": [
    "# Create model object\n",
    "mod2 = gp.Model (\"price_model_2\")"
   ]
  },
  {
   "cell_type": "code",
   "execution_count": null,
   "metadata": {
    "id": "jnDlsa-DVq7-"
   },
   "outputs": [],
   "source": [
    "# Define decision variables which includes ladder constraint\n",
    "p = mod2.addVars(weeks)\n",
    "x = mod2.addVars(weeks, p_ladder, vtype= GRB.BINARY)"
   ]
  },
  {
   "cell_type": "code",
   "execution_count": null,
   "metadata": {
    "id": "M4bRjnjOVq7-"
   },
   "outputs": [],
   "source": [
    "# Set objective function\n",
    "obj_fn = mod2.setObjective(p[w1] * (intercept + p_coeff*p[w1] + p1_coeff*1 + p2_coeff*1 + season_coeff[season[w1]]) +\n",
    "                           p[w2] * (intercept + p_coeff*p[w2] + p1_coeff*p[w1] + p2_coeff*1 + season_coeff[season[w2]]) +\n",
    "                           sum(p[w] * (intercept + p_coeff*p[w] + p1_coeff*p[w-1] + p2_coeff*p[w-2] + season_coeff[season[w]]) for w in weeks[2:]),\n",
    "                          GRB.MAXIMIZE)"
   ]
  },
  {
   "cell_type": "code",
   "execution_count": null,
   "metadata": {
    "id": "WFj0fvLhVq7_"
   },
   "outputs": [],
   "source": [
    "# Select price ladder value\n",
    "constr_select_ladder = mod2.addConstrs(sum(x[w,k] for k in p_ladder) == 1 for w in weeks)\n",
    "# Select price\n",
    "constr_select_price = mod2.addConstrs(p[w] == sum(k * x[w,k] for k in p_ladder) for w in weeks)"
   ]
  },
  {
   "cell_type": "code",
   "execution_count": null,
   "metadata": {
    "colab": {
     "base_uri": "https://localhost:8080/"
    },
    "id": "zqzCWBuDVq7_",
    "outputId": "5d7d2255-5819-438d-dd43-4de427dd8f81",
    "scrolled": false
   },
   "outputs": [],
   "source": [
    "mod2.optimize()"
   ]
  },
  {
   "cell_type": "code",
   "execution_count": null,
   "metadata": {
    "colab": {
     "base_uri": "https://localhost:8080/",
     "height": 457
    },
    "id": "meacqDXmVq8A",
    "outputId": "0ba54c44-9079-4867-dda5-9c16ff73488e"
   },
   "outputs": [],
   "source": [
    "df2 = pd.DataFrame(data = None, index = weeks, columns = [\"price\"])\n",
    "for w in weeks:\n",
    "    df2.loc[w,\"price\"] = p[w].x       \n",
    "df2    "
   ]
  },
  {
   "cell_type": "code",
   "execution_count": null,
   "metadata": {
    "colab": {
     "base_uri": "https://localhost:8080/",
     "height": 542
    },
    "id": "h_WePGpsVq8A",
    "outputId": "2e08e0f7-5820-47bd-deff-266961ccbaf9",
    "scrolled": false
   },
   "outputs": [],
   "source": [
    "fig = px.line(df2, x=df2.index, y='price', markers=True)\n",
    "fig.update_layout(plot_bgcolor= \"white\", xaxis_title= \"week\")\n",
    "fig.update_traces(line_color= \"red\")\n",
    "fig.show()"
   ]
  },
  {
   "cell_type": "markdown",
   "metadata": {
    "id": "aIgf03A1Vq8B"
   },
   "source": [
    "## Model 3 - at most 4 promotions"
   ]
  },
  {
   "cell_type": "code",
   "execution_count": null,
   "metadata": {
    "id": "rd9duLv_Vq8B"
   },
   "outputs": [],
   "source": [
    "# Create model object\n",
    "mod3 = gp.Model (\"price_model_3\")"
   ]
  },
  {
   "cell_type": "code",
   "execution_count": null,
   "metadata": {
    "id": "kMQ7TClXVq8B"
   },
   "outputs": [],
   "source": [
    "# Define decision variables\n",
    "p = mod3.addVars(weeks)\n",
    "x = mod3.addVars(weeks, p_ladder, vtype= GRB.BINARY)"
   ]
  },
  {
   "cell_type": "code",
   "execution_count": null,
   "metadata": {
    "id": "oriXQlHyVq8C"
   },
   "outputs": [],
   "source": [
    "# Set objective function\n",
    "obj_fn = mod3.setObjective(p[w1] * (intercept + p_coeff*p[w1] + p1_coeff*1 + p2_coeff*1 + season_coeff[season[w1]]) +\n",
    "                           p[w2] * (intercept + p_coeff*p[w2] + p1_coeff*p[w1] + p2_coeff*1 + season_coeff[season[w2]]) +\n",
    "                           sum(p[w] * (intercept + p_coeff*p[w] + p1_coeff*p[w-1] + p2_coeff*p[w-2] + season_coeff[season[w]]) for w in weeks[2:]),\n",
    "                          GRB.MAXIMIZE)"
   ]
  },
  {
   "cell_type": "code",
   "execution_count": null,
   "metadata": {
    "id": "BP-RLglcVq8C"
   },
   "outputs": [],
   "source": [
    "# Select price ladder value\n",
    "constr_select_ladder = mod3.addConstrs(sum(x[w,k] for k in p_ladder) == 1 for w in weeks)\n",
    "# Select price\n",
    "constr_select_price = mod3.addConstrs(p[w] == sum(k * x[w,k] for k in p_ladder) for w in weeks)\n",
    "# At most 4 promotions\n",
    "constr_4_promo = mod3.addConstr(sum(x[w,k] for k in p_ladder[1:] for w in weeks) <= 4)"
   ]
  },
  {
   "cell_type": "code",
   "execution_count": null,
   "metadata": {
    "colab": {
     "base_uri": "https://localhost:8080/"
    },
    "id": "fmgq1APrVq8D",
    "outputId": "8adf5402-7d19-4386-fe49-fa10ebf3c848",
    "scrolled": false
   },
   "outputs": [],
   "source": [
    "mod3.optimize()"
   ]
  },
  {
   "cell_type": "code",
   "execution_count": null,
   "metadata": {
    "colab": {
     "base_uri": "https://localhost:8080/",
     "height": 457
    },
    "id": "-Q-IFbkxVq8D",
    "outputId": "558ab3ed-c432-4f68-a505-5eae62905945",
    "scrolled": true
   },
   "outputs": [],
   "source": [
    "df3 = pd.DataFrame(data = None, index = weeks, columns = [\"price\"])\n",
    "for w in weeks:\n",
    "    df3.loc[w,\"price\"] = p[w].x       \n",
    "df3    "
   ]
  },
  {
   "cell_type": "code",
   "execution_count": null,
   "metadata": {
    "colab": {
     "base_uri": "https://localhost:8080/",
     "height": 542
    },
    "id": "7vFZKYElVq8E",
    "outputId": "89f27622-8de5-4bb7-fe04-00ed867f0a2c",
    "scrolled": false
   },
   "outputs": [],
   "source": [
    "fig = px.line(df3, x=df3.index, y='price', markers=True)\n",
    "fig.update_layout(plot_bgcolor= \"white\", xaxis_title= \"week\")\n",
    "fig.update_traces(line_color= \"red\")\n",
    "fig.show()"
   ]
  },
  {
   "cell_type": "markdown",
   "metadata": {
    "id": "X61Rq6pOVq8F"
   },
   "source": [
    "## Model 4 - full model"
   ]
  },
  {
   "cell_type": "code",
   "execution_count": null,
   "metadata": {
    "id": "oI2p2V-BVq8F"
   },
   "outputs": [],
   "source": [
    "# Create model object\n",
    "mod4 = gp.Model (\"price_model_4\")"
   ]
  },
  {
   "cell_type": "code",
   "execution_count": null,
   "metadata": {
    "id": "wD5YlulKVq8G"
   },
   "outputs": [],
   "source": [
    "# Define decision variables\n",
    "p = mod4.addVars(weeks)\n",
    "x = mod4.addVars(weeks, p_ladder, vtype= GRB.BINARY)"
   ]
  },
  {
   "cell_type": "code",
   "execution_count": null,
   "metadata": {
    "id": "YR-MWPOHVq8G"
   },
   "outputs": [],
   "source": [
    "# Set objective function\n",
    "obj_fn = mod4.setObjective(p[w1] * (intercept + p_coeff*p[w1] + p1_coeff*1 + p2_coeff*1 + season_coeff[season[w1]]) +\n",
    "                           p[w2] * (intercept + p_coeff*p[w2] + p1_coeff*p[w1] + p2_coeff*1 + season_coeff[season[w2]]) +\n",
    "                           sum(p[w] * (intercept + p_coeff*p[w] + p1_coeff*p[w-1] + p2_coeff*p[w-2] + season_coeff[season[w]]) for w in weeks[2:]),\n",
    "                          GRB.MAXIMIZE)"
   ]
  },
  {
   "cell_type": "code",
   "execution_count": null,
   "metadata": {
    "id": "_Jp_l6QOVq8G"
   },
   "outputs": [],
   "source": [
    "# Select price ladder value\n",
    "constr_select_ladder = mod4.addConstrs(sum(x[w,k] for k in p_ladder) == 1 for w in weeks)\n",
    "# Select price\n",
    "constr_select_price = mod4.addConstrs(p[w] == sum(k * x[w,k] for k in p_ladder) for w in weeks)\n",
    "# At most 4 promotions\n",
    "constr_4_promo = mod4.addConstr(sum(x[w,k] for k in p_ladder[1:] for w in weeks) <= 4)\n",
    "# No consecutive promotions\n",
    "constr_no_consec_promo = mod4.addConstrs((sum(x[w,k] for k in p_ladder[1:]) + sum(x[w+1,k] for k in p_ladder[1:]) <= 1) for w in weeks[:-1])"
   ]
  }
 ],
 "metadata": {
  "colab": {
   "provenance": []
  },
  "finalized": {
   "timestamp": 1649615552624,
   "trusted": true
  },
  "kernelspec": {
   "display_name": "eneas",
   "language": "python",
   "name": "python3"
  },
  "language_info": {
   "codemirror_mode": {
    "name": "ipython",
    "version": 3
   },
   "file_extension": ".py",
   "mimetype": "text/x-python",
   "name": "python",
   "nbconvert_exporter": "python",
   "pygments_lexer": "ipython3",
   "version": "3.13.2"
  }
 },
 "nbformat": 4,
 "nbformat_minor": 0
}
