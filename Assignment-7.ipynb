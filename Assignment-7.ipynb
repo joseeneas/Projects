{
 "cells": [
  {
   "cell_type": "markdown",
   "metadata": {
    "deletable": false,
    "editable": false,
    "nbgrader": {
     "checksum": "4e98c24511ffa9640bea98e5fe1ed6cd",
     "grade": false,
     "grade_id": "cell-0eea7231a392bafd",
     "locked": true,
     "schema_version": 1,
     "solution": false
    }
   },
   "source": [
    "### Start by importing all necessary packages"
   ]
  },
  {
   "cell_type": "code",
   "execution_count": 1,
   "metadata": {
    "deletable": false,
    "editable": false,
    "nbgrader": {
     "checksum": "b8231d0511feadf3d0e33fc0023a0ca0",
     "grade": false,
     "grade_id": "cell-4c649a8d50c23efc",
     "locked": true,
     "schema_version": 1,
     "solution": false
    }
   },
   "outputs": [],
   "source": [
    "import warnings\n",
    "import numpy as np                                   # type: ignore\n",
    "import seaborn as sns                                # type: ignore\n",
    "import pandas as pd                                  # type: ignore\n",
    "import matplotlib.pyplot as plt                      # type: ignore\n",
    "import statsmodels.api as sm                         # type: ignore\n",
    "from statsmodels.formula.api import ols              # type: ignore\n",
    "from statsmodels.formula.api import logit            # type: ignore\n",
    "from scipy.stats import norm                         # type: ignore\n",
    "from sklearn.model_selection import train_test_split # type: ignore\n",
    "from sklearn.metrics import ConfusionMatrixDisplay   # type: ignore\n",
    "from sklearn.metrics import confusion_matrix         # type: ignore\n",
    "from sklearn.metrics import accuracy_score           # type: ignore\n",
    "from pandas.errors import SettingWithCopyWarning     # type: ignore\n",
    "warnings.simplefilter(action=\"ignore\", category=SettingWithCopyWarning)"
   ]
  },
  {
   "cell_type": "markdown",
   "metadata": {
    "deletable": false,
    "editable": false,
    "nbgrader": {
     "checksum": "94fab148ca809ef56ee205970b902721",
     "grade": false,
     "grade_id": "cell-8d43dfabd32d826b",
     "locked": true,
     "schema_version": 1,
     "solution": false
    }
   },
   "source": [
    "### Read the loans.csv file into a pandas dataframe called \"df\""
   ]
  },
  {
   "cell_type": "code",
   "execution_count": 2,
   "metadata": {
    "deletable": false,
    "nbgrader": {
     "checksum": "10c67e6fe06913eead60b7ee409941ae",
     "grade": false,
     "grade_id": "cell-7a2ff9d82ab6874e",
     "locked": false,
     "schema_version": 1,
     "solution": true
    }
   },
   "outputs": [],
   "source": [
    "# Read the file loan.csv into a Pandas dataframe object, df. \n",
    "df = pd.read_csv(\"files/loan.csv\")"
   ]
  },
  {
   "cell_type": "markdown",
   "metadata": {
    "deletable": false,
    "editable": false,
    "nbgrader": {
     "checksum": "28377651bec908db0893504811a687ca",
     "grade": false,
     "grade_id": "cell-812d507604af54f6",
     "locked": true,
     "schema_version": 1,
     "solution": false
    }
   },
   "source": [
    "### Extract the two columns you will be focusing on \"default\" and \"fico_score\" "
   ]
  },
  {
   "cell_type": "code",
   "execution_count": 3,
   "metadata": {
    "deletable": false,
    "nbgrader": {
     "checksum": "1ae3e291f2f1669857acec62fdeb80bc",
     "grade": false,
     "grade_id": "cell-7fc62c81db0f40bd",
     "locked": false,
     "schema_version": 1,
     "solution": true
    }
   },
   "outputs": [],
   "source": [
    "#Extract everything besided \"default\" and \"fico_score\" from the dataframe\n",
    "df = df.drop([\"installment\"], axis=1)\n",
    "df = df.drop([\"log_income\"], axis=1)\n",
    "df = df.drop([\"rev_balance\"], axis=1)\n",
    "df = df.drop([\"inquiries\"], axis=1)\n",
    "df = df.drop([\"records\"], axis=1)"
   ]
  },
  {
   "cell_type": "markdown",
   "metadata": {
    "deletable": false,
    "editable": false,
    "nbgrader": {
     "checksum": "d1030488d91442da983c453a5be8f36e",
     "grade": false,
     "grade_id": "cell-e2c044f3bf96f669",
     "locked": true,
     "schema_version": 1,
     "solution": false
    }
   },
   "source": [
    "### Examine the data"
   ]
  },
  {
   "cell_type": "code",
   "execution_count": 4,
   "metadata": {
    "deletable": false,
    "editable": false,
    "nbgrader": {
     "checksum": "0d7beb38a3812cb1858b97aad73dd6de",
     "grade": false,
     "grade_id": "cell-dc5f9fd9493a0ad3",
     "locked": true,
     "schema_version": 1,
     "solution": false
    }
   },
   "outputs": [
    {
     "data": {
      "application/vnd.microsoft.datawrangler.viewer.v0+json": {
       "columns": [
        {
         "name": "index",
         "rawType": "int64",
         "type": "integer"
        },
        {
         "name": "default",
         "rawType": "int64",
         "type": "integer"
        },
        {
         "name": "fico_score",
         "rawType": "int64",
         "type": "integer"
        }
       ],
       "conversionMethod": "pd.DataFrame",
       "ref": "621d4be4-8992-4ec7-8ff0-065ba193cdda",
       "rows": [
        [
         "0",
         "0",
         "737"
        ],
        [
         "1",
         "0",
         "707"
        ],
        [
         "2",
         "0",
         "682"
        ],
        [
         "3",
         "0",
         "712"
        ],
        [
         "4",
         "0",
         "667"
        ],
        [
         "5",
         "0",
         "727"
        ]
       ],
       "shape": {
        "columns": 2,
        "rows": 6
       }
      },
      "text/html": [
       "<div>\n",
       "<style scoped>\n",
       "    .dataframe tbody tr th:only-of-type {\n",
       "        vertical-align: middle;\n",
       "    }\n",
       "\n",
       "    .dataframe tbody tr th {\n",
       "        vertical-align: top;\n",
       "    }\n",
       "\n",
       "    .dataframe thead th {\n",
       "        text-align: right;\n",
       "    }\n",
       "</style>\n",
       "<table border=\"1\" class=\"dataframe\">\n",
       "  <thead>\n",
       "    <tr style=\"text-align: right;\">\n",
       "      <th></th>\n",
       "      <th>default</th>\n",
       "      <th>fico_score</th>\n",
       "    </tr>\n",
       "  </thead>\n",
       "  <tbody>\n",
       "    <tr>\n",
       "      <th>0</th>\n",
       "      <td>0</td>\n",
       "      <td>737</td>\n",
       "    </tr>\n",
       "    <tr>\n",
       "      <th>1</th>\n",
       "      <td>0</td>\n",
       "      <td>707</td>\n",
       "    </tr>\n",
       "    <tr>\n",
       "      <th>2</th>\n",
       "      <td>0</td>\n",
       "      <td>682</td>\n",
       "    </tr>\n",
       "    <tr>\n",
       "      <th>3</th>\n",
       "      <td>0</td>\n",
       "      <td>712</td>\n",
       "    </tr>\n",
       "    <tr>\n",
       "      <th>4</th>\n",
       "      <td>0</td>\n",
       "      <td>667</td>\n",
       "    </tr>\n",
       "    <tr>\n",
       "      <th>5</th>\n",
       "      <td>0</td>\n",
       "      <td>727</td>\n",
       "    </tr>\n",
       "  </tbody>\n",
       "</table>\n",
       "</div>"
      ],
      "text/plain": [
       "   default  fico_score\n",
       "0        0         737\n",
       "1        0         707\n",
       "2        0         682\n",
       "3        0         712\n",
       "4        0         667\n",
       "5        0         727"
      ]
     },
     "execution_count": 4,
     "metadata": {},
     "output_type": "execute_result"
    }
   ],
   "source": [
    "df.head(6)"
   ]
  },
  {
   "cell_type": "code",
   "execution_count": 5,
   "metadata": {
    "deletable": false,
    "editable": false,
    "nbgrader": {
     "checksum": "a406410eea13c08906197e9c02b0b31e",
     "grade": false,
     "grade_id": "cell-eabc21b7eec6de29",
     "locked": true,
     "schema_version": 1,
     "solution": false
    }
   },
   "outputs": [
    {
     "data": {
      "application/vnd.microsoft.datawrangler.viewer.v0+json": {
       "columns": [
        {
         "name": "index",
         "rawType": "int64",
         "type": "integer"
        },
        {
         "name": "default",
         "rawType": "int64",
         "type": "integer"
        },
        {
         "name": "fico_score",
         "rawType": "int64",
         "type": "integer"
        }
       ],
       "conversionMethod": "pd.DataFrame",
       "ref": "4c8133c5-cd9f-47ab-a48e-fc76c96ab65e",
       "rows": [
        [
         "9510",
         "1",
         "662"
        ],
        [
         "9511",
         "1",
         "672"
        ],
        [
         "9512",
         "1",
         "722"
        ],
        [
         "9513",
         "1",
         "687"
        ],
        [
         "9514",
         "1",
         "692"
        ],
        [
         "9515",
         "1",
         "732"
        ]
       ],
       "shape": {
        "columns": 2,
        "rows": 6
       }
      },
      "text/html": [
       "<div>\n",
       "<style scoped>\n",
       "    .dataframe tbody tr th:only-of-type {\n",
       "        vertical-align: middle;\n",
       "    }\n",
       "\n",
       "    .dataframe tbody tr th {\n",
       "        vertical-align: top;\n",
       "    }\n",
       "\n",
       "    .dataframe thead th {\n",
       "        text-align: right;\n",
       "    }\n",
       "</style>\n",
       "<table border=\"1\" class=\"dataframe\">\n",
       "  <thead>\n",
       "    <tr style=\"text-align: right;\">\n",
       "      <th></th>\n",
       "      <th>default</th>\n",
       "      <th>fico_score</th>\n",
       "    </tr>\n",
       "  </thead>\n",
       "  <tbody>\n",
       "    <tr>\n",
       "      <th>9510</th>\n",
       "      <td>1</td>\n",
       "      <td>662</td>\n",
       "    </tr>\n",
       "    <tr>\n",
       "      <th>9511</th>\n",
       "      <td>1</td>\n",
       "      <td>672</td>\n",
       "    </tr>\n",
       "    <tr>\n",
       "      <th>9512</th>\n",
       "      <td>1</td>\n",
       "      <td>722</td>\n",
       "    </tr>\n",
       "    <tr>\n",
       "      <th>9513</th>\n",
       "      <td>1</td>\n",
       "      <td>687</td>\n",
       "    </tr>\n",
       "    <tr>\n",
       "      <th>9514</th>\n",
       "      <td>1</td>\n",
       "      <td>692</td>\n",
       "    </tr>\n",
       "    <tr>\n",
       "      <th>9515</th>\n",
       "      <td>1</td>\n",
       "      <td>732</td>\n",
       "    </tr>\n",
       "  </tbody>\n",
       "</table>\n",
       "</div>"
      ],
      "text/plain": [
       "      default  fico_score\n",
       "9510        1         662\n",
       "9511        1         672\n",
       "9512        1         722\n",
       "9513        1         687\n",
       "9514        1         692\n",
       "9515        1         732"
      ]
     },
     "execution_count": 5,
     "metadata": {},
     "output_type": "execute_result"
    }
   ],
   "source": [
    "df.tail(6)"
   ]
  },
  {
   "cell_type": "markdown",
   "metadata": {
    "deletable": false,
    "editable": false,
    "nbgrader": {
     "checksum": "849bd2a6774599a2600c226f60a45197",
     "grade": false,
     "grade_id": "cell-2d01e0ca39de747c",
     "locked": true,
     "schema_version": 1,
     "solution": false
    }
   },
   "source": [
    "### use df.loc[] to grab all the columns where default = 1/ there was a default. Assign this to \"default_df\""
   ]
  },
  {
   "cell_type": "code",
   "execution_count": 6,
   "metadata": {
    "deletable": false,
    "nbgrader": {
     "checksum": "beeba7d25f69b933c43265b414543db4",
     "grade": false,
     "grade_id": "cell-44247560c82c6e58",
     "locked": false,
     "schema_version": 1,
     "solution": true
    }
   },
   "outputs": [
    {
     "name": "stdout",
     "output_type": "stream",
     "text": [
      "\n",
      "Result dataframe :\n",
      "       default  fico_score\n",
      "6           1         667\n",
      "7           1         722\n",
      "57          1         682\n",
      "65          1         687\n",
      "73          1         677\n",
      "...       ...         ...\n",
      "9511        1         672\n",
      "9512        1         722\n",
      "9513        1         687\n",
      "9514        1         692\n",
      "9515        1         732\n",
      "\n",
      "[1521 rows x 2 columns]\n"
     ]
    }
   ],
   "source": [
    "# Use df.loc[] to extract all rows where a loan defaulted.\n",
    "# Set the resulting dataset to default_df to be displayed\n",
    "default_df = df.loc[df['default'] == 1]\n",
    "print('\\nResult dataframe :\\n', default_df)"
   ]
  },
  {
   "cell_type": "markdown",
   "metadata": {
    "deletable": false,
    "editable": false,
    "nbgrader": {
     "checksum": "19d11637ad1407d4381417ff58b6a441",
     "grade": false,
     "grade_id": "cell-b46e83057872fb0a",
     "locked": true,
     "schema_version": 1,
     "solution": false
    }
   },
   "source": [
    "### Use df.loc[] to grab all rows where a loan did not default and assign the output to no_default_df. "
   ]
  },
  {
   "cell_type": "code",
   "execution_count": 7,
   "metadata": {
    "deletable": false,
    "nbgrader": {
     "checksum": "d341c4c5a060c9524a0acff8f288c9e0",
     "grade": false,
     "grade_id": "cell-151d20fdc4c28b7a",
     "locked": false,
     "schema_version": 1,
     "solution": true
    }
   },
   "outputs": [
    {
     "name": "stdout",
     "output_type": "stream",
     "text": [
      "\n",
      "Result dataframe :\n",
      "       default  fico_score\n",
      "0           0         737\n",
      "1           0         707\n",
      "2           0         682\n",
      "3           0         712\n",
      "4           0         667\n",
      "...       ...         ...\n",
      "9499        0         722\n",
      "9500        0         717\n",
      "9502        0         687\n",
      "9505        0         687\n",
      "9506        0         667\n",
      "\n",
      "[7995 rows x 2 columns]\n"
     ]
    }
   ],
   "source": [
    "#Use df.loc[] to extract all rows where a loan did not default.\n",
    "# Set the resulting dataset to no_default_df to be displayed\n",
    "no_default_df = df.loc[df['default'] == 0]\n",
    "print('\\nResult dataframe :\\n', no_default_df)"
   ]
  },
  {
   "cell_type": "markdown",
   "metadata": {
    "deletable": false,
    "editable": false,
    "nbgrader": {
     "checksum": "a04e77d287c5479001cbc9e3e7d0b6e5",
     "grade": false,
     "grade_id": "cell-6e2910d12ecef175",
     "locked": true,
     "schema_version": 1,
     "solution": false
    }
   },
   "source": [
    "### Examine the resulting dataframes "
   ]
  },
  {
   "cell_type": "code",
   "execution_count": 8,
   "metadata": {
    "deletable": false,
    "editable": false,
    "nbgrader": {
     "checksum": "fd774ecb7404ecfe0b530baa9ae302cb",
     "grade": false,
     "grade_id": "cell-7af659b916856b12",
     "locked": true,
     "schema_version": 1,
     "solution": false
    }
   },
   "outputs": [
    {
     "data": {
      "application/vnd.microsoft.datawrangler.viewer.v0+json": {
       "columns": [
        {
         "name": "index",
         "rawType": "object",
         "type": "string"
        },
        {
         "name": "default",
         "rawType": "float64",
         "type": "float"
        },
        {
         "name": "fico_score",
         "rawType": "float64",
         "type": "float"
        }
       ],
       "conversionMethod": "pd.DataFrame",
       "ref": "632a647c-16a4-47ee-8e54-65dd19c97acd",
       "rows": [
        [
         "count",
         "7995.0",
         "7995.0"
        ],
        [
         "mean",
         "0.0",
         "713.307066916823"
        ],
        [
         "std",
         "0.0",
         "38.20994823272971"
        ],
        [
         "min",
         "0.0",
         "612.0"
        ],
        [
         "25%",
         "0.0",
         "682.0"
        ],
        [
         "50%",
         "0.0",
         "707.0"
        ],
        [
         "75%",
         "0.0",
         "742.0"
        ],
        [
         "max",
         "0.0",
         "827.0"
        ]
       ],
       "shape": {
        "columns": 2,
        "rows": 8
       }
      },
      "text/html": [
       "<div>\n",
       "<style scoped>\n",
       "    .dataframe tbody tr th:only-of-type {\n",
       "        vertical-align: middle;\n",
       "    }\n",
       "\n",
       "    .dataframe tbody tr th {\n",
       "        vertical-align: top;\n",
       "    }\n",
       "\n",
       "    .dataframe thead th {\n",
       "        text-align: right;\n",
       "    }\n",
       "</style>\n",
       "<table border=\"1\" class=\"dataframe\">\n",
       "  <thead>\n",
       "    <tr style=\"text-align: right;\">\n",
       "      <th></th>\n",
       "      <th>default</th>\n",
       "      <th>fico_score</th>\n",
       "    </tr>\n",
       "  </thead>\n",
       "  <tbody>\n",
       "    <tr>\n",
       "      <th>count</th>\n",
       "      <td>7995.0</td>\n",
       "      <td>7995.000000</td>\n",
       "    </tr>\n",
       "    <tr>\n",
       "      <th>mean</th>\n",
       "      <td>0.0</td>\n",
       "      <td>713.307067</td>\n",
       "    </tr>\n",
       "    <tr>\n",
       "      <th>std</th>\n",
       "      <td>0.0</td>\n",
       "      <td>38.209948</td>\n",
       "    </tr>\n",
       "    <tr>\n",
       "      <th>min</th>\n",
       "      <td>0.0</td>\n",
       "      <td>612.000000</td>\n",
       "    </tr>\n",
       "    <tr>\n",
       "      <th>25%</th>\n",
       "      <td>0.0</td>\n",
       "      <td>682.000000</td>\n",
       "    </tr>\n",
       "    <tr>\n",
       "      <th>50%</th>\n",
       "      <td>0.0</td>\n",
       "      <td>707.000000</td>\n",
       "    </tr>\n",
       "    <tr>\n",
       "      <th>75%</th>\n",
       "      <td>0.0</td>\n",
       "      <td>742.000000</td>\n",
       "    </tr>\n",
       "    <tr>\n",
       "      <th>max</th>\n",
       "      <td>0.0</td>\n",
       "      <td>827.000000</td>\n",
       "    </tr>\n",
       "  </tbody>\n",
       "</table>\n",
       "</div>"
      ],
      "text/plain": [
       "       default   fico_score\n",
       "count   7995.0  7995.000000\n",
       "mean       0.0   713.307067\n",
       "std        0.0    38.209948\n",
       "min        0.0   612.000000\n",
       "25%        0.0   682.000000\n",
       "50%        0.0   707.000000\n",
       "75%        0.0   742.000000\n",
       "max        0.0   827.000000"
      ]
     },
     "execution_count": 8,
     "metadata": {},
     "output_type": "execute_result"
    }
   ],
   "source": [
    "no_default_df.describe()"
   ]
  },
  {
   "cell_type": "code",
   "execution_count": 9,
   "metadata": {
    "deletable": false,
    "editable": false,
    "nbgrader": {
     "checksum": "cd919c9c9bc64a40002a294315fa0dc5",
     "grade": false,
     "grade_id": "cell-031ede4b673f8885",
     "locked": true,
     "schema_version": 1,
     "solution": false
    }
   },
   "outputs": [
    {
     "data": {
      "application/vnd.microsoft.datawrangler.viewer.v0+json": {
       "columns": [
        {
         "name": "index",
         "rawType": "object",
         "type": "string"
        },
        {
         "name": "default",
         "rawType": "float64",
         "type": "float"
        },
        {
         "name": "fico_score",
         "rawType": "float64",
         "type": "float"
        }
       ],
       "conversionMethod": "pd.DataFrame",
       "ref": "01c30c10-00bd-4ae4-aaa3-1bc827c00ee1",
       "rows": [
        [
         "count",
         "1521.0",
         "1521.0"
        ],
        [
         "mean",
         "1.0",
         "697.8842866535174"
        ],
        [
         "std",
         "0.0",
         "33.764233201981256"
        ],
        [
         "min",
         "1.0",
         "617.0"
        ],
        [
         "25%",
         "1.0",
         "672.0"
        ],
        [
         "50%",
         "1.0",
         "692.0"
        ],
        [
         "75%",
         "1.0",
         "717.0"
        ],
        [
         "max",
         "1.0",
         "822.0"
        ]
       ],
       "shape": {
        "columns": 2,
        "rows": 8
       }
      },
      "text/html": [
       "<div>\n",
       "<style scoped>\n",
       "    .dataframe tbody tr th:only-of-type {\n",
       "        vertical-align: middle;\n",
       "    }\n",
       "\n",
       "    .dataframe tbody tr th {\n",
       "        vertical-align: top;\n",
       "    }\n",
       "\n",
       "    .dataframe thead th {\n",
       "        text-align: right;\n",
       "    }\n",
       "</style>\n",
       "<table border=\"1\" class=\"dataframe\">\n",
       "  <thead>\n",
       "    <tr style=\"text-align: right;\">\n",
       "      <th></th>\n",
       "      <th>default</th>\n",
       "      <th>fico_score</th>\n",
       "    </tr>\n",
       "  </thead>\n",
       "  <tbody>\n",
       "    <tr>\n",
       "      <th>count</th>\n",
       "      <td>1521.0</td>\n",
       "      <td>1521.000000</td>\n",
       "    </tr>\n",
       "    <tr>\n",
       "      <th>mean</th>\n",
       "      <td>1.0</td>\n",
       "      <td>697.884287</td>\n",
       "    </tr>\n",
       "    <tr>\n",
       "      <th>std</th>\n",
       "      <td>0.0</td>\n",
       "      <td>33.764233</td>\n",
       "    </tr>\n",
       "    <tr>\n",
       "      <th>min</th>\n",
       "      <td>1.0</td>\n",
       "      <td>617.000000</td>\n",
       "    </tr>\n",
       "    <tr>\n",
       "      <th>25%</th>\n",
       "      <td>1.0</td>\n",
       "      <td>672.000000</td>\n",
       "    </tr>\n",
       "    <tr>\n",
       "      <th>50%</th>\n",
       "      <td>1.0</td>\n",
       "      <td>692.000000</td>\n",
       "    </tr>\n",
       "    <tr>\n",
       "      <th>75%</th>\n",
       "      <td>1.0</td>\n",
       "      <td>717.000000</td>\n",
       "    </tr>\n",
       "    <tr>\n",
       "      <th>max</th>\n",
       "      <td>1.0</td>\n",
       "      <td>822.000000</td>\n",
       "    </tr>\n",
       "  </tbody>\n",
       "</table>\n",
       "</div>"
      ],
      "text/plain": [
       "       default   fico_score\n",
       "count   1521.0  1521.000000\n",
       "mean       1.0   697.884287\n",
       "std        0.0    33.764233\n",
       "min        1.0   617.000000\n",
       "25%        1.0   672.000000\n",
       "50%        1.0   692.000000\n",
       "75%        1.0   717.000000\n",
       "max        1.0   822.000000"
      ]
     },
     "execution_count": 9,
     "metadata": {},
     "output_type": "execute_result"
    }
   ],
   "source": [
    "default_df.describe()"
   ]
  },
  {
   "cell_type": "markdown",
   "metadata": {
    "deletable": false,
    "editable": false,
    "nbgrader": {
     "checksum": "22e23dcaba7ae02c496e37c18c5c97c9",
     "grade": false,
     "grade_id": "cell-3b643cec0347ea2e",
     "locked": true,
     "schema_version": 1,
     "solution": false
    }
   },
   "source": [
    "### Fill in the code to display a scatter plot of fico_score vs defaults. Set alpha =0.1 and s=200"
   ]
  },
  {
   "cell_type": "code",
   "execution_count": 10,
   "metadata": {
    "deletable": false,
    "nbgrader": {
     "checksum": "eed662bd5cf7d3a708ebbc818a1f9d7b",
     "grade": false,
     "grade_id": "cell-1e1c39ef8de4f330",
     "locked": false,
     "schema_version": 1,
     "solution": true
    }
   },
   "outputs": [
    {
     "data": {
      "image/png": "[encoded data removed]",
      "text/plain": [
       "<Figure size 1000x600 with 1 Axes>"
      ]
     },
     "metadata": {},
     "output_type": "display_data"
    }
   ],
   "source": [
    "# Fill in the code to display a scatter plot of fico_score vs defaults. Set alpha =0.1 and s=200\n",
    "# This will make the points transparent and larger\n",
    "plt.figure(figsize=(10, 6))\n",
    "plot = plt.scatter(df['fico_score'], df['default'], alpha=0.1, s=200)\n",
    "plt.xlabel('FICO Score')\n",
    "plt.ylabel('Default')\n",
    "plt.title('FICO Score vs Default')\n",
    "plt.show()\n",
    "points = plot.get_offsets()"
   ]
  },
  {
   "cell_type": "markdown",
   "metadata": {
    "deletable": false,
    "editable": false,
    "nbgrader": {
     "checksum": "9734759b1d094f24068a3ec60b5cf2c6",
     "grade": false,
     "grade_id": "cell-f2cdc453a67fae63",
     "locked": true,
     "schema_version": 1,
     "solution": false
    }
   },
   "source": [
    "### Split the dataframe into train and test sets called df_train and df_test"
   ]
  },
  {
   "cell_type": "code",
   "execution_count": 11,
   "metadata": {
    "deletable": false,
    "nbgrader": {
     "checksum": "150b65f67a52e742c26c9befa72ef428",
     "grade": false,
     "grade_id": "cell-2761bf301603f0e4",
     "locked": false,
     "schema_version": 1,
     "solution": true
    }
   },
   "outputs": [],
   "source": [
    "# Data split into 70% train and 30% test. \n",
    "# The dataframes should be called df_train and df_test\n",
    "df_train, df_test = train_test_split(df, test_size=0.3)"
   ]
  },
  {
   "cell_type": "markdown",
   "metadata": {
    "deletable": false,
    "editable": false,
    "nbgrader": {
     "checksum": "34a3f82531d634534f5c946374e3c0de",
     "grade": false,
     "grade_id": "cell-6bd027b5376aa272",
     "locked": true,
     "schema_version": 1,
     "solution": false
    }
   },
   "source": [
    "### Examine the training set"
   ]
  },
  {
   "cell_type": "code",
   "execution_count": 12,
   "metadata": {
    "deletable": false,
    "editable": false,
    "nbgrader": {
     "checksum": "40c5eef0dd0953be43c340e3aa4568f5",
     "grade": false,
     "grade_id": "cell-f14b9e4fdc117e71",
     "locked": true,
     "schema_version": 1,
     "solution": false
    }
   },
   "outputs": [
    {
     "data": {
      "application/vnd.microsoft.datawrangler.viewer.v0+json": {
       "columns": [
        {
         "name": "index",
         "rawType": "object",
         "type": "string"
        },
        {
         "name": "default",
         "rawType": "float64",
         "type": "float"
        },
        {
         "name": "fico_score",
         "rawType": "float64",
         "type": "float"
        }
       ],
       "conversionMethod": "pd.DataFrame",
       "ref": "c682acc3-05ad-49a3-8eaf-a61602fed873",
       "rows": [
        [
         "count",
         "6661.0",
         "6661.0"
        ],
        [
         "mean",
         "0.16273832757844167",
         "710.6345894009909"
        ],
        [
         "std",
         "0.36915447032199283",
         "38.01751333149254"
        ],
        [
         "min",
         "0.0",
         "612.0"
        ],
        [
         "25%",
         "0.0",
         "682.0"
        ],
        [
         "50%",
         "0.0",
         "707.0"
        ],
        [
         "75%",
         "0.0",
         "737.0"
        ],
        [
         "max",
         "1.0",
         "827.0"
        ]
       ],
       "shape": {
        "columns": 2,
        "rows": 8
       }
      },
      "text/html": [
       "<div>\n",
       "<style scoped>\n",
       "    .dataframe tbody tr th:only-of-type {\n",
       "        vertical-align: middle;\n",
       "    }\n",
       "\n",
       "    .dataframe tbody tr th {\n",
       "        vertical-align: top;\n",
       "    }\n",
       "\n",
       "    .dataframe thead th {\n",
       "        text-align: right;\n",
       "    }\n",
       "</style>\n",
       "<table border=\"1\" class=\"dataframe\">\n",
       "  <thead>\n",
       "    <tr style=\"text-align: right;\">\n",
       "      <th></th>\n",
       "      <th>default</th>\n",
       "      <th>fico_score</th>\n",
       "    </tr>\n",
       "  </thead>\n",
       "  <tbody>\n",
       "    <tr>\n",
       "      <th>count</th>\n",
       "      <td>6661.000000</td>\n",
       "      <td>6661.000000</td>\n",
       "    </tr>\n",
       "    <tr>\n",
       "      <th>mean</th>\n",
       "      <td>0.162738</td>\n",
       "      <td>710.634589</td>\n",
       "    </tr>\n",
       "    <tr>\n",
       "      <th>std</th>\n",
       "      <td>0.369154</td>\n",
       "      <td>38.017513</td>\n",
       "    </tr>\n",
       "    <tr>\n",
       "      <th>min</th>\n",
       "      <td>0.000000</td>\n",
       "      <td>612.000000</td>\n",
       "    </tr>\n",
       "    <tr>\n",
       "      <th>25%</th>\n",
       "      <td>0.000000</td>\n",
       "      <td>682.000000</td>\n",
       "    </tr>\n",
       "    <tr>\n",
       "      <th>50%</th>\n",
       "      <td>0.000000</td>\n",
       "      <td>707.000000</td>\n",
       "    </tr>\n",
       "    <tr>\n",
       "      <th>75%</th>\n",
       "      <td>0.000000</td>\n",
       "      <td>737.000000</td>\n",
       "    </tr>\n",
       "    <tr>\n",
       "      <th>max</th>\n",
       "      <td>1.000000</td>\n",
       "      <td>827.000000</td>\n",
       "    </tr>\n",
       "  </tbody>\n",
       "</table>\n",
       "</div>"
      ],
      "text/plain": [
       "           default   fico_score\n",
       "count  6661.000000  6661.000000\n",
       "mean      0.162738   710.634589\n",
       "std       0.369154    38.017513\n",
       "min       0.000000   612.000000\n",
       "25%       0.000000   682.000000\n",
       "50%       0.000000   707.000000\n",
       "75%       0.000000   737.000000\n",
       "max       1.000000   827.000000"
      ]
     },
     "execution_count": 12,
     "metadata": {},
     "output_type": "execute_result"
    }
   ],
   "source": [
    "df_train.describe()"
   ]
  },
  {
   "cell_type": "markdown",
   "metadata": {
    "deletable": false,
    "editable": false,
    "nbgrader": {
     "checksum": "ac5ee192fdbbcf0d4c2f3801cd2f25a6",
     "grade": false,
     "grade_id": "cell-1db458fc17574613",
     "locked": true,
     "schema_version": 1,
     "solution": false
    }
   },
   "source": [
    "### Create a formula and your modle based on training data"
   ]
  },
  {
   "cell_type": "code",
   "execution_count": 13,
   "metadata": {
    "deletable": false,
    "nbgrader": {
     "checksum": "e319d8d08a38536e3fb796fd2a063b66",
     "grade": false,
     "grade_id": "cell-f2ccbdbe46032e60",
     "locked": false,
     "schema_version": 1,
     "solution": true
    }
   },
   "outputs": [
    {
     "name": "stdout",
     "output_type": "stream",
     "text": [
      "Optimization terminated successfully.\n",
      "         Current function value: 0.432493\n",
      "         Iterations 6\n",
      "                           Logit Regression Results                           \n",
      "==============================================================================\n",
      "Dep. Variable:                default   No. Observations:                 6661\n",
      "Model:                          Logit   Df Residuals:                     6659\n",
      "Method:                           MLE   Df Model:                            1\n",
      "Date:                Mon, 17 Mar 2025   Pseudo R-squ.:                 0.02632\n",
      "Time:                        18:21:40   Log-Likelihood:                -2880.8\n",
      "converged:                       True   LL-Null:                       -2958.7\n",
      "Covariance Type:            nonrobust   LLR p-value:                 9.713e-36\n",
      "==============================================================================\n",
      "                 coef    std err          z      P>|z|      [0.025      0.975]\n",
      "------------------------------------------------------------------------------\n",
      "Intercept      6.5953      0.686      9.617      0.000       5.251       7.939\n",
      "fico_score    -0.0117      0.001    -11.932      0.000      -0.014      -0.010\n",
      "==============================================================================\n"
     ]
    }
   ],
   "source": [
    "# build formula,  target (depedent variable) ~ features (indepedent variables)\n",
    "# build model, fit the formula to the training data using a logistic algorithim (logit). \n",
    "# Set the output to \"est\"\n",
    "formula = \"default ~ fico_score\"\n",
    "est = logit(formula, df_train).fit()\n",
    "# print the results of the model (est).\n",
    "# Examine; Pseudo R-squared, p values, coefficients \n",
    "print(est.summary())"
   ]
  },
  {
   "cell_type": "markdown",
   "metadata": {
    "deletable": false,
    "editable": false,
    "nbgrader": {
     "checksum": "7a1b4c9abc39e7f611ba4e6ba1bdf3e3",
     "grade": false,
     "grade_id": "cell-6500963167fb33aa",
     "locked": true,
     "schema_version": 1,
     "solution": false
    }
   },
   "source": [
    "### Use your model to make predictions based on the test set"
   ]
  },
  {
   "cell_type": "code",
   "execution_count": 14,
   "metadata": {
    "deletable": false,
    "nbgrader": {
     "checksum": "5648106cf2317a65b674af4b71aa5c31",
     "grade": false,
     "grade_id": "cell-17164d60fb4ac616",
     "locked": false,
     "schema_version": 1,
     "solution": true
    }
   },
   "outputs": [
    {
     "data": {
      "application/vnd.microsoft.datawrangler.viewer.v0+json": {
       "columns": [
        {
         "name": "index",
         "rawType": "int64",
         "type": "integer"
        },
        {
         "name": "default",
         "rawType": "int64",
         "type": "integer"
        },
        {
         "name": "fico_score",
         "rawType": "int64",
         "type": "integer"
        },
        {
         "name": "predicted_probability",
         "rawType": "float64",
         "type": "float"
        }
       ],
       "conversionMethod": "pd.DataFrame",
       "ref": "07276b52-ac86-4187-82bd-b457daf24b0f",
       "rows": [
        [
         "1327",
         "1",
         "712",
         "0.152160321838417"
        ],
        [
         "2942",
         "0",
         "737",
         "0.11819360382867038"
        ],
        [
         "3325",
         "0",
         "752",
         "0.10112527774046617"
        ],
        [
         "956",
         "0",
         "732",
         "0.12441492207712865"
        ],
        [
         "8141",
         "0",
         "642",
         "0.2889559536249388"
        ],
        [
         "2148",
         "0",
         "767",
         "0.08628061430692696"
        ]
       ],
       "shape": {
        "columns": 3,
        "rows": 6
       }
      },
      "text/html": [
       "<div>\n",
       "<style scoped>\n",
       "    .dataframe tbody tr th:only-of-type {\n",
       "        vertical-align: middle;\n",
       "    }\n",
       "\n",
       "    .dataframe tbody tr th {\n",
       "        vertical-align: top;\n",
       "    }\n",
       "\n",
       "    .dataframe thead th {\n",
       "        text-align: right;\n",
       "    }\n",
       "</style>\n",
       "<table border=\"1\" class=\"dataframe\">\n",
       "  <thead>\n",
       "    <tr style=\"text-align: right;\">\n",
       "      <th></th>\n",
       "      <th>default</th>\n",
       "      <th>fico_score</th>\n",
       "      <th>predicted_probability</th>\n",
       "    </tr>\n",
       "  </thead>\n",
       "  <tbody>\n",
       "    <tr>\n",
       "      <th>1327</th>\n",
       "      <td>1</td>\n",
       "      <td>712</td>\n",
       "      <td>0.152160</td>\n",
       "    </tr>\n",
       "    <tr>\n",
       "      <th>2942</th>\n",
       "      <td>0</td>\n",
       "      <td>737</td>\n",
       "      <td>0.118194</td>\n",
       "    </tr>\n",
       "    <tr>\n",
       "      <th>3325</th>\n",
       "      <td>0</td>\n",
       "      <td>752</td>\n",
       "      <td>0.101125</td>\n",
       "    </tr>\n",
       "    <tr>\n",
       "      <th>956</th>\n",
       "      <td>0</td>\n",
       "      <td>732</td>\n",
       "      <td>0.124415</td>\n",
       "    </tr>\n",
       "    <tr>\n",
       "      <th>8141</th>\n",
       "      <td>0</td>\n",
       "      <td>642</td>\n",
       "      <td>0.288956</td>\n",
       "    </tr>\n",
       "    <tr>\n",
       "      <th>2148</th>\n",
       "      <td>0</td>\n",
       "      <td>767</td>\n",
       "      <td>0.086281</td>\n",
       "    </tr>\n",
       "  </tbody>\n",
       "</table>\n",
       "</div>"
      ],
      "text/plain": [
       "      default  fico_score  predicted_probability\n",
       "1327        1         712               0.152160\n",
       "2942        0         737               0.118194\n",
       "3325        0         752               0.101125\n",
       "956         0         732               0.124415\n",
       "8141        0         642               0.288956\n",
       "2148        0         767               0.086281"
      ]
     },
     "execution_count": 14,
     "metadata": {},
     "output_type": "execute_result"
    }
   ],
   "source": [
    "# Use your model to create a predicted probability of default from the df_test dataframe \n",
    "# Assign a new column \"predicted_probability\" to the predicted output\n",
    "df_test['predicted_probability'] = est.predict(df_test)\n",
    "df_test.head(6)"
   ]
  },
  {
   "cell_type": "markdown",
   "metadata": {
    "deletable": false,
    "editable": false,
    "nbgrader": {
     "checksum": "23a440bbde3b0bb2d6649e17876ef4fe",
     "grade": false,
     "grade_id": "cell-8b9ce2774740b872",
     "locked": true,
     "schema_version": 1,
     "solution": false
    }
   },
   "source": [
    "### Next, create a new column called \"will default\" that observes the predicted probability and flags a loan as a potential to default or not. Experiment with the predicted probability threshold to optimise the model. "
   ]
  },
  {
   "cell_type": "code",
   "execution_count": 15,
   "metadata": {
    "deletable": false,
    "nbgrader": {
     "checksum": "6383f005100c0edc451fc24098b1f133",
     "grade": false,
     "grade_id": "cell-169b609a460941ad",
     "locked": false,
     "schema_version": 1,
     "solution": true
    }
   },
   "outputs": [
    {
     "name": "stdout",
     "output_type": "stream",
     "text": [
      "      default  fico_score  predicted_probability  will_default\n",
      "1327        1         712               0.152160             0\n",
      "2942        0         737               0.118194             0\n",
      "3325        0         752               0.101125             0\n",
      "956         0         732               0.124415             0\n",
      "8141        0         642               0.288956             1\n",
      "...       ...         ...                    ...           ...\n",
      "9442        1         697               0.176154             0\n",
      "6095        0         722               0.137701             0\n",
      "5222        0         682               0.203026             0\n",
      "7840        1         652               0.265570             1\n",
      "5729        0         742               0.112244             0\n",
      "\n",
      "[2855 rows x 4 columns]\n"
     ]
    }
   ],
   "source": [
    "# Create a new column called \"will_default\". Play around with the predicted probability threshold. \n",
    "# A good starting threshold for a 1 flag is 25%\n",
    "#If yes assign will_default to 1, otherwise to 0\n",
    "df_test['will_default'] = np.where(df_test['predicted_probability'] > 0.25, 1, 0)\n",
    "print(df_test)"
   ]
  },
  {
   "cell_type": "markdown",
   "metadata": {
    "deletable": false,
    "editable": false,
    "nbgrader": {
     "checksum": "032deba50be1caf31270d4bf4ab2b133",
     "grade": false,
     "grade_id": "cell-7fd144a74512e8b1",
     "locked": true,
     "schema_version": 1,
     "solution": false
    }
   },
   "source": [
    "### Create a confusion matrix so you can observe your model's performance on the test data. It should be examining predicted vs actual default values (will_default vs default). "
   ]
  },
  {
   "cell_type": "code",
   "execution_count": 16,
   "metadata": {
    "deletable": false,
    "nbgrader": {
     "checksum": "d59cdc3129c515e9c57d115b452ce11f",
     "grade": false,
     "grade_id": "cell-845f67a5e5829007",
     "locked": false,
     "schema_version": 1,
     "solution": true
    }
   },
   "outputs": [
    {
     "name": "stdout",
     "output_type": "stream",
     "text": [
      "[[2321   97]\n",
      " [ 394   43]]\n"
     ]
    }
   ],
   "source": [
    "# Create a confusion matrix displaying actual vs predicted values. \n",
    "# Assign the output to \"matrix\"\n",
    "matrix = confusion_matrix(df_test['default'], df_test['will_default'])\n",
    "print(matrix)"
   ]
  },
  {
   "cell_type": "markdown",
   "metadata": {
    "deletable": false,
    "editable": false,
    "nbgrader": {
     "checksum": "1756b470bbc3218576db7aeec8596c99",
     "grade": false,
     "grade_id": "cell-2c91742fcb8b2606",
     "locked": true,
     "schema_version": 1,
     "solution": false
    }
   },
   "source": [
    "### Execute the following cells to view a heatmap of the confusion matrix and accuracy of your model. Use these to answer the follow-up questions for the assignment."
   ]
  },
  {
   "cell_type": "code",
   "execution_count": 17,
   "metadata": {
    "deletable": false,
    "editable": false,
    "nbgrader": {
     "checksum": "282d152762b23bde92d34929a947f420",
     "grade": false,
     "grade_id": "cell-dc4546b718fdd002",
     "locked": true,
     "schema_version": 1,
     "solution": false
    }
   },
   "outputs": [
    {
     "data": {
      "text/plain": [
       "<Axes: >"
      ]
     },
     "execution_count": 17,
     "metadata": {},
     "output_type": "execute_result"
    },
    {
     "data": {
      "image/png": "[encoded data removed]",
      "text/plain": [
       "<Figure size 640x480 with 2 Axes>"
      ]
     },
     "metadata": {},
     "output_type": "display_data"
    }
   ],
   "source": [
    "sns.heatmap(matrix/np.sum(matrix), annot=True, \n",
    "            fmt='.2%', cmap='Blues')"
   ]
  },
  {
   "cell_type": "code",
   "execution_count": 18,
   "metadata": {
    "deletable": false,
    "editable": false,
    "nbgrader": {
     "checksum": "1b68a1f403803ce5826665795c240a14",
     "grade": false,
     "grade_id": "cell-5d9cfa846974e64b",
     "locked": true,
     "schema_version": 1,
     "solution": false
    }
   },
   "outputs": [
    {
     "data": {
      "text/plain": [
       "<Axes: >"
      ]
     },
     "execution_count": 18,
     "metadata": {},
     "output_type": "execute_result"
    },
    {
     "data": {
      "image/png": "[encoded data removed]",
      "text/plain": [
       "<Figure size 640x480 with 2 Axes>"
      ]
     },
     "metadata": {},
     "output_type": "display_data"
    }
   ],
   "source": [
    "labels = [\"True Neg\",\"False Pos\",\"False Neg\",\"True Pos\"]\n",
    "labels = np.asarray(labels).reshape(2,2)\n",
    "sns.heatmap(matrix, annot=labels, fmt=\"\", cmap='Blues')"
   ]
  },
  {
   "cell_type": "markdown",
   "metadata": {
    "deletable": false,
    "editable": false,
    "nbgrader": {
     "checksum": "276e4b487ba05125bb37c8157fe0b071",
     "grade": false,
     "grade_id": "cell-d65c592264dd34d0",
     "locked": true,
     "schema_version": 1,
     "solution": false
    }
   },
   "source": [
    "### Finally, observe the accuracy of the model. "
   ]
  },
  {
   "cell_type": "code",
   "execution_count": 19,
   "metadata": {
    "deletable": false,
    "editable": false,
    "nbgrader": {
     "checksum": "acaa56e8234781001b18e704c4f3239d",
     "grade": false,
     "grade_id": "cell-bb57ca615f351565",
     "locked": true,
     "schema_version": 1,
     "solution": false
    }
   },
   "outputs": [
    {
     "name": "stdout",
     "output_type": "stream",
     "text": [
      "Accuracy:0.8280210157618214\n"
     ]
    }
   ],
   "source": [
    "# Print the accuracy of the model\n",
    "print('Accuracy:'+str(accuracy_score(df_test['default'], df_test['will_default'])))"
   ]
  }
 ],
 "metadata": {
  "kernelspec": {
   "display_name": "eneas",
   "language": "python",
   "name": "python3"
  },
  "language_info": {
   "codemirror_mode": {
    "name": "ipython",
    "version": 3
   },
   "file_extension": ".py",
   "mimetype": "text/x-python",
   "name": "python",
   "nbconvert_exporter": "python",
   "pygments_lexer": "ipython3",
   "version": "3.13.2"
  }
 },
 "nbformat": 4,
 "nbformat_minor": 2
}
