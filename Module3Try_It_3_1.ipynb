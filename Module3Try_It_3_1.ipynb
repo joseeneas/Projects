{
  "cells": [
    {
      "cell_type": "markdown",
      "metadata": {
        "id": "plHO4BaRItzl"
      },
      "source": [
        "So far, you have had experience predicting data which fits probability distribution such as normal and binomial distribution. However, data does not always fit nicely against these well-known distribution types. When this occurs, one of your options is to use the Empirical Cumulative Distribution Function (ECDF) and historical data to predict future data values.\n",
        "\n",
        "The ECDF is calculated by ordering all of the unique observations in the data sample and calculating the cumulative probability for each as the number of observations less than or equal to a given observation divided by the total number of observations.\n",
        "\n",
        "In this try-it activity, you will use Python to create a sample dataset and analyze the ECDF against the generated data. First let us start by creating a non-normally distributed data set. We can do this by creating a two-peak dataset by combining two normal distributions."
      ]
    },
    {
      "cell_type": "code",
      "execution_count": 1,
      "metadata": {
        "colab": {
          "base_uri": "https://localhost:8080/"
        },
        "id": "DEBWgw3RG8ZC",
        "outputId": "769fbd28-b61f-4e6d-9f9d-5c590b608b02"
      },
      "outputs": [
        {
          "data": {
            "text/plain": [
              "array([69.7456749 , 79.01394651, 83.69488393, 75.71233052, 77.36117938,\n",
              "       84.16112932, 82.45618946, 89.34928231, 72.96375993, 85.40653654,\n",
              "       83.78170822, 71.94105939, 85.27638507, 79.53494278, 80.93562558,\n",
              "       83.57943861, 90.20646246, 78.97289958, 83.73929663, 69.50392905,\n",
              "       76.20042949, 77.79911965, 81.55373176, 85.13772108, 84.05668339,\n",
              "       86.76669705, 73.47776628, 81.86980556, 78.57127436, 89.82943955,\n",
              "       80.71174325, 80.34817721, 82.09663944, 76.4910126 , 83.7178014 ,\n",
              "       78.08677439, 75.4443141 , 83.9173949 , 89.63721803, 78.86779109,\n",
              "       78.30993477, 75.58099686, 84.24953461, 79.60466635, 92.10773738,\n",
              "       78.6755128 , 80.88911501, 79.22718596, 78.88086997, 80.9114728 ,\n",
              "       84.70918996, 84.53550772, 77.82125699, 73.05734174, 81.9030345 ,\n",
              "       88.69613696, 79.56079014, 80.62153153, 77.32659181, 83.13381191,\n",
              "       82.33088871, 80.2892109 , 83.73413515, 76.64536025, 76.61766562,\n",
              "       79.6669035 , 79.66418773, 87.14630409, 78.18081868, 83.85677267,\n",
              "       81.86951872, 90.75154711, 84.38910506, 85.10141471, 80.57679964,\n",
              "       84.94244261, 82.86477727, 84.29898302, 74.654255  , 84.07179391,\n",
              "       88.67451796, 87.82429379, 82.87555198, 83.58140803, 80.49679221,\n",
              "       81.18049836, 79.09545542, 76.59362497, 81.76861312, 80.79166029,\n",
              "       81.80631073, 78.50209824, 77.63026904, 71.59341489, 79.72886509,\n",
              "       72.57080301, 82.89625344, 79.02087687, 77.20269279, 94.09839882,\n",
              "       69.65713023, 82.32285263, 77.20477946, 69.12961635, 81.66183946,\n",
              "       87.27014796, 80.75375672, 81.00051279, 80.6023752 , 83.96772434,\n",
              "       73.81027286, 77.86128851, 84.54112317, 80.76068849, 74.99681855,\n",
              "       76.78372093, 70.50399056, 79.88727715, 76.10349258, 82.00143261,\n",
              "       81.83419626, 80.73569334, 79.62413948, 76.19071465, 84.83117116,\n",
              "       73.2386007 , 72.1150003 , 71.95290722, 82.98070931, 82.26135445,\n",
              "       76.43707989, 82.62416371, 78.58295183, 82.36267841, 79.4777712 ,\n",
              "       78.00955439, 75.28760368, 78.54903792, 75.6219353 , 77.651098  ,\n",
              "       76.70129499, 79.00015555, 81.81619591, 76.4505515 , 75.3123273 ,\n",
              "       70.59080168, 79.91191172, 82.01514357, 76.112159  , 83.29450243,\n",
              "       84.13594544, 79.38864955, 78.31229626, 69.37032409, 78.83999432,\n",
              "       83.42109927, 83.4476051 , 88.62792536, 86.45539512, 85.34035116,\n",
              "       83.20636135, 73.84376125, 83.00376146, 83.34555924, 88.08633347,\n",
              "       75.13157788, 85.22710496, 70.29083438, 79.78868967, 80.80116806,\n",
              "       83.95694307, 85.24181658, 81.85568682, 84.74091953, 78.09493458,\n",
              "       65.9616319 , 85.66598614, 75.2721123 , 70.85605809, 80.55715414,\n",
              "       77.23673037, 75.989333  , 77.43452105, 85.846098  , 73.58931303,\n",
              "       82.34491401, 86.94516763, 70.3692287 , 85.36994048, 79.14419845,\n",
              "       78.15967624, 82.48166444, 78.27363578, 82.73923434, 77.66234428,\n",
              "       76.07388378, 81.0719763 , 90.62692497, 77.18130428, 81.71995017,\n",
              "       82.84461089, 77.8664523 , 81.19489999, 81.51380231, 84.09525158,\n",
              "       84.45025178, 83.378848  , 77.29401373, 79.86551697, 75.54753199,\n",
              "       89.50207092, 75.6444316 , 81.47756168, 82.92102428, 74.85250984,\n",
              "       89.81471407, 84.24945598, 78.76639642, 78.25889293, 83.98087953,\n",
              "       80.147728  , 79.61850494, 79.12739505, 80.74893223, 86.01031816,\n",
              "       82.13954166, 82.26993657, 80.47681713, 80.76165315, 67.52090321,\n",
              "       74.02033673, 92.28126762, 78.8050569 , 86.83238101, 78.42221842,\n",
              "       87.28397374, 75.76348455, 83.39157431, 79.81772689, 81.90978513,\n",
              "       74.15596492, 73.05931821, 84.62306681, 81.28256932, 79.20016618,\n",
              "       67.43813149, 77.23272042, 90.20001262, 83.25454007, 79.81870204,\n",
              "       84.58345101, 78.91163941, 83.2620651 , 79.05329214, 73.82665642,\n",
              "       76.6311949 , 75.890125  , 85.09545984, 84.77555971, 74.71227568,\n",
              "       80.84311417, 77.00019717, 76.41250995, 88.67182516, 82.56581478,\n",
              "       69.31636503, 84.93719898, 77.86899914, 73.4159868 , 78.38372095,\n",
              "       82.71772919, 81.04837213, 77.78761755, 76.87634579, 74.86563698,\n",
              "       85.22832392, 80.91689459, 82.55034518, 85.68502807, 84.26376397,\n",
              "       79.43279558, 84.04173893, 82.10585016, 78.37482232, 89.08008366,\n",
              "       73.88961777, 89.57310192, 79.89902147, 76.34309437, 89.79007501,\n",
              "       81.95530841, 81.98719139, 87.30209317, 81.70360511, 80.00189894,\n",
              "       80.46692401, 83.97902453, 80.39702688, 84.20809394, 89.74093133,\n",
              "       60.12095705, 58.30981158, 56.59201963, 56.06191686, 58.42602723,\n",
              "       61.49755551, 50.8690995 , 51.4819107 , 61.44307683, 66.25121972,\n",
              "       63.66247859, 61.07318315, 59.5825773 , 55.31086984, 59.52950791,\n",
              "       58.43545701, 57.39307812, 63.54466625, 55.02804901, 71.53048767,\n",
              "       52.74788425, 68.30722421, 61.52444707, 49.5740669 , 55.96995166,\n",
              "       62.75259588, 54.69829463, 59.13870916, 55.72803538, 62.37956594,\n",
              "       69.75698453, 62.14289108, 61.85364809, 61.8101834 , 69.65616959,\n",
              "       58.41135151, 60.89364985, 73.81174652, 67.17579799, 57.53769087,\n",
              "       60.63310901, 66.08724664, 59.0405565 , 61.7554116 , 54.30223892,\n",
              "       57.05262231, 63.54241256, 63.01682867, 56.78728476, 51.38293607,\n",
              "       62.46496269, 58.68437502, 62.23095042, 60.95634011, 57.35390319,\n",
              "       58.36883088, 61.01159081, 64.22672488, 54.82574667, 60.3870417 ,\n",
              "       63.8758911 , 59.54935964, 61.4089247 , 61.08459324, 66.30301525,\n",
              "       64.45271928, 55.87585223, 63.23226171, 56.95272938, 69.23401225,\n",
              "       57.76384002, 58.60632444, 64.61760746, 54.76565231, 58.74389628,\n",
              "       63.71033457, 51.67548408, 65.67198328, 50.92300722, 53.91667362,\n",
              "       65.13244727, 59.27053205, 53.78762217, 59.73588426, 56.0351564 ,\n",
              "       55.39903512, 54.72631955, 57.95878308, 64.48062621, 56.91415622,\n",
              "       51.44353971, 60.28475816, 65.47649077, 61.42356993, 53.31264499,\n",
              "       58.50766178, 63.33524066, 67.60672724, 56.37113963, 60.58165026,\n",
              "       53.80527477, 65.11114898, 51.0414159 , 59.55018165, 55.04358336,\n",
              "       62.59767684, 52.59754663, 45.9831474 , 53.69869601, 58.76267949,\n",
              "       57.68401778, 58.44975428, 60.41698892, 56.19401547, 63.48323628,\n",
              "       63.4975227 , 68.9466769 , 59.40533929, 59.48655786, 62.80850996,\n",
              "       69.17120238, 63.73631629, 55.50426581, 65.28087124, 58.2623483 ,\n",
              "       54.25447022, 59.86737585, 63.39575309, 69.89440202, 71.12785401,\n",
              "       62.6648462 , 59.56307424, 56.9415134 , 56.81457711, 61.50586615,\n",
              "       61.55524915, 62.97286844, 59.40103258, 64.31383269, 67.83270622,\n",
              "       59.79481611, 58.77149792, 57.23900934, 67.85803471, 53.4450117 ,\n",
              "       58.27367741, 58.56025836, 56.12257539, 59.42989148, 63.18721646,\n",
              "       64.99124922, 64.30454733, 50.63560724, 55.2967108 , 60.00792366,\n",
              "       63.70302067, 62.73329666, 58.6919852 , 63.20521603, 60.25873384,\n",
              "       64.09434266, 62.24298015, 62.11439864, 65.13462925, 63.6566606 ,\n",
              "       60.07724737, 44.32645542, 58.04640214, 55.71261122, 58.78808779,\n",
              "       58.24215003, 62.9076169 , 64.19900735, 58.14180158, 60.9775881 ,\n",
              "       61.58906903, 62.14425385, 61.47575276, 65.46226049, 52.99498601,\n",
              "       57.45584107, 65.64373914, 60.03707613, 51.58114766, 61.22523   ,\n",
              "       57.78410443, 56.46263009, 56.99579264, 56.69187452, 62.31809196,\n",
              "       60.57012198, 57.05211958, 61.69186172, 68.84084354, 52.52419307,\n",
              "       63.80504271, 56.5867574 , 56.83989254, 55.01892938, 63.05720015,\n",
              "       61.39888365, 57.31781124, 59.02958904, 64.95321383, 56.82067429,\n",
              "       64.53106723, 60.03317392, 59.16970417, 58.26774716, 62.92263793,\n",
              "       58.68179753, 60.71430035, 63.37449154, 62.89794829, 58.42140839,\n",
              "       61.74714994, 60.53866672, 57.54229709, 62.41245071, 58.52787505,\n",
              "       56.58449678, 68.24957297, 58.86730875, 59.46977711, 56.36726106,\n",
              "       59.67720329, 62.7781409 , 59.59636378, 54.81952924, 58.51234708,\n",
              "       59.4817696 , 53.03990456, 58.30156612, 59.83784976, 45.72366035,\n",
              "       58.24731888, 66.40437564, 49.78200565, 53.13591692, 59.5016009 ,\n",
              "       60.45402465, 60.26904337, 64.8170992 , 58.06819663, 58.81616075,\n",
              "       53.97231219, 65.294612  , 65.11173554, 60.58887633, 60.06473414,\n",
              "       60.21742744, 54.45199532, 60.95148226, 63.82506917, 56.62368514,\n",
              "       65.823612  , 62.03488129, 53.66028993, 49.73727649, 68.31842584,\n",
              "       66.90548725, 63.73459568, 58.57717973, 64.61922946, 60.7479063 ,\n",
              "       63.46588782, 61.76769548, 59.39385109, 51.52072585, 56.92572305,\n",
              "       61.17360977, 61.38206585, 67.84916073, 67.29411247, 53.46961572,\n",
              "       54.07367528, 61.278345  , 54.21394922, 58.67594506, 62.16993398,\n",
              "       60.485131  , 57.63709166, 61.29994813, 68.97568869, 58.86097568,\n",
              "       55.10780432, 52.51867654, 69.07003754, 55.3577279 , 61.99070438,\n",
              "       59.40245109, 63.26399414, 67.36040578, 71.30860902, 61.91446274,\n",
              "       56.44247133, 59.44677302, 57.11587332, 59.77097627, 63.37780354,\n",
              "       56.36713214, 62.55509616, 55.99720748, 64.1777628 , 58.26080532,\n",
              "       59.05409126, 56.38510869, 65.62193576, 64.18798303, 62.96397941,\n",
              "       61.44521239, 66.34085087, 66.05501995, 62.47027246, 66.34871263,\n",
              "       62.83850571, 57.54760524, 67.18746625, 58.58520734, 60.170927  ,\n",
              "       69.63085007, 56.22782003, 60.06201026, 63.21119739, 62.66737173,\n",
              "       64.97667583, 64.57986719, 61.32887247, 55.13588925, 62.84924935,\n",
              "       61.704997  , 63.19372722, 55.35589821, 61.19036279, 72.56520163,\n",
              "       57.20936445, 59.45751461, 49.57273995, 59.79537401, 55.18798596,\n",
              "       64.6413969 , 57.64613013, 71.61571297, 61.55985513, 61.43328511,\n",
              "       60.11553198, 60.7285333 , 62.96395251, 51.96340395, 59.45060295,\n",
              "       58.51747773, 57.05015832, 55.95647858, 63.32206282, 56.80454513,\n",
              "       54.47008291, 60.28297   , 63.75582246, 65.29280069, 52.86459292,\n",
              "       59.31030859, 68.76508337, 50.94245532, 54.49416216, 61.66806068,\n",
              "       61.79463334, 61.71473858, 69.78833674, 57.79125715, 57.9082088 ,\n",
              "       53.76412096, 63.37407694, 65.5200039 , 54.97883285, 60.6668107 ,\n",
              "       64.76573317, 66.58665018, 58.37763865, 60.7114177 , 65.79202731,\n",
              "       57.23272476, 60.74341823, 54.56655487, 64.54688114, 61.9414067 ,\n",
              "       64.6055589 , 61.92475455, 51.26027452, 62.07663385, 66.18589203,\n",
              "       65.82493946, 55.43978695, 56.77663243, 52.90907295, 56.94780315,\n",
              "       54.49921278, 64.7376697 , 64.64859655, 64.48921337, 66.57606328,\n",
              "       60.95222336, 55.56434372, 54.50729443, 65.12159772, 54.53818508,\n",
              "       64.0861435 , 65.34259367, 63.10910619, 50.30844577, 60.59578848,\n",
              "       58.417277  , 62.28399335, 66.12050851, 57.92274404, 51.36836227,\n",
              "       59.89866762, 57.41605048, 60.87805563, 55.81170459, 65.37385743,\n",
              "       50.94690382, 57.52564329, 48.1299638 , 59.75724919, 63.34434068,\n",
              "       57.78671561, 59.39832591, 58.44293873, 55.81232866, 61.49288509,\n",
              "       48.09935016, 67.05931731, 56.29189403, 52.02872998, 60.72217521,\n",
              "       75.26358694, 71.0284628 , 55.78829252, 65.19445377, 60.74222111,\n",
              "       52.27391624, 57.02833197, 58.90642508, 56.82302578, 55.98888534,\n",
              "       65.24282196, 56.53502546, 62.86204405, 63.37485175, 57.07413424,\n",
              "       59.24649819, 63.15338436, 56.87166547, 61.16277693, 65.50622035,\n",
              "       52.66870297, 67.61620771, 62.49714212, 55.76927854, 67.70068677,\n",
              "       60.13659398, 56.00036291, 69.6800029 , 58.19312686, 50.87100137,\n",
              "       62.73037257, 53.58098382, 63.76089144, 65.09559941, 54.04600779,\n",
              "       59.2763433 , 62.39449168, 62.85876704, 51.18877468, 62.59487545,\n",
              "       64.97656333, 62.63432733, 61.80385949, 62.00597672, 62.06484835,\n",
              "       65.26394444, 62.89636419, 58.47679277, 63.87895955, 61.60595078,\n",
              "       58.03734219, 56.70141489, 56.00987818, 58.43666201, 52.42990178,\n",
              "       57.2402461 , 68.35487351, 55.90407202, 65.71732776, 51.07505435,\n",
              "       61.32261131, 72.6780672 , 62.80566901, 52.12871464, 63.43739917,\n",
              "       61.42261007, 65.17529063, 54.16270475, 56.00151315, 64.37897617,\n",
              "       60.7742389 , 56.98618803, 60.8861045 , 64.21775627, 65.04396854,\n",
              "       63.04900971, 57.42850525, 53.57777139, 68.04528905, 65.0456883 ,\n",
              "       50.1176782 , 64.53222034, 61.54380894, 63.4712152 , 58.14633102,\n",
              "       62.67085383, 62.05903871, 57.24205318, 54.74174001, 61.64943008,\n",
              "       53.18234119, 59.10015156, 65.2597215 , 63.23835147, 54.25192042,\n",
              "       57.97702098, 56.48945848, 63.30951225, 54.61970759, 57.16666356,\n",
              "       56.15303692, 64.44684236, 56.22719114, 58.74953997, 59.08307309,\n",
              "       62.6363485 , 61.33070536, 70.49570127, 61.31309325, 59.39776689,\n",
              "       53.92385305, 60.94176375, 59.9404049 , 63.45281425, 57.33476841,\n",
              "       58.37105149, 65.62482499, 60.49507602, 68.04390435, 62.68842886,\n",
              "       57.19975533, 55.63129862, 69.25688259, 71.10952662, 54.83378017,\n",
              "       56.90577106, 57.54530247, 63.53188925, 62.59745354, 66.29269354,\n",
              "       63.28753213, 61.13345662, 60.36866228, 59.11883785, 64.30182852,\n",
              "       56.09674308, 52.44252625, 59.26036707, 59.0620106 , 66.82430572,\n",
              "       56.16644915, 59.51951316, 58.91819127, 53.25553305, 49.0367383 ,\n",
              "       63.07229762, 62.06528867, 54.94019144, 59.04598108, 56.78389237,\n",
              "       69.65097107, 59.65911891, 55.2746242 , 58.25444686, 63.43347476,\n",
              "       61.66957512, 61.53807624, 60.84773226, 65.93914668, 53.40687581,\n",
              "       64.81603606, 56.92170073, 56.77859816, 66.87251843, 59.01449847,\n",
              "       56.16499293, 57.9472329 , 58.7031484 , 55.3636715 , 53.93960048,\n",
              "       57.30170222, 62.76150576, 65.26984008, 68.31067128, 49.86937938,\n",
              "       54.48969862, 59.31284896, 63.39306459, 59.1203047 , 51.30988907,\n",
              "       57.30910978, 59.71372219, 63.36679749, 62.82563759, 56.9585122 ,\n",
              "       64.80457209, 57.44780618, 66.65127681, 64.89415715, 65.04134085,\n",
              "       58.32891644, 64.48783285, 59.77690445, 64.60136253, 67.94759053,\n",
              "       67.4642539 , 52.45201461, 49.84525089, 62.69979788, 60.16235334,\n",
              "       57.35867041, 59.13090727, 65.51389253, 60.21381679, 63.3726275 ,\n",
              "       64.79094223, 59.70121669, 57.77361981, 57.8771014 , 62.50519113,\n",
              "       60.89854215, 65.46494466, 63.0248282 , 59.68263768, 58.74196068,\n",
              "       58.62488007, 50.59967034, 59.64123949, 61.15621045, 55.0822014 ,\n",
              "       56.22040199, 55.67100909, 54.61322113, 57.638073  , 64.0856362 ,\n",
              "       61.62406316, 53.09328339, 60.33794446, 53.12127906, 46.63522734,\n",
              "       64.16556914, 65.02416769, 54.65133543, 52.4807434 , 58.14887313,\n",
              "       60.64591615, 58.76371629, 53.64783422, 60.53896916, 62.67232203,\n",
              "       63.26381357, 63.8122479 , 56.57367577, 67.51723468, 63.00644414,\n",
              "       59.24724757, 52.78496111, 64.10054804, 53.0612225 , 69.41774978,\n",
              "       61.80572181, 56.19006162, 49.33434012, 50.21643277, 62.84397305,\n",
              "       59.55657199, 58.41863376, 58.50615245, 60.84097121, 50.38936112,\n",
              "       63.60317235, 62.25134003, 65.13988018, 61.12949478, 68.2516222 ])"
            ]
          },
          "execution_count": 1,
          "metadata": {},
          "output_type": "execute_result"
        }
      ],
      "source": [
        "# example of a bimodal data sample\n",
        "import numpy as np # type: ignore # type: ignore\n",
        "from matplotlib import pyplot # type: ignore\n",
        "from numpy.random import normal # type: ignore\n",
        "from numpy import hstack # type: ignore\n",
        "# generate a sample\n",
        "sample1 = normal(loc=80, scale=5, size=300)\n",
        "sample2 = normal(loc=60, scale=5, size=700)\n",
        "sample = hstack((sample1, sample2))\n",
        "\n",
        "sample"
      ]
    },
    {
      "cell_type": "markdown",
      "metadata": {
        "id": "nlK4fi-BKPHJ"
      },
      "source": [
        "This dataset will represent an entire state's benchmark score on their state exam. Their scores can be any number between 0 and 100 (extra credit was not an option). Printing the data out like this does not do much, so let us view a histogram of the data to visuaslize it more. "
      ]
    },
    {
      "cell_type": "code",
      "execution_count": 2,
      "metadata": {
        "colab": {
          "base_uri": "https://localhost:8080/",
          "height": 265
        },
        "id": "fgNDd-imy4F6",
        "outputId": "c8813c19-d422-4dab-9d5b-03f6341fc418"
      },
      "outputs": [
        {
          "data": {
            "image/png": "[encoded data removed]",
            "text/plain": [
              "<Figure size 640x480 with 1 Axes>"
            ]
          },
          "metadata": {},
          "output_type": "display_data"
        }
      ],
      "source": [
        "pyplot.hist(sample, bins=50)\n",
        "pyplot.show()"
      ]
    },
    {
      "cell_type": "markdown",
      "metadata": {
        "id": "yYM0rw-gy6C2"
      },
      "source": [
        "As you can see, this is **not normally distributed**. Let us find some other information out about the exam scored. "
      ]
    },
    {
      "cell_type": "code",
      "execution_count": 3,
      "metadata": {
        "colab": {
          "base_uri": "https://localhost:8080/"
        },
        "id": "tbrZmxOW1G0F",
        "outputId": "6eaaf328-a13c-4a66-df1b-f8015ea075b3"
      },
      "outputs": [
        {
          "name": "stdout",
          "output_type": "stream",
          "text": [
            "---------  -------\n",
            "Mean:      66.1565\n",
            "Max Score  94.0984\n",
            "Min Score  44.3265\n",
            "Range:     49.7719\n",
            "---------  -------\n"
          ]
        }
      ],
      "source": [
        "from tabulate import tabulate # type: ignore\n",
        "\n",
        "def range(x, axis=0):\n",
        "    return np.max(x, axis=axis) - np.min(x, axis=axis)\n",
        "\n",
        "data = [\n",
        "[\"Mean: \", np.mean(sample)],\n",
        "[\"Max Score\", np.max(sample)],\n",
        "[\"Min Score\", np.min(sample)],\n",
        "[\"Range:\", range(sample)]]\n",
        "\n",
        "print (tabulate(data))"
      ]
    },
    {
      "cell_type": "markdown",
      "metadata": {
        "id": "MEmTsQA42-I3"
      },
      "source": [
        "From this we can see the highest score was 94%, lowest was a 43% with an average of 65%. Let us use the empirical distribution function to find the probability of future student's receiving certain scores. "
      ]
    },
    {
      "cell_type": "code",
      "execution_count": 4,
      "metadata": {
        "colab": {
          "base_uri": "https://localhost:8080/"
        },
        "id": "rqAw4oCGx2aC",
        "outputId": "2d939cef-26c4-412c-84e6-00107078c41f"
      },
      "outputs": [
        {
          "name": "stdout",
          "output_type": "stream",
          "text": [
            "----------  -----\n",
            "P(x<94):    0.999\n",
            "P(x<44):    0\n",
            "P(x<Mean):  0.639\n",
            "----------  -----\n"
          ]
        }
      ],
      "source": [
        "from matplotlib import pyplot # type: ignore\n",
        "from numpy.random import normal # type: ignore\n",
        "from numpy import hstack # type: ignore\n",
        "from statsmodels.distributions.empirical_distribution import ECDF  # type: ignore\n",
        "\n",
        "ecdf = ECDF(sample)\n",
        "\n",
        "data = [\n",
        "[\"P(x<94): \", ecdf(94)],\n",
        "[\"P(x<44): \", ecdf(44)],\n",
        "[\"P(x<Mean):\", ecdf(np.mean(sample))]]\n",
        "\n",
        "print (tabulate(data))\n"
      ]
    },
    {
      "cell_type": "markdown",
      "metadata": {
        "id": "G0MvJH3p7aiv"
      },
      "source": [
        "One thing that is noteworthy about the previous step, is we discovered that although the average score was a 65%, there is an above average probability a random student's score is below the average. As seen in previous modules, statistically calculating what you'd expect a random varaible to be can often be vastly different than what you would discover using probability. \n",
        "\n",
        "Let us take a look at the probability a student's score falls within the following ranges. "
      ]
    },
    {
      "cell_type": "code",
      "execution_count": 5,
      "metadata": {
        "colab": {
          "base_uri": "https://localhost:8080/"
        },
        "id": "aGhYEcj18QNP",
        "outputId": "3699ca98-7d0f-4243-97b0-08345fa267d6"
      },
      "outputs": [
        {
          "name": "stdout",
          "output_type": "stream",
          "text": [
            "--------  -----\n",
            "P(x>90):  0.007\n",
            "P(x>75):  0.264\n",
            "P(x<50):  0.014\n",
            "--------  -----\n"
          ]
        }
      ],
      "source": [
        "data = [\n",
        "[\"P(x>90): \", 1 - ecdf(90)],\n",
        "[\"P(x>75): \", 1 - ecdf(75)],\n",
        "[\"P(x<50):\", ecdf(50)]]\n",
        "\n",
        "print (tabulate(data))"
      ]
    },
    {
      "cell_type": "markdown",
      "metadata": {
        "id": "k8e9dWt0Cf0_"
      },
      "source": [
        "Lastley, let us visualize the explanation of this by printing out the empirical distribution's CDF. "
      ]
    },
    {
      "cell_type": "code",
      "execution_count": 6,
      "metadata": {
        "colab": {
          "base_uri": "https://localhost:8080/",
          "height": 265
        },
        "id": "-deHMuqsHAZ1",
        "outputId": "915b7749-88f1-4240-9f94-e4abcd9d4724"
      },
      "outputs": [
        {
          "data": {
            "image/png": "[encoded data removed]",
            "text/plain": [
              "<Figure size 640x480 with 1 Axes>"
            ]
          },
          "metadata": {},
          "output_type": "display_data"
        }
      ],
      "source": [
        "\n",
        "# plot the cdf of the empirical distribution\n",
        "pyplot.plot(ecdf.x, ecdf.y)\n",
        "pyplot.show()"
      ]
    }
  ],
  "metadata": {
    "colab": {
      "provenance": []
    },
    "kernelspec": {
      "display_name": "eneas",
      "language": "python",
      "name": "python3"
    },
    "language_info": {
      "codemirror_mode": {
        "name": "ipython",
        "version": 3
      },
      "file_extension": ".py",
      "mimetype": "text/x-python",
      "name": "python",
      "nbconvert_exporter": "python",
      "pygments_lexer": "ipython3",
      "version": "3.13.2"
    }
  },
  "nbformat": 4,
  "nbformat_minor": 0
}
