# Use xgboost.sklearn.XGBClassifier to create a model called "clf" with the following parameters:
#     objective: "binary:logistic" 
#     learning_rate: 0.05 
#     seed: 9616 
#     max_depth: 20 
#     gamma: 10 
#     n_estimators: 500