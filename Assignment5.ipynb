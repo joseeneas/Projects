{
 "cells": [
  {
   "cell_type": "code",
   "execution_count": 1,
   "metadata": {},
   "outputs": [],
   "source": [
    "#%pip install pandas==2.1.4\n",
    "#%pip install skimpy"
   ]
  },
  {
   "cell_type": "markdown",
   "metadata": {
    "id": "4cIBEMVuA5-9"
   },
   "source": [
    "Lets start with importing what we need... "
   ]
  },
  {
   "cell_type": "code",
   "execution_count": 2,
   "metadata": {
    "id": "G8bltmBFJYz0"
   },
   "outputs": [],
   "source": [
    "#imports\n",
    "import numpy as np                                   # type: ignore\n",
    "import pandas as pd                                  # type: ignore\n",
    "import matplotlib.pyplot as plt                      # type: ignore\n",
    "import statsmodels.api as sm                         # type: ignore\n",
    "from statsmodels.formula.api import ols              # type: ignore\n",
    "from scipy.stats import norm                         # type: ignore\n",
    "from skimpy import skim                              # type: ignore\n",
    "from sklearn.model_selection import train_test_split # type: ignore\n",
    "from sklearn.metrics import r2_score                 # type: ignore\n",
    "from sklearn import datasets                         # type: ignore"
   ]
  },
  {
   "cell_type": "markdown",
   "metadata": {
    "id": "ECRJiTWPBAKi"
   },
   "source": [
    "Lets read in the data into a Pandas 'dataframe'. We'll see that this is a nifty datastruture. We'll take a look at the data frame shortly. "
   ]
  },
  {
   "cell_type": "code",
   "execution_count": 4,
   "metadata": {
    "id": "n38gY_0gJivd"
   },
   "outputs": [],
   "source": [
    "df = pd.read_csv('files/rentals_weather.csv')"
   ]
  },
  {
   "cell_type": "code",
   "execution_count": 5,
   "metadata": {
    "colab": {
     "base_uri": "https://localhost:8080/",
     "height": 237
    },
    "id": "dA0BhU6gJ5cj",
    "outputId": "6a3c07bb-b6d0-4072-b12a-a55ab51b3ada"
   },
   "outputs": [
    {
     "data": {
      "application/vnd.microsoft.datawrangler.viewer.v0+json": {
       "columns": [
        {
         "name": "index",
         "rawType": "int64",
         "type": "integer"
        },
        {
         "name": "rentals",
         "rawType": "int64",
         "type": "integer"
        },
        {
         "name": "month",
         "rawType": "int64",
         "type": "integer"
        },
        {
         "name": "day",
         "rawType": "int64",
         "type": "integer"
        },
        {
         "name": "hour",
         "rawType": "int64",
         "type": "integer"
        },
        {
         "name": "day_of_week",
         "rawType": "object",
         "type": "string"
        },
        {
         "name": "weekend",
         "rawType": "int64",
         "type": "integer"
        },
        {
         "name": "temp",
         "rawType": "int64",
         "type": "integer"
        },
        {
         "name": "temp_wb",
         "rawType": "int64",
         "type": "integer"
        },
        {
         "name": "rel_humidity",
         "rawType": "int64",
         "type": "integer"
        },
        {
         "name": "windspeed",
         "rawType": "int64",
         "type": "integer"
        },
        {
         "name": "precipitation",
         "rawType": "float64",
         "type": "float"
        }
       ],
       "conversionMethod": "pd.DataFrame",
       "ref": "630df712-36b0-4fc4-915e-6e28dfe4a286",
       "rows": [
        [
         "0",
         "4",
         "1",
         "1",
         "0",
         "Mon",
         "0",
         "2",
         "0",
         "59",
         "16",
         "0.0"
        ],
        [
         "1",
         "6",
         "1",
         "1",
         "1",
         "Mon",
         "0",
         "1",
         "0",
         "59",
         "11",
         "0.0"
        ],
        [
         "2",
         "6",
         "1",
         "1",
         "2",
         "Mon",
         "0",
         "1",
         "-1",
         "54",
         "21",
         "0.0"
        ],
        [
         "3",
         "1",
         "1",
         "1",
         "5",
         "Mon",
         "0",
         "0",
         "-2",
         "54",
         "18",
         "0.0"
        ],
        [
         "4",
         "3",
         "1",
         "1",
         "6",
         "Mon",
         "0",
         "0",
         "-2",
         "54",
         "15",
         "0.0"
        ],
        [
         "5",
         "3",
         "1",
         "1",
         "7",
         "Mon",
         "0",
         "0",
         "-2",
         "54",
         "11",
         "0.0"
        ]
       ],
       "shape": {
        "columns": 11,
        "rows": 6
       }
      },
      "text/html": [
       "<div>\n",
       "<style scoped>\n",
       "    .dataframe tbody tr th:only-of-type {\n",
       "        vertical-align: middle;\n",
       "    }\n",
       "\n",
       "    .dataframe tbody tr th {\n",
       "        vertical-align: top;\n",
       "    }\n",
       "\n",
       "    .dataframe thead th {\n",
       "        text-align: right;\n",
       "    }\n",
       "</style>\n",
       "<table border=\"1\" class=\"dataframe\">\n",
       "  <thead>\n",
       "    <tr style=\"text-align: right;\">\n",
       "      <th></th>\n",
       "      <th>rentals</th>\n",
       "      <th>month</th>\n",
       "      <th>day</th>\n",
       "      <th>hour</th>\n",
       "      <th>day_of_week</th>\n",
       "      <th>weekend</th>\n",
       "      <th>temp</th>\n",
       "      <th>temp_wb</th>\n",
       "      <th>rel_humidity</th>\n",
       "      <th>windspeed</th>\n",
       "      <th>precipitation</th>\n",
       "    </tr>\n",
       "  </thead>\n",
       "  <tbody>\n",
       "    <tr>\n",
       "      <th>0</th>\n",
       "      <td>4</td>\n",
       "      <td>1</td>\n",
       "      <td>1</td>\n",
       "      <td>0</td>\n",
       "      <td>Mon</td>\n",
       "      <td>0</td>\n",
       "      <td>2</td>\n",
       "      <td>0</td>\n",
       "      <td>59</td>\n",
       "      <td>16</td>\n",
       "      <td>0.0</td>\n",
       "    </tr>\n",
       "    <tr>\n",
       "      <th>1</th>\n",
       "      <td>6</td>\n",
       "      <td>1</td>\n",
       "      <td>1</td>\n",
       "      <td>1</td>\n",
       "      <td>Mon</td>\n",
       "      <td>0</td>\n",
       "      <td>1</td>\n",
       "      <td>0</td>\n",
       "      <td>59</td>\n",
       "      <td>11</td>\n",
       "      <td>0.0</td>\n",
       "    </tr>\n",
       "    <tr>\n",
       "      <th>2</th>\n",
       "      <td>6</td>\n",
       "      <td>1</td>\n",
       "      <td>1</td>\n",
       "      <td>2</td>\n",
       "      <td>Mon</td>\n",
       "      <td>0</td>\n",
       "      <td>1</td>\n",
       "      <td>-1</td>\n",
       "      <td>54</td>\n",
       "      <td>21</td>\n",
       "      <td>0.0</td>\n",
       "    </tr>\n",
       "    <tr>\n",
       "      <th>3</th>\n",
       "      <td>1</td>\n",
       "      <td>1</td>\n",
       "      <td>1</td>\n",
       "      <td>5</td>\n",
       "      <td>Mon</td>\n",
       "      <td>0</td>\n",
       "      <td>0</td>\n",
       "      <td>-2</td>\n",
       "      <td>54</td>\n",
       "      <td>18</td>\n",
       "      <td>0.0</td>\n",
       "    </tr>\n",
       "    <tr>\n",
       "      <th>4</th>\n",
       "      <td>3</td>\n",
       "      <td>1</td>\n",
       "      <td>1</td>\n",
       "      <td>6</td>\n",
       "      <td>Mon</td>\n",
       "      <td>0</td>\n",
       "      <td>0</td>\n",
       "      <td>-2</td>\n",
       "      <td>54</td>\n",
       "      <td>15</td>\n",
       "      <td>0.0</td>\n",
       "    </tr>\n",
       "    <tr>\n",
       "      <th>5</th>\n",
       "      <td>3</td>\n",
       "      <td>1</td>\n",
       "      <td>1</td>\n",
       "      <td>7</td>\n",
       "      <td>Mon</td>\n",
       "      <td>0</td>\n",
       "      <td>0</td>\n",
       "      <td>-2</td>\n",
       "      <td>54</td>\n",
       "      <td>11</td>\n",
       "      <td>0.0</td>\n",
       "    </tr>\n",
       "  </tbody>\n",
       "</table>\n",
       "</div>"
      ],
      "text/plain": [
       "   rentals  month  day  hour day_of_week  weekend  temp  temp_wb  \\\n",
       "0        4      1    1     0         Mon        0     2        0   \n",
       "1        6      1    1     1         Mon        0     1        0   \n",
       "2        6      1    1     2         Mon        0     1       -1   \n",
       "3        1      1    1     5         Mon        0     0       -2   \n",
       "4        3      1    1     6         Mon        0     0       -2   \n",
       "5        3      1    1     7         Mon        0     0       -2   \n",
       "\n",
       "   rel_humidity  windspeed  precipitation  \n",
       "0            59         16            0.0  \n",
       "1            59         11            0.0  \n",
       "2            54         21            0.0  \n",
       "3            54         18            0.0  \n",
       "4            54         15            0.0  \n",
       "5            54         11            0.0  "
      ]
     },
     "execution_count": 5,
     "metadata": {},
     "output_type": "execute_result"
    }
   ],
   "source": [
    "df.head(6)"
   ]
  },
  {
   "cell_type": "code",
   "execution_count": 6,
   "metadata": {
    "colab": {
     "base_uri": "https://localhost:8080/",
     "height": 237
    },
    "id": "kFs4HfoRJ9oQ",
    "outputId": "81ec23d3-1d6d-47c8-cd63-6fba4f78be07"
   },
   "outputs": [
    {
     "data": {
      "application/vnd.microsoft.datawrangler.viewer.v0+json": {
       "columns": [
        {
         "name": "index",
         "rawType": "int64",
         "type": "integer"
        },
        {
         "name": "rentals",
         "rawType": "int64",
         "type": "integer"
        },
        {
         "name": "month",
         "rawType": "int64",
         "type": "integer"
        },
        {
         "name": "day",
         "rawType": "int64",
         "type": "integer"
        },
        {
         "name": "hour",
         "rawType": "int64",
         "type": "integer"
        },
        {
         "name": "day_of_week",
         "rawType": "object",
         "type": "string"
        },
        {
         "name": "weekend",
         "rawType": "int64",
         "type": "integer"
        },
        {
         "name": "temp",
         "rawType": "int64",
         "type": "integer"
        },
        {
         "name": "temp_wb",
         "rawType": "int64",
         "type": "integer"
        },
        {
         "name": "rel_humidity",
         "rawType": "int64",
         "type": "integer"
        },
        {
         "name": "windspeed",
         "rawType": "int64",
         "type": "integer"
        },
        {
         "name": "precipitation",
         "rawType": "float64",
         "type": "float"
        }
       ],
       "conversionMethod": "pd.DataFrame",
       "ref": "2d7407f4-00d5-4aa4-9eea-7a59fbd93ebf",
       "rows": [
        [
         "8597",
         "69",
         "12",
         "31",
         "18",
         "Mon",
         "0",
         "42",
         "37",
         "60",
         "10",
         "0.0"
        ],
        [
         "8598",
         "36",
         "12",
         "31",
         "19",
         "Mon",
         "0",
         "39",
         "36",
         "76",
         "13",
         "0.02"
        ],
        [
         "8599",
         "25",
         "12",
         "31",
         "20",
         "Mon",
         "0",
         "38",
         "36",
         "86",
         "14",
         "0.04"
        ],
        [
         "8600",
         "13",
         "12",
         "31",
         "21",
         "Mon",
         "0",
         "37",
         "36",
         "89",
         "15",
         "0.07"
        ],
        [
         "8601",
         "6",
         "12",
         "31",
         "22",
         "Mon",
         "0",
         "38",
         "37",
         "89",
         "14",
         "0.09"
        ],
        [
         "8602",
         "7",
         "12",
         "31",
         "23",
         "Mon",
         "0",
         "39",
         "38",
         "89",
         "17",
         "0.19"
        ]
       ],
       "shape": {
        "columns": 11,
        "rows": 6
       }
      },
      "text/html": [
       "<div>\n",
       "<style scoped>\n",
       "    .dataframe tbody tr th:only-of-type {\n",
       "        vertical-align: middle;\n",
       "    }\n",
       "\n",
       "    .dataframe tbody tr th {\n",
       "        vertical-align: top;\n",
       "    }\n",
       "\n",
       "    .dataframe thead th {\n",
       "        text-align: right;\n",
       "    }\n",
       "</style>\n",
       "<table border=\"1\" class=\"dataframe\">\n",
       "  <thead>\n",
       "    <tr style=\"text-align: right;\">\n",
       "      <th></th>\n",
       "      <th>rentals</th>\n",
       "      <th>month</th>\n",
       "      <th>day</th>\n",
       "      <th>hour</th>\n",
       "      <th>day_of_week</th>\n",
       "      <th>weekend</th>\n",
       "      <th>temp</th>\n",
       "      <th>temp_wb</th>\n",
       "      <th>rel_humidity</th>\n",
       "      <th>windspeed</th>\n",
       "      <th>precipitation</th>\n",
       "    </tr>\n",
       "  </thead>\n",
       "  <tbody>\n",
       "    <tr>\n",
       "      <th>8597</th>\n",
       "      <td>69</td>\n",
       "      <td>12</td>\n",
       "      <td>31</td>\n",
       "      <td>18</td>\n",
       "      <td>Mon</td>\n",
       "      <td>0</td>\n",
       "      <td>42</td>\n",
       "      <td>37</td>\n",
       "      <td>60</td>\n",
       "      <td>10</td>\n",
       "      <td>0.00</td>\n",
       "    </tr>\n",
       "    <tr>\n",
       "      <th>8598</th>\n",
       "      <td>36</td>\n",
       "      <td>12</td>\n",
       "      <td>31</td>\n",
       "      <td>19</td>\n",
       "      <td>Mon</td>\n",
       "      <td>0</td>\n",
       "      <td>39</td>\n",
       "      <td>36</td>\n",
       "      <td>76</td>\n",
       "      <td>13</td>\n",
       "      <td>0.02</td>\n",
       "    </tr>\n",
       "    <tr>\n",
       "      <th>8599</th>\n",
       "      <td>25</td>\n",
       "      <td>12</td>\n",
       "      <td>31</td>\n",
       "      <td>20</td>\n",
       "      <td>Mon</td>\n",
       "      <td>0</td>\n",
       "      <td>38</td>\n",
       "      <td>36</td>\n",
       "      <td>86</td>\n",
       "      <td>14</td>\n",
       "      <td>0.04</td>\n",
       "    </tr>\n",
       "    <tr>\n",
       "      <th>8600</th>\n",
       "      <td>13</td>\n",
       "      <td>12</td>\n",
       "      <td>31</td>\n",
       "      <td>21</td>\n",
       "      <td>Mon</td>\n",
       "      <td>0</td>\n",
       "      <td>37</td>\n",
       "      <td>36</td>\n",
       "      <td>89</td>\n",
       "      <td>15</td>\n",
       "      <td>0.07</td>\n",
       "    </tr>\n",
       "    <tr>\n",
       "      <th>8601</th>\n",
       "      <td>6</td>\n",
       "      <td>12</td>\n",
       "      <td>31</td>\n",
       "      <td>22</td>\n",
       "      <td>Mon</td>\n",
       "      <td>0</td>\n",
       "      <td>38</td>\n",
       "      <td>37</td>\n",
       "      <td>89</td>\n",
       "      <td>14</td>\n",
       "      <td>0.09</td>\n",
       "    </tr>\n",
       "    <tr>\n",
       "      <th>8602</th>\n",
       "      <td>7</td>\n",
       "      <td>12</td>\n",
       "      <td>31</td>\n",
       "      <td>23</td>\n",
       "      <td>Mon</td>\n",
       "      <td>0</td>\n",
       "      <td>39</td>\n",
       "      <td>38</td>\n",
       "      <td>89</td>\n",
       "      <td>17</td>\n",
       "      <td>0.19</td>\n",
       "    </tr>\n",
       "  </tbody>\n",
       "</table>\n",
       "</div>"
      ],
      "text/plain": [
       "      rentals  month  day  hour day_of_week  weekend  temp  temp_wb  \\\n",
       "8597       69     12   31    18         Mon        0    42       37   \n",
       "8598       36     12   31    19         Mon        0    39       36   \n",
       "8599       25     12   31    20         Mon        0    38       36   \n",
       "8600       13     12   31    21         Mon        0    37       36   \n",
       "8601        6     12   31    22         Mon        0    38       37   \n",
       "8602        7     12   31    23         Mon        0    39       38   \n",
       "\n",
       "      rel_humidity  windspeed  precipitation  \n",
       "8597            60         10           0.00  \n",
       "8598            76         13           0.02  \n",
       "8599            86         14           0.04  \n",
       "8600            89         15           0.07  \n",
       "8601            89         14           0.09  \n",
       "8602            89         17           0.19  "
      ]
     },
     "execution_count": 6,
     "metadata": {},
     "output_type": "execute_result"
    }
   ],
   "source": [
    "df.tail(6)"
   ]
  },
  {
   "cell_type": "markdown",
   "metadata": {
    "id": "qcSZiU8jBgvH"
   },
   "source": [
    "Looking at the data, its clear that things like 'day_of_week' or 'day' are not truly numerical (in the sense of a temperature or a price) but rather *categorical*. So we go ahead an declare those columns of the dataframe as such. "
   ]
  },
  {
   "cell_type": "code",
   "execution_count": 7,
   "metadata": {
    "id": "fcjUxo8GN9Jr"
   },
   "outputs": [],
   "source": [
    "categorical_variables = ['month','day','hour','day_of_week','weekend']\n",
    "df[categorical_variables] = df[categorical_variables].astype('category')"
   ]
  },
  {
   "cell_type": "code",
   "execution_count": 8,
   "metadata": {
    "colab": {
     "base_uri": "https://localhost:8080/",
     "height": 693
    },
    "id": "Y-5RA35LMvof",
    "outputId": "2523ca55-70c8-4daf-8e20-cfe1c8cb56b2"
   },
   "outputs": [
    {
     "data": {
      "text/html": [
       "<pre style=\"white-space:pre;overflow-x:auto;line-height:normal;font-family:Menlo,'DejaVu Sans Mono',consolas,'Courier New',monospace\">╭──────────────────────────────────────────────── skimpy summary ─────────────────────────────────────────────────╮\n",
       "│ <span style=\"font-style: italic\">         Data Summary         </span> <span style=\"font-style: italic\">      Data Types       </span> <span style=\"font-style: italic\">       Categories        </span>                                │\n",
       "│ ┏━━━━━━━━━━━━━━━━━━━┳━━━━━━━━┓ ┏━━━━━━━━━━━━━┳━━━━━━━┓ ┏━━━━━━━━━━━━━━━━━━━━━━━┓                                │\n",
       "│ ┃<span style=\"color: #008080; text-decoration-color: #008080; font-weight: bold\"> Dataframe         </span>┃<span style=\"color: #008080; text-decoration-color: #008080; font-weight: bold\"> Values </span>┃ ┃<span style=\"color: #008080; text-decoration-color: #008080; font-weight: bold\"> Column Type </span>┃<span style=\"color: #008080; text-decoration-color: #008080; font-weight: bold\"> Count </span>┃ ┃<span style=\"color: #008080; text-decoration-color: #008080; font-weight: bold\"> Categorical Variables </span>┃                                │\n",
       "│ ┡━━━━━━━━━━━━━━━━━━━╇━━━━━━━━┩ ┡━━━━━━━━━━━━━╇━━━━━━━┩ ┡━━━━━━━━━━━━━━━━━━━━━━━┩                                │\n",
       "│ │ Number of rows    │ 8603   │ │ int64       │ 5     │ │ month                 │                                │\n",
       "│ │ Number of columns │ 11     │ │ category    │ 5     │ │ day                   │                                │\n",
       "│ └───────────────────┴────────┘ │ float64     │ 1     │ │ hour                  │                                │\n",
       "│                                └─────────────┴───────┘ │ day_of_week           │                                │\n",
       "│                                                        │ weekend               │                                │\n",
       "│                                                        └───────────────────────┘                                │\n",
       "│ <span style=\"font-style: italic\">                                                    number                                                    </span>  │\n",
       "│ ┏━━━━━━━━━━━━━━━━━━━━┳━━━━━━┳━━━━━━━━┳━━━━━━━━━━━━┳━━━━━━━━━━━━┳━━━━━┳━━━━━━━┳━━━━━━┳━━━━━━┳━━━━━━━┳━━━━━━━━━┓  │\n",
       "│ ┃<span style=\"font-weight: bold\"> column             </span>┃<span style=\"font-weight: bold\"> NA   </span>┃<span style=\"font-weight: bold\"> NA %   </span>┃<span style=\"font-weight: bold\"> mean       </span>┃<span style=\"font-weight: bold\"> sd         </span>┃<span style=\"font-weight: bold\"> p0  </span>┃<span style=\"font-weight: bold\"> p25   </span>┃<span style=\"font-weight: bold\"> p50  </span>┃<span style=\"font-weight: bold\"> p75  </span>┃<span style=\"font-weight: bold\"> p100  </span>┃<span style=\"font-weight: bold\"> hist    </span>┃  │\n",
       "│ ┡━━━━━━━━━━━━━━━━━━━━╇━━━━━━╇━━━━━━━━╇━━━━━━━━━━━━╇━━━━━━━━━━━━╇━━━━━╇━━━━━━━╇━━━━━━╇━━━━━━╇━━━━━━━╇━━━━━━━━━┩  │\n",
       "│ │ <span style=\"color: #af87ff; text-decoration-color: #af87ff\">rentals           </span> │ <span style=\"color: #008080; text-decoration-color: #008080\">   0</span> │ <span style=\"color: #008080; text-decoration-color: #008080\">     0</span> │ <span style=\"color: #008080; text-decoration-color: #008080\">     205.1</span> │ <span style=\"color: #008080; text-decoration-color: #008080\">     227.1</span> │ <span style=\"color: #008080; text-decoration-color: #008080\">  1</span> │ <span style=\"color: #008080; text-decoration-color: #008080\">   32</span> │ <span style=\"color: #008080; text-decoration-color: #008080\"> 120</span> │ <span style=\"color: #008080; text-decoration-color: #008080\"> 306</span> │ <span style=\"color: #008080; text-decoration-color: #008080\"> 1299</span> │ <span style=\"color: #008000; text-decoration-color: #008000\">  █▃▁  </span> │  │\n",
       "│ │ <span style=\"color: #af87ff; text-decoration-color: #af87ff\">temp              </span> │ <span style=\"color: #008080; text-decoration-color: #008080\">   0</span> │ <span style=\"color: #008080; text-decoration-color: #008080\">     0</span> │ <span style=\"color: #008080; text-decoration-color: #008080\">     53.21</span> │ <span style=\"color: #008080; text-decoration-color: #008080\">     18.29</span> │ <span style=\"color: #008080; text-decoration-color: #008080\"> -2</span> │ <span style=\"color: #008080; text-decoration-color: #008080\">   38</span> │ <span style=\"color: #008080; text-decoration-color: #008080\">  52</span> │ <span style=\"color: #008080; text-decoration-color: #008080\">  69</span> │ <span style=\"color: #008080; text-decoration-color: #008080\">   97</span> │ <span style=\"color: #008000; text-decoration-color: #008000\"> ▂█▆▇▂ </span> │  │\n",
       "│ │ <span style=\"color: #af87ff; text-decoration-color: #af87ff\">temp_wb           </span> │ <span style=\"color: #008080; text-decoration-color: #008080\">   0</span> │ <span style=\"color: #008080; text-decoration-color: #008080\">     0</span> │ <span style=\"color: #008080; text-decoration-color: #008080\">     47.84</span> │ <span style=\"color: #008080; text-decoration-color: #008080\">     16.91</span> │ <span style=\"color: #008080; text-decoration-color: #008080\"> -3</span> │ <span style=\"color: #008080; text-decoration-color: #008080\">   34</span> │ <span style=\"color: #008080; text-decoration-color: #008080\">  48</span> │ <span style=\"color: #008080; text-decoration-color: #008080\">  62</span> │ <span style=\"color: #008080; text-decoration-color: #008080\">   81</span> │ <span style=\"color: #008000; text-decoration-color: #008000\"> ▂█▇█▅ </span> │  │\n",
       "│ │ <span style=\"color: #af87ff; text-decoration-color: #af87ff\">rel_humidity      </span> │ <span style=\"color: #008080; text-decoration-color: #008080\">   0</span> │ <span style=\"color: #008080; text-decoration-color: #008080\">     0</span> │ <span style=\"color: #008080; text-decoration-color: #008080\">     67.11</span> │ <span style=\"color: #008080; text-decoration-color: #008080\">     18.92</span> │ <span style=\"color: #008080; text-decoration-color: #008080\"> 16</span> │ <span style=\"color: #008080; text-decoration-color: #008080\">   53</span> │ <span style=\"color: #008080; text-decoration-color: #008080\">  68</span> │ <span style=\"color: #008080; text-decoration-color: #008080\">  84</span> │ <span style=\"color: #008080; text-decoration-color: #008080\">  100</span> │ <span style=\"color: #008000; text-decoration-color: #008000\">▁▃▇█▇▇ </span> │  │\n",
       "│ │ <span style=\"color: #af87ff; text-decoration-color: #af87ff\">windspeed         </span> │ <span style=\"color: #008080; text-decoration-color: #008080\">   0</span> │ <span style=\"color: #008080; text-decoration-color: #008080\">     0</span> │ <span style=\"color: #008080; text-decoration-color: #008080\">      11.1</span> │ <span style=\"color: #008080; text-decoration-color: #008080\">     5.455</span> │ <span style=\"color: #008080; text-decoration-color: #008080\">  0</span> │ <span style=\"color: #008080; text-decoration-color: #008080\">    7</span> │ <span style=\"color: #008080; text-decoration-color: #008080\">  10</span> │ <span style=\"color: #008080; text-decoration-color: #008080\">  14</span> │ <span style=\"color: #008080; text-decoration-color: #008080\">   48</span> │ <span style=\"color: #008000; text-decoration-color: #008000\">  ▄█▂  </span> │  │\n",
       "│ │ <span style=\"color: #af87ff; text-decoration-color: #af87ff\">precipitation     </span> │ <span style=\"color: #008080; text-decoration-color: #008080\">   0</span> │ <span style=\"color: #008080; text-decoration-color: #008080\">     0</span> │ <span style=\"color: #008080; text-decoration-color: #008080\">   0.00544</span> │ <span style=\"color: #008080; text-decoration-color: #008080\">   0.03407</span> │ <span style=\"color: #008080; text-decoration-color: #008080\">  0</span> │ <span style=\"color: #008080; text-decoration-color: #008080\">    0</span> │ <span style=\"color: #008080; text-decoration-color: #008080\">   0</span> │ <span style=\"color: #008080; text-decoration-color: #008080\">   0</span> │ <span style=\"color: #008080; text-decoration-color: #008080\"> 1.12</span> │ <span style=\"color: #008000; text-decoration-color: #008000\">   █   </span> │  │\n",
       "│ └────────────────────┴──────┴────────┴────────────┴────────────┴─────┴───────┴──────┴──────┴───────┴─────────┘  │\n",
       "│ <span style=\"font-style: italic\">                                                   category                                                   </span>  │\n",
       "│ ┏━━━━━━━━━━━━━━━━━━━━━━━━━━━━━━━━━━┳━━━━━━━━━━━┳━━━━━━━━━━━━━━━━┳━━━━━━━━━━━━━━━━━━━━━━━┳━━━━━━━━━━━━━━━━━━━━┓  │\n",
       "│ ┃<span style=\"font-weight: bold\"> column                           </span>┃<span style=\"font-weight: bold\"> NA        </span>┃<span style=\"font-weight: bold\"> NA %           </span>┃<span style=\"font-weight: bold\"> ordered               </span>┃<span style=\"font-weight: bold\"> unique             </span>┃  │\n",
       "│ ┡━━━━━━━━━━━━━━━━━━━━━━━━━━━━━━━━━━╇━━━━━━━━━━━╇━━━━━━━━━━━━━━━━╇━━━━━━━━━━━━━━━━━━━━━━━╇━━━━━━━━━━━━━━━━━━━━┩  │\n",
       "│ │ <span style=\"color: #af87ff; text-decoration-color: #af87ff\">month                           </span> │ <span style=\"color: #008080; text-decoration-color: #008080\">        0</span> │ <span style=\"color: #008080; text-decoration-color: #008080\">             0</span> │ <span style=\"color: #00d7ff; text-decoration-color: #00d7ff\">False                </span> │ <span style=\"color: #008080; text-decoration-color: #008080\">                12</span> │  │\n",
       "│ │ <span style=\"color: #af87ff; text-decoration-color: #af87ff\">day                             </span> │ <span style=\"color: #008080; text-decoration-color: #008080\">        0</span> │ <span style=\"color: #008080; text-decoration-color: #008080\">             0</span> │ <span style=\"color: #00d7ff; text-decoration-color: #00d7ff\">False                </span> │ <span style=\"color: #008080; text-decoration-color: #008080\">                31</span> │  │\n",
       "│ │ <span style=\"color: #af87ff; text-decoration-color: #af87ff\">hour                            </span> │ <span style=\"color: #008080; text-decoration-color: #008080\">        0</span> │ <span style=\"color: #008080; text-decoration-color: #008080\">             0</span> │ <span style=\"color: #00d7ff; text-decoration-color: #00d7ff\">False                </span> │ <span style=\"color: #008080; text-decoration-color: #008080\">                24</span> │  │\n",
       "│ │ <span style=\"color: #af87ff; text-decoration-color: #af87ff\">day_of_week                     </span> │ <span style=\"color: #008080; text-decoration-color: #008080\">        0</span> │ <span style=\"color: #008080; text-decoration-color: #008080\">             0</span> │ <span style=\"color: #00d7ff; text-decoration-color: #00d7ff\">False                </span> │ <span style=\"color: #008080; text-decoration-color: #008080\">                 7</span> │  │\n",
       "│ │ <span style=\"color: #af87ff; text-decoration-color: #af87ff\">weekend                         </span> │ <span style=\"color: #008080; text-decoration-color: #008080\">        0</span> │ <span style=\"color: #008080; text-decoration-color: #008080\">             0</span> │ <span style=\"color: #00d7ff; text-decoration-color: #00d7ff\">False                </span> │ <span style=\"color: #008080; text-decoration-color: #008080\">                 2</span> │  │\n",
       "│ └──────────────────────────────────┴───────────┴────────────────┴───────────────────────┴────────────────────┘  │\n",
       "╰────────────────────────────────────────────────────── End ──────────────────────────────────────────────────────╯\n",
       "</pre>\n"
      ],
      "text/plain": [
       "╭──────────────────────────────────────────────── skimpy summary ─────────────────────────────────────────────────╮\n",
       "│ \u001b[3m         Data Summary         \u001b[0m \u001b[3m      Data Types       \u001b[0m \u001b[3m       Categories        \u001b[0m                                │\n",
       "│ ┏━━━━━━━━━━━━━━━━━━━┳━━━━━━━━┓ ┏━━━━━━━━━━━━━┳━━━━━━━┓ ┏━━━━━━━━━━━━━━━━━━━━━━━┓                                │\n",
       "│ ┃\u001b[1;36m \u001b[0m\u001b[1;36mDataframe        \u001b[0m\u001b[1;36m \u001b[0m┃\u001b[1;36m \u001b[0m\u001b[1;36mValues\u001b[0m\u001b[1;36m \u001b[0m┃ ┃\u001b[1;36m \u001b[0m\u001b[1;36mColumn Type\u001b[0m\u001b[1;36m \u001b[0m┃\u001b[1;36m \u001b[0m\u001b[1;36mCount\u001b[0m\u001b[1;36m \u001b[0m┃ ┃\u001b[1;36m \u001b[0m\u001b[1;36mCategorical Variables\u001b[0m\u001b[1;36m \u001b[0m┃                                │\n",
       "│ ┡━━━━━━━━━━━━━━━━━━━╇━━━━━━━━┩ ┡━━━━━━━━━━━━━╇━━━━━━━┩ ┡━━━━━━━━━━━━━━━━━━━━━━━┩                                │\n",
       "│ │ Number of rows    │ 8603   │ │ int64       │ 5     │ │ month                 │                                │\n",
       "│ │ Number of columns │ 11     │ │ category    │ 5     │ │ day                   │                                │\n",
       "│ └───────────────────┴────────┘ │ float64     │ 1     │ │ hour                  │                                │\n",
       "│                                └─────────────┴───────┘ │ day_of_week           │                                │\n",
       "│                                                        │ weekend               │                                │\n",
       "│                                                        └───────────────────────┘                                │\n",
       "│ \u001b[3m                                                    number                                                    \u001b[0m  │\n",
       "│ ┏━━━━━━━━━━━━━━━━━━━━┳━━━━━━┳━━━━━━━━┳━━━━━━━━━━━━┳━━━━━━━━━━━━┳━━━━━┳━━━━━━━┳━━━━━━┳━━━━━━┳━━━━━━━┳━━━━━━━━━┓  │\n",
       "│ ┃\u001b[1m \u001b[0m\u001b[1mcolumn            \u001b[0m\u001b[1m \u001b[0m┃\u001b[1m \u001b[0m\u001b[1mNA  \u001b[0m\u001b[1m \u001b[0m┃\u001b[1m \u001b[0m\u001b[1mNA %  \u001b[0m\u001b[1m \u001b[0m┃\u001b[1m \u001b[0m\u001b[1mmean      \u001b[0m\u001b[1m \u001b[0m┃\u001b[1m \u001b[0m\u001b[1msd        \u001b[0m\u001b[1m \u001b[0m┃\u001b[1m \u001b[0m\u001b[1mp0 \u001b[0m\u001b[1m \u001b[0m┃\u001b[1m \u001b[0m\u001b[1mp25  \u001b[0m\u001b[1m \u001b[0m┃\u001b[1m \u001b[0m\u001b[1mp50 \u001b[0m\u001b[1m \u001b[0m┃\u001b[1m \u001b[0m\u001b[1mp75 \u001b[0m\u001b[1m \u001b[0m┃\u001b[1m \u001b[0m\u001b[1mp100 \u001b[0m\u001b[1m \u001b[0m┃\u001b[1m \u001b[0m\u001b[1mhist   \u001b[0m\u001b[1m \u001b[0m┃  │\n",
       "│ ┡━━━━━━━━━━━━━━━━━━━━╇━━━━━━╇━━━━━━━━╇━━━━━━━━━━━━╇━━━━━━━━━━━━╇━━━━━╇━━━━━━━╇━━━━━━╇━━━━━━╇━━━━━━━╇━━━━━━━━━┩  │\n",
       "│ │ \u001b[38;5;141mrentals           \u001b[0m │ \u001b[36m   0\u001b[0m │ \u001b[36m     0\u001b[0m │ \u001b[36m     205.1\u001b[0m │ \u001b[36m     227.1\u001b[0m │ \u001b[36m  1\u001b[0m │ \u001b[36m   32\u001b[0m │ \u001b[36m 120\u001b[0m │ \u001b[36m 306\u001b[0m │ \u001b[36m 1299\u001b[0m │ \u001b[32m  █▃▁  \u001b[0m │  │\n",
       "│ │ \u001b[38;5;141mtemp              \u001b[0m │ \u001b[36m   0\u001b[0m │ \u001b[36m     0\u001b[0m │ \u001b[36m     53.21\u001b[0m │ \u001b[36m     18.29\u001b[0m │ \u001b[36m -2\u001b[0m │ \u001b[36m   38\u001b[0m │ \u001b[36m  52\u001b[0m │ \u001b[36m  69\u001b[0m │ \u001b[36m   97\u001b[0m │ \u001b[32m ▂█▆▇▂ \u001b[0m │  │\n",
       "│ │ \u001b[38;5;141mtemp_wb           \u001b[0m │ \u001b[36m   0\u001b[0m │ \u001b[36m     0\u001b[0m │ \u001b[36m     47.84\u001b[0m │ \u001b[36m     16.91\u001b[0m │ \u001b[36m -3\u001b[0m │ \u001b[36m   34\u001b[0m │ \u001b[36m  48\u001b[0m │ \u001b[36m  62\u001b[0m │ \u001b[36m   81\u001b[0m │ \u001b[32m ▂█▇█▅ \u001b[0m │  │\n",
       "│ │ \u001b[38;5;141mrel_humidity      \u001b[0m │ \u001b[36m   0\u001b[0m │ \u001b[36m     0\u001b[0m │ \u001b[36m     67.11\u001b[0m │ \u001b[36m     18.92\u001b[0m │ \u001b[36m 16\u001b[0m │ \u001b[36m   53\u001b[0m │ \u001b[36m  68\u001b[0m │ \u001b[36m  84\u001b[0m │ \u001b[36m  100\u001b[0m │ \u001b[32m▁▃▇█▇▇ \u001b[0m │  │\n",
       "│ │ \u001b[38;5;141mwindspeed         \u001b[0m │ \u001b[36m   0\u001b[0m │ \u001b[36m     0\u001b[0m │ \u001b[36m      11.1\u001b[0m │ \u001b[36m     5.455\u001b[0m │ \u001b[36m  0\u001b[0m │ \u001b[36m    7\u001b[0m │ \u001b[36m  10\u001b[0m │ \u001b[36m  14\u001b[0m │ \u001b[36m   48\u001b[0m │ \u001b[32m  ▄█▂  \u001b[0m │  │\n",
       "│ │ \u001b[38;5;141mprecipitation     \u001b[0m │ \u001b[36m   0\u001b[0m │ \u001b[36m     0\u001b[0m │ \u001b[36m   0.00544\u001b[0m │ \u001b[36m   0.03407\u001b[0m │ \u001b[36m  0\u001b[0m │ \u001b[36m    0\u001b[0m │ \u001b[36m   0\u001b[0m │ \u001b[36m   0\u001b[0m │ \u001b[36m 1.12\u001b[0m │ \u001b[32m   █   \u001b[0m │  │\n",
       "│ └────────────────────┴──────┴────────┴────────────┴────────────┴─────┴───────┴──────┴──────┴───────┴─────────┘  │\n",
       "│ \u001b[3m                                                   category                                                   \u001b[0m  │\n",
       "│ ┏━━━━━━━━━━━━━━━━━━━━━━━━━━━━━━━━━━┳━━━━━━━━━━━┳━━━━━━━━━━━━━━━━┳━━━━━━━━━━━━━━━━━━━━━━━┳━━━━━━━━━━━━━━━━━━━━┓  │\n",
       "│ ┃\u001b[1m \u001b[0m\u001b[1mcolumn                          \u001b[0m\u001b[1m \u001b[0m┃\u001b[1m \u001b[0m\u001b[1mNA       \u001b[0m\u001b[1m \u001b[0m┃\u001b[1m \u001b[0m\u001b[1mNA %          \u001b[0m\u001b[1m \u001b[0m┃\u001b[1m \u001b[0m\u001b[1mordered              \u001b[0m\u001b[1m \u001b[0m┃\u001b[1m \u001b[0m\u001b[1munique            \u001b[0m\u001b[1m \u001b[0m┃  │\n",
       "│ ┡━━━━━━━━━━━━━━━━━━━━━━━━━━━━━━━━━━╇━━━━━━━━━━━╇━━━━━━━━━━━━━━━━╇━━━━━━━━━━━━━━━━━━━━━━━╇━━━━━━━━━━━━━━━━━━━━┩  │\n",
       "│ │ \u001b[38;5;141mmonth                           \u001b[0m │ \u001b[36m        0\u001b[0m │ \u001b[36m             0\u001b[0m │ \u001b[38;5;45mFalse                \u001b[0m │ \u001b[36m                12\u001b[0m │  │\n",
       "│ │ \u001b[38;5;141mday                             \u001b[0m │ \u001b[36m        0\u001b[0m │ \u001b[36m             0\u001b[0m │ \u001b[38;5;45mFalse                \u001b[0m │ \u001b[36m                31\u001b[0m │  │\n",
       "│ │ \u001b[38;5;141mhour                            \u001b[0m │ \u001b[36m        0\u001b[0m │ \u001b[36m             0\u001b[0m │ \u001b[38;5;45mFalse                \u001b[0m │ \u001b[36m                24\u001b[0m │  │\n",
       "│ │ \u001b[38;5;141mday_of_week                     \u001b[0m │ \u001b[36m        0\u001b[0m │ \u001b[36m             0\u001b[0m │ \u001b[38;5;45mFalse                \u001b[0m │ \u001b[36m                 7\u001b[0m │  │\n",
       "│ │ \u001b[38;5;141mweekend                         \u001b[0m │ \u001b[36m        0\u001b[0m │ \u001b[36m             0\u001b[0m │ \u001b[38;5;45mFalse                \u001b[0m │ \u001b[36m                 2\u001b[0m │  │\n",
       "│ └──────────────────────────────────┴───────────┴────────────────┴───────────────────────┴────────────────────┘  │\n",
       "╰────────────────────────────────────────────────────── End ──────────────────────────────────────────────────────╯\n"
      ]
     },
     "metadata": {},
     "output_type": "display_data"
    }
   ],
   "source": [
    "skim(df)"
   ]
  },
  {
   "cell_type": "markdown",
   "metadata": {
    "id": "UiHUmW_PCHl7"
   },
   "source": [
    "Lets produce a histogram of rentals data. We've selected bins based on what we saw of the data from the summary we gleaned using 'skim'."
   ]
  },
  {
   "cell_type": "code",
   "execution_count": 9,
   "metadata": {
    "colab": {
     "base_uri": "https://localhost:8080/",
     "height": 313
    },
    "id": "6e9rjOA2OlRa",
    "outputId": "ffa74ab7-bef9-4531-9e1e-47511f8920d4"
   },
   "outputs": [
    {
     "data": {
      "text/plain": [
       "Text(0, 0.5, 'Number of Data Points')"
      ]
     },
     "execution_count": 9,
     "metadata": {},
     "output_type": "execute_result"
    },
    {
     "data": {
      "image/png": "[encoded data removed]",
      "text/plain": [
       "<Figure size 640x480 with 1 Axes>"
      ]
     },
     "metadata": {},
     "output_type": "display_data"
    }
   ],
   "source": [
    "plt.hist(df['rentals'], bins = range(0,1400,50))\n",
    "plt.title('Rentals Data')\n",
    "plt.xlabel('Number of Rentals')\n",
    "plt.ylabel('Number of Data Points')"
   ]
  },
  {
   "cell_type": "markdown",
   "metadata": {
    "id": "vSO255NLCYIm"
   },
   "source": [
    "The mean number of rental is ~205, with a standard deviation of 227."
   ]
  },
  {
   "cell_type": "code",
   "execution_count": 10,
   "metadata": {
    "colab": {
     "base_uri": "https://localhost:8080/"
    },
    "id": "ev1dAN3EPa7v",
    "outputId": "13cdda40-6c89-48b1-abad-82d8de9e4b5c"
   },
   "outputs": [
    {
     "name": "stdout",
     "output_type": "stream",
     "text": [
      "Average no. of Rentals: 205.08578402882716 Standard Dev: 227.03926517480505\n"
     ]
    }
   ],
   "source": [
    "print(\"Average no. of Rentals: \"+str(np.mean(df['rentals']))+\" Standard Dev: \"+str(np.std(df['rentals'])))"
   ]
  },
  {
   "cell_type": "markdown",
   "metadata": {
    "id": "O5hDYpaNC3vx"
   },
   "source": [
    "Next a histogram at a temp of 25F. "
   ]
  },
  {
   "cell_type": "code",
   "execution_count": 11,
   "metadata": {
    "colab": {
     "base_uri": "https://localhost:8080/",
     "height": 313
    },
    "id": "yQc_t36oQKKF",
    "outputId": "71f18506-78c1-48fc-d7aa-246c63153527"
   },
   "outputs": [
    {
     "data": {
      "text/plain": [
       "Text(0, 0.5, 'Number of Data Points')"
      ]
     },
     "execution_count": 11,
     "metadata": {},
     "output_type": "execute_result"
    },
    {
     "data": {
      "image/png": "[encoded data removed]",
      "text/plain": [
       "<Figure size 640x480 with 1 Axes>"
      ]
     },
     "metadata": {},
     "output_type": "display_data"
    }
   ],
   "source": [
    "df_cold = df[df['temp']==25]\n",
    "plt.hist(df_cold['rentals'], bins = range(0,1400,50))\n",
    "plt.title('Rentals Data at Temp of 25F')\n",
    "plt.xlabel('Number of Rentals')\n",
    "plt.ylabel('Number of Data Points')"
   ]
  },
  {
   "cell_type": "markdown",
   "metadata": {
    "id": "h1puDfEODBd1"
   },
   "source": [
    "Standard deviation is now a lot smaller.."
   ]
  },
  {
   "cell_type": "code",
   "execution_count": 12,
   "metadata": {
    "colab": {
     "base_uri": "https://localhost:8080/"
    },
    "id": "01Wpco2JCuZ-",
    "outputId": "07cd87cf-fde4-4416-bc0b-c4b067ce1907"
   },
   "outputs": [
    {
     "name": "stdout",
     "output_type": "stream",
     "text": [
      "Average no. of Rentals at 25F: 72.55384615384615 Standard Dev: 90.4802623218041\n"
     ]
    }
   ],
   "source": [
    "print(\"Average no. of Rentals at 25F: \"+str(np.mean(df_cold['rentals']))+\" Standard Dev: \"+str(np.std(df_cold['rentals'])))"
   ]
  },
  {
   "cell_type": "markdown",
   "metadata": {
    "id": "hoVanchTDbPJ"
   },
   "source": [
    "A scatter plot of rentals across hour of rental shows that knowing the hour of rental could potentially reduce variability dramatically."
   ]
  },
  {
   "cell_type": "code",
   "execution_count": 13,
   "metadata": {
    "colab": {
     "base_uri": "https://localhost:8080/",
     "height": 313
    },
    "id": "b_nafBiQTVuS",
    "outputId": "6792796b-5506-4778-cfc7-5646db7e2c27"
   },
   "outputs": [
    {
     "data": {
      "text/plain": [
       "Text(0, 0.5, '# Rentals')"
      ]
     },
     "execution_count": 13,
     "metadata": {},
     "output_type": "execute_result"
    },
    {
     "data": {
      "image/png": "[encoded data removed]",
      "text/plain": [
       "<Figure size 640x480 with 1 Axes>"
      ]
     },
     "metadata": {},
     "output_type": "display_data"
    }
   ],
   "source": [
    "plt.scatter(df['hour'],df['rentals'],s=2)\n",
    "plt.title('Rentals vs. Hour of Day')\n",
    "plt.xlabel('Hour of Day')\n",
    "plt.ylabel('# Rentals')"
   ]
  },
  {
   "cell_type": "markdown",
   "metadata": {
    "id": "OoL7KiXXHugh"
   },
   "source": [
    "Now lets take a look at rentals vs. temperature. We also look at the mean (or average) number of rentals and notice a definite straight-line like trend"
   ]
  },
  {
   "cell_type": "code",
   "execution_count": 14,
   "metadata": {
    "colab": {
     "base_uri": "https://localhost:8080/",
     "height": 313
    },
    "id": "dd9t77RTVo-g",
    "outputId": "7868a01e-defa-4b66-f435-2be3c895924f"
   },
   "outputs": [
    {
     "data": {
      "text/plain": [
       "<matplotlib.collections.PathCollection at 0x34c60b610>"
      ]
     },
     "execution_count": 14,
     "metadata": {},
     "output_type": "execute_result"
    },
    {
     "data": {
      "image/png": "[encoded data removed]",
      "text/plain": [
       "<Figure size 640x480 with 1 Axes>"
      ]
     },
     "metadata": {},
     "output_type": "display_data"
    }
   ],
   "source": [
    "plt.scatter(df['temp'],df['rentals'],s=2)\n",
    "plt.title('Rentals vs. Temp (mean value in orange)')\n",
    "plt.xlabel('Temp')\n",
    "plt.ylabel('# Rentals')\n",
    "plt.scatter(df['temp'].unique(),df.groupby('temp')['rentals'].mean())"
   ]
  },
  {
   "cell_type": "markdown",
   "metadata": {
    "id": "70uo5euHIlBY"
   },
   "source": [
    "The above scatter plot is the key motivation for linear regression which we will turn to next. In particular, we will run a number of regressions of the type 'rentals' vs. some other independent variable (eg. temp) that we belive to have explanatory power.  "
   ]
  },
  {
   "cell_type": "code",
   "execution_count": 15,
   "metadata": {
    "colab": {
     "base_uri": "https://localhost:8080/"
    },
    "id": "n9uz3SMn8bj9",
    "outputId": "eaee48e9-89c2-4910-ef1d-23a9c96dcfb8"
   },
   "outputs": [
    {
     "name": "stdout",
     "output_type": "stream",
     "text": [
      "                            OLS Regression Results                            \n",
      "==============================================================================\n",
      "Dep. Variable:                rentals   R-squared:                       0.235\n",
      "Model:                            OLS   Adj. R-squared:                  0.235\n",
      "Method:                 Least Squares   F-statistic:                     2641.\n",
      "Date:                Wed, 19 Mar 2025   Prob (F-statistic):               0.00\n",
      "Time:                        18:04:21   Log-Likelihood:                -57727.\n",
      "No. Observations:                8603   AIC:                         1.155e+05\n",
      "Df Residuals:                    8601   BIC:                         1.155e+05\n",
      "Df Model:                           1                                         \n",
      "Covariance Type:            nonrobust                                         \n",
      "==============================================================================\n",
      "                 coef    std err          t      P>|t|      [0.025      0.975]\n",
      "------------------------------------------------------------------------------\n",
      "Intercept   -115.1099      6.588    -17.473      0.000    -128.024    -102.196\n",
      "temp           6.0176      0.117     51.395      0.000       5.788       6.247\n",
      "==============================================================================\n",
      "Omnibus:                     2088.128   Durbin-Watson:                   0.424\n",
      "Prob(Omnibus):                  0.000   Jarque-Bera (JB):             5175.982\n",
      "Skew:                           1.332   Prob(JB):                         0.00\n",
      "Kurtosis:                       5.709   Cond. No.                         173.\n",
      "==============================================================================\n",
      "\n",
      "Notes:\n",
      "[1] Standard Errors assume that the covariance matrix of the errors is correctly specified.\n"
     ]
    }
   ],
   "source": [
    "est = ols(formula=\"rentals ~ temp\", data=df).fit()\n",
    "print(est.summary())"
   ]
  },
  {
   "cell_type": "code",
   "execution_count": 16,
   "metadata": {
    "colab": {
     "base_uri": "https://localhost:8080/"
    },
    "id": "4KAIAR5j_DCm",
    "outputId": "e1ebf555-d887-46ee-a774-ea1f59017725"
   },
   "outputs": [
    {
     "name": "stdout",
     "output_type": "stream",
     "text": [
      "                            OLS Regression Results                            \n",
      "==============================================================================\n",
      "Dep. Variable:                rentals   R-squared:                       0.028\n",
      "Model:                            OLS   Adj. R-squared:                  0.028\n",
      "Method:                 Least Squares   F-statistic:                     249.5\n",
      "Date:                Wed, 19 Mar 2025   Prob (F-statistic):           1.99e-55\n",
      "Time:                        18:04:21   Log-Likelihood:                -58756.\n",
      "No. Observations:                8603   AIC:                         1.175e+05\n",
      "Df Residuals:                    8601   BIC:                         1.175e+05\n",
      "Df Model:                           1                                         \n",
      "Covariance Type:            nonrobust                                         \n",
      "================================================================================\n",
      "                   coef    std err          t      P>|t|      [0.025      0.975]\n",
      "--------------------------------------------------------------------------------\n",
      "Intercept      340.2762      8.892     38.266      0.000     322.845     357.707\n",
      "rel_humidity    -2.0146      0.128    -15.796      0.000      -2.265      -1.765\n",
      "==============================================================================\n",
      "Omnibus:                     2576.191   Durbin-Watson:                   0.336\n",
      "Prob(Omnibus):                  0.000   Jarque-Bera (JB):             6709.611\n",
      "Skew:                           1.633   Prob(JB):                         0.00\n",
      "Kurtosis:                       5.837   Cond. No.                         257.\n",
      "==============================================================================\n",
      "\n",
      "Notes:\n",
      "[1] Standard Errors assume that the covariance matrix of the errors is correctly specified.\n"
     ]
    }
   ],
   "source": [
    "est = ols(formula=\"rentals ~ rel_humidity\", data=df).fit()\n",
    "print(est.summary())"
   ]
  },
  {
   "cell_type": "code",
   "execution_count": 17,
   "metadata": {
    "colab": {
     "base_uri": "https://localhost:8080/"
    },
    "id": "zZcDcPDF_PhY",
    "outputId": "d4373df3-bd87-4474-d26e-83bad6b6140c"
   },
   "outputs": [
    {
     "name": "stdout",
     "output_type": "stream",
     "text": [
      "                            OLS Regression Results                            \n",
      "==============================================================================\n",
      "Dep. Variable:                rentals   R-squared:                       0.015\n",
      "Model:                            OLS   Adj. R-squared:                  0.015\n",
      "Method:                 Least Squares   F-statistic:                     132.1\n",
      "Date:                Wed, 19 Mar 2025   Prob (F-statistic):           2.42e-30\n",
      "Time:                        18:04:21   Log-Likelihood:                -58814.\n",
      "No. Observations:                8603   AIC:                         1.176e+05\n",
      "Df Residuals:                    8601   BIC:                         1.176e+05\n",
      "Df Model:                           1                                         \n",
      "Covariance Type:            nonrobust                                         \n",
      "================================================================================\n",
      "                   coef    std err          t      P>|t|      [0.025      0.975]\n",
      "--------------------------------------------------------------------------------\n",
      "Intercept      222.8186      2.878     77.417      0.000     217.177     228.460\n",
      "weekend[T.1]   -61.6884      5.368    -11.492      0.000     -72.211     -51.166\n",
      "==============================================================================\n",
      "Omnibus:                     2401.797   Durbin-Watson:                   0.335\n",
      "Prob(Omnibus):                  0.000   Jarque-Bera (JB):             5705.729\n",
      "Skew:                           1.569   Prob(JB):                         0.00\n",
      "Kurtosis:                       5.464   Cond. No.                         2.43\n",
      "==============================================================================\n",
      "\n",
      "Notes:\n",
      "[1] Standard Errors assume that the covariance matrix of the errors is correctly specified.\n"
     ]
    }
   ],
   "source": [
    "est = ols(formula=\"rentals ~ weekend\", data=df).fit()\n",
    "print(est.summary())"
   ]
  },
  {
   "cell_type": "code",
   "execution_count": 18,
   "metadata": {
    "colab": {
     "base_uri": "https://localhost:8080/"
    },
    "id": "WBPXB8RM_XiR",
    "outputId": "43e114e6-3c9b-4bf9-e773-2ca3ce738dea"
   },
   "outputs": [
    {
     "name": "stdout",
     "output_type": "stream",
     "text": [
      "                            OLS Regression Results                            \n",
      "==============================================================================\n",
      "Dep. Variable:                rentals   R-squared:                       0.017\n",
      "Model:                            OLS   Adj. R-squared:                  0.017\n",
      "Method:                 Least Squares   F-statistic:                     25.13\n",
      "Date:                Wed, 19 Mar 2025   Prob (F-statistic):           9.94e-30\n",
      "Time:                        18:04:21   Log-Likelihood:                -58805.\n",
      "No. Observations:                8603   AIC:                         1.176e+05\n",
      "Df Residuals:                    8596   BIC:                         1.177e+05\n",
      "Df Model:                           6                                         \n",
      "Covariance Type:            nonrobust                                         \n",
      "======================================================================================\n",
      "                         coef    std err          t      P>|t|      [0.025      0.975]\n",
      "--------------------------------------------------------------------------------------\n",
      "Intercept            225.2480      6.441     34.970      0.000     212.622     237.874\n",
      "day_of_week[T.Mon]   -22.2210      9.040     -2.458      0.014     -39.942      -4.500\n",
      "day_of_week[T.Sat]   -57.2245      9.082     -6.301      0.000     -75.027     -39.422\n",
      "day_of_week[T.Sun]   -71.0166      9.083     -7.818      0.000     -88.822     -53.211\n",
      "day_of_week[T.Thu]     6.8572      9.119      0.752      0.452     -11.017      24.732\n",
      "day_of_week[T.Tue]    -6.3961      9.136     -0.700      0.484     -24.304      11.512\n",
      "day_of_week[T.Wed]    10.2108      9.107      1.121      0.262      -7.642      28.063\n",
      "==============================================================================\n",
      "Omnibus:                     2399.606   Durbin-Watson:                   0.335\n",
      "Prob(Omnibus):                  0.000   Jarque-Bera (JB):             5702.983\n",
      "Skew:                           1.567   Prob(JB):                         0.00\n",
      "Kurtosis:                       5.468   Cond. No.                         7.89\n",
      "==============================================================================\n",
      "\n",
      "Notes:\n",
      "[1] Standard Errors assume that the covariance matrix of the errors is correctly specified.\n"
     ]
    }
   ],
   "source": [
    "est = ols(formula=\"rentals ~ day_of_week\", data=df).fit()\n",
    "print(est.summary())"
   ]
  },
  {
   "cell_type": "markdown",
   "metadata": {
    "id": "kdb2jsefJRMa"
   },
   "source": [
    "As a first step with multiple linear regression, we look for correlations between our independent variables. The reason is simple enough -- if two distinct variables are highly correlated, we may not want to include both. The reason for this is that it causes something called 'collinearity' which we will examine more carefully a bit later.  "
   ]
  },
  {
   "cell_type": "code",
   "execution_count": 19,
   "metadata": {
    "colab": {
     "base_uri": "https://localhost:8080/",
     "height": 237
    },
    "id": "nphT_hrAAE8t",
    "outputId": "fbf136cd-0de6-4e81-f820-d25ff2a463b9"
   },
   "outputs": [
    {
     "data": {
      "application/vnd.microsoft.datawrangler.viewer.v0+json": {
       "columns": [
        {
         "name": "index",
         "rawType": "object",
         "type": "string"
        },
        {
         "name": "rentals",
         "rawType": "float64",
         "type": "float"
        },
        {
         "name": "temp",
         "rawType": "float64",
         "type": "float"
        },
        {
         "name": "temp_wb",
         "rawType": "float64",
         "type": "float"
        },
        {
         "name": "rel_humidity",
         "rawType": "float64",
         "type": "float"
        },
        {
         "name": "windspeed",
         "rawType": "float64",
         "type": "float"
        },
        {
         "name": "precipitation",
         "rawType": "float64",
         "type": "float"
        }
       ],
       "conversionMethod": "pd.DataFrame",
       "ref": "dca7624e-93cc-41a4-bb96-1f6e372a5374",
       "rows": [
        [
         "rentals",
         "1.0",
         "0.48471644625647947",
         "0.42579223046613085",
         "-0.16790270945819574",
         "-0.019344944036932626",
         "-0.0716185661873373"
        ],
        [
         "temp",
         "0.48471644625647947",
         "1.0",
         "0.977800684279353",
         "0.12637689208197625",
         "-0.14841148127042875",
         "0.018469409062221092"
        ],
        [
         "temp_wb",
         "0.42579223046613085",
         "0.977800684279353",
         "1.0",
         "0.31982236291513344",
         "-0.18834684473435867",
         "0.05763760243016197"
        ],
        [
         "rel_humidity",
         "-0.16790270945819574",
         "0.12637689208197625",
         "0.31982236291513344",
         "1.0",
         "-0.21842974243707147",
         "0.2068014075528113"
        ],
        [
         "windspeed",
         "-0.019344944036932626",
         "-0.14841148127042875",
         "-0.18834684473435867",
         "-0.21842974243707147",
         "1.0",
         "0.06917656784601707"
        ],
        [
         "precipitation",
         "-0.0716185661873373",
         "0.018469409062221092",
         "0.05763760243016197",
         "0.2068014075528113",
         "0.06917656784601707",
         "1.0"
        ]
       ],
       "shape": {
        "columns": 6,
        "rows": 6
       }
      },
      "text/html": [
       "<div>\n",
       "<style scoped>\n",
       "    .dataframe tbody tr th:only-of-type {\n",
       "        vertical-align: middle;\n",
       "    }\n",
       "\n",
       "    .dataframe tbody tr th {\n",
       "        vertical-align: top;\n",
       "    }\n",
       "\n",
       "    .dataframe thead th {\n",
       "        text-align: right;\n",
       "    }\n",
       "</style>\n",
       "<table border=\"1\" class=\"dataframe\">\n",
       "  <thead>\n",
       "    <tr style=\"text-align: right;\">\n",
       "      <th></th>\n",
       "      <th>rentals</th>\n",
       "      <th>temp</th>\n",
       "      <th>temp_wb</th>\n",
       "      <th>rel_humidity</th>\n",
       "      <th>windspeed</th>\n",
       "      <th>precipitation</th>\n",
       "    </tr>\n",
       "  </thead>\n",
       "  <tbody>\n",
       "    <tr>\n",
       "      <th>rentals</th>\n",
       "      <td>1.000000</td>\n",
       "      <td>0.484716</td>\n",
       "      <td>0.425792</td>\n",
       "      <td>-0.167903</td>\n",
       "      <td>-0.019345</td>\n",
       "      <td>-0.071619</td>\n",
       "    </tr>\n",
       "    <tr>\n",
       "      <th>temp</th>\n",
       "      <td>0.484716</td>\n",
       "      <td>1.000000</td>\n",
       "      <td>0.977801</td>\n",
       "      <td>0.126377</td>\n",
       "      <td>-0.148411</td>\n",
       "      <td>0.018469</td>\n",
       "    </tr>\n",
       "    <tr>\n",
       "      <th>temp_wb</th>\n",
       "      <td>0.425792</td>\n",
       "      <td>0.977801</td>\n",
       "      <td>1.000000</td>\n",
       "      <td>0.319822</td>\n",
       "      <td>-0.188347</td>\n",
       "      <td>0.057638</td>\n",
       "    </tr>\n",
       "    <tr>\n",
       "      <th>rel_humidity</th>\n",
       "      <td>-0.167903</td>\n",
       "      <td>0.126377</td>\n",
       "      <td>0.319822</td>\n",
       "      <td>1.000000</td>\n",
       "      <td>-0.218430</td>\n",
       "      <td>0.206801</td>\n",
       "    </tr>\n",
       "    <tr>\n",
       "      <th>windspeed</th>\n",
       "      <td>-0.019345</td>\n",
       "      <td>-0.148411</td>\n",
       "      <td>-0.188347</td>\n",
       "      <td>-0.218430</td>\n",
       "      <td>1.000000</td>\n",
       "      <td>0.069177</td>\n",
       "    </tr>\n",
       "    <tr>\n",
       "      <th>precipitation</th>\n",
       "      <td>-0.071619</td>\n",
       "      <td>0.018469</td>\n",
       "      <td>0.057638</td>\n",
       "      <td>0.206801</td>\n",
       "      <td>0.069177</td>\n",
       "      <td>1.000000</td>\n",
       "    </tr>\n",
       "  </tbody>\n",
       "</table>\n",
       "</div>"
      ],
      "text/plain": [
       "                rentals      temp   temp_wb  rel_humidity  windspeed  \\\n",
       "rentals        1.000000  0.484716  0.425792     -0.167903  -0.019345   \n",
       "temp           0.484716  1.000000  0.977801      0.126377  -0.148411   \n",
       "temp_wb        0.425792  0.977801  1.000000      0.319822  -0.188347   \n",
       "rel_humidity  -0.167903  0.126377  0.319822      1.000000  -0.218430   \n",
       "windspeed     -0.019345 -0.148411 -0.188347     -0.218430   1.000000   \n",
       "precipitation -0.071619  0.018469  0.057638      0.206801   0.069177   \n",
       "\n",
       "               precipitation  \n",
       "rentals            -0.071619  \n",
       "temp                0.018469  \n",
       "temp_wb             0.057638  \n",
       "rel_humidity        0.206801  \n",
       "windspeed           0.069177  \n",
       "precipitation       1.000000  "
      ]
     },
     "execution_count": 19,
     "metadata": {},
     "output_type": "execute_result"
    }
   ],
   "source": [
    "df.corr(numeric_only=True)"
   ]
  },
  {
   "cell_type": "code",
   "execution_count": 20,
   "metadata": {
    "colab": {
     "base_uri": "https://localhost:8080/"
    },
    "id": "FsR4KVg_ASem",
    "outputId": "ccc6ac0f-481c-4c31-e3ca-3cbf0f9844d1"
   },
   "outputs": [
    {
     "name": "stdout",
     "output_type": "stream",
     "text": [
      "                            OLS Regression Results                            \n",
      "==============================================================================\n",
      "Dep. Variable:                rentals   R-squared:                       0.288\n",
      "Model:                            OLS   Adj. R-squared:                  0.288\n",
      "Method:                 Least Squares   F-statistic:                     1742.\n",
      "Date:                Wed, 19 Mar 2025   Prob (F-statistic):               0.00\n",
      "Time:                        18:04:21   Log-Likelihood:                -57416.\n",
      "No. Observations:                8603   AIC:                         1.148e+05\n",
      "Df Residuals:                    8600   BIC:                         1.149e+05\n",
      "Df Model:                           2                                         \n",
      "Covariance Type:            nonrobust                                         \n",
      "================================================================================\n",
      "                   coef    std err          t      P>|t|      [0.025      0.975]\n",
      "--------------------------------------------------------------------------------\n",
      "Intercept       52.9562      9.175      5.772      0.000      34.971      70.941\n",
      "temp             6.3829      0.114     56.066      0.000       6.160       6.606\n",
      "rel_humidity    -2.7942      0.110    -25.395      0.000      -3.010      -2.579\n",
      "==============================================================================\n",
      "Omnibus:                     2380.442   Durbin-Watson:                   0.458\n",
      "Prob(Omnibus):                  0.000   Jarque-Bera (JB):             6789.829\n",
      "Skew:                           1.454   Prob(JB):                         0.00\n",
      "Kurtosis:                       6.237   Cond. No.                         391.\n",
      "==============================================================================\n",
      "\n",
      "Notes:\n",
      "[1] Standard Errors assume that the covariance matrix of the errors is correctly specified.\n"
     ]
    }
   ],
   "source": [
    "est = ols(formula=\"rentals ~ temp + rel_humidity\", data=df).fit()\n",
    "print(est.summary())"
   ]
  },
  {
   "cell_type": "markdown",
   "metadata": {
    "id": "WNxW0QM7cFJg"
   },
   "source": [
    "What is the standard deviation of our residuals? Our best guess is the square root of the average squared residuals. "
   ]
  },
  {
   "cell_type": "code",
   "execution_count": 21,
   "metadata": {
    "colab": {
     "base_uri": "https://localhost:8080/"
    },
    "id": "Cu0QYMrsas23",
    "outputId": "ae07026e-b52e-4dac-eafb-472c2277c785"
   },
   "outputs": [
    {
     "name": "stdout",
     "output_type": "stream",
     "text": [
      "191.5667600731313\n"
     ]
    }
   ],
   "source": [
    "print(np.sqrt(est.mse_resid))"
   ]
  },
  {
   "cell_type": "markdown",
   "metadata": {
    "id": "XlaFRh61ciGM"
   },
   "source": [
    "So if we decided to predict the number of rentals when the temp is 60F and the relative humidity is 50%, the *point* estimate is simply"
   ]
  },
  {
   "cell_type": "code",
   "execution_count": 22,
   "metadata": {
    "colab": {
     "base_uri": "https://localhost:8080/"
    },
    "id": "gHfEsmnEcgno",
    "outputId": "23d552f6-789b-4985-99df-e2af0273e835"
   },
   "outputs": [
    {
     "name": "stdout",
     "output_type": "stream",
     "text": [
      "y_pred = 52.9562 + 6.3829*60 - 2.7942*50 = 296.2202\n"
     ]
    }
   ],
   "source": [
    "print('y_pred = 52.9562 + 6.3829*60 - 2.7942*50 = ' + str(52.9562 + 6.3829*60 - 2.7942*50))"
   ]
  },
  {
   "cell_type": "markdown",
   "metadata": {
    "id": "L96cYqdpdPiR"
   },
   "source": [
    "So, a probabilistic estimate will be well modeled as a Normal random variable with mean 296.22 and standard deviation 191.63. We can now answer a question like 'What is the chance that the number of rentals exceeds 400 when the temp is 60F and the relative humidity is 50%?'. The answer: the same as the probability that a Normal random variable with mean 296.22 and standard deviation 191.63 exceeds 400!"
   ]
  },
  {
   "cell_type": "code",
   "execution_count": 23,
   "metadata": {
    "colab": {
     "base_uri": "https://localhost:8080/"
    },
    "id": "lb5f9nRHdyTU",
    "outputId": "baec6046-8cd9-4c4f-937e-83b003d97b4b"
   },
   "outputs": [
    {
     "name": "stdout",
     "output_type": "stream",
     "text": [
      "Probability of at least 400 rentals at 60F with 50% humidity: 0.2940592857195723\n"
     ]
    }
   ],
   "source": [
    "print('Probability of at least 400 rentals at 60F with 50% humidity: '+str(1-norm.cdf(400,loc=296.22,scale=191.63)))"
   ]
  },
  {
   "cell_type": "code",
   "execution_count": 24,
   "metadata": {
    "colab": {
     "base_uri": "https://localhost:8080/",
     "height": 143
    },
    "id": "wTU4E2kNRwGx",
    "outputId": "8c432ceb-087a-49e1-b601-d07855274bce"
   },
   "outputs": [
    {
     "data": {
      "application/vnd.microsoft.datawrangler.viewer.v0+json": {
       "columns": [
        {
         "name": "index",
         "rawType": "object",
         "type": "string"
        },
        {
         "name": "0",
         "rawType": "float64",
         "type": "float"
        },
        {
         "name": "1",
         "rawType": "float64",
         "type": "float"
        }
       ],
       "conversionMethod": "pd.DataFrame",
       "ref": "8d3d91b7-c0de-474b-a56b-b1ffb202b5d9",
       "rows": [
        [
         "Intercept",
         "34.971279628572226",
         "70.94105258793294"
        ],
        [
         "temp",
         "6.159767582356225",
         "6.606104406445252"
        ],
        [
         "rel_humidity",
         "-3.0099218001669037",
         "-2.578540326948125"
        ]
       ],
       "shape": {
        "columns": 2,
        "rows": 3
       }
      },
      "text/html": [
       "<div>\n",
       "<style scoped>\n",
       "    .dataframe tbody tr th:only-of-type {\n",
       "        vertical-align: middle;\n",
       "    }\n",
       "\n",
       "    .dataframe tbody tr th {\n",
       "        vertical-align: top;\n",
       "    }\n",
       "\n",
       "    .dataframe thead th {\n",
       "        text-align: right;\n",
       "    }\n",
       "</style>\n",
       "<table border=\"1\" class=\"dataframe\">\n",
       "  <thead>\n",
       "    <tr style=\"text-align: right;\">\n",
       "      <th></th>\n",
       "      <th>0</th>\n",
       "      <th>1</th>\n",
       "    </tr>\n",
       "  </thead>\n",
       "  <tbody>\n",
       "    <tr>\n",
       "      <th>Intercept</th>\n",
       "      <td>34.971280</td>\n",
       "      <td>70.941053</td>\n",
       "    </tr>\n",
       "    <tr>\n",
       "      <th>temp</th>\n",
       "      <td>6.159768</td>\n",
       "      <td>6.606104</td>\n",
       "    </tr>\n",
       "    <tr>\n",
       "      <th>rel_humidity</th>\n",
       "      <td>-3.009922</td>\n",
       "      <td>-2.578540</td>\n",
       "    </tr>\n",
       "  </tbody>\n",
       "</table>\n",
       "</div>"
      ],
      "text/plain": [
       "                      0          1\n",
       "Intercept     34.971280  70.941053\n",
       "temp           6.159768   6.606104\n",
       "rel_humidity  -3.009922  -2.578540"
      ]
     },
     "execution_count": 24,
     "metadata": {},
     "output_type": "execute_result"
    }
   ],
   "source": [
    "est.conf_int(alpha = 0.05)"
   ]
  },
  {
   "cell_type": "code",
   "execution_count": 25,
   "metadata": {
    "colab": {
     "base_uri": "https://localhost:8080/",
     "height": 237
    },
    "id": "oXO1uLseViAs",
    "outputId": "48ed8316-f061-4ea8-de47-966e811f106a"
   },
   "outputs": [
    {
     "data": {
      "application/vnd.microsoft.datawrangler.viewer.v0+json": {
       "columns": [
        {
         "name": "index",
         "rawType": "int64",
         "type": "integer"
        },
        {
         "name": "rentals",
         "rawType": "int64",
         "type": "integer"
        },
        {
         "name": "month",
         "rawType": "category",
         "type": "unknown"
        },
        {
         "name": "day",
         "rawType": "category",
         "type": "unknown"
        },
        {
         "name": "hour",
         "rawType": "category",
         "type": "unknown"
        },
        {
         "name": "day_of_week",
         "rawType": "category",
         "type": "unknown"
        },
        {
         "name": "weekend",
         "rawType": "category",
         "type": "unknown"
        },
        {
         "name": "temp",
         "rawType": "int64",
         "type": "integer"
        },
        {
         "name": "temp_wb",
         "rawType": "int64",
         "type": "integer"
        },
        {
         "name": "rel_humidity",
         "rawType": "int64",
         "type": "integer"
        },
        {
         "name": "windspeed",
         "rawType": "int64",
         "type": "integer"
        },
        {
         "name": "precipitation",
         "rawType": "float64",
         "type": "float"
        },
        {
         "name": "random",
         "rawType": "float64",
         "type": "float"
        }
       ],
       "conversionMethod": "pd.DataFrame",
       "ref": "57b962d0-178c-4ac9-ac65-56227b722d4a",
       "rows": [
        [
         "0",
         "4",
         "1",
         "1",
         "0",
         "Mon",
         "0",
         "2",
         "0",
         "59",
         "16",
         "0.0",
         "0.6554766992031792"
        ],
        [
         "1",
         "6",
         "1",
         "1",
         "1",
         "Mon",
         "0",
         "1",
         "0",
         "59",
         "11",
         "0.0",
         "0.6542958673139423"
        ],
        [
         "2",
         "6",
         "1",
         "1",
         "2",
         "Mon",
         "0",
         "1",
         "-1",
         "54",
         "21",
         "0.0",
         "0.5776342783287607"
        ],
        [
         "3",
         "1",
         "1",
         "1",
         "5",
         "Mon",
         "0",
         "0",
         "-2",
         "54",
         "18",
         "0.0",
         "0.7334464777419576"
        ],
        [
         "4",
         "3",
         "1",
         "1",
         "6",
         "Mon",
         "0",
         "0",
         "-2",
         "54",
         "15",
         "0.0",
         "0.6883258247591082"
        ],
        [
         "5",
         "3",
         "1",
         "1",
         "7",
         "Mon",
         "0",
         "0",
         "-2",
         "54",
         "11",
         "0.0",
         "0.09056454889838461"
        ]
       ],
       "shape": {
        "columns": 12,
        "rows": 6
       }
      },
      "text/html": [
       "<div>\n",
       "<style scoped>\n",
       "    .dataframe tbody tr th:only-of-type {\n",
       "        vertical-align: middle;\n",
       "    }\n",
       "\n",
       "    .dataframe tbody tr th {\n",
       "        vertical-align: top;\n",
       "    }\n",
       "\n",
       "    .dataframe thead th {\n",
       "        text-align: right;\n",
       "    }\n",
       "</style>\n",
       "<table border=\"1\" class=\"dataframe\">\n",
       "  <thead>\n",
       "    <tr style=\"text-align: right;\">\n",
       "      <th></th>\n",
       "      <th>rentals</th>\n",
       "      <th>month</th>\n",
       "      <th>day</th>\n",
       "      <th>hour</th>\n",
       "      <th>day_of_week</th>\n",
       "      <th>weekend</th>\n",
       "      <th>temp</th>\n",
       "      <th>temp_wb</th>\n",
       "      <th>rel_humidity</th>\n",
       "      <th>windspeed</th>\n",
       "      <th>precipitation</th>\n",
       "      <th>random</th>\n",
       "    </tr>\n",
       "  </thead>\n",
       "  <tbody>\n",
       "    <tr>\n",
       "      <th>0</th>\n",
       "      <td>4</td>\n",
       "      <td>1</td>\n",
       "      <td>1</td>\n",
       "      <td>0</td>\n",
       "      <td>Mon</td>\n",
       "      <td>0</td>\n",
       "      <td>2</td>\n",
       "      <td>0</td>\n",
       "      <td>59</td>\n",
       "      <td>16</td>\n",
       "      <td>0.0</td>\n",
       "      <td>0.655477</td>\n",
       "    </tr>\n",
       "    <tr>\n",
       "      <th>1</th>\n",
       "      <td>6</td>\n",
       "      <td>1</td>\n",
       "      <td>1</td>\n",
       "      <td>1</td>\n",
       "      <td>Mon</td>\n",
       "      <td>0</td>\n",
       "      <td>1</td>\n",
       "      <td>0</td>\n",
       "      <td>59</td>\n",
       "      <td>11</td>\n",
       "      <td>0.0</td>\n",
       "      <td>0.654296</td>\n",
       "    </tr>\n",
       "    <tr>\n",
       "      <th>2</th>\n",
       "      <td>6</td>\n",
       "      <td>1</td>\n",
       "      <td>1</td>\n",
       "      <td>2</td>\n",
       "      <td>Mon</td>\n",
       "      <td>0</td>\n",
       "      <td>1</td>\n",
       "      <td>-1</td>\n",
       "      <td>54</td>\n",
       "      <td>21</td>\n",
       "      <td>0.0</td>\n",
       "      <td>0.577634</td>\n",
       "    </tr>\n",
       "    <tr>\n",
       "      <th>3</th>\n",
       "      <td>1</td>\n",
       "      <td>1</td>\n",
       "      <td>1</td>\n",
       "      <td>5</td>\n",
       "      <td>Mon</td>\n",
       "      <td>0</td>\n",
       "      <td>0</td>\n",
       "      <td>-2</td>\n",
       "      <td>54</td>\n",
       "      <td>18</td>\n",
       "      <td>0.0</td>\n",
       "      <td>0.733446</td>\n",
       "    </tr>\n",
       "    <tr>\n",
       "      <th>4</th>\n",
       "      <td>3</td>\n",
       "      <td>1</td>\n",
       "      <td>1</td>\n",
       "      <td>6</td>\n",
       "      <td>Mon</td>\n",
       "      <td>0</td>\n",
       "      <td>0</td>\n",
       "      <td>-2</td>\n",
       "      <td>54</td>\n",
       "      <td>15</td>\n",
       "      <td>0.0</td>\n",
       "      <td>0.688326</td>\n",
       "    </tr>\n",
       "    <tr>\n",
       "      <th>5</th>\n",
       "      <td>3</td>\n",
       "      <td>1</td>\n",
       "      <td>1</td>\n",
       "      <td>7</td>\n",
       "      <td>Mon</td>\n",
       "      <td>0</td>\n",
       "      <td>0</td>\n",
       "      <td>-2</td>\n",
       "      <td>54</td>\n",
       "      <td>11</td>\n",
       "      <td>0.0</td>\n",
       "      <td>0.090565</td>\n",
       "    </tr>\n",
       "  </tbody>\n",
       "</table>\n",
       "</div>"
      ],
      "text/plain": [
       "   rentals month day hour day_of_week weekend  temp  temp_wb  rel_humidity  \\\n",
       "0        4     1   1    0         Mon       0     2        0            59   \n",
       "1        6     1   1    1         Mon       0     1        0            59   \n",
       "2        6     1   1    2         Mon       0     1       -1            54   \n",
       "3        1     1   1    5         Mon       0     0       -2            54   \n",
       "4        3     1   1    6         Mon       0     0       -2            54   \n",
       "5        3     1   1    7         Mon       0     0       -2            54   \n",
       "\n",
       "   windspeed  precipitation    random  \n",
       "0         16            0.0  0.655477  \n",
       "1         11            0.0  0.654296  \n",
       "2         21            0.0  0.577634  \n",
       "3         18            0.0  0.733446  \n",
       "4         15            0.0  0.688326  \n",
       "5         11            0.0  0.090565  "
      ]
     },
     "execution_count": 25,
     "metadata": {},
     "output_type": "execute_result"
    }
   ],
   "source": [
    "random_data = np.random.rand(len(df['rentals']))\n",
    "df['random'] = random_data\n",
    "df.head(6)"
   ]
  },
  {
   "cell_type": "code",
   "execution_count": 26,
   "metadata": {
    "colab": {
     "base_uri": "https://localhost:8080/"
    },
    "id": "AOfg5Ql7WIMH",
    "outputId": "1aacb88b-fc9e-42d3-d2c7-d2f3f9674733"
   },
   "outputs": [
    {
     "data": {
      "text/plain": [
       "np.float64(-0.018633610990755136)"
      ]
     },
     "execution_count": 26,
     "metadata": {},
     "output_type": "execute_result"
    }
   ],
   "source": [
    "df['rentals'].corr(df['random'])"
   ]
  },
  {
   "cell_type": "code",
   "execution_count": 27,
   "metadata": {
    "colab": {
     "base_uri": "https://localhost:8080/",
     "height": 313
    },
    "id": "TM9IQFOYWshe",
    "outputId": "665525ea-5d4e-4562-b69a-81db10840bb7"
   },
   "outputs": [
    {
     "data": {
      "text/plain": [
       "Text(0, 0.5, '# Rentals')"
      ]
     },
     "execution_count": 27,
     "metadata": {},
     "output_type": "execute_result"
    },
    {
     "data": {
      "image/png": "[encoded data removed]",
      "text/plain": [
       "<Figure size 640x480 with 1 Axes>"
      ]
     },
     "metadata": {},
     "output_type": "display_data"
    }
   ],
   "source": [
    "plt.scatter(df['random'],df['rentals'],s=2)\n",
    "plt.title('Rentals vs. Random Data')\n",
    "plt.xlabel('Random')\n",
    "plt.ylabel('# Rentals')"
   ]
  },
  {
   "cell_type": "code",
   "execution_count": 28,
   "metadata": {
    "colab": {
     "base_uri": "https://localhost:8080/"
    },
    "id": "31ZP_9g3W8rK",
    "outputId": "9c5bf5bc-e677-4f02-f989-3f4547d463ad"
   },
   "outputs": [
    {
     "name": "stdout",
     "output_type": "stream",
     "text": [
      "                            OLS Regression Results                            \n",
      "==============================================================================\n",
      "Dep. Variable:                rentals   R-squared:                       0.289\n",
      "Model:                            OLS   Adj. R-squared:                  0.288\n",
      "Method:                 Least Squares   F-statistic:                     1164.\n",
      "Date:                Wed, 19 Mar 2025   Prob (F-statistic):               0.00\n",
      "Time:                        18:04:21   Log-Likelihood:                -57414.\n",
      "No. Observations:                8603   AIC:                         1.148e+05\n",
      "Df Residuals:                    8599   BIC:                         1.149e+05\n",
      "Df Model:                           3                                         \n",
      "Covariance Type:            nonrobust                                         \n",
      "================================================================================\n",
      "                   coef    std err          t      P>|t|      [0.025      0.975]\n",
      "--------------------------------------------------------------------------------\n",
      "Intercept       60.7498      9.805      6.196      0.000      41.529      79.971\n",
      "temp             6.3849      0.114     56.094      0.000       6.162       6.608\n",
      "rel_humidity    -2.7914      0.110    -25.374      0.000      -3.007      -2.576\n",
      "random         -16.0629      7.142     -2.249      0.025     -30.064      -2.062\n",
      "==============================================================================\n",
      "Omnibus:                     2377.951   Durbin-Watson:                   0.459\n",
      "Prob(Omnibus):                  0.000   Jarque-Bera (JB):             6772.421\n",
      "Skew:                           1.453   Prob(JB):                         0.00\n",
      "Kurtosis:                       6.232   Cond. No.                         441.\n",
      "==============================================================================\n",
      "\n",
      "Notes:\n",
      "[1] Standard Errors assume that the covariance matrix of the errors is correctly specified.\n"
     ]
    }
   ],
   "source": [
    "est = ols(formula=\"rentals ~ temp + rel_humidity + random\", data=df).fit()\n",
    "print(est.summary())"
   ]
  },
  {
   "cell_type": "code",
   "execution_count": 29,
   "metadata": {
    "colab": {
     "base_uri": "https://localhost:8080/"
    },
    "id": "qgv-jqrKXI9Q",
    "outputId": "1cfe60bc-a095-446c-e7ef-8a26611a6c2a"
   },
   "outputs": [
    {
     "name": "stdout",
     "output_type": "stream",
     "text": [
      "                            OLS Regression Results                            \n",
      "==============================================================================\n",
      "Dep. Variable:                rentals   R-squared:                       0.290\n",
      "Model:                            OLS   Adj. R-squared:                  0.289\n",
      "Method:                 Least Squares   F-statistic:                     876.1\n",
      "Date:                Wed, 19 Mar 2025   Prob (F-statistic):               0.00\n",
      "Time:                        18:04:21   Log-Likelihood:                -57409.\n",
      "No. Observations:                8603   AIC:                         1.148e+05\n",
      "Df Residuals:                    8598   BIC:                         1.149e+05\n",
      "Df Model:                           4                                         \n",
      "Covariance Type:            nonrobust                                         \n",
      "=================================================================================\n",
      "                    coef    std err          t      P>|t|      [0.025      0.975]\n",
      "---------------------------------------------------------------------------------\n",
      "Intercept        40.8156     11.488      3.553      0.000      18.297      63.334\n",
      "temp              6.3960      0.115     55.782      0.000       6.171       6.621\n",
      "rel_humidity     -2.6789      0.115    -23.236      0.000      -2.905      -2.453\n",
      "windspeed         0.4503      0.394      1.144      0.253      -0.321       1.222\n",
      "precipitation  -237.9935     62.368     -3.816      0.000    -360.251    -115.736\n",
      "==============================================================================\n",
      "Omnibus:                     2370.634   Durbin-Watson:                   0.462\n",
      "Prob(Omnibus):                  0.000   Jarque-Bera (JB):             6743.262\n",
      "Skew:                           1.449   Prob(JB):                         0.00\n",
      "Kurtosis:                       6.226   Cond. No.                     2.68e+03\n",
      "==============================================================================\n",
      "\n",
      "Notes:\n",
      "[1] Standard Errors assume that the covariance matrix of the errors is correctly specified.\n",
      "[2] The condition number is large, 2.68e+03. This might indicate that there are\n",
      "strong multicollinearity or other numerical problems.\n"
     ]
    }
   ],
   "source": [
    "est = ols(formula=\"rentals ~ temp + rel_humidity + windspeed + precipitation\", data=df).fit()\n",
    "print(est.summary())"
   ]
  },
  {
   "cell_type": "code",
   "execution_count": 30,
   "metadata": {
    "colab": {
     "base_uri": "https://localhost:8080/"
    },
    "id": "BWt11f2YXULg",
    "outputId": "7acaecd8-aecf-4fdb-d308-a442a083e4b2"
   },
   "outputs": [
    {
     "name": "stdout",
     "output_type": "stream",
     "text": [
      "                            OLS Regression Results                            \n",
      "==============================================================================\n",
      "Dep. Variable:                rentals   R-squared:                       0.289\n",
      "Model:                            OLS   Adj. R-squared:                  0.289\n",
      "Method:                 Least Squares   F-statistic:                     1168.\n",
      "Date:                Wed, 19 Mar 2025   Prob (F-statistic):               0.00\n",
      "Time:                        18:04:21   Log-Likelihood:                -57410.\n",
      "No. Observations:                8603   AIC:                         1.148e+05\n",
      "Df Residuals:                    8599   BIC:                         1.149e+05\n",
      "Df Model:                           3                                         \n",
      "Covariance Type:            nonrobust                                         \n",
      "=================================================================================\n",
      "                    coef    std err          t      P>|t|      [0.025      0.975]\n",
      "---------------------------------------------------------------------------------\n",
      "Intercept        48.6214      9.242      5.261      0.000      30.504      66.739\n",
      "temp              6.3796      0.114     56.076      0.000       6.157       6.603\n",
      "rel_humidity     -2.7084      0.112    -24.104      0.000      -2.929      -2.488\n",
      "precipitation  -229.4505     61.921     -3.706      0.000    -350.831    -108.070\n",
      "==============================================================================\n",
      "Omnibus:                     2367.029   Durbin-Watson:                   0.462\n",
      "Prob(Omnibus):                  0.000   Jarque-Bera (JB):             6731.705\n",
      "Skew:                           1.447   Prob(JB):                         0.00\n",
      "Kurtosis:                       6.225   Cond. No.                     2.64e+03\n",
      "==============================================================================\n",
      "\n",
      "Notes:\n",
      "[1] Standard Errors assume that the covariance matrix of the errors is correctly specified.\n",
      "[2] The condition number is large, 2.64e+03. This might indicate that there are\n",
      "strong multicollinearity or other numerical problems.\n"
     ]
    }
   ],
   "source": [
    "est = ols(formula=\"rentals ~ temp + rel_humidity + precipitation\", data=df).fit()\n",
    "print(est.summary())"
   ]
  },
  {
   "cell_type": "code",
   "execution_count": 31,
   "metadata": {
    "colab": {
     "base_uri": "https://localhost:8080/"
    },
    "id": "5LFQsVoFXZ0Q",
    "outputId": "a370e1fe-ff7f-43c8-8135-5a7db776604d"
   },
   "outputs": [
    {
     "name": "stdout",
     "output_type": "stream",
     "text": [
      "                            OLS Regression Results                            \n",
      "==============================================================================\n",
      "Dep. Variable:                rentals   R-squared:                       0.288\n",
      "Model:                            OLS   Adj. R-squared:                  0.288\n",
      "Method:                 Least Squares   F-statistic:                     1738.\n",
      "Date:                Wed, 19 Mar 2025   Prob (F-statistic):               0.00\n",
      "Time:                        18:04:21   Log-Likelihood:                -57420.\n",
      "No. Observations:                8603   AIC:                         1.148e+05\n",
      "Df Residuals:                    8600   BIC:                         1.149e+05\n",
      "Df Model:                           2                                         \n",
      "Covariance Type:            nonrobust                                         \n",
      "==============================================================================\n",
      "                 coef    std err          t      P>|t|      [0.025      0.975]\n",
      "------------------------------------------------------------------------------\n",
      "Intercept   -119.2405      6.359    -18.752      0.000    -131.705    -106.776\n",
      "temp          19.3338      0.539     35.858      0.000      18.277      20.391\n",
      "temp_wb      -14.7260      0.583    -25.258      0.000     -15.869     -13.583\n",
      "==============================================================================\n",
      "Omnibus:                     2473.945   Durbin-Watson:                   0.460\n",
      "Prob(Omnibus):                  0.000   Jarque-Bera (JB):             7319.712\n",
      "Skew:                           1.497   Prob(JB):                         0.00\n",
      "Kurtosis:                       6.384   Cond. No.                         233.\n",
      "==============================================================================\n",
      "\n",
      "Notes:\n",
      "[1] Standard Errors assume that the covariance matrix of the errors is correctly specified.\n"
     ]
    }
   ],
   "source": [
    "est = ols(formula=\"rentals ~ temp + temp_wb\", data=df).fit()\n",
    "print(est.summary())"
   ]
  },
  {
   "cell_type": "markdown",
   "metadata": {
    "id": "hJNEZGaJRDg_"
   },
   "source": [
    "Let's split our data into a training set (70% of the data) and a test set (the remaining 30%). We will use the train_test_split utlity we imported to accomplish this. "
   ]
  },
  {
   "cell_type": "code",
   "execution_count": 32,
   "metadata": {
    "id": "t8R6GiYIPl1K"
   },
   "outputs": [],
   "source": [
    "df_train, df_test = train_test_split(df, test_size=0.3)"
   ]
  },
  {
   "cell_type": "markdown",
   "metadata": {
    "id": "F0xewe59RYfA"
   },
   "source": [
    "Let's retrain a model on just the training data: "
   ]
  },
  {
   "cell_type": "code",
   "execution_count": 33,
   "metadata": {
    "colab": {
     "base_uri": "https://localhost:8080/"
    },
    "id": "YD7EAIE-Ps89",
    "outputId": "11b87a72-8c37-4926-a4d5-e2d1f06141dc"
   },
   "outputs": [
    {
     "name": "stdout",
     "output_type": "stream",
     "text": [
      "                            OLS Regression Results                            \n",
      "==============================================================================\n",
      "Dep. Variable:                rentals   R-squared:                       0.294\n",
      "Model:                            OLS   Adj. R-squared:                  0.293\n",
      "Method:                 Least Squares   F-statistic:                     834.3\n",
      "Date:                Wed, 19 Mar 2025   Prob (F-statistic):               0.00\n",
      "Time:                        18:04:21   Log-Likelihood:                -40105.\n",
      "No. Observations:                6022   AIC:                         8.022e+04\n",
      "Df Residuals:                    6018   BIC:                         8.025e+04\n",
      "Df Model:                           3                                         \n",
      "Covariance Type:            nonrobust                                         \n",
      "=================================================================================\n",
      "                    coef    std err          t      P>|t|      [0.025      0.975]\n",
      "---------------------------------------------------------------------------------\n",
      "Intercept        53.2783     10.940      4.870      0.000      31.831      74.725\n",
      "temp              6.3465      0.135     47.114      0.000       6.082       6.611\n",
      "rel_humidity     -2.7862      0.132    -21.123      0.000      -3.045      -2.528\n",
      "precipitation  -190.2107     78.686     -2.417      0.016    -344.464     -35.957\n",
      "==============================================================================\n",
      "Omnibus:                     1653.222   Durbin-Watson:                   1.992\n",
      "Prob(Omnibus):                  0.000   Jarque-Bera (JB):             4667.564\n",
      "Skew:                           1.444   Prob(JB):                         0.00\n",
      "Kurtosis:                       6.204   Cond. No.                     2.85e+03\n",
      "==============================================================================\n",
      "\n",
      "Notes:\n",
      "[1] Standard Errors assume that the covariance matrix of the errors is correctly specified.\n",
      "[2] The condition number is large, 2.85e+03. This might indicate that there are\n",
      "strong multicollinearity or other numerical problems.\n"
     ]
    }
   ],
   "source": [
    "est_train = ols(formula=\"rentals ~ temp + rel_humidity + precipitation\", data=df_train).fit()\n",
    "print(est_train.summary())"
   ]
  },
  {
   "cell_type": "markdown",
   "metadata": {
    "id": "yD0CZ2KsRfE4"
   },
   "source": [
    "How well does it do on the test data? Lets use the model we learned on the training data to predict rentals on the test data and then measure the OOS R^2 "
   ]
  },
  {
   "cell_type": "code",
   "execution_count": 34,
   "metadata": {
    "colab": {
     "base_uri": "https://localhost:8080/"
    },
    "id": "PPLSAarkQmnw",
    "outputId": "728e2c64-2ed3-4351-8d62-0a5564a85a67"
   },
   "outputs": [
    {
     "name": "stdout",
     "output_type": "stream",
     "text": [
      "OOS R-squared: 0.2791198172760265\n"
     ]
    }
   ],
   "source": [
    "test_pred = est_train.predict(df_test)\n",
    "print('OOS R-squared: '+str(r2_score(df_test['rentals'],test_pred)))"
   ]
  },
  {
   "cell_type": "markdown",
   "metadata": {
    "id": "9W6gu69gVyI3"
   },
   "source": [
    "### **Diabetes Dataset** "
   ]
  },
  {
   "cell_type": "markdown",
   "metadata": {
    "id": "fxdA52IWV7pz"
   },
   "source": [
    "Lets load the publicly available diabetes dataset and print out a description of the dataset"
   ]
  },
  {
   "cell_type": "code",
   "execution_count": 35,
   "metadata": {
    "id": "mZvbsHwARqb2"
   },
   "outputs": [],
   "source": [
    "diabetes = datasets.load_diabetes(as_frame=True)\n",
    "diabetes_df = diabetes['frame']"
   ]
  },
  {
   "cell_type": "code",
   "execution_count": 36,
   "metadata": {
    "colab": {
     "base_uri": "https://localhost:8080/"
    },
    "id": "2-ebiPQ9VtBh",
    "outputId": "2b770053-1716-4442-853d-cf584535ea04"
   },
   "outputs": [
    {
     "name": "stdout",
     "output_type": "stream",
     "text": [
      ".. _diabetes_dataset:\n",
      "\n",
      "Diabetes dataset\n",
      "----------------\n",
      "\n",
      "Ten baseline variables, age, sex, body mass index, average blood\n",
      "pressure, and six blood serum measurements were obtained for each of n =\n",
      "442 diabetes patients, as well as the response of interest, a\n",
      "quantitative measure of disease progression one year after baseline.\n",
      "\n",
      "**Data Set Characteristics:**\n",
      "\n",
      ":Number of Instances: 442\n",
      "\n",
      ":Number of Attributes: First 10 columns are numeric predictive values\n",
      "\n",
      ":Target: Column 11 is a quantitative measure of disease progression one year after baseline\n",
      "\n",
      ":Attribute Information:\n",
      "    - age     age in years\n",
      "    - sex\n",
      "    - bmi     body mass index\n",
      "    - bp      average blood pressure\n",
      "    - s1      tc, total serum cholesterol\n",
      "    - s2      ldl, low-density lipoproteins\n",
      "    - s3      hdl, high-density lipoproteins\n",
      "    - s4      tch, total cholesterol / HDL\n",
      "    - s5      ltg, possibly log of serum triglycerides level\n",
      "    - s6      glu, blood sugar level\n",
      "\n",
      "Note: Each of these 10 feature variables have been mean centered and scaled by the standard deviation times the square root of `n_samples` (i.e. the sum of squares of each column totals 1).\n",
      "\n",
      "Source URL:\n",
      "https://www4.stat.ncsu.edu/~boos/var.select/diabetes.html\n",
      "\n",
      "For more information see:\n",
      "Bradley Efron, Trevor Hastie, Iain Johnstone and Robert Tibshirani (2004) \"Least Angle Regression,\" Annals of Statistics (with discussion), 407-499.\n",
      "(https://web.stanford.edu/~hastie/Papers/LARS/LeastAngle_2002.pdf)\n",
      "\n"
     ]
    }
   ],
   "source": [
    "print(diabetes['DESCR'])"
   ]
  },
  {
   "cell_type": "markdown",
   "metadata": {
    "id": "6aus4cdkWRS-"
   },
   "source": [
    "Your task is to build the best linear regression model you can using this data to predict the 'target' field. "
   ]
  },
  {
   "cell_type": "code",
   "execution_count": 37,
   "metadata": {
    "colab": {
     "base_uri": "https://localhost:8080/",
     "height": 237
    },
    "id": "JZ1WN3fgS7Jn",
    "outputId": "1a8bac91-12e8-4b1d-b319-cf52ee1f4470"
   },
   "outputs": [
    {
     "data": {
      "application/vnd.microsoft.datawrangler.viewer.v0+json": {
       "columns": [
        {
         "name": "index",
         "rawType": "int64",
         "type": "integer"
        },
        {
         "name": "age",
         "rawType": "float64",
         "type": "float"
        },
        {
         "name": "sex",
         "rawType": "float64",
         "type": "float"
        },
        {
         "name": "bmi",
         "rawType": "float64",
         "type": "float"
        },
        {
         "name": "bp",
         "rawType": "float64",
         "type": "float"
        },
        {
         "name": "s1",
         "rawType": "float64",
         "type": "float"
        },
        {
         "name": "s2",
         "rawType": "float64",
         "type": "float"
        },
        {
         "name": "s3",
         "rawType": "float64",
         "type": "float"
        },
        {
         "name": "s4",
         "rawType": "float64",
         "type": "float"
        },
        {
         "name": "s5",
         "rawType": "float64",
         "type": "float"
        },
        {
         "name": "s6",
         "rawType": "float64",
         "type": "float"
        },
        {
         "name": "target",
         "rawType": "float64",
         "type": "float"
        }
       ],
       "conversionMethod": "pd.DataFrame",
       "ref": "8f74fb6e-273e-4f16-b8d0-e8e08be32a46",
       "rows": [
        [
         "0",
         "0.038075906433423026",
         "0.05068011873981862",
         "0.061696206518683294",
         "0.0218723855140367",
         "-0.04422349842444599",
         "-0.03482076283769895",
         "-0.04340084565202491",
         "-0.002592261998183278",
         "0.019907486170462722",
         "-0.01764612515980379",
         "151.0"
        ],
        [
         "1",
         "-0.0018820165277906047",
         "-0.044641636506989144",
         "-0.051474061238800654",
         "-0.02632752814785296",
         "-0.008448724111216851",
         "-0.019163339748222204",
         "0.07441156407875721",
         "-0.03949338287409329",
         "-0.0683315470939731",
         "-0.092204049626824",
         "75.0"
        ],
        [
         "2",
         "0.08529890629667548",
         "0.05068011873981862",
         "0.04445121333659049",
         "-0.00567042229275739",
         "-0.04559945128264711",
         "-0.03419446591411989",
         "-0.03235593223976409",
         "-0.002592261998183278",
         "0.002861309289833047",
         "-0.025930338989472702",
         "141.0"
        ],
        [
         "3",
         "-0.0890629393522567",
         "-0.044641636506989144",
         "-0.011595014505211082",
         "-0.03665608107540074",
         "0.01219056876179996",
         "0.02499059336410222",
         "-0.036037570043851025",
         "0.03430885887772673",
         "0.022687744966501246",
         "-0.009361911330134878",
         "206.0"
        ],
        [
         "4",
         "0.005383060374248237",
         "-0.044641636506989144",
         "-0.03638469220446948",
         "0.0218723855140367",
         "0.003934851612593237",
         "0.015596139510416171",
         "0.008142083605192267",
         "-0.002592261998183278",
         "-0.03198763948805312",
         "-0.04664087356364498",
         "135.0"
        ],
        [
         "5",
         "-0.09269547780327612",
         "-0.044641636506989144",
         "-0.040695940499992665",
         "-0.019441826196154435",
         "-0.06899064987206617",
         "-0.07928784441181291",
         "0.04127682384197474",
         "-0.0763945037500033",
         "-0.041176166918895155",
         "-0.09634615654165846",
         "97.0"
        ]
       ],
       "shape": {
        "columns": 11,
        "rows": 6
       }
      },
      "text/html": [
       "<div>\n",
       "<style scoped>\n",
       "    .dataframe tbody tr th:only-of-type {\n",
       "        vertical-align: middle;\n",
       "    }\n",
       "\n",
       "    .dataframe tbody tr th {\n",
       "        vertical-align: top;\n",
       "    }\n",
       "\n",
       "    .dataframe thead th {\n",
       "        text-align: right;\n",
       "    }\n",
       "</style>\n",
       "<table border=\"1\" class=\"dataframe\">\n",
       "  <thead>\n",
       "    <tr style=\"text-align: right;\">\n",
       "      <th></th>\n",
       "      <th>age</th>\n",
       "      <th>sex</th>\n",
       "      <th>bmi</th>\n",
       "      <th>bp</th>\n",
       "      <th>s1</th>\n",
       "      <th>s2</th>\n",
       "      <th>s3</th>\n",
       "      <th>s4</th>\n",
       "      <th>s5</th>\n",
       "      <th>s6</th>\n",
       "      <th>target</th>\n",
       "    </tr>\n",
       "  </thead>\n",
       "  <tbody>\n",
       "    <tr>\n",
       "      <th>0</th>\n",
       "      <td>0.038076</td>\n",
       "      <td>0.050680</td>\n",
       "      <td>0.061696</td>\n",
       "      <td>0.021872</td>\n",
       "      <td>-0.044223</td>\n",
       "      <td>-0.034821</td>\n",
       "      <td>-0.043401</td>\n",
       "      <td>-0.002592</td>\n",
       "      <td>0.019907</td>\n",
       "      <td>-0.017646</td>\n",
       "      <td>151.0</td>\n",
       "    </tr>\n",
       "    <tr>\n",
       "      <th>1</th>\n",
       "      <td>-0.001882</td>\n",
       "      <td>-0.044642</td>\n",
       "      <td>-0.051474</td>\n",
       "      <td>-0.026328</td>\n",
       "      <td>-0.008449</td>\n",
       "      <td>-0.019163</td>\n",
       "      <td>0.074412</td>\n",
       "      <td>-0.039493</td>\n",
       "      <td>-0.068332</td>\n",
       "      <td>-0.092204</td>\n",
       "      <td>75.0</td>\n",
       "    </tr>\n",
       "    <tr>\n",
       "      <th>2</th>\n",
       "      <td>0.085299</td>\n",
       "      <td>0.050680</td>\n",
       "      <td>0.044451</td>\n",
       "      <td>-0.005670</td>\n",
       "      <td>-0.045599</td>\n",
       "      <td>-0.034194</td>\n",
       "      <td>-0.032356</td>\n",
       "      <td>-0.002592</td>\n",
       "      <td>0.002861</td>\n",
       "      <td>-0.025930</td>\n",
       "      <td>141.0</td>\n",
       "    </tr>\n",
       "    <tr>\n",
       "      <th>3</th>\n",
       "      <td>-0.089063</td>\n",
       "      <td>-0.044642</td>\n",
       "      <td>-0.011595</td>\n",
       "      <td>-0.036656</td>\n",
       "      <td>0.012191</td>\n",
       "      <td>0.024991</td>\n",
       "      <td>-0.036038</td>\n",
       "      <td>0.034309</td>\n",
       "      <td>0.022688</td>\n",
       "      <td>-0.009362</td>\n",
       "      <td>206.0</td>\n",
       "    </tr>\n",
       "    <tr>\n",
       "      <th>4</th>\n",
       "      <td>0.005383</td>\n",
       "      <td>-0.044642</td>\n",
       "      <td>-0.036385</td>\n",
       "      <td>0.021872</td>\n",
       "      <td>0.003935</td>\n",
       "      <td>0.015596</td>\n",
       "      <td>0.008142</td>\n",
       "      <td>-0.002592</td>\n",
       "      <td>-0.031988</td>\n",
       "      <td>-0.046641</td>\n",
       "      <td>135.0</td>\n",
       "    </tr>\n",
       "    <tr>\n",
       "      <th>5</th>\n",
       "      <td>-0.092695</td>\n",
       "      <td>-0.044642</td>\n",
       "      <td>-0.040696</td>\n",
       "      <td>-0.019442</td>\n",
       "      <td>-0.068991</td>\n",
       "      <td>-0.079288</td>\n",
       "      <td>0.041277</td>\n",
       "      <td>-0.076395</td>\n",
       "      <td>-0.041176</td>\n",
       "      <td>-0.096346</td>\n",
       "      <td>97.0</td>\n",
       "    </tr>\n",
       "  </tbody>\n",
       "</table>\n",
       "</div>"
      ],
      "text/plain": [
       "        age       sex       bmi        bp        s1        s2        s3  \\\n",
       "0  0.038076  0.050680  0.061696  0.021872 -0.044223 -0.034821 -0.043401   \n",
       "1 -0.001882 -0.044642 -0.051474 -0.026328 -0.008449 -0.019163  0.074412   \n",
       "2  0.085299  0.050680  0.044451 -0.005670 -0.045599 -0.034194 -0.032356   \n",
       "3 -0.089063 -0.044642 -0.011595 -0.036656  0.012191  0.024991 -0.036038   \n",
       "4  0.005383 -0.044642 -0.036385  0.021872  0.003935  0.015596  0.008142   \n",
       "5 -0.092695 -0.044642 -0.040696 -0.019442 -0.068991 -0.079288  0.041277   \n",
       "\n",
       "         s4        s5        s6  target  \n",
       "0 -0.002592  0.019907 -0.017646   151.0  \n",
       "1 -0.039493 -0.068332 -0.092204    75.0  \n",
       "2 -0.002592  0.002861 -0.025930   141.0  \n",
       "3  0.034309  0.022688 -0.009362   206.0  \n",
       "4 -0.002592 -0.031988 -0.046641   135.0  \n",
       "5 -0.076395 -0.041176 -0.096346    97.0  "
      ]
     },
     "execution_count": 37,
     "metadata": {},
     "output_type": "execute_result"
    }
   ],
   "source": [
    "diabetes_df.head(6)"
   ]
  },
  {
   "cell_type": "code",
   "execution_count": 38,
   "metadata": {},
   "outputs": [
    {
     "data": {
      "application/vnd.microsoft.datawrangler.viewer.v0+json": {
       "columns": [
        {
         "name": "index",
         "rawType": "int64",
         "type": "integer"
        },
        {
         "name": "age",
         "rawType": "float64",
         "type": "float"
        },
        {
         "name": "sex",
         "rawType": "float64",
         "type": "float"
        },
        {
         "name": "bmi",
         "rawType": "float64",
         "type": "float"
        },
        {
         "name": "bp",
         "rawType": "float64",
         "type": "float"
        },
        {
         "name": "s1",
         "rawType": "float64",
         "type": "float"
        },
        {
         "name": "s2",
         "rawType": "float64",
         "type": "float"
        },
        {
         "name": "s3",
         "rawType": "float64",
         "type": "float"
        },
        {
         "name": "s4",
         "rawType": "float64",
         "type": "float"
        },
        {
         "name": "s5",
         "rawType": "float64",
         "type": "float"
        },
        {
         "name": "s6",
         "rawType": "float64",
         "type": "float"
        },
        {
         "name": "target",
         "rawType": "float64",
         "type": "float"
        }
       ],
       "conversionMethod": "pd.DataFrame",
       "ref": "a369b727-7673-46ca-b4d5-da0bf9cbb96d",
       "rows": [
        [
         "436",
         "-0.056370093293081916",
         "-0.044641636506989144",
         "-0.07410811479029747",
         "-0.05042748497879779",
         "-0.0249601584096303",
         "-0.047033552847490806",
         "0.09281975309919192",
         "-0.0763945037500033",
         "-0.061175799045152635",
         "-0.04664087356364498",
         "48.0"
        ],
        [
         "437",
         "0.04170844488444244",
         "0.05068011873981862",
         "0.01966153563733209",
         "0.059743746248378575",
         "-0.005696818394814609",
         "-0.0025664712733768653",
         "-0.028674294435677143",
         "-0.002592261998183278",
         "0.031192602201596156",
         "0.007206516329202944",
         "178.0"
        ],
        [
         "438",
         "-0.005514554978810025",
         "0.05068011873981862",
         "-0.015906262800734303",
         "-0.06764173985804409",
         "0.04934129593323023",
         "0.07916527725369175",
         "-0.028674294435677143",
         "0.03430885887772673",
         "-0.018113692315690322",
         "0.044485478562713045",
         "104.0"
        ],
        [
         "439",
         "0.04170844488444244",
         "0.05068011873981862",
         "-0.015906262800734303",
         "0.01729339371615719",
         "-0.037343734133440394",
         "-0.013839815897800126",
         "-0.024992656631590206",
         "-0.011079519799642579",
         "-0.04688253415273158",
         "0.015490730158871856",
         "132.0"
        ],
        [
         "440",
         "-0.045472477940023646",
         "-0.044641636506989144",
         "0.039062152967186486",
         "0.0012152796589411327",
         "0.016318427336403322",
         "0.015282991048626631",
         "-0.028674294435677143",
         "0.02655962349378563",
         "0.04452872881997113",
         "-0.025930338989472702",
         "220.0"
        ],
        [
         "441",
         "-0.045472477940023646",
         "-0.044641636506989144",
         "-0.07303030271641665",
         "-0.08141314376144114",
         "0.08374011738825825",
         "0.027808929520208008",
         "0.17381578478910462",
         "-0.03949338287409329",
         "-0.00422151393810765",
         "0.0030644094143684884",
         "57.0"
        ]
       ],
       "shape": {
        "columns": 11,
        "rows": 6
       }
      },
      "text/html": [
       "<div>\n",
       "<style scoped>\n",
       "    .dataframe tbody tr th:only-of-type {\n",
       "        vertical-align: middle;\n",
       "    }\n",
       "\n",
       "    .dataframe tbody tr th {\n",
       "        vertical-align: top;\n",
       "    }\n",
       "\n",
       "    .dataframe thead th {\n",
       "        text-align: right;\n",
       "    }\n",
       "</style>\n",
       "<table border=\"1\" class=\"dataframe\">\n",
       "  <thead>\n",
       "    <tr style=\"text-align: right;\">\n",
       "      <th></th>\n",
       "      <th>age</th>\n",
       "      <th>sex</th>\n",
       "      <th>bmi</th>\n",
       "      <th>bp</th>\n",
       "      <th>s1</th>\n",
       "      <th>s2</th>\n",
       "      <th>s3</th>\n",
       "      <th>s4</th>\n",
       "      <th>s5</th>\n",
       "      <th>s6</th>\n",
       "      <th>target</th>\n",
       "    </tr>\n",
       "  </thead>\n",
       "  <tbody>\n",
       "    <tr>\n",
       "      <th>436</th>\n",
       "      <td>-0.056370</td>\n",
       "      <td>-0.044642</td>\n",
       "      <td>-0.074108</td>\n",
       "      <td>-0.050427</td>\n",
       "      <td>-0.024960</td>\n",
       "      <td>-0.047034</td>\n",
       "      <td>0.092820</td>\n",
       "      <td>-0.076395</td>\n",
       "      <td>-0.061176</td>\n",
       "      <td>-0.046641</td>\n",
       "      <td>48.0</td>\n",
       "    </tr>\n",
       "    <tr>\n",
       "      <th>437</th>\n",
       "      <td>0.041708</td>\n",
       "      <td>0.050680</td>\n",
       "      <td>0.019662</td>\n",
       "      <td>0.059744</td>\n",
       "      <td>-0.005697</td>\n",
       "      <td>-0.002566</td>\n",
       "      <td>-0.028674</td>\n",
       "      <td>-0.002592</td>\n",
       "      <td>0.031193</td>\n",
       "      <td>0.007207</td>\n",
       "      <td>178.0</td>\n",
       "    </tr>\n",
       "    <tr>\n",
       "      <th>438</th>\n",
       "      <td>-0.005515</td>\n",
       "      <td>0.050680</td>\n",
       "      <td>-0.015906</td>\n",
       "      <td>-0.067642</td>\n",
       "      <td>0.049341</td>\n",
       "      <td>0.079165</td>\n",
       "      <td>-0.028674</td>\n",
       "      <td>0.034309</td>\n",
       "      <td>-0.018114</td>\n",
       "      <td>0.044485</td>\n",
       "      <td>104.0</td>\n",
       "    </tr>\n",
       "    <tr>\n",
       "      <th>439</th>\n",
       "      <td>0.041708</td>\n",
       "      <td>0.050680</td>\n",
       "      <td>-0.015906</td>\n",
       "      <td>0.017293</td>\n",
       "      <td>-0.037344</td>\n",
       "      <td>-0.013840</td>\n",
       "      <td>-0.024993</td>\n",
       "      <td>-0.011080</td>\n",
       "      <td>-0.046883</td>\n",
       "      <td>0.015491</td>\n",
       "      <td>132.0</td>\n",
       "    </tr>\n",
       "    <tr>\n",
       "      <th>440</th>\n",
       "      <td>-0.045472</td>\n",
       "      <td>-0.044642</td>\n",
       "      <td>0.039062</td>\n",
       "      <td>0.001215</td>\n",
       "      <td>0.016318</td>\n",
       "      <td>0.015283</td>\n",
       "      <td>-0.028674</td>\n",
       "      <td>0.026560</td>\n",
       "      <td>0.044529</td>\n",
       "      <td>-0.025930</td>\n",
       "      <td>220.0</td>\n",
       "    </tr>\n",
       "    <tr>\n",
       "      <th>441</th>\n",
       "      <td>-0.045472</td>\n",
       "      <td>-0.044642</td>\n",
       "      <td>-0.073030</td>\n",
       "      <td>-0.081413</td>\n",
       "      <td>0.083740</td>\n",
       "      <td>0.027809</td>\n",
       "      <td>0.173816</td>\n",
       "      <td>-0.039493</td>\n",
       "      <td>-0.004222</td>\n",
       "      <td>0.003064</td>\n",
       "      <td>57.0</td>\n",
       "    </tr>\n",
       "  </tbody>\n",
       "</table>\n",
       "</div>"
      ],
      "text/plain": [
       "          age       sex       bmi        bp        s1        s2        s3  \\\n",
       "436 -0.056370 -0.044642 -0.074108 -0.050427 -0.024960 -0.047034  0.092820   \n",
       "437  0.041708  0.050680  0.019662  0.059744 -0.005697 -0.002566 -0.028674   \n",
       "438 -0.005515  0.050680 -0.015906 -0.067642  0.049341  0.079165 -0.028674   \n",
       "439  0.041708  0.050680 -0.015906  0.017293 -0.037344 -0.013840 -0.024993   \n",
       "440 -0.045472 -0.044642  0.039062  0.001215  0.016318  0.015283 -0.028674   \n",
       "441 -0.045472 -0.044642 -0.073030 -0.081413  0.083740  0.027809  0.173816   \n",
       "\n",
       "           s4        s5        s6  target  \n",
       "436 -0.076395 -0.061176 -0.046641    48.0  \n",
       "437 -0.002592  0.031193  0.007207   178.0  \n",
       "438  0.034309 -0.018114  0.044485   104.0  \n",
       "439 -0.011080 -0.046883  0.015491   132.0  \n",
       "440  0.026560  0.044529 -0.025930   220.0  \n",
       "441 -0.039493 -0.004222  0.003064    57.0  "
      ]
     },
     "execution_count": 38,
     "metadata": {},
     "output_type": "execute_result"
    }
   ],
   "source": [
    "diabetes_df.tail(6)"
   ]
  },
  {
   "cell_type": "code",
   "execution_count": 39,
   "metadata": {},
   "outputs": [],
   "source": [
    "diabetes_categorical_variables = ['age','sex','bmi','bp','s1','s2','s3','s4','s5','s6']\n",
    "diabetes_df[diabetes_categorical_variables] = diabetes_df[diabetes_categorical_variables].astype('category')"
   ]
  },
  {
   "cell_type": "code",
   "execution_count": 40,
   "metadata": {},
   "outputs": [
    {
     "data": {
      "text/html": [
       "<pre style=\"white-space:pre;overflow-x:auto;line-height:normal;font-family:Menlo,'DejaVu Sans Mono',consolas,'Courier New',monospace\">╭──────────────────────────────────────────────── skimpy summary ─────────────────────────────────────────────────╮\n",
       "│ <span style=\"font-style: italic\">         Data Summary         </span> <span style=\"font-style: italic\">      Data Types       </span> <span style=\"font-style: italic\">       Categories        </span>                                │\n",
       "│ ┏━━━━━━━━━━━━━━━━━━━┳━━━━━━━━┓ ┏━━━━━━━━━━━━━┳━━━━━━━┓ ┏━━━━━━━━━━━━━━━━━━━━━━━┓                                │\n",
       "│ ┃<span style=\"color: #008080; text-decoration-color: #008080; font-weight: bold\"> Dataframe         </span>┃<span style=\"color: #008080; text-decoration-color: #008080; font-weight: bold\"> Values </span>┃ ┃<span style=\"color: #008080; text-decoration-color: #008080; font-weight: bold\"> Column Type </span>┃<span style=\"color: #008080; text-decoration-color: #008080; font-weight: bold\"> Count </span>┃ ┃<span style=\"color: #008080; text-decoration-color: #008080; font-weight: bold\"> Categorical Variables </span>┃                                │\n",
       "│ ┡━━━━━━━━━━━━━━━━━━━╇━━━━━━━━┩ ┡━━━━━━━━━━━━━╇━━━━━━━┩ ┡━━━━━━━━━━━━━━━━━━━━━━━┩                                │\n",
       "│ │ Number of rows    │ 442    │ │ category    │ 10    │ │ age                   │                                │\n",
       "│ │ Number of columns │ 11     │ │ float64     │ 1     │ │ sex                   │                                │\n",
       "│ └───────────────────┴────────┘ └─────────────┴───────┘ │ bmi                   │                                │\n",
       "│                                                        │ bp                    │                                │\n",
       "│                                                        │ s1                    │                                │\n",
       "│                                                        │ s2                    │                                │\n",
       "│                                                        │ s3                    │                                │\n",
       "│                                                        │ s4                    │                                │\n",
       "│                                                        │ s5                    │                                │\n",
       "│                                                        │ s6                    │                                │\n",
       "│                                                        └───────────────────────┘                                │\n",
       "│ <span style=\"font-style: italic\">                                                    number                                                    </span>  │\n",
       "│ ┏━━━━━━━━━━━━┳━━━━━━┳━━━━━━━━━┳━━━━━━━━━━┳━━━━━━━━━━┳━━━━━━┳━━━━━━━┳━━━━━━━━━━┳━━━━━━━━━━┳━━━━━━━━┳━━━━━━━━━━┓  │\n",
       "│ ┃<span style=\"font-weight: bold\"> column     </span>┃<span style=\"font-weight: bold\"> NA   </span>┃<span style=\"font-weight: bold\"> NA %    </span>┃<span style=\"font-weight: bold\"> mean     </span>┃<span style=\"font-weight: bold\"> sd       </span>┃<span style=\"font-weight: bold\"> p0   </span>┃<span style=\"font-weight: bold\"> p25   </span>┃<span style=\"font-weight: bold\"> p50      </span>┃<span style=\"font-weight: bold\"> p75      </span>┃<span style=\"font-weight: bold\"> p100   </span>┃<span style=\"font-weight: bold\"> hist     </span>┃  │\n",
       "│ ┡━━━━━━━━━━━━╇━━━━━━╇━━━━━━━━━╇━━━━━━━━━━╇━━━━━━━━━━╇━━━━━━╇━━━━━━━╇━━━━━━━━━━╇━━━━━━━━━━╇━━━━━━━━╇━━━━━━━━━━┩  │\n",
       "│ │ <span style=\"color: #af87ff; text-decoration-color: #af87ff\">target    </span> │ <span style=\"color: #008080; text-decoration-color: #008080\">   0</span> │ <span style=\"color: #008080; text-decoration-color: #008080\">      0</span> │ <span style=\"color: #008080; text-decoration-color: #008080\">   152.1</span> │ <span style=\"color: #008080; text-decoration-color: #008080\">   77.09</span> │ <span style=\"color: #008080; text-decoration-color: #008080\">  25</span> │ <span style=\"color: #008080; text-decoration-color: #008080\">   87</span> │ <span style=\"color: #008080; text-decoration-color: #008080\">   140.5</span> │ <span style=\"color: #008080; text-decoration-color: #008080\">   211.5</span> │ <span style=\"color: #008080; text-decoration-color: #008080\">   346</span> │ <span style=\"color: #008000; text-decoration-color: #008000\"> ▇█▇▅▄▁ </span> │  │\n",
       "│ └────────────┴──────┴─────────┴──────────┴──────────┴──────┴───────┴──────────┴──────────┴────────┴──────────┘  │\n",
       "│ <span style=\"font-style: italic\">                                                   category                                                   </span>  │\n",
       "│ ┏━━━━━━━━━━━━━━━━━━━━━━━━┳━━━━━━━━━━━━┳━━━━━━━━━━━━━━━━━━┳━━━━━━━━━━━━━━━━━━━━━━━━━━━┳━━━━━━━━━━━━━━━━━━━━━━━┓  │\n",
       "│ ┃<span style=\"font-weight: bold\"> column                 </span>┃<span style=\"font-weight: bold\"> NA         </span>┃<span style=\"font-weight: bold\"> NA %             </span>┃<span style=\"font-weight: bold\"> ordered                   </span>┃<span style=\"font-weight: bold\"> unique                </span>┃  │\n",
       "│ ┡━━━━━━━━━━━━━━━━━━━━━━━━╇━━━━━━━━━━━━╇━━━━━━━━━━━━━━━━━━╇━━━━━━━━━━━━━━━━━━━━━━━━━━━╇━━━━━━━━━━━━━━━━━━━━━━━┩  │\n",
       "│ │ <span style=\"color: #af87ff; text-decoration-color: #af87ff\">age                   </span> │ <span style=\"color: #008080; text-decoration-color: #008080\">         0</span> │ <span style=\"color: #008080; text-decoration-color: #008080\">               0</span> │ <span style=\"color: #00d7ff; text-decoration-color: #00d7ff\">False                    </span> │ <span style=\"color: #008080; text-decoration-color: #008080\">                   58</span> │  │\n",
       "│ │ <span style=\"color: #af87ff; text-decoration-color: #af87ff\">sex                   </span> │ <span style=\"color: #008080; text-decoration-color: #008080\">         0</span> │ <span style=\"color: #008080; text-decoration-color: #008080\">               0</span> │ <span style=\"color: #00d7ff; text-decoration-color: #00d7ff\">False                    </span> │ <span style=\"color: #008080; text-decoration-color: #008080\">                    2</span> │  │\n",
       "│ │ <span style=\"color: #af87ff; text-decoration-color: #af87ff\">bmi                   </span> │ <span style=\"color: #008080; text-decoration-color: #008080\">         0</span> │ <span style=\"color: #008080; text-decoration-color: #008080\">               0</span> │ <span style=\"color: #00d7ff; text-decoration-color: #00d7ff\">False                    </span> │ <span style=\"color: #008080; text-decoration-color: #008080\">                  163</span> │  │\n",
       "│ │ <span style=\"color: #af87ff; text-decoration-color: #af87ff\">bp                    </span> │ <span style=\"color: #008080; text-decoration-color: #008080\">         0</span> │ <span style=\"color: #008080; text-decoration-color: #008080\">               0</span> │ <span style=\"color: #00d7ff; text-decoration-color: #00d7ff\">False                    </span> │ <span style=\"color: #008080; text-decoration-color: #008080\">                  100</span> │  │\n",
       "│ │ <span style=\"color: #af87ff; text-decoration-color: #af87ff\">s1                    </span> │ <span style=\"color: #008080; text-decoration-color: #008080\">         0</span> │ <span style=\"color: #008080; text-decoration-color: #008080\">               0</span> │ <span style=\"color: #00d7ff; text-decoration-color: #00d7ff\">False                    </span> │ <span style=\"color: #008080; text-decoration-color: #008080\">                  141</span> │  │\n",
       "│ │ <span style=\"color: #af87ff; text-decoration-color: #af87ff\">s2                    </span> │ <span style=\"color: #008080; text-decoration-color: #008080\">         0</span> │ <span style=\"color: #008080; text-decoration-color: #008080\">               0</span> │ <span style=\"color: #00d7ff; text-decoration-color: #00d7ff\">False                    </span> │ <span style=\"color: #008080; text-decoration-color: #008080\">                  302</span> │  │\n",
       "│ │ <span style=\"color: #af87ff; text-decoration-color: #af87ff\">s3                    </span> │ <span style=\"color: #008080; text-decoration-color: #008080\">         0</span> │ <span style=\"color: #008080; text-decoration-color: #008080\">               0</span> │ <span style=\"color: #00d7ff; text-decoration-color: #00d7ff\">False                    </span> │ <span style=\"color: #008080; text-decoration-color: #008080\">                   63</span> │  │\n",
       "│ │ <span style=\"color: #af87ff; text-decoration-color: #af87ff\">s4                    </span> │ <span style=\"color: #008080; text-decoration-color: #008080\">         0</span> │ <span style=\"color: #008080; text-decoration-color: #008080\">               0</span> │ <span style=\"color: #00d7ff; text-decoration-color: #00d7ff\">False                    </span> │ <span style=\"color: #008080; text-decoration-color: #008080\">                   66</span> │  │\n",
       "│ │ <span style=\"color: #af87ff; text-decoration-color: #af87ff\">s5                    </span> │ <span style=\"color: #008080; text-decoration-color: #008080\">         0</span> │ <span style=\"color: #008080; text-decoration-color: #008080\">               0</span> │ <span style=\"color: #00d7ff; text-decoration-color: #00d7ff\">False                    </span> │ <span style=\"color: #008080; text-decoration-color: #008080\">                  184</span> │  │\n",
       "│ │ <span style=\"color: #af87ff; text-decoration-color: #af87ff\">s6                    </span> │ <span style=\"color: #008080; text-decoration-color: #008080\">         0</span> │ <span style=\"color: #008080; text-decoration-color: #008080\">               0</span> │ <span style=\"color: #00d7ff; text-decoration-color: #00d7ff\">False                    </span> │ <span style=\"color: #008080; text-decoration-color: #008080\">                   56</span> │  │\n",
       "│ └────────────────────────┴────────────┴──────────────────┴───────────────────────────┴───────────────────────┘  │\n",
       "╰────────────────────────────────────────────────────── End ──────────────────────────────────────────────────────╯\n",
       "</pre>\n"
      ],
      "text/plain": [
       "╭──────────────────────────────────────────────── skimpy summary ─────────────────────────────────────────────────╮\n",
       "│ \u001b[3m         Data Summary         \u001b[0m \u001b[3m      Data Types       \u001b[0m \u001b[3m       Categories        \u001b[0m                                │\n",
       "│ ┏━━━━━━━━━━━━━━━━━━━┳━━━━━━━━┓ ┏━━━━━━━━━━━━━┳━━━━━━━┓ ┏━━━━━━━━━━━━━━━━━━━━━━━┓                                │\n",
       "│ ┃\u001b[1;36m \u001b[0m\u001b[1;36mDataframe        \u001b[0m\u001b[1;36m \u001b[0m┃\u001b[1;36m \u001b[0m\u001b[1;36mValues\u001b[0m\u001b[1;36m \u001b[0m┃ ┃\u001b[1;36m \u001b[0m\u001b[1;36mColumn Type\u001b[0m\u001b[1;36m \u001b[0m┃\u001b[1;36m \u001b[0m\u001b[1;36mCount\u001b[0m\u001b[1;36m \u001b[0m┃ ┃\u001b[1;36m \u001b[0m\u001b[1;36mCategorical Variables\u001b[0m\u001b[1;36m \u001b[0m┃                                │\n",
       "│ ┡━━━━━━━━━━━━━━━━━━━╇━━━━━━━━┩ ┡━━━━━━━━━━━━━╇━━━━━━━┩ ┡━━━━━━━━━━━━━━━━━━━━━━━┩                                │\n",
       "│ │ Number of rows    │ 442    │ │ category    │ 10    │ │ age                   │                                │\n",
       "│ │ Number of columns │ 11     │ │ float64     │ 1     │ │ sex                   │                                │\n",
       "│ └───────────────────┴────────┘ └─────────────┴───────┘ │ bmi                   │                                │\n",
       "│                                                        │ bp                    │                                │\n",
       "│                                                        │ s1                    │                                │\n",
       "│                                                        │ s2                    │                                │\n",
       "│                                                        │ s3                    │                                │\n",
       "│                                                        │ s4                    │                                │\n",
       "│                                                        │ s5                    │                                │\n",
       "│                                                        │ s6                    │                                │\n",
       "│                                                        └───────────────────────┘                                │\n",
       "│ \u001b[3m                                                    number                                                    \u001b[0m  │\n",
       "│ ┏━━━━━━━━━━━━┳━━━━━━┳━━━━━━━━━┳━━━━━━━━━━┳━━━━━━━━━━┳━━━━━━┳━━━━━━━┳━━━━━━━━━━┳━━━━━━━━━━┳━━━━━━━━┳━━━━━━━━━━┓  │\n",
       "│ ┃\u001b[1m \u001b[0m\u001b[1mcolumn    \u001b[0m\u001b[1m \u001b[0m┃\u001b[1m \u001b[0m\u001b[1mNA  \u001b[0m\u001b[1m \u001b[0m┃\u001b[1m \u001b[0m\u001b[1mNA %   \u001b[0m\u001b[1m \u001b[0m┃\u001b[1m \u001b[0m\u001b[1mmean    \u001b[0m\u001b[1m \u001b[0m┃\u001b[1m \u001b[0m\u001b[1msd      \u001b[0m\u001b[1m \u001b[0m┃\u001b[1m \u001b[0m\u001b[1mp0  \u001b[0m\u001b[1m \u001b[0m┃\u001b[1m \u001b[0m\u001b[1mp25  \u001b[0m\u001b[1m \u001b[0m┃\u001b[1m \u001b[0m\u001b[1mp50     \u001b[0m\u001b[1m \u001b[0m┃\u001b[1m \u001b[0m\u001b[1mp75     \u001b[0m\u001b[1m \u001b[0m┃\u001b[1m \u001b[0m\u001b[1mp100  \u001b[0m\u001b[1m \u001b[0m┃\u001b[1m \u001b[0m\u001b[1mhist    \u001b[0m\u001b[1m \u001b[0m┃  │\n",
       "│ ┡━━━━━━━━━━━━╇━━━━━━╇━━━━━━━━━╇━━━━━━━━━━╇━━━━━━━━━━╇━━━━━━╇━━━━━━━╇━━━━━━━━━━╇━━━━━━━━━━╇━━━━━━━━╇━━━━━━━━━━┩  │\n",
       "│ │ \u001b[38;5;141mtarget    \u001b[0m │ \u001b[36m   0\u001b[0m │ \u001b[36m      0\u001b[0m │ \u001b[36m   152.1\u001b[0m │ \u001b[36m   77.09\u001b[0m │ \u001b[36m  25\u001b[0m │ \u001b[36m   87\u001b[0m │ \u001b[36m   140.5\u001b[0m │ \u001b[36m   211.5\u001b[0m │ \u001b[36m   346\u001b[0m │ \u001b[32m ▇█▇▅▄▁ \u001b[0m │  │\n",
       "│ └────────────┴──────┴─────────┴──────────┴──────────┴──────┴───────┴──────────┴──────────┴────────┴──────────┘  │\n",
       "│ \u001b[3m                                                   category                                                   \u001b[0m  │\n",
       "│ ┏━━━━━━━━━━━━━━━━━━━━━━━━┳━━━━━━━━━━━━┳━━━━━━━━━━━━━━━━━━┳━━━━━━━━━━━━━━━━━━━━━━━━━━━┳━━━━━━━━━━━━━━━━━━━━━━━┓  │\n",
       "│ ┃\u001b[1m \u001b[0m\u001b[1mcolumn                \u001b[0m\u001b[1m \u001b[0m┃\u001b[1m \u001b[0m\u001b[1mNA        \u001b[0m\u001b[1m \u001b[0m┃\u001b[1m \u001b[0m\u001b[1mNA %            \u001b[0m\u001b[1m \u001b[0m┃\u001b[1m \u001b[0m\u001b[1mordered                  \u001b[0m\u001b[1m \u001b[0m┃\u001b[1m \u001b[0m\u001b[1munique               \u001b[0m\u001b[1m \u001b[0m┃  │\n",
       "│ ┡━━━━━━━━━━━━━━━━━━━━━━━━╇━━━━━━━━━━━━╇━━━━━━━━━━━━━━━━━━╇━━━━━━━━━━━━━━━━━━━━━━━━━━━╇━━━━━━━━━━━━━━━━━━━━━━━┩  │\n",
       "│ │ \u001b[38;5;141mage                   \u001b[0m │ \u001b[36m         0\u001b[0m │ \u001b[36m               0\u001b[0m │ \u001b[38;5;45mFalse                    \u001b[0m │ \u001b[36m                   58\u001b[0m │  │\n",
       "│ │ \u001b[38;5;141msex                   \u001b[0m │ \u001b[36m         0\u001b[0m │ \u001b[36m               0\u001b[0m │ \u001b[38;5;45mFalse                    \u001b[0m │ \u001b[36m                    2\u001b[0m │  │\n",
       "│ │ \u001b[38;5;141mbmi                   \u001b[0m │ \u001b[36m         0\u001b[0m │ \u001b[36m               0\u001b[0m │ \u001b[38;5;45mFalse                    \u001b[0m │ \u001b[36m                  163\u001b[0m │  │\n",
       "│ │ \u001b[38;5;141mbp                    \u001b[0m │ \u001b[36m         0\u001b[0m │ \u001b[36m               0\u001b[0m │ \u001b[38;5;45mFalse                    \u001b[0m │ \u001b[36m                  100\u001b[0m │  │\n",
       "│ │ \u001b[38;5;141ms1                    \u001b[0m │ \u001b[36m         0\u001b[0m │ \u001b[36m               0\u001b[0m │ \u001b[38;5;45mFalse                    \u001b[0m │ \u001b[36m                  141\u001b[0m │  │\n",
       "│ │ \u001b[38;5;141ms2                    \u001b[0m │ \u001b[36m         0\u001b[0m │ \u001b[36m               0\u001b[0m │ \u001b[38;5;45mFalse                    \u001b[0m │ \u001b[36m                  302\u001b[0m │  │\n",
       "│ │ \u001b[38;5;141ms3                    \u001b[0m │ \u001b[36m         0\u001b[0m │ \u001b[36m               0\u001b[0m │ \u001b[38;5;45mFalse                    \u001b[0m │ \u001b[36m                   63\u001b[0m │  │\n",
       "│ │ \u001b[38;5;141ms4                    \u001b[0m │ \u001b[36m         0\u001b[0m │ \u001b[36m               0\u001b[0m │ \u001b[38;5;45mFalse                    \u001b[0m │ \u001b[36m                   66\u001b[0m │  │\n",
       "│ │ \u001b[38;5;141ms5                    \u001b[0m │ \u001b[36m         0\u001b[0m │ \u001b[36m               0\u001b[0m │ \u001b[38;5;45mFalse                    \u001b[0m │ \u001b[36m                  184\u001b[0m │  │\n",
       "│ │ \u001b[38;5;141ms6                    \u001b[0m │ \u001b[36m         0\u001b[0m │ \u001b[36m               0\u001b[0m │ \u001b[38;5;45mFalse                    \u001b[0m │ \u001b[36m                   56\u001b[0m │  │\n",
       "│ └────────────────────────┴────────────┴──────────────────┴───────────────────────────┴───────────────────────┘  │\n",
       "╰────────────────────────────────────────────────────── End ──────────────────────────────────────────────────────╯\n"
      ]
     },
     "metadata": {},
     "output_type": "display_data"
    }
   ],
   "source": [
    "skim(diabetes_df)"
   ]
  }
 ],
 "metadata": {
  "colab": {
   "collapsed_sections": [],
   "provenance": []
  },
  "kernelspec": {
   "display_name": "eneas",
   "language": "python",
   "name": "python3"
  },
  "language_info": {
   "codemirror_mode": {
    "name": "ipython",
    "version": 3
   },
   "file_extension": ".py",
   "mimetype": "text/x-python",
   "name": "python",
   "nbconvert_exporter": "python",
   "pygments_lexer": "ipython3",
   "version": "3.13.2"
  }
 },
 "nbformat": 4,
 "nbformat_minor": 1
}
