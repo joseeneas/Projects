{
 "cells": [
  {
   "cell_type": "markdown",
   "metadata": {},
   "source": [
    "<img src=images/MIT_logo.jpg width=150 align=right />"
   ]
  },
  {
   "cell_type": "markdown",
   "metadata": {},
   "source": [
    "# PROFESSIONAL CERTIFICATE IN DATA SCIENCE AND ANALYTICS\n",
    "# Clustering\n",
    "\n",
    "This code imports several essential libraries and modules commonly used for data analysis, clustering, and visualization in Python. It also sets an environment variable to control the number of threads used by OpenMP, which can influence the performance of certain operations.\n",
    "\n",
    "### Explanation of Imports:\n",
    "\n",
    "1. **`numpy` (`import numpy as np`)**:\n",
    "   - NumPy is a fundamental library for numerical computing in Python. It provides support for multi-dimensional arrays and a wide range of mathematical operations. The alias `np` is a standard convention for referencing NumPy functions.\n",
    "\n",
    "2. **`matplotlib` (`from matplotlib import pyplot as plt`)**:\n",
    "   - Matplotlib is a popular library for creating static, interactive, and animated visualizations. The `pyplot` module provides a MATLAB-like interface for generating plots. The alias `plt` is a standard convention for referencing `pyplot`.\n",
    "\n",
    "3. **`pandas` (`import pandas as pd`)**:\n",
    "   - Pandas is a library designed for data manipulation and analysis. It introduces data structures like `DataFrame` and `Series`, which make it easy to handle structured data. The alias `pd` is a standard convention for referencing Pandas functions.\n",
    "\n",
    "4. **`seaborn` (`import seaborn as sns`)**:\n",
    "   - Seaborn is a statistical data visualization library built on top of Matplotlib. It provides high-level functions for creating visually appealing and informative plots. The alias `sns` is a standard convention for referencing Seaborn.\n",
    "\n",
    "5. **`os` (`import os`)**:\n",
    "   - The `os` module provides functions for interacting with the operating system, such as setting environment variables or working with file paths.\n",
    "\n",
    "6. **`sklearn.datasets` (`from sklearn.datasets import load_iris`)**:\n",
    "   - This module provides access to datasets, such as the Iris dataset, which is commonly used for machine learning and clustering demonstrations.\n",
    "\n",
    "7. **`sklearn.cluster` (`from sklearn.cluster import KMeans`)**:\n",
    "   - This module provides clustering algorithms, including `KMeans`, which is used for partitioning data into clusters based on similarity.\n",
    "\n",
    "8. **`sklearn.metrics` (`from sklearn.metrics import calinski_harabasz_score`)**:\n",
    "   - This module provides metrics for evaluating clustering performance. The `calinski_harabasz_score` measures the quality of clustering by assessing the ratio of between-cluster dispersion to within-cluster dispersion.\n",
    "\n",
    "9. **`sklearn.preprocessing` (`from sklearn.preprocessing import StandardScaler`)**:\n",
    "   - This module provides tools for preprocessing data. The `StandardScaler` is used to standardize features by removing the mean and scaling to unit variance, which is often necessary for clustering algorithms.\n",
    "\n",
    "### Setting the Environment Variable:\n",
    "- `os.environ['OMP_NUM_THREADS'] = '1'`:\n",
    "   - This sets the `OMP_NUM_THREADS` environment variable to `1`, limiting OpenMP (a parallel computing library) to use a single thread. This can help ensure consistent performance and avoid excessive CPU usage during computations, especially when running on multi-threaded systems.\n",
    "\n",
    "### Purpose:\n",
    "This setup prepares the environment for performing clustering tasks, such as using the K-Means algorithm on datasets like Iris. It includes tools for data preprocessing, clustering, evaluation, and visualization, forming a comprehensive foundation for clustering analysis."
   ]
  },
  {
   "cell_type": "code",
   "execution_count": 1,
   "metadata": {},
   "outputs": [],
   "source": [
    "import numpy                             as np              # type: ignore\n",
    "from   matplotlib       import pyplot    as plt             # type: ignore\n",
    "import pandas                            as pd              # type: ignore\n",
    "import seaborn                           as sns             # type: ignore\n",
    "import os                                                   # type: ignore\n",
    "from   sklearn.datasets      import load_iris               # type: ignore\n",
    "from   sklearn.cluster       import KMeans                  # type: ignore\n",
    "from   sklearn.metrics       import calinski_harabasz_score # type: ignore\n",
    "from   sklearn.preprocessing import StandardScaler          # type: ignore\n",
    "os.environ['OMP_NUM_THREADS'] = '2'"
   ]
  },
  {
   "cell_type": "markdown",
   "metadata": {},
   "source": [
    "## K-means\n",
    "Basic clustering algorithm.\\\n",
    "![kmeans](https://i1.wp.com/www.learnbymarketing.com/wp-content/uploads/2015/01/method-k-means-steps-example.png)\n",
    "\\\n",
    "Popular because it's easy to implement an understand. However, very sensitive to initialization state.\n",
    "\n",
    "Since we use libraries, we should choose algorithms based on performance.\n",
    "This code snippet loads the Iris dataset, a classic dataset in machine learning, using the `load_iris` function from `sklearn.datasets`. The dataset is split into two components: `x` (the feature data) and `y` (the target labels). The `return_X_y=True` parameter ensures that the function returns these two components as separate objects, while `as_frame=True` specifies that the data should be returned as a Pandas DataFrame and Series, respectively.\n",
    "\n",
    "### Key Details:\n",
    "\n",
    "1. **`load_iris` Function**:\n",
    "   - The `load_iris` function is designed to load the Iris dataset, which contains 150 samples of iris flowers categorized into three species: *setosa*, *versicolor*, and *virginica*. Each sample has four features: sepal length, sepal width, petal length, and petal width.\n",
    "\n",
    "2. **Parameters**:\n",
    "   - `return_X_y=True`: This instructs the function to return the feature data (`x`) and target labels (`y`) as separate objects instead of a dictionary-like `Bunch` object.\n",
    "   - `as_frame=True`: This ensures that the returned data (`x`) is a Pandas DataFrame, and the target labels (`y`) are a Pandas Series. This format is convenient for data manipulation and analysis.\n",
    "\n",
    "3. **Returned Objects**:\n",
    "   - `x`: A Pandas DataFrame containing the feature data. Each row represents a sample, and each column corresponds to one of the four features (e.g., sepal length, petal width).\n",
    "   - `y`: A Pandas Series containing the target labels, where each value represents the species of the corresponding sample in `x`.\n",
    "\n",
    "4. **Comment**:\n",
    "   - Only the feature data (`x`) will be used in subsequent analysis or operations, and the target labels (`y`) will be ignored.\n",
    "\n",
    "### Purpose:\n",
    "This code is typically used as a starting point for clustering or unsupervised learning tasks, where the goal is to group the data based on feature similarity without using the target labels. By loading the Iris dataset in a DataFrame format, the code facilitates easy exploration, visualization, and preprocessing of the feature data."
   ]
  },
  {
   "cell_type": "code",
   "execution_count": 2,
   "metadata": {},
   "outputs": [
    {
     "data": {
      "application/vnd.microsoft.datawrangler.viewer.v0+json": {
       "columns": [
        {
         "name": "index",
         "rawType": "int64",
         "type": "integer"
        },
        {
         "name": "sepal length (cm)",
         "rawType": "float64",
         "type": "float"
        },
        {
         "name": "sepal width (cm)",
         "rawType": "float64",
         "type": "float"
        },
        {
         "name": "petal length (cm)",
         "rawType": "float64",
         "type": "float"
        },
        {
         "name": "petal width (cm)",
         "rawType": "float64",
         "type": "float"
        }
       ],
       "ref": "e69f3526-1295-4282-8728-92989c6f658e",
       "rows": [
        [
         "0",
         "5.1",
         "3.5",
         "1.4",
         "0.2"
        ],
        [
         "1",
         "4.9",
         "3.0",
         "1.4",
         "0.2"
        ],
        [
         "2",
         "4.7",
         "3.2",
         "1.3",
         "0.2"
        ],
        [
         "3",
         "4.6",
         "3.1",
         "1.5",
         "0.2"
        ],
        [
         "4",
         "5.0",
         "3.6",
         "1.4",
         "0.2"
        ],
        [
         "5",
         "5.4",
         "3.9",
         "1.7",
         "0.4"
        ],
        [
         "6",
         "4.6",
         "3.4",
         "1.4",
         "0.3"
        ],
        [
         "7",
         "5.0",
         "3.4",
         "1.5",
         "0.2"
        ],
        [
         "8",
         "4.4",
         "2.9",
         "1.4",
         "0.2"
        ],
        [
         "9",
         "4.9",
         "3.1",
         "1.5",
         "0.1"
        ],
        [
         "10",
         "5.4",
         "3.7",
         "1.5",
         "0.2"
        ],
        [
         "11",
         "4.8",
         "3.4",
         "1.6",
         "0.2"
        ],
        [
         "12",
         "4.8",
         "3.0",
         "1.4",
         "0.1"
        ],
        [
         "13",
         "4.3",
         "3.0",
         "1.1",
         "0.1"
        ],
        [
         "14",
         "5.8",
         "4.0",
         "1.2",
         "0.2"
        ],
        [
         "15",
         "5.7",
         "4.4",
         "1.5",
         "0.4"
        ],
        [
         "16",
         "5.4",
         "3.9",
         "1.3",
         "0.4"
        ],
        [
         "17",
         "5.1",
         "3.5",
         "1.4",
         "0.3"
        ],
        [
         "18",
         "5.7",
         "3.8",
         "1.7",
         "0.3"
        ],
        [
         "19",
         "5.1",
         "3.8",
         "1.5",
         "0.3"
        ],
        [
         "20",
         "5.4",
         "3.4",
         "1.7",
         "0.2"
        ],
        [
         "21",
         "5.1",
         "3.7",
         "1.5",
         "0.4"
        ],
        [
         "22",
         "4.6",
         "3.6",
         "1.0",
         "0.2"
        ],
        [
         "23",
         "5.1",
         "3.3",
         "1.7",
         "0.5"
        ],
        [
         "24",
         "4.8",
         "3.4",
         "1.9",
         "0.2"
        ],
        [
         "25",
         "5.0",
         "3.0",
         "1.6",
         "0.2"
        ],
        [
         "26",
         "5.0",
         "3.4",
         "1.6",
         "0.4"
        ],
        [
         "27",
         "5.2",
         "3.5",
         "1.5",
         "0.2"
        ],
        [
         "28",
         "5.2",
         "3.4",
         "1.4",
         "0.2"
        ],
        [
         "29",
         "4.7",
         "3.2",
         "1.6",
         "0.2"
        ],
        [
         "30",
         "4.8",
         "3.1",
         "1.6",
         "0.2"
        ],
        [
         "31",
         "5.4",
         "3.4",
         "1.5",
         "0.4"
        ],
        [
         "32",
         "5.2",
         "4.1",
         "1.5",
         "0.1"
        ],
        [
         "33",
         "5.5",
         "4.2",
         "1.4",
         "0.2"
        ],
        [
         "34",
         "4.9",
         "3.1",
         "1.5",
         "0.2"
        ],
        [
         "35",
         "5.0",
         "3.2",
         "1.2",
         "0.2"
        ],
        [
         "36",
         "5.5",
         "3.5",
         "1.3",
         "0.2"
        ],
        [
         "37",
         "4.9",
         "3.6",
         "1.4",
         "0.1"
        ],
        [
         "38",
         "4.4",
         "3.0",
         "1.3",
         "0.2"
        ],
        [
         "39",
         "5.1",
         "3.4",
         "1.5",
         "0.2"
        ],
        [
         "40",
         "5.0",
         "3.5",
         "1.3",
         "0.3"
        ],
        [
         "41",
         "4.5",
         "2.3",
         "1.3",
         "0.3"
        ],
        [
         "42",
         "4.4",
         "3.2",
         "1.3",
         "0.2"
        ],
        [
         "43",
         "5.0",
         "3.5",
         "1.6",
         "0.6"
        ],
        [
         "44",
         "5.1",
         "3.8",
         "1.9",
         "0.4"
        ],
        [
         "45",
         "4.8",
         "3.0",
         "1.4",
         "0.3"
        ],
        [
         "46",
         "5.1",
         "3.8",
         "1.6",
         "0.2"
        ],
        [
         "47",
         "4.6",
         "3.2",
         "1.4",
         "0.2"
        ],
        [
         "48",
         "5.3",
         "3.7",
         "1.5",
         "0.2"
        ],
        [
         "49",
         "5.0",
         "3.3",
         "1.4",
         "0.2"
        ]
       ],
       "shape": {
        "columns": 4,
        "rows": 150
       }
      },
      "text/html": [
       "<div>\n",
       "<style scoped>\n",
       "    .dataframe tbody tr th:only-of-type {\n",
       "        vertical-align: middle;\n",
       "    }\n",
       "\n",
       "    .dataframe tbody tr th {\n",
       "        vertical-align: top;\n",
       "    }\n",
       "\n",
       "    .dataframe thead th {\n",
       "        text-align: right;\n",
       "    }\n",
       "</style>\n",
       "<table border=\"1\" class=\"dataframe\">\n",
       "  <thead>\n",
       "    <tr style=\"text-align: right;\">\n",
       "      <th></th>\n",
       "      <th>sepal length (cm)</th>\n",
       "      <th>sepal width (cm)</th>\n",
       "      <th>petal length (cm)</th>\n",
       "      <th>petal width (cm)</th>\n",
       "    </tr>\n",
       "  </thead>\n",
       "  <tbody>\n",
       "    <tr>\n",
       "      <th>0</th>\n",
       "      <td>5.1</td>\n",
       "      <td>3.5</td>\n",
       "      <td>1.4</td>\n",
       "      <td>0.2</td>\n",
       "    </tr>\n",
       "    <tr>\n",
       "      <th>1</th>\n",
       "      <td>4.9</td>\n",
       "      <td>3.0</td>\n",
       "      <td>1.4</td>\n",
       "      <td>0.2</td>\n",
       "    </tr>\n",
       "    <tr>\n",
       "      <th>2</th>\n",
       "      <td>4.7</td>\n",
       "      <td>3.2</td>\n",
       "      <td>1.3</td>\n",
       "      <td>0.2</td>\n",
       "    </tr>\n",
       "    <tr>\n",
       "      <th>3</th>\n",
       "      <td>4.6</td>\n",
       "      <td>3.1</td>\n",
       "      <td>1.5</td>\n",
       "      <td>0.2</td>\n",
       "    </tr>\n",
       "    <tr>\n",
       "      <th>4</th>\n",
       "      <td>5.0</td>\n",
       "      <td>3.6</td>\n",
       "      <td>1.4</td>\n",
       "      <td>0.2</td>\n",
       "    </tr>\n",
       "    <tr>\n",
       "      <th>...</th>\n",
       "      <td>...</td>\n",
       "      <td>...</td>\n",
       "      <td>...</td>\n",
       "      <td>...</td>\n",
       "    </tr>\n",
       "    <tr>\n",
       "      <th>145</th>\n",
       "      <td>6.7</td>\n",
       "      <td>3.0</td>\n",
       "      <td>5.2</td>\n",
       "      <td>2.3</td>\n",
       "    </tr>\n",
       "    <tr>\n",
       "      <th>146</th>\n",
       "      <td>6.3</td>\n",
       "      <td>2.5</td>\n",
       "      <td>5.0</td>\n",
       "      <td>1.9</td>\n",
       "    </tr>\n",
       "    <tr>\n",
       "      <th>147</th>\n",
       "      <td>6.5</td>\n",
       "      <td>3.0</td>\n",
       "      <td>5.2</td>\n",
       "      <td>2.0</td>\n",
       "    </tr>\n",
       "    <tr>\n",
       "      <th>148</th>\n",
       "      <td>6.2</td>\n",
       "      <td>3.4</td>\n",
       "      <td>5.4</td>\n",
       "      <td>2.3</td>\n",
       "    </tr>\n",
       "    <tr>\n",
       "      <th>149</th>\n",
       "      <td>5.9</td>\n",
       "      <td>3.0</td>\n",
       "      <td>5.1</td>\n",
       "      <td>1.8</td>\n",
       "    </tr>\n",
       "  </tbody>\n",
       "</table>\n",
       "<p>150 rows × 4 columns</p>\n",
       "</div>"
      ],
      "text/plain": [
       "     sepal length (cm)  sepal width (cm)  petal length (cm)  petal width (cm)\n",
       "0                  5.1               3.5                1.4               0.2\n",
       "1                  4.9               3.0                1.4               0.2\n",
       "2                  4.7               3.2                1.3               0.2\n",
       "3                  4.6               3.1                1.5               0.2\n",
       "4                  5.0               3.6                1.4               0.2\n",
       "..                 ...               ...                ...               ...\n",
       "145                6.7               3.0                5.2               2.3\n",
       "146                6.3               2.5                5.0               1.9\n",
       "147                6.5               3.0                5.2               2.0\n",
       "148                6.2               3.4                5.4               2.3\n",
       "149                5.9               3.0                5.1               1.8\n",
       "\n",
       "[150 rows x 4 columns]"
      ]
     },
     "execution_count": 2,
     "metadata": {},
     "output_type": "execute_result"
    }
   ],
   "source": [
    "x, y = load_iris(return_X_y=True, as_frame=True)\n",
    "x"
   ]
  },
  {
   "cell_type": "markdown",
   "metadata": {},
   "source": [
    "This code snippet uses Matplotlib to create and display a scatter plot of the first two features of the dataset `x`. It provides a simple visualization of the relationship between these two features.\n",
    "\n",
    "### Step-by-Step Explanation:\n",
    "\n",
    "1. **`plt.scatter(x.iloc[:, 0], x.iloc[:, 1])`**:\n",
    "   - The `scatter` function from Matplotlib is used to generate a scatter plot.\n",
    "   - `x.iloc[:, 0]`: Selects the first column of the DataFrame `x` (e.g., the first feature, such as sepal length in the Iris dataset) to be plotted on the x-axis.\n",
    "   - `x.iloc[:, 1]`: Selects the second column of the DataFrame `x` (e.g., the second feature, such as sepal width in the Iris dataset) to be plotted on the y-axis.\n",
    "   - Each point in the scatter plot represents a single data sample, with its position determined by the values of the first and second features.\n",
    "\n",
    "2. **`plt.show()`**:\n",
    "   - The `show` function renders and displays the scatter plot.\n",
    "   - In Jupyter notebooks, this step is often optional because plots are automatically displayed at the end of a cell. However, explicitly calling `plt.show()` ensures that the plot is displayed in other environments, such as standalone Python scripts.\n",
    "\n",
    "### Purpose:\n",
    "This visualization provides an intuitive way to explore the relationship between the first two features of the dataset. For example, in the Iris dataset, it can reveal patterns, clusters, or separations in the data based on sepal length and width. Scatter plots are particularly useful for identifying trends, outliers, or groupings in two-dimensional data, making them a common first step in exploratory data analysis."
   ]
  },
  {
   "cell_type": "code",
   "execution_count": 3,
   "metadata": {},
   "outputs": [
    {
     "data": {
      "image/png": "[encoded data removed]",
      "text/plain": [
       "<Figure size 640x480 with 1 Axes>"
      ]
     },
     "metadata": {},
     "output_type": "display_data"
    }
   ],
   "source": [
    "plt.scatter(x.iloc[:, 0], x.iloc[:, 1])\n",
    "plt.show()"
   ]
  },
  {
   "cell_type": "markdown",
   "metadata": {},
   "source": [
    "This piece of the code implements a simplified clustering algorithm, similar to K-Means, to group data points into clusters. \\\n",
    "It uses custom functions to calculate distances and assign data points to clusters iteratively. \\\n",
    "The process involves initializing random cluster labels, calculating centroids, and reassigning labels based on proximity to centroids.\n",
    "\n",
    "### Step-by-Step Explanation:\n",
    "\n",
    "1. **`distance(a, b)` Function**:\n",
    "   - This function calculates the **Euclidean distance** between two points `a` and `b`. \n",
    "   - The formula used is:\n",
    "     ```\n",
    "     distance = sqrt(sum((a - b)^2))\n",
    "     ```\n",
    "   - It computes the squared differences between corresponding elements of `a` and `b`, sums them, and takes the square root of the result. \\\n",
    "   - This is a standard metric for measuring the straight-line distance between two points in multi-dimensional space.\n",
    "\n",
    "2. **`find_closest_centroid(x)` Function**:\n",
    "   - This function determines the closest centroid to a given data point `x`.\n",
    "   - It uses the `apply` method on the `centroids` DataFrame, applying the `distance` function to compute the distance between `x` and each centroid.\n",
    "   - The `idxmin()` method identifies the index of the centroid with the smallest distance, effectively assigning the data point to the nearest cluster.\n",
    "\n",
    "3. **Initializing Cluster Labels**:\n",
    "   - `labels = np.random.choice(range(2), size=len(x))`:\n",
    "     - This initializes the cluster labels for all data points randomly.\n",
    "     - The `range(2)` specifies two clusters (cluster 0 and cluster 1), and `len(x)` ensures that each data point in `x` is assigned a label.\n",
    "\n",
    "4. **Iterative Clustering Process**:\n",
    "   - The `for` loop runs for 10 iterations, simulating the iterative refinement process of clustering algorithms like K-Means:\n",
    "     - **Step 1**: `centroids = x.groupby(labels).mean()`:\n",
    "       - Groups the data points by their current cluster labels and calculates the mean of each group. These means represent the updated centroids for the clusters.\n",
    "     - **Step 2**: `labels = x.apply(find_closest_centroid, axis=1)`:\n",
    "       - Reassigns each data point to the cluster of the nearest centroid by applying the `find_closest_centroid` function to each row of `x`.\n",
    "\n",
    "### Purpose:\n",
    "This code demonstrates the fundamental steps of clustering:\n",
    "1. Random initialization of cluster labels.\n",
    "2. Iterative refinement of cluster centroids and label assignments.\n",
    "3. Use of Euclidean distance to measure similarity.\n",
    "\n",
    "While this implementation is simplified and lacks optimizations (e.g., convergence checks or dynamic stopping criteria), \\\n",
    "it provides a clear understanding of how clustering algorithms like K-Means operate. It is particularly useful for \\\n",
    "educational purposes or as a foundation for building more advanced clustering methods.\\\n",
    "It computes the squared differences between corresponding elements of `a` and `b`, sums them, and takes the square \\\n",
    "root of the result. This is a standard metric for measuring the straight-line distance between two points in multi-dimensional space."
   ]
  },
  {
   "cell_type": "code",
   "execution_count": 4,
   "metadata": {},
   "outputs": [],
   "source": [
    "def distance(a, b):\n",
    "    '''Euclidean distance'''\n",
    "    return np.sqrt(((a - b)**2).sum())\n",
    "def find_closest_centroid(x):\n",
    "    return centroids.apply(lambda c: distance(x, c), axis=1).idxmin()\n",
    "labels = np.random.choice(range(2), size=len(x))\n",
    "for i in range(10):\n",
    "    centroids = x.groupby(labels).mean()\n",
    "    labels    = x.apply(find_closest_centroid, axis=1)"
   ]
  },
  {
   "cell_type": "markdown",
   "metadata": {},
   "source": [
    "The variable `labels` represents the cluster assignments for each data point in the dataset after applying a clustering algorithm. Each element in `labels` corresponds to a data point, and its value indicates the cluster to which that data point has been assigned.\n",
    "\n",
    "### Context:\n",
    "In clustering tasks, such as K-Means, the algorithm groups data points into clusters based on their similarity. The `labels` variable is typically generated during the clustering process and contains the cluster index (e.g., 0, 1, 2, etc.) for each data point.\n",
    "\n",
    "### Purpose:\n",
    "The `labels` variable is essential for analyzing and visualizing the clustering results. It allows you to:\n",
    "1. **Group Data Points**: You can group data points by their assigned clusters for further analysis.\n",
    "2. **Visualization**: Use `labels` to color-code data points in scatter plots, making it easier to interpret the clustering results.\n",
    "3. **Evaluation**: Compare the clustering results to ground truth labels (if available) or calculate clustering performance metrics.\n",
    "\n",
    "### Example:\n",
    "If `labels` contains values like `[0, 1, 0, 2]`, it means:\n",
    "- The first data point belongs to cluster 0.\n",
    "- The second data point belongs to cluster 1.\n",
    "- The third data point belongs to cluster 0.\n",
    "- The fourth data point belongs to cluster 2.\n",
    "\n",
    "In summary, `labels` is a key output of clustering algorithms, providing the cluster assignments for each data point, which can be used for further analysis, visualization, or evaluation."
   ]
  },
  {
   "cell_type": "code",
   "execution_count": 5,
   "metadata": {},
   "outputs": [
    {
     "data": {
      "application/vnd.microsoft.datawrangler.viewer.v0+json": {
       "columns": [
        {
         "name": "index",
         "rawType": "int64",
         "type": "integer"
        },
        {
         "name": "0",
         "rawType": "int64",
         "type": "integer"
        }
       ],
       "ref": "14594ebc-7a60-46dd-9a0e-107ba98b8cc9",
       "rows": [
        [
         "0",
         "0"
        ],
        [
         "1",
         "0"
        ],
        [
         "2",
         "0"
        ],
        [
         "3",
         "0"
        ],
        [
         "4",
         "0"
        ],
        [
         "5",
         "0"
        ],
        [
         "6",
         "0"
        ],
        [
         "7",
         "0"
        ],
        [
         "8",
         "0"
        ],
        [
         "9",
         "0"
        ],
        [
         "10",
         "0"
        ],
        [
         "11",
         "0"
        ],
        [
         "12",
         "0"
        ],
        [
         "13",
         "0"
        ],
        [
         "14",
         "0"
        ],
        [
         "15",
         "0"
        ],
        [
         "16",
         "0"
        ],
        [
         "17",
         "0"
        ],
        [
         "18",
         "0"
        ],
        [
         "19",
         "0"
        ],
        [
         "20",
         "0"
        ],
        [
         "21",
         "0"
        ],
        [
         "22",
         "0"
        ],
        [
         "23",
         "0"
        ],
        [
         "24",
         "0"
        ],
        [
         "25",
         "0"
        ],
        [
         "26",
         "0"
        ],
        [
         "27",
         "0"
        ],
        [
         "28",
         "0"
        ],
        [
         "29",
         "0"
        ],
        [
         "30",
         "0"
        ],
        [
         "31",
         "0"
        ],
        [
         "32",
         "0"
        ],
        [
         "33",
         "0"
        ],
        [
         "34",
         "0"
        ],
        [
         "35",
         "0"
        ],
        [
         "36",
         "0"
        ],
        [
         "37",
         "0"
        ],
        [
         "38",
         "0"
        ],
        [
         "39",
         "0"
        ],
        [
         "40",
         "0"
        ],
        [
         "41",
         "0"
        ],
        [
         "42",
         "0"
        ],
        [
         "43",
         "0"
        ],
        [
         "44",
         "0"
        ],
        [
         "45",
         "0"
        ],
        [
         "46",
         "0"
        ],
        [
         "47",
         "0"
        ],
        [
         "48",
         "0"
        ],
        [
         "49",
         "0"
        ]
       ],
       "shape": {
        "columns": 1,
        "rows": 150
       }
      },
      "text/plain": [
       "0      0\n",
       "1      0\n",
       "2      0\n",
       "3      0\n",
       "4      0\n",
       "      ..\n",
       "145    1\n",
       "146    1\n",
       "147    1\n",
       "148    1\n",
       "149    1\n",
       "Length: 150, dtype: int64"
      ]
     },
     "execution_count": 5,
     "metadata": {},
     "output_type": "execute_result"
    }
   ],
   "source": [
    "labels"
   ]
  },
  {
   "cell_type": "markdown",
   "metadata": {},
   "source": [
    "This code snippet uses Matplotlib to visualize the results of a clustering algorithm by plotting the data points and their corresponding cluster centroids. It provides a clear representation of how the data points are grouped into clusters and where the centroids of those clusters are located.\n",
    "\n",
    "### Step-by-Step Explanation:\n",
    "\n",
    "1. **First Scatter Plot**:\n",
    "   - `plt.scatter(x.iloc[:, 0], x.iloc[:, 1], c=labels)`:\n",
    "     - This plots the data points from the dataset `x` using the first feature (`x.iloc[:, 0]`) on the x-axis and the second feature (`x.iloc[:, 1]`) on the y-axis.\n",
    "     - The `c=labels` parameter assigns a color to each data point based on its cluster label. This visually distinguishes the clusters, as each cluster is represented by a unique color.\n",
    "\n",
    "2. **Second Scatter Plot**:\n",
    "   - `plt.scatter(centroids.iloc[:, 0], centroids.iloc[:, 1], c='red')`:\n",
    "     - This plots the centroids of the clusters using the first and second features of the `centroids` DataFrame.\n",
    "     - The `c='red'` parameter ensures that the centroids are displayed in red, making them easily identifiable in the plot.\n",
    "\n",
    "3. **Displaying the Plot**:\n",
    "   - `plt.show()`:\n",
    "     - This renders and displays the scatter plot. In Jupyter notebooks, this step is often optional because plots are automatically displayed at the end of a cell. However, explicitly calling `plt.show()` ensures that the plot is displayed in other environments, such as standalone Python scripts.\n",
    "\n",
    "### Purpose:\n",
    "This visualization is particularly useful for understanding the results of clustering algorithms like K-Means. It shows:\n",
    "- How the data points are grouped into clusters based on their proximity to the centroids.\n",
    "- The location of the centroids, which represent the \"center\" of each cluster.\n",
    "\n",
    "By combining the data points and centroids in a single plot, this code provides an intuitive way to evaluate the clustering results and identify patterns or separations in the data."
   ]
  },
  {
   "cell_type": "code",
   "execution_count": 6,
   "metadata": {},
   "outputs": [
    {
     "data": {
      "image/png": "[encoded data removed]",
      "text/plain": [
       "<Figure size 640x480 with 1 Axes>"
      ]
     },
     "metadata": {},
     "output_type": "display_data"
    }
   ],
   "source": [
    "plt.scatter(x.iloc[:, 0], x.iloc[:, 1], c=labels)\n",
    "plt.scatter(centroids.iloc[:, 0], centroids.iloc[:, 1], c='red')\n",
    "plt.show()"
   ]
  },
  {
   "cell_type": "markdown",
   "metadata": {},
   "source": [
    "### Comparison to sklearn"
   ]
  },
  {
   "cell_type": "markdown",
   "metadata": {},
   "source": [
    "This code snippet demonstrates the use of the `KMeans` class from the `sklearn.cluster` module to perform clustering on a dataset `x`.\n",
    "\n",
    "### Step-by-Step Explanation:\n",
    "\n",
    "1. **Creating the KMeans Model**:\n",
    "   - `sk_model = KMeans(n_clusters=2)`:\n",
    "     - This initializes a K-Means clustering model with `n_clusters=2`, meaning the algorithm will partition the data into two clusters.\n",
    "     - The `n_clusters` parameter specifies the number of clusters (K) to form, which is a key input for the K-Means algorithm.\n",
    "     - Other parameters, such as `init` (defaulting to `'k-means++'` for efficient centroid initialization) and `max_iter` (defaulting to 300 iterations), are set to their default values unless explicitly specified.\n",
    "\n",
    "2. **Fitting the Model**:\n",
    "   - `sk_model.fit(x)`:\n",
    "     - This method applies the K-Means algorithm to the dataset `x`.\n",
    "     - During the fitting process:\n",
    "       - The algorithm initializes cluster centroids (using the `'k-means++'` method by default).\n",
    "       - It iteratively assigns each data point in `x` to the nearest centroid and recalculates the centroids based on the mean of the points in each cluster.\n",
    "       - This process continues until convergence, which occurs when the centroids stabilize (i.e., their positions change by less than the specified tolerance `tol`) or the maximum number of iterations (`max_iter`) is reached.\n",
    "     - The result of the fitting process includes:\n",
    "       - `labels_`: The cluster label assigned to each data point.\n",
    "       - `cluster_centers_`: The coordinates of the final cluster centroids.\n",
    "       - `inertia_`: The sum of squared distances of data points to their closest cluster center, which measures the compactness of the clusters.\n",
    "\n",
    "### Purpose:\n",
    "This code is used to cluster the dataset `x` into two groups based on feature similarity. The `fit` method trains the model by finding the optimal cluster centroids and assigning labels to the data points. This is a foundational step in unsupervised learning tasks, where the goal is to uncover hidden patterns or groupings in the data without using predefined labels."
   ]
  },
  {
   "cell_type": "code",
   "execution_count": 7,
   "metadata": {},
   "outputs": [
    {
     "data": {
      "text/html": [
       "<style>#sk-container-id-1 {\n",
       "  /* Definition of color scheme common for light and dark mode */\n",
       "  --sklearn-color-text: #000;\n",
       "  --sklearn-color-text-muted: #666;\n",
       "  --sklearn-color-line: gray;\n",
       "  /* Definition of color scheme for unfitted estimators */\n",
       "  --sklearn-color-unfitted-level-0: #fff5e6;\n",
       "  --sklearn-color-unfitted-level-1: #f6e4d2;\n",
       "  --sklearn-color-unfitted-level-2: #ffe0b3;\n",
       "  --sklearn-color-unfitted-level-3: chocolate;\n",
       "  /* Definition of color scheme for fitted estimators */\n",
       "  --sklearn-color-fitted-level-0: #f0f8ff;\n",
       "  --sklearn-color-fitted-level-1: #d4ebff;\n",
       "  --sklearn-color-fitted-level-2: #b3dbfd;\n",
       "  --sklearn-color-fitted-level-3: cornflowerblue;\n",
       "\n",
       "  /* Specific color for light theme */\n",
       "  --sklearn-color-text-on-default-background: var(--sg-text-color, var(--theme-code-foreground, var(--jp-content-font-color1, black)));\n",
       "  --sklearn-color-background: var(--sg-background-color, var(--theme-background, var(--jp-layout-color0, white)));\n",
       "  --sklearn-color-border-box: var(--sg-text-color, var(--theme-code-foreground, var(--jp-content-font-color1, black)));\n",
       "  --sklearn-color-icon: #696969;\n",
       "\n",
       "  @media (prefers-color-scheme: dark) {\n",
       "    /* Redefinition of color scheme for dark theme */\n",
       "    --sklearn-color-text-on-default-background: var(--sg-text-color, var(--theme-code-foreground, var(--jp-content-font-color1, white)));\n",
       "    --sklearn-color-background: var(--sg-background-color, var(--theme-background, var(--jp-layout-color0, #111)));\n",
       "    --sklearn-color-border-box: var(--sg-text-color, var(--theme-code-foreground, var(--jp-content-font-color1, white)));\n",
       "    --sklearn-color-icon: #878787;\n",
       "  }\n",
       "}\n",
       "\n",
       "#sk-container-id-1 {\n",
       "  color: var(--sklearn-color-text);\n",
       "}\n",
       "\n",
       "#sk-container-id-1 pre {\n",
       "  padding: 0;\n",
       "}\n",
       "\n",
       "#sk-container-id-1 input.sk-hidden--visually {\n",
       "  border: 0;\n",
       "  clip: rect(1px 1px 1px 1px);\n",
       "  clip: rect(1px, 1px, 1px, 1px);\n",
       "  height: 1px;\n",
       "  margin: -1px;\n",
       "  overflow: hidden;\n",
       "  padding: 0;\n",
       "  position: absolute;\n",
       "  width: 1px;\n",
       "}\n",
       "\n",
       "#sk-container-id-1 div.sk-dashed-wrapped {\n",
       "  border: 1px dashed var(--sklearn-color-line);\n",
       "  margin: 0 0.4em 0.5em 0.4em;\n",
       "  box-sizing: border-box;\n",
       "  padding-bottom: 0.4em;\n",
       "  background-color: var(--sklearn-color-background);\n",
       "}\n",
       "\n",
       "#sk-container-id-1 div.sk-container {\n",
       "  /* jupyter's `normalize.less` sets `[hidden] { display: none; }`\n",
       "     but bootstrap.min.css set `[hidden] { display: none !important; }`\n",
       "     so we also need the `!important` here to be able to override the\n",
       "     default hidden behavior on the sphinx rendered scikit-learn.org.\n",
       "     See: https://github.com/scikit-learn/scikit-learn/issues/21755 */\n",
       "  display: inline-block !important;\n",
       "  position: relative;\n",
       "}\n",
       "\n",
       "#sk-container-id-1 div.sk-text-repr-fallback {\n",
       "  display: none;\n",
       "}\n",
       "\n",
       "div.sk-parallel-item,\n",
       "div.sk-serial,\n",
       "div.sk-item {\n",
       "  /* draw centered vertical line to link estimators */\n",
       "  background-image: linear-gradient(var(--sklearn-color-text-on-default-background), var(--sklearn-color-text-on-default-background));\n",
       "  background-size: 2px 100%;\n",
       "  background-repeat: no-repeat;\n",
       "  background-position: center center;\n",
       "}\n",
       "\n",
       "/* Parallel-specific style estimator block */\n",
       "\n",
       "#sk-container-id-1 div.sk-parallel-item::after {\n",
       "  content: \"\";\n",
       "  width: 100%;\n",
       "  border-bottom: 2px solid var(--sklearn-color-text-on-default-background);\n",
       "  flex-grow: 1;\n",
       "}\n",
       "\n",
       "#sk-container-id-1 div.sk-parallel {\n",
       "  display: flex;\n",
       "  align-items: stretch;\n",
       "  justify-content: center;\n",
       "  background-color: var(--sklearn-color-background);\n",
       "  position: relative;\n",
       "}\n",
       "\n",
       "#sk-container-id-1 div.sk-parallel-item {\n",
       "  display: flex;\n",
       "  flex-direction: column;\n",
       "}\n",
       "\n",
       "#sk-container-id-1 div.sk-parallel-item:first-child::after {\n",
       "  align-self: flex-end;\n",
       "  width: 50%;\n",
       "}\n",
       "\n",
       "#sk-container-id-1 div.sk-parallel-item:last-child::after {\n",
       "  align-self: flex-start;\n",
       "  width: 50%;\n",
       "}\n",
       "\n",
       "#sk-container-id-1 div.sk-parallel-item:only-child::after {\n",
       "  width: 0;\n",
       "}\n",
       "\n",
       "/* Serial-specific style estimator block */\n",
       "\n",
       "#sk-container-id-1 div.sk-serial {\n",
       "  display: flex;\n",
       "  flex-direction: column;\n",
       "  align-items: center;\n",
       "  background-color: var(--sklearn-color-background);\n",
       "  padding-right: 1em;\n",
       "  padding-left: 1em;\n",
       "}\n",
       "\n",
       "\n",
       "/* Toggleable style: style used for estimator/Pipeline/ColumnTransformer box that is\n",
       "clickable and can be expanded/collapsed.\n",
       "- Pipeline and ColumnTransformer use this feature and define the default style\n",
       "- Estimators will overwrite some part of the style using the `sk-estimator` class\n",
       "*/\n",
       "\n",
       "/* Pipeline and ColumnTransformer style (default) */\n",
       "\n",
       "#sk-container-id-1 div.sk-toggleable {\n",
       "  /* Default theme specific background. It is overwritten whether we have a\n",
       "  specific estimator or a Pipeline/ColumnTransformer */\n",
       "  background-color: var(--sklearn-color-background);\n",
       "}\n",
       "\n",
       "/* Toggleable label */\n",
       "#sk-container-id-1 label.sk-toggleable__label {\n",
       "  cursor: pointer;\n",
       "  display: flex;\n",
       "  width: 100%;\n",
       "  margin-bottom: 0;\n",
       "  padding: 0.5em;\n",
       "  box-sizing: border-box;\n",
       "  text-align: center;\n",
       "  align-items: start;\n",
       "  justify-content: space-between;\n",
       "  gap: 0.5em;\n",
       "}\n",
       "\n",
       "#sk-container-id-1 label.sk-toggleable__label .caption {\n",
       "  font-size: 0.6rem;\n",
       "  font-weight: lighter;\n",
       "  color: var(--sklearn-color-text-muted);\n",
       "}\n",
       "\n",
       "#sk-container-id-1 label.sk-toggleable__label-arrow:before {\n",
       "  /* Arrow on the left of the label */\n",
       "  content: \"▸\";\n",
       "  float: left;\n",
       "  margin-right: 0.25em;\n",
       "  color: var(--sklearn-color-icon);\n",
       "}\n",
       "\n",
       "#sk-container-id-1 label.sk-toggleable__label-arrow:hover:before {\n",
       "  color: var(--sklearn-color-text);\n",
       "}\n",
       "\n",
       "/* Toggleable content - dropdown */\n",
       "\n",
       "#sk-container-id-1 div.sk-toggleable__content {\n",
       "  max-height: 0;\n",
       "  max-width: 0;\n",
       "  overflow: hidden;\n",
       "  text-align: left;\n",
       "  /* unfitted */\n",
       "  background-color: var(--sklearn-color-unfitted-level-0);\n",
       "}\n",
       "\n",
       "#sk-container-id-1 div.sk-toggleable__content.fitted {\n",
       "  /* fitted */\n",
       "  background-color: var(--sklearn-color-fitted-level-0);\n",
       "}\n",
       "\n",
       "#sk-container-id-1 div.sk-toggleable__content pre {\n",
       "  margin: 0.2em;\n",
       "  border-radius: 0.25em;\n",
       "  color: var(--sklearn-color-text);\n",
       "  /* unfitted */\n",
       "  background-color: var(--sklearn-color-unfitted-level-0);\n",
       "}\n",
       "\n",
       "#sk-container-id-1 div.sk-toggleable__content.fitted pre {\n",
       "  /* unfitted */\n",
       "  background-color: var(--sklearn-color-fitted-level-0);\n",
       "}\n",
       "\n",
       "#sk-container-id-1 input.sk-toggleable__control:checked~div.sk-toggleable__content {\n",
       "  /* Expand drop-down */\n",
       "  max-height: 200px;\n",
       "  max-width: 100%;\n",
       "  overflow: auto;\n",
       "}\n",
       "\n",
       "#sk-container-id-1 input.sk-toggleable__control:checked~label.sk-toggleable__label-arrow:before {\n",
       "  content: \"▾\";\n",
       "}\n",
       "\n",
       "/* Pipeline/ColumnTransformer-specific style */\n",
       "\n",
       "#sk-container-id-1 div.sk-label input.sk-toggleable__control:checked~label.sk-toggleable__label {\n",
       "  color: var(--sklearn-color-text);\n",
       "  background-color: var(--sklearn-color-unfitted-level-2);\n",
       "}\n",
       "\n",
       "#sk-container-id-1 div.sk-label.fitted input.sk-toggleable__control:checked~label.sk-toggleable__label {\n",
       "  background-color: var(--sklearn-color-fitted-level-2);\n",
       "}\n",
       "\n",
       "/* Estimator-specific style */\n",
       "\n",
       "/* Colorize estimator box */\n",
       "#sk-container-id-1 div.sk-estimator input.sk-toggleable__control:checked~label.sk-toggleable__label {\n",
       "  /* unfitted */\n",
       "  background-color: var(--sklearn-color-unfitted-level-2);\n",
       "}\n",
       "\n",
       "#sk-container-id-1 div.sk-estimator.fitted input.sk-toggleable__control:checked~label.sk-toggleable__label {\n",
       "  /* fitted */\n",
       "  background-color: var(--sklearn-color-fitted-level-2);\n",
       "}\n",
       "\n",
       "#sk-container-id-1 div.sk-label label.sk-toggleable__label,\n",
       "#sk-container-id-1 div.sk-label label {\n",
       "  /* The background is the default theme color */\n",
       "  color: var(--sklearn-color-text-on-default-background);\n",
       "}\n",
       "\n",
       "/* On hover, darken the color of the background */\n",
       "#sk-container-id-1 div.sk-label:hover label.sk-toggleable__label {\n",
       "  color: var(--sklearn-color-text);\n",
       "  background-color: var(--sklearn-color-unfitted-level-2);\n",
       "}\n",
       "\n",
       "/* Label box, darken color on hover, fitted */\n",
       "#sk-container-id-1 div.sk-label.fitted:hover label.sk-toggleable__label.fitted {\n",
       "  color: var(--sklearn-color-text);\n",
       "  background-color: var(--sklearn-color-fitted-level-2);\n",
       "}\n",
       "\n",
       "/* Estimator label */\n",
       "\n",
       "#sk-container-id-1 div.sk-label label {\n",
       "  font-family: monospace;\n",
       "  font-weight: bold;\n",
       "  display: inline-block;\n",
       "  line-height: 1.2em;\n",
       "}\n",
       "\n",
       "#sk-container-id-1 div.sk-label-container {\n",
       "  text-align: center;\n",
       "}\n",
       "\n",
       "/* Estimator-specific */\n",
       "#sk-container-id-1 div.sk-estimator {\n",
       "  font-family: monospace;\n",
       "  border: 1px dotted var(--sklearn-color-border-box);\n",
       "  border-radius: 0.25em;\n",
       "  box-sizing: border-box;\n",
       "  margin-bottom: 0.5em;\n",
       "  /* unfitted */\n",
       "  background-color: var(--sklearn-color-unfitted-level-0);\n",
       "}\n",
       "\n",
       "#sk-container-id-1 div.sk-estimator.fitted {\n",
       "  /* fitted */\n",
       "  background-color: var(--sklearn-color-fitted-level-0);\n",
       "}\n",
       "\n",
       "/* on hover */\n",
       "#sk-container-id-1 div.sk-estimator:hover {\n",
       "  /* unfitted */\n",
       "  background-color: var(--sklearn-color-unfitted-level-2);\n",
       "}\n",
       "\n",
       "#sk-container-id-1 div.sk-estimator.fitted:hover {\n",
       "  /* fitted */\n",
       "  background-color: var(--sklearn-color-fitted-level-2);\n",
       "}\n",
       "\n",
       "/* Specification for estimator info (e.g. \"i\" and \"?\") */\n",
       "\n",
       "/* Common style for \"i\" and \"?\" */\n",
       "\n",
       ".sk-estimator-doc-link,\n",
       "a:link.sk-estimator-doc-link,\n",
       "a:visited.sk-estimator-doc-link {\n",
       "  float: right;\n",
       "  font-size: smaller;\n",
       "  line-height: 1em;\n",
       "  font-family: monospace;\n",
       "  background-color: var(--sklearn-color-background);\n",
       "  border-radius: 1em;\n",
       "  height: 1em;\n",
       "  width: 1em;\n",
       "  text-decoration: none !important;\n",
       "  margin-left: 0.5em;\n",
       "  text-align: center;\n",
       "  /* unfitted */\n",
       "  border: var(--sklearn-color-unfitted-level-1) 1pt solid;\n",
       "  color: var(--sklearn-color-unfitted-level-1);\n",
       "}\n",
       "\n",
       ".sk-estimator-doc-link.fitted,\n",
       "a:link.sk-estimator-doc-link.fitted,\n",
       "a:visited.sk-estimator-doc-link.fitted {\n",
       "  /* fitted */\n",
       "  border: var(--sklearn-color-fitted-level-1) 1pt solid;\n",
       "  color: var(--sklearn-color-fitted-level-1);\n",
       "}\n",
       "\n",
       "/* On hover */\n",
       "div.sk-estimator:hover .sk-estimator-doc-link:hover,\n",
       ".sk-estimator-doc-link:hover,\n",
       "div.sk-label-container:hover .sk-estimator-doc-link:hover,\n",
       ".sk-estimator-doc-link:hover {\n",
       "  /* unfitted */\n",
       "  background-color: var(--sklearn-color-unfitted-level-3);\n",
       "  color: var(--sklearn-color-background);\n",
       "  text-decoration: none;\n",
       "}\n",
       "\n",
       "div.sk-estimator.fitted:hover .sk-estimator-doc-link.fitted:hover,\n",
       ".sk-estimator-doc-link.fitted:hover,\n",
       "div.sk-label-container:hover .sk-estimator-doc-link.fitted:hover,\n",
       ".sk-estimator-doc-link.fitted:hover {\n",
       "  /* fitted */\n",
       "  background-color: var(--sklearn-color-fitted-level-3);\n",
       "  color: var(--sklearn-color-background);\n",
       "  text-decoration: none;\n",
       "}\n",
       "\n",
       "/* Span, style for the box shown on hovering the info icon */\n",
       ".sk-estimator-doc-link span {\n",
       "  display: none;\n",
       "  z-index: 9999;\n",
       "  position: relative;\n",
       "  font-weight: normal;\n",
       "  right: .2ex;\n",
       "  padding: .5ex;\n",
       "  margin: .5ex;\n",
       "  width: min-content;\n",
       "  min-width: 20ex;\n",
       "  max-width: 50ex;\n",
       "  color: var(--sklearn-color-text);\n",
       "  box-shadow: 2pt 2pt 4pt #999;\n",
       "  /* unfitted */\n",
       "  background: var(--sklearn-color-unfitted-level-0);\n",
       "  border: .5pt solid var(--sklearn-color-unfitted-level-3);\n",
       "}\n",
       "\n",
       ".sk-estimator-doc-link.fitted span {\n",
       "  /* fitted */\n",
       "  background: var(--sklearn-color-fitted-level-0);\n",
       "  border: var(--sklearn-color-fitted-level-3);\n",
       "}\n",
       "\n",
       ".sk-estimator-doc-link:hover span {\n",
       "  display: block;\n",
       "}\n",
       "\n",
       "/* \"?\"-specific style due to the `<a>` HTML tag */\n",
       "\n",
       "#sk-container-id-1 a.estimator_doc_link {\n",
       "  float: right;\n",
       "  font-size: 1rem;\n",
       "  line-height: 1em;\n",
       "  font-family: monospace;\n",
       "  background-color: var(--sklearn-color-background);\n",
       "  border-radius: 1rem;\n",
       "  height: 1rem;\n",
       "  width: 1rem;\n",
       "  text-decoration: none;\n",
       "  /* unfitted */\n",
       "  color: var(--sklearn-color-unfitted-level-1);\n",
       "  border: var(--sklearn-color-unfitted-level-1) 1pt solid;\n",
       "}\n",
       "\n",
       "#sk-container-id-1 a.estimator_doc_link.fitted {\n",
       "  /* fitted */\n",
       "  border: var(--sklearn-color-fitted-level-1) 1pt solid;\n",
       "  color: var(--sklearn-color-fitted-level-1);\n",
       "}\n",
       "\n",
       "/* On hover */\n",
       "#sk-container-id-1 a.estimator_doc_link:hover {\n",
       "  /* unfitted */\n",
       "  background-color: var(--sklearn-color-unfitted-level-3);\n",
       "  color: var(--sklearn-color-background);\n",
       "  text-decoration: none;\n",
       "}\n",
       "\n",
       "#sk-container-id-1 a.estimator_doc_link.fitted:hover {\n",
       "  /* fitted */\n",
       "  background-color: var(--sklearn-color-fitted-level-3);\n",
       "}\n",
       "</style><div id=\"sk-container-id-1\" class=\"sk-top-container\"><div class=\"sk-text-repr-fallback\"><pre>KMeans(n_clusters=2)</pre><b>In a Jupyter environment, please rerun this cell to show the HTML representation or trust the notebook. <br />On GitHub, the HTML representation is unable to render, please try loading this page with nbviewer.org.</b></div><div class=\"sk-container\" hidden><div class=\"sk-item\"><div class=\"sk-estimator fitted sk-toggleable\"><input class=\"sk-toggleable__control sk-hidden--visually\" id=\"sk-estimator-id-1\" type=\"checkbox\" checked><label for=\"sk-estimator-id-1\" class=\"sk-toggleable__label fitted sk-toggleable__label-arrow\"><div><div>KMeans</div></div><div><a class=\"sk-estimator-doc-link fitted\" rel=\"noreferrer\" target=\"_blank\" href=\"https://scikit-learn.org/1.6/modules/generated/sklearn.cluster.KMeans.html\">?<span>Documentation for KMeans</span></a><span class=\"sk-estimator-doc-link fitted\">i<span>Fitted</span></span></div></label><div class=\"sk-toggleable__content fitted\"><pre>KMeans(n_clusters=2)</pre></div> </div></div></div></div>"
      ],
      "text/plain": [
       "KMeans(n_clusters=2)"
      ]
     },
     "execution_count": 7,
     "metadata": {},
     "output_type": "execute_result"
    }
   ],
   "source": [
    "sk_model = KMeans(n_clusters=2)\n",
    "sk_model.fit(x)"
   ]
  },
  {
   "cell_type": "markdown",
   "metadata": {},
   "source": [
    "The expression `sk_model.labels_` accesses the cluster labels assigned to each data point by the `KMeans` model after fitting it to the dataset.\n",
    "\n",
    "### Explanation:\n",
    "\n",
    "1. **Cluster Labels**:\n",
    "   - After the `fit` method is called on the `KMeans` model, the algorithm assigns each data point in the dataset to one of the clusters based on its proximity to the cluster centroids.\n",
    "   - The `labels_` attribute is an array where each element corresponds to a data point in the dataset, and its value indicates the cluster to which that data point belongs. For example, if `labels_[i]` is `0`, it means the `i`-th data point is assigned to cluster 0.\n",
    "\n",
    "2. **Purpose**:\n",
    "   - The `labels_` attribute is useful for analyzing the clustering results. It allows you to:\n",
    "     - Group data points by their assigned clusters.\n",
    "     - Visualize the clusters by coloring data points based on their labels.\n",
    "     - Evaluate the clustering performance using metrics or domain-specific insights.\n",
    "\n",
    "3. **Example Use Case**:\n",
    "   - You can use `sk_model.labels_` to count the number of data points in each cluster, visualize the clusters in a scatter plot, or compare the clustering results to known labels (if available) for validation.\n",
    "\n",
    "### Summary:\n",
    "`sk_model.labels_` provides the cluster assignments for all data points, making it a key output of the K-Means algorithm for further analysis and visualization."
   ]
  },
  {
   "cell_type": "code",
   "execution_count": 8,
   "metadata": {},
   "outputs": [
    {
     "data": {
      "text/plain": [
       "array([1, 1, 1, 1, 1, 1, 1, 1, 1, 1, 1, 1, 1, 1, 1, 1, 1, 1, 1, 1, 1, 1,\n",
       "       1, 1, 1, 1, 1, 1, 1, 1, 1, 1, 1, 1, 1, 1, 1, 1, 1, 1, 1, 1, 1, 1,\n",
       "       1, 1, 1, 1, 1, 1, 0, 0, 0, 0, 0, 0, 0, 1, 0, 0, 0, 0, 0, 0, 0, 0,\n",
       "       0, 0, 0, 0, 0, 0, 0, 0, 0, 0, 0, 0, 0, 0, 0, 0, 0, 0, 0, 0, 0, 0,\n",
       "       0, 0, 0, 0, 0, 1, 0, 0, 0, 0, 1, 0, 0, 0, 0, 0, 0, 0, 0, 0, 0, 0,\n",
       "       0, 0, 0, 0, 0, 0, 0, 0, 0, 0, 0, 0, 0, 0, 0, 0, 0, 0, 0, 0, 0, 0,\n",
       "       0, 0, 0, 0, 0, 0, 0, 0, 0, 0, 0, 0, 0, 0, 0, 0, 0, 0], dtype=int32)"
      ]
     },
     "execution_count": 8,
     "metadata": {},
     "output_type": "execute_result"
    }
   ],
   "source": [
    "sk_model.labels_"
   ]
  },
  {
   "cell_type": "markdown",
   "metadata": {},
   "source": [
    "This code counts the occurrences of each unique cluster label assigned by the `KMeans` model and returns the results as a Pandas Series. It provides a summary of how many data points belong to each cluster.\n",
    "\n",
    "### Step-by-Step Explanation:\n",
    "\n",
    "1. **`pd.Series(sk_model.labels_)`**:\n",
    "   - Converts the `labels_` attribute of the `KMeans` model (an array of cluster assignments) into a Pandas Series. Each element in the Series corresponds to a data point, and its value represents the cluster to which that data point belongs.\n",
    "\n",
    "2. **`.value_counts()`**:\n",
    "   - This method counts the occurrences of each unique value in the Series (i.e., the number of data points assigned to each cluster).\n",
    "   - By default:\n",
    "     - The results are sorted in descending order of frequency.\n",
    "     - The output is a Pandas Series where the index represents the unique cluster labels, and the values represent the counts.\n",
    "\n",
    "### Purpose:\n",
    "This code is useful for understanding the distribution of data points across clusters. For example:\n",
    "- It can reveal whether the clusters are balanced (i.e., have similar numbers of data points) or imbalanced.\n",
    "- It provides insight into the clustering results, which can help evaluate the effectiveness of the clustering algorithm.\n",
    "\n",
    "### Example Output:\n",
    "If the dataset is clustered into two groups and the counts are `[0: 80, 1: 70]`, it means 80 data points were assigned to cluster 0 and 70 to cluster 1.\n",
    "\n",
    "### Summary:\n",
    "This snippet is a quick way to analyze the composition of clusters, making it a valuable tool for interpreting and validating clustering results."
   ]
  },
  {
   "cell_type": "code",
   "execution_count": 9,
   "metadata": {},
   "outputs": [
    {
     "data": {
      "application/vnd.microsoft.datawrangler.viewer.v0+json": {
       "columns": [
        {
         "name": "index",
         "rawType": "int32",
         "type": "integer"
        },
        {
         "name": "count",
         "rawType": "int64",
         "type": "integer"
        }
       ],
       "ref": "7a126f3a-25c4-43d3-ad5f-12f7b01d9e08",
       "rows": [
        [
         "0",
         "97"
        ],
        [
         "1",
         "53"
        ]
       ],
       "shape": {
        "columns": 1,
        "rows": 2
       }
      },
      "text/plain": [
       "0    97\n",
       "1    53\n",
       "Name: count, dtype: int64"
      ]
     },
     "execution_count": 9,
     "metadata": {},
     "output_type": "execute_result"
    }
   ],
   "source": [
    "pd.Series(sk_model.labels_).value_counts()"
   ]
  },
  {
   "cell_type": "markdown",
   "metadata": {},
   "source": [
    "The `sk_model.predict(x)` method is used to assign each data point in the dataset `x` to the closest cluster based on the centroids determined during the fitting process of the `KMeans` model. This method predicts the cluster labels for new or existing data points.\n",
    "\n",
    "### Step-by-Step Explanation:\n",
    "\n",
    "1. **Purpose**:\n",
    "   - The `predict` method determines which cluster each data point in `x` belongs to by calculating the distance between the data point and each cluster centroid. The data point is assigned to the cluster with the nearest centroid.\n",
    "\n",
    "2. **Input**:\n",
    "   - `x`: The dataset for which cluster labels are to be predicted. It must have the same number of features as the dataset used to fit the model.\n",
    "\n",
    "3. **Process**:\n",
    "   - The method uses the centroids (`cluster_centers_`) computed during the fitting process as reference points.\n",
    "   - For each data point in `x`, the Euclidean distance to each centroid is calculated.\n",
    "   - The data point is assigned to the cluster corresponding to the nearest centroid.\n",
    "\n",
    "4. **Output**:\n",
    "   - The method returns an array of cluster labels, where each label corresponds to the index of the closest centroid for a given data point. For example, if the output is `[0, 1, 0]`, it means the first and third data points belong to cluster 0, and the second data point belongs to cluster 1.\n",
    "\n",
    "### Use Case:\n",
    "- This method is particularly useful for predicting cluster memberships for new, unseen data points after the model has been trained.\n",
    "- It can also be used to reassign cluster labels for the original dataset if needed.\n",
    "\n",
    "### Summary:\n",
    "`sk_model.predict(x)` is a key method in the `KMeans` algorithm that assigns cluster labels to data points based on their proximity to the cluster centroids. It is essential for applying the trained model to new data or analyzing the clustering results."
   ]
  },
  {
   "cell_type": "code",
   "execution_count": 10,
   "metadata": {},
   "outputs": [
    {
     "data": {
      "text/plain": [
       "array([1, 1, 1, 1, 1, 1, 1, 1, 1, 1, 1, 1, 1, 1, 1, 1, 1, 1, 1, 1, 1, 1,\n",
       "       1, 1, 1, 1, 1, 1, 1, 1, 1, 1, 1, 1, 1, 1, 1, 1, 1, 1, 1, 1, 1, 1,\n",
       "       1, 1, 1, 1, 1, 1, 0, 0, 0, 0, 0, 0, 0, 1, 0, 0, 0, 0, 0, 0, 0, 0,\n",
       "       0, 0, 0, 0, 0, 0, 0, 0, 0, 0, 0, 0, 0, 0, 0, 0, 0, 0, 0, 0, 0, 0,\n",
       "       0, 0, 0, 0, 0, 1, 0, 0, 0, 0, 1, 0, 0, 0, 0, 0, 0, 0, 0, 0, 0, 0,\n",
       "       0, 0, 0, 0, 0, 0, 0, 0, 0, 0, 0, 0, 0, 0, 0, 0, 0, 0, 0, 0, 0, 0,\n",
       "       0, 0, 0, 0, 0, 0, 0, 0, 0, 0, 0, 0, 0, 0, 0, 0, 0, 0], dtype=int32)"
      ]
     },
     "execution_count": 10,
     "metadata": {},
     "output_type": "execute_result"
    }
   ],
   "source": [
    "sk_model.predict(x)"
   ]
  },
  {
   "cell_type": "markdown",
   "metadata": {},
   "source": [
    "This code snippet uses Matplotlib to visualize the results of a clustering algorithm, specifically the K-Means clustering performed earlier. It creates a scatter plot to display the data points, their cluster assignments, and the cluster centroids.\n",
    "\n",
    "### Step-by-Step Explanation:\n",
    "\n",
    "1. **Plotting Data Points**:\n",
    "   - `plt.scatter(x.iloc[:, 0], x.iloc[:, 1], c=sk_model.labels_)`:\n",
    "     - This plots the data points from the dataset `x` using the first feature (`x.iloc[:, 0]`) on the x-axis and the second feature (`x.iloc[:, 1]`) on the y-axis.\n",
    "     - The `c=sk_model.labels_` parameter assigns a color to each data point based on its cluster label, which is determined by the `KMeans` model. This visually distinguishes the clusters, as each cluster is represented by a unique color.\n",
    "\n",
    "2. **Plotting Cluster Centroids**:\n",
    "   - `plt.scatter(sk_model.cluster_centers_[:, 0], sk_model.cluster_centers_[:, 1], c='red')`:\n",
    "     - This plots the centroids of the clusters using the coordinates stored in `sk_model.cluster_centers_`.\n",
    "     - The first column (`[:, 0]`) represents the x-coordinates, and the second column (`[:, 1]`) represents the y-coordinates of the centroids.\n",
    "     - The `c='red'` parameter ensures that the centroids are displayed in red, making them easily distinguishable from the data points.\n",
    "\n",
    "3. **Displaying the Plot**:\n",
    "   - `plt.show()`:\n",
    "     - This renders and displays the scatter plot. In Jupyter notebooks, this step is often optional because plots are automatically displayed at the end of a cell. However, explicitly calling `plt.show()` ensures that the plot is displayed in other environments, such as standalone Python scripts.\n",
    "\n",
    "### Purpose:\n",
    "This visualization is particularly useful for understanding the results of the K-Means clustering algorithm. It shows:\n",
    "- How the data points are grouped into clusters based on their proximity to the centroids.\n",
    "- The location of the centroids, which represent the \"center\" of each cluster.\n",
    "\n",
    "By combining the data points and centroids in a single plot, this code provides an intuitive way to evaluate the clustering results and identify patterns or separations in the data."
   ]
  },
  {
   "cell_type": "code",
   "execution_count": 11,
   "metadata": {},
   "outputs": [
    {
     "data": {
      "image/png": "[encoded data removed]",
      "text/plain": [
       "<Figure size 640x480 with 1 Axes>"
      ]
     },
     "metadata": {},
     "output_type": "display_data"
    }
   ],
   "source": [
    "plt.scatter(x.iloc[:, 0], x.iloc[:, 1], c=sk_model.labels_)\n",
    "plt.scatter(sk_model.cluster_centers_[:, 0], sk_model.cluster_centers_[:, 1], c='red')\n",
    "plt.show()"
   ]
  },
  {
   "cell_type": "markdown",
   "metadata": {},
   "source": [
    "## Model selection\n",
    "\n",
    "The finer the granularity the better the fit, but the clustering is less meaningful. In many cases, domain knowledge can guide us to choose a meaningful value for _k_, but if this is not the case we need to figure out what a sensible _k_ looks like for our data set.\n",
    "### Elbow method (scree plot)\n",
    "\n",
    "Visually assess the optimal _k_. Simple to implement but somewhat subjective method.\n",
    "\n",
    "This code snippet evaluates the performance of the K-Means clustering algorithm for different numbers of clusters (`n_clusters`) and stores the results in the `scores` list. It is often used to determine the optimal number of clusters for a dataset, typically as part of the \"elbow method.\"\n",
    "\n",
    "### Step-by-Step Explanation:\n",
    "\n",
    "1. **Initialization**:\n",
    "   - `n = 10`: Specifies the maximum number of clusters to evaluate. The loop will test cluster counts from 1 to 9.\n",
    "   - `scores = []`: Initializes an empty list to store the scores (negative inertia values) for each value of `n_clusters`.\n",
    "\n",
    "2. **Iterating Over Cluster Counts**:\n",
    "   - `for i in range(1, n)`: Iterates through integers from 1 to 9, representing the number of clusters (`n_clusters`) to test.\n",
    "\n",
    "3. **Creating and Fitting the K-Means Model**:\n",
    "   - `sk_model = KMeans(n_clusters=i)`: Creates a new instance of the `KMeans` class with `i` clusters.\n",
    "   - `sk_model.fit(x)`: Fits the K-Means model to the dataset `x`. During this process:\n",
    "     - The algorithm partitions the data into `i` clusters.\n",
    "     - It iteratively adjusts the cluster centroids and assigns data points to the nearest centroid until convergence.\n",
    "\n",
    "4. **Scoring the Model**:\n",
    "   - `sk_model.score(x)`: Computes the negative inertia of the fitted model. Inertia is the sum of squared distances between data points and their closest cluster centroid. A lower inertia indicates tighter clusters.\n",
    "   - The negative inertia is appended to the `scores` list using `scores.append(sk_model.score(x))`.\n",
    "\n",
    "5. **Purpose**:\n",
    "   - The `scores` list will contain the negative inertia values for each number of clusters. These scores can be plotted against the number of clusters to visualize the \"elbow method.\"\n",
    "   - The \"elbow\" in the plot indicates the optimal number of clusters, where adding more clusters provides diminishing returns in reducing inertia.\n",
    "\n",
    "### Summary:\n",
    "This code systematically evaluates the clustering performance of K-Means for different numbers of clusters. It is a key step in determining the appropriate number of clusters for a dataset, balancing model complexity and clustering quality."
   ]
  },
  {
   "cell_type": "code",
   "execution_count": 12,
   "metadata": {},
   "outputs": [],
   "source": [
    "n = 10\n",
    "scores = []\n",
    "for i in range(1, n):\n",
    "    sk_model = KMeans(n_clusters=i)\n",
    "    sk_model.fit(x)\n",
    "    scores.append(sk_model.score(x))"
   ]
  },
  {
   "cell_type": "markdown",
   "metadata": {},
   "source": [
    "This code snippet uses Matplotlib to visualize the results of evaluating the K-Means clustering algorithm for different numbers of clusters. It generates a combined scatter plot and line plot to display the relationship between the number of clusters (`k`) and the corresponding scores (negative inertia values).\n",
    "\n",
    "### Step-by-Step Explanation:\n",
    "\n",
    "1. **Scatter Plot**:\n",
    "   - `plt.scatter(range(1, n), scores)`:\n",
    "     - This creates a scatter plot where the x-axis represents the number of clusters (`k`), ranging from 1 to `n-1`, and the y-axis represents the corresponding scores stored in the `scores` list.\n",
    "     - The `range(1, n)` function generates a sequence of integers from 1 to `n-1`, which are used as the x-coordinates for the scatter plot.\n",
    "     - The `scores` list contains the negative inertia values computed for each number of clusters during the K-Means evaluation.\n",
    "\n",
    "2. **Line Plot**:\n",
    "   - `plt.plot(range(1, n), scores)`:\n",
    "     - This overlays a line plot on top of the scatter plot, connecting the points to provide a clearer visualization of the trend in the scores as the number of clusters increases.\n",
    "\n",
    "3. **Axis Labels**:\n",
    "   - `plt.xlabel('Number of clusters (k)')`:\n",
    "     - Sets the label for the x-axis to indicate that it represents the number of clusters.\n",
    "   - `plt.ylabel('Score')`:\n",
    "     - Sets the label for the y-axis to indicate that it represents the scores (negative inertia values).\n",
    "\n",
    "4. **Displaying the Plot**:\n",
    "   - `plt.show()`:\n",
    "     - Renders and displays the combined scatter and line plot. In Jupyter notebooks, this step ensures the plot is explicitly shown.\n",
    "\n",
    "### Purpose:\n",
    "This visualization is typically used as part of the \"elbow method\" to determine the optimal number of clusters for K-Means. The \"elbow\" in the plot is the point where the score improvement slows down significantly as the number of clusters increases. This point represents a balance between model complexity and clustering quality, helping to select a meaningful value for `k`.\n",
    "\n",
    "By combining the scatter and line plots, this code provides an intuitive way to analyze the clustering performance and identify the optimal number of clusters."
   ]
  },
  {
   "cell_type": "code",
   "execution_count": 13,
   "metadata": {},
   "outputs": [
    {
     "data": {
      "image/png": "[encoded data removed]",
      "text/plain": [
       "<Figure size 640x480 with 1 Axes>"
      ]
     },
     "metadata": {},
     "output_type": "display_data"
    }
   ],
   "source": [
    "plt.scatter(range(1, n), scores)\n",
    "plt.plot(range(1, n), scores)\n",
    "plt.xlabel('Number of clusters (k)')\n",
    "plt.ylabel('Score')\n",
    "plt.show()"
   ]
  },
  {
   "cell_type": "markdown",
   "metadata": {},
   "source": [
    "### Information criteria\n",
    "\n",
    "Objective methods to assign a numerical score to every _k_. It balances the tradeoff between model fit and complexity.\n",
    "#### Calinski-Harabasz (CH) index\n",
    "A good (high) CH index:\n",
    "- Maximizes intercluster distances\n",
    "- Minimizes intracluster variances\n",
    "- Minimizes the number of clusters\n",
    "This code snippet evaluates the clustering performance of the K-Means algorithm for different numbers of clusters using the **Calinski-Harabasz (CH) index**. The CH index is a metric that assesses the quality of clustering by comparing the ratio of between-cluster dispersion to within-cluster dispersion. A higher CH score indicates better-defined and more compact clusters.\n",
    "\n",
    "### Step-by-Step Explanation:\n",
    "\n",
    "1. **Initialization**:\n",
    "   - `n = 10`: Specifies the maximum number of clusters to evaluate. The loop will test cluster counts from 2 to 9.\n",
    "   - `ch_scores = []`: Initializes an empty list to store the CH scores for each number of clusters.\n",
    "\n",
    "2. **Iterating Over Cluster Counts**:\n",
    "   - `for i in range(2, n)`: Iterates through integers from 2 to 9, representing the number of clusters (`n_clusters`) to test. The loop starts at 2 because the CH index cannot be computed for a single cluster.\n",
    "\n",
    "3. **Creating and Fitting the K-Means Model**:\n",
    "   - `sk_model = KMeans(n_clusters=i)`: Creates a new instance of the `KMeans` class with `i` clusters.\n",
    "   - `sk_model.fit(x)`: Fits the K-Means model to the dataset `x`. During this process:\n",
    "     - The algorithm partitions the data into `i` clusters.\n",
    "     - It iteratively adjusts the cluster centroids and assigns data points to the nearest centroid until convergence.\n",
    "\n",
    "4. **Calculating the CH Index**:\n",
    "   - `calinski_harabasz_score(x, sk_model.labels_)`: Computes the CH index for the clustering results. This function takes the dataset `x` and the cluster labels (`sk_model.labels_`) as inputs and calculates the ratio of between-cluster variance to within-cluster variance.\n",
    "   - The resulting CH score is appended to the `ch_scores` list using `ch_scores.append(ch)`.\n",
    "\n",
    "5. **Purpose**:\n",
    "   - The `ch_scores` list will contain the CH index values for each number of clusters. These scores can be plotted against the number of clusters to identify the optimal number of clusters.\n",
    "   - A higher CH score indicates better clustering, as it reflects well-separated clusters with minimal internal variance.\n",
    "\n",
    "### Summary:\n",
    "This code systematically evaluates the clustering quality of K-Means for different numbers of clusters using the Calinski-Harabasz index. It is a key step in determining the appropriate number of clusters for a dataset, providing an objective metric to balance model complexity and clustering quality."
   ]
  },
  {
   "cell_type": "code",
   "execution_count": 14,
   "metadata": {},
   "outputs": [],
   "source": [
    "n         = 10\n",
    "ch_scores = []\n",
    "for i in range(2, n):\n",
    "    sk_model = KMeans(n_clusters=i)\n",
    "    sk_model.fit(x)\n",
    "    ch = calinski_harabasz_score(x, sk_model.labels_)\n",
    "    ch_scores.append(ch)"
   ]
  },
  {
   "cell_type": "markdown",
   "metadata": {},
   "source": [
    "This code snippet uses Matplotlib to visualize the results of evaluating the K-Means clustering algorithm for different numbers of clusters using the **Calinski-Harabasz (CH) index**. It generates a combined scatter plot and line plot to display the relationship between the number of clusters (`k`) and the corresponding CH index scores.\n",
    "\n",
    "### Step-by-Step Explanation:\n",
    "\n",
    "1. **Scatter Plot**:\n",
    "   - `plt.scatter(range(2, n), ch_scores)`:\n",
    "     - This creates a scatter plot where the x-axis represents the number of clusters (`k`), ranging from 2 to `n-1`, and the y-axis represents the corresponding CH index scores stored in the `ch_scores` list.\n",
    "     - The `range(2, n)` function generates a sequence of integers starting from 2 up to (but not including) `n`, which are used as the x-coordinates for the scatter plot.\n",
    "     - The `ch_scores` list contains the CH index values computed for each number of clusters during the K-Means evaluation.\n",
    "\n",
    "2. **Line Plot**:\n",
    "   - `plt.plot(range(2, n), ch_scores)`:\n",
    "     - This overlays a line plot on top of the scatter plot, connecting the points to provide a clearer visualization of the trend in the CH index scores as the number of clusters increases.\n",
    "\n",
    "3. **Axis Labels**:\n",
    "   - `plt.xlabel('Number of clusters (k)')`:\n",
    "     - Sets the label for the x-axis to indicate that it represents the number of clusters.\n",
    "   - `plt.ylabel('CH index')`:\n",
    "     - Sets the label for the y-axis to indicate that it represents the CH index scores.\n",
    "\n",
    "4. **Displaying the Plot**:\n",
    "   - `plt.show()`:\n",
    "     - Renders and displays the combined scatter and line plot. In Jupyter notebooks, this step ensures the plot is explicitly shown.\n",
    "\n",
    "### Purpose:\n",
    "This visualization is used to analyze the clustering quality for different numbers of clusters. The CH index measures the ratio of between-cluster dispersion to within-cluster dispersion, with higher values indicating better-defined clusters. By plotting the CH index against the number of clusters, the user can identify the optimal number of clusters where the CH index is maximized. This provides an objective method for selecting the appropriate number of clusters for the dataset."
   ]
  },
  {
   "cell_type": "code",
   "execution_count": 15,
   "metadata": {},
   "outputs": [
    {
     "data": {
      "image/png": "[encoded data removed]",
      "text/plain": [
       "<Figure size 640x480 with 1 Axes>"
      ]
     },
     "metadata": {},
     "output_type": "display_data"
    }
   ],
   "source": [
    "plt.scatter(range(2, n), ch_scores)\n",
    "plt.plot(range(2, n), ch_scores)\n",
    "plt.xlabel('Number of clusters (k)')\n",
    "plt.ylabel('CH index')\n",
    "plt.show()"
   ]
  },
  {
   "cell_type": "markdown",
   "metadata": {},
   "source": [
    "## Clustering != Classification\n",
    "They both work on categorical data, but they are two essentially different problems."
   ]
  },
  {
   "cell_type": "markdown",
   "metadata": {},
   "source": [
    "This code snippet uses Matplotlib to create a scatter plot that visualizes the distribution of three classes of data points in a dataset. Each class is represented by a unique color, and a legend is added to label the classes.\n",
    "\n",
    "### Step-by-Step Explanation:\n",
    "\n",
    "1. **Scatter Plot for Each Class**:\n",
    "   - `plt.scatter(x.iloc[:, 0][y == 0], x.iloc[:, 1][y == 0])`:\n",
    "     - This plots the data points belonging to the first class (e.g., \"setosa\").\n",
    "     - `x.iloc[:, 0]`: Selects the first feature (e.g., sepal length) to be plotted on the x-axis.\n",
    "     - `x.iloc[:, 1]`: Selects the second feature (e.g., sepal width) to be plotted on the y-axis.\n",
    "     - `[y == 0]`: Filters the rows of `x` where the target label `y` equals 0, ensuring only the data points for the first class are plotted.\n",
    "\n",
    "   - Similarly, the second and third `plt.scatter` calls plot the data points for the second class (`y == 1`, e.g., \"virginica\") and the third class (`y == 2`, e.g., \"versicolor\"), using the same features for the x- and y-axes.\n",
    "\n",
    "2. **Adding a Legend**:\n",
    "   - `plt.legend(['setosa', 'virginica', 'versicolor'])`:\n",
    "     - Adds a legend to the plot to label the three classes. Each label corresponds to the order in which the `plt.scatter` functions were called.\n",
    "\n",
    "3. **Displaying the Plot**:\n",
    "   - `plt.show()`:\n",
    "     - Renders and displays the scatter plot. In Jupyter notebooks, this step ensures the plot is explicitly shown.\n",
    "\n",
    "### Purpose:\n",
    "This visualization is particularly useful for exploring the separability of the three classes in the dataset based on the two selected features. For example, in the Iris dataset, this plot might reveal how well the species (*setosa*, *virginica*, and *versicolor*) can be distinguished based on sepal length and width. By color-coding the points and adding a legend, the plot makes it easy to interpret the clustering or classification of the data."
   ]
  },
  {
   "cell_type": "code",
   "execution_count": 16,
   "metadata": {},
   "outputs": [
    {
     "data": {
      "image/png": "[encoded data removed]",
      "text/plain": [
       "<Figure size 640x480 with 1 Axes>"
      ]
     },
     "metadata": {},
     "output_type": "display_data"
    }
   ],
   "source": [
    "plt.scatter(x.iloc[:, 0][y == 0], x.iloc[:, 1][y == 0])\n",
    "plt.scatter(x.iloc[:, 0][y == 1], x.iloc[:, 1][y == 1])\n",
    "plt.scatter(x.iloc[:, 0][y == 2], x.iloc[:, 1][y == 2])\n",
    "plt.legend(['setosa', 'virginica', 'versicolor'])\n",
    "plt.show()"
   ]
  },
  {
   "cell_type": "markdown",
   "metadata": {},
   "source": [
    "This code snippet uses Matplotlib to create a scatter plot that visualizes two groups of data points based on a binary condition applied to the target variable `y`. The groups are labeled as \"cheap\" and \"expensive\" in the legend, and the plot is displayed to help analyze the separation between these two categories.\n",
    "\n",
    "### Step-by-Step Explanation:\n",
    "\n",
    "1. **First Scatter Plot**:\n",
    "   - `plt.scatter(x.iloc[:, 0][y != 2], x.iloc[:, 1][y != 2])`:\n",
    "     - This plots the data points where the condition `y != 2` is true, meaning the points that do not belong to the category labeled as \"expensive.\"\n",
    "     - `x.iloc[:, 0]`: Selects the first feature (e.g., a numerical attribute) to be plotted on the x-axis.\n",
    "     - `x.iloc[:, 1]`: Selects the second feature to be plotted on the y-axis.\n",
    "     - The resulting points represent the \"cheap\" category.\n",
    "\n",
    "2. **Second Scatter Plot**:\n",
    "   - `plt.scatter(x.iloc[:, 0][y == 2], x.iloc[:, 1][y == 2])`:\n",
    "     - This plots the data points where the condition `y == 2` is true, meaning the points that belong to the \"expensive\" category.\n",
    "     - The same features (`x.iloc[:, 0]` and `x.iloc[:, 1]`) are used for the x- and y-axes, ensuring both groups are plotted in the same coordinate space.\n",
    "\n",
    "3. **Adding a Legend**:\n",
    "   - `plt.legend(['cheap', 'expensive'])`:\n",
    "     - Adds a legend to the plot to label the two groups. The first label corresponds to the first scatter plot (`y != 2`), and the second label corresponds to the second scatter plot (`y == 2`).\n",
    "\n",
    "4. **Displaying the Plot**:\n",
    "   - `plt.show()`:\n",
    "     - Renders and displays the scatter plot. In Jupyter notebooks, this step ensures the plot is explicitly shown, though it may be optional depending on the environment.\n",
    "\n",
    "### Purpose:\n",
    "This visualization is useful for exploring the relationship between two features of the dataset and how they differentiate between the \"cheap\" and \"expensive\" categories. By plotting the two groups in the same space, the user can assess whether the categories are well-separated or overlapping, which can provide insights into the dataset's structure and the potential effectiveness of classification or clustering algorithms."
   ]
  },
  {
   "cell_type": "code",
   "execution_count": 17,
   "metadata": {},
   "outputs": [
    {
     "data": {
      "image/png": "[encoded data removed]",
      "text/plain": [
       "<Figure size 640x480 with 1 Axes>"
      ]
     },
     "metadata": {},
     "output_type": "display_data"
    }
   ],
   "source": [
    "plt.scatter(x.iloc[:, 0][y != 2], x.iloc[:, 1][y != 2])\n",
    "plt.scatter(x.iloc[:, 0][y == 2], x.iloc[:, 1][y == 2])\n",
    "plt.legend(['cheap', 'expensive'])\n",
    "plt.show()"
   ]
  },
  {
   "cell_type": "markdown",
   "metadata": {},
   "source": [
    "In this case, a 2-group clustering would likely give us the setosa-vs-rest partition, but we are interested in the versicolor-vs-rest classification."
   ]
  },
  {
   "cell_type": "markdown",
   "metadata": {},
   "source": [
    "## Hierarchical clustering\n",
    "This code snippet uses Seaborn's `clustermap` function to create a hierarchically clustered heatmap of the dataset `x` and then displays the plot using Matplotlib's `plt.show()`.\n",
    "\n",
    "### Step-by-Step Explanation:\n",
    "\n",
    "1. **`sns.clustermap(x)`**:\n",
    "   - The `clustermap` function generates a heatmap where rows and columns are reordered based on hierarchical clustering. \n",
    "   - The input `x` is expected to be a 2D array-like structure, such as a Pandas DataFrame or NumPy array, containing numerical data. Each cell in the heatmap represents a value from `x`, color-coded for visual interpretation.\n",
    "   - By default:\n",
    "     - Rows and columns are clustered using the \"average\" linkage method and the \"euclidean\" distance metric.\n",
    "     - Dendrograms are displayed alongside the heatmap to show the hierarchical clustering structure.\n",
    "   - This visualization helps identify patterns, groupings, or relationships in the data by clustering similar rows and columns together.\n",
    "\n",
    "2. **`plt.show()`**:\n",
    "   - This command renders and displays the clustered heatmap. In Jupyter notebooks, this step is often optional because plots are automatically displayed at the end of a cell. However, explicitly calling `plt.show()` ensures the plot is displayed in other environments, such as standalone Python scripts.\n",
    "\n",
    "### Purpose:\n",
    "The `clustermap` is particularly useful for exploring relationships in high-dimensional data. It allows you to:\n",
    "- Identify clusters of similar rows or columns.\n",
    "- Visualize patterns or correlations in the data.\n",
    "- Gain insights into the structure of the dataset.\n",
    "\n",
    "For example, in a dataset of gene expression levels, rows might represent genes, and columns might represent samples. The `clustermap` could reveal groups of genes with similar expression patterns or clusters of samples with similar profiles."
   ]
  },
  {
   "cell_type": "code",
   "execution_count": 18,
   "metadata": {},
   "outputs": [
    {
     "data": {
      "image/png": "[encoded data removed]",
      "text/plain": [
       "<Figure size 1000x1000 with 4 Axes>"
      ]
     },
     "metadata": {},
     "output_type": "display_data"
    }
   ],
   "source": [
    "sns.clustermap(x)\n",
    "plt.show()"
   ]
  },
  {
   "cell_type": "markdown",
   "metadata": {},
   "source": [
    "This code snippet performs data standardization followed by hierarchical clustering visualization using a heatmap. It is particularly useful for analyzing patterns and relationships in datasets with features on different scales.\n",
    "\n",
    "### Step-by-Step Explanation:\n",
    "\n",
    "1. **Standardizing the Data**:\n",
    "   - `StandardScaler().fit_transform(x)`:\n",
    "     - The `StandardScaler` from `sklearn.preprocessing` is used to standardize the dataset `x`.\n",
    "     - Standardization ensures that each feature has a mean of 0 and a standard deviation of 1. This is achieved using the formula:\n",
    "       ```\n",
    "       z = (x - mean) / std\n",
    "       ```\n",
    "     - This step is crucial for clustering algorithms, as features with larger scales can dominate the distance calculations, leading to biased results.\n",
    "     - The `fit_transform` method computes the mean and standard deviation of each feature in `x` and then applies the transformation.\n",
    "\n",
    "2. **Converting to a DataFrame**:\n",
    "   - `pd.DataFrame(scaled_x, columns=x.columns)`:\n",
    "     - The standardized data (`scaled_x`) is converted back into a Pandas DataFrame for easier handling and to retain the original column names from `x`.\n",
    "     - This ensures that the standardized data can be interpreted in the context of the original features.\n",
    "\n",
    "3. **Hierarchical Clustering and Heatmap**:\n",
    "   - `sns.clustermap(scaled_x)`:\n",
    "     - The `clustermap` function from Seaborn creates a heatmap of the standardized data, with rows and columns reordered based on hierarchical clustering.\n",
    "     - By default:\n",
    "       - Rows and columns are clustered using the \"average\" linkage method and the \"euclidean\" distance metric.\n",
    "       - Dendrograms are displayed alongside the heatmap to visualize the hierarchical clustering structure.\n",
    "     - Each cell in the heatmap represents a standardized value, color-coded for visual interpretation.\n",
    "\n",
    "4. **Displaying the Plot**:\n",
    "   - `plt.show()`:\n",
    "     - This renders and displays the clustered heatmap. In Jupyter notebooks, this step ensures the plot is explicitly shown.\n",
    "\n",
    "### Purpose:\n",
    "This code is designed to explore patterns and relationships in the dataset. Standardizing the data ensures that all features contribute equally to the clustering process, while the hierarchical clustering heatmap provides insights into groupings or similarities among rows and columns. This visualization is particularly useful in fields like bioinformatics (e.g., gene expression analysis) or any domain where understanding feature relationships is critical."
   ]
  },
  {
   "cell_type": "code",
   "execution_count": 19,
   "metadata": {},
   "outputs": [
    {
     "data": {
      "image/png": "[encoded data removed]",
      "text/plain": [
       "<Figure size 1000x1000 with 4 Axes>"
      ]
     },
     "metadata": {},
     "output_type": "display_data"
    }
   ],
   "source": [
    "scaled_x = StandardScaler().fit_transform(x)\n",
    "scaled_x = pd.DataFrame(scaled_x, columns=x.columns)\n",
    "sns.clustermap(scaled_x)\n",
    "plt.show()"
   ]
  },
  {
   "cell_type": "markdown",
   "metadata": {},
   "source": [
    "## A note on the continuous case: Mixture Models\n",
    "\n",
    "We can use other models that assume a particular distribution.\n",
    "\n",
    "Most commonly, we model the distribution of data points as a **mixture of Gaussian distributions**, in what is called a **Gaussian Mixture Model** (GMM). However, the distribution is better chosen according to the data, _e.g._ a Beta or Dirichlet distribution to model probabilities.\n",
    "\n",
    "Mixture Models will give us, instead of a single cluster label per data point, its probability of belonging to each cluster (although we can convert those to cluster labels by selecting the cluster with highest probability).\n",
    "\n",
    "### Model selection\n",
    "\n",
    "The most common information criteria, the **Akaike Information Criterion** (AIC) and **Bayesian Information Criterion** (BIC) need those probabilities instead of just cluster labels, so they can't be directly used with K-means."
   ]
  }
 ],
 "metadata": {
  "kernelspec": {
   "display_name": "dev1",
   "language": "python",
   "name": "python3"
  },
  "language_info": {
   "codemirror_mode": {
    "name": "ipython",
    "version": 3
   },
   "file_extension": ".py",
   "mimetype": "text/x-python",
   "name": "python",
   "nbconvert_exporter": "python",
   "pygments_lexer": "ipython3",
   "version": "3.13.3"
  }
 },
 "nbformat": 4,
 "nbformat_minor": 4
}
