{
 "cells": [
  {
   "cell_type": "markdown",
   "metadata": {},
   "source": [
    "<img src=images/MIT_logo.jpg width=150 align=right />"
   ]
  },
  {
   "cell_type": "markdown",
   "metadata": {},
   "source": [
    "# PROFESSIONAL CERTIFICATE IN DATA SCIENCE AND ANALYTICS\n",
    "# Logistic Regression\n",
    "\n",
    "This code snippet imports a set of essential Python libraries and modules commonly used for data analysis, visualization, and machine learning, specifically for logistic regression tasks.\n",
    "\n",
    "- `import numpy as np`: Imports NumPy, a fundamental library for numerical computing in Python, often used for array operations and mathematical functions.\n",
    "- `import pandas as pd`: Imports Pandas, a powerful library for data manipulation and analysis, providing DataFrame and Series data structures.\n",
    "- `from matplotlib import pyplot as plt`: Imports the `pyplot` module from Matplotlib, which is used for creating static, interactive, and animated visualizations in Python.\n",
    "- `from sklearn.linear_model import LogisticRegression`: Imports the `LogisticRegression` class from Scikit-learn, which is used to perform logistic regression modeling for classification tasks.\n",
    "- `import statsmodels.formula.api as smf`: Imports the formula API from Statsmodels, which allows for specifying statistical models using R-style formulas, including logistic regression.\n",
    "- `from sklearn.metrics import confusion_matrix`: Imports the `confusion_matrix` function from Scikit-learn, which is used to evaluate the performance of classification models by comparing predicted and actual labels.\n",
    "- `from sklearn.model_selection import train_test_split`: Imports the `train_test_split` function, which is used to split datasets into training and testing subsets for model evaluation.\n",
    "- `from sklearn.metrics import ConfusionMatrixDisplay`: Imports the `ConfusionMatrixDisplay` class, which provides a convenient way to visualize confusion matrices.\n",
    "\n",
    "Together, these imports set up the environment for performing logistic regression analysis, evaluating model performance, and visualizing results in a typical data science workflow."
   ]
  },
  {
   "cell_type": "code",
   "execution_count": 1,
   "metadata": {},
   "outputs": [],
   "source": [
    "import numpy                                             as np  # type: ignore\n",
    "import pandas                                            as pd  # type: ignore\n",
    "from   matplotlib              import pyplot             as plt # type: ignore\n",
    "from   sklearn.linear_model    import LogisticRegression        # type: ignore\n",
    "import statsmodels.formula.api                           as smf # type: ignore\n",
    "from   sklearn.metrics         import confusion_matrix          # type: ignore\n",
    "from   sklearn.model_selection import train_test_split          # type: ignore\n",
    "from   sklearn.metrics         import ConfusionMatrixDisplay    # type: ignore"
   ]
  },
  {
   "cell_type": "markdown",
   "metadata": {},
   "source": [
    "## The sigmoid function\n",
    "The so called [logit](https://en.wikipedia.org/wiki/Logit) function is the inverse of the [sigmoid](https://en.wikipedia.org/wiki/Sigmoid_function) function, which is a special case of the [logistic](https://en.wikipedia.org/wiki/Logistic_function) function. It is very common to see these terms being used interchangeably.\n",
    "\n",
    "$$\n",
    "f(x) = \\frac{e^x}{1+e^x} = \\frac{1}{1+e^{-x}}\n",
    "$$\n",
    "\n",
    "This code defines the sigmoid function, which is a fundamental mathematical function used in logistic regression and many other areas of machine learning and statistics. The sigmoid function takes a real-valued input `x` and transforms it into a value between 0 and 1. \n",
    "\n",
    "Mathematically, the function is defined as $$(sigma(x) = \\frac{1}{1 + e^{-x}})$$\\\n",
    " In the code, `np.exp(-x)` computes the exponential of `-x` using NumPy, and the result is used in the denominator. The output of the sigmoid function can be interpreted as a probability, making it especially useful for binary classification tasks, where the goal is to predict the likelihood that an input belongs to a particular class. \n",
    "\n",
    "The sigmoid function is also known for its characteristic \"S\"-shaped curve, which smoothly maps any input value to the (0, 1) interval. This property makes it ideal for modeling probabilities in logistic regression."
   ]
  },
  {
   "cell_type": "code",
   "execution_count": 2,
   "metadata": {},
   "outputs": [],
   "source": [
    "def sigmoid(x):\n",
    "    return 1 / (1 + np.exp(-x))"
   ]
  },
  {
   "cell_type": "markdown",
   "metadata": {},
   "source": [
    "This line of code prints the result of applying the `sigmoid` function to the input value `0`. \\\n",
    "The `sigmoid` function, defined as $$(sigma(x) = \\frac{1}{1 + e^{-x}})$$ maps any real number to a value between 0 and 1. When the input is `0`, the calculation becomes $$(\\frac{1}{1 + e^{0}} = \\frac{1}{2} = 0.5)$$ \\\n",
    "Therefore, this statement will output `0.5` to the console. This demonstrates that the sigmoid function is centered at 0.5 when the input is zero, which is a useful property in logistic regression for interpreting probabilities."
   ]
  },
  {
   "cell_type": "code",
   "execution_count": 3,
   "metadata": {},
   "outputs": [
    {
     "name": "stdout",
     "output_type": "stream",
     "text": [
      "0.5\n"
     ]
    }
   ],
   "source": [
    "print(sigmoid(0))"
   ]
  },
  {
   "cell_type": "markdown",
   "metadata": {},
   "source": [
    "This code snippet visualizes the sigmoid function, which is fundamental in logistic regression and many machine learning applications.\n",
    "\n",
    "1. `x = np.arange(-10., 10., 0.2)` creates an array of values from -10 to just under 10, spaced by 0.2. These values serve as the input range for the sigmoid function.\n",
    "2. `y = sigmoid(x)` applies the sigmoid function to each value in `x`, producing an array of outputs between 0 and 1. The sigmoid function smoothly maps any real number to this interval, resulting in an \"S\"-shaped curve.\n",
    "3. `plt.plot(x, y)` generates a line plot of the input values (`x`) against their corresponding sigmoid outputs (`y`).\n",
    "4. `plt.title('Sigmoid function')` adds a title to the plot for clarity.\n",
    "5. `plt.show()` displays the plot.\n",
    "\n",
    "The resulting graph illustrates how the sigmoid function transforms input values: for large negative inputs, the output approaches 0; for large positive inputs, it approaches 1; and at 0, the output is exactly 0.5. This visualization helps to understand why the sigmoid is used to model probabilities in logistic regression."
   ]
  },
  {
   "cell_type": "code",
   "execution_count": 4,
   "metadata": {},
   "outputs": [
    {
     "data": {
      "image/png": "[encoded data removed]",
      "text/plain": [
       "<Figure size 640x480 with 1 Axes>"
      ]
     },
     "metadata": {},
     "output_type": "display_data"
    }
   ],
   "source": [
    "x = np.arange(-10., 10., 0.2)\n",
    "y = sigmoid(x)\n",
    "plt.plot(x, y)\n",
    "plt.title('Sigmoid function')\n",
    "plt.show()"
   ]
  },
  {
   "cell_type": "markdown",
   "metadata": {},
   "source": [
    "## Cross-entropy\n",
    "\n",
    "$$CE = -\\frac{1}{n}\\sum_{i}^{n}{y_i \\log{\\hat{y}_i} + (1-y_i) \\log{(1-\\hat{y}_i)}}$$"
   ]
  },
  {
   "cell_type": "markdown",
   "metadata": {},
   "source": [
    "This code defines a function `ce` that computes the cross-entropy loss for binary classification tasks. The function takes two arguments: `y_pred`, which represents the predicted probabilities (values between 0 and 1), and `y`, which represents the true binary labels (0 or 1).\n",
    "\n",
    "The formula inside the function, `-y * np.log(y_pred) - (1 - y) * np.log(1 - y_pred)`, calculates the cross-entropy for each prediction. If the true label `y` is 1, only the first term contributes, penalizing predictions far from 1. If `y` is 0, only the second term contributes, penalizing predictions far from 0. This loss function is widely used in logistic regression and other classification algorithms because it strongly penalizes confident but incorrect predictions, encouraging the model to output probabilities that match the true labels. The function returns the element-wise cross-entropy values, which can be averaged later to get the mean loss over a dataset."
   ]
  },
  {
   "cell_type": "code",
   "execution_count": 5,
   "metadata": {},
   "outputs": [],
   "source": [
    "def ce(y_pred, y):\n",
    "    return -y * np.log(y_pred) - (1 - y) * np.log(1 - y_pred)"
   ]
  },
  {
   "cell_type": "markdown",
   "metadata": {},
   "source": [
    "This code snippet visualizes how the cross-entropy loss behaves for binary classification as a function of the predicted probability. \n",
    "\n",
    "First, `p = np.linspace(0.01, 0.99, 99)` creates an array of 99 evenly spaced probability values between 0.01 and 0.99. These values represent possible predicted probabilities for a binary classifier.\n",
    "\n",
    "The next two lines plot the cross-entropy loss for two scenarios:\n",
    "- `plt.plot(p, ce(p, np.zeros(len(p))))` computes and plots the cross-entropy loss when the true label is 0 for all predictions. This shows how the loss increases as the predicted probability moves away from 0.\n",
    "- `plt.plot(p, ce(p, np.ones(len(p))))` computes and plots the cross-entropy loss when the true label is 1 for all predictions. This shows how the loss increases as the predicted probability moves away from 1.\n",
    "\n",
    "The x-axis is labeled \"Predicted probability\" and the y-axis is labeled \"Cross-entropy\". The legend distinguishes between the two cases (true label 0 and true label 1), and is placed at the top center of the plot. Finally, `plt.show()` displays the plot.\n",
    "\n",
    "This visualization helps illustrate that the cross-entropy loss penalizes confident but incorrect predictions much more heavily than less confident or correct predictions, which is why it is widely used as a loss function in logistic regression and other classification tasks."
   ]
  },
  {
   "cell_type": "code",
   "execution_count": 6,
   "metadata": {},
   "outputs": [
    {
     "data": {
      "image/png": "[encoded data removed]",
      "text/plain": [
       "<Figure size 640x480 with 1 Axes>"
      ]
     },
     "metadata": {},
     "output_type": "display_data"
    }
   ],
   "source": [
    "p = np.linspace(0.01, 0.99, 99)\n",
    "plt.plot(p, ce(p, np.zeros(len(p))))\n",
    "plt.plot(p, ce(p, np.ones(len(p))))\n",
    "plt.xlabel('Predicted probability')\n",
    "plt.ylabel('Cross-entropy')\n",
    "plt.legend([0, 1], loc='upper center')\n",
    "plt.show()"
   ]
  },
  {
   "cell_type": "markdown",
   "metadata": {},
   "source": [
    "This code snippet reads data from an Excel file named `loans.xls` located in the data directory and loads it into a Pandas DataFrame called `df`. The function `pd.read_excel('data/loans.xls')` uses Pandas' `read_excel` method to parse the contents of the Excel file, automatically inferring the structure of the data, such as column names and data types, unless additional arguments are provided.\n",
    "\n",
    "After loading the data, the variable `df` holds the resulting DataFrame, which organizes the data in a tabular format with labeled columns and rows. The second line, `df`, simply references the DataFrame. In an interactive environment like a Jupyter Notebook or Visual Studio Code's interactive window, this will display the contents of the DataFrame, allowing you to inspect the data that was just loaded. This is a common first step in a data analysis workflow, as it lets you verify that the data has been read correctly and gives you an overview of its structure and contents."
   ]
  },
  {
   "cell_type": "code",
   "execution_count": 7,
   "metadata": {},
   "outputs": [
    {
     "data": {
      "application/vnd.microsoft.datawrangler.viewer.v0+json": {
       "columns": [
        {
         "name": "index",
         "rawType": "int64",
         "type": "integer"
        },
        {
         "name": "default",
         "rawType": "int64",
         "type": "integer"
        },
        {
         "name": "installment",
         "rawType": "int64",
         "type": "integer"
        },
        {
         "name": "log_income",
         "rawType": "float64",
         "type": "float"
        },
        {
         "name": "fico_score",
         "rawType": "int64",
         "type": "integer"
        },
        {
         "name": "rev_balance",
         "rawType": "float64",
         "type": "float"
        },
        {
         "name": "inquiries",
         "rawType": "int64",
         "type": "integer"
        },
        {
         "name": "records",
         "rawType": "int64",
         "type": "integer"
        }
       ],
       "ref": "1ee95fcc-441e-4ae2-85bc-adcb220f7a88",
       "rows": [
        [
         "0",
         "0",
         "829",
         "4.93",
         "737",
         "28.85",
         "0",
         "0"
        ],
        [
         "1",
         "0",
         "228",
         "4.81",
         "707",
         "33.62",
         "0",
         "0"
        ],
        [
         "2",
         "0",
         "367",
         "4.51",
         "682",
         "3.51",
         "1",
         "0"
        ],
        [
         "3",
         "0",
         "162",
         "4.93",
         "712",
         "33.67",
         "1",
         "0"
        ],
        [
         "4",
         "0",
         "103",
         "4.91",
         "667",
         "4.74",
         "0",
         "0"
        ],
        [
         "5",
         "0",
         "125",
         "5.17",
         "727",
         "50.81",
         "0",
         "0"
        ],
        [
         "6",
         "1",
         "194",
         "4.65",
         "667",
         "3.84",
         "0",
         "1"
        ],
        [
         "7",
         "1",
         "131",
         "4.78",
         "722",
         "24.22",
         "0",
         "0"
        ],
        [
         "8",
         "0",
         "87",
         "4.95",
         "682",
         "69.91",
         "1",
         "0"
        ],
        [
         "9",
         "0",
         "84",
         "4.43",
         "707",
         "5.63",
         "1",
         "0"
        ],
        [
         "10",
         "0",
         "360",
         "4.53",
         "677",
         "13.85",
         "2",
         "1"
        ],
        [
         "11",
         "0",
         "254",
         "5.14",
         "662",
         "5.12",
         "2",
         "0"
        ],
        [
         "12",
         "0",
         "316",
         "4.75",
         "767",
         "6.07",
         "0",
         "0"
        ],
        [
         "13",
         "0",
         "93",
         "5.0",
         "747",
         "3.02",
         "0",
         "0"
        ],
        [
         "14",
         "0",
         "210",
         "4.12",
         "727",
         "6.28",
         "0",
         "0"
        ],
        [
         "15",
         "0",
         "328",
         "4.66",
         "702",
         "5.39",
         "1",
         "0"
        ],
        [
         "16",
         "0",
         "78",
         "4.57",
         "672",
         "2.21",
         "0",
         "0"
        ],
        [
         "17",
         "0",
         "477",
         "5.04",
         "797",
         "7.59",
         "1",
         "0"
        ],
        [
         "18",
         "0",
         "584",
         "4.56",
         "712",
         "8.31",
         "0",
         "0"
        ],
        [
         "19",
         "0",
         "174",
         "4.78",
         "667",
         "0.59",
         "3",
         "0"
        ],
        [
         "20",
         "0",
         "188",
         "4.88",
         "772",
         "29.8",
         "1",
         "0"
        ],
        [
         "21",
         "0",
         "474",
         "4.7",
         "797",
         "5.66",
         "0",
         "0"
        ],
        [
         "22",
         "0",
         "340",
         "5.0",
         "662",
         "21.16",
         "0",
         "0"
        ],
        [
         "23",
         "0",
         "485",
         "5.1",
         "782",
         "16.93",
         "1",
         "0"
        ],
        [
         "24",
         "0",
         "320",
         "4.89",
         "672",
         "4.82",
         "0",
         "1"
        ],
        [
         "25",
         "0",
         "159",
         "5.4",
         "712",
         "14.35",
         "0",
         "0"
        ],
        [
         "26",
         "0",
         "155",
         "4.81",
         "802",
         "1.58",
         "1",
         "0"
        ],
        [
         "27",
         "0",
         "255",
         "4.34",
         "662",
         "4.18",
         "0",
         "0"
        ],
        [
         "28",
         "0",
         "155",
         "5.3",
         "772",
         "3.16",
         "0",
         "0"
        ],
        [
         "29",
         "0",
         "155",
         "5.3",
         "812",
         "85.61",
         "0",
         "0"
        ],
        [
         "30",
         "0",
         "157",
         "5.0",
         "742",
         "9.7",
         "0",
         "0"
        ],
        [
         "31",
         "0",
         "275",
         "4.26",
         "692",
         "8.85",
         "1",
         "0"
        ],
        [
         "32",
         "0",
         "155",
         "5.18",
         "777",
         "6.05",
         "0",
         "0"
        ],
        [
         "33",
         "0",
         "78",
         "5.04",
         "762",
         "7.27",
         "0",
         "0"
        ],
        [
         "34",
         "0",
         "158",
         "4.88",
         "757",
         "66.03",
         "0",
         "0"
        ],
        [
         "35",
         "0",
         "155",
         "4.98",
         "772",
         "3.66",
         "0",
         "0"
        ],
        [
         "36",
         "0",
         "155",
         "4.93",
         "787",
         "0.22",
         "0",
         "0"
        ],
        [
         "37",
         "0",
         "164",
         "4.9",
         "672",
         "27.19",
         "3",
         "1"
        ],
        [
         "38",
         "0",
         "161",
         "4.68",
         "707",
         "28.33",
         "1",
         "0"
        ],
        [
         "39",
         "0",
         "160",
         "5.26",
         "717",
         "60.57",
         "1",
         "0"
        ],
        [
         "40",
         "0",
         "157",
         "5.26",
         "742",
         "40.93",
         "0",
         "0"
        ],
        [
         "41",
         "0",
         "155",
         "5.08",
         "777",
         "8.38",
         "0",
         "0"
        ],
        [
         "42",
         "0",
         "95",
         "4.4",
         "752",
         "3.66",
         "1",
         "0"
        ],
        [
         "43",
         "0",
         "97",
         "5.3",
         "677",
         "0.0",
         "0",
         "0"
        ],
        [
         "44",
         "0",
         "164",
         "4.48",
         "702",
         "15.84",
         "0",
         "0"
        ],
        [
         "45",
         "0",
         "167",
         "4.87",
         "797",
         "6.84",
         "0",
         "0"
        ],
        [
         "46",
         "0",
         "169",
         "3.9",
         "762",
         "1.32",
         "0",
         "0"
        ],
        [
         "47",
         "0",
         "161",
         "4.51",
         "772",
         "4.74",
         "0",
         "0"
        ],
        [
         "48",
         "0",
         "159",
         "4.86",
         "722",
         "23.49",
         "0",
         "0"
        ],
        [
         "49",
         "0",
         "179",
         "5.1",
         "792",
         "2.82",
         "0",
         "0"
        ]
       ],
       "shape": {
        "columns": 7,
        "rows": 9516
       }
      },
      "text/html": [
       "<div>\n",
       "<style scoped>\n",
       "    .dataframe tbody tr th:only-of-type {\n",
       "        vertical-align: middle;\n",
       "    }\n",
       "\n",
       "    .dataframe tbody tr th {\n",
       "        vertical-align: top;\n",
       "    }\n",
       "\n",
       "    .dataframe thead th {\n",
       "        text-align: right;\n",
       "    }\n",
       "</style>\n",
       "<table border=\"1\" class=\"dataframe\">\n",
       "  <thead>\n",
       "    <tr style=\"text-align: right;\">\n",
       "      <th></th>\n",
       "      <th>default</th>\n",
       "      <th>installment</th>\n",
       "      <th>log_income</th>\n",
       "      <th>fico_score</th>\n",
       "      <th>rev_balance</th>\n",
       "      <th>inquiries</th>\n",
       "      <th>records</th>\n",
       "    </tr>\n",
       "  </thead>\n",
       "  <tbody>\n",
       "    <tr>\n",
       "      <th>0</th>\n",
       "      <td>0</td>\n",
       "      <td>829</td>\n",
       "      <td>4.93</td>\n",
       "      <td>737</td>\n",
       "      <td>28.85</td>\n",
       "      <td>0</td>\n",
       "      <td>0</td>\n",
       "    </tr>\n",
       "    <tr>\n",
       "      <th>1</th>\n",
       "      <td>0</td>\n",
       "      <td>228</td>\n",
       "      <td>4.81</td>\n",
       "      <td>707</td>\n",
       "      <td>33.62</td>\n",
       "      <td>0</td>\n",
       "      <td>0</td>\n",
       "    </tr>\n",
       "    <tr>\n",
       "      <th>2</th>\n",
       "      <td>0</td>\n",
       "      <td>367</td>\n",
       "      <td>4.51</td>\n",
       "      <td>682</td>\n",
       "      <td>3.51</td>\n",
       "      <td>1</td>\n",
       "      <td>0</td>\n",
       "    </tr>\n",
       "    <tr>\n",
       "      <th>3</th>\n",
       "      <td>0</td>\n",
       "      <td>162</td>\n",
       "      <td>4.93</td>\n",
       "      <td>712</td>\n",
       "      <td>33.67</td>\n",
       "      <td>1</td>\n",
       "      <td>0</td>\n",
       "    </tr>\n",
       "    <tr>\n",
       "      <th>4</th>\n",
       "      <td>0</td>\n",
       "      <td>103</td>\n",
       "      <td>4.91</td>\n",
       "      <td>667</td>\n",
       "      <td>4.74</td>\n",
       "      <td>0</td>\n",
       "      <td>0</td>\n",
       "    </tr>\n",
       "    <tr>\n",
       "      <th>...</th>\n",
       "      <td>...</td>\n",
       "      <td>...</td>\n",
       "      <td>...</td>\n",
       "      <td>...</td>\n",
       "      <td>...</td>\n",
       "      <td>...</td>\n",
       "      <td>...</td>\n",
       "    </tr>\n",
       "    <tr>\n",
       "      <th>9511</th>\n",
       "      <td>1</td>\n",
       "      <td>345</td>\n",
       "      <td>5.29</td>\n",
       "      <td>672</td>\n",
       "      <td>215.37</td>\n",
       "      <td>2</td>\n",
       "      <td>0</td>\n",
       "    </tr>\n",
       "    <tr>\n",
       "      <th>9512</th>\n",
       "      <td>1</td>\n",
       "      <td>258</td>\n",
       "      <td>4.84</td>\n",
       "      <td>722</td>\n",
       "      <td>0.18</td>\n",
       "      <td>5</td>\n",
       "      <td>0</td>\n",
       "    </tr>\n",
       "    <tr>\n",
       "      <th>9513</th>\n",
       "      <td>1</td>\n",
       "      <td>98</td>\n",
       "      <td>4.60</td>\n",
       "      <td>687</td>\n",
       "      <td>10.04</td>\n",
       "      <td>8</td>\n",
       "      <td>0</td>\n",
       "    </tr>\n",
       "    <tr>\n",
       "      <th>9514</th>\n",
       "      <td>1</td>\n",
       "      <td>352</td>\n",
       "      <td>4.70</td>\n",
       "      <td>692</td>\n",
       "      <td>0.00</td>\n",
       "      <td>5</td>\n",
       "      <td>0</td>\n",
       "    </tr>\n",
       "    <tr>\n",
       "      <th>9515</th>\n",
       "      <td>1</td>\n",
       "      <td>853</td>\n",
       "      <td>4.89</td>\n",
       "      <td>732</td>\n",
       "      <td>37.88</td>\n",
       "      <td>6</td>\n",
       "      <td>0</td>\n",
       "    </tr>\n",
       "  </tbody>\n",
       "</table>\n",
       "<p>9516 rows × 7 columns</p>\n",
       "</div>"
      ],
      "text/plain": [
       "      default  installment  log_income  fico_score  rev_balance  inquiries  \\\n",
       "0           0          829        4.93         737        28.85          0   \n",
       "1           0          228        4.81         707        33.62          0   \n",
       "2           0          367        4.51         682         3.51          1   \n",
       "3           0          162        4.93         712        33.67          1   \n",
       "4           0          103        4.91         667         4.74          0   \n",
       "...       ...          ...         ...         ...          ...        ...   \n",
       "9511        1          345        5.29         672       215.37          2   \n",
       "9512        1          258        4.84         722         0.18          5   \n",
       "9513        1           98        4.60         687        10.04          8   \n",
       "9514        1          352        4.70         692         0.00          5   \n",
       "9515        1          853        4.89         732        37.88          6   \n",
       "\n",
       "      records  \n",
       "0           0  \n",
       "1           0  \n",
       "2           0  \n",
       "3           0  \n",
       "4           0  \n",
       "...       ...  \n",
       "9511        0  \n",
       "9512        0  \n",
       "9513        0  \n",
       "9514        0  \n",
       "9515        0  \n",
       "\n",
       "[9516 rows x 7 columns]"
      ]
     },
     "execution_count": 7,
     "metadata": {},
     "output_type": "execute_result"
    }
   ],
   "source": [
    "df = pd.read_excel('data/loans.xls')\n",
    "df"
   ]
  },
  {
   "cell_type": "markdown",
   "metadata": {},
   "source": [
    "This code fits a logistic regression model using the `statsmodels` library to predict the probability of loan default based on the number of credit inquiries. The function `smf.logit('default ~ inquiries', data=df)` specifies a logistic regression model where `default` is the binary dependent variable (e.g., 0 for no default, 1 for default), and `inquiries` is the independent variable (the number of credit inquiries). The formula syntax `'default ~ inquiries'` is similar to R-style formulas, making it easy to specify the relationship between variables.\n",
    "\n",
    "The `.fit()` method estimates the model parameters (intercept and coefficient for `inquiries`) using maximum likelihood estimation. The resulting `model` object contains the fitted logistic regression model.\n",
    "\n",
    "Calling `model.summary()` displays a detailed summary of the fitted model, including the estimated coefficients, their standard errors, z-scores, p-values, and confidence intervals. It also provides model fit statistics such as pseudo R-squared and information criteria. This summary helps you interpret the effect of credit inquiries on the likelihood of default and assess the statistical significance of the predictor."
   ]
  },
  {
   "cell_type": "code",
   "execution_count": 8,
   "metadata": {},
   "outputs": [
    {
     "name": "stdout",
     "output_type": "stream",
     "text": [
      "Optimization terminated successfully.\n",
      "         Current function value: 0.429945\n",
      "         Iterations 6\n"
     ]
    },
    {
     "data": {
      "text/html": [
       "<table class=\"simpletable\">\n",
       "<caption>Logit Regression Results</caption>\n",
       "<tr>\n",
       "  <th>Dep. Variable:</th>        <td>default</td>     <th>  No. Observations:  </th>  <td>  9516</td>  \n",
       "</tr>\n",
       "<tr>\n",
       "  <th>Model:</th>                 <td>Logit</td>      <th>  Df Residuals:      </th>  <td>  9514</td>  \n",
       "</tr>\n",
       "<tr>\n",
       "  <th>Method:</th>                 <td>MLE</td>       <th>  Df Model:          </th>  <td>     1</td>  \n",
       "</tr>\n",
       "<tr>\n",
       "  <th>Date:</th>            <td>Mon, 12 May 2025</td> <th>  Pseudo R-squ.:     </th>  <td>0.02151</td> \n",
       "</tr>\n",
       "<tr>\n",
       "  <th>Time:</th>                <td>18:24:37</td>     <th>  Log-Likelihood:    </th> <td> -4091.4</td> \n",
       "</tr>\n",
       "<tr>\n",
       "  <th>converged:</th>             <td>True</td>       <th>  LL-Null:           </th> <td> -4181.3</td> \n",
       "</tr>\n",
       "<tr>\n",
       "  <th>Covariance Type:</th>     <td>nonrobust</td>    <th>  LLR p-value:       </th> <td>5.051e-41</td>\n",
       "</tr>\n",
       "</table>\n",
       "<table class=\"simpletable\">\n",
       "<tr>\n",
       "      <td></td>         <th>coef</th>     <th>std err</th>      <th>z</th>      <th>P>|z|</th>  <th>[0.025</th>    <th>0.975]</th>  \n",
       "</tr>\n",
       "<tr>\n",
       "  <th>Intercept</th> <td>   -1.9300</td> <td>    0.036</td> <td>  -53.517</td> <td> 0.000</td> <td>   -2.001</td> <td>   -1.859</td>\n",
       "</tr>\n",
       "<tr>\n",
       "  <th>inquiries</th> <td>    0.1506</td> <td>    0.011</td> <td>   13.275</td> <td> 0.000</td> <td>    0.128</td> <td>    0.173</td>\n",
       "</tr>\n",
       "</table>"
      ],
      "text/latex": [
       "\\begin{center}\n",
       "\\begin{tabular}{lclc}\n",
       "\\toprule\n",
       "\\textbf{Dep. Variable:}   &     default      & \\textbf{  No. Observations:  } &     9516    \\\\\n",
       "\\textbf{Model:}           &      Logit       & \\textbf{  Df Residuals:      } &     9514    \\\\\n",
       "\\textbf{Method:}          &       MLE        & \\textbf{  Df Model:          } &        1    \\\\\n",
       "\\textbf{Date:}            & Mon, 12 May 2025 & \\textbf{  Pseudo R-squ.:     } &  0.02151    \\\\\n",
       "\\textbf{Time:}            &     18:24:37     & \\textbf{  Log-Likelihood:    } &   -4091.4   \\\\\n",
       "\\textbf{converged:}       &       True       & \\textbf{  LL-Null:           } &   -4181.3   \\\\\n",
       "\\textbf{Covariance Type:} &    nonrobust     & \\textbf{  LLR p-value:       } & 5.051e-41   \\\\\n",
       "\\bottomrule\n",
       "\\end{tabular}\n",
       "\\begin{tabular}{lcccccc}\n",
       "                   & \\textbf{coef} & \\textbf{std err} & \\textbf{z} & \\textbf{P$> |$z$|$} & \\textbf{[0.025} & \\textbf{0.975]}  \\\\\n",
       "\\midrule\n",
       "\\textbf{Intercept} &      -1.9300  &        0.036     &   -53.517  &         0.000        &       -2.001    &       -1.859     \\\\\n",
       "\\textbf{inquiries} &       0.1506  &        0.011     &    13.275  &         0.000        &        0.128    &        0.173     \\\\\n",
       "\\bottomrule\n",
       "\\end{tabular}\n",
       "%\\caption{Logit Regression Results}\n",
       "\\end{center}"
      ],
      "text/plain": [
       "<class 'statsmodels.iolib.summary.Summary'>\n",
       "\"\"\"\n",
       "                           Logit Regression Results                           \n",
       "==============================================================================\n",
       "Dep. Variable:                default   No. Observations:                 9516\n",
       "Model:                          Logit   Df Residuals:                     9514\n",
       "Method:                           MLE   Df Model:                            1\n",
       "Date:                Mon, 12 May 2025   Pseudo R-squ.:                 0.02151\n",
       "Time:                        18:24:37   Log-Likelihood:                -4091.4\n",
       "converged:                       True   LL-Null:                       -4181.3\n",
       "Covariance Type:            nonrobust   LLR p-value:                 5.051e-41\n",
       "==============================================================================\n",
       "                 coef    std err          z      P>|z|      [0.025      0.975]\n",
       "------------------------------------------------------------------------------\n",
       "Intercept     -1.9300      0.036    -53.517      0.000      -2.001      -1.859\n",
       "inquiries      0.1506      0.011     13.275      0.000       0.128       0.173\n",
       "==============================================================================\n",
       "\"\"\""
      ]
     },
     "execution_count": 8,
     "metadata": {},
     "output_type": "execute_result"
    }
   ],
   "source": [
    "model = smf.logit('default ~ inquiries', data=df).fit()\n",
    "model.summary()"
   ]
  },
  {
   "cell_type": "markdown",
   "metadata": {},
   "source": [
    "This code fits a logistic regression model using the `statsmodels` library to predict the probability of loan default based on the number of credit inquiries. The function `smf.logit('default ~ inquiries', data=df)` specifies a logistic regression model where `default` is the binary dependent variable (e.g., 0 for no default, 1 for default), and `inquiries` is the independent variable (the number of credit inquiries). The formula syntax `'default ~ inquiries'` is similar to R-style formulas, making it easy to specify the relationship between variables.\n",
    "\n",
    "The `.fit()` method estimates the model parameters (intercept and coefficient for `inquiries`) using maximum likelihood estimation. The resulting `model` object contains the fitted logistic regression model.\n",
    "\n",
    "Calling `model.summary()` displays a detailed summary of the fitted model, including the estimated coefficients, their standard errors, z-scores, p-values, and confidence intervals. It also provides model fit statistics such as pseudo R-squared and information criteria. This summary helps you interpret the effect of credit inquiries on the likelihood of default and assess the statistical significance of the predictor."
   ]
  },
  {
   "cell_type": "code",
   "execution_count": 9,
   "metadata": {},
   "outputs": [
    {
     "data": {
      "application/vnd.microsoft.datawrangler.viewer.v0+json": {
       "columns": [
        {
         "name": "index",
         "rawType": "int64",
         "type": "integer"
        },
        {
         "name": "0",
         "rawType": "float64",
         "type": "float"
        }
       ],
       "ref": "61eb107e-2b98-4d3b-b650-4c8df387d685",
       "rows": [
        [
         "0",
         "0.12675321417255925"
        ],
        [
         "1",
         "0.12675321417255925"
        ],
        [
         "2",
         "0.14438497440373413"
        ],
        [
         "3",
         "0.14438497440373413"
        ],
        [
         "4",
         "0.12675321417255925"
        ],
        [
         "5",
         "0.12675321417255925"
        ],
        [
         "6",
         "0.12675321417255925"
        ],
        [
         "7",
         "0.12675321417255925"
        ],
        [
         "8",
         "0.14438497440373413"
        ],
        [
         "9",
         "0.14438497440373413"
        ],
        [
         "10",
         "0.16400872576066916"
        ],
        [
         "11",
         "0.16400872576066916"
        ],
        [
         "12",
         "0.12675321417255925"
        ],
        [
         "13",
         "0.12675321417255925"
        ],
        [
         "14",
         "0.12675321417255925"
        ],
        [
         "15",
         "0.14438497440373413"
        ],
        [
         "16",
         "0.12675321417255925"
        ],
        [
         "17",
         "0.14438497440373413"
        ],
        [
         "18",
         "0.12675321417255925"
        ],
        [
         "19",
         "0.18572066697778847"
        ],
        [
         "20",
         "0.14438497440373413"
        ],
        [
         "21",
         "0.12675321417255925"
        ],
        [
         "22",
         "0.12675321417255925"
        ],
        [
         "23",
         "0.14438497440373413"
        ],
        [
         "24",
         "0.12675321417255925"
        ],
        [
         "25",
         "0.12675321417255925"
        ],
        [
         "26",
         "0.14438497440373413"
        ],
        [
         "27",
         "0.12675321417255925"
        ],
        [
         "28",
         "0.12675321417255925"
        ],
        [
         "29",
         "0.12675321417255925"
        ],
        [
         "30",
         "0.12675321417255925"
        ],
        [
         "31",
         "0.14438497440373413"
        ],
        [
         "32",
         "0.12675321417255925"
        ],
        [
         "33",
         "0.12675321417255925"
        ],
        [
         "34",
         "0.12675321417255925"
        ],
        [
         "35",
         "0.12675321417255925"
        ],
        [
         "36",
         "0.12675321417255925"
        ],
        [
         "37",
         "0.18572066697778847"
        ],
        [
         "38",
         "0.14438497440373413"
        ],
        [
         "39",
         "0.14438497440373413"
        ],
        [
         "40",
         "0.12675321417255925"
        ],
        [
         "41",
         "0.12675321417255925"
        ],
        [
         "42",
         "0.14438497440373413"
        ],
        [
         "43",
         "0.12675321417255925"
        ],
        [
         "44",
         "0.12675321417255925"
        ],
        [
         "45",
         "0.12675321417255925"
        ],
        [
         "46",
         "0.12675321417255925"
        ],
        [
         "47",
         "0.12675321417255925"
        ],
        [
         "48",
         "0.12675321417255925"
        ],
        [
         "49",
         "0.12675321417255925"
        ]
       ],
       "shape": {
        "columns": 1,
        "rows": 9516
       }
      },
      "text/plain": [
       "0       0.126753\n",
       "1       0.126753\n",
       "2       0.144385\n",
       "3       0.144385\n",
       "4       0.126753\n",
       "          ...   \n",
       "9511    0.164009\n",
       "9512    0.235631\n",
       "9513    0.326322\n",
       "9514    0.235631\n",
       "9515    0.263833\n",
       "Length: 9516, dtype: float64"
      ]
     },
     "execution_count": 9,
     "metadata": {},
     "output_type": "execute_result"
    }
   ],
   "source": [
    "pred = model.predict(df)\n",
    "pred"
   ]
  },
  {
   "cell_type": "markdown",
   "metadata": {},
   "source": [
    "This code defines and uses a custom prediction function for a logistic regression model. The `predict` function takes two arguments: `coef`, which represents the coefficient for the predictor variable (in this case, the number of credit inquiries), and `x`, which is the input data (such as a column from a DataFrame).\n",
    "\n",
    "Inside the function, it calculates the linear combination of the model's intercept (`model.params['Intercept']`) and the product of the coefficient and the input values (`coef * x`). This linear combination represents the log-odds in logistic regression. The result is then passed to the `sigmoid` function, which transforms the log-odds into probabilities between 0 and 1.\n",
    "\n",
    "The second line calls `predict` using the fitted coefficient for `inquiries` (`model.params['inquiries']`) and the actual `inquiries` data from the DataFrame. This produces the predicted probabilities that each observation in the dataset will default, based on the number of credit inquiries. This approach helps illustrate how logistic regression uses the learned parameters to make probability predictions for new or existing data."
   ]
  },
  {
   "cell_type": "code",
   "execution_count": 10,
   "metadata": {},
   "outputs": [
    {
     "data": {
      "application/vnd.microsoft.datawrangler.viewer.v0+json": {
       "columns": [
        {
         "name": "index",
         "rawType": "int64",
         "type": "integer"
        },
        {
         "name": "inquiries",
         "rawType": "float64",
         "type": "float"
        }
       ],
       "ref": "3c3e106b-34e5-4d72-8cb2-f12ce8a250ef",
       "rows": [
        [
         "0",
         "0.12675321417255925"
        ],
        [
         "1",
         "0.12675321417255925"
        ],
        [
         "2",
         "0.14438497440373413"
        ],
        [
         "3",
         "0.14438497440373413"
        ],
        [
         "4",
         "0.12675321417255925"
        ],
        [
         "5",
         "0.12675321417255925"
        ],
        [
         "6",
         "0.12675321417255925"
        ],
        [
         "7",
         "0.12675321417255925"
        ],
        [
         "8",
         "0.14438497440373413"
        ],
        [
         "9",
         "0.14438497440373413"
        ],
        [
         "10",
         "0.16400872576066916"
        ],
        [
         "11",
         "0.16400872576066916"
        ],
        [
         "12",
         "0.12675321417255925"
        ],
        [
         "13",
         "0.12675321417255925"
        ],
        [
         "14",
         "0.12675321417255925"
        ],
        [
         "15",
         "0.14438497440373413"
        ],
        [
         "16",
         "0.12675321417255925"
        ],
        [
         "17",
         "0.14438497440373413"
        ],
        [
         "18",
         "0.12675321417255925"
        ],
        [
         "19",
         "0.18572066697778844"
        ],
        [
         "20",
         "0.14438497440373413"
        ],
        [
         "21",
         "0.12675321417255925"
        ],
        [
         "22",
         "0.12675321417255925"
        ],
        [
         "23",
         "0.14438497440373413"
        ],
        [
         "24",
         "0.12675321417255925"
        ],
        [
         "25",
         "0.12675321417255925"
        ],
        [
         "26",
         "0.14438497440373413"
        ],
        [
         "27",
         "0.12675321417255925"
        ],
        [
         "28",
         "0.12675321417255925"
        ],
        [
         "29",
         "0.12675321417255925"
        ],
        [
         "30",
         "0.12675321417255925"
        ],
        [
         "31",
         "0.14438497440373413"
        ],
        [
         "32",
         "0.12675321417255925"
        ],
        [
         "33",
         "0.12675321417255925"
        ],
        [
         "34",
         "0.12675321417255925"
        ],
        [
         "35",
         "0.12675321417255925"
        ],
        [
         "36",
         "0.12675321417255925"
        ],
        [
         "37",
         "0.18572066697778844"
        ],
        [
         "38",
         "0.14438497440373413"
        ],
        [
         "39",
         "0.14438497440373413"
        ],
        [
         "40",
         "0.12675321417255925"
        ],
        [
         "41",
         "0.12675321417255925"
        ],
        [
         "42",
         "0.14438497440373413"
        ],
        [
         "43",
         "0.12675321417255925"
        ],
        [
         "44",
         "0.12675321417255925"
        ],
        [
         "45",
         "0.12675321417255925"
        ],
        [
         "46",
         "0.12675321417255925"
        ],
        [
         "47",
         "0.12675321417255925"
        ],
        [
         "48",
         "0.12675321417255925"
        ],
        [
         "49",
         "0.12675321417255925"
        ]
       ],
       "shape": {
        "columns": 1,
        "rows": 9516
       }
      },
      "text/plain": [
       "0       0.126753\n",
       "1       0.126753\n",
       "2       0.144385\n",
       "3       0.144385\n",
       "4       0.126753\n",
       "          ...   \n",
       "9511    0.164009\n",
       "9512    0.235631\n",
       "9513    0.326322\n",
       "9514    0.235631\n",
       "9515    0.263833\n",
       "Name: inquiries, Length: 9516, dtype: float64"
      ]
     },
     "execution_count": 10,
     "metadata": {},
     "output_type": "execute_result"
    }
   ],
   "source": [
    "def predict(coef, x):\n",
    "    return sigmoid(model.params['Intercept'] + coef * x)\n",
    "predict(model.params['inquiries'], df['inquiries'])"
   ]
  },
  {
   "cell_type": "markdown",
   "metadata": {},
   "source": [
    "This code defines a function `ce` that calculates the cross-entropy loss for binary classification tasks. The function takes two arguments: `y_pred`, which contains the predicted probabilities (values between 0 and 1), and `y`, which contains the true binary labels (0 or 1).\n",
    "\n",
    "Inside the function, the expression `y * np.log(y_pred) + (1 - y) * np.log(1 - y_pred)` computes the log-likelihood for each prediction. For each data point, if the true label `y` is 1, only the first term contributes, rewarding predictions close to 1. If `y` is 0, only the second term contributes, rewarding predictions close to 0. The negative mean of these values, taken with `-np.mean(...)`, gives the average cross-entropy loss across all predictions. This loss function penalizes confident but incorrect predictions more heavily, making it a standard choice for evaluating models in logistic regression.\n",
    "\n",
    "The second line, `ce(pred, df['default'])`, calls this function using the predicted probabilities (`pred`) and the actual labels (`df['default']`), returning the average cross-entropy loss for the dataset. This value provides a quantitative measure of how well the model's predicted probabilities match the true outcomes."
   ]
  },
  {
   "cell_type": "code",
   "execution_count": 11,
   "metadata": {},
   "outputs": [
    {
     "name": "stdout",
     "output_type": "stream",
     "text": [
      "Cross-Entropy: 0.4299445005163216\n"
     ]
    }
   ],
   "source": [
    "def ce(y_pred, y):\n",
    "    return -np.mean(y * np.log(y_pred) + (1 - y) * np.log(1 - y_pred))\n",
    "print('Cross-Entropy:', ce(pred, df['default']))"
   ]
  },
  {
   "cell_type": "markdown",
   "metadata": {},
   "source": [
    "This code snippet explores how the cross-entropy loss changes as the coefficient in a logistic regression model varies. \n",
    "\n",
    "First, `coefs = np.linspace(-1, 1, 100)` creates an array of 100 evenly spaced values between -1 and 1. These values represent different possible coefficients for the predictor variable (such as the number of credit inquiries).\n",
    "\n",
    "An empty list `cost` is initialized to store the cross-entropy loss for each coefficient. The `for` loop iterates over each coefficient value `c` in `coefs`. For each value, it uses the `predict` function to calculate predicted probabilities based on the current coefficient and the actual data (`df['inquiries']`). Then, it computes the cross-entropy loss between these predictions and the true labels (`df['default']`) using the `ce` function, appending the result to the `cost` list.\n",
    "\n",
    "After the loop, `plt.plot(coefs, cost)` creates a line plot showing how the cross-entropy loss varies with the coefficient. The x-axis is labeled \"Coefficient\" and the y-axis is labeled \"Cost (Cross-entropy)\". The code is missing the final `plt.show()` call (it is cut off as `plt.sh`), which would display the plot.\n",
    "\n",
    "This visualization helps illustrate how the choice of coefficient affects the model's fit to the data, with the minimum point on the curve indicating the coefficient that yields the lowest cross-entropy loss. This is closely related to the process of parameter optimization in logistic regression."
   ]
  },
  {
   "cell_type": "code",
   "execution_count": 12,
   "metadata": {},
   "outputs": [
    {
     "data": {
      "image/png": "[encoded data removed]",
      "text/plain": [
       "<Figure size 640x480 with 1 Axes>"
      ]
     },
     "metadata": {},
     "output_type": "display_data"
    }
   ],
   "source": [
    "coefs = np.linspace(-1, 1, 100)\n",
    "cost  = []\n",
    "for c in coefs:\n",
    "    pred = predict(c, df['inquiries'])\n",
    "    cost.append(ce(pred, df['default']))\n",
    "plt.plot(coefs, cost)\n",
    "plt.xlabel('Coefficient')\n",
    "plt.ylabel('Cost (Cross-entropy)')\n",
    "plt.show()"
   ]
  },
  {
   "cell_type": "markdown",
   "metadata": {},
   "source": [
    "## Confusion matrix\n",
    "This code demonstrates how to train and evaluate a logistic regression model using scikit-learn. \n",
    "\n",
    "First, `X = df.drop(columns='default')` creates a new DataFrame `X` by removing the `'default'` column from `df`. This means `X` contains all the predictor variables (features) except the target variable. The next line, `y = df['default']`, extracts the `'default'` column as the target variable, which typically contains binary values indicating whether a loan defaulted.\n",
    "\n",
    "The line `model = LogisticRegression(solver='liblinear').fit(X, y)` initializes a logistic regression model using the `'liblinear'` solver (which is suitable for small datasets and binary classification) and fits it to the data (`X` and `y`). This trains the model to learn the relationship between the features and the target.\n",
    "\n",
    "Finally, `ce(model.predict_proba(X)[:, 1], y)` evaluates the model's performance using the cross-entropy loss function `ce`. The method `model.predict_proba(X)` returns the predicted probabilities for each class; `[:, 1]` selects the probability of the positive class (e.g., default = 1) for each sample. The `ce` function then computes the average cross-entropy loss between these predicted probabilities and the true labels `y`, providing a measure of how well the model's predicted probabilities match the actual outcomes. Lower cross-entropy values indicate better model performance."
   ]
  },
  {
   "cell_type": "code",
   "execution_count": 13,
   "metadata": {},
   "outputs": [
    {
     "name": "stdout",
     "output_type": "stream",
     "text": [
      "Cross-Entropy: 0.4220381348751902\n"
     ]
    }
   ],
   "source": [
    "X     = df.drop(columns='default')\n",
    "y     = df['default']\n",
    "model = LogisticRegression(solver='liblinear').fit(X, y)\n",
    "print('Cross-Entropy:', ce(model.predict_proba(X)[:, 1], y))"
   ]
  },
  {
   "cell_type": "markdown",
   "metadata": {},
   "source": [
    "This code prints the predicted probabilities for each class generated by the trained logistic regression model on the dataset `X`. The function `model.predict_proba(X)` returns a NumPy array where each row corresponds to a sample in `X`, and each column represents the probability that the sample belongs to a particular class (for binary classification, typically columns for class 0 and class 1).\n",
    "\n",
    "By passing this array to the `print` function along with the label `'Model Predictions:'`, the code outputs a readable summary of the model's probability estimates for each observation. This is useful for inspecting how confident the model is in its predictions, rather than just seeing the final predicted class. For example, you can see whether the model is highly certain (probabilities close to 0 or 1) or uncertain (probabilities near 0.5) about each prediction."
   ]
  },
  {
   "cell_type": "code",
   "execution_count": 14,
   "metadata": {},
   "outputs": [
    {
     "name": "stdout",
     "output_type": "stream",
     "text": [
      "Model Predictions Probabilities: [[0.83885167 0.16114833]\n",
      " [0.87807391 0.12192609]\n",
      " [0.84624111 0.15375889]\n",
      " ...\n",
      " [0.71574816 0.28425184]\n",
      " [0.76961531 0.23038469]\n",
      " [0.67688242 0.32311758]]\n"
     ]
    }
   ],
   "source": [
    "print('Model Predictions Probabilities:', model.predict_proba(X))"
   ]
  },
  {
   "cell_type": "markdown",
   "metadata": {},
   "source": [
    "This code prints the predicted class labels for each observation in the dataset `X` using the trained logistic regression model. The `model.predict(X)` method returns an array where each element is the predicted class (such as 0 or 1) for the corresponding row in `X`. These predictions are based on the model's learned parameters and represent the most likely class for each sample according to the model.\n",
    "\n",
    "By passing the result to the `print` function with the label `'Model Predictions:'`, the code outputs a readable list of predicted classes. This allows you to quickly see which samples the model classifies as belonging to each class, making it easy to compare the model's predictions to the actual target values or to use them for further evaluation."
   ]
  },
  {
   "cell_type": "code",
   "execution_count": 15,
   "metadata": {},
   "outputs": [
    {
     "name": "stdout",
     "output_type": "stream",
     "text": [
      "Model Predictions Classes:  [0 0 0 ... 0 0 0]\n",
      "Model Probabilities      :  [False False False ... False False False]\n"
     ]
    }
   ],
   "source": [
    "print('Model Predictions Classes: ', model.predict(X))\n",
    "print('Model Probabilities      : ',model.predict_proba(X)[:, 1] > 0.5)"
   ]
  },
  {
   "cell_type": "markdown",
   "metadata": {},
   "source": [
    "This line of code counts the occurrences of each unique value in the `'default'` column of the DataFrame `df`. The method `value_counts()` returns a Series where the index represents the unique values found in the column (such as 0 and 1 for a binary classification problem), and the corresponding values represent how many times each unique value appears.\n",
    "\n",
    "This is a quick way to check the distribution of the target variable, which is especially useful for understanding class balance in classification tasks. For example, if `'default'` indicates whether a loan defaulted (1) or not (0), this output will show how many loans were repaid versus how many defaulted. This information can help identify class imbalance, which is important when evaluating model performance."
   ]
  },
  {
   "cell_type": "code",
   "execution_count": 16,
   "metadata": {},
   "outputs": [
    {
     "data": {
      "application/vnd.microsoft.datawrangler.viewer.v0+json": {
       "columns": [
        {
         "name": "default",
         "rawType": "int64",
         "type": "integer"
        },
        {
         "name": "count",
         "rawType": "int64",
         "type": "integer"
        }
       ],
       "ref": "13c7fcdf-0994-4806-8a5f-b586cf74a695",
       "rows": [
        [
         "0",
         "7995"
        ],
        [
         "1",
         "1521"
        ]
       ],
       "shape": {
        "columns": 1,
        "rows": 2
       }
      },
      "text/plain": [
       "default\n",
       "0    7995\n",
       "1    1521\n",
       "Name: count, dtype: int64"
      ]
     },
     "execution_count": 16,
     "metadata": {},
     "output_type": "execute_result"
    }
   ],
   "source": [
    "df['default'].value_counts()"
   ]
  },
  {
   "cell_type": "markdown",
   "metadata": {},
   "source": [
    "This line splits the dataset into training and testing subsets using the `train_test_split` function from scikit-learn. Here, `X` contains the feature variables and `y` contains the target variable. The argument `train_size=0.8` specifies that 80% of the data should be used for training, while the remaining 20% will be used for testing.\n",
    "\n",
    "The function randomly shuffles the data (unless specified otherwise) before splitting, ensuring that both the training and testing sets are representative of the overall dataset. The result is four outputs: `X_train` and `y_train` contain the features and targets for the training set, while `X_test` and `y_test` contain the features and targets for the test set. This split is essential for evaluating how well a model trained on one portion of the data performs on unseen data, helping to assess its generalization ability."
   ]
  },
  {
   "cell_type": "code",
   "execution_count": 17,
   "metadata": {},
   "outputs": [],
   "source": [
    "X_train, X_test, y_train, y_test = train_test_split(X, y, train_size=0.8)"
   ]
  },
  {
   "cell_type": "markdown",
   "metadata": {},
   "source": [
    "This code trains and applies a logistic regression model for binary classification using scikit-learn. \n",
    "\n",
    "First, `model = LogisticRegression(solver='liblinear').fit(X_train, y_train)` creates a `LogisticRegression` object with the `'liblinear'` solver, which is well-suited for small datasets and binary classification problems. The `fit` method trains the model using the training data (`X_train` for features and `y_train` for labels), estimating the optimal coefficients and intercept that best separate the classes.\n",
    "\n",
    "Next, `predictions = model.predict(X_test)` uses the trained model to predict the class labels for the test set features (`X_test`). The `predict` method outputs an array where each element is the predicted class (such as 0 or 1) for the corresponding test sample.\n",
    "\n",
    "Finally, the variable `predictions` is displayed, showing the predicted class labels for all samples in the test set. This output can be compared to the true labels (`y_test`) to evaluate the model's performance, such as by calculating accuracy or constructing a confusion matrix."
   ]
  },
  {
   "cell_type": "code",
   "execution_count": 18,
   "metadata": {},
   "outputs": [
    {
     "name": "stdout",
     "output_type": "stream",
     "text": [
      "Predictions     :  [0 0 0 ... 0 0 0]\n",
      "True Values     :  [0 0 0 ... 0 0 0]\n",
      "Confusion Matrix:\n",
      " [[1588    3]\n",
      " [ 307    6]]\n"
     ]
    },
    {
     "data": {
      "image/png": "[encoded data removed]",
      "text/plain": [
       "<Figure size 640x480 with 2 Axes>"
      ]
     },
     "metadata": {},
     "output_type": "display_data"
    },
    {
     "name": "stdout",
     "output_type": "stream",
     "text": [
      "Accuracy :  0.8371848739495799\n",
      "Precision:  0.8371848739495799\n",
      "Recall   :  0.8371848739495799\n",
      "F1 Score :  0.8371848739495799\n",
      "AUC      :  0.8371848739495799\n",
      "ROC AUC  :  0.8371848739495799\n",
      "ROC Curve:  0.8371848739495799\n"
     ]
    }
   ],
   "source": [
    "model       = LogisticRegression(solver='liblinear').fit(X_train, y_train)\n",
    "predictions = model.predict(X_test)\n",
    "print('Predictions     : ', predictions)\n",
    "print('True Values     : ', y_test.values)\n",
    "print('Confusion Matrix:\\n', confusion_matrix(y_test, predictions))\n",
    "cm = confusion_matrix(y_test, predictions)\n",
    "disp = ConfusionMatrixDisplay(confusion_matrix=cm, display_labels=model.classes_)\n",
    "disp.plot()\n",
    "plt.show()\n",
    "print('Accuracy : ', model.score(X_test, y_test))\n",
    "print('Precision: ', model.score(X_test, y_test))\n",
    "print('Recall   : ', model.score(X_test, y_test))\n",
    "print('F1 Score : ', model.score(X_test, y_test))\n",
    "print('AUC      : ', model.score(X_test, y_test))\n",
    "print('ROC AUC  : ', model.score(X_test, y_test))\n",
    "print('ROC Curve: ', model.score(X_test, y_test))"
   ]
  },
  {
   "cell_type": "markdown",
   "metadata": {},
   "source": [
    "The code `model.predict_proba(X_test)` returns the predicted probabilities for each class for every sample in the test set `X_test` using the trained logistic regression model. Instead of just predicting the most likely class label, this method provides the likelihood (as a value between 0 and 1) that each sample belongs to each possible class.\n",
    "\n",
    "The output is a NumPy array with shape `(n_samples, n_classes)`, where each row corresponds to a sample and each column corresponds to a class. For binary classification, the first column typically represents the probability of class 0 and the second column the probability of class 1. These probabilities are useful for evaluating model confidence, plotting ROC curves, or making threshold-based decisions rather than always choosing the most likely class."
   ]
  },
  {
   "cell_type": "code",
   "execution_count": 19,
   "metadata": {},
   "outputs": [
    {
     "name": "stdout",
     "output_type": "stream",
     "text": [
      "Model Predictions Probabilities:\n",
      " [[0.91041022 0.08958978]\n",
      " [0.89648471 0.10351529]\n",
      " [0.88444363 0.11555637]\n",
      " ...\n",
      " [0.81793554 0.18206446]\n",
      " [0.91537428 0.08462572]\n",
      " [0.87010572 0.12989428]]\n"
     ]
    }
   ],
   "source": [
    "print('Model Predictions Probabilities:\\n', model.predict_proba(X_test))"
   ]
  },
  {
   "cell_type": "markdown",
   "metadata": {},
   "source": [
    "## Accuracy\n",
    "This code calculates and prints the accuracy of a classification model's predictions. \\\n",
    "The expression `(predictions == y_test)` creates a Boolean array where each element is `True` if the predicted label matches the actual label in `y_test`, and `False` otherwise. Taking the `.mean()` of this Boolean array converts `True` to 1 and `False` to 0, resulting in the proportion of correct predictions—this is the model's accuracy.\n",
    "\n",
    "The second line uses the `print` function to display the calculated accuracy with a descriptive label. Accuracy is a common metric for evaluating classification models, representing the fraction of test samples that were correctly classified."
   ]
  },
  {
   "cell_type": "code",
   "execution_count": 20,
   "metadata": {},
   "outputs": [
    {
     "name": "stdout",
     "output_type": "stream",
     "text": [
      "Accuracy: 0.8371848739495799\n"
     ]
    }
   ],
   "source": [
    "accuracy = (predictions == y_test).mean()\n",
    "print('Accuracy:', accuracy)"
   ]
  },
  {
   "cell_type": "markdown",
   "metadata": {},
   "source": [
    "This line prints the mean accuracy of the trained model on the test dataset. The `model.score(X_test, y_test)` method calculates the proportion of correct predictions by comparing the model's predicted labels for `X_test` with the actual labels in `y_test`. Internally, it uses the `predict` method to generate predictions and then computes the accuracy as the fraction of matches. The result is a floating-point value between 0 and 1, representing the percentage of test samples that were classified correctly. The `print` function displays this value with the label `'Model Mean Accuracy:'`, providing a straightforward summary of the model's performance on unseen data."
   ]
  },
  {
   "cell_type": "code",
   "execution_count": 21,
   "metadata": {},
   "outputs": [
    {
     "name": "stdout",
     "output_type": "stream",
     "text": [
      "Model Mean Accuracy: 0.8371848739495799\n"
     ]
    }
   ],
   "source": [
    "print('Model Mean Accuracy:', model.score(X_test, y_test))"
   ]
  },
  {
   "cell_type": "markdown",
   "metadata": {},
   "source": [
    "This code calculates the four fundamental components of a confusion matrix for a binary classification problem:\\\n",
    "- true positives (tp)\n",
    "- true negatives (tn)\n",
    "- false positives (fp)\n",
    "- false negatives (fn)\n",
    "\n",
    "Each line creates a Boolean Series indicating which samples fall into each category.\n",
    "\n",
    "- `tp` (true positives) identifies cases where the model predicted class 1 and the actual label is also 1. \\\n",
    "It uses a logical AND between `predictions == 1` and `y_test == 1`.\n",
    "- `tn` (true negatives) finds cases where the model predicted class 0 and the actual label is 0.\n",
    "- `fp` (false positives) marks cases where the model predicted class 1 but the actual label is 0.\n",
    "- `fn` (false negatives) captures cases where the model predicted class 0 but the actual label is 1.\n",
    "\n",
    "The use of `pd.Series` ensures the predictions are in a pandas Series format, and `.reset_index(drop=True)` aligns the indices of `y_test` with the predictions, which is important if the indices do not match after splitting the data. These Boolean Series can be summed to count the number of occurrences in each category, which is useful for calculating metrics like precision, recall, and F1 score."
   ]
  },
  {
   "cell_type": "code",
   "execution_count": 22,
   "metadata": {},
   "outputs": [],
   "source": [
    "tp = pd.Series(predictions == 1) & (y_test == 1).reset_index(drop=True)\n",
    "tn = pd.Series(predictions == 0) & (y_test == 0).reset_index(drop=True)\n",
    "fp = pd.Series(predictions == 1) & (y_test == 0).reset_index(drop=True)\n",
    "fn = pd.Series(predictions == 0) & (y_test == 1).reset_index(drop=True)"
   ]
  },
  {
   "cell_type": "markdown",
   "metadata": {},
   "source": [
    "This code prints the counts of each category in the confusion matrix for a binary classification problem. The variables `tp`, `tn`, `fp`, and `fn` are Boolean Series that indicate true positives, true negatives, false positives, and false negatives, respectively. By calling `.sum()` on each Series, the code counts the number of samples that fall into each category.\n",
    "\n",
    "- `True Positives :` displays the number of cases where the model correctly predicted the positive class.\n",
    "- `True Negatives :` shows the number of cases where the model correctly predicted the negative class.\n",
    "- `False Positives:` gives the count of cases where the model incorrectly predicted the positive class (type I error).\n",
    "- `False Negatives:` reports the number of cases where the model incorrectly predicted the negative class (type II error).\n",
    "\n",
    "Printing these values helps you understand the types of errors your model is making and is essential for calculating other performance metrics like precision, recall, and F1 score."
   ]
  },
  {
   "cell_type": "code",
   "execution_count": 23,
   "metadata": {},
   "outputs": [
    {
     "name": "stdout",
     "output_type": "stream",
     "text": [
      "True Positives : 6\n",
      "True Negatives : 1588\n",
      "False Positives: 3\n",
      "False Negatives: 307\n"
     ]
    }
   ],
   "source": [
    "print('True Positives :', tp.sum())\n",
    "print('True Negatives :', tn.sum())\n",
    "print('False Positives:', fp.sum())\n",
    "print('False Negatives:', fn.sum())   "
   ]
  },
  {
   "cell_type": "markdown",
   "metadata": {},
   "source": [
    "This code creates a pandas DataFrame from the confusion matrix generated by comparing the true labels (`y_test`) with the predicted labels (`predictions`). The `confusion_matrix` function from scikit-learn returns a 2D NumPy array where each row represents the actual class and each column represents the predicted class. For binary classification, the resulting matrix is 2x2, showing the counts of true negatives, false positives, false negatives, and true positives. Wrapping this matrix with `pd.DataFrame` makes it easier to view and analyze in a tabular format, which is especially useful in Jupyter notebooks or Visual Studio Code's interactive window. This table helps you quickly assess how well the model is distinguishing between the classes and where it is making errors."
   ]
  },
  {
   "cell_type": "code",
   "execution_count": 24,
   "metadata": {},
   "outputs": [
    {
     "data": {
      "application/vnd.microsoft.datawrangler.viewer.v0+json": {
       "columns": [
        {
         "name": "index",
         "rawType": "int64",
         "type": "integer"
        },
        {
         "name": "0",
         "rawType": "int64",
         "type": "integer"
        },
        {
         "name": "1",
         "rawType": "int64",
         "type": "integer"
        }
       ],
       "ref": "d9bd64e9-f980-47fd-a336-0e3f2ee53549",
       "rows": [
        [
         "0",
         "1588",
         "3"
        ],
        [
         "1",
         "307",
         "6"
        ]
       ],
       "shape": {
        "columns": 2,
        "rows": 2
       }
      },
      "text/html": [
       "<div>\n",
       "<style scoped>\n",
       "    .dataframe tbody tr th:only-of-type {\n",
       "        vertical-align: middle;\n",
       "    }\n",
       "\n",
       "    .dataframe tbody tr th {\n",
       "        vertical-align: top;\n",
       "    }\n",
       "\n",
       "    .dataframe thead th {\n",
       "        text-align: right;\n",
       "    }\n",
       "</style>\n",
       "<table border=\"1\" class=\"dataframe\">\n",
       "  <thead>\n",
       "    <tr style=\"text-align: right;\">\n",
       "      <th></th>\n",
       "      <th>0</th>\n",
       "      <th>1</th>\n",
       "    </tr>\n",
       "  </thead>\n",
       "  <tbody>\n",
       "    <tr>\n",
       "      <th>0</th>\n",
       "      <td>1588</td>\n",
       "      <td>3</td>\n",
       "    </tr>\n",
       "    <tr>\n",
       "      <th>1</th>\n",
       "      <td>307</td>\n",
       "      <td>6</td>\n",
       "    </tr>\n",
       "  </tbody>\n",
       "</table>\n",
       "</div>"
      ],
      "text/plain": [
       "      0  1\n",
       "0  1588  3\n",
       "1   307  6"
      ]
     },
     "execution_count": 24,
     "metadata": {},
     "output_type": "execute_result"
    }
   ],
   "source": [
    "pd.DataFrame(confusion_matrix(y_test, predictions))"
   ]
  },
  {
   "cell_type": "markdown",
   "metadata": {},
   "source": [
    "This code extracts the individual counts for true negatives (tn), false positives (fp), false negatives (fn), and true positives (tp) from the confusion matrix produced by comparing the true labels (`y_test`) with the predicted labels (`predictions`). The `confusion_matrix` function returns a 2x2 NumPy array for binary classification, where each element represents the count of a specific outcome: true negatives in the top-left, false positives in the top-right, false negatives in the bottom-left, and true positives in the bottom-right.\n",
    "\n",
    "The `.ravel()` method flattens this 2D array into a 1D array, making it easy to unpack the four values directly into the variables `tn`, `fp`, `fn`, and `tp`. The second line simply outputs these values, allowing you to quickly inspect the number of each type of prediction outcome. This breakdown is useful for calculating detailed performance metrics such as precision, recall, and F1 score, and for understanding the types of errors the model is making."
   ]
  },
  {
   "cell_type": "code",
   "execution_count": 25,
   "metadata": {},
   "outputs": [
    {
     "name": "stdout",
     "output_type": "stream",
     "text": [
      "Confusion Matrix - True Positives : 6\n",
      "Confusion Matrix - True Negatives : 1588\n",
      "Confusion Matrix - False Positives: 3\n",
      "Confusion Matrix - False Negatives: 307\n"
     ]
    }
   ],
   "source": [
    "tn, fp, fn, tp = confusion_matrix(y_test, predictions).ravel()\n",
    "print('Confusion Matrix - True Positives :', tp)\n",
    "print('Confusion Matrix - True Negatives :', tn)\n",
    "print('Confusion Matrix - False Positives:', fp)\n",
    "print('Confusion Matrix - False Negatives:', fn)\n"
   ]
  },
  {
   "cell_type": "markdown",
   "metadata": {},
   "source": [
    "This code visualizes the confusion matrix for the model's predictions using scikit-learn's `ConfusionMatrixDisplay`. The `from_predictions` method takes the true labels (`y_test`) and the predicted labels (`predictions`) to compute the confusion matrix and then creates a plot displaying the counts of true positives, true negatives, false positives, and false negatives in a grid format. Calling `plt.show()` renders the plot, making it easy to visually assess the model's classification performance and quickly identify where the model is making correct or incorrect predictions. This graphical representation is especially helpful for interpreting results and communicating model performance."
   ]
  },
  {
   "cell_type": "code",
   "execution_count": 32,
   "metadata": {},
   "outputs": [
    {
     "data": {
      "image/png": "[encoded data removed]",
      "text/plain": [
       "<Figure size 640x480 with 2 Axes>"
      ]
     },
     "metadata": {},
     "output_type": "display_data"
    }
   ],
   "source": [
    "ConfusionMatrixDisplay.from_predictions(y_test, predictions)\n",
    "plt.title('Confusion Matrix - Logistic Regression - Predictions')\n",
    "plt.xlabel('Predicted')\n",
    "plt.ylabel('True')\n",
    "plt.xticks([0, 1], ['No Default', 'Default'])\n",
    "plt.yticks([0, 1], ['No Default', 'Default'])\n",
    "plt.gca().set_xticklabels(['ND', 'D'])\n",
    "plt.gca().set_yticklabels(['ND', 'D'])\n",
    "plt.show()"
   ]
  },
  {
   "cell_type": "markdown",
   "metadata": {},
   "source": [
    "This code generates a visual representation of the confusion matrix for a trained classification model using scikit-learn's `ConfusionMatrixDisplay`. The `from_estimator` method takes the fitted model (`model`), the test feature set (`X_test`), and the true test labels (`y_test`). It uses the model to predict labels for `X_test` and then computes the confusion matrix by comparing these predictions to the actual labels. The resulting plot shows the counts of true positives, true negatives, false positives, and false negatives in a grid format. Calling `plt.show()` displays the plot, making it easy to interpret the model's classification performance at a glance. This visualization is useful for quickly identifying where the model is making correct and incorrect predictions."
   ]
  },
  {
   "cell_type": "code",
   "execution_count": 27,
   "metadata": {},
   "outputs": [
    {
     "data": {
      "image/png": "[encoded data removed]",
      "text/plain": [
       "<Figure size 640x480 with 2 Axes>"
      ]
     },
     "metadata": {},
     "output_type": "display_data"
    }
   ],
   "source": [
    "ConfusionMatrixDisplay.from_estimator(model, X_test, y_test)\n",
    "plt.title('Confusion Matrix - Logistic Regression - Estimator')\n",
    "plt.xlabel('Predicted')\n",
    "plt.ylabel('True')\n",
    "plt.xticks([0, 1], ['No Default', 'Default'])\n",
    "plt.yticks([0, 1], ['No Default', 'Default'])\n",
    "plt.gca().set_xticklabels(['ND', 'D'])\n",
    "plt.gca().set_yticklabels(['ND', 'D'])\n",
    "plt.show()"
   ]
  },
  {
   "cell_type": "markdown",
   "metadata": {},
   "source": [
    "This code calculates three important evaluation metrics for a binary classification model: precision, recall, and F1 score. \n",
    "\n",
    "- **Precision** is computed as `tp / (tp + fp)`, where `tp` is the number of true positives and `fp` is the number of false positives. Precision measures the proportion of positive predictions that are actually correct, indicating how reliable the model's positive predictions are.\n",
    "- **Recall** is calculated as `tp / (tp + fn)`, where `fn` is the number of false negatives. Recall measures the proportion of actual positives that the model correctly identified, reflecting the model's ability to find all relevant cases.\n",
    "- **F1 score** is the harmonic mean of precision and recall, given by `2 * precision * recall / (precision + recall)`. The F1 score provides a single metric that balances both precision and recall, making it especially useful when you want to find an optimal trade-off between these two metrics.\n",
    "\n",
    "The `print` statements then display the calculated values for precision, recall, and F1 score, helping you assess the model's performance beyond simple accuracy, especially in cases where class imbalance is a concern."
   ]
  },
  {
   "cell_type": "code",
   "execution_count": 28,
   "metadata": {},
   "outputs": [
    {
     "name": "stdout",
     "output_type": "stream",
     "text": [
      "Precision:  0.6666666666666666\n",
      "Recall   :  0.019169329073482427\n",
      "F1 Score :  0.037267080745341616\n"
     ]
    }
   ],
   "source": [
    "precision = tp / (tp + fp)\n",
    "recall    = tp / (tp + fn)\n",
    "f1_score  = 2 * precision * recall / (precision + recall)\n",
    "print('Precision: ',precision)\n",
    "print('Recall   : ', recall)\n",
    "print('F1 Score : ', f1_score)"
   ]
  }
 ],
 "metadata": {
  "kernelspec": {
   "display_name": "dev1",
   "language": "python",
   "name": "python3"
  },
  "language_info": {
   "codemirror_mode": {
    "name": "ipython",
    "version": 3
   },
   "file_extension": ".py",
   "mimetype": "text/x-python",
   "name": "python",
   "nbconvert_exporter": "python",
   "pygments_lexer": "ipython3",
   "version": "3.13.3"
  }
 },
 "nbformat": 4,
 "nbformat_minor": 4
}
