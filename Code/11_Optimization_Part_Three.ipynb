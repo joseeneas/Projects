{
 "cells": [
  {
   "cell_type": "markdown",
   "metadata": {},
   "source": [
    "# PROFESSIONAL CERTIFICATE IN DATA SCIENCE AND ANALYTICS\n",
    "# Optimization: Part Three\n",
    "\n",
    "This code imports several key Python libraries commonly used for data analysis, optimization, and visualization:\n",
    "\n",
    "- `import numpy as np`: Imports NumPy, a fundamental library for numerical operations, especially for handling arrays and mathematical computations.\n",
    "- `import pandas as pd`: Imports pandas, a powerful library for data manipulation and analysis, particularly useful for working with tabular data.\n",
    "- `import gurobipy as gp` and `from gurobipy import GRB`: Import the Gurobi optimization library. `gurobipy` provides tools for building and solving mathematical optimization models, and `GRB` gives access to Gurobi's set of constants (such as variable types and status codes).\n",
    "- `from matplotlib import pyplot as plt`: Imports the `pyplot` module from Matplotlib, which is widely used for creating plots and visualizations.\n",
    "\n",
    "The `# type: ignore` comments are included to suppress type-checking warnings from static analysis tools, which can be useful if type stubs for these libraries are missing. Together, these imports set up the environment for numerical computation, data handling, optimization modeling, and result visualization."
   ]
  },
  {
   "cell_type": "code",
   "execution_count": 1,
   "metadata": {},
   "outputs": [],
   "source": [
    "import numpy      as     np            # type: ignore\n",
    "import pandas     as     pd            # type: ignore\n",
    "import gurobipy   as     gp            # type: ignore\n",
    "from   gurobipy   import GRB           # type: ignore\n",
    "from   matplotlib import pyplot as plt # type: ignore"
   ]
  },
  {
   "cell_type": "markdown",
   "metadata": {},
   "source": [
    "## Linear model to predict demand\n",
    "This code defines the coefficients for a linear regression model used to predict demand based on price and seasonality. The variable `intercept` is the baseline value for demand when all other variables are zero. `p_coeff` is the coefficient for the current week's price, indicating that as price increases, demand decreases (since the value is negative). `p1_coeff` and `p2_coeff` are the coefficients for the prices in the previous two weeks, capturing the effect of past prices on current demand.\n",
    "\n",
    "The dictionary `season_coeff` assigns a specific adjustment to the demand prediction for each season (represented by numbers 1 through 13). Each key corresponds to a season, and the value is the coefficient that will be added to the demand for that season. This allows the model to account for seasonal fluctuations in demand, such as higher demand in certain months or promotional periods. Together, these coefficients enable the construction of a demand prediction formula that incorporates both price history and seasonality."
   ]
  },
  {
   "cell_type": "code",
   "execution_count": 2,
   "metadata": {},
   "outputs": [],
   "source": [
    "intercept =  2181\n",
    "p_coeff   = -2801\n",
    "p1_coeff  =   929\n",
    "p2_coeff  =   728\n",
    "season_coeff = { 1:        0,\n",
    "                 2: -555.430,\n",
    "                 3:   81.746,\n",
    "                 4: -406.774,\n",
    "                 5:  -26.122,\n",
    "                 6:   -8.292,\n",
    "                 7:  -39.334,\n",
    "                 8:  -81.407,\n",
    "                 9:  148.728,\n",
    "                10: 1107.254,\n",
    "                11: 1125.259,\n",
    "                12: 1171.240,\n",
    "                13:  949.056}"
   ]
  },
  {
   "cell_type": "markdown",
   "metadata": {},
   "source": [
    "$$ \\mathrm{demand}_t = \\mathrm{intercept} + \\mathrm{p_coeff} \\cdot p_t + \\mathrm{p1_coeff} \\cdot p_{t-1} + \\mathrm{p2_coeff} \\cdot p_{t-2} + \\sum{\\mathrm{season_coef}_i \\cdot \\mathrm{season}_i} $$\n",
    "\n",
    "## Model 1 - Basic price optimization\n",
    "\n",
    "This code creates a list of consecutive integers representing week numbers. The expression `range(157, 170)` generates a sequence of integers starting at 157 and ending at 169 (the stop value is exclusive). Wrapping this range with `list()` converts the sequence into a list object, so `weeks` becomes `[157, 158, 159, 160, 161, 162, 163, 164, 165, 166, 167, 168, 169]`. The second line, `weeks`, simply outputs the list, which is useful for confirming its contents or for use in subsequent code, such as iterating over these week numbers in a loop or as indices in an optimization model."
   ]
  },
  {
   "cell_type": "code",
   "execution_count": 3,
   "metadata": {},
   "outputs": [
    {
     "data": {
      "text/plain": [
       "[157, 158, 159, 160, 161, 162, 163, 164, 165, 166, 167, 168, 169]"
      ]
     },
     "execution_count": 3,
     "metadata": {},
     "output_type": "execute_result"
    }
   ],
   "source": [
    "weeks = list(range(157, 170))\n",
    "weeks"
   ]
  },
  {
   "cell_type": "markdown",
   "metadata": {},
   "source": [
    "This code creates a dictionary called `season` that maps each week number in the `weeks` list to a corresponding season index. For each week `w`, the expression `w % 52` calculates the week’s position within a 52-week year (wrapping around after week 51). Dividing this value by 4 and applying `np.ceil` groups the weeks into 13 roughly equal \"seasons\" (since 52 / 4 = 13). The result is then converted to an integer with `int()`, ensuring the season index is a whole number.\n",
    "\n",
    "The dictionary comprehension `{w: int(np.ceil(w % 52 / 4)) for w in weeks}` iterates over all week numbers in `weeks`, assigning each week to its calculated season. The final `season` dictionary allows you to quickly look up the season index for any week in your range, which is useful for applying season-specific coefficients in demand prediction or optimization models."
   ]
  },
  {
   "cell_type": "code",
   "execution_count": 4,
   "metadata": {},
   "outputs": [
    {
     "data": {
      "text/plain": [
       "{157: 1,\n",
       " 158: 1,\n",
       " 159: 1,\n",
       " 160: 1,\n",
       " 161: 2,\n",
       " 162: 2,\n",
       " 163: 2,\n",
       " 164: 2,\n",
       " 165: 3,\n",
       " 166: 3,\n",
       " 167: 3,\n",
       " 168: 3,\n",
       " 169: 4}"
      ]
     },
     "execution_count": 4,
     "metadata": {},
     "output_type": "execute_result"
    }
   ],
   "source": [
    "season = {w: int(np.ceil(w % 52 / 4)) for w in weeks}\n",
    "season"
   ]
  },
  {
   "cell_type": "markdown",
   "metadata": {},
   "source": [
    "This code creates a new optimization model using the Gurobi library. The statement `mod1 = gp.Model('price_model_1')` initializes a Gurobi model object named `'price_model_1'` and assigns it to the variable `mod1`. This model will be used to define variables, constraints, and the objective function for an optimization problem—typically, in this context, for price optimization.\n",
    "\n",
    "The second line, `mod1`, simply outputs the model object. In a Jupyter notebook or interactive environment, this displays a summary or description of the model, which can help confirm that the model was created successfully and is ready for further configuration."
   ]
  },
  {
   "cell_type": "code",
   "execution_count": 5,
   "metadata": {},
   "outputs": [
    {
     "name": "stdout",
     "output_type": "stream",
     "text": [
      "Restricted license - for non-production use only - expires 2026-11-23\n"
     ]
    },
    {
     "data": {
      "text/plain": [
       "<gurobi.Model Continuous instance price_model_1: 0 constrs, 0 vars, No parameter changes>"
      ]
     },
     "execution_count": 5,
     "metadata": {},
     "output_type": "execute_result"
    }
   ],
   "source": [
    "mod1 = gp.Model('price_model_1')\n",
    "mod1"
   ]
  },
  {
   "cell_type": "markdown",
   "metadata": {},
   "source": [
    "This code adds a set of decision variables to the Gurobi model `mod1` using the `addVars` method. The argument `weeks` specifies that one variable will be created for each week in the `weeks` list. The parameter `ub=1` sets an upper bound of 1 for each variable, meaning that the value of each variable cannot exceed 1. By default, these variables are continuous and have a lower bound of 0.\n",
    "\n",
    "The resulting collection of variables is stored in the dictionary-like object `p`, where each key is a week number and each value is the corresponding Gurobi variable. The second line, `p`, simply outputs this collection, allowing you to inspect the variables that have been added to the model. This setup is commonly used in optimization problems where you need to make a decision (such as setting a price or allocation) for each time period."
   ]
  },
  {
   "cell_type": "code",
   "execution_count": 6,
   "metadata": {},
   "outputs": [
    {
     "data": {
      "text/plain": [
       "{157: <gurobi.Var *Awaiting Model Update*>,\n",
       " 158: <gurobi.Var *Awaiting Model Update*>,\n",
       " 159: <gurobi.Var *Awaiting Model Update*>,\n",
       " 160: <gurobi.Var *Awaiting Model Update*>,\n",
       " 161: <gurobi.Var *Awaiting Model Update*>,\n",
       " 162: <gurobi.Var *Awaiting Model Update*>,\n",
       " 163: <gurobi.Var *Awaiting Model Update*>,\n",
       " 164: <gurobi.Var *Awaiting Model Update*>,\n",
       " 165: <gurobi.Var *Awaiting Model Update*>,\n",
       " 166: <gurobi.Var *Awaiting Model Update*>,\n",
       " 167: <gurobi.Var *Awaiting Model Update*>,\n",
       " 168: <gurobi.Var *Awaiting Model Update*>,\n",
       " 169: <gurobi.Var *Awaiting Model Update*>}"
      ]
     },
     "execution_count": 6,
     "metadata": {},
     "output_type": "execute_result"
    }
   ],
   "source": [
    "p = mod1.addVars(weeks, ub=1)\n",
    "p"
   ]
  },
  {
   "cell_type": "markdown",
   "metadata": {},
   "source": [
    "This code sets the objective function for the Gurobi optimization model `mod1`. The objective is to maximize the total predicted revenue (or another target metric) over a sequence of weeks, taking into account the effects of price and seasonality on demand.\n",
    "\n",
    "The expression inside `setObjective` calculates the predicted demand for each week using a linear model. For week 157, the demand is computed using the intercept, the price for week 157, and fixed values (1) for the prices in the two previous weeks (since there is no data for weeks before 157). For week 158, the demand uses the price for week 158, the price for week 157, and again a fixed value for the price two weeks prior. For all subsequent weeks (from week 159 onward), the demand is calculated using the current week's price, the prices from the previous two weeks, and the season-specific adjustment.\n",
    "\n",
    "Each term is multiplied by the corresponding price variable for that week, and the sum of these terms forms the objective function. The `GRB.MAXIMIZE` argument tells Gurobi to maximize this objective. This setup allows the model to find the optimal set of weekly prices that will maximize the predicted outcome, considering both price history and seasonal effects."
   ]
  },
  {
   "cell_type": "code",
   "execution_count": 7,
   "metadata": {},
   "outputs": [],
   "source": [
    "mod1.setObjective(\n",
    "      p[157] * (intercept + p_coeff*p[157] + p1_coeff*1      + p2_coeff*1      + season_coeff[season[157]]) +\n",
    "      p[158] * (intercept + p_coeff*p[158] + p1_coeff*p[157] + p2_coeff*1      + season_coeff[season[158]]) +\n",
    "    sum(p[w] * (intercept + p_coeff*p[w]   + p1_coeff*p[w-1] + p2_coeff*p[w-2] + season_coeff[season[w]]) for w in weeks[2:]),\n",
    "    GRB.MAXIMIZE)"
   ]
  },
  {
   "cell_type": "code",
   "execution_count": 8,
   "metadata": {},
   "outputs": [
    {
     "name": "stdout",
     "output_type": "stream",
     "text": [
      "Gurobi Optimizer version 12.0.1 build v12.0.1rc0 (mac64[arm] - Darwin 24.5.0 24F74)\n",
      "\n",
      "CPU model: Apple M4 Max\n",
      "Thread count: 16 physical cores, 16 logical processors, using up to 16 threads\n",
      "\n",
      "Optimize a model with 0 rows, 13 columns and 0 nonzeros\n",
      "Model fingerprint: 0x7ae80c7d\n",
      "Model has 36 quadratic objective terms\n",
      "Coefficient statistics:\n",
      "  Matrix range     [0e+00, 0e+00]\n",
      "  Objective range  [2e+03, 4e+03]\n",
      "  QObjective range [1e+03, 6e+03]\n",
      "  Bounds range     [1e+00, 1e+00]\n",
      "  RHS range        [0e+00, 0e+00]\n",
      "Presolve time: 0.00s\n",
      "Presolved: 0 rows, 13 columns, 0 nonzeros\n",
      "Presolved model has 36 quadratic objective terms\n",
      "Ordering time: 0.00s\n",
      "\n",
      "Barrier statistics:\n",
      " Free vars  : 12\n",
      " AA' NZ     : 6.600e+01\n",
      " Factor NZ  : 7.800e+01\n",
      " Factor Ops : 6.500e+02 (less than 1 second per iteration)\n",
      " Threads    : 1\n",
      "\n",
      "                  Objective                Residual\n",
      "Iter       Primal          Dual         Primal    Dual     Compl     Time\n",
      "   0  -1.32380362e+08  1.75513527e+08  9.99e+02 3.08e+02  1.00e+06     0s\n",
      "   1   2.61895816e+04  1.63637564e+07  6.73e-01 2.18e-01  1.32e+03     0s\n",
      "   2   9.19207543e+03  4.70158407e+06  6.73e-07 2.18e-07  1.76e+02     0s\n",
      "   3   9.22399396e+03  2.70755395e+04  1.74e-09 5.65e-10  6.71e-01     0s\n",
      "   4   1.15271732e+04  1.36155605e+04  1.78e-15 8.88e-16  7.84e-02     0s\n",
      "   5   1.20342073e+04  1.22921856e+04  2.22e-16 8.88e-16  9.69e-03     0s\n",
      "   6   1.20722271e+04  1.20902670e+04  2.22e-16 1.33e-15  6.78e-04     0s\n",
      "   7   1.20735205e+04  1.20740704e+04  6.11e-16 1.33e-15  2.07e-05     0s\n",
      "   8   1.20735280e+04  1.20735291e+04  6.00e-15 4.44e-16  4.04e-08     0s\n",
      "   9   1.20735280e+04  1.20735280e+04  9.21e-15 4.44e-16  4.04e-11     0s\n",
      "\n",
      "Barrier solved model in 9 iterations and 0.01 seconds (0.00 work units)\n",
      "Optimal objective 1.20735280e+04\n",
      "\n"
     ]
    }
   ],
   "source": [
    "mod1.optimize()"
   ]
  },
  {
   "cell_type": "markdown",
   "metadata": {},
   "source": [
    "The variable `p` is a collection of decision variables created using Gurobi's `addVars` method. In this context, `p` is typically a dictionary-like object where each key corresponds to a week number and each value is a Gurobi variable representing the price (or another decision variable) for that week. By evaluating or displaying `p`, you can inspect the set of variables that have been added to the optimization model. This is useful for confirming that the variables were created as expected and for referencing them in constraints or the objective function elsewhere in your code."
   ]
  },
  {
   "cell_type": "code",
   "execution_count": 9,
   "metadata": {},
   "outputs": [
    {
     "data": {
      "text/plain": [
       "{157: <gurobi.Var C0 (value 0.9621363051399718)>,\n",
       " 158: <gurobi.Var C1 (value 0.9480218163490661)>,\n",
       " 159: <gurobi.Var C2 (value 0.9219441427475347)>,\n",
       " 160: <gurobi.Var C3 (value 0.8949278599275816)>,\n",
       " 161: <gurobi.Var C4 (value 0.7846093528798059)>,\n",
       " 162: <gurobi.Var C5 (value 0.7648870765280024)>,\n",
       " 163: <gurobi.Var C6 (value 0.7646540974597961)>,\n",
       " 164: <gurobi.Var C7 (value 0.7809810100556894)>,\n",
       " 165: <gurobi.Var C8 (value 0.8938395503299117)>,\n",
       " 166: <gurobi.Var C9 (value 0.8954769613002364)>,\n",
       " 167: <gurobi.Var C10 (value 0.8659965970583492)>,\n",
       " 168: <gurobi.Var C11 (value 0.7558708530395326)>,\n",
       " 169: <gurobi.Var C12 (value 0.554601132654731)>}"
      ]
     },
     "execution_count": 9,
     "metadata": {},
     "output_type": "execute_result"
    }
   ],
   "source": [
    "p"
   ]
  },
  {
   "cell_type": "markdown",
   "metadata": {},
   "source": [
    "This code visualizes the optimized weekly prices obtained from the Gurobi model. First, it creates a list called `prices` by extracting the optimized value (`.x`) of each price decision variable `p[w]` for every week in the `weeks` list. This results in a sequence of price values corresponding to each week.\n",
    "\n",
    "The next two lines plot these prices: `plt.plot(weeks, prices)` draws a line plot showing how the price changes over the weeks, while `plt.scatter(weeks, prices)` overlays individual data points for each week, making it easier to see the exact values. The following lines label the x-axis as \"Week number\" and the y-axis as \"Price ($)\" for clarity. Finally, `plt.show()` displays the plot. This visualization helps you quickly interpret the pricing strategy determined by the optimization model across the selected time period."
   ]
  },
  {
   "cell_type": "code",
   "execution_count": 10,
   "metadata": {},
   "outputs": [
    {
     "data": {
      "image/png": "[encoded data removed]",
      "text/plain": [
       "<Figure size 640x480 with 1 Axes>"
      ]
     },
     "metadata": {},
     "output_type": "display_data"
    }
   ],
   "source": [
    "prices = [p[w].x for w in weeks]\n",
    "plt.plot(weeks, prices)\n",
    "plt.scatter(weeks, prices)\n",
    "plt.xlabel('Week number')\n",
    "plt.ylabel('Price ($)')\n",
    "plt.show()"
   ]
  },
  {
   "cell_type": "markdown",
   "metadata": {},
   "source": [
    "## Model 2 - Adding a price ladder constraint\n",
    "The decision variables (weekly prices) can only take values from a limited set of possibilities."
   ]
  },
  {
   "cell_type": "markdown",
   "metadata": {},
   "source": [
    "This code sets up the second optimization model, `mod2`, for price optimization with a price ladder constraint. The list `p_ladder` defines the set of allowable prices: 1.0, 0.9, 0.8, and 0.7. The model `mod2` is created using Gurobi's `Model` class.\n",
    "\n",
    "The variable `p` is a set of decision variables, one for each week in the `weeks` list, representing the price chosen for that week. The variable `x` is a set of binary decision variables indexed by both week and price ladder value; `x[w, k]` is 1 if price `k` is selected for week `w`, and 0 otherwise.\n",
    "\n",
    "The objective function, set with `mod2.setObjective`, is the same as in the previous model: it maximizes the total predicted revenue (or another target metric) over all weeks, using a linear demand model that incorporates the effects of current and past prices as well as seasonality. The use of the price ladder and binary variables allows the model to later enforce constraints that restrict weekly prices to the specified ladder values."
   ]
  },
  {
   "cell_type": "code",
   "execution_count": 11,
   "metadata": {},
   "outputs": [],
   "source": [
    "p_ladder = [1.0, 0.9, 0.8, 0.7]\n",
    "mod2     = gp.Model('price_model_2')\n",
    "p        = mod2.addVars(weeks) # No need to set the upper bound as it will be added later as a contraint.\n",
    "x        = mod2.addVars(weeks, p_ladder, vtype=GRB.BINARY)\n",
    "mod2.setObjective(\n",
    "      p[157] * (intercept + p_coeff*p[157] + p1_coeff*1      + p2_coeff*1      + season_coeff[season[157]]) +\n",
    "      p[158] * (intercept + p_coeff*p[158] + p1_coeff*p[157] + p2_coeff*1      + season_coeff[season[158]]) +\n",
    "    sum(p[w] * (intercept + p_coeff*p[w]   + p1_coeff*p[w-1] + p2_coeff*p[w-2] + season_coeff[season[w]]) for w in weeks[2:]),\n",
    "    GRB.MAXIMIZE)"
   ]
  },
  {
   "cell_type": "markdown",
   "metadata": {},
   "source": [
    "The variable `x` is a collection of binary decision variables created using Gurobi's `addVars` method. In this context, `x` is indexed by both week and price ladder value, so each `x[w, k]` represents whether price `k` is selected for week `w` (1 if selected, 0 otherwise). Displaying `x` allows you to inspect these variables, which are essential for enforcing constraints that ensure only one price from the ladder is chosen per week and for modeling price selection in the optimization problem."
   ]
  },
  {
   "cell_type": "code",
   "execution_count": 12,
   "metadata": {},
   "outputs": [
    {
     "data": {
      "text/plain": [
       "{(157, 1.0): <gurobi.Var *Awaiting Model Update*>,\n",
       " (157, 0.9): <gurobi.Var *Awaiting Model Update*>,\n",
       " (157, 0.8): <gurobi.Var *Awaiting Model Update*>,\n",
       " (157, 0.7): <gurobi.Var *Awaiting Model Update*>,\n",
       " (158, 1.0): <gurobi.Var *Awaiting Model Update*>,\n",
       " (158, 0.9): <gurobi.Var *Awaiting Model Update*>,\n",
       " (158, 0.8): <gurobi.Var *Awaiting Model Update*>,\n",
       " (158, 0.7): <gurobi.Var *Awaiting Model Update*>,\n",
       " (159, 1.0): <gurobi.Var *Awaiting Model Update*>,\n",
       " (159, 0.9): <gurobi.Var *Awaiting Model Update*>,\n",
       " (159, 0.8): <gurobi.Var *Awaiting Model Update*>,\n",
       " (159, 0.7): <gurobi.Var *Awaiting Model Update*>,\n",
       " (160, 1.0): <gurobi.Var *Awaiting Model Update*>,\n",
       " (160, 0.9): <gurobi.Var *Awaiting Model Update*>,\n",
       " (160, 0.8): <gurobi.Var *Awaiting Model Update*>,\n",
       " (160, 0.7): <gurobi.Var *Awaiting Model Update*>,\n",
       " (161, 1.0): <gurobi.Var *Awaiting Model Update*>,\n",
       " (161, 0.9): <gurobi.Var *Awaiting Model Update*>,\n",
       " (161, 0.8): <gurobi.Var *Awaiting Model Update*>,\n",
       " (161, 0.7): <gurobi.Var *Awaiting Model Update*>,\n",
       " (162, 1.0): <gurobi.Var *Awaiting Model Update*>,\n",
       " (162, 0.9): <gurobi.Var *Awaiting Model Update*>,\n",
       " (162, 0.8): <gurobi.Var *Awaiting Model Update*>,\n",
       " (162, 0.7): <gurobi.Var *Awaiting Model Update*>,\n",
       " (163, 1.0): <gurobi.Var *Awaiting Model Update*>,\n",
       " (163, 0.9): <gurobi.Var *Awaiting Model Update*>,\n",
       " (163, 0.8): <gurobi.Var *Awaiting Model Update*>,\n",
       " (163, 0.7): <gurobi.Var *Awaiting Model Update*>,\n",
       " (164, 1.0): <gurobi.Var *Awaiting Model Update*>,\n",
       " (164, 0.9): <gurobi.Var *Awaiting Model Update*>,\n",
       " (164, 0.8): <gurobi.Var *Awaiting Model Update*>,\n",
       " (164, 0.7): <gurobi.Var *Awaiting Model Update*>,\n",
       " (165, 1.0): <gurobi.Var *Awaiting Model Update*>,\n",
       " (165, 0.9): <gurobi.Var *Awaiting Model Update*>,\n",
       " (165, 0.8): <gurobi.Var *Awaiting Model Update*>,\n",
       " (165, 0.7): <gurobi.Var *Awaiting Model Update*>,\n",
       " (166, 1.0): <gurobi.Var *Awaiting Model Update*>,\n",
       " (166, 0.9): <gurobi.Var *Awaiting Model Update*>,\n",
       " (166, 0.8): <gurobi.Var *Awaiting Model Update*>,\n",
       " (166, 0.7): <gurobi.Var *Awaiting Model Update*>,\n",
       " (167, 1.0): <gurobi.Var *Awaiting Model Update*>,\n",
       " (167, 0.9): <gurobi.Var *Awaiting Model Update*>,\n",
       " (167, 0.8): <gurobi.Var *Awaiting Model Update*>,\n",
       " (167, 0.7): <gurobi.Var *Awaiting Model Update*>,\n",
       " (168, 1.0): <gurobi.Var *Awaiting Model Update*>,\n",
       " (168, 0.9): <gurobi.Var *Awaiting Model Update*>,\n",
       " (168, 0.8): <gurobi.Var *Awaiting Model Update*>,\n",
       " (168, 0.7): <gurobi.Var *Awaiting Model Update*>,\n",
       " (169, 1.0): <gurobi.Var *Awaiting Model Update*>,\n",
       " (169, 0.9): <gurobi.Var *Awaiting Model Update*>,\n",
       " (169, 0.8): <gurobi.Var *Awaiting Model Update*>,\n",
       " (169, 0.7): <gurobi.Var *Awaiting Model Update*>}"
      ]
     },
     "execution_count": 12,
     "metadata": {},
     "output_type": "execute_result"
    }
   ],
   "source": [
    "x"
   ]
  },
  {
   "cell_type": "markdown",
   "metadata": {},
   "source": [
    "These two lines add important constraints to the Gurobi optimization model `mod2` to ensure the correct use of the price ladder.\n",
    "\n",
    "The first line, `constr_select_ladder`, enforces that for each week, exactly one price from the ladder is selected. It does this by summing the binary variables `x[w, k]` across all possible prices `k` in `p_ladder` for each week `w`, and requiring that this sum equals 1. This guarantees that only one price option is chosen per week.\n",
    "\n",
    "The second line, `constr_select_price`, links the continuous price variable `p[w]` for each week to the selected price from the ladder. It sets `p[w]` equal to the sum of each possible price `k` multiplied by its corresponding binary variable `x[w, k]`. Since only one `x[w, k]` can be 1 (from the previous constraint), this ensures that `p[w]` takes on the value of the selected price from the ladder for that week. Together, these constraints ensure that weekly prices are chosen from the allowed set and are properly reflected in the model's variables."
   ]
  },
  {
   "cell_type": "code",
   "execution_count": 13,
   "metadata": {},
   "outputs": [],
   "source": [
    "constr_select_ladder = mod2.addConstrs(sum(x[w, k] for k in p_ladder) == 1 for w in weeks)\n",
    "constr_select_price  = mod2.addConstrs(p[w] == sum(k * x[w, k] for k in p_ladder) for w in weeks)"
   ]
  },
  {
   "cell_type": "markdown",
   "metadata": {},
   "source": [
    "The line `mod2.optimize()` calls the `optimize` method on the Gurobi model object `mod2`. This method triggers the optimization process, where Gurobi attempts to find the best solution to the mathematical model defined by your variables, objective function, and constraints. During this process, Gurobi uses advanced algorithms to search for the set of variable values (such as weekly prices) that maximize (or minimize) the objective, while satisfying all constraints. After this call, the model's variables (like `p` and `x`) will contain their optimized values, which you can then access and analyze."
   ]
  },
  {
   "cell_type": "code",
   "execution_count": 14,
   "metadata": {},
   "outputs": [
    {
     "name": "stdout",
     "output_type": "stream",
     "text": [
      "Gurobi Optimizer version 12.0.1 build v12.0.1rc0 (mac64[arm] - Darwin 24.5.0 24F74)\n",
      "\n",
      "CPU model: Apple M4 Max\n",
      "Thread count: 16 physical cores, 16 logical processors, using up to 16 threads\n",
      "\n",
      "Optimize a model with 26 rows, 65 columns and 117 nonzeros\n",
      "Model fingerprint: 0x5eb5a9f6\n",
      "Model has 36 quadratic objective terms\n",
      "Variable types: 13 continuous, 52 integer (52 binary)\n",
      "Coefficient statistics:\n",
      "  Matrix range     [7e-01, 1e+00]\n",
      "  Objective range  [2e+03, 4e+03]\n",
      "  QObjective range [1e+03, 6e+03]\n",
      "  Bounds range     [1e+00, 1e+00]\n",
      "  RHS range        [1e+00, 1e+00]\n",
      "Found heuristic solution: objective 11514.818400\n",
      "Presolve removed 0 rows and 13 columns\n",
      "Presolve time: 0.00s\n",
      "Presolved: 26 rows, 52 columns, 91 nonzeros\n",
      "Presolved model has 36 quadratic objective terms\n",
      "Variable types: 13 continuous, 39 integer (39 binary)\n",
      "\n",
      "Root relaxation: objective 1.201770e+04, 37 iterations, 0.00 seconds (0.00 work units)\n",
      "\n",
      "    Nodes    |    Current Node    |     Objective Bounds      |     Work\n",
      " Expl Unexpl |  Obj  Depth IntInf | Incumbent    BestBd   Gap | It/Node Time\n",
      "\n",
      "     0     0 12017.6968    0   12 11514.8184 12017.6968  4.37%     -    0s\n",
      "H    0     0                    11902.400000 12017.6968  0.97%     -    0s\n",
      "     0     0 12017.6968    0   12 11902.4000 12017.6968  0.97%     -    0s\n",
      "H    0     0                    11917.335400 12017.6968  0.84%     -    0s\n",
      "     0     2 12017.6968    0   12 11917.3354 12017.6968  0.84%     -    0s\n",
      "H   29    35                    11939.550800 12013.0402  0.62%   2.7    0s\n",
      "H   35    30                    11954.357800 12013.0402  0.49%   2.7    0s\n",
      "H  106    84                    11970.187800 12012.4714  0.35%   2.5    0s\n",
      "H  141    84                    11998.943200 12012.0051  0.11%   2.9    0s\n",
      "\n",
      "Explored 272 nodes (614 simplex iterations) in 0.02 seconds (0.00 work units)\n",
      "Thread count was 16 (of 16 available processors)\n",
      "\n",
      "Solution count 7: 11998.9 11970.2 11954.4 ... 11514.8\n",
      "\n",
      "Optimal solution found (tolerance 1.00e-04)\n",
      "Best objective 1.199894320000e+04, best bound 1.199894320000e+04, gap 0.0000%\n"
     ]
    }
   ],
   "source": [
    "mod2.optimize()"
   ]
  },
  {
   "cell_type": "markdown",
   "metadata": {},
   "source": [
    "This code block visualizes the optimized prices for each week as determined by the Gurobi optimization model. The first line creates a list called `prices` by extracting the optimized value (`.x`) from each price decision variable `p[w]` for every week in the `weeks` list. This results in a sequence of price values, one for each week.\n",
    "\n",
    "The next two lines use Matplotlib's plotting functions to display these prices. `plt.plot(weeks, prices)` draws a line plot, showing how the price changes over the sequence of weeks, providing a clear view of trends or patterns. `plt.scatter(weeks, prices)` overlays individual data points on the same plot, making it easier to see the exact price chosen for each week.\n",
    "\n",
    "The following two lines label the axes for clarity: the x-axis is labeled \"Week number\" and the y-axis is labeled \"Price ($)\". Finally, `plt.show()` displays the plot in the output pane or notebook cell. This visualization helps you quickly interpret the pricing strategy produced by the optimization model, making it easier to analyze and communicate the results."
   ]
  },
  {
   "cell_type": "code",
   "execution_count": 15,
   "metadata": {},
   "outputs": [
    {
     "data": {
      "image/png": "[encoded data removed]",
      "text/plain": [
       "<Figure size 640x480 with 1 Axes>"
      ]
     },
     "metadata": {},
     "output_type": "display_data"
    }
   ],
   "source": [
    "prices = [p[w].x for w in weeks]\n",
    "plt.plot(weeks, prices)\n",
    "plt.scatter(weeks, prices)\n",
    "plt.xlabel('Week number')\n",
    "plt.ylabel('Price ($)')\n",
    "plt.show()"
   ]
  },
  {
   "cell_type": "markdown",
   "metadata": {},
   "source": [
    "## Model 3 - Make at most 4 promotions\n",
    "This code sets up a third Gurobi optimization model, `mod3`, to optimize weekly prices with additional constraints. The model is initialized with `gp.Model('price_model_3')`. The variable `p` is created as a set of decision variables, one for each week in the `weeks` list, representing the price for that week. The variable `x` is a set of binary decision variables indexed by both week and price ladder value (`p_ladder`), where `x[w, k]` is 1 if price `k` is selected for week `w`, and 0 otherwise.\n",
    "\n",
    "The objective function, defined with `setObjective`, aims to maximize total predicted revenue across all weeks. It uses a linear demand model that incorporates the effects of current and past prices, as well as seasonality. The first two weeks are handled separately due to lack of historical price data, while the rest use the full model.\n",
    "\n",
    "Two key constraints are added. The first, `constr_select_ladder`, ensures that exactly one price from the ladder is chosen for each week by requiring the sum of `x[w, k]` over all `k` for each week `w` to be 1. The second, `constr_select_price`, links the continuous price variable `p[w]` to the selected price from the ladder, ensuring that `p[w]` equals the value of the chosen price for that week. Together, these constraints ensure that weekly prices are selected from the allowed set and are properly reflected in the model."
   ]
  },
  {
   "cell_type": "code",
   "execution_count": 16,
   "metadata": {},
   "outputs": [],
   "source": [
    "mod3 = gp.Model('price_model_3')\n",
    "p = mod3.addVars(weeks)\n",
    "x = mod3.addVars(weeks, p_ladder, vtype= GRB.BINARY)\n",
    "obj_fn = mod3.setObjective(\n",
    "      p[157] * (intercept + p_coeff*p[157] + p1_coeff*1      + p2_coeff*1      + season_coeff[season[157]]) +\n",
    "      p[158] * (intercept + p_coeff*p[158] + p1_coeff*p[157] + p2_coeff*1      + season_coeff[season[158]]) +\n",
    "    sum(p[w] * (intercept + p_coeff*p[w]   + p1_coeff*p[w-1] + p2_coeff*p[w-2] + season_coeff[season[w]]) for w in weeks[2:]),\n",
    "    GRB.MAXIMIZE)\n",
    "constr_select_ladder = mod3.addConstrs(sum(x[w, k] for k in p_ladder) == 1 for w in weeks)\n",
    "constr_select_price = mod3.addConstrs(p[w] == sum(k * x[w, k] for k in p_ladder) for w in weeks)"
   ]
  },
  {
   "cell_type": "markdown",
   "metadata": {},
   "source": [
    "This line adds a constraint to the Gurobi optimization model `mod3` that limits the total number of promotions allowed across all weeks. Here, a \"promotion\" is defined as selecting any price from the price ladder except the first (typically the regular price), which is why the code uses `p_ladder[1:]` to exclude the first price.\n",
    "\n",
    "The expression `sum(x[w, k] for k in p_ladder[1:] for w in weeks)` counts the total number of weeks in which a promotional price is chosen. The constraint `<= 4` ensures that at most four promotions can occur throughout the entire planning period. This is useful for scenarios where the business wants to restrict the frequency of discounted pricing events. The constraint is added to the model using `addConstr`, and the resulting constraint object is stored in `constr_4_promo`."
   ]
  },
  {
   "cell_type": "code",
   "execution_count": 17,
   "metadata": {},
   "outputs": [],
   "source": [
    "constr_4_promo = mod3.addConstr(sum(x[w, k] for k in p_ladder[1:] for w in weeks) <= 4)"
   ]
  },
  {
   "cell_type": "markdown",
   "metadata": {},
   "source": [
    "The line `mod3.optimize()` starts the optimization process for the Gurobi model `mod3`. When this method is called, Gurobi analyzes the model—including all variables, constraints, and the objective function—to find the best possible solution that maximizes (or minimizes) the objective while satisfying all constraints. After this call, the decision variables in `mod3` (such as `p` and `x`) will be assigned their optimal values, which you can then access for further analysis or visualization. This step is essential to actually solve the mathematical programming problem you have defined."
   ]
  },
  {
   "cell_type": "code",
   "execution_count": 18,
   "metadata": {},
   "outputs": [
    {
     "name": "stdout",
     "output_type": "stream",
     "text": [
      "Gurobi Optimizer version 12.0.1 build v12.0.1rc0 (mac64[arm] - Darwin 24.5.0 24F74)\n",
      "\n",
      "CPU model: Apple M4 Max\n",
      "Thread count: 16 physical cores, 16 logical processors, using up to 16 threads\n",
      "\n",
      "Optimize a model with 27 rows, 65 columns and 156 nonzeros\n",
      "Model fingerprint: 0x8356128d\n",
      "Model has 36 quadratic objective terms\n",
      "Variable types: 13 continuous, 52 integer (52 binary)\n",
      "Coefficient statistics:\n",
      "  Matrix range     [7e-01, 1e+00]\n",
      "  Objective range  [2e+03, 4e+03]\n",
      "  QObjective range [1e+03, 6e+03]\n",
      "  Bounds range     [1e+00, 1e+00]\n",
      "  RHS range        [1e+00, 4e+00]\n",
      "Found heuristic solution: objective 10890.440000\n",
      "Presolve time: 0.00s\n",
      "Presolved: 27 rows, 65 columns, 143 nonzeros\n",
      "Presolved model has 36 quadratic objective terms\n",
      "Variable types: 13 continuous, 52 integer (52 binary)\n",
      "\n",
      "Root relaxation: objective 1.194927e+04, 65 iterations, 0.00 seconds (0.00 work units)\n",
      "\n",
      "    Nodes    |    Current Node    |     Objective Bounds      |     Work\n",
      " Expl Unexpl |  Obj  Depth IntInf | Incumbent    BestBd   Gap | It/Node Time\n",
      "\n",
      "     0     0 11949.2697    0   20 10890.4400 11949.2697  9.72%     -    0s\n",
      "H    0     0                    11613.016400 11949.2697  2.90%     -    0s\n",
      "H    0     0                    11636.128400 11949.2697  2.69%     -    0s\n",
      "H    0     0                    11651.289200 11949.2697  2.56%     -    0s\n",
      "     0     0 11921.1153    0   20 11651.2892 11921.1153  2.32%     -    0s\n",
      "H    0     0                    11680.110200 11915.7866  2.02%     -    0s\n",
      "H    0     0                    11702.743200 11915.7866  1.82%     -    0s\n",
      "H    0     2                    11714.180400 11915.7866  1.72%     -    0s\n",
      "     0     2 11915.7866    0   20 11714.1804 11915.7866  1.72%     -    0s\n",
      "H    9    11                    11728.057200 11850.1311  1.04%   4.6    0s\n",
      "H   26    13                    11758.739000 11824.1616  0.56%   4.6    0s\n",
      "\n",
      "Explored 66 nodes (320 simplex iterations) in 0.02 seconds (0.01 work units)\n",
      "Thread count was 16 (of 16 available processors)\n",
      "\n",
      "Solution count 9: 11758.7 11728.1 11714.2 ... 10890.4\n",
      "\n",
      "Optimal solution found (tolerance 1.00e-04)\n",
      "Best objective 1.175873900000e+04, best bound 1.175873900000e+04, gap 0.0000%\n"
     ]
    }
   ],
   "source": [
    "mod3.optimize()"
   ]
  },
  {
   "cell_type": "markdown",
   "metadata": {},
   "source": [
    "This code block visualizes the optimized weekly prices produced by the Gurobi optimization model. The first line constructs a list called `prices` by extracting the optimized value (`.x`) from each price decision variable `p[w]` for every week in the `weeks` list. This results in a sequence of price values, one for each week, reflecting the solution found by the optimizer.\n",
    "\n",
    "The next two lines use Matplotlib's plotting functions to display these prices. `plt.plot(weeks, prices)` draws a line plot, showing how the price changes over the sequence of weeks, which helps reveal trends or patterns in the pricing strategy. `plt.scatter(weeks, prices)` overlays individual data points on the same plot, making it easier to see the exact price chosen for each week.\n",
    "\n",
    "The following two lines label the axes for clarity: the x-axis is labeled \"Week number\" and the y-axis is labeled \"Price ($)\", which helps viewers interpret the plot. Finally, `plt.show()` displays the plot in the output pane or notebook cell. This visualization provides a clear and immediate way to interpret and communicate the results of the optimization, making it easier to analyze the pricing strategy over time."
   ]
  },
  {
   "cell_type": "code",
   "execution_count": 19,
   "metadata": {},
   "outputs": [
    {
     "data": {
      "image/png": "[encoded data removed]",
      "text/plain": [
       "<Figure size 640x480 with 1 Axes>"
      ]
     },
     "metadata": {},
     "output_type": "display_data"
    }
   ],
   "source": [
    "prices = [p[w].x for w in weeks]\n",
    "plt.plot(weeks, prices)\n",
    "plt.scatter(weeks, prices)\n",
    "plt.xlabel('Week number')\n",
    "plt.ylabel('Price ($)')\n",
    "plt.show()"
   ]
  },
  {
   "cell_type": "markdown",
   "metadata": {},
   "source": [
    "## Model 4 - Do not allow consecutive promotions"
   ]
  },
  {
   "cell_type": "markdown",
   "metadata": {},
   "source": [
    "This code sets up a Gurobi optimization model called `mod4` to determine optimal weekly prices under several business constraints. The model is initialized with `gp.Model('price_model_4')`. The variable `p` is a set of decision variables representing the price for each week in the planning period, while `x` is a set of binary variables indicating which price from the allowed price ladder (`p_ladder`) is chosen for each week.\n",
    "\n",
    "The objective function, defined with `setObjective`, aims to maximize total predicted revenue over all weeks. It uses a linear demand model that incorporates the effects of the current price, prices from the previous two weeks, and seasonality. The first two weeks are handled separately due to missing historical price data, while the rest use the full model.\n",
    "\n",
    "Three main constraints are added to the model. The first, `constr_select_ladder`, ensures that exactly one price from the ladder is selected for each week by requiring the sum of the binary variables `x[w, k]` over all possible prices `k` to be 1 for each week. The second, `constr_select_price`, links the continuous price variable `p[w]` to the selected price from the ladder, ensuring that `p[w]` equals the value of the chosen price for that week. The third constraint, `constr_4_promo`, limits the total number of promotions (weeks where a discounted price is chosen) to at most four by summing the binary variables for all promotional prices (excluding the regular price) across all weeks and requiring this sum to be less than or equal to four. Together, these constraints ensure that the model selects valid prices, enforces business rules, and seeks to maximize revenue."
   ]
  },
  {
   "cell_type": "code",
   "execution_count": 20,
   "metadata": {},
   "outputs": [],
   "source": [
    "mod4   = gp.Model('price_model_4')\n",
    "p      = mod4.addVars(weeks)\n",
    "x      = mod4.addVars(weeks, p_ladder, vtype=GRB.BINARY)\n",
    "obj_fn = mod4.setObjective(\n",
    "      p[157] * (intercept + p_coeff*p[157] + p1_coeff*1      + p2_coeff*1      + season_coeff[season[157]]) +\n",
    "      p[158] * (intercept + p_coeff*p[158] + p1_coeff*p[157] + p2_coeff*1      + season_coeff[season[158]]) +\n",
    "    sum(p[w] * (intercept + p_coeff*p[w]   + p1_coeff*p[w-1] + p2_coeff*p[w-2] + season_coeff[season[w]]) for w in weeks[2:]),\n",
    "    GRB.MAXIMIZE)\n",
    "constr_select_ladder = mod4.addConstrs(sum(x[w, k] for k in p_ladder) == 1 for w in weeks)\n",
    "constr_select_price = mod4.addConstrs(p[w] == sum(k * x[w, k] for k in p_ladder) for w in weeks)\n",
    "constr_4_promo = mod4.addConstr(sum(x[w, k] for k in p_ladder[1:] for w in weeks) <= 4)"
   ]
  },
  {
   "cell_type": "markdown",
   "metadata": {},
   "source": [
    "This line adds a set of constraints to the Gurobi optimization model `mod4` to prevent consecutive promotions across the planning horizon. Here, a \"promotion\" is defined as selecting any price from the price ladder except the first (regular price), so `p_ladder[1:]` represents all promotional prices.\n",
    "\n",
    "For each week `w` (except the last week), the constraint sums the binary variables `x[w, k]` for all promotional prices in week `w` and week `w + 1`. The sum is constrained to be less than or equal to 1, meaning that at most one of these two consecutive weeks can have a promotional price. This effectively ensures that promotions cannot occur in back-to-back weeks.\n",
    "\n",
    "The `addConstrs` method applies this constraint for every pair of consecutive weeks in `weeks[:-1]`, storing the resulting constraint objects in `constr_no_consec_promo`. This approach enforces a business rule that avoids clustering promotions together, which can help maintain the perceived value of promotions and prevent customer habituation to discounts."
   ]
  },
  {
   "cell_type": "code",
   "execution_count": 21,
   "metadata": {},
   "outputs": [],
   "source": [
    "constr_no_consec_promo = mod4.addConstrs((sum(x[w    , k] for k in p_ladder[1:]) +\n",
    "                                          sum(x[w + 1, k] for k in p_ladder[1:]) <= 1) for w in weeks[:-1])"
   ]
  },
  {
   "cell_type": "markdown",
   "metadata": {},
   "source": [
    "The line `mod4.optimize()` initiates the optimization process for the Gurobi model instance `mod4`. When this method is called, Gurobi processes all the variables, constraints, and the objective function that have been defined for the model. It then uses mathematical optimization algorithms to search for the best solution that maximizes (or minimizes) the objective, while ensuring all constraints are satisfied. After this call, the model's decision variables (such as `p` and `x`) will be assigned their optimal values, which you can then access for analysis or visualization. This step is essential to actually solve the optimization problem you have constructed."
   ]
  },
  {
   "cell_type": "code",
   "execution_count": 22,
   "metadata": {},
   "outputs": [
    {
     "name": "stdout",
     "output_type": "stream",
     "text": [
      "Gurobi Optimizer version 12.0.1 build v12.0.1rc0 (mac64[arm] - Darwin 24.5.0 24F74)\n",
      "\n",
      "CPU model: Apple M4 Max\n",
      "Thread count: 16 physical cores, 16 logical processors, using up to 16 threads\n",
      "\n",
      "Optimize a model with 39 rows, 65 columns and 228 nonzeros\n",
      "Model fingerprint: 0xf7b2a2b1\n",
      "Model has 36 quadratic objective terms\n",
      "Variable types: 13 continuous, 52 integer (52 binary)\n",
      "Coefficient statistics:\n",
      "  Matrix range     [7e-01, 1e+00]\n",
      "  Objective range  [2e+03, 4e+03]\n",
      "  QObjective range [1e+03, 6e+03]\n",
      "  Bounds range     [1e+00, 1e+00]\n",
      "  RHS range        [1e+00, 4e+00]\n",
      "Found heuristic solution: objective 11126.462000\n",
      "Presolve time: 0.00s\n",
      "Presolved: 39 rows, 65 columns, 215 nonzeros\n",
      "Presolved model has 36 quadratic objective terms\n",
      "Variable types: 13 continuous, 52 integer (52 binary)\n",
      "\n",
      "Root relaxation: objective 1.187440e+04, 73 iterations, 0.00 seconds (0.00 work units)\n",
      "\n",
      "    Nodes    |    Current Node    |     Objective Bounds      |     Work\n",
      " Expl Unexpl |  Obj  Depth IntInf | Incumbent    BestBd   Gap | It/Node Time\n",
      "\n",
      "     0     0 11874.4019    0   26 11126.4620 11874.4019  6.72%     -    0s\n",
      "H    0     0                    11537.430200 11874.4019  2.92%     -    0s\n",
      "H    0     0                    11578.632200 11874.4019  2.55%     -    0s\n",
      "H    0     0                    11599.078200 11874.4019  2.37%     -    0s\n",
      "H    0     0                    11648.644200 11874.4019  1.94%     -    0s\n",
      "H    0     0                    11651.871200 11874.4019  1.91%     -    0s\n",
      "     0     0 11800.4029    0   22 11651.8712 11800.4029  1.27%     -    0s\n",
      "     0     0 11800.4029    0   22 11651.8712 11800.4029  1.27%     -    0s\n",
      "     0     2 11800.4029    0   22 11651.8712 11800.4029  1.27%     -    0s\n",
      "H   15     5                    11662.378200 11686.5791  0.21%   3.6    0s\n",
      "\n",
      "Explored 79 nodes (327 simplex iterations) in 0.02 seconds (0.01 work units)\n",
      "Thread count was 16 (of 16 available processors)\n",
      "\n",
      "Solution count 7: 11662.4 11651.9 11648.6 ... 11126.5\n",
      "\n",
      "Optimal solution found (tolerance 1.00e-04)\n",
      "Best objective 1.166237820000e+04, best bound 1.166237820000e+04, gap 0.0000%\n"
     ]
    }
   ],
   "source": [
    "mod4.optimize()"
   ]
  },
  {
   "cell_type": "markdown",
   "metadata": {},
   "source": [
    "This code block visualizes the optimized prices for each week as determined by the optimization model. The first line creates a list called `prices` by extracting the optimized value (`.x`) from each price decision variable `p[w]` for every week in the `weeks` list. This results in a sequence of price values, one for each week, reflecting the solution found by the optimizer.\n",
    "\n",
    "The next two lines use Matplotlib's plotting functions to display these prices. `plt.plot(weeks, prices)` draws a line plot, showing how the price changes over the sequence of weeks, which helps reveal trends or patterns in the pricing strategy. `plt.scatter(weeks, prices)` overlays individual data points on the same plot, making it easier to see the exact price chosen for each week.\n",
    "\n",
    "The following two lines label the axes for clarity: the x-axis is labeled \"Week number\" and the y-axis is labeled \"Price ($)\", which helps viewers interpret the plot. Finally, `plt.show()` displays the plot in the output pane or notebook cell. This visualization provides a clear and immediate way to interpret and communicate the results of the optimization, making it easier to analyze the pricing strategy over time."
   ]
  },
  {
   "cell_type": "code",
   "execution_count": 23,
   "metadata": {},
   "outputs": [
    {
     "data": {
      "image/png": "[encoded data removed]",
      "text/plain": [
       "<Figure size 640x480 with 1 Axes>"
      ]
     },
     "metadata": {},
     "output_type": "display_data"
    }
   ],
   "source": [
    "prices = [p[w].x for w in weeks]\n",
    "plt.plot(weeks, prices)\n",
    "plt.scatter(weeks, prices)\n",
    "plt.xlabel('Week number')\n",
    "plt.ylabel('Price ($)')\n",
    "plt.show()"
   ]
  }
 ],
 "metadata": {
  "kernelspec": {
   "display_name": "dev1",
   "language": "python",
   "name": "python3"
  },
  "language_info": {
   "codemirror_mode": {
    "name": "ipython",
    "version": 3
   },
   "file_extension": ".py",
   "mimetype": "text/x-python",
   "name": "python",
   "nbconvert_exporter": "python",
   "pygments_lexer": "ipython3",
   "version": "3.13.3"
  }
 },
 "nbformat": 4,
 "nbformat_minor": 4
}
