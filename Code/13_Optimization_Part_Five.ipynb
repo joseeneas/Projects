{
 "cells": [
  {
   "cell_type": "markdown",
   "metadata": {},
   "source": [
    "# PROFESSIONAL CERTIFICATE IN DATA SCIENCE AND ANALYTICS\n",
    "# Optimization: Part Five\n",
    "This code imports three important Python libraries commonly used in data analysis and optimization tasks. The first line imports the pandas library as `pd`, which is widely used for data manipulation and analysis, especially when working with tabular data such as DataFrames. The second line imports the `minimize` function from the `scipy.optimize` module, which provides algorithms for solving optimization problems, such as finding the minimum of a function. The third line imports the `graph_objects` module from Plotly as `go`, which is used for creating interactive and highly customizable plots and visualizations. The `# type: ignore` comments are included to suppress type-checking warnings from static analysis tools, which can be helpful if type stubs for these libraries are missing. Together, these imports set up the environment for data processing, optimization, and visualization."
   ]
  },
  {
   "cell_type": "code",
   "execution_count": 1,
   "metadata": {},
   "outputs": [],
   "source": [
    "import pandas                         as pd # type: ignore\n",
    "from   scipy.optimize import minimize       # type: ignore\n",
    "import plotly.graph_objects           as go # type: ignore"
   ]
  },
  {
   "cell_type": "markdown",
   "metadata": {},
   "source": [
    "## World Food Program Data\n",
    "This code creates a pandas DataFrame named `procurement` that contains the procurement costs for various food items across different cities. Each column in the DataFrame represents a specific food item (such as Beans, Bulgur, Cheese, etc.), and each row corresponds to a city (Aleppo, Amman, Beirut, Damascus, Gaziantep, Hama, Homs). The values in the DataFrame are the procurement costs for each food item in each city, typically expressed in a consistent currency per unit (such as dollars per kilogram).\n",
    "\n",
    "By organizing the data in this tabular format, it becomes easy to look up the procurement cost of any food item in any city, which is essential for optimization models that aim to minimize total costs or allocate resources efficiently. The final line, `procurement`, simply displays the DataFrame, allowing you to inspect the cost structure before using it in further analysis or optimization routines."
   ]
  },
  {
   "cell_type": "code",
   "execution_count": 2,
   "metadata": {
    "scrolled": true
   },
   "outputs": [
    {
     "data": {
      "application/vnd.microsoft.datawrangler.viewer.v0+json": {
       "columns": [
        {
         "name": "index",
         "rawType": "object",
         "type": "string"
        },
        {
         "name": "Beans",
         "rawType": "float64",
         "type": "float"
        },
        {
         "name": "Bulgur",
         "rawType": "float64",
         "type": "float"
        },
        {
         "name": "Cheese",
         "rawType": "float64",
         "type": "float"
        },
        {
         "name": "Chickpeas",
         "rawType": "float64",
         "type": "float"
        },
        {
         "name": "Dates",
         "rawType": "float64",
         "type": "float"
        },
        {
         "name": "Fish",
         "rawType": "float64",
         "type": "float"
        },
        {
         "name": "Lentils",
         "rawType": "float64",
         "type": "float"
        },
        {
         "name": "Meat",
         "rawType": "float64",
         "type": "float"
        },
        {
         "name": "Milk",
         "rawType": "float64",
         "type": "float"
        },
        {
         "name": "Oil",
         "rawType": "float64",
         "type": "float"
        },
        {
         "name": "Rice",
         "rawType": "float64",
         "type": "float"
        },
        {
         "name": "Salt",
         "rawType": "float64",
         "type": "float"
        },
        {
         "name": "Sugar",
         "rawType": "float64",
         "type": "float"
        },
        {
         "name": "Wheat flour",
         "rawType": "float64",
         "type": "float"
        }
       ],
       "ref": "97cfad30-6532-4959-9111-3dbfb5c0e10e",
       "rows": [
        [
         "Aleppo",
         "1.07751",
         "0.51014",
         "2.85555",
         "0.96692",
         "1.84343",
         "4.10484",
         "0.83365",
         "5.28887",
         "0.49639",
         "1.27446",
         "0.952",
         "0.32211",
         "0.6341",
         "0.48948"
        ],
        [
         "Amman",
         "0.8",
         "0.45",
         "15.0",
         "0.55",
         "0.5",
         "0.9",
         "0.5",
         "1.2",
         "1.2",
         "1.4",
         "0.575",
         "0.8",
         "1.0",
         "0.3"
        ],
        [
         "Beirut",
         "0.8",
         "0.45",
         "15.0",
         "0.55",
         "0.5",
         "0.9",
         "0.5",
         "1.2",
         "1.2",
         "1.4",
         "0.575",
         "0.8",
         "1.0",
         "0.3"
        ],
        [
         "Damascus",
         "1.31648",
         "1.00816",
         "2.95302",
         "1.84912",
         "2.30682",
         "5.1",
         "1.20821",
         "6.17894",
         "0.5546",
         "2.03748",
         "1.38911",
         "0.65553",
         "1.2436",
         "0.85168"
        ],
        [
         "Gaziantep",
         "0.8",
         "0.45",
         "15.0",
         "0.55",
         "0.5",
         "0.9",
         "0.5",
         "1.2",
         "1.2",
         "1.4",
         "0.575",
         "0.8",
         "1.0",
         "0.3"
        ],
        [
         "Hama",
         "1.30789",
         "0.644",
         "2.70058",
         "1.34774",
         "2.01522",
         "4.75464",
         "0.99765",
         "6.31081",
         "0.48481",
         "1.35092",
         "0.98914",
         "0.30021",
         "0.58657",
         "0.49419"
        ],
        [
         "Homs",
         "1.26374",
         "0.61318",
         "2.55012",
         "1.30997",
         "1.92845",
         "4.45991",
         "0.99144",
         "6.44698",
         "0.46752",
         "1.3466",
         "0.97737",
         "0.30651",
         "0.58063",
         "0.46866"
        ]
       ],
       "shape": {
        "columns": 14,
        "rows": 7
       }
      },
      "text/html": [
       "<div>\n",
       "<style scoped>\n",
       "    .dataframe tbody tr th:only-of-type {\n",
       "        vertical-align: middle;\n",
       "    }\n",
       "\n",
       "    .dataframe tbody tr th {\n",
       "        vertical-align: top;\n",
       "    }\n",
       "\n",
       "    .dataframe thead th {\n",
       "        text-align: right;\n",
       "    }\n",
       "</style>\n",
       "<table border=\"1\" class=\"dataframe\">\n",
       "  <thead>\n",
       "    <tr style=\"text-align: right;\">\n",
       "      <th></th>\n",
       "      <th>Beans</th>\n",
       "      <th>Bulgur</th>\n",
       "      <th>Cheese</th>\n",
       "      <th>Chickpeas</th>\n",
       "      <th>Dates</th>\n",
       "      <th>Fish</th>\n",
       "      <th>Lentils</th>\n",
       "      <th>Meat</th>\n",
       "      <th>Milk</th>\n",
       "      <th>Oil</th>\n",
       "      <th>Rice</th>\n",
       "      <th>Salt</th>\n",
       "      <th>Sugar</th>\n",
       "      <th>Wheat flour</th>\n",
       "    </tr>\n",
       "  </thead>\n",
       "  <tbody>\n",
       "    <tr>\n",
       "      <th>Aleppo</th>\n",
       "      <td>1.07751</td>\n",
       "      <td>0.51014</td>\n",
       "      <td>2.85555</td>\n",
       "      <td>0.96692</td>\n",
       "      <td>1.84343</td>\n",
       "      <td>4.10484</td>\n",
       "      <td>0.83365</td>\n",
       "      <td>5.28887</td>\n",
       "      <td>0.49639</td>\n",
       "      <td>1.27446</td>\n",
       "      <td>0.95200</td>\n",
       "      <td>0.32211</td>\n",
       "      <td>0.63410</td>\n",
       "      <td>0.48948</td>\n",
       "    </tr>\n",
       "    <tr>\n",
       "      <th>Amman</th>\n",
       "      <td>0.80000</td>\n",
       "      <td>0.45000</td>\n",
       "      <td>15.00000</td>\n",
       "      <td>0.55000</td>\n",
       "      <td>0.50000</td>\n",
       "      <td>0.90000</td>\n",
       "      <td>0.50000</td>\n",
       "      <td>1.20000</td>\n",
       "      <td>1.20000</td>\n",
       "      <td>1.40000</td>\n",
       "      <td>0.57500</td>\n",
       "      <td>0.80000</td>\n",
       "      <td>1.00000</td>\n",
       "      <td>0.30000</td>\n",
       "    </tr>\n",
       "    <tr>\n",
       "      <th>Beirut</th>\n",
       "      <td>0.80000</td>\n",
       "      <td>0.45000</td>\n",
       "      <td>15.00000</td>\n",
       "      <td>0.55000</td>\n",
       "      <td>0.50000</td>\n",
       "      <td>0.90000</td>\n",
       "      <td>0.50000</td>\n",
       "      <td>1.20000</td>\n",
       "      <td>1.20000</td>\n",
       "      <td>1.40000</td>\n",
       "      <td>0.57500</td>\n",
       "      <td>0.80000</td>\n",
       "      <td>1.00000</td>\n",
       "      <td>0.30000</td>\n",
       "    </tr>\n",
       "    <tr>\n",
       "      <th>Damascus</th>\n",
       "      <td>1.31648</td>\n",
       "      <td>1.00816</td>\n",
       "      <td>2.95302</td>\n",
       "      <td>1.84912</td>\n",
       "      <td>2.30682</td>\n",
       "      <td>5.10000</td>\n",
       "      <td>1.20821</td>\n",
       "      <td>6.17894</td>\n",
       "      <td>0.55460</td>\n",
       "      <td>2.03748</td>\n",
       "      <td>1.38911</td>\n",
       "      <td>0.65553</td>\n",
       "      <td>1.24360</td>\n",
       "      <td>0.85168</td>\n",
       "    </tr>\n",
       "    <tr>\n",
       "      <th>Gaziantep</th>\n",
       "      <td>0.80000</td>\n",
       "      <td>0.45000</td>\n",
       "      <td>15.00000</td>\n",
       "      <td>0.55000</td>\n",
       "      <td>0.50000</td>\n",
       "      <td>0.90000</td>\n",
       "      <td>0.50000</td>\n",
       "      <td>1.20000</td>\n",
       "      <td>1.20000</td>\n",
       "      <td>1.40000</td>\n",
       "      <td>0.57500</td>\n",
       "      <td>0.80000</td>\n",
       "      <td>1.00000</td>\n",
       "      <td>0.30000</td>\n",
       "    </tr>\n",
       "    <tr>\n",
       "      <th>Hama</th>\n",
       "      <td>1.30789</td>\n",
       "      <td>0.64400</td>\n",
       "      <td>2.70058</td>\n",
       "      <td>1.34774</td>\n",
       "      <td>2.01522</td>\n",
       "      <td>4.75464</td>\n",
       "      <td>0.99765</td>\n",
       "      <td>6.31081</td>\n",
       "      <td>0.48481</td>\n",
       "      <td>1.35092</td>\n",
       "      <td>0.98914</td>\n",
       "      <td>0.30021</td>\n",
       "      <td>0.58657</td>\n",
       "      <td>0.49419</td>\n",
       "    </tr>\n",
       "    <tr>\n",
       "      <th>Homs</th>\n",
       "      <td>1.26374</td>\n",
       "      <td>0.61318</td>\n",
       "      <td>2.55012</td>\n",
       "      <td>1.30997</td>\n",
       "      <td>1.92845</td>\n",
       "      <td>4.45991</td>\n",
       "      <td>0.99144</td>\n",
       "      <td>6.44698</td>\n",
       "      <td>0.46752</td>\n",
       "      <td>1.34660</td>\n",
       "      <td>0.97737</td>\n",
       "      <td>0.30651</td>\n",
       "      <td>0.58063</td>\n",
       "      <td>0.46866</td>\n",
       "    </tr>\n",
       "  </tbody>\n",
       "</table>\n",
       "</div>"
      ],
      "text/plain": [
       "             Beans   Bulgur    Cheese  Chickpeas    Dates     Fish  Lentils  \\\n",
       "Aleppo     1.07751  0.51014   2.85555    0.96692  1.84343  4.10484  0.83365   \n",
       "Amman      0.80000  0.45000  15.00000    0.55000  0.50000  0.90000  0.50000   \n",
       "Beirut     0.80000  0.45000  15.00000    0.55000  0.50000  0.90000  0.50000   \n",
       "Damascus   1.31648  1.00816   2.95302    1.84912  2.30682  5.10000  1.20821   \n",
       "Gaziantep  0.80000  0.45000  15.00000    0.55000  0.50000  0.90000  0.50000   \n",
       "Hama       1.30789  0.64400   2.70058    1.34774  2.01522  4.75464  0.99765   \n",
       "Homs       1.26374  0.61318   2.55012    1.30997  1.92845  4.45991  0.99144   \n",
       "\n",
       "              Meat     Milk      Oil     Rice     Salt    Sugar  Wheat flour  \n",
       "Aleppo     5.28887  0.49639  1.27446  0.95200  0.32211  0.63410      0.48948  \n",
       "Amman      1.20000  1.20000  1.40000  0.57500  0.80000  1.00000      0.30000  \n",
       "Beirut     1.20000  1.20000  1.40000  0.57500  0.80000  1.00000      0.30000  \n",
       "Damascus   6.17894  0.55460  2.03748  1.38911  0.65553  1.24360      0.85168  \n",
       "Gaziantep  1.20000  1.20000  1.40000  0.57500  0.80000  1.00000      0.30000  \n",
       "Hama       6.31081  0.48481  1.35092  0.98914  0.30021  0.58657      0.49419  \n",
       "Homs       6.44698  0.46752  1.34660  0.97737  0.30651  0.58063      0.46866  "
      ]
     },
     "execution_count": 2,
     "metadata": {},
     "output_type": "execute_result"
    }
   ],
   "source": [
    "procurement = pd.DataFrame({\n",
    "    'Beans':       [1.07751,   0.8,   0.8, 1.31648,   0.8, 1.30789, 1.26374],\n",
    "    'Bulgur':      [0.51014,  0.45,  0.45, 1.00816,  0.45,   0.644, 0.61318],\n",
    "    'Cheese':      [2.85555,    15,    15, 2.95302,    15, 2.70058, 2.55012],\n",
    "    'Chickpeas':   [0.96692,  0.55,  0.55, 1.84912,  0.55, 1.34774, 1.30997],\n",
    "    'Dates':       [1.84343,   0.5,   0.5, 2.30682,   0.5, 2.01522, 1.92845],\n",
    "    'Fish':        [4.10484,   0.9,   0.9,     5.1,   0.9, 4.75464, 4.45991],\n",
    "    'Lentils':     [0.83365,   0.5,   0.5, 1.20821,   0.5, 0.99765, 0.99144],\n",
    "    'Meat':        [5.28887,   1.2,   1.2, 6.17894,   1.2, 6.31081, 6.44698],\n",
    "    'Milk':        [0.49639,   1.2,   1.2,  0.5546,   1.2, 0.48481, 0.46752],\n",
    "    'Oil':         [1.27446,   1.4,   1.4, 2.03748,   1.4, 1.35092,  1.3466],\n",
    "    'Rice':        [  0.952, 0.575, 0.575, 1.38911, 0.575, 0.98914, 0.97737],\n",
    "    'Salt':        [0.32211,   0.8,   0.8, 0.65553,   0.8, 0.30021, 0.30651],\n",
    "    'Sugar':       [ 0.6341,     1,     1,  1.2436,     1, 0.58657, 0.58063],\n",
    "    'Wheat flour': [0.48948,   0.3,   0.3, 0.85168,   0.3, 0.49419, 0.46866],\n",
    "}, index=['Aleppo', 'Amman', 'Beirut', 'Damascus', 'Gaziantep', 'Hama', 'Homs'])\n",
    "procurement "
   ]
  },
  {
   "cell_type": "markdown",
   "metadata": {},
   "source": [
    "This code creates a pandas DataFrame named `transportation` that represents the transportation costs for shipping goods from various origin cities (listed in the DataFrame's index) to different destination cities (listed as columns). Each value in the DataFrame corresponds to the cost of transporting goods from a specific origin city (such as Aleppo, Amman, etc.) to a specific destination city (such as Ar Raqqa, Dara, etc.).\n",
    "\n",
    "The costs are typically given in a consistent currency per unit (for example, dollars per kilogram). The value `9999` is used as a placeholder for routes that are either unavailable or prohibitively expensive, effectively preventing the optimization model from selecting those routes. By organizing the transportation costs in this tabular format, it becomes straightforward to look up the cost of shipping between any pair of cities, which is essential for logistics and supply chain optimization problems. The final line, `transportation`, displays the DataFrame for inspection."
   ]
  },
  {
   "cell_type": "code",
   "execution_count": 3,
   "metadata": {},
   "outputs": [
    {
     "data": {
      "application/vnd.microsoft.datawrangler.viewer.v0+json": {
       "columns": [
        {
         "name": "index",
         "rawType": "object",
         "type": "string"
        },
        {
         "name": "Ar Raqqa",
         "rawType": "float64",
         "type": "float"
        },
        {
         "name": "Dara",
         "rawType": "float64",
         "type": "float"
        },
        {
         "name": "Dayr Az Zor",
         "rawType": "float64",
         "type": "float"
        },
        {
         "name": "Hassakeh",
         "rawType": "float64",
         "type": "float"
        },
        {
         "name": "Idleb",
         "rawType": "float64",
         "type": "float"
        },
        {
         "name": "Jubb al Jarrah",
         "rawType": "float64",
         "type": "float"
        },
        {
         "name": "Qamishli",
         "rawType": "float64",
         "type": "float"
        }
       ],
       "ref": "6e2cce29-76be-4ca7-ace7-d2c18f07c9e1",
       "rows": [
        [
         "Aleppo",
         "0.41898",
         "9999.0",
         "9999.0",
         "0.741322",
         "0.131466",
         "9999.0",
         "0.849492"
        ],
        [
         "Amman",
         "1.28699",
         "0.200974",
         "1.305474",
         "1.672452",
         "1.05413",
         "0.897774",
         "1.828356"
        ],
        [
         "Beirut",
         "0.931336",
         "0.43239",
         "1.100652",
         "1.364532",
         "0.674223",
         "0.566534",
         "1.472702"
        ],
        [
         "Damascus",
         "9999.0",
         "0.221434",
         "0.907578",
         "9999.0",
         "9999.0",
         "9999.0",
         "9999.0"
        ],
        [
         "Gaziantep",
         "0.585006",
         "1.16156",
         "0.860702",
         "0.7901",
         "0.368824",
         "0.70373",
         "0.89827"
        ],
        [
         "Hama",
         "0.542212",
         "9999.0",
         "0.820802",
         "0.975408",
         "0.20908",
         "0.197006",
         "1.08358"
        ],
        [
         "Homs",
         "9999.0",
         "9999.0",
         "9999.0",
         "9999.0",
         "0.305146",
         "0.194996",
         "9999.0"
        ]
       ],
       "shape": {
        "columns": 7,
        "rows": 7
       }
      },
      "text/html": [
       "<div>\n",
       "<style scoped>\n",
       "    .dataframe tbody tr th:only-of-type {\n",
       "        vertical-align: middle;\n",
       "    }\n",
       "\n",
       "    .dataframe tbody tr th {\n",
       "        vertical-align: top;\n",
       "    }\n",
       "\n",
       "    .dataframe thead th {\n",
       "        text-align: right;\n",
       "    }\n",
       "</style>\n",
       "<table border=\"1\" class=\"dataframe\">\n",
       "  <thead>\n",
       "    <tr style=\"text-align: right;\">\n",
       "      <th></th>\n",
       "      <th>Ar Raqqa</th>\n",
       "      <th>Dara</th>\n",
       "      <th>Dayr Az Zor</th>\n",
       "      <th>Hassakeh</th>\n",
       "      <th>Idleb</th>\n",
       "      <th>Jubb al Jarrah</th>\n",
       "      <th>Qamishli</th>\n",
       "    </tr>\n",
       "  </thead>\n",
       "  <tbody>\n",
       "    <tr>\n",
       "      <th>Aleppo</th>\n",
       "      <td>0.418980</td>\n",
       "      <td>9999.000000</td>\n",
       "      <td>9999.000000</td>\n",
       "      <td>0.741322</td>\n",
       "      <td>0.131466</td>\n",
       "      <td>9999.000000</td>\n",
       "      <td>0.849492</td>\n",
       "    </tr>\n",
       "    <tr>\n",
       "      <th>Amman</th>\n",
       "      <td>1.286990</td>\n",
       "      <td>0.200974</td>\n",
       "      <td>1.305474</td>\n",
       "      <td>1.672452</td>\n",
       "      <td>1.054130</td>\n",
       "      <td>0.897774</td>\n",
       "      <td>1.828356</td>\n",
       "    </tr>\n",
       "    <tr>\n",
       "      <th>Beirut</th>\n",
       "      <td>0.931336</td>\n",
       "      <td>0.432390</td>\n",
       "      <td>1.100652</td>\n",
       "      <td>1.364532</td>\n",
       "      <td>0.674223</td>\n",
       "      <td>0.566534</td>\n",
       "      <td>1.472702</td>\n",
       "    </tr>\n",
       "    <tr>\n",
       "      <th>Damascus</th>\n",
       "      <td>9999.000000</td>\n",
       "      <td>0.221434</td>\n",
       "      <td>0.907578</td>\n",
       "      <td>9999.000000</td>\n",
       "      <td>9999.000000</td>\n",
       "      <td>9999.000000</td>\n",
       "      <td>9999.000000</td>\n",
       "    </tr>\n",
       "    <tr>\n",
       "      <th>Gaziantep</th>\n",
       "      <td>0.585006</td>\n",
       "      <td>1.161560</td>\n",
       "      <td>0.860702</td>\n",
       "      <td>0.790100</td>\n",
       "      <td>0.368824</td>\n",
       "      <td>0.703730</td>\n",
       "      <td>0.898270</td>\n",
       "    </tr>\n",
       "    <tr>\n",
       "      <th>Hama</th>\n",
       "      <td>0.542212</td>\n",
       "      <td>9999.000000</td>\n",
       "      <td>0.820802</td>\n",
       "      <td>0.975408</td>\n",
       "      <td>0.209080</td>\n",
       "      <td>0.197006</td>\n",
       "      <td>1.083580</td>\n",
       "    </tr>\n",
       "    <tr>\n",
       "      <th>Homs</th>\n",
       "      <td>9999.000000</td>\n",
       "      <td>9999.000000</td>\n",
       "      <td>9999.000000</td>\n",
       "      <td>9999.000000</td>\n",
       "      <td>0.305146</td>\n",
       "      <td>0.194996</td>\n",
       "      <td>9999.000000</td>\n",
       "    </tr>\n",
       "  </tbody>\n",
       "</table>\n",
       "</div>"
      ],
      "text/plain": [
       "              Ar Raqqa         Dara  Dayr Az Zor     Hassakeh        Idleb  \\\n",
       "Aleppo        0.418980  9999.000000  9999.000000     0.741322     0.131466   \n",
       "Amman         1.286990     0.200974     1.305474     1.672452     1.054130   \n",
       "Beirut        0.931336     0.432390     1.100652     1.364532     0.674223   \n",
       "Damascus   9999.000000     0.221434     0.907578  9999.000000  9999.000000   \n",
       "Gaziantep     0.585006     1.161560     0.860702     0.790100     0.368824   \n",
       "Hama          0.542212  9999.000000     0.820802     0.975408     0.209080   \n",
       "Homs       9999.000000  9999.000000  9999.000000  9999.000000     0.305146   \n",
       "\n",
       "           Jubb al Jarrah     Qamishli  \n",
       "Aleppo        9999.000000     0.849492  \n",
       "Amman            0.897774     1.828356  \n",
       "Beirut           0.566534     1.472702  \n",
       "Damascus      9999.000000  9999.000000  \n",
       "Gaziantep        0.703730     0.898270  \n",
       "Hama             0.197006     1.083580  \n",
       "Homs             0.194996  9999.000000  "
      ]
     },
     "execution_count": 3,
     "metadata": {},
     "output_type": "execute_result"
    }
   ],
   "source": [
    "transportation = pd.DataFrame({\n",
    "    'Ar Raqqa':       [ 0.41898,  1.28699, 0.931336,     9999, 0.585006, 0.542212,     9999],\n",
    "    'Dara':           [    9999, 0.200974,  0.43239, 0.221434,  1.16156,     9999,     9999],\n",
    "    'Dayr Az Zor':    [    9999, 1.305474, 1.100652, 0.907578, 0.860702, 0.820802,     9999],\n",
    "    'Hassakeh':       [0.741322, 1.672452, 1.364532,     9999,   0.7901, 0.975408,     9999],\n",
    "    'Idleb':          [0.131466,  1.05413, 0.674223,     9999, 0.368824,  0.20908, 0.305146],\n",
    "    'Jubb al Jarrah': [    9999, 0.897774, 0.566534,     9999,  0.70373, 0.197006, 0.194996],\n",
    "    'Qamishli':       [0.849492, 1.828356, 1.472702,     9999,  0.89827,  1.08358,     9999]\n",
    "}, index=procurement.index)\n",
    "transportation"
   ]
  },
  {
   "cell_type": "markdown",
   "metadata": {},
   "source": [
    "This code creates a pandas DataFrame named `nutrition` that contains the nutritional content of various food items. Each column in the DataFrame represents a specific nutrient, such as energy (kcal), protein (g), fat (g), calcium (mg), iron (mg), and several vitamins and minerals. Each row corresponds to a food item, with the row labels taken from the columns of the previously defined `procurement` DataFrame (for example, Beans, Bulgur, Cheese, etc.).\n",
    "\n",
    "The values in the DataFrame indicate the amount of each nutrient provided by one unit of the corresponding food item. For example, the value under 'Protein (g)' for Beans shows how many grams of protein are in one unit of beans. Some values are zero, indicating that the food does not provide that particular nutrient. Notably, the value `10000000` for iodine in one food item is likely used to represent iodized salt, which is extremely rich in iodine.\n",
    "\n",
    "By organizing the nutritional data in this way, the DataFrame makes it easy to look up the nutrient content of any food item, which is essential for formulating diets or solving optimization problems that must meet specific nutritional requirements. The final line, `nutrition`, displays the DataFrame for inspection."
   ]
  },
  {
   "cell_type": "code",
   "execution_count": 4,
   "metadata": {},
   "outputs": [
    {
     "data": {
      "application/vnd.microsoft.datawrangler.viewer.v0+json": {
       "columns": [
        {
         "name": "index",
         "rawType": "object",
         "type": "string"
        },
        {
         "name": "Energy (kcal)",
         "rawType": "int64",
         "type": "integer"
        },
        {
         "name": "Protein (g)",
         "rawType": "int64",
         "type": "integer"
        },
        {
         "name": "Fat (g)",
         "rawType": "int64",
         "type": "integer"
        },
        {
         "name": "Calcium (mg)",
         "rawType": "int64",
         "type": "integer"
        },
        {
         "name": "Iron (mg)",
         "rawType": "int64",
         "type": "integer"
        },
        {
         "name": "Vitamin A (ug)",
         "rawType": "int64",
         "type": "integer"
        },
        {
         "name": "Thiamine B1 (mg)",
         "rawType": "float64",
         "type": "float"
        },
        {
         "name": "Riboflavin B2 (mg)",
         "rawType": "float64",
         "type": "float"
        },
        {
         "name": "Niacin B3 (mg)",
         "rawType": "int64",
         "type": "integer"
        },
        {
         "name": "Folate B9 (ug)",
         "rawType": "int64",
         "type": "integer"
        },
        {
         "name": "Iodine (ug)",
         "rawType": "int64",
         "type": "integer"
        }
       ],
       "ref": "6c3f5d01-58b4-43bd-8466-a1e413282dfb",
       "rows": [
        [
         "Beans",
         "3350",
         "200",
         "12",
         "1430",
         "62",
         "0",
         "5.0",
         "2.2",
         "21",
         "1800",
         "0"
        ],
        [
         "Bulgur",
         "3350",
         "110",
         "15",
         "230",
         "78",
         "0",
         "3.0",
         "1.0",
         "55",
         "380",
         "0"
        ],
        [
         "Cheese",
         "3350",
         "225",
         "280",
         "6300",
         "2",
         "1200",
         "0.3",
         "4.5",
         "2",
         "0",
         "0"
        ],
        [
         "Chickpeas",
         "3350",
         "220",
         "14",
         "1300",
         "52",
         "0",
         "6.0",
         "1.9",
         "30",
         "1000",
         "0"
        ],
        [
         "Dates",
         "2450",
         "20",
         "5",
         "320",
         "12",
         "0",
         "0.9",
         "1.0",
         "22",
         "130",
         "0"
        ],
        [
         "Fish",
         "3050",
         "220",
         "240",
         "3300",
         "27",
         "0",
         "4.0",
         "3.0",
         "65",
         "160",
         "0"
        ],
        [
         "Lentils",
         "2400",
         "200",
         "6",
         "510",
         "90",
         "0",
         "5.0",
         "2.5",
         "26",
         "0",
         "0"
        ],
        [
         "Meat",
         "2200",
         "210",
         "150",
         "140",
         "41",
         "0",
         "2.0",
         "2.3",
         "32",
         "20",
         "0"
        ],
        [
         "Milk",
         "3600",
         "360",
         "10",
         "912",
         "5",
         "2800",
         "2.8",
         "12.1",
         "6",
         "370",
         "0"
        ],
        [
         "Oil",
         "8850",
         "0",
         "1000",
         "0",
         "0",
         "0",
         "0.0",
         "0.0",
         "0",
         "0",
         "0"
        ],
        [
         "Rice",
         "3600",
         "70",
         "5",
         "70",
         "12",
         "0",
         "2.0",
         "0.8",
         "26",
         "110",
         "0"
        ],
        [
         "Salt",
         "0",
         "0",
         "0",
         "0",
         "0",
         "0",
         "0.0",
         "0.0",
         "0",
         "0",
         "10000000"
        ],
        [
         "Sugar",
         "4000",
         "0",
         "0",
         "0",
         "0",
         "0",
         "0.0",
         "0.0",
         "0",
         "0",
         "0"
        ],
        [
         "Wheat flour",
         "2500",
         "115",
         "15",
         "290",
         "37",
         "0",
         "2.8",
         "1.4",
         "45",
         "0",
         "0"
        ]
       ],
       "shape": {
        "columns": 11,
        "rows": 14
       }
      },
      "text/html": [
       "<div>\n",
       "<style scoped>\n",
       "    .dataframe tbody tr th:only-of-type {\n",
       "        vertical-align: middle;\n",
       "    }\n",
       "\n",
       "    .dataframe tbody tr th {\n",
       "        vertical-align: top;\n",
       "    }\n",
       "\n",
       "    .dataframe thead th {\n",
       "        text-align: right;\n",
       "    }\n",
       "</style>\n",
       "<table border=\"1\" class=\"dataframe\">\n",
       "  <thead>\n",
       "    <tr style=\"text-align: right;\">\n",
       "      <th></th>\n",
       "      <th>Energy (kcal)</th>\n",
       "      <th>Protein (g)</th>\n",
       "      <th>Fat (g)</th>\n",
       "      <th>Calcium (mg)</th>\n",
       "      <th>Iron (mg)</th>\n",
       "      <th>Vitamin A (ug)</th>\n",
       "      <th>Thiamine B1 (mg)</th>\n",
       "      <th>Riboflavin B2 (mg)</th>\n",
       "      <th>Niacin B3 (mg)</th>\n",
       "      <th>Folate B9 (ug)</th>\n",
       "      <th>Iodine (ug)</th>\n",
       "    </tr>\n",
       "  </thead>\n",
       "  <tbody>\n",
       "    <tr>\n",
       "      <th>Beans</th>\n",
       "      <td>3350</td>\n",
       "      <td>200</td>\n",
       "      <td>12</td>\n",
       "      <td>1430</td>\n",
       "      <td>62</td>\n",
       "      <td>0</td>\n",
       "      <td>5.0</td>\n",
       "      <td>2.2</td>\n",
       "      <td>21</td>\n",
       "      <td>1800</td>\n",
       "      <td>0</td>\n",
       "    </tr>\n",
       "    <tr>\n",
       "      <th>Bulgur</th>\n",
       "      <td>3350</td>\n",
       "      <td>110</td>\n",
       "      <td>15</td>\n",
       "      <td>230</td>\n",
       "      <td>78</td>\n",
       "      <td>0</td>\n",
       "      <td>3.0</td>\n",
       "      <td>1.0</td>\n",
       "      <td>55</td>\n",
       "      <td>380</td>\n",
       "      <td>0</td>\n",
       "    </tr>\n",
       "    <tr>\n",
       "      <th>Cheese</th>\n",
       "      <td>3350</td>\n",
       "      <td>225</td>\n",
       "      <td>280</td>\n",
       "      <td>6300</td>\n",
       "      <td>2</td>\n",
       "      <td>1200</td>\n",
       "      <td>0.3</td>\n",
       "      <td>4.5</td>\n",
       "      <td>2</td>\n",
       "      <td>0</td>\n",
       "      <td>0</td>\n",
       "    </tr>\n",
       "    <tr>\n",
       "      <th>Chickpeas</th>\n",
       "      <td>3350</td>\n",
       "      <td>220</td>\n",
       "      <td>14</td>\n",
       "      <td>1300</td>\n",
       "      <td>52</td>\n",
       "      <td>0</td>\n",
       "      <td>6.0</td>\n",
       "      <td>1.9</td>\n",
       "      <td>30</td>\n",
       "      <td>1000</td>\n",
       "      <td>0</td>\n",
       "    </tr>\n",
       "    <tr>\n",
       "      <th>Dates</th>\n",
       "      <td>2450</td>\n",
       "      <td>20</td>\n",
       "      <td>5</td>\n",
       "      <td>320</td>\n",
       "      <td>12</td>\n",
       "      <td>0</td>\n",
       "      <td>0.9</td>\n",
       "      <td>1.0</td>\n",
       "      <td>22</td>\n",
       "      <td>130</td>\n",
       "      <td>0</td>\n",
       "    </tr>\n",
       "    <tr>\n",
       "      <th>Fish</th>\n",
       "      <td>3050</td>\n",
       "      <td>220</td>\n",
       "      <td>240</td>\n",
       "      <td>3300</td>\n",
       "      <td>27</td>\n",
       "      <td>0</td>\n",
       "      <td>4.0</td>\n",
       "      <td>3.0</td>\n",
       "      <td>65</td>\n",
       "      <td>160</td>\n",
       "      <td>0</td>\n",
       "    </tr>\n",
       "    <tr>\n",
       "      <th>Lentils</th>\n",
       "      <td>2400</td>\n",
       "      <td>200</td>\n",
       "      <td>6</td>\n",
       "      <td>510</td>\n",
       "      <td>90</td>\n",
       "      <td>0</td>\n",
       "      <td>5.0</td>\n",
       "      <td>2.5</td>\n",
       "      <td>26</td>\n",
       "      <td>0</td>\n",
       "      <td>0</td>\n",
       "    </tr>\n",
       "    <tr>\n",
       "      <th>Meat</th>\n",
       "      <td>2200</td>\n",
       "      <td>210</td>\n",
       "      <td>150</td>\n",
       "      <td>140</td>\n",
       "      <td>41</td>\n",
       "      <td>0</td>\n",
       "      <td>2.0</td>\n",
       "      <td>2.3</td>\n",
       "      <td>32</td>\n",
       "      <td>20</td>\n",
       "      <td>0</td>\n",
       "    </tr>\n",
       "    <tr>\n",
       "      <th>Milk</th>\n",
       "      <td>3600</td>\n",
       "      <td>360</td>\n",
       "      <td>10</td>\n",
       "      <td>912</td>\n",
       "      <td>5</td>\n",
       "      <td>2800</td>\n",
       "      <td>2.8</td>\n",
       "      <td>12.1</td>\n",
       "      <td>6</td>\n",
       "      <td>370</td>\n",
       "      <td>0</td>\n",
       "    </tr>\n",
       "    <tr>\n",
       "      <th>Oil</th>\n",
       "      <td>8850</td>\n",
       "      <td>0</td>\n",
       "      <td>1000</td>\n",
       "      <td>0</td>\n",
       "      <td>0</td>\n",
       "      <td>0</td>\n",
       "      <td>0.0</td>\n",
       "      <td>0.0</td>\n",
       "      <td>0</td>\n",
       "      <td>0</td>\n",
       "      <td>0</td>\n",
       "    </tr>\n",
       "    <tr>\n",
       "      <th>Rice</th>\n",
       "      <td>3600</td>\n",
       "      <td>70</td>\n",
       "      <td>5</td>\n",
       "      <td>70</td>\n",
       "      <td>12</td>\n",
       "      <td>0</td>\n",
       "      <td>2.0</td>\n",
       "      <td>0.8</td>\n",
       "      <td>26</td>\n",
       "      <td>110</td>\n",
       "      <td>0</td>\n",
       "    </tr>\n",
       "    <tr>\n",
       "      <th>Salt</th>\n",
       "      <td>0</td>\n",
       "      <td>0</td>\n",
       "      <td>0</td>\n",
       "      <td>0</td>\n",
       "      <td>0</td>\n",
       "      <td>0</td>\n",
       "      <td>0.0</td>\n",
       "      <td>0.0</td>\n",
       "      <td>0</td>\n",
       "      <td>0</td>\n",
       "      <td>10000000</td>\n",
       "    </tr>\n",
       "    <tr>\n",
       "      <th>Sugar</th>\n",
       "      <td>4000</td>\n",
       "      <td>0</td>\n",
       "      <td>0</td>\n",
       "      <td>0</td>\n",
       "      <td>0</td>\n",
       "      <td>0</td>\n",
       "      <td>0.0</td>\n",
       "      <td>0.0</td>\n",
       "      <td>0</td>\n",
       "      <td>0</td>\n",
       "      <td>0</td>\n",
       "    </tr>\n",
       "    <tr>\n",
       "      <th>Wheat flour</th>\n",
       "      <td>2500</td>\n",
       "      <td>115</td>\n",
       "      <td>15</td>\n",
       "      <td>290</td>\n",
       "      <td>37</td>\n",
       "      <td>0</td>\n",
       "      <td>2.8</td>\n",
       "      <td>1.4</td>\n",
       "      <td>45</td>\n",
       "      <td>0</td>\n",
       "      <td>0</td>\n",
       "    </tr>\n",
       "  </tbody>\n",
       "</table>\n",
       "</div>"
      ],
      "text/plain": [
       "             Energy (kcal)  Protein (g)  Fat (g)  Calcium (mg)  Iron (mg)  \\\n",
       "Beans                 3350          200       12          1430         62   \n",
       "Bulgur                3350          110       15           230         78   \n",
       "Cheese                3350          225      280          6300          2   \n",
       "Chickpeas             3350          220       14          1300         52   \n",
       "Dates                 2450           20        5           320         12   \n",
       "Fish                  3050          220      240          3300         27   \n",
       "Lentils               2400          200        6           510         90   \n",
       "Meat                  2200          210      150           140         41   \n",
       "Milk                  3600          360       10           912          5   \n",
       "Oil                   8850            0     1000             0          0   \n",
       "Rice                  3600           70        5            70         12   \n",
       "Salt                     0            0        0             0          0   \n",
       "Sugar                 4000            0        0             0          0   \n",
       "Wheat flour           2500          115       15           290         37   \n",
       "\n",
       "             Vitamin A (ug)  Thiamine B1 (mg)  Riboflavin B2 (mg)  \\\n",
       "Beans                     0               5.0                 2.2   \n",
       "Bulgur                    0               3.0                 1.0   \n",
       "Cheese                 1200               0.3                 4.5   \n",
       "Chickpeas                 0               6.0                 1.9   \n",
       "Dates                     0               0.9                 1.0   \n",
       "Fish                      0               4.0                 3.0   \n",
       "Lentils                   0               5.0                 2.5   \n",
       "Meat                      0               2.0                 2.3   \n",
       "Milk                   2800               2.8                12.1   \n",
       "Oil                       0               0.0                 0.0   \n",
       "Rice                      0               2.0                 0.8   \n",
       "Salt                      0               0.0                 0.0   \n",
       "Sugar                     0               0.0                 0.0   \n",
       "Wheat flour               0               2.8                 1.4   \n",
       "\n",
       "             Niacin B3 (mg)  Folate B9 (ug)  Iodine (ug)  \n",
       "Beans                    21            1800            0  \n",
       "Bulgur                   55             380            0  \n",
       "Cheese                    2               0            0  \n",
       "Chickpeas                30            1000            0  \n",
       "Dates                    22             130            0  \n",
       "Fish                     65             160            0  \n",
       "Lentils                  26               0            0  \n",
       "Meat                     32              20            0  \n",
       "Milk                      6             370            0  \n",
       "Oil                       0               0            0  \n",
       "Rice                     26             110            0  \n",
       "Salt                      0               0     10000000  \n",
       "Sugar                     0               0            0  \n",
       "Wheat flour              45               0            0  "
      ]
     },
     "execution_count": 4,
     "metadata": {},
     "output_type": "execute_result"
    }
   ],
   "source": [
    "nutrition = pd.DataFrame({\n",
    "    'Energy (kcal)':      [3350, 3350, 3350, 3350, 2450, 3050, 2400, 2200, 3600, 8850, 3600,        0, 4000, 2500],\n",
    "    'Protein (g)':        [ 200,  110,  225,  220,   20,  220,  200,  210,  360,    0,   70,        0,    0,  115],\n",
    "    'Fat (g)':            [  12,   15,  280,   14,    5,  240,    6,  150,   10, 1000,    5,        0,    0,   15],\n",
    "    'Calcium (mg)':       [1430,  230, 6300, 1300,  320, 3300,  510,  140,  912,    0,   70,        0,    0,  290],\n",
    "    'Iron (mg)':          [  62,   78,    2,   52,   12,   27,   90,   41,    5,    0,   12,        0,    0,   37],\n",
    "    'Vitamin A (ug)':     [   0,    0, 1200,    0,    0,    0,    0,    0, 2800,    0,    0,        0,    0,    0],\n",
    "    'Thiamine B1 (mg)':   [   5,    3,  0.3,    6,  0.9,    4,    5,    2,  2.8,    0,    2,        0,    0,  2.8],\n",
    "    'Riboflavin B2 (mg)': [ 2.2,    1,  4.5,  1.9,    1,    3,  2.5,  2.3, 12.1,    0,  0.8,        0,    0,  1.4],\n",
    "    'Niacin B3 (mg)':     [  21,   55,    2,   30,   22,   65,   26 ,  32,    6,    0,   26,        0,    0,   45],\n",
    "    'Folate B9 (ug)':     [1800,  380,    0, 1000,  130,  160,    0,   20,  370,    0,  110,        0,    0,    0],\n",
    "    'Iodine (ug)':        [   0,   0,     0,    0,    0,    0,    0,    0,    0,    0,    0, 10000000,    0,    0]\n",
    "}, index=procurement.columns)\n",
    "nutrition"
   ]
  },
  {
   "cell_type": "markdown",
   "metadata": {},
   "source": [
    "This code calculates the total nutritional demand for each city based on per-person requirements and city populations. The `requirements_per_person` DataFrame lists the required amounts of various nutrients for a single person (such as calories, protein, vitamins, etc.), while the `population` DataFrame contains the population size for each city.\n",
    "\n",
    "The line `demand = requirements_per_person.dot(population.T).T` computes the total demand for each nutrient in each city by multiplying the per-person requirements by the population of each city. The `.dot()` method performs a matrix multiplication, resulting in a DataFrame where each row corresponds to a city and each column to a nutrient.\n",
    "\n",
    "Next, the code sets the row and column labels of the `demand` DataFrame to match the city names (from `transportation.columns`) and nutrient names (from `nutrition.columns`), ensuring the DataFrame is easy to interpret and aligns with other data structures in the model. Finally, displaying `demand` shows the total amount of each nutrient required in each city, which is essential for setting up constraints in the subsequent optimization problem."
   ]
  },
  {
   "cell_type": "code",
   "execution_count": 5,
   "metadata": {},
   "outputs": [
    {
     "data": {
      "application/vnd.microsoft.datawrangler.viewer.v0+json": {
       "columns": [
        {
         "name": "index",
         "rawType": "object",
         "type": "string"
        },
        {
         "name": "Energy (kcal)",
         "rawType": "float64",
         "type": "float"
        },
        {
         "name": "Protein (g)",
         "rawType": "float64",
         "type": "float"
        },
        {
         "name": "Fat (g)",
         "rawType": "float64",
         "type": "float"
        },
        {
         "name": "Calcium (mg)",
         "rawType": "float64",
         "type": "float"
        },
        {
         "name": "Iron (mg)",
         "rawType": "float64",
         "type": "float"
        },
        {
         "name": "Vitamin A (ug)",
         "rawType": "float64",
         "type": "float"
        },
        {
         "name": "Thiamine B1 (mg)",
         "rawType": "float64",
         "type": "float"
        },
        {
         "name": "Riboflavin B2 (mg)",
         "rawType": "float64",
         "type": "float"
        },
        {
         "name": "Niacin B3 (mg)",
         "rawType": "float64",
         "type": "float"
        },
        {
         "name": "Folate B9 (ug)",
         "rawType": "float64",
         "type": "float"
        },
        {
         "name": "Iodine (ug)",
         "rawType": "float64",
         "type": "float"
        }
       ],
       "ref": "5cb5fc09-e296-4443-9502-dc5dc26d0d4d",
       "rows": [
        [
         "Ar Raqqa",
         "21000000.0",
         "525000.0",
         "892500.0",
         "11000000.0",
         "220000.0",
         "5000000.0",
         "9000.0",
         "14000.0",
         "120000.0",
         "1600000.0",
         "1500000.0"
        ],
        [
         "Dara",
         "42000000.0",
         "1050000.0",
         "1785000.0",
         "22000000.0",
         "440000.0",
         "10000000.0",
         "18000.0",
         "28000.0",
         "240000.0",
         "3200000.0",
         "3000000.0"
        ],
        [
         "Dayr Az Zor",
         "52500000.0",
         "1312500.0",
         "2231250.0",
         "27500000.0",
         "550000.0",
         "12500000.0",
         "22500.0",
         "35000.0",
         "300000.0",
         "4000000.0",
         "3750000.0"
        ],
        [
         "Hassakeh",
         "10500000.0",
         "262500.0",
         "446250.0",
         "5500000.0",
         "110000.0",
         "2500000.0",
         "4500.0",
         "7000.0",
         "60000.0",
         "800000.0",
         "750000.0"
        ],
        [
         "Idleb",
         "21000000.0",
         "525000.0",
         "892500.0",
         "11000000.0",
         "220000.0",
         "5000000.0",
         "9000.0",
         "14000.0",
         "120000.0",
         "1600000.0",
         "1500000.0"
        ],
        [
         "Jubb al Jarrah",
         "42000000.0",
         "1050000.0",
         "1785000.0",
         "22000000.0",
         "440000.0",
         "10000000.0",
         "18000.0",
         "28000.0",
         "240000.0",
         "3200000.0",
         "3000000.0"
        ],
        [
         "Qamishli",
         "10500000.0",
         "262500.0",
         "446250.0",
         "5500000.0",
         "110000.0",
         "2500000.0",
         "4500.0",
         "7000.0",
         "60000.0",
         "800000.0",
         "750000.0"
        ]
       ],
       "shape": {
        "columns": 11,
        "rows": 7
       }
      },
      "text/html": [
       "<div>\n",
       "<style scoped>\n",
       "    .dataframe tbody tr th:only-of-type {\n",
       "        vertical-align: middle;\n",
       "    }\n",
       "\n",
       "    .dataframe tbody tr th {\n",
       "        vertical-align: top;\n",
       "    }\n",
       "\n",
       "    .dataframe thead th {\n",
       "        text-align: right;\n",
       "    }\n",
       "</style>\n",
       "<table border=\"1\" class=\"dataframe\">\n",
       "  <thead>\n",
       "    <tr style=\"text-align: right;\">\n",
       "      <th></th>\n",
       "      <th>Energy (kcal)</th>\n",
       "      <th>Protein (g)</th>\n",
       "      <th>Fat (g)</th>\n",
       "      <th>Calcium (mg)</th>\n",
       "      <th>Iron (mg)</th>\n",
       "      <th>Vitamin A (ug)</th>\n",
       "      <th>Thiamine B1 (mg)</th>\n",
       "      <th>Riboflavin B2 (mg)</th>\n",
       "      <th>Niacin B3 (mg)</th>\n",
       "      <th>Folate B9 (ug)</th>\n",
       "      <th>Iodine (ug)</th>\n",
       "    </tr>\n",
       "  </thead>\n",
       "  <tbody>\n",
       "    <tr>\n",
       "      <th>Ar Raqqa</th>\n",
       "      <td>21000000.0</td>\n",
       "      <td>525000.0</td>\n",
       "      <td>892500.0</td>\n",
       "      <td>11000000.0</td>\n",
       "      <td>220000.0</td>\n",
       "      <td>5000000.0</td>\n",
       "      <td>9000.0</td>\n",
       "      <td>14000.0</td>\n",
       "      <td>120000.0</td>\n",
       "      <td>1600000.0</td>\n",
       "      <td>1500000.0</td>\n",
       "    </tr>\n",
       "    <tr>\n",
       "      <th>Dara</th>\n",
       "      <td>42000000.0</td>\n",
       "      <td>1050000.0</td>\n",
       "      <td>1785000.0</td>\n",
       "      <td>22000000.0</td>\n",
       "      <td>440000.0</td>\n",
       "      <td>10000000.0</td>\n",
       "      <td>18000.0</td>\n",
       "      <td>28000.0</td>\n",
       "      <td>240000.0</td>\n",
       "      <td>3200000.0</td>\n",
       "      <td>3000000.0</td>\n",
       "    </tr>\n",
       "    <tr>\n",
       "      <th>Dayr Az Zor</th>\n",
       "      <td>52500000.0</td>\n",
       "      <td>1312500.0</td>\n",
       "      <td>2231250.0</td>\n",
       "      <td>27500000.0</td>\n",
       "      <td>550000.0</td>\n",
       "      <td>12500000.0</td>\n",
       "      <td>22500.0</td>\n",
       "      <td>35000.0</td>\n",
       "      <td>300000.0</td>\n",
       "      <td>4000000.0</td>\n",
       "      <td>3750000.0</td>\n",
       "    </tr>\n",
       "    <tr>\n",
       "      <th>Hassakeh</th>\n",
       "      <td>10500000.0</td>\n",
       "      <td>262500.0</td>\n",
       "      <td>446250.0</td>\n",
       "      <td>5500000.0</td>\n",
       "      <td>110000.0</td>\n",
       "      <td>2500000.0</td>\n",
       "      <td>4500.0</td>\n",
       "      <td>7000.0</td>\n",
       "      <td>60000.0</td>\n",
       "      <td>800000.0</td>\n",
       "      <td>750000.0</td>\n",
       "    </tr>\n",
       "    <tr>\n",
       "      <th>Idleb</th>\n",
       "      <td>21000000.0</td>\n",
       "      <td>525000.0</td>\n",
       "      <td>892500.0</td>\n",
       "      <td>11000000.0</td>\n",
       "      <td>220000.0</td>\n",
       "      <td>5000000.0</td>\n",
       "      <td>9000.0</td>\n",
       "      <td>14000.0</td>\n",
       "      <td>120000.0</td>\n",
       "      <td>1600000.0</td>\n",
       "      <td>1500000.0</td>\n",
       "    </tr>\n",
       "    <tr>\n",
       "      <th>Jubb al Jarrah</th>\n",
       "      <td>42000000.0</td>\n",
       "      <td>1050000.0</td>\n",
       "      <td>1785000.0</td>\n",
       "      <td>22000000.0</td>\n",
       "      <td>440000.0</td>\n",
       "      <td>10000000.0</td>\n",
       "      <td>18000.0</td>\n",
       "      <td>28000.0</td>\n",
       "      <td>240000.0</td>\n",
       "      <td>3200000.0</td>\n",
       "      <td>3000000.0</td>\n",
       "    </tr>\n",
       "    <tr>\n",
       "      <th>Qamishli</th>\n",
       "      <td>10500000.0</td>\n",
       "      <td>262500.0</td>\n",
       "      <td>446250.0</td>\n",
       "      <td>5500000.0</td>\n",
       "      <td>110000.0</td>\n",
       "      <td>2500000.0</td>\n",
       "      <td>4500.0</td>\n",
       "      <td>7000.0</td>\n",
       "      <td>60000.0</td>\n",
       "      <td>800000.0</td>\n",
       "      <td>750000.0</td>\n",
       "    </tr>\n",
       "  </tbody>\n",
       "</table>\n",
       "</div>"
      ],
      "text/plain": [
       "                Energy (kcal)  Protein (g)    Fat (g)  Calcium (mg)  \\\n",
       "Ar Raqqa           21000000.0     525000.0   892500.0    11000000.0   \n",
       "Dara               42000000.0    1050000.0  1785000.0    22000000.0   \n",
       "Dayr Az Zor        52500000.0    1312500.0  2231250.0    27500000.0   \n",
       "Hassakeh           10500000.0     262500.0   446250.0     5500000.0   \n",
       "Idleb              21000000.0     525000.0   892500.0    11000000.0   \n",
       "Jubb al Jarrah     42000000.0    1050000.0  1785000.0    22000000.0   \n",
       "Qamishli           10500000.0     262500.0   446250.0     5500000.0   \n",
       "\n",
       "                Iron (mg)  Vitamin A (ug)  Thiamine B1 (mg)  \\\n",
       "Ar Raqqa         220000.0       5000000.0            9000.0   \n",
       "Dara             440000.0      10000000.0           18000.0   \n",
       "Dayr Az Zor      550000.0      12500000.0           22500.0   \n",
       "Hassakeh         110000.0       2500000.0            4500.0   \n",
       "Idleb            220000.0       5000000.0            9000.0   \n",
       "Jubb al Jarrah   440000.0      10000000.0           18000.0   \n",
       "Qamishli         110000.0       2500000.0            4500.0   \n",
       "\n",
       "                Riboflavin B2 (mg)  Niacin B3 (mg)  Folate B9 (ug)  \\\n",
       "Ar Raqqa                   14000.0        120000.0       1600000.0   \n",
       "Dara                       28000.0        240000.0       3200000.0   \n",
       "Dayr Az Zor                35000.0        300000.0       4000000.0   \n",
       "Hassakeh                    7000.0         60000.0        800000.0   \n",
       "Idleb                      14000.0        120000.0       1600000.0   \n",
       "Jubb al Jarrah             28000.0        240000.0       3200000.0   \n",
       "Qamishli                    7000.0         60000.0        800000.0   \n",
       "\n",
       "                Iodine (ug)  \n",
       "Ar Raqqa          1500000.0  \n",
       "Dara              3000000.0  \n",
       "Dayr Az Zor       3750000.0  \n",
       "Hassakeh           750000.0  \n",
       "Idleb             1500000.0  \n",
       "Jubb al Jarrah    3000000.0  \n",
       "Qamishli           750000.0  "
      ]
     },
     "execution_count": 5,
     "metadata": {},
     "output_type": "execute_result"
    }
   ],
   "source": [
    "requirements_per_person      = pd.DataFrame([2100, 52.5, 89.25, 1100, 22, 500, 0.9, 1.4, 12, 160, 150])\n",
    "population                   = pd.DataFrame([1e4, 2e4, 25e3, 5e3, 1e4, 2e4, 5e3])\n",
    "demand                       = requirements_per_person.dot(population.T).T\n",
    "demand.index, demand.columns = transportation.columns, nutrition.columns\n",
    "demand"
   ]
  },
  {
   "cell_type": "markdown",
   "metadata": {},
   "source": [
    "## Decision variables\n",
    "This code defines the structure for the decision variables used in the optimization problem. The `shipping_index` list is created using a nested list comprehension that generates all possible combinations of food items, origin cities, and destination cities. Each element in `shipping_index` is a tuple of the form `(food, origin, destination)`, representing a unique shipping route for a specific food item from an origin city to a destination city.\n",
    "\n",
    "Next, a pandas Series named `shipping` is initialized with zeros, with its length equal to the number of possible shipping routes (i.e., the length of `shipping_index`). The `index` of this Series is set to `shipping_index`, so each entry in `shipping` corresponds to a specific (food, origin, destination) combination. This Series will later be used as the vector of decision variables in the optimization, where each value represents the quantity of a particular food shipped along a specific route. Displaying `shipping` allows you to inspect the initial setup before it is used in the optimization process."
   ]
  },
  {
   "cell_type": "code",
   "execution_count": 6,
   "metadata": {
    "scrolled": true
   },
   "outputs": [
    {
     "data": {
      "application/vnd.microsoft.datawrangler.viewer.v0+json": {
       "columns": [
        {
         "name": "index",
         "rawType": "object",
         "type": "unknown"
        },
        {
         "name": "0",
         "rawType": "int64",
         "type": "integer"
        }
       ],
       "ref": "6023e4b7-fcba-4152-89aa-258528d9624a",
       "rows": [
        [
         "('Beans', 'Aleppo', 'Ar Raqqa')",
         "0"
        ],
        [
         "('Beans', 'Aleppo', 'Dara')",
         "0"
        ],
        [
         "('Beans', 'Aleppo', 'Dayr Az Zor')",
         "0"
        ],
        [
         "('Beans', 'Aleppo', 'Hassakeh')",
         "0"
        ],
        [
         "('Beans', 'Aleppo', 'Idleb')",
         "0"
        ],
        [
         "('Beans', 'Aleppo', 'Jubb al Jarrah')",
         "0"
        ],
        [
         "('Beans', 'Aleppo', 'Qamishli')",
         "0"
        ],
        [
         "('Beans', 'Amman', 'Ar Raqqa')",
         "0"
        ],
        [
         "('Beans', 'Amman', 'Dara')",
         "0"
        ],
        [
         "('Beans', 'Amman', 'Dayr Az Zor')",
         "0"
        ],
        [
         "('Beans', 'Amman', 'Hassakeh')",
         "0"
        ],
        [
         "('Beans', 'Amman', 'Idleb')",
         "0"
        ],
        [
         "('Beans', 'Amman', 'Jubb al Jarrah')",
         "0"
        ],
        [
         "('Beans', 'Amman', 'Qamishli')",
         "0"
        ],
        [
         "('Beans', 'Beirut', 'Ar Raqqa')",
         "0"
        ],
        [
         "('Beans', 'Beirut', 'Dara')",
         "0"
        ],
        [
         "('Beans', 'Beirut', 'Dayr Az Zor')",
         "0"
        ],
        [
         "('Beans', 'Beirut', 'Hassakeh')",
         "0"
        ],
        [
         "('Beans', 'Beirut', 'Idleb')",
         "0"
        ],
        [
         "('Beans', 'Beirut', 'Jubb al Jarrah')",
         "0"
        ],
        [
         "('Beans', 'Beirut', 'Qamishli')",
         "0"
        ],
        [
         "('Beans', 'Damascus', 'Ar Raqqa')",
         "0"
        ],
        [
         "('Beans', 'Damascus', 'Dara')",
         "0"
        ],
        [
         "('Beans', 'Damascus', 'Dayr Az Zor')",
         "0"
        ],
        [
         "('Beans', 'Damascus', 'Hassakeh')",
         "0"
        ],
        [
         "('Beans', 'Damascus', 'Idleb')",
         "0"
        ],
        [
         "('Beans', 'Damascus', 'Jubb al Jarrah')",
         "0"
        ],
        [
         "('Beans', 'Damascus', 'Qamishli')",
         "0"
        ],
        [
         "('Beans', 'Gaziantep', 'Ar Raqqa')",
         "0"
        ],
        [
         "('Beans', 'Gaziantep', 'Dara')",
         "0"
        ],
        [
         "('Beans', 'Gaziantep', 'Dayr Az Zor')",
         "0"
        ],
        [
         "('Beans', 'Gaziantep', 'Hassakeh')",
         "0"
        ],
        [
         "('Beans', 'Gaziantep', 'Idleb')",
         "0"
        ],
        [
         "('Beans', 'Gaziantep', 'Jubb al Jarrah')",
         "0"
        ],
        [
         "('Beans', 'Gaziantep', 'Qamishli')",
         "0"
        ],
        [
         "('Beans', 'Hama', 'Ar Raqqa')",
         "0"
        ],
        [
         "('Beans', 'Hama', 'Dara')",
         "0"
        ],
        [
         "('Beans', 'Hama', 'Dayr Az Zor')",
         "0"
        ],
        [
         "('Beans', 'Hama', 'Hassakeh')",
         "0"
        ],
        [
         "('Beans', 'Hama', 'Idleb')",
         "0"
        ],
        [
         "('Beans', 'Hama', 'Jubb al Jarrah')",
         "0"
        ],
        [
         "('Beans', 'Hama', 'Qamishli')",
         "0"
        ],
        [
         "('Beans', 'Homs', 'Ar Raqqa')",
         "0"
        ],
        [
         "('Beans', 'Homs', 'Dara')",
         "0"
        ],
        [
         "('Beans', 'Homs', 'Dayr Az Zor')",
         "0"
        ],
        [
         "('Beans', 'Homs', 'Hassakeh')",
         "0"
        ],
        [
         "('Beans', 'Homs', 'Idleb')",
         "0"
        ],
        [
         "('Beans', 'Homs', 'Jubb al Jarrah')",
         "0"
        ],
        [
         "('Beans', 'Homs', 'Qamishli')",
         "0"
        ],
        [
         "('Bulgur', 'Aleppo', 'Ar Raqqa')",
         "0"
        ]
       ],
       "shape": {
        "columns": 1,
        "rows": 686
       }
      },
      "text/plain": [
       "(Beans, Aleppo, Ar Raqqa)              0\n",
       "(Beans, Aleppo, Dara)                  0\n",
       "(Beans, Aleppo, Dayr Az Zor)           0\n",
       "(Beans, Aleppo, Hassakeh)              0\n",
       "(Beans, Aleppo, Idleb)                 0\n",
       "                                      ..\n",
       "(Wheat flour, Homs, Dayr Az Zor)       0\n",
       "(Wheat flour, Homs, Hassakeh)          0\n",
       "(Wheat flour, Homs, Idleb)             0\n",
       "(Wheat flour, Homs, Jubb al Jarrah)    0\n",
       "(Wheat flour, Homs, Qamishli)          0\n",
       "Length: 686, dtype: int64"
      ]
     },
     "execution_count": 6,
     "metadata": {},
     "output_type": "execute_result"
    }
   ],
   "source": [
    "shipping_index = [(food, origin, destination)\n",
    "                  for food in nutrition.index\n",
    "                  for origin in transportation.index\n",
    "                  for destination in transportation.columns]\n",
    "shipping       = pd.Series([0] * len(shipping_index), index=shipping_index)\n",
    "shipping"
   ]
  },
  {
   "cell_type": "markdown",
   "metadata": {},
   "source": [
    "This code creates a list called `bnds` that specifies the bounds for each decision variable in the optimization problem. The expression `[(0, None)] * len(shipping)` generates a list where each element is the tuple `(0, None)`, and the total number of elements matches the number of shipping variables (i.e., the length of the `shipping` Series).\n",
    "\n",
    "The tuple `(0, None)` means that each shipping variable must be greater than or equal to zero (no negative shipments), with no upper limit (the upper bound is unbounded). This is a common way to enforce non-negativity constraints in optimization problems. The resulting `bnds` list will be passed to the optimizer to ensure all shipping quantities remain physically meaningful during the solution process. Displaying `bnds` allows you to verify the bounds before running the optimization."
   ]
  },
  {
   "cell_type": "code",
   "execution_count": 7,
   "metadata": {},
   "outputs": [
    {
     "data": {
      "text/plain": [
       "[(0, None),\n",
       " (0, None),\n",
       " (0, None),\n",
       " (0, None),\n",
       " (0, None),\n",
       " (0, None),\n",
       " (0, None),\n",
       " (0, None),\n",
       " (0, None),\n",
       " (0, None),\n",
       " (0, None),\n",
       " (0, None),\n",
       " (0, None),\n",
       " (0, None),\n",
       " (0, None),\n",
       " (0, None),\n",
       " (0, None),\n",
       " (0, None),\n",
       " (0, None),\n",
       " (0, None),\n",
       " (0, None),\n",
       " (0, None),\n",
       " (0, None),\n",
       " (0, None),\n",
       " (0, None),\n",
       " (0, None),\n",
       " (0, None),\n",
       " (0, None),\n",
       " (0, None),\n",
       " (0, None),\n",
       " (0, None),\n",
       " (0, None),\n",
       " (0, None),\n",
       " (0, None),\n",
       " (0, None),\n",
       " (0, None),\n",
       " (0, None),\n",
       " (0, None),\n",
       " (0, None),\n",
       " (0, None),\n",
       " (0, None),\n",
       " (0, None),\n",
       " (0, None),\n",
       " (0, None),\n",
       " (0, None),\n",
       " (0, None),\n",
       " (0, None),\n",
       " (0, None),\n",
       " (0, None),\n",
       " (0, None),\n",
       " (0, None),\n",
       " (0, None),\n",
       " (0, None),\n",
       " (0, None),\n",
       " (0, None),\n",
       " (0, None),\n",
       " (0, None),\n",
       " (0, None),\n",
       " (0, None),\n",
       " (0, None),\n",
       " (0, None),\n",
       " (0, None),\n",
       " (0, None),\n",
       " (0, None),\n",
       " (0, None),\n",
       " (0, None),\n",
       " (0, None),\n",
       " (0, None),\n",
       " (0, None),\n",
       " (0, None),\n",
       " (0, None),\n",
       " (0, None),\n",
       " (0, None),\n",
       " (0, None),\n",
       " (0, None),\n",
       " (0, None),\n",
       " (0, None),\n",
       " (0, None),\n",
       " (0, None),\n",
       " (0, None),\n",
       " (0, None),\n",
       " (0, None),\n",
       " (0, None),\n",
       " (0, None),\n",
       " (0, None),\n",
       " (0, None),\n",
       " (0, None),\n",
       " (0, None),\n",
       " (0, None),\n",
       " (0, None),\n",
       " (0, None),\n",
       " (0, None),\n",
       " (0, None),\n",
       " (0, None),\n",
       " (0, None),\n",
       " (0, None),\n",
       " (0, None),\n",
       " (0, None),\n",
       " (0, None),\n",
       " (0, None),\n",
       " (0, None),\n",
       " (0, None),\n",
       " (0, None),\n",
       " (0, None),\n",
       " (0, None),\n",
       " (0, None),\n",
       " (0, None),\n",
       " (0, None),\n",
       " (0, None),\n",
       " (0, None),\n",
       " (0, None),\n",
       " (0, None),\n",
       " (0, None),\n",
       " (0, None),\n",
       " (0, None),\n",
       " (0, None),\n",
       " (0, None),\n",
       " (0, None),\n",
       " (0, None),\n",
       " (0, None),\n",
       " (0, None),\n",
       " (0, None),\n",
       " (0, None),\n",
       " (0, None),\n",
       " (0, None),\n",
       " (0, None),\n",
       " (0, None),\n",
       " (0, None),\n",
       " (0, None),\n",
       " (0, None),\n",
       " (0, None),\n",
       " (0, None),\n",
       " (0, None),\n",
       " (0, None),\n",
       " (0, None),\n",
       " (0, None),\n",
       " (0, None),\n",
       " (0, None),\n",
       " (0, None),\n",
       " (0, None),\n",
       " (0, None),\n",
       " (0, None),\n",
       " (0, None),\n",
       " (0, None),\n",
       " (0, None),\n",
       " (0, None),\n",
       " (0, None),\n",
       " (0, None),\n",
       " (0, None),\n",
       " (0, None),\n",
       " (0, None),\n",
       " (0, None),\n",
       " (0, None),\n",
       " (0, None),\n",
       " (0, None),\n",
       " (0, None),\n",
       " (0, None),\n",
       " (0, None),\n",
       " (0, None),\n",
       " (0, None),\n",
       " (0, None),\n",
       " (0, None),\n",
       " (0, None),\n",
       " (0, None),\n",
       " (0, None),\n",
       " (0, None),\n",
       " (0, None),\n",
       " (0, None),\n",
       " (0, None),\n",
       " (0, None),\n",
       " (0, None),\n",
       " (0, None),\n",
       " (0, None),\n",
       " (0, None),\n",
       " (0, None),\n",
       " (0, None),\n",
       " (0, None),\n",
       " (0, None),\n",
       " (0, None),\n",
       " (0, None),\n",
       " (0, None),\n",
       " (0, None),\n",
       " (0, None),\n",
       " (0, None),\n",
       " (0, None),\n",
       " (0, None),\n",
       " (0, None),\n",
       " (0, None),\n",
       " (0, None),\n",
       " (0, None),\n",
       " (0, None),\n",
       " (0, None),\n",
       " (0, None),\n",
       " (0, None),\n",
       " (0, None),\n",
       " (0, None),\n",
       " (0, None),\n",
       " (0, None),\n",
       " (0, None),\n",
       " (0, None),\n",
       " (0, None),\n",
       " (0, None),\n",
       " (0, None),\n",
       " (0, None),\n",
       " (0, None),\n",
       " (0, None),\n",
       " (0, None),\n",
       " (0, None),\n",
       " (0, None),\n",
       " (0, None),\n",
       " (0, None),\n",
       " (0, None),\n",
       " (0, None),\n",
       " (0, None),\n",
       " (0, None),\n",
       " (0, None),\n",
       " (0, None),\n",
       " (0, None),\n",
       " (0, None),\n",
       " (0, None),\n",
       " (0, None),\n",
       " (0, None),\n",
       " (0, None),\n",
       " (0, None),\n",
       " (0, None),\n",
       " (0, None),\n",
       " (0, None),\n",
       " (0, None),\n",
       " (0, None),\n",
       " (0, None),\n",
       " (0, None),\n",
       " (0, None),\n",
       " (0, None),\n",
       " (0, None),\n",
       " (0, None),\n",
       " (0, None),\n",
       " (0, None),\n",
       " (0, None),\n",
       " (0, None),\n",
       " (0, None),\n",
       " (0, None),\n",
       " (0, None),\n",
       " (0, None),\n",
       " (0, None),\n",
       " (0, None),\n",
       " (0, None),\n",
       " (0, None),\n",
       " (0, None),\n",
       " (0, None),\n",
       " (0, None),\n",
       " (0, None),\n",
       " (0, None),\n",
       " (0, None),\n",
       " (0, None),\n",
       " (0, None),\n",
       " (0, None),\n",
       " (0, None),\n",
       " (0, None),\n",
       " (0, None),\n",
       " (0, None),\n",
       " (0, None),\n",
       " (0, None),\n",
       " (0, None),\n",
       " (0, None),\n",
       " (0, None),\n",
       " (0, None),\n",
       " (0, None),\n",
       " (0, None),\n",
       " (0, None),\n",
       " (0, None),\n",
       " (0, None),\n",
       " (0, None),\n",
       " (0, None),\n",
       " (0, None),\n",
       " (0, None),\n",
       " (0, None),\n",
       " (0, None),\n",
       " (0, None),\n",
       " (0, None),\n",
       " (0, None),\n",
       " (0, None),\n",
       " (0, None),\n",
       " (0, None),\n",
       " (0, None),\n",
       " (0, None),\n",
       " (0, None),\n",
       " (0, None),\n",
       " (0, None),\n",
       " (0, None),\n",
       " (0, None),\n",
       " (0, None),\n",
       " (0, None),\n",
       " (0, None),\n",
       " (0, None),\n",
       " (0, None),\n",
       " (0, None),\n",
       " (0, None),\n",
       " (0, None),\n",
       " (0, None),\n",
       " (0, None),\n",
       " (0, None),\n",
       " (0, None),\n",
       " (0, None),\n",
       " (0, None),\n",
       " (0, None),\n",
       " (0, None),\n",
       " (0, None),\n",
       " (0, None),\n",
       " (0, None),\n",
       " (0, None),\n",
       " (0, None),\n",
       " (0, None),\n",
       " (0, None),\n",
       " (0, None),\n",
       " (0, None),\n",
       " (0, None),\n",
       " (0, None),\n",
       " (0, None),\n",
       " (0, None),\n",
       " (0, None),\n",
       " (0, None),\n",
       " (0, None),\n",
       " (0, None),\n",
       " (0, None),\n",
       " (0, None),\n",
       " (0, None),\n",
       " (0, None),\n",
       " (0, None),\n",
       " (0, None),\n",
       " (0, None),\n",
       " (0, None),\n",
       " (0, None),\n",
       " (0, None),\n",
       " (0, None),\n",
       " (0, None),\n",
       " (0, None),\n",
       " (0, None),\n",
       " (0, None),\n",
       " (0, None),\n",
       " (0, None),\n",
       " (0, None),\n",
       " (0, None),\n",
       " (0, None),\n",
       " (0, None),\n",
       " (0, None),\n",
       " (0, None),\n",
       " (0, None),\n",
       " (0, None),\n",
       " (0, None),\n",
       " (0, None),\n",
       " (0, None),\n",
       " (0, None),\n",
       " (0, None),\n",
       " (0, None),\n",
       " (0, None),\n",
       " (0, None),\n",
       " (0, None),\n",
       " (0, None),\n",
       " (0, None),\n",
       " (0, None),\n",
       " (0, None),\n",
       " (0, None),\n",
       " (0, None),\n",
       " (0, None),\n",
       " (0, None),\n",
       " (0, None),\n",
       " (0, None),\n",
       " (0, None),\n",
       " (0, None),\n",
       " (0, None),\n",
       " (0, None),\n",
       " (0, None),\n",
       " (0, None),\n",
       " (0, None),\n",
       " (0, None),\n",
       " (0, None),\n",
       " (0, None),\n",
       " (0, None),\n",
       " (0, None),\n",
       " (0, None),\n",
       " (0, None),\n",
       " (0, None),\n",
       " (0, None),\n",
       " (0, None),\n",
       " (0, None),\n",
       " (0, None),\n",
       " (0, None),\n",
       " (0, None),\n",
       " (0, None),\n",
       " (0, None),\n",
       " (0, None),\n",
       " (0, None),\n",
       " (0, None),\n",
       " (0, None),\n",
       " (0, None),\n",
       " (0, None),\n",
       " (0, None),\n",
       " (0, None),\n",
       " (0, None),\n",
       " (0, None),\n",
       " (0, None),\n",
       " (0, None),\n",
       " (0, None),\n",
       " (0, None),\n",
       " (0, None),\n",
       " (0, None),\n",
       " (0, None),\n",
       " (0, None),\n",
       " (0, None),\n",
       " (0, None),\n",
       " (0, None),\n",
       " (0, None),\n",
       " (0, None),\n",
       " (0, None),\n",
       " (0, None),\n",
       " (0, None),\n",
       " (0, None),\n",
       " (0, None),\n",
       " (0, None),\n",
       " (0, None),\n",
       " (0, None),\n",
       " (0, None),\n",
       " (0, None),\n",
       " (0, None),\n",
       " (0, None),\n",
       " (0, None),\n",
       " (0, None),\n",
       " (0, None),\n",
       " (0, None),\n",
       " (0, None),\n",
       " (0, None),\n",
       " (0, None),\n",
       " (0, None),\n",
       " (0, None),\n",
       " (0, None),\n",
       " (0, None),\n",
       " (0, None),\n",
       " (0, None),\n",
       " (0, None),\n",
       " (0, None),\n",
       " (0, None),\n",
       " (0, None),\n",
       " (0, None),\n",
       " (0, None),\n",
       " (0, None),\n",
       " (0, None),\n",
       " (0, None),\n",
       " (0, None),\n",
       " (0, None),\n",
       " (0, None),\n",
       " (0, None),\n",
       " (0, None),\n",
       " (0, None),\n",
       " (0, None),\n",
       " (0, None),\n",
       " (0, None),\n",
       " (0, None),\n",
       " (0, None),\n",
       " (0, None),\n",
       " (0, None),\n",
       " (0, None),\n",
       " (0, None),\n",
       " (0, None),\n",
       " (0, None),\n",
       " (0, None),\n",
       " (0, None),\n",
       " (0, None),\n",
       " (0, None),\n",
       " (0, None),\n",
       " (0, None),\n",
       " (0, None),\n",
       " (0, None),\n",
       " (0, None),\n",
       " (0, None),\n",
       " (0, None),\n",
       " (0, None),\n",
       " (0, None),\n",
       " (0, None),\n",
       " (0, None),\n",
       " (0, None),\n",
       " (0, None),\n",
       " (0, None),\n",
       " (0, None),\n",
       " (0, None),\n",
       " (0, None),\n",
       " (0, None),\n",
       " (0, None),\n",
       " (0, None),\n",
       " (0, None),\n",
       " (0, None),\n",
       " (0, None),\n",
       " (0, None),\n",
       " (0, None),\n",
       " (0, None),\n",
       " (0, None),\n",
       " (0, None),\n",
       " (0, None),\n",
       " (0, None),\n",
       " (0, None),\n",
       " (0, None),\n",
       " (0, None),\n",
       " (0, None),\n",
       " (0, None),\n",
       " (0, None),\n",
       " (0, None),\n",
       " (0, None),\n",
       " (0, None),\n",
       " (0, None),\n",
       " (0, None),\n",
       " (0, None),\n",
       " (0, None),\n",
       " (0, None),\n",
       " (0, None),\n",
       " (0, None),\n",
       " (0, None),\n",
       " (0, None),\n",
       " (0, None),\n",
       " (0, None),\n",
       " (0, None),\n",
       " (0, None),\n",
       " (0, None),\n",
       " (0, None),\n",
       " (0, None),\n",
       " (0, None),\n",
       " (0, None),\n",
       " (0, None),\n",
       " (0, None),\n",
       " (0, None),\n",
       " (0, None),\n",
       " (0, None),\n",
       " (0, None),\n",
       " (0, None),\n",
       " (0, None),\n",
       " (0, None),\n",
       " (0, None),\n",
       " (0, None),\n",
       " (0, None),\n",
       " (0, None),\n",
       " (0, None),\n",
       " (0, None),\n",
       " (0, None),\n",
       " (0, None),\n",
       " (0, None),\n",
       " (0, None),\n",
       " (0, None),\n",
       " (0, None),\n",
       " (0, None),\n",
       " (0, None),\n",
       " (0, None),\n",
       " (0, None),\n",
       " (0, None),\n",
       " (0, None),\n",
       " (0, None),\n",
       " (0, None),\n",
       " (0, None),\n",
       " (0, None),\n",
       " (0, None),\n",
       " (0, None),\n",
       " (0, None),\n",
       " (0, None),\n",
       " (0, None),\n",
       " (0, None),\n",
       " (0, None),\n",
       " (0, None),\n",
       " (0, None),\n",
       " (0, None),\n",
       " (0, None),\n",
       " (0, None),\n",
       " (0, None),\n",
       " (0, None),\n",
       " (0, None),\n",
       " (0, None),\n",
       " (0, None),\n",
       " (0, None),\n",
       " (0, None),\n",
       " (0, None),\n",
       " (0, None),\n",
       " (0, None),\n",
       " (0, None),\n",
       " (0, None),\n",
       " (0, None),\n",
       " (0, None),\n",
       " (0, None),\n",
       " (0, None),\n",
       " (0, None),\n",
       " (0, None),\n",
       " (0, None),\n",
       " (0, None),\n",
       " (0, None),\n",
       " (0, None),\n",
       " (0, None),\n",
       " (0, None),\n",
       " (0, None),\n",
       " (0, None),\n",
       " (0, None),\n",
       " (0, None),\n",
       " (0, None),\n",
       " (0, None),\n",
       " (0, None),\n",
       " (0, None),\n",
       " (0, None),\n",
       " (0, None),\n",
       " (0, None),\n",
       " (0, None),\n",
       " (0, None),\n",
       " (0, None),\n",
       " (0, None),\n",
       " (0, None),\n",
       " (0, None),\n",
       " (0, None),\n",
       " (0, None),\n",
       " (0, None),\n",
       " (0, None),\n",
       " (0, None),\n",
       " (0, None),\n",
       " (0, None),\n",
       " (0, None),\n",
       " (0, None),\n",
       " (0, None),\n",
       " (0, None),\n",
       " (0, None),\n",
       " (0, None),\n",
       " (0, None),\n",
       " (0, None),\n",
       " (0, None),\n",
       " (0, None),\n",
       " (0, None),\n",
       " (0, None),\n",
       " (0, None),\n",
       " (0, None),\n",
       " (0, None),\n",
       " (0, None),\n",
       " (0, None),\n",
       " (0, None),\n",
       " (0, None),\n",
       " (0, None),\n",
       " (0, None),\n",
       " (0, None),\n",
       " (0, None),\n",
       " (0, None),\n",
       " (0, None),\n",
       " (0, None),\n",
       " (0, None),\n",
       " (0, None),\n",
       " (0, None),\n",
       " (0, None),\n",
       " (0, None),\n",
       " (0, None),\n",
       " (0, None),\n",
       " (0, None),\n",
       " (0, None),\n",
       " (0, None),\n",
       " (0, None),\n",
       " (0, None),\n",
       " (0, None),\n",
       " (0, None),\n",
       " (0, None),\n",
       " (0, None),\n",
       " (0, None),\n",
       " (0, None),\n",
       " (0, None),\n",
       " (0, None),\n",
       " (0, None),\n",
       " (0, None),\n",
       " (0, None),\n",
       " (0, None),\n",
       " (0, None),\n",
       " (0, None),\n",
       " (0, None),\n",
       " (0, None),\n",
       " (0, None),\n",
       " (0, None),\n",
       " (0, None),\n",
       " (0, None),\n",
       " (0, None),\n",
       " (0, None),\n",
       " (0, None),\n",
       " (0, None),\n",
       " (0, None),\n",
       " (0, None),\n",
       " (0, None),\n",
       " (0, None),\n",
       " (0, None),\n",
       " (0, None),\n",
       " (0, None),\n",
       " (0, None)]"
      ]
     },
     "execution_count": 7,
     "metadata": {},
     "output_type": "execute_result"
    }
   ],
   "source": [
    "bnds = [(0, None)] * len(shipping)\n",
    "bnds"
   ]
  },
  {
   "cell_type": "markdown",
   "metadata": {},
   "source": [
    "## Objective function"
   ]
  },
  {
   "cell_type": "code",
   "execution_count": 8,
   "metadata": {},
   "outputs": [],
   "source": [
    "def objective_fun(shipping):\n",
    "    '''Total shipping cost'''\n",
    "    return sum(shipping[i] *\n",
    "              (procurement.loc[origin, food] + # Procurement cost.\n",
    "               transportation.loc[origin, destination]) # Transportation cost.\n",
    "               for i, (food, origin, destination) in enumerate(shipping_index))"
   ]
  },
  {
   "cell_type": "markdown",
   "metadata": {},
   "source": [
    "## Constraints"
   ]
  },
  {
   "cell_type": "markdown",
   "metadata": {},
   "source": [
    "This code defines a higher-order function, `constraint_generator`, which is used to create constraint functions for an optimization problem involving food distribution. The function takes two arguments: `nutrient` (the name of a nutrient, such as \"Protein (g)\") and `destination` (the name of a destination city).\n",
    "\n",
    "Inside `constraint_generator`, an inner function called `constraint` is defined. This function will be called by the optimizer and takes a single argument, `shipping`, which represents the current values of all shipping decision variables (i.e., how much of each food is shipped from each origin to each destination).\n",
    "\n",
    "Within the `constraint` function, the code calculates `nutrient_amount`, which is the total amount of the specified nutrient delivered to the given destination. It does this by iterating over all possible shipping routes (using `enumerate(shipping_index)`), multiplying the amount shipped (`shipping[i]`) by the nutrient content of the food (`nutrition.loc[food, nutrient]`), and summing these products for all routes that end at the target destination.\n",
    "\n",
    "The required amount of the nutrient for the destination is retrieved from the `demand` DataFrame as `target_value`. The function then returns the difference between the total delivered (`nutrient_amount`) and the required amount (`target_value`). In the context of optimization, this value is used as an inequality constraint: the optimizer will ensure that the total nutrient delivered is at least as much as required (i.e., the constraint is satisfied when the result is zero or positive). The outer function returns the inner constraint function, allowing you to generate a separate constraint for each nutrient and destination combination."
   ]
  },
  {
   "cell_type": "code",
   "execution_count": null,
   "metadata": {},
   "outputs": [],
   "source": [
    "def constraint_generator(nutrient, destination):\n",
    "    def constraint(shipping):\n",
    "        nutrient_amount = sum(nutrition.loc[food, nutrient] * shipping[i]\n",
    "                              for i, (food, _, dest) in enumerate(shipping_index)\n",
    "                              if dest == destination)\n",
    "        target_value = demand.loc[destination, nutrient]\n",
    "        return nutrient_amount - target_value\n",
    "    return constraint"
   ]
  },
  {
   "cell_type": "markdown",
   "metadata": {},
   "source": [
    "This code constructs a list of constraint dictionaries, named `cons`, to be used in the optimization problem. Each dictionary in the list represents an inequality constraint for the optimizer. The constraints are generated by iterating over every combination of nutrient (from `demand.columns`) and destination city (from `demand.index`).\n",
    "\n",
    "For each nutrient and destination pair, the code calls `constraint_generator(nutrient, destination)`, which returns a function that checks whether the total amount of that nutrient delivered to the destination meets or exceeds the required demand. The dictionary specifies the constraint type as `'ineq'`, meaning the optimizer will enforce that the constraint function's output is greater than or equal to zero.\n",
    "\n",
    "The resulting `cons` list contains one constraint for every nutrient in every destination city, ensuring that the optimization solution will only be valid if all nutritional requirements are satisfied in all cities. This list is later passed to the optimizer to enforce these constraints during the solution process."
   ]
  },
  {
   "cell_type": "code",
   "execution_count": null,
   "metadata": {},
   "outputs": [
    {
     "data": {
      "text/plain": [
       "[{'type': 'ineq',\n",
       "  'fun': <function __main__.constraint_generator.<locals>.constraint(shipping)>},\n",
       " {'type': 'ineq',\n",
       "  'fun': <function __main__.constraint_generator.<locals>.constraint(shipping)>},\n",
       " {'type': 'ineq',\n",
       "  'fun': <function __main__.constraint_generator.<locals>.constraint(shipping)>},\n",
       " {'type': 'ineq',\n",
       "  'fun': <function __main__.constraint_generator.<locals>.constraint(shipping)>},\n",
       " {'type': 'ineq',\n",
       "  'fun': <function __main__.constraint_generator.<locals>.constraint(shipping)>},\n",
       " {'type': 'ineq',\n",
       "  'fun': <function __main__.constraint_generator.<locals>.constraint(shipping)>},\n",
       " {'type': 'ineq',\n",
       "  'fun': <function __main__.constraint_generator.<locals>.constraint(shipping)>},\n",
       " {'type': 'ineq',\n",
       "  'fun': <function __main__.constraint_generator.<locals>.constraint(shipping)>},\n",
       " {'type': 'ineq',\n",
       "  'fun': <function __main__.constraint_generator.<locals>.constraint(shipping)>},\n",
       " {'type': 'ineq',\n",
       "  'fun': <function __main__.constraint_generator.<locals>.constraint(shipping)>},\n",
       " {'type': 'ineq',\n",
       "  'fun': <function __main__.constraint_generator.<locals>.constraint(shipping)>},\n",
       " {'type': 'ineq',\n",
       "  'fun': <function __main__.constraint_generator.<locals>.constraint(shipping)>},\n",
       " {'type': 'ineq',\n",
       "  'fun': <function __main__.constraint_generator.<locals>.constraint(shipping)>},\n",
       " {'type': 'ineq',\n",
       "  'fun': <function __main__.constraint_generator.<locals>.constraint(shipping)>},\n",
       " {'type': 'ineq',\n",
       "  'fun': <function __main__.constraint_generator.<locals>.constraint(shipping)>},\n",
       " {'type': 'ineq',\n",
       "  'fun': <function __main__.constraint_generator.<locals>.constraint(shipping)>},\n",
       " {'type': 'ineq',\n",
       "  'fun': <function __main__.constraint_generator.<locals>.constraint(shipping)>},\n",
       " {'type': 'ineq',\n",
       "  'fun': <function __main__.constraint_generator.<locals>.constraint(shipping)>},\n",
       " {'type': 'ineq',\n",
       "  'fun': <function __main__.constraint_generator.<locals>.constraint(shipping)>},\n",
       " {'type': 'ineq',\n",
       "  'fun': <function __main__.constraint_generator.<locals>.constraint(shipping)>},\n",
       " {'type': 'ineq',\n",
       "  'fun': <function __main__.constraint_generator.<locals>.constraint(shipping)>},\n",
       " {'type': 'ineq',\n",
       "  'fun': <function __main__.constraint_generator.<locals>.constraint(shipping)>},\n",
       " {'type': 'ineq',\n",
       "  'fun': <function __main__.constraint_generator.<locals>.constraint(shipping)>},\n",
       " {'type': 'ineq',\n",
       "  'fun': <function __main__.constraint_generator.<locals>.constraint(shipping)>},\n",
       " {'type': 'ineq',\n",
       "  'fun': <function __main__.constraint_generator.<locals>.constraint(shipping)>},\n",
       " {'type': 'ineq',\n",
       "  'fun': <function __main__.constraint_generator.<locals>.constraint(shipping)>},\n",
       " {'type': 'ineq',\n",
       "  'fun': <function __main__.constraint_generator.<locals>.constraint(shipping)>},\n",
       " {'type': 'ineq',\n",
       "  'fun': <function __main__.constraint_generator.<locals>.constraint(shipping)>},\n",
       " {'type': 'ineq',\n",
       "  'fun': <function __main__.constraint_generator.<locals>.constraint(shipping)>},\n",
       " {'type': 'ineq',\n",
       "  'fun': <function __main__.constraint_generator.<locals>.constraint(shipping)>},\n",
       " {'type': 'ineq',\n",
       "  'fun': <function __main__.constraint_generator.<locals>.constraint(shipping)>},\n",
       " {'type': 'ineq',\n",
       "  'fun': <function __main__.constraint_generator.<locals>.constraint(shipping)>},\n",
       " {'type': 'ineq',\n",
       "  'fun': <function __main__.constraint_generator.<locals>.constraint(shipping)>},\n",
       " {'type': 'ineq',\n",
       "  'fun': <function __main__.constraint_generator.<locals>.constraint(shipping)>},\n",
       " {'type': 'ineq',\n",
       "  'fun': <function __main__.constraint_generator.<locals>.constraint(shipping)>},\n",
       " {'type': 'ineq',\n",
       "  'fun': <function __main__.constraint_generator.<locals>.constraint(shipping)>},\n",
       " {'type': 'ineq',\n",
       "  'fun': <function __main__.constraint_generator.<locals>.constraint(shipping)>},\n",
       " {'type': 'ineq',\n",
       "  'fun': <function __main__.constraint_generator.<locals>.constraint(shipping)>},\n",
       " {'type': 'ineq',\n",
       "  'fun': <function __main__.constraint_generator.<locals>.constraint(shipping)>},\n",
       " {'type': 'ineq',\n",
       "  'fun': <function __main__.constraint_generator.<locals>.constraint(shipping)>},\n",
       " {'type': 'ineq',\n",
       "  'fun': <function __main__.constraint_generator.<locals>.constraint(shipping)>},\n",
       " {'type': 'ineq',\n",
       "  'fun': <function __main__.constraint_generator.<locals>.constraint(shipping)>},\n",
       " {'type': 'ineq',\n",
       "  'fun': <function __main__.constraint_generator.<locals>.constraint(shipping)>},\n",
       " {'type': 'ineq',\n",
       "  'fun': <function __main__.constraint_generator.<locals>.constraint(shipping)>},\n",
       " {'type': 'ineq',\n",
       "  'fun': <function __main__.constraint_generator.<locals>.constraint(shipping)>},\n",
       " {'type': 'ineq',\n",
       "  'fun': <function __main__.constraint_generator.<locals>.constraint(shipping)>},\n",
       " {'type': 'ineq',\n",
       "  'fun': <function __main__.constraint_generator.<locals>.constraint(shipping)>},\n",
       " {'type': 'ineq',\n",
       "  'fun': <function __main__.constraint_generator.<locals>.constraint(shipping)>},\n",
       " {'type': 'ineq',\n",
       "  'fun': <function __main__.constraint_generator.<locals>.constraint(shipping)>},\n",
       " {'type': 'ineq',\n",
       "  'fun': <function __main__.constraint_generator.<locals>.constraint(shipping)>},\n",
       " {'type': 'ineq',\n",
       "  'fun': <function __main__.constraint_generator.<locals>.constraint(shipping)>},\n",
       " {'type': 'ineq',\n",
       "  'fun': <function __main__.constraint_generator.<locals>.constraint(shipping)>},\n",
       " {'type': 'ineq',\n",
       "  'fun': <function __main__.constraint_generator.<locals>.constraint(shipping)>},\n",
       " {'type': 'ineq',\n",
       "  'fun': <function __main__.constraint_generator.<locals>.constraint(shipping)>},\n",
       " {'type': 'ineq',\n",
       "  'fun': <function __main__.constraint_generator.<locals>.constraint(shipping)>},\n",
       " {'type': 'ineq',\n",
       "  'fun': <function __main__.constraint_generator.<locals>.constraint(shipping)>},\n",
       " {'type': 'ineq',\n",
       "  'fun': <function __main__.constraint_generator.<locals>.constraint(shipping)>},\n",
       " {'type': 'ineq',\n",
       "  'fun': <function __main__.constraint_generator.<locals>.constraint(shipping)>},\n",
       " {'type': 'ineq',\n",
       "  'fun': <function __main__.constraint_generator.<locals>.constraint(shipping)>},\n",
       " {'type': 'ineq',\n",
       "  'fun': <function __main__.constraint_generator.<locals>.constraint(shipping)>},\n",
       " {'type': 'ineq',\n",
       "  'fun': <function __main__.constraint_generator.<locals>.constraint(shipping)>},\n",
       " {'type': 'ineq',\n",
       "  'fun': <function __main__.constraint_generator.<locals>.constraint(shipping)>},\n",
       " {'type': 'ineq',\n",
       "  'fun': <function __main__.constraint_generator.<locals>.constraint(shipping)>},\n",
       " {'type': 'ineq',\n",
       "  'fun': <function __main__.constraint_generator.<locals>.constraint(shipping)>},\n",
       " {'type': 'ineq',\n",
       "  'fun': <function __main__.constraint_generator.<locals>.constraint(shipping)>},\n",
       " {'type': 'ineq',\n",
       "  'fun': <function __main__.constraint_generator.<locals>.constraint(shipping)>},\n",
       " {'type': 'ineq',\n",
       "  'fun': <function __main__.constraint_generator.<locals>.constraint(shipping)>},\n",
       " {'type': 'ineq',\n",
       "  'fun': <function __main__.constraint_generator.<locals>.constraint(shipping)>},\n",
       " {'type': 'ineq',\n",
       "  'fun': <function __main__.constraint_generator.<locals>.constraint(shipping)>},\n",
       " {'type': 'ineq',\n",
       "  'fun': <function __main__.constraint_generator.<locals>.constraint(shipping)>},\n",
       " {'type': 'ineq',\n",
       "  'fun': <function __main__.constraint_generator.<locals>.constraint(shipping)>},\n",
       " {'type': 'ineq',\n",
       "  'fun': <function __main__.constraint_generator.<locals>.constraint(shipping)>},\n",
       " {'type': 'ineq',\n",
       "  'fun': <function __main__.constraint_generator.<locals>.constraint(shipping)>},\n",
       " {'type': 'ineq',\n",
       "  'fun': <function __main__.constraint_generator.<locals>.constraint(shipping)>},\n",
       " {'type': 'ineq',\n",
       "  'fun': <function __main__.constraint_generator.<locals>.constraint(shipping)>},\n",
       " {'type': 'ineq',\n",
       "  'fun': <function __main__.constraint_generator.<locals>.constraint(shipping)>},\n",
       " {'type': 'ineq',\n",
       "  'fun': <function __main__.constraint_generator.<locals>.constraint(shipping)>}]"
      ]
     },
     "execution_count": 10,
     "metadata": {},
     "output_type": "execute_result"
    }
   ],
   "source": [
    "cons = [{'type': 'ineq', 'fun': constraint_generator(nutrient, destination)}\n",
    "        for nutrient in demand.columns\n",
    "        for destination in demand.index]\n",
    "cons"
   ]
  },
  {
   "cell_type": "markdown",
   "metadata": {},
   "source": [
    "This code cell runs the optimization process to find the most cost-effective way to ship food while meeting all nutritional requirements in each destination city. The `minimize` function from `scipy.optimize` is called with several arguments:\n",
    "\n",
    "- `objective_fun`: the function to minimize, which calculates the total cost of procurement and transportation based on the shipping plan.\n",
    "- `shipping`: the initial guess for the shipping quantities (all zeros).\n",
    "- `bounds=bnds`: ensures that all shipping quantities are non-negative (no negative shipments).\n",
    "- `constraints=cons`: a list of constraints that require each city to receive at least the required amount of each nutrient.\n",
    "\n",
    "The `%%time` magic command measures and displays how long the optimization takes to run. The result of the optimization, including the optimal shipping plan and status information, is stored in the `solution` variable."
   ]
  },
  {
   "cell_type": "code",
   "execution_count": 16,
   "metadata": {},
   "outputs": [
    {
     "name": "stdout",
     "output_type": "stream",
     "text": [
      "CPU times: user 2min 53s, sys: 774 ms, total: 2min 54s\n",
      "Wall time: 2min 54s\n"
     ]
    }
   ],
   "source": [
    "%%time\n",
    "solution = minimize(objective_fun, shipping, bounds=bnds, constraints=cons)"
   ]
  },
  {
   "cell_type": "markdown",
   "metadata": {},
   "source": [
    "The code `print(solution) # type: ignore` outputs the contents of the `solution` object to the console or output pane in Visual Studio Code. Here, `solution` is expected to be the result of an optimization process, most likely returned by the `minimize` function from `scipy.optimize`. This object typically contains detailed information about the optimization, such as whether it was successful, the optimal values of the decision variables, the minimum cost achieved, and diagnostic information about the optimization process.\n",
    "\n",
    "The `# type: ignore` comment is used to suppress type-checking warnings from static analysis tools, which can be helpful if the type checker cannot infer the correct type for `solution` or if there are compatibility issues. This line is useful for quickly inspecting the results of the optimization and verifying that the process completed as expected."
   ]
  },
  {
   "cell_type": "code",
   "execution_count": 18,
   "metadata": {},
   "outputs": [
    {
     "name": "stdout",
     "output_type": "stream",
     "text": [
      " message: Positive directional derivative for linesearch\n",
      " success: False\n",
      "  status: 8\n",
      "     fun: 153412.52733610242\n",
      "       x: [ 1.316e+02  0.000e+00 ...  1.213e+02  0.000e+00]\n",
      "     nit: 14\n",
      "     jac: [ 1.496e+00  1.000e+04 ...  6.641e-01  9.999e+03]\n",
      "    nfev: 6870\n",
      "    njev: 10\n",
      "CPU times: user 223 μs, sys: 2 μs, total: 225 μs\n",
      "Wall time: 228 μs\n"
     ]
    }
   ],
   "source": [
    "%%time\n",
    "print(solution) # type: ignore"
   ]
  },
  {
   "cell_type": "markdown",
   "metadata": {},
   "source": [
    "## Results\n",
    "This code prepares the data needed to visualize flows between origin and destination cities, likely for a Sankey diagram. \n",
    "\n",
    "First, it creates a `source` pandas Series by repeating each origin city for every possible destination, effectively listing all origin-destination pairs. Similarly, it creates a `target` Series by repeating each destination city for every origin, matching the structure of the `source` Series.\n",
    "\n",
    "Next, `pd.concat([source, target])` combines these two Series into one long Series, which is then passed to the `factorize()` method. The `factorize()` function assigns a unique integer code to each unique city name, returning a tuple: the first element is an array of integer codes (used for plotting), and the second is the array of unique city labels.\n",
    "\n",
    "Finally, the code splits the integer codes back into two arrays: `source` and `target`. The first 49 codes correspond to the origins, and the next 49 to the destinations (assuming there are 49 origin-destination pairs). These integer arrays are suitable for use as node indices in a Sankey diagram, where each flow is drawn from a source node to a target node."
   ]
  },
  {
   "cell_type": "code",
   "execution_count": 13,
   "metadata": {},
   "outputs": [],
   "source": [
    "source = pd.Series([origin\n",
    "                    for origin in transportation.index\n",
    "                    for destination in transportation.columns])\n",
    "target = pd.Series([destination\n",
    "                    for origin in transportation.index\n",
    "                    for destination in transportation.columns])\n",
    "factors = pd.concat([source, target]).factorize()\n",
    "source, target = factors[0][:49], factors[0][49:]"
   ]
  },
  {
   "cell_type": "markdown",
   "metadata": {},
   "source": [
    "This code generates a series of Sankey diagrams to visualize the flow of each food item from origin cities to destination cities, based on the results of the optimization.\n",
    "\n",
    "The loop iterates over each food item in `nutrition.index`. For each food, it constructs a list called `value`, which contains the optimized shipping quantities for that food across all possible origin-destination pairs. This is done by iterating through `shipping_index` with `enumerate`, selecting only those entries where the food matches the current one in the loop, and extracting the corresponding value from `solution.x`, which holds the optimization results.\n",
    "\n",
    "A Sankey diagram is then created using Plotly's `go.Figure` and `go.Sankey`. The nodes are labeled with city names from `factors[1]`, and the links are defined by the `source` and `target` arrays, which map the flows from origins to destinations. The `value` list is rounded to two decimal places for clarity in the visualization.\n",
    "\n",
    "The diagram's title is set to the current food item using `fig.update_layout(title_text=f)`, and `fig.show()` displays the diagram. This process repeats for each food, allowing you to visually inspect how much of each food is shipped along each route in the optimal solution."
   ]
  },
  {
   "cell_type": "code",
   "execution_count": 19,
   "metadata": {},
   "outputs": [
    {
     "data": {
      "application/vnd.plotly.v1+json": {
       "config": {
        "plotlyServerURL": "https://plot.ly"
       },
       "data": [
        {
         "link": {
          "source": {
           "bdata": "AAAAAAAAAAEBAQEBAQECAgICAgICAwMDAwMDAwQEBAQEBAQFBQUFBQUFBgYGBgYGBg==",
           "dtype": "i1"
          },
          "target": {
           "bdata": "BwgJCgsMDQcICQoLDA0HCAkKCwwNBwgJCgsMDQcICQoLDA0HCAkKCwwNBwgJCgsMDQ==",
           "dtype": "i1"
          },
          "value": [
           131.62,
           0,
           0,
           71.29,
           112.07,
           0,
           71.48,
           117.65,
           304.77,
           291.83,
           55.84,
           96.81,
           233.59,
           54.87,
           126.06,
           299.26,
           296.65,
           63.13,
           105.78,
           241.45,
           63.28,
           0,
           292.04,
           288.99,
           0,
           0,
           0,
           0,
           134.23,
           282.03,
           302.36,
           76.72,
           113.05,
           238.2,
           76.87,
           123.23,
           0,
           291.27,
           60.29,
           104.78,
           238.19,
           60.48,
           0,
           0,
           0,
           0,
           103.56,
           239.24,
           0
          ]
         },
         "node": {
          "label": [
           "Aleppo",
           "Amman",
           "Beirut",
           "Damascus",
           "Gaziantep",
           "Hama",
           "Homs",
           "Ar Raqqa",
           "Dara",
           "Dayr Az Zor",
           "Hassakeh",
           "Idleb",
           "Jubb al Jarrah",
           "Qamishli"
          ]
         },
         "type": "sankey"
        }
       ],
       "layout": {
        "template": {
         "data": {
          "bar": [
           {
            "error_x": {
             "color": "#2a3f5f"
            },
            "error_y": {
             "color": "#2a3f5f"
            },
            "marker": {
             "line": {
              "color": "#E5ECF6",
              "width": 0.5
             },
             "pattern": {
              "fillmode": "overlay",
              "size": 10,
              "solidity": 0.2
             }
            },
            "type": "bar"
           }
          ],
          "barpolar": [
           {
            "marker": {
             "line": {
              "color": "#E5ECF6",
              "width": 0.5
             },
             "pattern": {
              "fillmode": "overlay",
              "size": 10,
              "solidity": 0.2
             }
            },
            "type": "barpolar"
           }
          ],
          "carpet": [
           {
            "aaxis": {
             "endlinecolor": "#2a3f5f",
             "gridcolor": "white",
             "linecolor": "white",
             "minorgridcolor": "white",
             "startlinecolor": "#2a3f5f"
            },
            "baxis": {
             "endlinecolor": "#2a3f5f",
             "gridcolor": "white",
             "linecolor": "white",
             "minorgridcolor": "white",
             "startlinecolor": "#2a3f5f"
            },
            "type": "carpet"
           }
          ],
          "choropleth": [
           {
            "colorbar": {
             "outlinewidth": 0,
             "ticks": ""
            },
            "type": "choropleth"
           }
          ],
          "contour": [
           {
            "colorbar": {
             "outlinewidth": 0,
             "ticks": ""
            },
            "colorscale": [
             [
              0,
              "#0d0887"
             ],
             [
              0.1111111111111111,
              "#46039f"
             ],
             [
              0.2222222222222222,
              "#7201a8"
             ],
             [
              0.3333333333333333,
              "#9c179e"
             ],
             [
              0.4444444444444444,
              "#bd3786"
             ],
             [
              0.5555555555555556,
              "#d8576b"
             ],
             [
              0.6666666666666666,
              "#ed7953"
             ],
             [
              0.7777777777777778,
              "#fb9f3a"
             ],
             [
              0.8888888888888888,
              "#fdca26"
             ],
             [
              1,
              "#f0f921"
             ]
            ],
            "type": "contour"
           }
          ],
          "contourcarpet": [
           {
            "colorbar": {
             "outlinewidth": 0,
             "ticks": ""
            },
            "type": "contourcarpet"
           }
          ],
          "heatmap": [
           {
            "colorbar": {
             "outlinewidth": 0,
             "ticks": ""
            },
            "colorscale": [
             [
              0,
              "#0d0887"
             ],
             [
              0.1111111111111111,
              "#46039f"
             ],
             [
              0.2222222222222222,
              "#7201a8"
             ],
             [
              0.3333333333333333,
              "#9c179e"
             ],
             [
              0.4444444444444444,
              "#bd3786"
             ],
             [
              0.5555555555555556,
              "#d8576b"
             ],
             [
              0.6666666666666666,
              "#ed7953"
             ],
             [
              0.7777777777777778,
              "#fb9f3a"
             ],
             [
              0.8888888888888888,
              "#fdca26"
             ],
             [
              1,
              "#f0f921"
             ]
            ],
            "type": "heatmap"
           }
          ],
          "histogram": [
           {
            "marker": {
             "pattern": {
              "fillmode": "overlay",
              "size": 10,
              "solidity": 0.2
             }
            },
            "type": "histogram"
           }
          ],
          "histogram2d": [
           {
            "colorbar": {
             "outlinewidth": 0,
             "ticks": ""
            },
            "colorscale": [
             [
              0,
              "#0d0887"
             ],
             [
              0.1111111111111111,
              "#46039f"
             ],
             [
              0.2222222222222222,
              "#7201a8"
             ],
             [
              0.3333333333333333,
              "#9c179e"
             ],
             [
              0.4444444444444444,
              "#bd3786"
             ],
             [
              0.5555555555555556,
              "#d8576b"
             ],
             [
              0.6666666666666666,
              "#ed7953"
             ],
             [
              0.7777777777777778,
              "#fb9f3a"
             ],
             [
              0.8888888888888888,
              "#fdca26"
             ],
             [
              1,
              "#f0f921"
             ]
            ],
            "type": "histogram2d"
           }
          ],
          "histogram2dcontour": [
           {
            "colorbar": {
             "outlinewidth": 0,
             "ticks": ""
            },
            "colorscale": [
             [
              0,
              "#0d0887"
             ],
             [
              0.1111111111111111,
              "#46039f"
             ],
             [
              0.2222222222222222,
              "#7201a8"
             ],
             [
              0.3333333333333333,
              "#9c179e"
             ],
             [
              0.4444444444444444,
              "#bd3786"
             ],
             [
              0.5555555555555556,
              "#d8576b"
             ],
             [
              0.6666666666666666,
              "#ed7953"
             ],
             [
              0.7777777777777778,
              "#fb9f3a"
             ],
             [
              0.8888888888888888,
              "#fdca26"
             ],
             [
              1,
              "#f0f921"
             ]
            ],
            "type": "histogram2dcontour"
           }
          ],
          "mesh3d": [
           {
            "colorbar": {
             "outlinewidth": 0,
             "ticks": ""
            },
            "type": "mesh3d"
           }
          ],
          "parcoords": [
           {
            "line": {
             "colorbar": {
              "outlinewidth": 0,
              "ticks": ""
             }
            },
            "type": "parcoords"
           }
          ],
          "pie": [
           {
            "automargin": true,
            "type": "pie"
           }
          ],
          "scatter": [
           {
            "fillpattern": {
             "fillmode": "overlay",
             "size": 10,
             "solidity": 0.2
            },
            "type": "scatter"
           }
          ],
          "scatter3d": [
           {
            "line": {
             "colorbar": {
              "outlinewidth": 0,
              "ticks": ""
             }
            },
            "marker": {
             "colorbar": {
              "outlinewidth": 0,
              "ticks": ""
             }
            },
            "type": "scatter3d"
           }
          ],
          "scattercarpet": [
           {
            "marker": {
             "colorbar": {
              "outlinewidth": 0,
              "ticks": ""
             }
            },
            "type": "scattercarpet"
           }
          ],
          "scattergeo": [
           {
            "marker": {
             "colorbar": {
              "outlinewidth": 0,
              "ticks": ""
             }
            },
            "type": "scattergeo"
           }
          ],
          "scattergl": [
           {
            "marker": {
             "colorbar": {
              "outlinewidth": 0,
              "ticks": ""
             }
            },
            "type": "scattergl"
           }
          ],
          "scattermap": [
           {
            "marker": {
             "colorbar": {
              "outlinewidth": 0,
              "ticks": ""
             }
            },
            "type": "scattermap"
           }
          ],
          "scattermapbox": [
           {
            "marker": {
             "colorbar": {
              "outlinewidth": 0,
              "ticks": ""
             }
            },
            "type": "scattermapbox"
           }
          ],
          "scatterpolar": [
           {
            "marker": {
             "colorbar": {
              "outlinewidth": 0,
              "ticks": ""
             }
            },
            "type": "scatterpolar"
           }
          ],
          "scatterpolargl": [
           {
            "marker": {
             "colorbar": {
              "outlinewidth": 0,
              "ticks": ""
             }
            },
            "type": "scatterpolargl"
           }
          ],
          "scatterternary": [
           {
            "marker": {
             "colorbar": {
              "outlinewidth": 0,
              "ticks": ""
             }
            },
            "type": "scatterternary"
           }
          ],
          "surface": [
           {
            "colorbar": {
             "outlinewidth": 0,
             "ticks": ""
            },
            "colorscale": [
             [
              0,
              "#0d0887"
             ],
             [
              0.1111111111111111,
              "#46039f"
             ],
             [
              0.2222222222222222,
              "#7201a8"
             ],
             [
              0.3333333333333333,
              "#9c179e"
             ],
             [
              0.4444444444444444,
              "#bd3786"
             ],
             [
              0.5555555555555556,
              "#d8576b"
             ],
             [
              0.6666666666666666,
              "#ed7953"
             ],
             [
              0.7777777777777778,
              "#fb9f3a"
             ],
             [
              0.8888888888888888,
              "#fdca26"
             ],
             [
              1,
              "#f0f921"
             ]
            ],
            "type": "surface"
           }
          ],
          "table": [
           {
            "cells": {
             "fill": {
              "color": "#EBF0F8"
             },
             "line": {
              "color": "white"
             }
            },
            "header": {
             "fill": {
              "color": "#C8D4E3"
             },
             "line": {
              "color": "white"
             }
            },
            "type": "table"
           }
          ]
         },
         "layout": {
          "annotationdefaults": {
           "arrowcolor": "#2a3f5f",
           "arrowhead": 0,
           "arrowwidth": 1
          },
          "autotypenumbers": "strict",
          "coloraxis": {
           "colorbar": {
            "outlinewidth": 0,
            "ticks": ""
           }
          },
          "colorscale": {
           "diverging": [
            [
             0,
             "#8e0152"
            ],
            [
             0.1,
             "#c51b7d"
            ],
            [
             0.2,
             "#de77ae"
            ],
            [
             0.3,
             "#f1b6da"
            ],
            [
             0.4,
             "#fde0ef"
            ],
            [
             0.5,
             "#f7f7f7"
            ],
            [
             0.6,
             "#e6f5d0"
            ],
            [
             0.7,
             "#b8e186"
            ],
            [
             0.8,
             "#7fbc41"
            ],
            [
             0.9,
             "#4d9221"
            ],
            [
             1,
             "#276419"
            ]
           ],
           "sequential": [
            [
             0,
             "#0d0887"
            ],
            [
             0.1111111111111111,
             "#46039f"
            ],
            [
             0.2222222222222222,
             "#7201a8"
            ],
            [
             0.3333333333333333,
             "#9c179e"
            ],
            [
             0.4444444444444444,
             "#bd3786"
            ],
            [
             0.5555555555555556,
             "#d8576b"
            ],
            [
             0.6666666666666666,
             "#ed7953"
            ],
            [
             0.7777777777777778,
             "#fb9f3a"
            ],
            [
             0.8888888888888888,
             "#fdca26"
            ],
            [
             1,
             "#f0f921"
            ]
           ],
           "sequentialminus": [
            [
             0,
             "#0d0887"
            ],
            [
             0.1111111111111111,
             "#46039f"
            ],
            [
             0.2222222222222222,
             "#7201a8"
            ],
            [
             0.3333333333333333,
             "#9c179e"
            ],
            [
             0.4444444444444444,
             "#bd3786"
            ],
            [
             0.5555555555555556,
             "#d8576b"
            ],
            [
             0.6666666666666666,
             "#ed7953"
            ],
            [
             0.7777777777777778,
             "#fb9f3a"
            ],
            [
             0.8888888888888888,
             "#fdca26"
            ],
            [
             1,
             "#f0f921"
            ]
           ]
          },
          "colorway": [
           "#636efa",
           "#EF553B",
           "#00cc96",
           "#ab63fa",
           "#FFA15A",
           "#19d3f3",
           "#FF6692",
           "#B6E880",
           "#FF97FF",
           "#FECB52"
          ],
          "font": {
           "color": "#2a3f5f"
          },
          "geo": {
           "bgcolor": "white",
           "lakecolor": "white",
           "landcolor": "#E5ECF6",
           "showlakes": true,
           "showland": true,
           "subunitcolor": "white"
          },
          "hoverlabel": {
           "align": "left"
          },
          "hovermode": "closest",
          "mapbox": {
           "style": "light"
          },
          "paper_bgcolor": "white",
          "plot_bgcolor": "#E5ECF6",
          "polar": {
           "angularaxis": {
            "gridcolor": "white",
            "linecolor": "white",
            "ticks": ""
           },
           "bgcolor": "#E5ECF6",
           "radialaxis": {
            "gridcolor": "white",
            "linecolor": "white",
            "ticks": ""
           }
          },
          "scene": {
           "xaxis": {
            "backgroundcolor": "#E5ECF6",
            "gridcolor": "white",
            "gridwidth": 2,
            "linecolor": "white",
            "showbackground": true,
            "ticks": "",
            "zerolinecolor": "white"
           },
           "yaxis": {
            "backgroundcolor": "#E5ECF6",
            "gridcolor": "white",
            "gridwidth": 2,
            "linecolor": "white",
            "showbackground": true,
            "ticks": "",
            "zerolinecolor": "white"
           },
           "zaxis": {
            "backgroundcolor": "#E5ECF6",
            "gridcolor": "white",
            "gridwidth": 2,
            "linecolor": "white",
            "showbackground": true,
            "ticks": "",
            "zerolinecolor": "white"
           }
          },
          "shapedefaults": {
           "line": {
            "color": "#2a3f5f"
           }
          },
          "ternary": {
           "aaxis": {
            "gridcolor": "white",
            "linecolor": "white",
            "ticks": ""
           },
           "baxis": {
            "gridcolor": "white",
            "linecolor": "white",
            "ticks": ""
           },
           "bgcolor": "#E5ECF6",
           "caxis": {
            "gridcolor": "white",
            "linecolor": "white",
            "ticks": ""
           }
          },
          "title": {
           "x": 0.05
          },
          "xaxis": {
           "automargin": true,
           "gridcolor": "white",
           "linecolor": "white",
           "ticks": "",
           "title": {
            "standoff": 15
           },
           "zerolinecolor": "white",
           "zerolinewidth": 2
          },
          "yaxis": {
           "automargin": true,
           "gridcolor": "white",
           "linecolor": "white",
           "ticks": "",
           "title": {
            "standoff": 15
           },
           "zerolinecolor": "white",
           "zerolinewidth": 2
          }
         }
        },
        "title": {
         "text": "Beans"
        }
       }
      }
     },
     "metadata": {},
     "output_type": "display_data"
    },
    {
     "data": {
      "application/vnd.plotly.v1+json": {
       "config": {
        "plotlyServerURL": "https://plot.ly"
       },
       "data": [
        {
         "link": {
          "source": {
           "bdata": "AAAAAAAAAAEBAQEBAQECAgICAgICAwMDAwMDAwQEBAQEBAQFBQUFBQUFBgYGBgYGBg==",
           "dtype": "i1"
          },
          "target": {
           "bdata": "BwgJCgsMDQcICQoLDA0HCAkKCwwNBwgJCgsMDQcICQoLDA0HCAkKCwwNBwgJCgsMDQ==",
           "dtype": "i1"
          },
          "value": [
           123.53,
           0,
           0,
           67.37,
           107.16,
           0,
           67.88,
           104.4,
           304.36,
           300.78,
           46.75,
           86.74,
           234.31,
           46.15,
           112.81,
           298.9,
           305.65,
           54.04,
           95.72,
           242.15,
           54.56,
           0,
           290.67,
           296.98,
           0,
           0,
           0,
           0,
           121.02,
           281.62,
           311.31,
           67.63,
           102.93,
           238.87,
           68.16,
           117.43,
           0,
           307.68,
           58.66,
           102.12,
           246.31,
           59.18,
           0,
           0,
           0,
           0,
           100.6,
           247.07,
           0
          ]
         },
         "node": {
          "label": [
           "Aleppo",
           "Amman",
           "Beirut",
           "Damascus",
           "Gaziantep",
           "Hama",
           "Homs",
           "Ar Raqqa",
           "Dara",
           "Dayr Az Zor",
           "Hassakeh",
           "Idleb",
           "Jubb al Jarrah",
           "Qamishli"
          ]
         },
         "type": "sankey"
        }
       ],
       "layout": {
        "template": {
         "data": {
          "bar": [
           {
            "error_x": {
             "color": "#2a3f5f"
            },
            "error_y": {
             "color": "#2a3f5f"
            },
            "marker": {
             "line": {
              "color": "#E5ECF6",
              "width": 0.5
             },
             "pattern": {
              "fillmode": "overlay",
              "size": 10,
              "solidity": 0.2
             }
            },
            "type": "bar"
           }
          ],
          "barpolar": [
           {
            "marker": {
             "line": {
              "color": "#E5ECF6",
              "width": 0.5
             },
             "pattern": {
              "fillmode": "overlay",
              "size": 10,
              "solidity": 0.2
             }
            },
            "type": "barpolar"
           }
          ],
          "carpet": [
           {
            "aaxis": {
             "endlinecolor": "#2a3f5f",
             "gridcolor": "white",
             "linecolor": "white",
             "minorgridcolor": "white",
             "startlinecolor": "#2a3f5f"
            },
            "baxis": {
             "endlinecolor": "#2a3f5f",
             "gridcolor": "white",
             "linecolor": "white",
             "minorgridcolor": "white",
             "startlinecolor": "#2a3f5f"
            },
            "type": "carpet"
           }
          ],
          "choropleth": [
           {
            "colorbar": {
             "outlinewidth": 0,
             "ticks": ""
            },
            "type": "choropleth"
           }
          ],
          "contour": [
           {
            "colorbar": {
             "outlinewidth": 0,
             "ticks": ""
            },
            "colorscale": [
             [
              0,
              "#0d0887"
             ],
             [
              0.1111111111111111,
              "#46039f"
             ],
             [
              0.2222222222222222,
              "#7201a8"
             ],
             [
              0.3333333333333333,
              "#9c179e"
             ],
             [
              0.4444444444444444,
              "#bd3786"
             ],
             [
              0.5555555555555556,
              "#d8576b"
             ],
             [
              0.6666666666666666,
              "#ed7953"
             ],
             [
              0.7777777777777778,
              "#fb9f3a"
             ],
             [
              0.8888888888888888,
              "#fdca26"
             ],
             [
              1,
              "#f0f921"
             ]
            ],
            "type": "contour"
           }
          ],
          "contourcarpet": [
           {
            "colorbar": {
             "outlinewidth": 0,
             "ticks": ""
            },
            "type": "contourcarpet"
           }
          ],
          "heatmap": [
           {
            "colorbar": {
             "outlinewidth": 0,
             "ticks": ""
            },
            "colorscale": [
             [
              0,
              "#0d0887"
             ],
             [
              0.1111111111111111,
              "#46039f"
             ],
             [
              0.2222222222222222,
              "#7201a8"
             ],
             [
              0.3333333333333333,
              "#9c179e"
             ],
             [
              0.4444444444444444,
              "#bd3786"
             ],
             [
              0.5555555555555556,
              "#d8576b"
             ],
             [
              0.6666666666666666,
              "#ed7953"
             ],
             [
              0.7777777777777778,
              "#fb9f3a"
             ],
             [
              0.8888888888888888,
              "#fdca26"
             ],
             [
              1,
              "#f0f921"
             ]
            ],
            "type": "heatmap"
           }
          ],
          "histogram": [
           {
            "marker": {
             "pattern": {
              "fillmode": "overlay",
              "size": 10,
              "solidity": 0.2
             }
            },
            "type": "histogram"
           }
          ],
          "histogram2d": [
           {
            "colorbar": {
             "outlinewidth": 0,
             "ticks": ""
            },
            "colorscale": [
             [
              0,
              "#0d0887"
             ],
             [
              0.1111111111111111,
              "#46039f"
             ],
             [
              0.2222222222222222,
              "#7201a8"
             ],
             [
              0.3333333333333333,
              "#9c179e"
             ],
             [
              0.4444444444444444,
              "#bd3786"
             ],
             [
              0.5555555555555556,
              "#d8576b"
             ],
             [
              0.6666666666666666,
              "#ed7953"
             ],
             [
              0.7777777777777778,
              "#fb9f3a"
             ],
             [
              0.8888888888888888,
              "#fdca26"
             ],
             [
              1,
              "#f0f921"
             ]
            ],
            "type": "histogram2d"
           }
          ],
          "histogram2dcontour": [
           {
            "colorbar": {
             "outlinewidth": 0,
             "ticks": ""
            },
            "colorscale": [
             [
              0,
              "#0d0887"
             ],
             [
              0.1111111111111111,
              "#46039f"
             ],
             [
              0.2222222222222222,
              "#7201a8"
             ],
             [
              0.3333333333333333,
              "#9c179e"
             ],
             [
              0.4444444444444444,
              "#bd3786"
             ],
             [
              0.5555555555555556,
              "#d8576b"
             ],
             [
              0.6666666666666666,
              "#ed7953"
             ],
             [
              0.7777777777777778,
              "#fb9f3a"
             ],
             [
              0.8888888888888888,
              "#fdca26"
             ],
             [
              1,
              "#f0f921"
             ]
            ],
            "type": "histogram2dcontour"
           }
          ],
          "mesh3d": [
           {
            "colorbar": {
             "outlinewidth": 0,
             "ticks": ""
            },
            "type": "mesh3d"
           }
          ],
          "parcoords": [
           {
            "line": {
             "colorbar": {
              "outlinewidth": 0,
              "ticks": ""
             }
            },
            "type": "parcoords"
           }
          ],
          "pie": [
           {
            "automargin": true,
            "type": "pie"
           }
          ],
          "scatter": [
           {
            "fillpattern": {
             "fillmode": "overlay",
             "size": 10,
             "solidity": 0.2
            },
            "type": "scatter"
           }
          ],
          "scatter3d": [
           {
            "line": {
             "colorbar": {
              "outlinewidth": 0,
              "ticks": ""
             }
            },
            "marker": {
             "colorbar": {
              "outlinewidth": 0,
              "ticks": ""
             }
            },
            "type": "scatter3d"
           }
          ],
          "scattercarpet": [
           {
            "marker": {
             "colorbar": {
              "outlinewidth": 0,
              "ticks": ""
             }
            },
            "type": "scattercarpet"
           }
          ],
          "scattergeo": [
           {
            "marker": {
             "colorbar": {
              "outlinewidth": 0,
              "ticks": ""
             }
            },
            "type": "scattergeo"
           }
          ],
          "scattergl": [
           {
            "marker": {
             "colorbar": {
              "outlinewidth": 0,
              "ticks": ""
             }
            },
            "type": "scattergl"
           }
          ],
          "scattermap": [
           {
            "marker": {
             "colorbar": {
              "outlinewidth": 0,
              "ticks": ""
             }
            },
            "type": "scattermap"
           }
          ],
          "scattermapbox": [
           {
            "marker": {
             "colorbar": {
              "outlinewidth": 0,
              "ticks": ""
             }
            },
            "type": "scattermapbox"
           }
          ],
          "scatterpolar": [
           {
            "marker": {
             "colorbar": {
              "outlinewidth": 0,
              "ticks": ""
             }
            },
            "type": "scatterpolar"
           }
          ],
          "scatterpolargl": [
           {
            "marker": {
             "colorbar": {
              "outlinewidth": 0,
              "ticks": ""
             }
            },
            "type": "scatterpolargl"
           }
          ],
          "scatterternary": [
           {
            "marker": {
             "colorbar": {
              "outlinewidth": 0,
              "ticks": ""
             }
            },
            "type": "scatterternary"
           }
          ],
          "surface": [
           {
            "colorbar": {
             "outlinewidth": 0,
             "ticks": ""
            },
            "colorscale": [
             [
              0,
              "#0d0887"
             ],
             [
              0.1111111111111111,
              "#46039f"
             ],
             [
              0.2222222222222222,
              "#7201a8"
             ],
             [
              0.3333333333333333,
              "#9c179e"
             ],
             [
              0.4444444444444444,
              "#bd3786"
             ],
             [
              0.5555555555555556,
              "#d8576b"
             ],
             [
              0.6666666666666666,
              "#ed7953"
             ],
             [
              0.7777777777777778,
              "#fb9f3a"
             ],
             [
              0.8888888888888888,
              "#fdca26"
             ],
             [
              1,
              "#f0f921"
             ]
            ],
            "type": "surface"
           }
          ],
          "table": [
           {
            "cells": {
             "fill": {
              "color": "#EBF0F8"
             },
             "line": {
              "color": "white"
             }
            },
            "header": {
             "fill": {
              "color": "#C8D4E3"
             },
             "line": {
              "color": "white"
             }
            },
            "type": "table"
           }
          ]
         },
         "layout": {
          "annotationdefaults": {
           "arrowcolor": "#2a3f5f",
           "arrowhead": 0,
           "arrowwidth": 1
          },
          "autotypenumbers": "strict",
          "coloraxis": {
           "colorbar": {
            "outlinewidth": 0,
            "ticks": ""
           }
          },
          "colorscale": {
           "diverging": [
            [
             0,
             "#8e0152"
            ],
            [
             0.1,
             "#c51b7d"
            ],
            [
             0.2,
             "#de77ae"
            ],
            [
             0.3,
             "#f1b6da"
            ],
            [
             0.4,
             "#fde0ef"
            ],
            [
             0.5,
             "#f7f7f7"
            ],
            [
             0.6,
             "#e6f5d0"
            ],
            [
             0.7,
             "#b8e186"
            ],
            [
             0.8,
             "#7fbc41"
            ],
            [
             0.9,
             "#4d9221"
            ],
            [
             1,
             "#276419"
            ]
           ],
           "sequential": [
            [
             0,
             "#0d0887"
            ],
            [
             0.1111111111111111,
             "#46039f"
            ],
            [
             0.2222222222222222,
             "#7201a8"
            ],
            [
             0.3333333333333333,
             "#9c179e"
            ],
            [
             0.4444444444444444,
             "#bd3786"
            ],
            [
             0.5555555555555556,
             "#d8576b"
            ],
            [
             0.6666666666666666,
             "#ed7953"
            ],
            [
             0.7777777777777778,
             "#fb9f3a"
            ],
            [
             0.8888888888888888,
             "#fdca26"
            ],
            [
             1,
             "#f0f921"
            ]
           ],
           "sequentialminus": [
            [
             0,
             "#0d0887"
            ],
            [
             0.1111111111111111,
             "#46039f"
            ],
            [
             0.2222222222222222,
             "#7201a8"
            ],
            [
             0.3333333333333333,
             "#9c179e"
            ],
            [
             0.4444444444444444,
             "#bd3786"
            ],
            [
             0.5555555555555556,
             "#d8576b"
            ],
            [
             0.6666666666666666,
             "#ed7953"
            ],
            [
             0.7777777777777778,
             "#fb9f3a"
            ],
            [
             0.8888888888888888,
             "#fdca26"
            ],
            [
             1,
             "#f0f921"
            ]
           ]
          },
          "colorway": [
           "#636efa",
           "#EF553B",
           "#00cc96",
           "#ab63fa",
           "#FFA15A",
           "#19d3f3",
           "#FF6692",
           "#B6E880",
           "#FF97FF",
           "#FECB52"
          ],
          "font": {
           "color": "#2a3f5f"
          },
          "geo": {
           "bgcolor": "white",
           "lakecolor": "white",
           "landcolor": "#E5ECF6",
           "showlakes": true,
           "showland": true,
           "subunitcolor": "white"
          },
          "hoverlabel": {
           "align": "left"
          },
          "hovermode": "closest",
          "mapbox": {
           "style": "light"
          },
          "paper_bgcolor": "white",
          "plot_bgcolor": "#E5ECF6",
          "polar": {
           "angularaxis": {
            "gridcolor": "white",
            "linecolor": "white",
            "ticks": ""
           },
           "bgcolor": "#E5ECF6",
           "radialaxis": {
            "gridcolor": "white",
            "linecolor": "white",
            "ticks": ""
           }
          },
          "scene": {
           "xaxis": {
            "backgroundcolor": "#E5ECF6",
            "gridcolor": "white",
            "gridwidth": 2,
            "linecolor": "white",
            "showbackground": true,
            "ticks": "",
            "zerolinecolor": "white"
           },
           "yaxis": {
            "backgroundcolor": "#E5ECF6",
            "gridcolor": "white",
            "gridwidth": 2,
            "linecolor": "white",
            "showbackground": true,
            "ticks": "",
            "zerolinecolor": "white"
           },
           "zaxis": {
            "backgroundcolor": "#E5ECF6",
            "gridcolor": "white",
            "gridwidth": 2,
            "linecolor": "white",
            "showbackground": true,
            "ticks": "",
            "zerolinecolor": "white"
           }
          },
          "shapedefaults": {
           "line": {
            "color": "#2a3f5f"
           }
          },
          "ternary": {
           "aaxis": {
            "gridcolor": "white",
            "linecolor": "white",
            "ticks": ""
           },
           "baxis": {
            "gridcolor": "white",
            "linecolor": "white",
            "ticks": ""
           },
           "bgcolor": "#E5ECF6",
           "caxis": {
            "gridcolor": "white",
            "linecolor": "white",
            "ticks": ""
           }
          },
          "title": {
           "x": 0.05
          },
          "xaxis": {
           "automargin": true,
           "gridcolor": "white",
           "linecolor": "white",
           "ticks": "",
           "title": {
            "standoff": 15
           },
           "zerolinecolor": "white",
           "zerolinewidth": 2
          },
          "yaxis": {
           "automargin": true,
           "gridcolor": "white",
           "linecolor": "white",
           "ticks": "",
           "title": {
            "standoff": 15
           },
           "zerolinecolor": "white",
           "zerolinewidth": 2
          }
         }
        },
        "title": {
         "text": "Bulgur"
        }
       }
      }
     },
     "metadata": {},
     "output_type": "display_data"
    },
    {
     "data": {
      "application/vnd.plotly.v1+json": {
       "config": {
        "plotlyServerURL": "https://plot.ly"
       },
       "data": [
        {
         "link": {
          "source": {
           "bdata": "AAAAAAAAAAEBAQEBAQECAgICAgICAwMDAwMDAwQEBAQEBAQFBQUFBQUFBgYGBgYGBg==",
           "dtype": "i1"
          },
          "target": {
           "bdata": "BwgJCgsMDQcICQoLDA0HCAkKCwwNBwgJCgsMDQcICQoLDA0HCAkKCwwNBwgJCgsMDQ==",
           "dtype": "i1"
          },
          "value": [
           342.89,
           0,
           0,
           201.73,
           281.61,
           0,
           202.44,
           34.89,
           378.67,
           335.37,
           0,
           0,
           231.79,
           0,
           43.31,
           373.21,
           340.21,
           0,
           0,
           239.63,
           0,
           0,
           663.32,
           629.91,
           0,
           0,
           0,
           0,
           51.52,
           355.94,
           345.9,
           0,
           0,
           236.39,
           0,
           343.65,
           0,
           637.91,
           199.86,
           283.46,
           539.46,
           200.59,
           0,
           0,
           0,
           0,
           284.74,
           543.06,
           0
          ]
         },
         "node": {
          "label": [
           "Aleppo",
           "Amman",
           "Beirut",
           "Damascus",
           "Gaziantep",
           "Hama",
           "Homs",
           "Ar Raqqa",
           "Dara",
           "Dayr Az Zor",
           "Hassakeh",
           "Idleb",
           "Jubb al Jarrah",
           "Qamishli"
          ]
         },
         "type": "sankey"
        }
       ],
       "layout": {
        "template": {
         "data": {
          "bar": [
           {
            "error_x": {
             "color": "#2a3f5f"
            },
            "error_y": {
             "color": "#2a3f5f"
            },
            "marker": {
             "line": {
              "color": "#E5ECF6",
              "width": 0.5
             },
             "pattern": {
              "fillmode": "overlay",
              "size": 10,
              "solidity": 0.2
             }
            },
            "type": "bar"
           }
          ],
          "barpolar": [
           {
            "marker": {
             "line": {
              "color": "#E5ECF6",
              "width": 0.5
             },
             "pattern": {
              "fillmode": "overlay",
              "size": 10,
              "solidity": 0.2
             }
            },
            "type": "barpolar"
           }
          ],
          "carpet": [
           {
            "aaxis": {
             "endlinecolor": "#2a3f5f",
             "gridcolor": "white",
             "linecolor": "white",
             "minorgridcolor": "white",
             "startlinecolor": "#2a3f5f"
            },
            "baxis": {
             "endlinecolor": "#2a3f5f",
             "gridcolor": "white",
             "linecolor": "white",
             "minorgridcolor": "white",
             "startlinecolor": "#2a3f5f"
            },
            "type": "carpet"
           }
          ],
          "choropleth": [
           {
            "colorbar": {
             "outlinewidth": 0,
             "ticks": ""
            },
            "type": "choropleth"
           }
          ],
          "contour": [
           {
            "colorbar": {
             "outlinewidth": 0,
             "ticks": ""
            },
            "colorscale": [
             [
              0,
              "#0d0887"
             ],
             [
              0.1111111111111111,
              "#46039f"
             ],
             [
              0.2222222222222222,
              "#7201a8"
             ],
             [
              0.3333333333333333,
              "#9c179e"
             ],
             [
              0.4444444444444444,
              "#bd3786"
             ],
             [
              0.5555555555555556,
              "#d8576b"
             ],
             [
              0.6666666666666666,
              "#ed7953"
             ],
             [
              0.7777777777777778,
              "#fb9f3a"
             ],
             [
              0.8888888888888888,
              "#fdca26"
             ],
             [
              1,
              "#f0f921"
             ]
            ],
            "type": "contour"
           }
          ],
          "contourcarpet": [
           {
            "colorbar": {
             "outlinewidth": 0,
             "ticks": ""
            },
            "type": "contourcarpet"
           }
          ],
          "heatmap": [
           {
            "colorbar": {
             "outlinewidth": 0,
             "ticks": ""
            },
            "colorscale": [
             [
              0,
              "#0d0887"
             ],
             [
              0.1111111111111111,
              "#46039f"
             ],
             [
              0.2222222222222222,
              "#7201a8"
             ],
             [
              0.3333333333333333,
              "#9c179e"
             ],
             [
              0.4444444444444444,
              "#bd3786"
             ],
             [
              0.5555555555555556,
              "#d8576b"
             ],
             [
              0.6666666666666666,
              "#ed7953"
             ],
             [
              0.7777777777777778,
              "#fb9f3a"
             ],
             [
              0.8888888888888888,
              "#fdca26"
             ],
             [
              1,
              "#f0f921"
             ]
            ],
            "type": "heatmap"
           }
          ],
          "histogram": [
           {
            "marker": {
             "pattern": {
              "fillmode": "overlay",
              "size": 10,
              "solidity": 0.2
             }
            },
            "type": "histogram"
           }
          ],
          "histogram2d": [
           {
            "colorbar": {
             "outlinewidth": 0,
             "ticks": ""
            },
            "colorscale": [
             [
              0,
              "#0d0887"
             ],
             [
              0.1111111111111111,
              "#46039f"
             ],
             [
              0.2222222222222222,
              "#7201a8"
             ],
             [
              0.3333333333333333,
              "#9c179e"
             ],
             [
              0.4444444444444444,
              "#bd3786"
             ],
             [
              0.5555555555555556,
              "#d8576b"
             ],
             [
              0.6666666666666666,
              "#ed7953"
             ],
             [
              0.7777777777777778,
              "#fb9f3a"
             ],
             [
              0.8888888888888888,
              "#fdca26"
             ],
             [
              1,
              "#f0f921"
             ]
            ],
            "type": "histogram2d"
           }
          ],
          "histogram2dcontour": [
           {
            "colorbar": {
             "outlinewidth": 0,
             "ticks": ""
            },
            "colorscale": [
             [
              0,
              "#0d0887"
             ],
             [
              0.1111111111111111,
              "#46039f"
             ],
             [
              0.2222222222222222,
              "#7201a8"
             ],
             [
              0.3333333333333333,
              "#9c179e"
             ],
             [
              0.4444444444444444,
              "#bd3786"
             ],
             [
              0.5555555555555556,
              "#d8576b"
             ],
             [
              0.6666666666666666,
              "#ed7953"
             ],
             [
              0.7777777777777778,
              "#fb9f3a"
             ],
             [
              0.8888888888888888,
              "#fdca26"
             ],
             [
              1,
              "#f0f921"
             ]
            ],
            "type": "histogram2dcontour"
           }
          ],
          "mesh3d": [
           {
            "colorbar": {
             "outlinewidth": 0,
             "ticks": ""
            },
            "type": "mesh3d"
           }
          ],
          "parcoords": [
           {
            "line": {
             "colorbar": {
              "outlinewidth": 0,
              "ticks": ""
             }
            },
            "type": "parcoords"
           }
          ],
          "pie": [
           {
            "automargin": true,
            "type": "pie"
           }
          ],
          "scatter": [
           {
            "fillpattern": {
             "fillmode": "overlay",
             "size": 10,
             "solidity": 0.2
            },
            "type": "scatter"
           }
          ],
          "scatter3d": [
           {
            "line": {
             "colorbar": {
              "outlinewidth": 0,
              "ticks": ""
             }
            },
            "marker": {
             "colorbar": {
              "outlinewidth": 0,
              "ticks": ""
             }
            },
            "type": "scatter3d"
           }
          ],
          "scattercarpet": [
           {
            "marker": {
             "colorbar": {
              "outlinewidth": 0,
              "ticks": ""
             }
            },
            "type": "scattercarpet"
           }
          ],
          "scattergeo": [
           {
            "marker": {
             "colorbar": {
              "outlinewidth": 0,
              "ticks": ""
             }
            },
            "type": "scattergeo"
           }
          ],
          "scattergl": [
           {
            "marker": {
             "colorbar": {
              "outlinewidth": 0,
              "ticks": ""
             }
            },
            "type": "scattergl"
           }
          ],
          "scattermap": [
           {
            "marker": {
             "colorbar": {
              "outlinewidth": 0,
              "ticks": ""
             }
            },
            "type": "scattermap"
           }
          ],
          "scattermapbox": [
           {
            "marker": {
             "colorbar": {
              "outlinewidth": 0,
              "ticks": ""
             }
            },
            "type": "scattermapbox"
           }
          ],
          "scatterpolar": [
           {
            "marker": {
             "colorbar": {
              "outlinewidth": 0,
              "ticks": ""
             }
            },
            "type": "scatterpolar"
           }
          ],
          "scatterpolargl": [
           {
            "marker": {
             "colorbar": {
              "outlinewidth": 0,
              "ticks": ""
             }
            },
            "type": "scatterpolargl"
           }
          ],
          "scatterternary": [
           {
            "marker": {
             "colorbar": {
              "outlinewidth": 0,
              "ticks": ""
             }
            },
            "type": "scatterternary"
           }
          ],
          "surface": [
           {
            "colorbar": {
             "outlinewidth": 0,
             "ticks": ""
            },
            "colorscale": [
             [
              0,
              "#0d0887"
             ],
             [
              0.1111111111111111,
              "#46039f"
             ],
             [
              0.2222222222222222,
              "#7201a8"
             ],
             [
              0.3333333333333333,
              "#9c179e"
             ],
             [
              0.4444444444444444,
              "#bd3786"
             ],
             [
              0.5555555555555556,
              "#d8576b"
             ],
             [
              0.6666666666666666,
              "#ed7953"
             ],
             [
              0.7777777777777778,
              "#fb9f3a"
             ],
             [
              0.8888888888888888,
              "#fdca26"
             ],
             [
              1,
              "#f0f921"
             ]
            ],
            "type": "surface"
           }
          ],
          "table": [
           {
            "cells": {
             "fill": {
              "color": "#EBF0F8"
             },
             "line": {
              "color": "white"
             }
            },
            "header": {
             "fill": {
              "color": "#C8D4E3"
             },
             "line": {
              "color": "white"
             }
            },
            "type": "table"
           }
          ]
         },
         "layout": {
          "annotationdefaults": {
           "arrowcolor": "#2a3f5f",
           "arrowhead": 0,
           "arrowwidth": 1
          },
          "autotypenumbers": "strict",
          "coloraxis": {
           "colorbar": {
            "outlinewidth": 0,
            "ticks": ""
           }
          },
          "colorscale": {
           "diverging": [
            [
             0,
             "#8e0152"
            ],
            [
             0.1,
             "#c51b7d"
            ],
            [
             0.2,
             "#de77ae"
            ],
            [
             0.3,
             "#f1b6da"
            ],
            [
             0.4,
             "#fde0ef"
            ],
            [
             0.5,
             "#f7f7f7"
            ],
            [
             0.6,
             "#e6f5d0"
            ],
            [
             0.7,
             "#b8e186"
            ],
            [
             0.8,
             "#7fbc41"
            ],
            [
             0.9,
             "#4d9221"
            ],
            [
             1,
             "#276419"
            ]
           ],
           "sequential": [
            [
             0,
             "#0d0887"
            ],
            [
             0.1111111111111111,
             "#46039f"
            ],
            [
             0.2222222222222222,
             "#7201a8"
            ],
            [
             0.3333333333333333,
             "#9c179e"
            ],
            [
             0.4444444444444444,
             "#bd3786"
            ],
            [
             0.5555555555555556,
             "#d8576b"
            ],
            [
             0.6666666666666666,
             "#ed7953"
            ],
            [
             0.7777777777777778,
             "#fb9f3a"
            ],
            [
             0.8888888888888888,
             "#fdca26"
            ],
            [
             1,
             "#f0f921"
            ]
           ],
           "sequentialminus": [
            [
             0,
             "#0d0887"
            ],
            [
             0.1111111111111111,
             "#46039f"
            ],
            [
             0.2222222222222222,
             "#7201a8"
            ],
            [
             0.3333333333333333,
             "#9c179e"
            ],
            [
             0.4444444444444444,
             "#bd3786"
            ],
            [
             0.5555555555555556,
             "#d8576b"
            ],
            [
             0.6666666666666666,
             "#ed7953"
            ],
            [
             0.7777777777777778,
             "#fb9f3a"
            ],
            [
             0.8888888888888888,
             "#fdca26"
            ],
            [
             1,
             "#f0f921"
            ]
           ]
          },
          "colorway": [
           "#636efa",
           "#EF553B",
           "#00cc96",
           "#ab63fa",
           "#FFA15A",
           "#19d3f3",
           "#FF6692",
           "#B6E880",
           "#FF97FF",
           "#FECB52"
          ],
          "font": {
           "color": "#2a3f5f"
          },
          "geo": {
           "bgcolor": "white",
           "lakecolor": "white",
           "landcolor": "#E5ECF6",
           "showlakes": true,
           "showland": true,
           "subunitcolor": "white"
          },
          "hoverlabel": {
           "align": "left"
          },
          "hovermode": "closest",
          "mapbox": {
           "style": "light"
          },
          "paper_bgcolor": "white",
          "plot_bgcolor": "#E5ECF6",
          "polar": {
           "angularaxis": {
            "gridcolor": "white",
            "linecolor": "white",
            "ticks": ""
           },
           "bgcolor": "#E5ECF6",
           "radialaxis": {
            "gridcolor": "white",
            "linecolor": "white",
            "ticks": ""
           }
          },
          "scene": {
           "xaxis": {
            "backgroundcolor": "#E5ECF6",
            "gridcolor": "white",
            "gridwidth": 2,
            "linecolor": "white",
            "showbackground": true,
            "ticks": "",
            "zerolinecolor": "white"
           },
           "yaxis": {
            "backgroundcolor": "#E5ECF6",
            "gridcolor": "white",
            "gridwidth": 2,
            "linecolor": "white",
            "showbackground": true,
            "ticks": "",
            "zerolinecolor": "white"
           },
           "zaxis": {
            "backgroundcolor": "#E5ECF6",
            "gridcolor": "white",
            "gridwidth": 2,
            "linecolor": "white",
            "showbackground": true,
            "ticks": "",
            "zerolinecolor": "white"
           }
          },
          "shapedefaults": {
           "line": {
            "color": "#2a3f5f"
           }
          },
          "ternary": {
           "aaxis": {
            "gridcolor": "white",
            "linecolor": "white",
            "ticks": ""
           },
           "baxis": {
            "gridcolor": "white",
            "linecolor": "white",
            "ticks": ""
           },
           "bgcolor": "#E5ECF6",
           "caxis": {
            "gridcolor": "white",
            "linecolor": "white",
            "ticks": ""
           }
          },
          "title": {
           "x": 0.05
          },
          "xaxis": {
           "automargin": true,
           "gridcolor": "white",
           "linecolor": "white",
           "ticks": "",
           "title": {
            "standoff": 15
           },
           "zerolinecolor": "white",
           "zerolinewidth": 2
          },
          "yaxis": {
           "automargin": true,
           "gridcolor": "white",
           "linecolor": "white",
           "ticks": "",
           "title": {
            "standoff": 15
           },
           "zerolinecolor": "white",
           "zerolinewidth": 2
          }
         }
        },
        "title": {
         "text": "Cheese"
        }
       }
      }
     },
     "metadata": {},
     "output_type": "display_data"
    },
    {
     "data": {
      "application/vnd.plotly.v1+json": {
       "config": {
        "plotlyServerURL": "https://plot.ly"
       },
       "data": [
        {
         "link": {
          "source": {
           "bdata": "AAAAAAAAAAEBAQEBAQECAgICAgICAwMDAwMDAwQEBAQEBAQFBQUFBQUFBgYGBgYGBg==",
           "dtype": "i1"
          },
          "target": {
           "bdata": "BwgJCgsMDQcICQoLDA0HCAkKCwwNBwgJCgsMDQcICQoLDA0HCAkKCwwNBwgJCgsMDQ==",
           "dtype": "i1"
          },
          "value": [
           111.96,
           0,
           0,
           58.91,
           95.98,
           0,
           58.64,
           101.3,
           264.71,
           249.31,
           46.72,
           83.99,
           201.22,
           45.35,
           109.72,
           259.2,
           254.14,
           54.02,
           92.97,
           209.07,
           53.76,
           0,
           233.47,
           227.97,
           0,
           0,
           0,
           0,
           117.89,
           241.97,
           259.84,
           67.61,
           100.24,
           205.82,
           67.35,
           100.03,
           0,
           241.91,
           44.33,
           85.1,
           198.91,
           44.07,
           0,
           0,
           0,
           0,
           83.77,
           199.9,
           0
          ]
         },
         "node": {
          "label": [
           "Aleppo",
           "Amman",
           "Beirut",
           "Damascus",
           "Gaziantep",
           "Hama",
           "Homs",
           "Ar Raqqa",
           "Dara",
           "Dayr Az Zor",
           "Hassakeh",
           "Idleb",
           "Jubb al Jarrah",
           "Qamishli"
          ]
         },
         "type": "sankey"
        }
       ],
       "layout": {
        "template": {
         "data": {
          "bar": [
           {
            "error_x": {
             "color": "#2a3f5f"
            },
            "error_y": {
             "color": "#2a3f5f"
            },
            "marker": {
             "line": {
              "color": "#E5ECF6",
              "width": 0.5
             },
             "pattern": {
              "fillmode": "overlay",
              "size": 10,
              "solidity": 0.2
             }
            },
            "type": "bar"
           }
          ],
          "barpolar": [
           {
            "marker": {
             "line": {
              "color": "#E5ECF6",
              "width": 0.5
             },
             "pattern": {
              "fillmode": "overlay",
              "size": 10,
              "solidity": 0.2
             }
            },
            "type": "barpolar"
           }
          ],
          "carpet": [
           {
            "aaxis": {
             "endlinecolor": "#2a3f5f",
             "gridcolor": "white",
             "linecolor": "white",
             "minorgridcolor": "white",
             "startlinecolor": "#2a3f5f"
            },
            "baxis": {
             "endlinecolor": "#2a3f5f",
             "gridcolor": "white",
             "linecolor": "white",
             "minorgridcolor": "white",
             "startlinecolor": "#2a3f5f"
            },
            "type": "carpet"
           }
          ],
          "choropleth": [
           {
            "colorbar": {
             "outlinewidth": 0,
             "ticks": ""
            },
            "type": "choropleth"
           }
          ],
          "contour": [
           {
            "colorbar": {
             "outlinewidth": 0,
             "ticks": ""
            },
            "colorscale": [
             [
              0,
              "#0d0887"
             ],
             [
              0.1111111111111111,
              "#46039f"
             ],
             [
              0.2222222222222222,
              "#7201a8"
             ],
             [
              0.3333333333333333,
              "#9c179e"
             ],
             [
              0.4444444444444444,
              "#bd3786"
             ],
             [
              0.5555555555555556,
              "#d8576b"
             ],
             [
              0.6666666666666666,
              "#ed7953"
             ],
             [
              0.7777777777777778,
              "#fb9f3a"
             ],
             [
              0.8888888888888888,
              "#fdca26"
             ],
             [
              1,
              "#f0f921"
             ]
            ],
            "type": "contour"
           }
          ],
          "contourcarpet": [
           {
            "colorbar": {
             "outlinewidth": 0,
             "ticks": ""
            },
            "type": "contourcarpet"
           }
          ],
          "heatmap": [
           {
            "colorbar": {
             "outlinewidth": 0,
             "ticks": ""
            },
            "colorscale": [
             [
              0,
              "#0d0887"
             ],
             [
              0.1111111111111111,
              "#46039f"
             ],
             [
              0.2222222222222222,
              "#7201a8"
             ],
             [
              0.3333333333333333,
              "#9c179e"
             ],
             [
              0.4444444444444444,
              "#bd3786"
             ],
             [
              0.5555555555555556,
              "#d8576b"
             ],
             [
              0.6666666666666666,
              "#ed7953"
             ],
             [
              0.7777777777777778,
              "#fb9f3a"
             ],
             [
              0.8888888888888888,
              "#fdca26"
             ],
             [
              1,
              "#f0f921"
             ]
            ],
            "type": "heatmap"
           }
          ],
          "histogram": [
           {
            "marker": {
             "pattern": {
              "fillmode": "overlay",
              "size": 10,
              "solidity": 0.2
             }
            },
            "type": "histogram"
           }
          ],
          "histogram2d": [
           {
            "colorbar": {
             "outlinewidth": 0,
             "ticks": ""
            },
            "colorscale": [
             [
              0,
              "#0d0887"
             ],
             [
              0.1111111111111111,
              "#46039f"
             ],
             [
              0.2222222222222222,
              "#7201a8"
             ],
             [
              0.3333333333333333,
              "#9c179e"
             ],
             [
              0.4444444444444444,
              "#bd3786"
             ],
             [
              0.5555555555555556,
              "#d8576b"
             ],
             [
              0.6666666666666666,
              "#ed7953"
             ],
             [
              0.7777777777777778,
              "#fb9f3a"
             ],
             [
              0.8888888888888888,
              "#fdca26"
             ],
             [
              1,
              "#f0f921"
             ]
            ],
            "type": "histogram2d"
           }
          ],
          "histogram2dcontour": [
           {
            "colorbar": {
             "outlinewidth": 0,
             "ticks": ""
            },
            "colorscale": [
             [
              0,
              "#0d0887"
             ],
             [
              0.1111111111111111,
              "#46039f"
             ],
             [
              0.2222222222222222,
              "#7201a8"
             ],
             [
              0.3333333333333333,
              "#9c179e"
             ],
             [
              0.4444444444444444,
              "#bd3786"
             ],
             [
              0.5555555555555556,
              "#d8576b"
             ],
             [
              0.6666666666666666,
              "#ed7953"
             ],
             [
              0.7777777777777778,
              "#fb9f3a"
             ],
             [
              0.8888888888888888,
              "#fdca26"
             ],
             [
              1,
              "#f0f921"
             ]
            ],
            "type": "histogram2dcontour"
           }
          ],
          "mesh3d": [
           {
            "colorbar": {
             "outlinewidth": 0,
             "ticks": ""
            },
            "type": "mesh3d"
           }
          ],
          "parcoords": [
           {
            "line": {
             "colorbar": {
              "outlinewidth": 0,
              "ticks": ""
             }
            },
            "type": "parcoords"
           }
          ],
          "pie": [
           {
            "automargin": true,
            "type": "pie"
           }
          ],
          "scatter": [
           {
            "fillpattern": {
             "fillmode": "overlay",
             "size": 10,
             "solidity": 0.2
            },
            "type": "scatter"
           }
          ],
          "scatter3d": [
           {
            "line": {
             "colorbar": {
              "outlinewidth": 0,
              "ticks": ""
             }
            },
            "marker": {
             "colorbar": {
              "outlinewidth": 0,
              "ticks": ""
             }
            },
            "type": "scatter3d"
           }
          ],
          "scattercarpet": [
           {
            "marker": {
             "colorbar": {
              "outlinewidth": 0,
              "ticks": ""
             }
            },
            "type": "scattercarpet"
           }
          ],
          "scattergeo": [
           {
            "marker": {
             "colorbar": {
              "outlinewidth": 0,
              "ticks": ""
             }
            },
            "type": "scattergeo"
           }
          ],
          "scattergl": [
           {
            "marker": {
             "colorbar": {
              "outlinewidth": 0,
              "ticks": ""
             }
            },
            "type": "scattergl"
           }
          ],
          "scattermap": [
           {
            "marker": {
             "colorbar": {
              "outlinewidth": 0,
              "ticks": ""
             }
            },
            "type": "scattermap"
           }
          ],
          "scattermapbox": [
           {
            "marker": {
             "colorbar": {
              "outlinewidth": 0,
              "ticks": ""
             }
            },
            "type": "scattermapbox"
           }
          ],
          "scatterpolar": [
           {
            "marker": {
             "colorbar": {
              "outlinewidth": 0,
              "ticks": ""
             }
            },
            "type": "scatterpolar"
           }
          ],
          "scatterpolargl": [
           {
            "marker": {
             "colorbar": {
              "outlinewidth": 0,
              "ticks": ""
             }
            },
            "type": "scatterpolargl"
           }
          ],
          "scatterternary": [
           {
            "marker": {
             "colorbar": {
              "outlinewidth": 0,
              "ticks": ""
             }
            },
            "type": "scatterternary"
           }
          ],
          "surface": [
           {
            "colorbar": {
             "outlinewidth": 0,
             "ticks": ""
            },
            "colorscale": [
             [
              0,
              "#0d0887"
             ],
             [
              0.1111111111111111,
              "#46039f"
             ],
             [
              0.2222222222222222,
              "#7201a8"
             ],
             [
              0.3333333333333333,
              "#9c179e"
             ],
             [
              0.4444444444444444,
              "#bd3786"
             ],
             [
              0.5555555555555556,
              "#d8576b"
             ],
             [
              0.6666666666666666,
              "#ed7953"
             ],
             [
              0.7777777777777778,
              "#fb9f3a"
             ],
             [
              0.8888888888888888,
              "#fdca26"
             ],
             [
              1,
              "#f0f921"
             ]
            ],
            "type": "surface"
           }
          ],
          "table": [
           {
            "cells": {
             "fill": {
              "color": "#EBF0F8"
             },
             "line": {
              "color": "white"
             }
            },
            "header": {
             "fill": {
              "color": "#C8D4E3"
             },
             "line": {
              "color": "white"
             }
            },
            "type": "table"
           }
          ]
         },
         "layout": {
          "annotationdefaults": {
           "arrowcolor": "#2a3f5f",
           "arrowhead": 0,
           "arrowwidth": 1
          },
          "autotypenumbers": "strict",
          "coloraxis": {
           "colorbar": {
            "outlinewidth": 0,
            "ticks": ""
           }
          },
          "colorscale": {
           "diverging": [
            [
             0,
             "#8e0152"
            ],
            [
             0.1,
             "#c51b7d"
            ],
            [
             0.2,
             "#de77ae"
            ],
            [
             0.3,
             "#f1b6da"
            ],
            [
             0.4,
             "#fde0ef"
            ],
            [
             0.5,
             "#f7f7f7"
            ],
            [
             0.6,
             "#e6f5d0"
            ],
            [
             0.7,
             "#b8e186"
            ],
            [
             0.8,
             "#7fbc41"
            ],
            [
             0.9,
             "#4d9221"
            ],
            [
             1,
             "#276419"
            ]
           ],
           "sequential": [
            [
             0,
             "#0d0887"
            ],
            [
             0.1111111111111111,
             "#46039f"
            ],
            [
             0.2222222222222222,
             "#7201a8"
            ],
            [
             0.3333333333333333,
             "#9c179e"
            ],
            [
             0.4444444444444444,
             "#bd3786"
            ],
            [
             0.5555555555555556,
             "#d8576b"
            ],
            [
             0.6666666666666666,
             "#ed7953"
            ],
            [
             0.7777777777777778,
             "#fb9f3a"
            ],
            [
             0.8888888888888888,
             "#fdca26"
            ],
            [
             1,
             "#f0f921"
            ]
           ],
           "sequentialminus": [
            [
             0,
             "#0d0887"
            ],
            [
             0.1111111111111111,
             "#46039f"
            ],
            [
             0.2222222222222222,
             "#7201a8"
            ],
            [
             0.3333333333333333,
             "#9c179e"
            ],
            [
             0.4444444444444444,
             "#bd3786"
            ],
            [
             0.5555555555555556,
             "#d8576b"
            ],
            [
             0.6666666666666666,
             "#ed7953"
            ],
            [
             0.7777777777777778,
             "#fb9f3a"
            ],
            [
             0.8888888888888888,
             "#fdca26"
            ],
            [
             1,
             "#f0f921"
            ]
           ]
          },
          "colorway": [
           "#636efa",
           "#EF553B",
           "#00cc96",
           "#ab63fa",
           "#FFA15A",
           "#19d3f3",
           "#FF6692",
           "#B6E880",
           "#FF97FF",
           "#FECB52"
          ],
          "font": {
           "color": "#2a3f5f"
          },
          "geo": {
           "bgcolor": "white",
           "lakecolor": "white",
           "landcolor": "#E5ECF6",
           "showlakes": true,
           "showland": true,
           "subunitcolor": "white"
          },
          "hoverlabel": {
           "align": "left"
          },
          "hovermode": "closest",
          "mapbox": {
           "style": "light"
          },
          "paper_bgcolor": "white",
          "plot_bgcolor": "#E5ECF6",
          "polar": {
           "angularaxis": {
            "gridcolor": "white",
            "linecolor": "white",
            "ticks": ""
           },
           "bgcolor": "#E5ECF6",
           "radialaxis": {
            "gridcolor": "white",
            "linecolor": "white",
            "ticks": ""
           }
          },
          "scene": {
           "xaxis": {
            "backgroundcolor": "#E5ECF6",
            "gridcolor": "white",
            "gridwidth": 2,
            "linecolor": "white",
            "showbackground": true,
            "ticks": "",
            "zerolinecolor": "white"
           },
           "yaxis": {
            "backgroundcolor": "#E5ECF6",
            "gridcolor": "white",
            "gridwidth": 2,
            "linecolor": "white",
            "showbackground": true,
            "ticks": "",
            "zerolinecolor": "white"
           },
           "zaxis": {
            "backgroundcolor": "#E5ECF6",
            "gridcolor": "white",
            "gridwidth": 2,
            "linecolor": "white",
            "showbackground": true,
            "ticks": "",
            "zerolinecolor": "white"
           }
          },
          "shapedefaults": {
           "line": {
            "color": "#2a3f5f"
           }
          },
          "ternary": {
           "aaxis": {
            "gridcolor": "white",
            "linecolor": "white",
            "ticks": ""
           },
           "baxis": {
            "gridcolor": "white",
            "linecolor": "white",
            "ticks": ""
           },
           "bgcolor": "#E5ECF6",
           "caxis": {
            "gridcolor": "white",
            "linecolor": "white",
            "ticks": ""
           }
          },
          "title": {
           "x": 0.05
          },
          "xaxis": {
           "automargin": true,
           "gridcolor": "white",
           "linecolor": "white",
           "ticks": "",
           "title": {
            "standoff": 15
           },
           "zerolinecolor": "white",
           "zerolinewidth": 2
          },
          "yaxis": {
           "automargin": true,
           "gridcolor": "white",
           "linecolor": "white",
           "ticks": "",
           "title": {
            "standoff": 15
           },
           "zerolinecolor": "white",
           "zerolinewidth": 2
          }
         }
        },
        "title": {
         "text": "Chickpeas"
        }
       }
      }
     },
     "metadata": {},
     "output_type": "display_data"
    },
    {
     "data": {
      "application/vnd.plotly.v1+json": {
       "config": {
        "plotlyServerURL": "https://plot.ly"
       },
       "data": [
        {
         "link": {
          "source": {
           "bdata": "AAAAAAAAAAEBAQEBAQECAgICAgICAwMDAwMDAwQEBAQEBAQFBQUFBQUFBgYGBgYGBg==",
           "dtype": "i1"
          },
          "target": {
           "bdata": "BwgJCgsMDQcICQoLDA0HCAkKCwwNBwgJCgsMDQcICQoLDA0HCAkKCwwNBwgJCgsMDQ==",
           "dtype": "i1"
          },
          "value": [
           0,
           0,
           0,
           0,
           0,
           0,
           0,
           0,
           50.21,
           26.54,
           0,
           0,
           22.64,
           0,
           0.57,
           44.75,
           31.37,
           0,
           1.24,
           30.48,
           0,
           0,
           7,
           0,
           0,
           0,
           0,
           0,
           8.78,
           27.47,
           37.06,
           0,
           8.46,
           27.24,
           0,
           0,
           0,
           2.14,
           0,
           0,
           3.34,
           0,
           0,
           0,
           0,
           0,
           0,
           5.45,
           0
          ]
         },
         "node": {
          "label": [
           "Aleppo",
           "Amman",
           "Beirut",
           "Damascus",
           "Gaziantep",
           "Hama",
           "Homs",
           "Ar Raqqa",
           "Dara",
           "Dayr Az Zor",
           "Hassakeh",
           "Idleb",
           "Jubb al Jarrah",
           "Qamishli"
          ]
         },
         "type": "sankey"
        }
       ],
       "layout": {
        "template": {
         "data": {
          "bar": [
           {
            "error_x": {
             "color": "#2a3f5f"
            },
            "error_y": {
             "color": "#2a3f5f"
            },
            "marker": {
             "line": {
              "color": "#E5ECF6",
              "width": 0.5
             },
             "pattern": {
              "fillmode": "overlay",
              "size": 10,
              "solidity": 0.2
             }
            },
            "type": "bar"
           }
          ],
          "barpolar": [
           {
            "marker": {
             "line": {
              "color": "#E5ECF6",
              "width": 0.5
             },
             "pattern": {
              "fillmode": "overlay",
              "size": 10,
              "solidity": 0.2
             }
            },
            "type": "barpolar"
           }
          ],
          "carpet": [
           {
            "aaxis": {
             "endlinecolor": "#2a3f5f",
             "gridcolor": "white",
             "linecolor": "white",
             "minorgridcolor": "white",
             "startlinecolor": "#2a3f5f"
            },
            "baxis": {
             "endlinecolor": "#2a3f5f",
             "gridcolor": "white",
             "linecolor": "white",
             "minorgridcolor": "white",
             "startlinecolor": "#2a3f5f"
            },
            "type": "carpet"
           }
          ],
          "choropleth": [
           {
            "colorbar": {
             "outlinewidth": 0,
             "ticks": ""
            },
            "type": "choropleth"
           }
          ],
          "contour": [
           {
            "colorbar": {
             "outlinewidth": 0,
             "ticks": ""
            },
            "colorscale": [
             [
              0,
              "#0d0887"
             ],
             [
              0.1111111111111111,
              "#46039f"
             ],
             [
              0.2222222222222222,
              "#7201a8"
             ],
             [
              0.3333333333333333,
              "#9c179e"
             ],
             [
              0.4444444444444444,
              "#bd3786"
             ],
             [
              0.5555555555555556,
              "#d8576b"
             ],
             [
              0.6666666666666666,
              "#ed7953"
             ],
             [
              0.7777777777777778,
              "#fb9f3a"
             ],
             [
              0.8888888888888888,
              "#fdca26"
             ],
             [
              1,
              "#f0f921"
             ]
            ],
            "type": "contour"
           }
          ],
          "contourcarpet": [
           {
            "colorbar": {
             "outlinewidth": 0,
             "ticks": ""
            },
            "type": "contourcarpet"
           }
          ],
          "heatmap": [
           {
            "colorbar": {
             "outlinewidth": 0,
             "ticks": ""
            },
            "colorscale": [
             [
              0,
              "#0d0887"
             ],
             [
              0.1111111111111111,
              "#46039f"
             ],
             [
              0.2222222222222222,
              "#7201a8"
             ],
             [
              0.3333333333333333,
              "#9c179e"
             ],
             [
              0.4444444444444444,
              "#bd3786"
             ],
             [
              0.5555555555555556,
              "#d8576b"
             ],
             [
              0.6666666666666666,
              "#ed7953"
             ],
             [
              0.7777777777777778,
              "#fb9f3a"
             ],
             [
              0.8888888888888888,
              "#fdca26"
             ],
             [
              1,
              "#f0f921"
             ]
            ],
            "type": "heatmap"
           }
          ],
          "histogram": [
           {
            "marker": {
             "pattern": {
              "fillmode": "overlay",
              "size": 10,
              "solidity": 0.2
             }
            },
            "type": "histogram"
           }
          ],
          "histogram2d": [
           {
            "colorbar": {
             "outlinewidth": 0,
             "ticks": ""
            },
            "colorscale": [
             [
              0,
              "#0d0887"
             ],
             [
              0.1111111111111111,
              "#46039f"
             ],
             [
              0.2222222222222222,
              "#7201a8"
             ],
             [
              0.3333333333333333,
              "#9c179e"
             ],
             [
              0.4444444444444444,
              "#bd3786"
             ],
             [
              0.5555555555555556,
              "#d8576b"
             ],
             [
              0.6666666666666666,
              "#ed7953"
             ],
             [
              0.7777777777777778,
              "#fb9f3a"
             ],
             [
              0.8888888888888888,
              "#fdca26"
             ],
             [
              1,
              "#f0f921"
             ]
            ],
            "type": "histogram2d"
           }
          ],
          "histogram2dcontour": [
           {
            "colorbar": {
             "outlinewidth": 0,
             "ticks": ""
            },
            "colorscale": [
             [
              0,
              "#0d0887"
             ],
             [
              0.1111111111111111,
              "#46039f"
             ],
             [
              0.2222222222222222,
              "#7201a8"
             ],
             [
              0.3333333333333333,
              "#9c179e"
             ],
             [
              0.4444444444444444,
              "#bd3786"
             ],
             [
              0.5555555555555556,
              "#d8576b"
             ],
             [
              0.6666666666666666,
              "#ed7953"
             ],
             [
              0.7777777777777778,
              "#fb9f3a"
             ],
             [
              0.8888888888888888,
              "#fdca26"
             ],
             [
              1,
              "#f0f921"
             ]
            ],
            "type": "histogram2dcontour"
           }
          ],
          "mesh3d": [
           {
            "colorbar": {
             "outlinewidth": 0,
             "ticks": ""
            },
            "type": "mesh3d"
           }
          ],
          "parcoords": [
           {
            "line": {
             "colorbar": {
              "outlinewidth": 0,
              "ticks": ""
             }
            },
            "type": "parcoords"
           }
          ],
          "pie": [
           {
            "automargin": true,
            "type": "pie"
           }
          ],
          "scatter": [
           {
            "fillpattern": {
             "fillmode": "overlay",
             "size": 10,
             "solidity": 0.2
            },
            "type": "scatter"
           }
          ],
          "scatter3d": [
           {
            "line": {
             "colorbar": {
              "outlinewidth": 0,
              "ticks": ""
             }
            },
            "marker": {
             "colorbar": {
              "outlinewidth": 0,
              "ticks": ""
             }
            },
            "type": "scatter3d"
           }
          ],
          "scattercarpet": [
           {
            "marker": {
             "colorbar": {
              "outlinewidth": 0,
              "ticks": ""
             }
            },
            "type": "scattercarpet"
           }
          ],
          "scattergeo": [
           {
            "marker": {
             "colorbar": {
              "outlinewidth": 0,
              "ticks": ""
             }
            },
            "type": "scattergeo"
           }
          ],
          "scattergl": [
           {
            "marker": {
             "colorbar": {
              "outlinewidth": 0,
              "ticks": ""
             }
            },
            "type": "scattergl"
           }
          ],
          "scattermap": [
           {
            "marker": {
             "colorbar": {
              "outlinewidth": 0,
              "ticks": ""
             }
            },
            "type": "scattermap"
           }
          ],
          "scattermapbox": [
           {
            "marker": {
             "colorbar": {
              "outlinewidth": 0,
              "ticks": ""
             }
            },
            "type": "scattermapbox"
           }
          ],
          "scatterpolar": [
           {
            "marker": {
             "colorbar": {
              "outlinewidth": 0,
              "ticks": ""
             }
            },
            "type": "scatterpolar"
           }
          ],
          "scatterpolargl": [
           {
            "marker": {
             "colorbar": {
              "outlinewidth": 0,
              "ticks": ""
             }
            },
            "type": "scatterpolargl"
           }
          ],
          "scatterternary": [
           {
            "marker": {
             "colorbar": {
              "outlinewidth": 0,
              "ticks": ""
             }
            },
            "type": "scatterternary"
           }
          ],
          "surface": [
           {
            "colorbar": {
             "outlinewidth": 0,
             "ticks": ""
            },
            "colorscale": [
             [
              0,
              "#0d0887"
             ],
             [
              0.1111111111111111,
              "#46039f"
             ],
             [
              0.2222222222222222,
              "#7201a8"
             ],
             [
              0.3333333333333333,
              "#9c179e"
             ],
             [
              0.4444444444444444,
              "#bd3786"
             ],
             [
              0.5555555555555556,
              "#d8576b"
             ],
             [
              0.6666666666666666,
              "#ed7953"
             ],
             [
              0.7777777777777778,
              "#fb9f3a"
             ],
             [
              0.8888888888888888,
              "#fdca26"
             ],
             [
              1,
              "#f0f921"
             ]
            ],
            "type": "surface"
           }
          ],
          "table": [
           {
            "cells": {
             "fill": {
              "color": "#EBF0F8"
             },
             "line": {
              "color": "white"
             }
            },
            "header": {
             "fill": {
              "color": "#C8D4E3"
             },
             "line": {
              "color": "white"
             }
            },
            "type": "table"
           }
          ]
         },
         "layout": {
          "annotationdefaults": {
           "arrowcolor": "#2a3f5f",
           "arrowhead": 0,
           "arrowwidth": 1
          },
          "autotypenumbers": "strict",
          "coloraxis": {
           "colorbar": {
            "outlinewidth": 0,
            "ticks": ""
           }
          },
          "colorscale": {
           "diverging": [
            [
             0,
             "#8e0152"
            ],
            [
             0.1,
             "#c51b7d"
            ],
            [
             0.2,
             "#de77ae"
            ],
            [
             0.3,
             "#f1b6da"
            ],
            [
             0.4,
             "#fde0ef"
            ],
            [
             0.5,
             "#f7f7f7"
            ],
            [
             0.6,
             "#e6f5d0"
            ],
            [
             0.7,
             "#b8e186"
            ],
            [
             0.8,
             "#7fbc41"
            ],
            [
             0.9,
             "#4d9221"
            ],
            [
             1,
             "#276419"
            ]
           ],
           "sequential": [
            [
             0,
             "#0d0887"
            ],
            [
             0.1111111111111111,
             "#46039f"
            ],
            [
             0.2222222222222222,
             "#7201a8"
            ],
            [
             0.3333333333333333,
             "#9c179e"
            ],
            [
             0.4444444444444444,
             "#bd3786"
            ],
            [
             0.5555555555555556,
             "#d8576b"
            ],
            [
             0.6666666666666666,
             "#ed7953"
            ],
            [
             0.7777777777777778,
             "#fb9f3a"
            ],
            [
             0.8888888888888888,
             "#fdca26"
            ],
            [
             1,
             "#f0f921"
            ]
           ],
           "sequentialminus": [
            [
             0,
             "#0d0887"
            ],
            [
             0.1111111111111111,
             "#46039f"
            ],
            [
             0.2222222222222222,
             "#7201a8"
            ],
            [
             0.3333333333333333,
             "#9c179e"
            ],
            [
             0.4444444444444444,
             "#bd3786"
            ],
            [
             0.5555555555555556,
             "#d8576b"
            ],
            [
             0.6666666666666666,
             "#ed7953"
            ],
            [
             0.7777777777777778,
             "#fb9f3a"
            ],
            [
             0.8888888888888888,
             "#fdca26"
            ],
            [
             1,
             "#f0f921"
            ]
           ]
          },
          "colorway": [
           "#636efa",
           "#EF553B",
           "#00cc96",
           "#ab63fa",
           "#FFA15A",
           "#19d3f3",
           "#FF6692",
           "#B6E880",
           "#FF97FF",
           "#FECB52"
          ],
          "font": {
           "color": "#2a3f5f"
          },
          "geo": {
           "bgcolor": "white",
           "lakecolor": "white",
           "landcolor": "#E5ECF6",
           "showlakes": true,
           "showland": true,
           "subunitcolor": "white"
          },
          "hoverlabel": {
           "align": "left"
          },
          "hovermode": "closest",
          "mapbox": {
           "style": "light"
          },
          "paper_bgcolor": "white",
          "plot_bgcolor": "#E5ECF6",
          "polar": {
           "angularaxis": {
            "gridcolor": "white",
            "linecolor": "white",
            "ticks": ""
           },
           "bgcolor": "#E5ECF6",
           "radialaxis": {
            "gridcolor": "white",
            "linecolor": "white",
            "ticks": ""
           }
          },
          "scene": {
           "xaxis": {
            "backgroundcolor": "#E5ECF6",
            "gridcolor": "white",
            "gridwidth": 2,
            "linecolor": "white",
            "showbackground": true,
            "ticks": "",
            "zerolinecolor": "white"
           },
           "yaxis": {
            "backgroundcolor": "#E5ECF6",
            "gridcolor": "white",
            "gridwidth": 2,
            "linecolor": "white",
            "showbackground": true,
            "ticks": "",
            "zerolinecolor": "white"
           },
           "zaxis": {
            "backgroundcolor": "#E5ECF6",
            "gridcolor": "white",
            "gridwidth": 2,
            "linecolor": "white",
            "showbackground": true,
            "ticks": "",
            "zerolinecolor": "white"
           }
          },
          "shapedefaults": {
           "line": {
            "color": "#2a3f5f"
           }
          },
          "ternary": {
           "aaxis": {
            "gridcolor": "white",
            "linecolor": "white",
            "ticks": ""
           },
           "baxis": {
            "gridcolor": "white",
            "linecolor": "white",
            "ticks": ""
           },
           "bgcolor": "#E5ECF6",
           "caxis": {
            "gridcolor": "white",
            "linecolor": "white",
            "ticks": ""
           }
          },
          "title": {
           "x": 0.05
          },
          "xaxis": {
           "automargin": true,
           "gridcolor": "white",
           "linecolor": "white",
           "ticks": "",
           "title": {
            "standoff": 15
           },
           "zerolinecolor": "white",
           "zerolinewidth": 2
          },
          "yaxis": {
           "automargin": true,
           "gridcolor": "white",
           "linecolor": "white",
           "ticks": "",
           "title": {
            "standoff": 15
           },
           "zerolinecolor": "white",
           "zerolinewidth": 2
          }
         }
        },
        "title": {
         "text": "Dates"
        }
       }
      }
     },
     "metadata": {},
     "output_type": "display_data"
    },
    {
     "data": {
      "application/vnd.plotly.v1+json": {
       "config": {
        "plotlyServerURL": "https://plot.ly"
       },
       "data": [
        {
         "link": {
          "source": {
           "bdata": "AAAAAAAAAAEBAQEBAQECAgICAgICAwMDAwMDAwQEBAQEBAQFBQUFBQUFBgYGBgYGBg==",
           "dtype": "i1"
          },
          "target": {
           "bdata": "BwgJCgsMDQcICQoLDA0HCAkKCwwNBwgJCgsMDQcICQoLDA0HCAkKCwwNBwgJCgsMDQ==",
           "dtype": "i1"
          },
          "value": [
           107.69,
           0,
           0,
           39.09,
           81.45,
           0,
           39.03,
           162.99,
           336.18,
           309.16,
           92.9,
           135.5,
           260.51,
           91.68,
           171.41,
           330.71,
           314.03,
           100.2,
           144.48,
           268.31,
           100.1,
           0,
           236.31,
           219.19,
           0,
           0,
           0,
           0,
           179.57,
           313.44,
           319.69,
           113.79,
           151.71,
           265.06,
           113.7,
           89.39,
           0,
           229.44,
           18.19,
           64.25,
           185.83,
           18.08,
           0,
           0,
           0,
           0,
           68.95,
           192.86,
           0
          ]
         },
         "node": {
          "label": [
           "Aleppo",
           "Amman",
           "Beirut",
           "Damascus",
           "Gaziantep",
           "Hama",
           "Homs",
           "Ar Raqqa",
           "Dara",
           "Dayr Az Zor",
           "Hassakeh",
           "Idleb",
           "Jubb al Jarrah",
           "Qamishli"
          ]
         },
         "type": "sankey"
        }
       ],
       "layout": {
        "template": {
         "data": {
          "bar": [
           {
            "error_x": {
             "color": "#2a3f5f"
            },
            "error_y": {
             "color": "#2a3f5f"
            },
            "marker": {
             "line": {
              "color": "#E5ECF6",
              "width": 0.5
             },
             "pattern": {
              "fillmode": "overlay",
              "size": 10,
              "solidity": 0.2
             }
            },
            "type": "bar"
           }
          ],
          "barpolar": [
           {
            "marker": {
             "line": {
              "color": "#E5ECF6",
              "width": 0.5
             },
             "pattern": {
              "fillmode": "overlay",
              "size": 10,
              "solidity": 0.2
             }
            },
            "type": "barpolar"
           }
          ],
          "carpet": [
           {
            "aaxis": {
             "endlinecolor": "#2a3f5f",
             "gridcolor": "white",
             "linecolor": "white",
             "minorgridcolor": "white",
             "startlinecolor": "#2a3f5f"
            },
            "baxis": {
             "endlinecolor": "#2a3f5f",
             "gridcolor": "white",
             "linecolor": "white",
             "minorgridcolor": "white",
             "startlinecolor": "#2a3f5f"
            },
            "type": "carpet"
           }
          ],
          "choropleth": [
           {
            "colorbar": {
             "outlinewidth": 0,
             "ticks": ""
            },
            "type": "choropleth"
           }
          ],
          "contour": [
           {
            "colorbar": {
             "outlinewidth": 0,
             "ticks": ""
            },
            "colorscale": [
             [
              0,
              "#0d0887"
             ],
             [
              0.1111111111111111,
              "#46039f"
             ],
             [
              0.2222222222222222,
              "#7201a8"
             ],
             [
              0.3333333333333333,
              "#9c179e"
             ],
             [
              0.4444444444444444,
              "#bd3786"
             ],
             [
              0.5555555555555556,
              "#d8576b"
             ],
             [
              0.6666666666666666,
              "#ed7953"
             ],
             [
              0.7777777777777778,
              "#fb9f3a"
             ],
             [
              0.8888888888888888,
              "#fdca26"
             ],
             [
              1,
              "#f0f921"
             ]
            ],
            "type": "contour"
           }
          ],
          "contourcarpet": [
           {
            "colorbar": {
             "outlinewidth": 0,
             "ticks": ""
            },
            "type": "contourcarpet"
           }
          ],
          "heatmap": [
           {
            "colorbar": {
             "outlinewidth": 0,
             "ticks": ""
            },
            "colorscale": [
             [
              0,
              "#0d0887"
             ],
             [
              0.1111111111111111,
              "#46039f"
             ],
             [
              0.2222222222222222,
              "#7201a8"
             ],
             [
              0.3333333333333333,
              "#9c179e"
             ],
             [
              0.4444444444444444,
              "#bd3786"
             ],
             [
              0.5555555555555556,
              "#d8576b"
             ],
             [
              0.6666666666666666,
              "#ed7953"
             ],
             [
              0.7777777777777778,
              "#fb9f3a"
             ],
             [
              0.8888888888888888,
              "#fdca26"
             ],
             [
              1,
              "#f0f921"
             ]
            ],
            "type": "heatmap"
           }
          ],
          "histogram": [
           {
            "marker": {
             "pattern": {
              "fillmode": "overlay",
              "size": 10,
              "solidity": 0.2
             }
            },
            "type": "histogram"
           }
          ],
          "histogram2d": [
           {
            "colorbar": {
             "outlinewidth": 0,
             "ticks": ""
            },
            "colorscale": [
             [
              0,
              "#0d0887"
             ],
             [
              0.1111111111111111,
              "#46039f"
             ],
             [
              0.2222222222222222,
              "#7201a8"
             ],
             [
              0.3333333333333333,
              "#9c179e"
             ],
             [
              0.4444444444444444,
              "#bd3786"
             ],
             [
              0.5555555555555556,
              "#d8576b"
             ],
             [
              0.6666666666666666,
              "#ed7953"
             ],
             [
              0.7777777777777778,
              "#fb9f3a"
             ],
             [
              0.8888888888888888,
              "#fdca26"
             ],
             [
              1,
              "#f0f921"
             ]
            ],
            "type": "histogram2d"
           }
          ],
          "histogram2dcontour": [
           {
            "colorbar": {
             "outlinewidth": 0,
             "ticks": ""
            },
            "colorscale": [
             [
              0,
              "#0d0887"
             ],
             [
              0.1111111111111111,
              "#46039f"
             ],
             [
              0.2222222222222222,
              "#7201a8"
             ],
             [
              0.3333333333333333,
              "#9c179e"
             ],
             [
              0.4444444444444444,
              "#bd3786"
             ],
             [
              0.5555555555555556,
              "#d8576b"
             ],
             [
              0.6666666666666666,
              "#ed7953"
             ],
             [
              0.7777777777777778,
              "#fb9f3a"
             ],
             [
              0.8888888888888888,
              "#fdca26"
             ],
             [
              1,
              "#f0f921"
             ]
            ],
            "type": "histogram2dcontour"
           }
          ],
          "mesh3d": [
           {
            "colorbar": {
             "outlinewidth": 0,
             "ticks": ""
            },
            "type": "mesh3d"
           }
          ],
          "parcoords": [
           {
            "line": {
             "colorbar": {
              "outlinewidth": 0,
              "ticks": ""
             }
            },
            "type": "parcoords"
           }
          ],
          "pie": [
           {
            "automargin": true,
            "type": "pie"
           }
          ],
          "scatter": [
           {
            "fillpattern": {
             "fillmode": "overlay",
             "size": 10,
             "solidity": 0.2
            },
            "type": "scatter"
           }
          ],
          "scatter3d": [
           {
            "line": {
             "colorbar": {
              "outlinewidth": 0,
              "ticks": ""
             }
            },
            "marker": {
             "colorbar": {
              "outlinewidth": 0,
              "ticks": ""
             }
            },
            "type": "scatter3d"
           }
          ],
          "scattercarpet": [
           {
            "marker": {
             "colorbar": {
              "outlinewidth": 0,
              "ticks": ""
             }
            },
            "type": "scattercarpet"
           }
          ],
          "scattergeo": [
           {
            "marker": {
             "colorbar": {
              "outlinewidth": 0,
              "ticks": ""
             }
            },
            "type": "scattergeo"
           }
          ],
          "scattergl": [
           {
            "marker": {
             "colorbar": {
              "outlinewidth": 0,
              "ticks": ""
             }
            },
            "type": "scattergl"
           }
          ],
          "scattermap": [
           {
            "marker": {
             "colorbar": {
              "outlinewidth": 0,
              "ticks": ""
             }
            },
            "type": "scattermap"
           }
          ],
          "scattermapbox": [
           {
            "marker": {
             "colorbar": {
              "outlinewidth": 0,
              "ticks": ""
             }
            },
            "type": "scattermapbox"
           }
          ],
          "scatterpolar": [
           {
            "marker": {
             "colorbar": {
              "outlinewidth": 0,
              "ticks": ""
             }
            },
            "type": "scatterpolar"
           }
          ],
          "scatterpolargl": [
           {
            "marker": {
             "colorbar": {
              "outlinewidth": 0,
              "ticks": ""
             }
            },
            "type": "scatterpolargl"
           }
          ],
          "scatterternary": [
           {
            "marker": {
             "colorbar": {
              "outlinewidth": 0,
              "ticks": ""
             }
            },
            "type": "scatterternary"
           }
          ],
          "surface": [
           {
            "colorbar": {
             "outlinewidth": 0,
             "ticks": ""
            },
            "colorscale": [
             [
              0,
              "#0d0887"
             ],
             [
              0.1111111111111111,
              "#46039f"
             ],
             [
              0.2222222222222222,
              "#7201a8"
             ],
             [
              0.3333333333333333,
              "#9c179e"
             ],
             [
              0.4444444444444444,
              "#bd3786"
             ],
             [
              0.5555555555555556,
              "#d8576b"
             ],
             [
              0.6666666666666666,
              "#ed7953"
             ],
             [
              0.7777777777777778,
              "#fb9f3a"
             ],
             [
              0.8888888888888888,
              "#fdca26"
             ],
             [
              1,
              "#f0f921"
             ]
            ],
            "type": "surface"
           }
          ],
          "table": [
           {
            "cells": {
             "fill": {
              "color": "#EBF0F8"
             },
             "line": {
              "color": "white"
             }
            },
            "header": {
             "fill": {
              "color": "#C8D4E3"
             },
             "line": {
              "color": "white"
             }
            },
            "type": "table"
           }
          ]
         },
         "layout": {
          "annotationdefaults": {
           "arrowcolor": "#2a3f5f",
           "arrowhead": 0,
           "arrowwidth": 1
          },
          "autotypenumbers": "strict",
          "coloraxis": {
           "colorbar": {
            "outlinewidth": 0,
            "ticks": ""
           }
          },
          "colorscale": {
           "diverging": [
            [
             0,
             "#8e0152"
            ],
            [
             0.1,
             "#c51b7d"
            ],
            [
             0.2,
             "#de77ae"
            ],
            [
             0.3,
             "#f1b6da"
            ],
            [
             0.4,
             "#fde0ef"
            ],
            [
             0.5,
             "#f7f7f7"
            ],
            [
             0.6,
             "#e6f5d0"
            ],
            [
             0.7,
             "#b8e186"
            ],
            [
             0.8,
             "#7fbc41"
            ],
            [
             0.9,
             "#4d9221"
            ],
            [
             1,
             "#276419"
            ]
           ],
           "sequential": [
            [
             0,
             "#0d0887"
            ],
            [
             0.1111111111111111,
             "#46039f"
            ],
            [
             0.2222222222222222,
             "#7201a8"
            ],
            [
             0.3333333333333333,
             "#9c179e"
            ],
            [
             0.4444444444444444,
             "#bd3786"
            ],
            [
             0.5555555555555556,
             "#d8576b"
            ],
            [
             0.6666666666666666,
             "#ed7953"
            ],
            [
             0.7777777777777778,
             "#fb9f3a"
            ],
            [
             0.8888888888888888,
             "#fdca26"
            ],
            [
             1,
             "#f0f921"
            ]
           ],
           "sequentialminus": [
            [
             0,
             "#0d0887"
            ],
            [
             0.1111111111111111,
             "#46039f"
            ],
            [
             0.2222222222222222,
             "#7201a8"
            ],
            [
             0.3333333333333333,
             "#9c179e"
            ],
            [
             0.4444444444444444,
             "#bd3786"
            ],
            [
             0.5555555555555556,
             "#d8576b"
            ],
            [
             0.6666666666666666,
             "#ed7953"
            ],
            [
             0.7777777777777778,
             "#fb9f3a"
            ],
            [
             0.8888888888888888,
             "#fdca26"
            ],
            [
             1,
             "#f0f921"
            ]
           ]
          },
          "colorway": [
           "#636efa",
           "#EF553B",
           "#00cc96",
           "#ab63fa",
           "#FFA15A",
           "#19d3f3",
           "#FF6692",
           "#B6E880",
           "#FF97FF",
           "#FECB52"
          ],
          "font": {
           "color": "#2a3f5f"
          },
          "geo": {
           "bgcolor": "white",
           "lakecolor": "white",
           "landcolor": "#E5ECF6",
           "showlakes": true,
           "showland": true,
           "subunitcolor": "white"
          },
          "hoverlabel": {
           "align": "left"
          },
          "hovermode": "closest",
          "mapbox": {
           "style": "light"
          },
          "paper_bgcolor": "white",
          "plot_bgcolor": "#E5ECF6",
          "polar": {
           "angularaxis": {
            "gridcolor": "white",
            "linecolor": "white",
            "ticks": ""
           },
           "bgcolor": "#E5ECF6",
           "radialaxis": {
            "gridcolor": "white",
            "linecolor": "white",
            "ticks": ""
           }
          },
          "scene": {
           "xaxis": {
            "backgroundcolor": "#E5ECF6",
            "gridcolor": "white",
            "gridwidth": 2,
            "linecolor": "white",
            "showbackground": true,
            "ticks": "",
            "zerolinecolor": "white"
           },
           "yaxis": {
            "backgroundcolor": "#E5ECF6",
            "gridcolor": "white",
            "gridwidth": 2,
            "linecolor": "white",
            "showbackground": true,
            "ticks": "",
            "zerolinecolor": "white"
           },
           "zaxis": {
            "backgroundcolor": "#E5ECF6",
            "gridcolor": "white",
            "gridwidth": 2,
            "linecolor": "white",
            "showbackground": true,
            "ticks": "",
            "zerolinecolor": "white"
           }
          },
          "shapedefaults": {
           "line": {
            "color": "#2a3f5f"
           }
          },
          "ternary": {
           "aaxis": {
            "gridcolor": "white",
            "linecolor": "white",
            "ticks": ""
           },
           "baxis": {
            "gridcolor": "white",
            "linecolor": "white",
            "ticks": ""
           },
           "bgcolor": "#E5ECF6",
           "caxis": {
            "gridcolor": "white",
            "linecolor": "white",
            "ticks": ""
           }
          },
          "title": {
           "x": 0.05
          },
          "xaxis": {
           "automargin": true,
           "gridcolor": "white",
           "linecolor": "white",
           "ticks": "",
           "title": {
            "standoff": 15
           },
           "zerolinecolor": "white",
           "zerolinewidth": 2
          },
          "yaxis": {
           "automargin": true,
           "gridcolor": "white",
           "linecolor": "white",
           "ticks": "",
           "title": {
            "standoff": 15
           },
           "zerolinecolor": "white",
           "zerolinewidth": 2
          }
         }
        },
        "title": {
         "text": "Fish"
        }
       }
      }
     },
     "metadata": {},
     "output_type": "display_data"
    },
    {
     "data": {
      "application/vnd.plotly.v1+json": {
       "config": {
        "plotlyServerURL": "https://plot.ly"
       },
       "data": [
        {
         "link": {
          "source": {
           "bdata": "AAAAAAAAAAEBAQEBAQECAgICAgICAwMDAwMDAwQEBAQEBAQFBQUFBQUFBgYGBgYGBg==",
           "dtype": "i1"
          },
          "target": {
           "bdata": "BwgJCgsMDQcICQoLDA0HCAkKCwwNBwgJCgsMDQcICQoLDA0HCAkKCwwNBwgJCgsMDQ==",
           "dtype": "i1"
          },
          "value": [
           146.79,
           0,
           0,
           80.77,
           125.53,
           0,
           81.78,
           134.13,
           364.05,
           362.88,
           66.62,
           111.59,
           283.84,
           66.52,
           142.55,
           358.59,
           367.71,
           73.93,
           120.56,
           291.69,
           74.94,
           0,
           346.83,
           355.52,
           0,
           0,
           0,
           0,
           150.77,
           341.32,
           373.37,
           87.52,
           127.79,
           288.46,
           88.53,
           140.02,
           0,
           362.54,
           71.38,
           119.8,
           288.66,
           72.36,
           0,
           0,
           0,
           0,
           117.68,
           288.84,
           0
          ]
         },
         "node": {
          "label": [
           "Aleppo",
           "Amman",
           "Beirut",
           "Damascus",
           "Gaziantep",
           "Hama",
           "Homs",
           "Ar Raqqa",
           "Dara",
           "Dayr Az Zor",
           "Hassakeh",
           "Idleb",
           "Jubb al Jarrah",
           "Qamishli"
          ]
         },
         "type": "sankey"
        }
       ],
       "layout": {
        "template": {
         "data": {
          "bar": [
           {
            "error_x": {
             "color": "#2a3f5f"
            },
            "error_y": {
             "color": "#2a3f5f"
            },
            "marker": {
             "line": {
              "color": "#E5ECF6",
              "width": 0.5
             },
             "pattern": {
              "fillmode": "overlay",
              "size": 10,
              "solidity": 0.2
             }
            },
            "type": "bar"
           }
          ],
          "barpolar": [
           {
            "marker": {
             "line": {
              "color": "#E5ECF6",
              "width": 0.5
             },
             "pattern": {
              "fillmode": "overlay",
              "size": 10,
              "solidity": 0.2
             }
            },
            "type": "barpolar"
           }
          ],
          "carpet": [
           {
            "aaxis": {
             "endlinecolor": "#2a3f5f",
             "gridcolor": "white",
             "linecolor": "white",
             "minorgridcolor": "white",
             "startlinecolor": "#2a3f5f"
            },
            "baxis": {
             "endlinecolor": "#2a3f5f",
             "gridcolor": "white",
             "linecolor": "white",
             "minorgridcolor": "white",
             "startlinecolor": "#2a3f5f"
            },
            "type": "carpet"
           }
          ],
          "choropleth": [
           {
            "colorbar": {
             "outlinewidth": 0,
             "ticks": ""
            },
            "type": "choropleth"
           }
          ],
          "contour": [
           {
            "colorbar": {
             "outlinewidth": 0,
             "ticks": ""
            },
            "colorscale": [
             [
              0,
              "#0d0887"
             ],
             [
              0.1111111111111111,
              "#46039f"
             ],
             [
              0.2222222222222222,
              "#7201a8"
             ],
             [
              0.3333333333333333,
              "#9c179e"
             ],
             [
              0.4444444444444444,
              "#bd3786"
             ],
             [
              0.5555555555555556,
              "#d8576b"
             ],
             [
              0.6666666666666666,
              "#ed7953"
             ],
             [
              0.7777777777777778,
              "#fb9f3a"
             ],
             [
              0.8888888888888888,
              "#fdca26"
             ],
             [
              1,
              "#f0f921"
             ]
            ],
            "type": "contour"
           }
          ],
          "contourcarpet": [
           {
            "colorbar": {
             "outlinewidth": 0,
             "ticks": ""
            },
            "type": "contourcarpet"
           }
          ],
          "heatmap": [
           {
            "colorbar": {
             "outlinewidth": 0,
             "ticks": ""
            },
            "colorscale": [
             [
              0,
              "#0d0887"
             ],
             [
              0.1111111111111111,
              "#46039f"
             ],
             [
              0.2222222222222222,
              "#7201a8"
             ],
             [
              0.3333333333333333,
              "#9c179e"
             ],
             [
              0.4444444444444444,
              "#bd3786"
             ],
             [
              0.5555555555555556,
              "#d8576b"
             ],
             [
              0.6666666666666666,
              "#ed7953"
             ],
             [
              0.7777777777777778,
              "#fb9f3a"
             ],
             [
              0.8888888888888888,
              "#fdca26"
             ],
             [
              1,
              "#f0f921"
             ]
            ],
            "type": "heatmap"
           }
          ],
          "histogram": [
           {
            "marker": {
             "pattern": {
              "fillmode": "overlay",
              "size": 10,
              "solidity": 0.2
             }
            },
            "type": "histogram"
           }
          ],
          "histogram2d": [
           {
            "colorbar": {
             "outlinewidth": 0,
             "ticks": ""
            },
            "colorscale": [
             [
              0,
              "#0d0887"
             ],
             [
              0.1111111111111111,
              "#46039f"
             ],
             [
              0.2222222222222222,
              "#7201a8"
             ],
             [
              0.3333333333333333,
              "#9c179e"
             ],
             [
              0.4444444444444444,
              "#bd3786"
             ],
             [
              0.5555555555555556,
              "#d8576b"
             ],
             [
              0.6666666666666666,
              "#ed7953"
             ],
             [
              0.7777777777777778,
              "#fb9f3a"
             ],
             [
              0.8888888888888888,
              "#fdca26"
             ],
             [
              1,
              "#f0f921"
             ]
            ],
            "type": "histogram2d"
           }
          ],
          "histogram2dcontour": [
           {
            "colorbar": {
             "outlinewidth": 0,
             "ticks": ""
            },
            "colorscale": [
             [
              0,
              "#0d0887"
             ],
             [
              0.1111111111111111,
              "#46039f"
             ],
             [
              0.2222222222222222,
              "#7201a8"
             ],
             [
              0.3333333333333333,
              "#9c179e"
             ],
             [
              0.4444444444444444,
              "#bd3786"
             ],
             [
              0.5555555555555556,
              "#d8576b"
             ],
             [
              0.6666666666666666,
              "#ed7953"
             ],
             [
              0.7777777777777778,
              "#fb9f3a"
             ],
             [
              0.8888888888888888,
              "#fdca26"
             ],
             [
              1,
              "#f0f921"
             ]
            ],
            "type": "histogram2dcontour"
           }
          ],
          "mesh3d": [
           {
            "colorbar": {
             "outlinewidth": 0,
             "ticks": ""
            },
            "type": "mesh3d"
           }
          ],
          "parcoords": [
           {
            "line": {
             "colorbar": {
              "outlinewidth": 0,
              "ticks": ""
             }
            },
            "type": "parcoords"
           }
          ],
          "pie": [
           {
            "automargin": true,
            "type": "pie"
           }
          ],
          "scatter": [
           {
            "fillpattern": {
             "fillmode": "overlay",
             "size": 10,
             "solidity": 0.2
            },
            "type": "scatter"
           }
          ],
          "scatter3d": [
           {
            "line": {
             "colorbar": {
              "outlinewidth": 0,
              "ticks": ""
             }
            },
            "marker": {
             "colorbar": {
              "outlinewidth": 0,
              "ticks": ""
             }
            },
            "type": "scatter3d"
           }
          ],
          "scattercarpet": [
           {
            "marker": {
             "colorbar": {
              "outlinewidth": 0,
              "ticks": ""
             }
            },
            "type": "scattercarpet"
           }
          ],
          "scattergeo": [
           {
            "marker": {
             "colorbar": {
              "outlinewidth": 0,
              "ticks": ""
             }
            },
            "type": "scattergeo"
           }
          ],
          "scattergl": [
           {
            "marker": {
             "colorbar": {
              "outlinewidth": 0,
              "ticks": ""
             }
            },
            "type": "scattergl"
           }
          ],
          "scattermap": [
           {
            "marker": {
             "colorbar": {
              "outlinewidth": 0,
              "ticks": ""
             }
            },
            "type": "scattermap"
           }
          ],
          "scattermapbox": [
           {
            "marker": {
             "colorbar": {
              "outlinewidth": 0,
              "ticks": ""
             }
            },
            "type": "scattermapbox"
           }
          ],
          "scatterpolar": [
           {
            "marker": {
             "colorbar": {
              "outlinewidth": 0,
              "ticks": ""
             }
            },
            "type": "scatterpolar"
           }
          ],
          "scatterpolargl": [
           {
            "marker": {
             "colorbar": {
              "outlinewidth": 0,
              "ticks": ""
             }
            },
            "type": "scatterpolargl"
           }
          ],
          "scatterternary": [
           {
            "marker": {
             "colorbar": {
              "outlinewidth": 0,
              "ticks": ""
             }
            },
            "type": "scatterternary"
           }
          ],
          "surface": [
           {
            "colorbar": {
             "outlinewidth": 0,
             "ticks": ""
            },
            "colorscale": [
             [
              0,
              "#0d0887"
             ],
             [
              0.1111111111111111,
              "#46039f"
             ],
             [
              0.2222222222222222,
              "#7201a8"
             ],
             [
              0.3333333333333333,
              "#9c179e"
             ],
             [
              0.4444444444444444,
              "#bd3786"
             ],
             [
              0.5555555555555556,
              "#d8576b"
             ],
             [
              0.6666666666666666,
              "#ed7953"
             ],
             [
              0.7777777777777778,
              "#fb9f3a"
             ],
             [
              0.8888888888888888,
              "#fdca26"
             ],
             [
              1,
              "#f0f921"
             ]
            ],
            "type": "surface"
           }
          ],
          "table": [
           {
            "cells": {
             "fill": {
              "color": "#EBF0F8"
             },
             "line": {
              "color": "white"
             }
            },
            "header": {
             "fill": {
              "color": "#C8D4E3"
             },
             "line": {
              "color": "white"
             }
            },
            "type": "table"
           }
          ]
         },
         "layout": {
          "annotationdefaults": {
           "arrowcolor": "#2a3f5f",
           "arrowhead": 0,
           "arrowwidth": 1
          },
          "autotypenumbers": "strict",
          "coloraxis": {
           "colorbar": {
            "outlinewidth": 0,
            "ticks": ""
           }
          },
          "colorscale": {
           "diverging": [
            [
             0,
             "#8e0152"
            ],
            [
             0.1,
             "#c51b7d"
            ],
            [
             0.2,
             "#de77ae"
            ],
            [
             0.3,
             "#f1b6da"
            ],
            [
             0.4,
             "#fde0ef"
            ],
            [
             0.5,
             "#f7f7f7"
            ],
            [
             0.6,
             "#e6f5d0"
            ],
            [
             0.7,
             "#b8e186"
            ],
            [
             0.8,
             "#7fbc41"
            ],
            [
             0.9,
             "#4d9221"
            ],
            [
             1,
             "#276419"
            ]
           ],
           "sequential": [
            [
             0,
             "#0d0887"
            ],
            [
             0.1111111111111111,
             "#46039f"
            ],
            [
             0.2222222222222222,
             "#7201a8"
            ],
            [
             0.3333333333333333,
             "#9c179e"
            ],
            [
             0.4444444444444444,
             "#bd3786"
            ],
            [
             0.5555555555555556,
             "#d8576b"
            ],
            [
             0.6666666666666666,
             "#ed7953"
            ],
            [
             0.7777777777777778,
             "#fb9f3a"
            ],
            [
             0.8888888888888888,
             "#fdca26"
            ],
            [
             1,
             "#f0f921"
            ]
           ],
           "sequentialminus": [
            [
             0,
             "#0d0887"
            ],
            [
             0.1111111111111111,
             "#46039f"
            ],
            [
             0.2222222222222222,
             "#7201a8"
            ],
            [
             0.3333333333333333,
             "#9c179e"
            ],
            [
             0.4444444444444444,
             "#bd3786"
            ],
            [
             0.5555555555555556,
             "#d8576b"
            ],
            [
             0.6666666666666666,
             "#ed7953"
            ],
            [
             0.7777777777777778,
             "#fb9f3a"
            ],
            [
             0.8888888888888888,
             "#fdca26"
            ],
            [
             1,
             "#f0f921"
            ]
           ]
          },
          "colorway": [
           "#636efa",
           "#EF553B",
           "#00cc96",
           "#ab63fa",
           "#FFA15A",
           "#19d3f3",
           "#FF6692",
           "#B6E880",
           "#FF97FF",
           "#FECB52"
          ],
          "font": {
           "color": "#2a3f5f"
          },
          "geo": {
           "bgcolor": "white",
           "lakecolor": "white",
           "landcolor": "#E5ECF6",
           "showlakes": true,
           "showland": true,
           "subunitcolor": "white"
          },
          "hoverlabel": {
           "align": "left"
          },
          "hovermode": "closest",
          "mapbox": {
           "style": "light"
          },
          "paper_bgcolor": "white",
          "plot_bgcolor": "#E5ECF6",
          "polar": {
           "angularaxis": {
            "gridcolor": "white",
            "linecolor": "white",
            "ticks": ""
           },
           "bgcolor": "#E5ECF6",
           "radialaxis": {
            "gridcolor": "white",
            "linecolor": "white",
            "ticks": ""
           }
          },
          "scene": {
           "xaxis": {
            "backgroundcolor": "#E5ECF6",
            "gridcolor": "white",
            "gridwidth": 2,
            "linecolor": "white",
            "showbackground": true,
            "ticks": "",
            "zerolinecolor": "white"
           },
           "yaxis": {
            "backgroundcolor": "#E5ECF6",
            "gridcolor": "white",
            "gridwidth": 2,
            "linecolor": "white",
            "showbackground": true,
            "ticks": "",
            "zerolinecolor": "white"
           },
           "zaxis": {
            "backgroundcolor": "#E5ECF6",
            "gridcolor": "white",
            "gridwidth": 2,
            "linecolor": "white",
            "showbackground": true,
            "ticks": "",
            "zerolinecolor": "white"
           }
          },
          "shapedefaults": {
           "line": {
            "color": "#2a3f5f"
           }
          },
          "ternary": {
           "aaxis": {
            "gridcolor": "white",
            "linecolor": "white",
            "ticks": ""
           },
           "baxis": {
            "gridcolor": "white",
            "linecolor": "white",
            "ticks": ""
           },
           "bgcolor": "#E5ECF6",
           "caxis": {
            "gridcolor": "white",
            "linecolor": "white",
            "ticks": ""
           }
          },
          "title": {
           "x": 0.05
          },
          "xaxis": {
           "automargin": true,
           "gridcolor": "white",
           "linecolor": "white",
           "ticks": "",
           "title": {
            "standoff": 15
           },
           "zerolinecolor": "white",
           "zerolinewidth": 2
          },
          "yaxis": {
           "automargin": true,
           "gridcolor": "white",
           "linecolor": "white",
           "ticks": "",
           "title": {
            "standoff": 15
           },
           "zerolinecolor": "white",
           "zerolinewidth": 2
          }
         }
        },
        "title": {
         "text": "Lentils"
        }
       }
      }
     },
     "metadata": {},
     "output_type": "display_data"
    },
    {
     "data": {
      "application/vnd.plotly.v1+json": {
       "config": {
        "plotlyServerURL": "https://plot.ly"
       },
       "data": [
        {
         "link": {
          "source": {
           "bdata": "AAAAAAAAAAEBAQEBAQECAgICAgICAwMDAwMDAwQEBAQEBAQFBQUFBQUFBgYGBgYGBg==",
           "dtype": "i1"
          },
          "target": {
           "bdata": "BwgJCgsMDQcICQoLDA0HCAkKCwwNBwgJCgsMDQcICQoLDA0HCAkKCwwNBwgJCgsMDQ==",
           "dtype": "i1"
          },
          "value": [
           0,
           0,
           0,
           0,
           0,
           0,
           0,
           37.64,
           172.27,
           160.06,
           0,
           28.03,
           121.71,
           0,
           46.06,
           166.79,
           164.93,
           5.41,
           37.06,
           129.52,
           4.86,
           0,
           53.93,
           51.67,
           0,
           0,
           0,
           0,
           54.27,
           149.52,
           170.59,
           19.01,
           44.27,
           126.28,
           18.49,
           0,
           0,
           50.59,
           0,
           0,
           17.33,
           0,
           0,
           0,
           0,
           0,
           0,
           14.14,
           0
          ]
         },
         "node": {
          "label": [
           "Aleppo",
           "Amman",
           "Beirut",
           "Damascus",
           "Gaziantep",
           "Hama",
           "Homs",
           "Ar Raqqa",
           "Dara",
           "Dayr Az Zor",
           "Hassakeh",
           "Idleb",
           "Jubb al Jarrah",
           "Qamishli"
          ]
         },
         "type": "sankey"
        }
       ],
       "layout": {
        "template": {
         "data": {
          "bar": [
           {
            "error_x": {
             "color": "#2a3f5f"
            },
            "error_y": {
             "color": "#2a3f5f"
            },
            "marker": {
             "line": {
              "color": "#E5ECF6",
              "width": 0.5
             },
             "pattern": {
              "fillmode": "overlay",
              "size": 10,
              "solidity": 0.2
             }
            },
            "type": "bar"
           }
          ],
          "barpolar": [
           {
            "marker": {
             "line": {
              "color": "#E5ECF6",
              "width": 0.5
             },
             "pattern": {
              "fillmode": "overlay",
              "size": 10,
              "solidity": 0.2
             }
            },
            "type": "barpolar"
           }
          ],
          "carpet": [
           {
            "aaxis": {
             "endlinecolor": "#2a3f5f",
             "gridcolor": "white",
             "linecolor": "white",
             "minorgridcolor": "white",
             "startlinecolor": "#2a3f5f"
            },
            "baxis": {
             "endlinecolor": "#2a3f5f",
             "gridcolor": "white",
             "linecolor": "white",
             "minorgridcolor": "white",
             "startlinecolor": "#2a3f5f"
            },
            "type": "carpet"
           }
          ],
          "choropleth": [
           {
            "colorbar": {
             "outlinewidth": 0,
             "ticks": ""
            },
            "type": "choropleth"
           }
          ],
          "contour": [
           {
            "colorbar": {
             "outlinewidth": 0,
             "ticks": ""
            },
            "colorscale": [
             [
              0,
              "#0d0887"
             ],
             [
              0.1111111111111111,
              "#46039f"
             ],
             [
              0.2222222222222222,
              "#7201a8"
             ],
             [
              0.3333333333333333,
              "#9c179e"
             ],
             [
              0.4444444444444444,
              "#bd3786"
             ],
             [
              0.5555555555555556,
              "#d8576b"
             ],
             [
              0.6666666666666666,
              "#ed7953"
             ],
             [
              0.7777777777777778,
              "#fb9f3a"
             ],
             [
              0.8888888888888888,
              "#fdca26"
             ],
             [
              1,
              "#f0f921"
             ]
            ],
            "type": "contour"
           }
          ],
          "contourcarpet": [
           {
            "colorbar": {
             "outlinewidth": 0,
             "ticks": ""
            },
            "type": "contourcarpet"
           }
          ],
          "heatmap": [
           {
            "colorbar": {
             "outlinewidth": 0,
             "ticks": ""
            },
            "colorscale": [
             [
              0,
              "#0d0887"
             ],
             [
              0.1111111111111111,
              "#46039f"
             ],
             [
              0.2222222222222222,
              "#7201a8"
             ],
             [
              0.3333333333333333,
              "#9c179e"
             ],
             [
              0.4444444444444444,
              "#bd3786"
             ],
             [
              0.5555555555555556,
              "#d8576b"
             ],
             [
              0.6666666666666666,
              "#ed7953"
             ],
             [
              0.7777777777777778,
              "#fb9f3a"
             ],
             [
              0.8888888888888888,
              "#fdca26"
             ],
             [
              1,
              "#f0f921"
             ]
            ],
            "type": "heatmap"
           }
          ],
          "histogram": [
           {
            "marker": {
             "pattern": {
              "fillmode": "overlay",
              "size": 10,
              "solidity": 0.2
             }
            },
            "type": "histogram"
           }
          ],
          "histogram2d": [
           {
            "colorbar": {
             "outlinewidth": 0,
             "ticks": ""
            },
            "colorscale": [
             [
              0,
              "#0d0887"
             ],
             [
              0.1111111111111111,
              "#46039f"
             ],
             [
              0.2222222222222222,
              "#7201a8"
             ],
             [
              0.3333333333333333,
              "#9c179e"
             ],
             [
              0.4444444444444444,
              "#bd3786"
             ],
             [
              0.5555555555555556,
              "#d8576b"
             ],
             [
              0.6666666666666666,
              "#ed7953"
             ],
             [
              0.7777777777777778,
              "#fb9f3a"
             ],
             [
              0.8888888888888888,
              "#fdca26"
             ],
             [
              1,
              "#f0f921"
             ]
            ],
            "type": "histogram2d"
           }
          ],
          "histogram2dcontour": [
           {
            "colorbar": {
             "outlinewidth": 0,
             "ticks": ""
            },
            "colorscale": [
             [
              0,
              "#0d0887"
             ],
             [
              0.1111111111111111,
              "#46039f"
             ],
             [
              0.2222222222222222,
              "#7201a8"
             ],
             [
              0.3333333333333333,
              "#9c179e"
             ],
             [
              0.4444444444444444,
              "#bd3786"
             ],
             [
              0.5555555555555556,
              "#d8576b"
             ],
             [
              0.6666666666666666,
              "#ed7953"
             ],
             [
              0.7777777777777778,
              "#fb9f3a"
             ],
             [
              0.8888888888888888,
              "#fdca26"
             ],
             [
              1,
              "#f0f921"
             ]
            ],
            "type": "histogram2dcontour"
           }
          ],
          "mesh3d": [
           {
            "colorbar": {
             "outlinewidth": 0,
             "ticks": ""
            },
            "type": "mesh3d"
           }
          ],
          "parcoords": [
           {
            "line": {
             "colorbar": {
              "outlinewidth": 0,
              "ticks": ""
             }
            },
            "type": "parcoords"
           }
          ],
          "pie": [
           {
            "automargin": true,
            "type": "pie"
           }
          ],
          "scatter": [
           {
            "fillpattern": {
             "fillmode": "overlay",
             "size": 10,
             "solidity": 0.2
            },
            "type": "scatter"
           }
          ],
          "scatter3d": [
           {
            "line": {
             "colorbar": {
              "outlinewidth": 0,
              "ticks": ""
             }
            },
            "marker": {
             "colorbar": {
              "outlinewidth": 0,
              "ticks": ""
             }
            },
            "type": "scatter3d"
           }
          ],
          "scattercarpet": [
           {
            "marker": {
             "colorbar": {
              "outlinewidth": 0,
              "ticks": ""
             }
            },
            "type": "scattercarpet"
           }
          ],
          "scattergeo": [
           {
            "marker": {
             "colorbar": {
              "outlinewidth": 0,
              "ticks": ""
             }
            },
            "type": "scattergeo"
           }
          ],
          "scattergl": [
           {
            "marker": {
             "colorbar": {
              "outlinewidth": 0,
              "ticks": ""
             }
            },
            "type": "scattergl"
           }
          ],
          "scattermap": [
           {
            "marker": {
             "colorbar": {
              "outlinewidth": 0,
              "ticks": ""
             }
            },
            "type": "scattermap"
           }
          ],
          "scattermapbox": [
           {
            "marker": {
             "colorbar": {
              "outlinewidth": 0,
              "ticks": ""
             }
            },
            "type": "scattermapbox"
           }
          ],
          "scatterpolar": [
           {
            "marker": {
             "colorbar": {
              "outlinewidth": 0,
              "ticks": ""
             }
            },
            "type": "scatterpolar"
           }
          ],
          "scatterpolargl": [
           {
            "marker": {
             "colorbar": {
              "outlinewidth": 0,
              "ticks": ""
             }
            },
            "type": "scatterpolargl"
           }
          ],
          "scatterternary": [
           {
            "marker": {
             "colorbar": {
              "outlinewidth": 0,
              "ticks": ""
             }
            },
            "type": "scatterternary"
           }
          ],
          "surface": [
           {
            "colorbar": {
             "outlinewidth": 0,
             "ticks": ""
            },
            "colorscale": [
             [
              0,
              "#0d0887"
             ],
             [
              0.1111111111111111,
              "#46039f"
             ],
             [
              0.2222222222222222,
              "#7201a8"
             ],
             [
              0.3333333333333333,
              "#9c179e"
             ],
             [
              0.4444444444444444,
              "#bd3786"
             ],
             [
              0.5555555555555556,
              "#d8576b"
             ],
             [
              0.6666666666666666,
              "#ed7953"
             ],
             [
              0.7777777777777778,
              "#fb9f3a"
             ],
             [
              0.8888888888888888,
              "#fdca26"
             ],
             [
              1,
              "#f0f921"
             ]
            ],
            "type": "surface"
           }
          ],
          "table": [
           {
            "cells": {
             "fill": {
              "color": "#EBF0F8"
             },
             "line": {
              "color": "white"
             }
            },
            "header": {
             "fill": {
              "color": "#C8D4E3"
             },
             "line": {
              "color": "white"
             }
            },
            "type": "table"
           }
          ]
         },
         "layout": {
          "annotationdefaults": {
           "arrowcolor": "#2a3f5f",
           "arrowhead": 0,
           "arrowwidth": 1
          },
          "autotypenumbers": "strict",
          "coloraxis": {
           "colorbar": {
            "outlinewidth": 0,
            "ticks": ""
           }
          },
          "colorscale": {
           "diverging": [
            [
             0,
             "#8e0152"
            ],
            [
             0.1,
             "#c51b7d"
            ],
            [
             0.2,
             "#de77ae"
            ],
            [
             0.3,
             "#f1b6da"
            ],
            [
             0.4,
             "#fde0ef"
            ],
            [
             0.5,
             "#f7f7f7"
            ],
            [
             0.6,
             "#e6f5d0"
            ],
            [
             0.7,
             "#b8e186"
            ],
            [
             0.8,
             "#7fbc41"
            ],
            [
             0.9,
             "#4d9221"
            ],
            [
             1,
             "#276419"
            ]
           ],
           "sequential": [
            [
             0,
             "#0d0887"
            ],
            [
             0.1111111111111111,
             "#46039f"
            ],
            [
             0.2222222222222222,
             "#7201a8"
            ],
            [
             0.3333333333333333,
             "#9c179e"
            ],
            [
             0.4444444444444444,
             "#bd3786"
            ],
            [
             0.5555555555555556,
             "#d8576b"
            ],
            [
             0.6666666666666666,
             "#ed7953"
            ],
            [
             0.7777777777777778,
             "#fb9f3a"
            ],
            [
             0.8888888888888888,
             "#fdca26"
            ],
            [
             1,
             "#f0f921"
            ]
           ],
           "sequentialminus": [
            [
             0,
             "#0d0887"
            ],
            [
             0.1111111111111111,
             "#46039f"
            ],
            [
             0.2222222222222222,
             "#7201a8"
            ],
            [
             0.3333333333333333,
             "#9c179e"
            ],
            [
             0.4444444444444444,
             "#bd3786"
            ],
            [
             0.5555555555555556,
             "#d8576b"
            ],
            [
             0.6666666666666666,
             "#ed7953"
            ],
            [
             0.7777777777777778,
             "#fb9f3a"
            ],
            [
             0.8888888888888888,
             "#fdca26"
            ],
            [
             1,
             "#f0f921"
            ]
           ]
          },
          "colorway": [
           "#636efa",
           "#EF553B",
           "#00cc96",
           "#ab63fa",
           "#FFA15A",
           "#19d3f3",
           "#FF6692",
           "#B6E880",
           "#FF97FF",
           "#FECB52"
          ],
          "font": {
           "color": "#2a3f5f"
          },
          "geo": {
           "bgcolor": "white",
           "lakecolor": "white",
           "landcolor": "#E5ECF6",
           "showlakes": true,
           "showland": true,
           "subunitcolor": "white"
          },
          "hoverlabel": {
           "align": "left"
          },
          "hovermode": "closest",
          "mapbox": {
           "style": "light"
          },
          "paper_bgcolor": "white",
          "plot_bgcolor": "#E5ECF6",
          "polar": {
           "angularaxis": {
            "gridcolor": "white",
            "linecolor": "white",
            "ticks": ""
           },
           "bgcolor": "#E5ECF6",
           "radialaxis": {
            "gridcolor": "white",
            "linecolor": "white",
            "ticks": ""
           }
          },
          "scene": {
           "xaxis": {
            "backgroundcolor": "#E5ECF6",
            "gridcolor": "white",
            "gridwidth": 2,
            "linecolor": "white",
            "showbackground": true,
            "ticks": "",
            "zerolinecolor": "white"
           },
           "yaxis": {
            "backgroundcolor": "#E5ECF6",
            "gridcolor": "white",
            "gridwidth": 2,
            "linecolor": "white",
            "showbackground": true,
            "ticks": "",
            "zerolinecolor": "white"
           },
           "zaxis": {
            "backgroundcolor": "#E5ECF6",
            "gridcolor": "white",
            "gridwidth": 2,
            "linecolor": "white",
            "showbackground": true,
            "ticks": "",
            "zerolinecolor": "white"
           }
          },
          "shapedefaults": {
           "line": {
            "color": "#2a3f5f"
           }
          },
          "ternary": {
           "aaxis": {
            "gridcolor": "white",
            "linecolor": "white",
            "ticks": ""
           },
           "baxis": {
            "gridcolor": "white",
            "linecolor": "white",
            "ticks": ""
           },
           "bgcolor": "#E5ECF6",
           "caxis": {
            "gridcolor": "white",
            "linecolor": "white",
            "ticks": ""
           }
          },
          "title": {
           "x": 0.05
          },
          "xaxis": {
           "automargin": true,
           "gridcolor": "white",
           "linecolor": "white",
           "ticks": "",
           "title": {
            "standoff": 15
           },
           "zerolinecolor": "white",
           "zerolinewidth": 2
          },
          "yaxis": {
           "automargin": true,
           "gridcolor": "white",
           "linecolor": "white",
           "ticks": "",
           "title": {
            "standoff": 15
           },
           "zerolinecolor": "white",
           "zerolinewidth": 2
          }
         }
        },
        "title": {
         "text": "Meat"
        }
       }
      }
     },
     "metadata": {},
     "output_type": "display_data"
    },
    {
     "data": {
      "application/vnd.plotly.v1+json": {
       "config": {
        "plotlyServerURL": "https://plot.ly"
       },
       "data": [
        {
         "link": {
          "source": {
           "bdata": "AAAAAAAAAAEBAQEBAQECAgICAgICAwMDAwMDAwQEBAQEBAQFBQUFBQUFBgYGBgYGBg==",
           "dtype": "i1"
          },
          "target": {
           "bdata": "BwgJCgsMDQcICQoLDA0HCAkKCwwNBwgJCgsMDQcICQoLDA0HCAkKCwwNBwgJCgsMDQ==",
           "dtype": "i1"
          },
          "value": [
           305.04,
           0,
           0,
           162.79,
           252.79,
           0,
           162.87,
           267.81,
           706.43,
           682.91,
           124.08,
           214.31,
           544.86,
           123.05,
           276.23,
           700.97,
           687.79,
           131.39,
           223.3,
           552.67,
           131.49,
           0,
           721.25,
           707.62,
           0,
           0,
           0,
           0,
           284.43,
           683.72,
           693.47,
           144.99,
           230.53,
           549.46,
           145.09,
           302.37,
           0,
           711.35,
           157.51,
           251.22,
           578.35,
           157.63,
           0,
           0,
           0,
           0,
           249.37,
           578.81,
           0
          ]
         },
         "node": {
          "label": [
           "Aleppo",
           "Amman",
           "Beirut",
           "Damascus",
           "Gaziantep",
           "Hama",
           "Homs",
           "Ar Raqqa",
           "Dara",
           "Dayr Az Zor",
           "Hassakeh",
           "Idleb",
           "Jubb al Jarrah",
           "Qamishli"
          ]
         },
         "type": "sankey"
        }
       ],
       "layout": {
        "template": {
         "data": {
          "bar": [
           {
            "error_x": {
             "color": "#2a3f5f"
            },
            "error_y": {
             "color": "#2a3f5f"
            },
            "marker": {
             "line": {
              "color": "#E5ECF6",
              "width": 0.5
             },
             "pattern": {
              "fillmode": "overlay",
              "size": 10,
              "solidity": 0.2
             }
            },
            "type": "bar"
           }
          ],
          "barpolar": [
           {
            "marker": {
             "line": {
              "color": "#E5ECF6",
              "width": 0.5
             },
             "pattern": {
              "fillmode": "overlay",
              "size": 10,
              "solidity": 0.2
             }
            },
            "type": "barpolar"
           }
          ],
          "carpet": [
           {
            "aaxis": {
             "endlinecolor": "#2a3f5f",
             "gridcolor": "white",
             "linecolor": "white",
             "minorgridcolor": "white",
             "startlinecolor": "#2a3f5f"
            },
            "baxis": {
             "endlinecolor": "#2a3f5f",
             "gridcolor": "white",
             "linecolor": "white",
             "minorgridcolor": "white",
             "startlinecolor": "#2a3f5f"
            },
            "type": "carpet"
           }
          ],
          "choropleth": [
           {
            "colorbar": {
             "outlinewidth": 0,
             "ticks": ""
            },
            "type": "choropleth"
           }
          ],
          "contour": [
           {
            "colorbar": {
             "outlinewidth": 0,
             "ticks": ""
            },
            "colorscale": [
             [
              0,
              "#0d0887"
             ],
             [
              0.1111111111111111,
              "#46039f"
             ],
             [
              0.2222222222222222,
              "#7201a8"
             ],
             [
              0.3333333333333333,
              "#9c179e"
             ],
             [
              0.4444444444444444,
              "#bd3786"
             ],
             [
              0.5555555555555556,
              "#d8576b"
             ],
             [
              0.6666666666666666,
              "#ed7953"
             ],
             [
              0.7777777777777778,
              "#fb9f3a"
             ],
             [
              0.8888888888888888,
              "#fdca26"
             ],
             [
              1,
              "#f0f921"
             ]
            ],
            "type": "contour"
           }
          ],
          "contourcarpet": [
           {
            "colorbar": {
             "outlinewidth": 0,
             "ticks": ""
            },
            "type": "contourcarpet"
           }
          ],
          "heatmap": [
           {
            "colorbar": {
             "outlinewidth": 0,
             "ticks": ""
            },
            "colorscale": [
             [
              0,
              "#0d0887"
             ],
             [
              0.1111111111111111,
              "#46039f"
             ],
             [
              0.2222222222222222,
              "#7201a8"
             ],
             [
              0.3333333333333333,
              "#9c179e"
             ],
             [
              0.4444444444444444,
              "#bd3786"
             ],
             [
              0.5555555555555556,
              "#d8576b"
             ],
             [
              0.6666666666666666,
              "#ed7953"
             ],
             [
              0.7777777777777778,
              "#fb9f3a"
             ],
             [
              0.8888888888888888,
              "#fdca26"
             ],
             [
              1,
              "#f0f921"
             ]
            ],
            "type": "heatmap"
           }
          ],
          "histogram": [
           {
            "marker": {
             "pattern": {
              "fillmode": "overlay",
              "size": 10,
              "solidity": 0.2
             }
            },
            "type": "histogram"
           }
          ],
          "histogram2d": [
           {
            "colorbar": {
             "outlinewidth": 0,
             "ticks": ""
            },
            "colorscale": [
             [
              0,
              "#0d0887"
             ],
             [
              0.1111111111111111,
              "#46039f"
             ],
             [
              0.2222222222222222,
              "#7201a8"
             ],
             [
              0.3333333333333333,
              "#9c179e"
             ],
             [
              0.4444444444444444,
              "#bd3786"
             ],
             [
              0.5555555555555556,
              "#d8576b"
             ],
             [
              0.6666666666666666,
              "#ed7953"
             ],
             [
              0.7777777777777778,
              "#fb9f3a"
             ],
             [
              0.8888888888888888,
              "#fdca26"
             ],
             [
              1,
              "#f0f921"
             ]
            ],
            "type": "histogram2d"
           }
          ],
          "histogram2dcontour": [
           {
            "colorbar": {
             "outlinewidth": 0,
             "ticks": ""
            },
            "colorscale": [
             [
              0,
              "#0d0887"
             ],
             [
              0.1111111111111111,
              "#46039f"
             ],
             [
              0.2222222222222222,
              "#7201a8"
             ],
             [
              0.3333333333333333,
              "#9c179e"
             ],
             [
              0.4444444444444444,
              "#bd3786"
             ],
             [
              0.5555555555555556,
              "#d8576b"
             ],
             [
              0.6666666666666666,
              "#ed7953"
             ],
             [
              0.7777777777777778,
              "#fb9f3a"
             ],
             [
              0.8888888888888888,
              "#fdca26"
             ],
             [
              1,
              "#f0f921"
             ]
            ],
            "type": "histogram2dcontour"
           }
          ],
          "mesh3d": [
           {
            "colorbar": {
             "outlinewidth": 0,
             "ticks": ""
            },
            "type": "mesh3d"
           }
          ],
          "parcoords": [
           {
            "line": {
             "colorbar": {
              "outlinewidth": 0,
              "ticks": ""
             }
            },
            "type": "parcoords"
           }
          ],
          "pie": [
           {
            "automargin": true,
            "type": "pie"
           }
          ],
          "scatter": [
           {
            "fillpattern": {
             "fillmode": "overlay",
             "size": 10,
             "solidity": 0.2
            },
            "type": "scatter"
           }
          ],
          "scatter3d": [
           {
            "line": {
             "colorbar": {
              "outlinewidth": 0,
              "ticks": ""
             }
            },
            "marker": {
             "colorbar": {
              "outlinewidth": 0,
              "ticks": ""
             }
            },
            "type": "scatter3d"
           }
          ],
          "scattercarpet": [
           {
            "marker": {
             "colorbar": {
              "outlinewidth": 0,
              "ticks": ""
             }
            },
            "type": "scattercarpet"
           }
          ],
          "scattergeo": [
           {
            "marker": {
             "colorbar": {
              "outlinewidth": 0,
              "ticks": ""
             }
            },
            "type": "scattergeo"
           }
          ],
          "scattergl": [
           {
            "marker": {
             "colorbar": {
              "outlinewidth": 0,
              "ticks": ""
             }
            },
            "type": "scattergl"
           }
          ],
          "scattermap": [
           {
            "marker": {
             "colorbar": {
              "outlinewidth": 0,
              "ticks": ""
             }
            },
            "type": "scattermap"
           }
          ],
          "scattermapbox": [
           {
            "marker": {
             "colorbar": {
              "outlinewidth": 0,
              "ticks": ""
             }
            },
            "type": "scattermapbox"
           }
          ],
          "scatterpolar": [
           {
            "marker": {
             "colorbar": {
              "outlinewidth": 0,
              "ticks": ""
             }
            },
            "type": "scatterpolar"
           }
          ],
          "scatterpolargl": [
           {
            "marker": {
             "colorbar": {
              "outlinewidth": 0,
              "ticks": ""
             }
            },
            "type": "scatterpolargl"
           }
          ],
          "scatterternary": [
           {
            "marker": {
             "colorbar": {
              "outlinewidth": 0,
              "ticks": ""
             }
            },
            "type": "scatterternary"
           }
          ],
          "surface": [
           {
            "colorbar": {
             "outlinewidth": 0,
             "ticks": ""
            },
            "colorscale": [
             [
              0,
              "#0d0887"
             ],
             [
              0.1111111111111111,
              "#46039f"
             ],
             [
              0.2222222222222222,
              "#7201a8"
             ],
             [
              0.3333333333333333,
              "#9c179e"
             ],
             [
              0.4444444444444444,
              "#bd3786"
             ],
             [
              0.5555555555555556,
              "#d8576b"
             ],
             [
              0.6666666666666666,
              "#ed7953"
             ],
             [
              0.7777777777777778,
              "#fb9f3a"
             ],
             [
              0.8888888888888888,
              "#fdca26"
             ],
             [
              1,
              "#f0f921"
             ]
            ],
            "type": "surface"
           }
          ],
          "table": [
           {
            "cells": {
             "fill": {
              "color": "#EBF0F8"
             },
             "line": {
              "color": "white"
             }
            },
            "header": {
             "fill": {
              "color": "#C8D4E3"
             },
             "line": {
              "color": "white"
             }
            },
            "type": "table"
           }
          ]
         },
         "layout": {
          "annotationdefaults": {
           "arrowcolor": "#2a3f5f",
           "arrowhead": 0,
           "arrowwidth": 1
          },
          "autotypenumbers": "strict",
          "coloraxis": {
           "colorbar": {
            "outlinewidth": 0,
            "ticks": ""
           }
          },
          "colorscale": {
           "diverging": [
            [
             0,
             "#8e0152"
            ],
            [
             0.1,
             "#c51b7d"
            ],
            [
             0.2,
             "#de77ae"
            ],
            [
             0.3,
             "#f1b6da"
            ],
            [
             0.4,
             "#fde0ef"
            ],
            [
             0.5,
             "#f7f7f7"
            ],
            [
             0.6,
             "#e6f5d0"
            ],
            [
             0.7,
             "#b8e186"
            ],
            [
             0.8,
             "#7fbc41"
            ],
            [
             0.9,
             "#4d9221"
            ],
            [
             1,
             "#276419"
            ]
           ],
           "sequential": [
            [
             0,
             "#0d0887"
            ],
            [
             0.1111111111111111,
             "#46039f"
            ],
            [
             0.2222222222222222,
             "#7201a8"
            ],
            [
             0.3333333333333333,
             "#9c179e"
            ],
            [
             0.4444444444444444,
             "#bd3786"
            ],
            [
             0.5555555555555556,
             "#d8576b"
            ],
            [
             0.6666666666666666,
             "#ed7953"
            ],
            [
             0.7777777777777778,
             "#fb9f3a"
            ],
            [
             0.8888888888888888,
             "#fdca26"
            ],
            [
             1,
             "#f0f921"
            ]
           ],
           "sequentialminus": [
            [
             0,
             "#0d0887"
            ],
            [
             0.1111111111111111,
             "#46039f"
            ],
            [
             0.2222222222222222,
             "#7201a8"
            ],
            [
             0.3333333333333333,
             "#9c179e"
            ],
            [
             0.4444444444444444,
             "#bd3786"
            ],
            [
             0.5555555555555556,
             "#d8576b"
            ],
            [
             0.6666666666666666,
             "#ed7953"
            ],
            [
             0.7777777777777778,
             "#fb9f3a"
            ],
            [
             0.8888888888888888,
             "#fdca26"
            ],
            [
             1,
             "#f0f921"
            ]
           ]
          },
          "colorway": [
           "#636efa",
           "#EF553B",
           "#00cc96",
           "#ab63fa",
           "#FFA15A",
           "#19d3f3",
           "#FF6692",
           "#B6E880",
           "#FF97FF",
           "#FECB52"
          ],
          "font": {
           "color": "#2a3f5f"
          },
          "geo": {
           "bgcolor": "white",
           "lakecolor": "white",
           "landcolor": "#E5ECF6",
           "showlakes": true,
           "showland": true,
           "subunitcolor": "white"
          },
          "hoverlabel": {
           "align": "left"
          },
          "hovermode": "closest",
          "mapbox": {
           "style": "light"
          },
          "paper_bgcolor": "white",
          "plot_bgcolor": "#E5ECF6",
          "polar": {
           "angularaxis": {
            "gridcolor": "white",
            "linecolor": "white",
            "ticks": ""
           },
           "bgcolor": "#E5ECF6",
           "radialaxis": {
            "gridcolor": "white",
            "linecolor": "white",
            "ticks": ""
           }
          },
          "scene": {
           "xaxis": {
            "backgroundcolor": "#E5ECF6",
            "gridcolor": "white",
            "gridwidth": 2,
            "linecolor": "white",
            "showbackground": true,
            "ticks": "",
            "zerolinecolor": "white"
           },
           "yaxis": {
            "backgroundcolor": "#E5ECF6",
            "gridcolor": "white",
            "gridwidth": 2,
            "linecolor": "white",
            "showbackground": true,
            "ticks": "",
            "zerolinecolor": "white"
           },
           "zaxis": {
            "backgroundcolor": "#E5ECF6",
            "gridcolor": "white",
            "gridwidth": 2,
            "linecolor": "white",
            "showbackground": true,
            "ticks": "",
            "zerolinecolor": "white"
           }
          },
          "shapedefaults": {
           "line": {
            "color": "#2a3f5f"
           }
          },
          "ternary": {
           "aaxis": {
            "gridcolor": "white",
            "linecolor": "white",
            "ticks": ""
           },
           "baxis": {
            "gridcolor": "white",
            "linecolor": "white",
            "ticks": ""
           },
           "bgcolor": "#E5ECF6",
           "caxis": {
            "gridcolor": "white",
            "linecolor": "white",
            "ticks": ""
           }
          },
          "title": {
           "x": 0.05
          },
          "xaxis": {
           "automargin": true,
           "gridcolor": "white",
           "linecolor": "white",
           "ticks": "",
           "title": {
            "standoff": 15
           },
           "zerolinecolor": "white",
           "zerolinewidth": 2
          },
          "yaxis": {
           "automargin": true,
           "gridcolor": "white",
           "linecolor": "white",
           "ticks": "",
           "title": {
            "standoff": 15
           },
           "zerolinecolor": "white",
           "zerolinewidth": 2
          }
         }
        },
        "title": {
         "text": "Milk"
        }
       }
      }
     },
     "metadata": {},
     "output_type": "display_data"
    },
    {
     "data": {
      "application/vnd.plotly.v1+json": {
       "config": {
        "plotlyServerURL": "https://plot.ly"
       },
       "data": [
        {
         "link": {
          "source": {
           "bdata": "AAAAAAAAAAEBAQEBAQECAgICAgICAwMDAwMDAwQEBAQEBAQFBQUFBQUFBgYGBgYGBg==",
           "dtype": "i1"
          },
          "target": {
           "bdata": "BwgJCgsMDQcICQoLDA0HCAkKCwwNBwgJCgsMDQcICQoLDA0HCAkKCwwNBwgJCgsMDQ==",
           "dtype": "i1"
          },
          "value": [
           95.28,
           0,
           0,
           54.8,
           82.48,
           0,
           55.06,
           71.79,
           216.88,
           205.89,
           29.79,
           57.66,
           160,
           28.95,
           80.2,
           211.4,
           210.74,
           37.08,
           66.67,
           167.85,
           37.36,
           0,
           201.31,
           200.21,
           0,
           0,
           0,
           0,
           88.39,
           194.16,
           216.42,
           50.69,
           73.88,
           164.61,
           50.95,
           90.58,
           0,
           218.51,
           47.46,
           78.83,
           177.77,
           47.73,
           0,
           0,
           0,
           0,
           76.68,
           177.9,
           0
          ]
         },
         "node": {
          "label": [
           "Aleppo",
           "Amman",
           "Beirut",
           "Damascus",
           "Gaziantep",
           "Hama",
           "Homs",
           "Ar Raqqa",
           "Dara",
           "Dayr Az Zor",
           "Hassakeh",
           "Idleb",
           "Jubb al Jarrah",
           "Qamishli"
          ]
         },
         "type": "sankey"
        }
       ],
       "layout": {
        "template": {
         "data": {
          "bar": [
           {
            "error_x": {
             "color": "#2a3f5f"
            },
            "error_y": {
             "color": "#2a3f5f"
            },
            "marker": {
             "line": {
              "color": "#E5ECF6",
              "width": 0.5
             },
             "pattern": {
              "fillmode": "overlay",
              "size": 10,
              "solidity": 0.2
             }
            },
            "type": "bar"
           }
          ],
          "barpolar": [
           {
            "marker": {
             "line": {
              "color": "#E5ECF6",
              "width": 0.5
             },
             "pattern": {
              "fillmode": "overlay",
              "size": 10,
              "solidity": 0.2
             }
            },
            "type": "barpolar"
           }
          ],
          "carpet": [
           {
            "aaxis": {
             "endlinecolor": "#2a3f5f",
             "gridcolor": "white",
             "linecolor": "white",
             "minorgridcolor": "white",
             "startlinecolor": "#2a3f5f"
            },
            "baxis": {
             "endlinecolor": "#2a3f5f",
             "gridcolor": "white",
             "linecolor": "white",
             "minorgridcolor": "white",
             "startlinecolor": "#2a3f5f"
            },
            "type": "carpet"
           }
          ],
          "choropleth": [
           {
            "colorbar": {
             "outlinewidth": 0,
             "ticks": ""
            },
            "type": "choropleth"
           }
          ],
          "contour": [
           {
            "colorbar": {
             "outlinewidth": 0,
             "ticks": ""
            },
            "colorscale": [
             [
              0,
              "#0d0887"
             ],
             [
              0.1111111111111111,
              "#46039f"
             ],
             [
              0.2222222222222222,
              "#7201a8"
             ],
             [
              0.3333333333333333,
              "#9c179e"
             ],
             [
              0.4444444444444444,
              "#bd3786"
             ],
             [
              0.5555555555555556,
              "#d8576b"
             ],
             [
              0.6666666666666666,
              "#ed7953"
             ],
             [
              0.7777777777777778,
              "#fb9f3a"
             ],
             [
              0.8888888888888888,
              "#fdca26"
             ],
             [
              1,
              "#f0f921"
             ]
            ],
            "type": "contour"
           }
          ],
          "contourcarpet": [
           {
            "colorbar": {
             "outlinewidth": 0,
             "ticks": ""
            },
            "type": "contourcarpet"
           }
          ],
          "heatmap": [
           {
            "colorbar": {
             "outlinewidth": 0,
             "ticks": ""
            },
            "colorscale": [
             [
              0,
              "#0d0887"
             ],
             [
              0.1111111111111111,
              "#46039f"
             ],
             [
              0.2222222222222222,
              "#7201a8"
             ],
             [
              0.3333333333333333,
              "#9c179e"
             ],
             [
              0.4444444444444444,
              "#bd3786"
             ],
             [
              0.5555555555555556,
              "#d8576b"
             ],
             [
              0.6666666666666666,
              "#ed7953"
             ],
             [
              0.7777777777777778,
              "#fb9f3a"
             ],
             [
              0.8888888888888888,
              "#fdca26"
             ],
             [
              1,
              "#f0f921"
             ]
            ],
            "type": "heatmap"
           }
          ],
          "histogram": [
           {
            "marker": {
             "pattern": {
              "fillmode": "overlay",
              "size": 10,
              "solidity": 0.2
             }
            },
            "type": "histogram"
           }
          ],
          "histogram2d": [
           {
            "colorbar": {
             "outlinewidth": 0,
             "ticks": ""
            },
            "colorscale": [
             [
              0,
              "#0d0887"
             ],
             [
              0.1111111111111111,
              "#46039f"
             ],
             [
              0.2222222222222222,
              "#7201a8"
             ],
             [
              0.3333333333333333,
              "#9c179e"
             ],
             [
              0.4444444444444444,
              "#bd3786"
             ],
             [
              0.5555555555555556,
              "#d8576b"
             ],
             [
              0.6666666666666666,
              "#ed7953"
             ],
             [
              0.7777777777777778,
              "#fb9f3a"
             ],
             [
              0.8888888888888888,
              "#fdca26"
             ],
             [
              1,
              "#f0f921"
             ]
            ],
            "type": "histogram2d"
           }
          ],
          "histogram2dcontour": [
           {
            "colorbar": {
             "outlinewidth": 0,
             "ticks": ""
            },
            "colorscale": [
             [
              0,
              "#0d0887"
             ],
             [
              0.1111111111111111,
              "#46039f"
             ],
             [
              0.2222222222222222,
              "#7201a8"
             ],
             [
              0.3333333333333333,
              "#9c179e"
             ],
             [
              0.4444444444444444,
              "#bd3786"
             ],
             [
              0.5555555555555556,
              "#d8576b"
             ],
             [
              0.6666666666666666,
              "#ed7953"
             ],
             [
              0.7777777777777778,
              "#fb9f3a"
             ],
             [
              0.8888888888888888,
              "#fdca26"
             ],
             [
              1,
              "#f0f921"
             ]
            ],
            "type": "histogram2dcontour"
           }
          ],
          "mesh3d": [
           {
            "colorbar": {
             "outlinewidth": 0,
             "ticks": ""
            },
            "type": "mesh3d"
           }
          ],
          "parcoords": [
           {
            "line": {
             "colorbar": {
              "outlinewidth": 0,
              "ticks": ""
             }
            },
            "type": "parcoords"
           }
          ],
          "pie": [
           {
            "automargin": true,
            "type": "pie"
           }
          ],
          "scatter": [
           {
            "fillpattern": {
             "fillmode": "overlay",
             "size": 10,
             "solidity": 0.2
            },
            "type": "scatter"
           }
          ],
          "scatter3d": [
           {
            "line": {
             "colorbar": {
              "outlinewidth": 0,
              "ticks": ""
             }
            },
            "marker": {
             "colorbar": {
              "outlinewidth": 0,
              "ticks": ""
             }
            },
            "type": "scatter3d"
           }
          ],
          "scattercarpet": [
           {
            "marker": {
             "colorbar": {
              "outlinewidth": 0,
              "ticks": ""
             }
            },
            "type": "scattercarpet"
           }
          ],
          "scattergeo": [
           {
            "marker": {
             "colorbar": {
              "outlinewidth": 0,
              "ticks": ""
             }
            },
            "type": "scattergeo"
           }
          ],
          "scattergl": [
           {
            "marker": {
             "colorbar": {
              "outlinewidth": 0,
              "ticks": ""
             }
            },
            "type": "scattergl"
           }
          ],
          "scattermap": [
           {
            "marker": {
             "colorbar": {
              "outlinewidth": 0,
              "ticks": ""
             }
            },
            "type": "scattermap"
           }
          ],
          "scattermapbox": [
           {
            "marker": {
             "colorbar": {
              "outlinewidth": 0,
              "ticks": ""
             }
            },
            "type": "scattermapbox"
           }
          ],
          "scatterpolar": [
           {
            "marker": {
             "colorbar": {
              "outlinewidth": 0,
              "ticks": ""
             }
            },
            "type": "scatterpolar"
           }
          ],
          "scatterpolargl": [
           {
            "marker": {
             "colorbar": {
              "outlinewidth": 0,
              "ticks": ""
             }
            },
            "type": "scatterpolargl"
           }
          ],
          "scatterternary": [
           {
            "marker": {
             "colorbar": {
              "outlinewidth": 0,
              "ticks": ""
             }
            },
            "type": "scatterternary"
           }
          ],
          "surface": [
           {
            "colorbar": {
             "outlinewidth": 0,
             "ticks": ""
            },
            "colorscale": [
             [
              0,
              "#0d0887"
             ],
             [
              0.1111111111111111,
              "#46039f"
             ],
             [
              0.2222222222222222,
              "#7201a8"
             ],
             [
              0.3333333333333333,
              "#9c179e"
             ],
             [
              0.4444444444444444,
              "#bd3786"
             ],
             [
              0.5555555555555556,
              "#d8576b"
             ],
             [
              0.6666666666666666,
              "#ed7953"
             ],
             [
              0.7777777777777778,
              "#fb9f3a"
             ],
             [
              0.8888888888888888,
              "#fdca26"
             ],
             [
              1,
              "#f0f921"
             ]
            ],
            "type": "surface"
           }
          ],
          "table": [
           {
            "cells": {
             "fill": {
              "color": "#EBF0F8"
             },
             "line": {
              "color": "white"
             }
            },
            "header": {
             "fill": {
              "color": "#C8D4E3"
             },
             "line": {
              "color": "white"
             }
            },
            "type": "table"
           }
          ]
         },
         "layout": {
          "annotationdefaults": {
           "arrowcolor": "#2a3f5f",
           "arrowhead": 0,
           "arrowwidth": 1
          },
          "autotypenumbers": "strict",
          "coloraxis": {
           "colorbar": {
            "outlinewidth": 0,
            "ticks": ""
           }
          },
          "colorscale": {
           "diverging": [
            [
             0,
             "#8e0152"
            ],
            [
             0.1,
             "#c51b7d"
            ],
            [
             0.2,
             "#de77ae"
            ],
            [
             0.3,
             "#f1b6da"
            ],
            [
             0.4,
             "#fde0ef"
            ],
            [
             0.5,
             "#f7f7f7"
            ],
            [
             0.6,
             "#e6f5d0"
            ],
            [
             0.7,
             "#b8e186"
            ],
            [
             0.8,
             "#7fbc41"
            ],
            [
             0.9,
             "#4d9221"
            ],
            [
             1,
             "#276419"
            ]
           ],
           "sequential": [
            [
             0,
             "#0d0887"
            ],
            [
             0.1111111111111111,
             "#46039f"
            ],
            [
             0.2222222222222222,
             "#7201a8"
            ],
            [
             0.3333333333333333,
             "#9c179e"
            ],
            [
             0.4444444444444444,
             "#bd3786"
            ],
            [
             0.5555555555555556,
             "#d8576b"
            ],
            [
             0.6666666666666666,
             "#ed7953"
            ],
            [
             0.7777777777777778,
             "#fb9f3a"
            ],
            [
             0.8888888888888888,
             "#fdca26"
            ],
            [
             1,
             "#f0f921"
            ]
           ],
           "sequentialminus": [
            [
             0,
             "#0d0887"
            ],
            [
             0.1111111111111111,
             "#46039f"
            ],
            [
             0.2222222222222222,
             "#7201a8"
            ],
            [
             0.3333333333333333,
             "#9c179e"
            ],
            [
             0.4444444444444444,
             "#bd3786"
            ],
            [
             0.5555555555555556,
             "#d8576b"
            ],
            [
             0.6666666666666666,
             "#ed7953"
            ],
            [
             0.7777777777777778,
             "#fb9f3a"
            ],
            [
             0.8888888888888888,
             "#fdca26"
            ],
            [
             1,
             "#f0f921"
            ]
           ]
          },
          "colorway": [
           "#636efa",
           "#EF553B",
           "#00cc96",
           "#ab63fa",
           "#FFA15A",
           "#19d3f3",
           "#FF6692",
           "#B6E880",
           "#FF97FF",
           "#FECB52"
          ],
          "font": {
           "color": "#2a3f5f"
          },
          "geo": {
           "bgcolor": "white",
           "lakecolor": "white",
           "landcolor": "#E5ECF6",
           "showlakes": true,
           "showland": true,
           "subunitcolor": "white"
          },
          "hoverlabel": {
           "align": "left"
          },
          "hovermode": "closest",
          "mapbox": {
           "style": "light"
          },
          "paper_bgcolor": "white",
          "plot_bgcolor": "#E5ECF6",
          "polar": {
           "angularaxis": {
            "gridcolor": "white",
            "linecolor": "white",
            "ticks": ""
           },
           "bgcolor": "#E5ECF6",
           "radialaxis": {
            "gridcolor": "white",
            "linecolor": "white",
            "ticks": ""
           }
          },
          "scene": {
           "xaxis": {
            "backgroundcolor": "#E5ECF6",
            "gridcolor": "white",
            "gridwidth": 2,
            "linecolor": "white",
            "showbackground": true,
            "ticks": "",
            "zerolinecolor": "white"
           },
           "yaxis": {
            "backgroundcolor": "#E5ECF6",
            "gridcolor": "white",
            "gridwidth": 2,
            "linecolor": "white",
            "showbackground": true,
            "ticks": "",
            "zerolinecolor": "white"
           },
           "zaxis": {
            "backgroundcolor": "#E5ECF6",
            "gridcolor": "white",
            "gridwidth": 2,
            "linecolor": "white",
            "showbackground": true,
            "ticks": "",
            "zerolinecolor": "white"
           }
          },
          "shapedefaults": {
           "line": {
            "color": "#2a3f5f"
           }
          },
          "ternary": {
           "aaxis": {
            "gridcolor": "white",
            "linecolor": "white",
            "ticks": ""
           },
           "baxis": {
            "gridcolor": "white",
            "linecolor": "white",
            "ticks": ""
           },
           "bgcolor": "#E5ECF6",
           "caxis": {
            "gridcolor": "white",
            "linecolor": "white",
            "ticks": ""
           }
          },
          "title": {
           "x": 0.05
          },
          "xaxis": {
           "automargin": true,
           "gridcolor": "white",
           "linecolor": "white",
           "ticks": "",
           "title": {
            "standoff": 15
           },
           "zerolinecolor": "white",
           "zerolinewidth": 2
          },
          "yaxis": {
           "automargin": true,
           "gridcolor": "white",
           "linecolor": "white",
           "ticks": "",
           "title": {
            "standoff": 15
           },
           "zerolinecolor": "white",
           "zerolinewidth": 2
          }
         }
        },
        "title": {
         "text": "Oil"
        }
       }
      }
     },
     "metadata": {},
     "output_type": "display_data"
    },
    {
     "data": {
      "application/vnd.plotly.v1+json": {
       "config": {
        "plotlyServerURL": "https://plot.ly"
       },
       "data": [
        {
         "link": {
          "source": {
           "bdata": "AAAAAAAAAAEBAQEBAQECAgICAgICAwMDAwMDAwQEBAQEBAQFBQUFBQUFBgYGBgYGBg==",
           "dtype": "i1"
          },
          "target": {
           "bdata": "BwgJCgsMDQcICQoLDA0HCAkKCwwNBwgJCgsMDQcICQoLDA0HCAkKCwwNBwgJCgsMDQ==",
           "dtype": "i1"
          },
          "value": [
           0,
           0,
           0,
           0,
           0,
           0,
           0,
           0,
           33.59,
           10.82,
           0,
           0,
           8.4,
           0,
           0,
           28.09,
           15.67,
           0,
           0,
           16.23,
           0,
           0,
           13.81,
           0.97,
           0,
           0,
           0,
           0,
           0,
           10.85,
           21.35,
           0,
           0,
           12.99,
           0,
           0,
           0,
           12.48,
           0,
           0,
           15.2,
           0,
           0,
           0,
           0,
           0,
           0,
           15.52,
           0
          ]
         },
         "node": {
          "label": [
           "Aleppo",
           "Amman",
           "Beirut",
           "Damascus",
           "Gaziantep",
           "Hama",
           "Homs",
           "Ar Raqqa",
           "Dara",
           "Dayr Az Zor",
           "Hassakeh",
           "Idleb",
           "Jubb al Jarrah",
           "Qamishli"
          ]
         },
         "type": "sankey"
        }
       ],
       "layout": {
        "template": {
         "data": {
          "bar": [
           {
            "error_x": {
             "color": "#2a3f5f"
            },
            "error_y": {
             "color": "#2a3f5f"
            },
            "marker": {
             "line": {
              "color": "#E5ECF6",
              "width": 0.5
             },
             "pattern": {
              "fillmode": "overlay",
              "size": 10,
              "solidity": 0.2
             }
            },
            "type": "bar"
           }
          ],
          "barpolar": [
           {
            "marker": {
             "line": {
              "color": "#E5ECF6",
              "width": 0.5
             },
             "pattern": {
              "fillmode": "overlay",
              "size": 10,
              "solidity": 0.2
             }
            },
            "type": "barpolar"
           }
          ],
          "carpet": [
           {
            "aaxis": {
             "endlinecolor": "#2a3f5f",
             "gridcolor": "white",
             "linecolor": "white",
             "minorgridcolor": "white",
             "startlinecolor": "#2a3f5f"
            },
            "baxis": {
             "endlinecolor": "#2a3f5f",
             "gridcolor": "white",
             "linecolor": "white",
             "minorgridcolor": "white",
             "startlinecolor": "#2a3f5f"
            },
            "type": "carpet"
           }
          ],
          "choropleth": [
           {
            "colorbar": {
             "outlinewidth": 0,
             "ticks": ""
            },
            "type": "choropleth"
           }
          ],
          "contour": [
           {
            "colorbar": {
             "outlinewidth": 0,
             "ticks": ""
            },
            "colorscale": [
             [
              0,
              "#0d0887"
             ],
             [
              0.1111111111111111,
              "#46039f"
             ],
             [
              0.2222222222222222,
              "#7201a8"
             ],
             [
              0.3333333333333333,
              "#9c179e"
             ],
             [
              0.4444444444444444,
              "#bd3786"
             ],
             [
              0.5555555555555556,
              "#d8576b"
             ],
             [
              0.6666666666666666,
              "#ed7953"
             ],
             [
              0.7777777777777778,
              "#fb9f3a"
             ],
             [
              0.8888888888888888,
              "#fdca26"
             ],
             [
              1,
              "#f0f921"
             ]
            ],
            "type": "contour"
           }
          ],
          "contourcarpet": [
           {
            "colorbar": {
             "outlinewidth": 0,
             "ticks": ""
            },
            "type": "contourcarpet"
           }
          ],
          "heatmap": [
           {
            "colorbar": {
             "outlinewidth": 0,
             "ticks": ""
            },
            "colorscale": [
             [
              0,
              "#0d0887"
             ],
             [
              0.1111111111111111,
              "#46039f"
             ],
             [
              0.2222222222222222,
              "#7201a8"
             ],
             [
              0.3333333333333333,
              "#9c179e"
             ],
             [
              0.4444444444444444,
              "#bd3786"
             ],
             [
              0.5555555555555556,
              "#d8576b"
             ],
             [
              0.6666666666666666,
              "#ed7953"
             ],
             [
              0.7777777777777778,
              "#fb9f3a"
             ],
             [
              0.8888888888888888,
              "#fdca26"
             ],
             [
              1,
              "#f0f921"
             ]
            ],
            "type": "heatmap"
           }
          ],
          "histogram": [
           {
            "marker": {
             "pattern": {
              "fillmode": "overlay",
              "size": 10,
              "solidity": 0.2
             }
            },
            "type": "histogram"
           }
          ],
          "histogram2d": [
           {
            "colorbar": {
             "outlinewidth": 0,
             "ticks": ""
            },
            "colorscale": [
             [
              0,
              "#0d0887"
             ],
             [
              0.1111111111111111,
              "#46039f"
             ],
             [
              0.2222222222222222,
              "#7201a8"
             ],
             [
              0.3333333333333333,
              "#9c179e"
             ],
             [
              0.4444444444444444,
              "#bd3786"
             ],
             [
              0.5555555555555556,
              "#d8576b"
             ],
             [
              0.6666666666666666,
              "#ed7953"
             ],
             [
              0.7777777777777778,
              "#fb9f3a"
             ],
             [
              0.8888888888888888,
              "#fdca26"
             ],
             [
              1,
              "#f0f921"
             ]
            ],
            "type": "histogram2d"
           }
          ],
          "histogram2dcontour": [
           {
            "colorbar": {
             "outlinewidth": 0,
             "ticks": ""
            },
            "colorscale": [
             [
              0,
              "#0d0887"
             ],
             [
              0.1111111111111111,
              "#46039f"
             ],
             [
              0.2222222222222222,
              "#7201a8"
             ],
             [
              0.3333333333333333,
              "#9c179e"
             ],
             [
              0.4444444444444444,
              "#bd3786"
             ],
             [
              0.5555555555555556,
              "#d8576b"
             ],
             [
              0.6666666666666666,
              "#ed7953"
             ],
             [
              0.7777777777777778,
              "#fb9f3a"
             ],
             [
              0.8888888888888888,
              "#fdca26"
             ],
             [
              1,
              "#f0f921"
             ]
            ],
            "type": "histogram2dcontour"
           }
          ],
          "mesh3d": [
           {
            "colorbar": {
             "outlinewidth": 0,
             "ticks": ""
            },
            "type": "mesh3d"
           }
          ],
          "parcoords": [
           {
            "line": {
             "colorbar": {
              "outlinewidth": 0,
              "ticks": ""
             }
            },
            "type": "parcoords"
           }
          ],
          "pie": [
           {
            "automargin": true,
            "type": "pie"
           }
          ],
          "scatter": [
           {
            "fillpattern": {
             "fillmode": "overlay",
             "size": 10,
             "solidity": 0.2
            },
            "type": "scatter"
           }
          ],
          "scatter3d": [
           {
            "line": {
             "colorbar": {
              "outlinewidth": 0,
              "ticks": ""
             }
            },
            "marker": {
             "colorbar": {
              "outlinewidth": 0,
              "ticks": ""
             }
            },
            "type": "scatter3d"
           }
          ],
          "scattercarpet": [
           {
            "marker": {
             "colorbar": {
              "outlinewidth": 0,
              "ticks": ""
             }
            },
            "type": "scattercarpet"
           }
          ],
          "scattergeo": [
           {
            "marker": {
             "colorbar": {
              "outlinewidth": 0,
              "ticks": ""
             }
            },
            "type": "scattergeo"
           }
          ],
          "scattergl": [
           {
            "marker": {
             "colorbar": {
              "outlinewidth": 0,
              "ticks": ""
             }
            },
            "type": "scattergl"
           }
          ],
          "scattermap": [
           {
            "marker": {
             "colorbar": {
              "outlinewidth": 0,
              "ticks": ""
             }
            },
            "type": "scattermap"
           }
          ],
          "scattermapbox": [
           {
            "marker": {
             "colorbar": {
              "outlinewidth": 0,
              "ticks": ""
             }
            },
            "type": "scattermapbox"
           }
          ],
          "scatterpolar": [
           {
            "marker": {
             "colorbar": {
              "outlinewidth": 0,
              "ticks": ""
             }
            },
            "type": "scatterpolar"
           }
          ],
          "scatterpolargl": [
           {
            "marker": {
             "colorbar": {
              "outlinewidth": 0,
              "ticks": ""
             }
            },
            "type": "scatterpolargl"
           }
          ],
          "scatterternary": [
           {
            "marker": {
             "colorbar": {
              "outlinewidth": 0,
              "ticks": ""
             }
            },
            "type": "scatterternary"
           }
          ],
          "surface": [
           {
            "colorbar": {
             "outlinewidth": 0,
             "ticks": ""
            },
            "colorscale": [
             [
              0,
              "#0d0887"
             ],
             [
              0.1111111111111111,
              "#46039f"
             ],
             [
              0.2222222222222222,
              "#7201a8"
             ],
             [
              0.3333333333333333,
              "#9c179e"
             ],
             [
              0.4444444444444444,
              "#bd3786"
             ],
             [
              0.5555555555555556,
              "#d8576b"
             ],
             [
              0.6666666666666666,
              "#ed7953"
             ],
             [
              0.7777777777777778,
              "#fb9f3a"
             ],
             [
              0.8888888888888888,
              "#fdca26"
             ],
             [
              1,
              "#f0f921"
             ]
            ],
            "type": "surface"
           }
          ],
          "table": [
           {
            "cells": {
             "fill": {
              "color": "#EBF0F8"
             },
             "line": {
              "color": "white"
             }
            },
            "header": {
             "fill": {
              "color": "#C8D4E3"
             },
             "line": {
              "color": "white"
             }
            },
            "type": "table"
           }
          ]
         },
         "layout": {
          "annotationdefaults": {
           "arrowcolor": "#2a3f5f",
           "arrowhead": 0,
           "arrowwidth": 1
          },
          "autotypenumbers": "strict",
          "coloraxis": {
           "colorbar": {
            "outlinewidth": 0,
            "ticks": ""
           }
          },
          "colorscale": {
           "diverging": [
            [
             0,
             "#8e0152"
            ],
            [
             0.1,
             "#c51b7d"
            ],
            [
             0.2,
             "#de77ae"
            ],
            [
             0.3,
             "#f1b6da"
            ],
            [
             0.4,
             "#fde0ef"
            ],
            [
             0.5,
             "#f7f7f7"
            ],
            [
             0.6,
             "#e6f5d0"
            ],
            [
             0.7,
             "#b8e186"
            ],
            [
             0.8,
             "#7fbc41"
            ],
            [
             0.9,
             "#4d9221"
            ],
            [
             1,
             "#276419"
            ]
           ],
           "sequential": [
            [
             0,
             "#0d0887"
            ],
            [
             0.1111111111111111,
             "#46039f"
            ],
            [
             0.2222222222222222,
             "#7201a8"
            ],
            [
             0.3333333333333333,
             "#9c179e"
            ],
            [
             0.4444444444444444,
             "#bd3786"
            ],
            [
             0.5555555555555556,
             "#d8576b"
            ],
            [
             0.6666666666666666,
             "#ed7953"
            ],
            [
             0.7777777777777778,
             "#fb9f3a"
            ],
            [
             0.8888888888888888,
             "#fdca26"
            ],
            [
             1,
             "#f0f921"
            ]
           ],
           "sequentialminus": [
            [
             0,
             "#0d0887"
            ],
            [
             0.1111111111111111,
             "#46039f"
            ],
            [
             0.2222222222222222,
             "#7201a8"
            ],
            [
             0.3333333333333333,
             "#9c179e"
            ],
            [
             0.4444444444444444,
             "#bd3786"
            ],
            [
             0.5555555555555556,
             "#d8576b"
            ],
            [
             0.6666666666666666,
             "#ed7953"
            ],
            [
             0.7777777777777778,
             "#fb9f3a"
            ],
            [
             0.8888888888888888,
             "#fdca26"
            ],
            [
             1,
             "#f0f921"
            ]
           ]
          },
          "colorway": [
           "#636efa",
           "#EF553B",
           "#00cc96",
           "#ab63fa",
           "#FFA15A",
           "#19d3f3",
           "#FF6692",
           "#B6E880",
           "#FF97FF",
           "#FECB52"
          ],
          "font": {
           "color": "#2a3f5f"
          },
          "geo": {
           "bgcolor": "white",
           "lakecolor": "white",
           "landcolor": "#E5ECF6",
           "showlakes": true,
           "showland": true,
           "subunitcolor": "white"
          },
          "hoverlabel": {
           "align": "left"
          },
          "hovermode": "closest",
          "mapbox": {
           "style": "light"
          },
          "paper_bgcolor": "white",
          "plot_bgcolor": "#E5ECF6",
          "polar": {
           "angularaxis": {
            "gridcolor": "white",
            "linecolor": "white",
            "ticks": ""
           },
           "bgcolor": "#E5ECF6",
           "radialaxis": {
            "gridcolor": "white",
            "linecolor": "white",
            "ticks": ""
           }
          },
          "scene": {
           "xaxis": {
            "backgroundcolor": "#E5ECF6",
            "gridcolor": "white",
            "gridwidth": 2,
            "linecolor": "white",
            "showbackground": true,
            "ticks": "",
            "zerolinecolor": "white"
           },
           "yaxis": {
            "backgroundcolor": "#E5ECF6",
            "gridcolor": "white",
            "gridwidth": 2,
            "linecolor": "white",
            "showbackground": true,
            "ticks": "",
            "zerolinecolor": "white"
           },
           "zaxis": {
            "backgroundcolor": "#E5ECF6",
            "gridcolor": "white",
            "gridwidth": 2,
            "linecolor": "white",
            "showbackground": true,
            "ticks": "",
            "zerolinecolor": "white"
           }
          },
          "shapedefaults": {
           "line": {
            "color": "#2a3f5f"
           }
          },
          "ternary": {
           "aaxis": {
            "gridcolor": "white",
            "linecolor": "white",
            "ticks": ""
           },
           "baxis": {
            "gridcolor": "white",
            "linecolor": "white",
            "ticks": ""
           },
           "bgcolor": "#E5ECF6",
           "caxis": {
            "gridcolor": "white",
            "linecolor": "white",
            "ticks": ""
           }
          },
          "title": {
           "x": 0.05
          },
          "xaxis": {
           "automargin": true,
           "gridcolor": "white",
           "linecolor": "white",
           "ticks": "",
           "title": {
            "standoff": 15
           },
           "zerolinecolor": "white",
           "zerolinewidth": 2
          },
          "yaxis": {
           "automargin": true,
           "gridcolor": "white",
           "linecolor": "white",
           "ticks": "",
           "title": {
            "standoff": 15
           },
           "zerolinecolor": "white",
           "zerolinewidth": 2
          }
         }
        },
        "title": {
         "text": "Rice"
        }
       }
      }
     },
     "metadata": {},
     "output_type": "display_data"
    },
    {
     "data": {
      "application/vnd.plotly.v1+json": {
       "config": {
        "plotlyServerURL": "https://plot.ly"
       },
       "data": [
        {
         "link": {
          "source": {
           "bdata": "AAAAAAAAAAEBAQEBAQECAgICAgICAwMDAwMDAwQEBAQEBAQFBQUFBQUFBgYGBgYGBg==",
           "dtype": "i1"
          },
          "target": {
           "bdata": "BwgJCgsMDQcICQoLDA0HCAkKCwwNBwgJCgsMDQcICQoLDA0HCAkKCwwNBwgJCgsMDQ==",
           "dtype": "i1"
          },
          "value": [
           0.15,
           0,
           0,
           0.07,
           0.15,
           0,
           0.07,
           0,
           0,
           0,
           0,
           0,
           0,
           0,
           0,
           0,
           0,
           0,
           0,
           0,
           0,
           0,
           0.3,
           0,
           0,
           0,
           0,
           0,
           0,
           0,
           0,
           0,
           0,
           0,
           0,
           0,
           0,
           0.37,
           0,
           0,
           0.2,
           0,
           0,
           0,
           0,
           0,
           0,
           0.1,
           0
          ]
         },
         "node": {
          "label": [
           "Aleppo",
           "Amman",
           "Beirut",
           "Damascus",
           "Gaziantep",
           "Hama",
           "Homs",
           "Ar Raqqa",
           "Dara",
           "Dayr Az Zor",
           "Hassakeh",
           "Idleb",
           "Jubb al Jarrah",
           "Qamishli"
          ]
         },
         "type": "sankey"
        }
       ],
       "layout": {
        "template": {
         "data": {
          "bar": [
           {
            "error_x": {
             "color": "#2a3f5f"
            },
            "error_y": {
             "color": "#2a3f5f"
            },
            "marker": {
             "line": {
              "color": "#E5ECF6",
              "width": 0.5
             },
             "pattern": {
              "fillmode": "overlay",
              "size": 10,
              "solidity": 0.2
             }
            },
            "type": "bar"
           }
          ],
          "barpolar": [
           {
            "marker": {
             "line": {
              "color": "#E5ECF6",
              "width": 0.5
             },
             "pattern": {
              "fillmode": "overlay",
              "size": 10,
              "solidity": 0.2
             }
            },
            "type": "barpolar"
           }
          ],
          "carpet": [
           {
            "aaxis": {
             "endlinecolor": "#2a3f5f",
             "gridcolor": "white",
             "linecolor": "white",
             "minorgridcolor": "white",
             "startlinecolor": "#2a3f5f"
            },
            "baxis": {
             "endlinecolor": "#2a3f5f",
             "gridcolor": "white",
             "linecolor": "white",
             "minorgridcolor": "white",
             "startlinecolor": "#2a3f5f"
            },
            "type": "carpet"
           }
          ],
          "choropleth": [
           {
            "colorbar": {
             "outlinewidth": 0,
             "ticks": ""
            },
            "type": "choropleth"
           }
          ],
          "contour": [
           {
            "colorbar": {
             "outlinewidth": 0,
             "ticks": ""
            },
            "colorscale": [
             [
              0,
              "#0d0887"
             ],
             [
              0.1111111111111111,
              "#46039f"
             ],
             [
              0.2222222222222222,
              "#7201a8"
             ],
             [
              0.3333333333333333,
              "#9c179e"
             ],
             [
              0.4444444444444444,
              "#bd3786"
             ],
             [
              0.5555555555555556,
              "#d8576b"
             ],
             [
              0.6666666666666666,
              "#ed7953"
             ],
             [
              0.7777777777777778,
              "#fb9f3a"
             ],
             [
              0.8888888888888888,
              "#fdca26"
             ],
             [
              1,
              "#f0f921"
             ]
            ],
            "type": "contour"
           }
          ],
          "contourcarpet": [
           {
            "colorbar": {
             "outlinewidth": 0,
             "ticks": ""
            },
            "type": "contourcarpet"
           }
          ],
          "heatmap": [
           {
            "colorbar": {
             "outlinewidth": 0,
             "ticks": ""
            },
            "colorscale": [
             [
              0,
              "#0d0887"
             ],
             [
              0.1111111111111111,
              "#46039f"
             ],
             [
              0.2222222222222222,
              "#7201a8"
             ],
             [
              0.3333333333333333,
              "#9c179e"
             ],
             [
              0.4444444444444444,
              "#bd3786"
             ],
             [
              0.5555555555555556,
              "#d8576b"
             ],
             [
              0.6666666666666666,
              "#ed7953"
             ],
             [
              0.7777777777777778,
              "#fb9f3a"
             ],
             [
              0.8888888888888888,
              "#fdca26"
             ],
             [
              1,
              "#f0f921"
             ]
            ],
            "type": "heatmap"
           }
          ],
          "histogram": [
           {
            "marker": {
             "pattern": {
              "fillmode": "overlay",
              "size": 10,
              "solidity": 0.2
             }
            },
            "type": "histogram"
           }
          ],
          "histogram2d": [
           {
            "colorbar": {
             "outlinewidth": 0,
             "ticks": ""
            },
            "colorscale": [
             [
              0,
              "#0d0887"
             ],
             [
              0.1111111111111111,
              "#46039f"
             ],
             [
              0.2222222222222222,
              "#7201a8"
             ],
             [
              0.3333333333333333,
              "#9c179e"
             ],
             [
              0.4444444444444444,
              "#bd3786"
             ],
             [
              0.5555555555555556,
              "#d8576b"
             ],
             [
              0.6666666666666666,
              "#ed7953"
             ],
             [
              0.7777777777777778,
              "#fb9f3a"
             ],
             [
              0.8888888888888888,
              "#fdca26"
             ],
             [
              1,
              "#f0f921"
             ]
            ],
            "type": "histogram2d"
           }
          ],
          "histogram2dcontour": [
           {
            "colorbar": {
             "outlinewidth": 0,
             "ticks": ""
            },
            "colorscale": [
             [
              0,
              "#0d0887"
             ],
             [
              0.1111111111111111,
              "#46039f"
             ],
             [
              0.2222222222222222,
              "#7201a8"
             ],
             [
              0.3333333333333333,
              "#9c179e"
             ],
             [
              0.4444444444444444,
              "#bd3786"
             ],
             [
              0.5555555555555556,
              "#d8576b"
             ],
             [
              0.6666666666666666,
              "#ed7953"
             ],
             [
              0.7777777777777778,
              "#fb9f3a"
             ],
             [
              0.8888888888888888,
              "#fdca26"
             ],
             [
              1,
              "#f0f921"
             ]
            ],
            "type": "histogram2dcontour"
           }
          ],
          "mesh3d": [
           {
            "colorbar": {
             "outlinewidth": 0,
             "ticks": ""
            },
            "type": "mesh3d"
           }
          ],
          "parcoords": [
           {
            "line": {
             "colorbar": {
              "outlinewidth": 0,
              "ticks": ""
             }
            },
            "type": "parcoords"
           }
          ],
          "pie": [
           {
            "automargin": true,
            "type": "pie"
           }
          ],
          "scatter": [
           {
            "fillpattern": {
             "fillmode": "overlay",
             "size": 10,
             "solidity": 0.2
            },
            "type": "scatter"
           }
          ],
          "scatter3d": [
           {
            "line": {
             "colorbar": {
              "outlinewidth": 0,
              "ticks": ""
             }
            },
            "marker": {
             "colorbar": {
              "outlinewidth": 0,
              "ticks": ""
             }
            },
            "type": "scatter3d"
           }
          ],
          "scattercarpet": [
           {
            "marker": {
             "colorbar": {
              "outlinewidth": 0,
              "ticks": ""
             }
            },
            "type": "scattercarpet"
           }
          ],
          "scattergeo": [
           {
            "marker": {
             "colorbar": {
              "outlinewidth": 0,
              "ticks": ""
             }
            },
            "type": "scattergeo"
           }
          ],
          "scattergl": [
           {
            "marker": {
             "colorbar": {
              "outlinewidth": 0,
              "ticks": ""
             }
            },
            "type": "scattergl"
           }
          ],
          "scattermap": [
           {
            "marker": {
             "colorbar": {
              "outlinewidth": 0,
              "ticks": ""
             }
            },
            "type": "scattermap"
           }
          ],
          "scattermapbox": [
           {
            "marker": {
             "colorbar": {
              "outlinewidth": 0,
              "ticks": ""
             }
            },
            "type": "scattermapbox"
           }
          ],
          "scatterpolar": [
           {
            "marker": {
             "colorbar": {
              "outlinewidth": 0,
              "ticks": ""
             }
            },
            "type": "scatterpolar"
           }
          ],
          "scatterpolargl": [
           {
            "marker": {
             "colorbar": {
              "outlinewidth": 0,
              "ticks": ""
             }
            },
            "type": "scatterpolargl"
           }
          ],
          "scatterternary": [
           {
            "marker": {
             "colorbar": {
              "outlinewidth": 0,
              "ticks": ""
             }
            },
            "type": "scatterternary"
           }
          ],
          "surface": [
           {
            "colorbar": {
             "outlinewidth": 0,
             "ticks": ""
            },
            "colorscale": [
             [
              0,
              "#0d0887"
             ],
             [
              0.1111111111111111,
              "#46039f"
             ],
             [
              0.2222222222222222,
              "#7201a8"
             ],
             [
              0.3333333333333333,
              "#9c179e"
             ],
             [
              0.4444444444444444,
              "#bd3786"
             ],
             [
              0.5555555555555556,
              "#d8576b"
             ],
             [
              0.6666666666666666,
              "#ed7953"
             ],
             [
              0.7777777777777778,
              "#fb9f3a"
             ],
             [
              0.8888888888888888,
              "#fdca26"
             ],
             [
              1,
              "#f0f921"
             ]
            ],
            "type": "surface"
           }
          ],
          "table": [
           {
            "cells": {
             "fill": {
              "color": "#EBF0F8"
             },
             "line": {
              "color": "white"
             }
            },
            "header": {
             "fill": {
              "color": "#C8D4E3"
             },
             "line": {
              "color": "white"
             }
            },
            "type": "table"
           }
          ]
         },
         "layout": {
          "annotationdefaults": {
           "arrowcolor": "#2a3f5f",
           "arrowhead": 0,
           "arrowwidth": 1
          },
          "autotypenumbers": "strict",
          "coloraxis": {
           "colorbar": {
            "outlinewidth": 0,
            "ticks": ""
           }
          },
          "colorscale": {
           "diverging": [
            [
             0,
             "#8e0152"
            ],
            [
             0.1,
             "#c51b7d"
            ],
            [
             0.2,
             "#de77ae"
            ],
            [
             0.3,
             "#f1b6da"
            ],
            [
             0.4,
             "#fde0ef"
            ],
            [
             0.5,
             "#f7f7f7"
            ],
            [
             0.6,
             "#e6f5d0"
            ],
            [
             0.7,
             "#b8e186"
            ],
            [
             0.8,
             "#7fbc41"
            ],
            [
             0.9,
             "#4d9221"
            ],
            [
             1,
             "#276419"
            ]
           ],
           "sequential": [
            [
             0,
             "#0d0887"
            ],
            [
             0.1111111111111111,
             "#46039f"
            ],
            [
             0.2222222222222222,
             "#7201a8"
            ],
            [
             0.3333333333333333,
             "#9c179e"
            ],
            [
             0.4444444444444444,
             "#bd3786"
            ],
            [
             0.5555555555555556,
             "#d8576b"
            ],
            [
             0.6666666666666666,
             "#ed7953"
            ],
            [
             0.7777777777777778,
             "#fb9f3a"
            ],
            [
             0.8888888888888888,
             "#fdca26"
            ],
            [
             1,
             "#f0f921"
            ]
           ],
           "sequentialminus": [
            [
             0,
             "#0d0887"
            ],
            [
             0.1111111111111111,
             "#46039f"
            ],
            [
             0.2222222222222222,
             "#7201a8"
            ],
            [
             0.3333333333333333,
             "#9c179e"
            ],
            [
             0.4444444444444444,
             "#bd3786"
            ],
            [
             0.5555555555555556,
             "#d8576b"
            ],
            [
             0.6666666666666666,
             "#ed7953"
            ],
            [
             0.7777777777777778,
             "#fb9f3a"
            ],
            [
             0.8888888888888888,
             "#fdca26"
            ],
            [
             1,
             "#f0f921"
            ]
           ]
          },
          "colorway": [
           "#636efa",
           "#EF553B",
           "#00cc96",
           "#ab63fa",
           "#FFA15A",
           "#19d3f3",
           "#FF6692",
           "#B6E880",
           "#FF97FF",
           "#FECB52"
          ],
          "font": {
           "color": "#2a3f5f"
          },
          "geo": {
           "bgcolor": "white",
           "lakecolor": "white",
           "landcolor": "#E5ECF6",
           "showlakes": true,
           "showland": true,
           "subunitcolor": "white"
          },
          "hoverlabel": {
           "align": "left"
          },
          "hovermode": "closest",
          "mapbox": {
           "style": "light"
          },
          "paper_bgcolor": "white",
          "plot_bgcolor": "#E5ECF6",
          "polar": {
           "angularaxis": {
            "gridcolor": "white",
            "linecolor": "white",
            "ticks": ""
           },
           "bgcolor": "#E5ECF6",
           "radialaxis": {
            "gridcolor": "white",
            "linecolor": "white",
            "ticks": ""
           }
          },
          "scene": {
           "xaxis": {
            "backgroundcolor": "#E5ECF6",
            "gridcolor": "white",
            "gridwidth": 2,
            "linecolor": "white",
            "showbackground": true,
            "ticks": "",
            "zerolinecolor": "white"
           },
           "yaxis": {
            "backgroundcolor": "#E5ECF6",
            "gridcolor": "white",
            "gridwidth": 2,
            "linecolor": "white",
            "showbackground": true,
            "ticks": "",
            "zerolinecolor": "white"
           },
           "zaxis": {
            "backgroundcolor": "#E5ECF6",
            "gridcolor": "white",
            "gridwidth": 2,
            "linecolor": "white",
            "showbackground": true,
            "ticks": "",
            "zerolinecolor": "white"
           }
          },
          "shapedefaults": {
           "line": {
            "color": "#2a3f5f"
           }
          },
          "ternary": {
           "aaxis": {
            "gridcolor": "white",
            "linecolor": "white",
            "ticks": ""
           },
           "baxis": {
            "gridcolor": "white",
            "linecolor": "white",
            "ticks": ""
           },
           "bgcolor": "#E5ECF6",
           "caxis": {
            "gridcolor": "white",
            "linecolor": "white",
            "ticks": ""
           }
          },
          "title": {
           "x": 0.05
          },
          "xaxis": {
           "automargin": true,
           "gridcolor": "white",
           "linecolor": "white",
           "ticks": "",
           "title": {
            "standoff": 15
           },
           "zerolinecolor": "white",
           "zerolinewidth": 2
          },
          "yaxis": {
           "automargin": true,
           "gridcolor": "white",
           "linecolor": "white",
           "ticks": "",
           "title": {
            "standoff": 15
           },
           "zerolinecolor": "white",
           "zerolinewidth": 2
          }
         }
        },
        "title": {
         "text": "Salt"
        }
       }
      }
     },
     "metadata": {},
     "output_type": "display_data"
    },
    {
     "data": {
      "application/vnd.plotly.v1+json": {
       "config": {
        "plotlyServerURL": "https://plot.ly"
       },
       "data": [
        {
         "link": {
          "source": {
           "bdata": "AAAAAAAAAAEBAQEBAQECAgICAgICAwMDAwMDAwQEBAQEBAQFBQUFBQUFBgYGBgYGBg==",
           "dtype": "i1"
          },
          "target": {
           "bdata": "BwgJCgsMDQcICQoLDA0HCAkKCwwNBwgJCgsMDQcICQoLDA0HCAkKCwwNBwgJCgsMDQ==",
           "dtype": "i1"
          },
          "value": [
           0,
           0,
           0,
           0,
           0,
           0,
           0,
           0,
           0,
           0,
           0,
           0,
           0,
           0,
           0,
           0,
           0,
           0,
           0,
           0,
           0,
           0,
           0,
           0,
           0,
           0,
           0,
           0,
           0,
           0,
           0,
           0,
           0,
           0,
           0,
           0,
           0,
           0,
           0,
           0,
           0,
           0,
           0,
           0,
           0,
           0,
           0,
           0,
           0
          ]
         },
         "node": {
          "label": [
           "Aleppo",
           "Amman",
           "Beirut",
           "Damascus",
           "Gaziantep",
           "Hama",
           "Homs",
           "Ar Raqqa",
           "Dara",
           "Dayr Az Zor",
           "Hassakeh",
           "Idleb",
           "Jubb al Jarrah",
           "Qamishli"
          ]
         },
         "type": "sankey"
        }
       ],
       "layout": {
        "template": {
         "data": {
          "bar": [
           {
            "error_x": {
             "color": "#2a3f5f"
            },
            "error_y": {
             "color": "#2a3f5f"
            },
            "marker": {
             "line": {
              "color": "#E5ECF6",
              "width": 0.5
             },
             "pattern": {
              "fillmode": "overlay",
              "size": 10,
              "solidity": 0.2
             }
            },
            "type": "bar"
           }
          ],
          "barpolar": [
           {
            "marker": {
             "line": {
              "color": "#E5ECF6",
              "width": 0.5
             },
             "pattern": {
              "fillmode": "overlay",
              "size": 10,
              "solidity": 0.2
             }
            },
            "type": "barpolar"
           }
          ],
          "carpet": [
           {
            "aaxis": {
             "endlinecolor": "#2a3f5f",
             "gridcolor": "white",
             "linecolor": "white",
             "minorgridcolor": "white",
             "startlinecolor": "#2a3f5f"
            },
            "baxis": {
             "endlinecolor": "#2a3f5f",
             "gridcolor": "white",
             "linecolor": "white",
             "minorgridcolor": "white",
             "startlinecolor": "#2a3f5f"
            },
            "type": "carpet"
           }
          ],
          "choropleth": [
           {
            "colorbar": {
             "outlinewidth": 0,
             "ticks": ""
            },
            "type": "choropleth"
           }
          ],
          "contour": [
           {
            "colorbar": {
             "outlinewidth": 0,
             "ticks": ""
            },
            "colorscale": [
             [
              0,
              "#0d0887"
             ],
             [
              0.1111111111111111,
              "#46039f"
             ],
             [
              0.2222222222222222,
              "#7201a8"
             ],
             [
              0.3333333333333333,
              "#9c179e"
             ],
             [
              0.4444444444444444,
              "#bd3786"
             ],
             [
              0.5555555555555556,
              "#d8576b"
             ],
             [
              0.6666666666666666,
              "#ed7953"
             ],
             [
              0.7777777777777778,
              "#fb9f3a"
             ],
             [
              0.8888888888888888,
              "#fdca26"
             ],
             [
              1,
              "#f0f921"
             ]
            ],
            "type": "contour"
           }
          ],
          "contourcarpet": [
           {
            "colorbar": {
             "outlinewidth": 0,
             "ticks": ""
            },
            "type": "contourcarpet"
           }
          ],
          "heatmap": [
           {
            "colorbar": {
             "outlinewidth": 0,
             "ticks": ""
            },
            "colorscale": [
             [
              0,
              "#0d0887"
             ],
             [
              0.1111111111111111,
              "#46039f"
             ],
             [
              0.2222222222222222,
              "#7201a8"
             ],
             [
              0.3333333333333333,
              "#9c179e"
             ],
             [
              0.4444444444444444,
              "#bd3786"
             ],
             [
              0.5555555555555556,
              "#d8576b"
             ],
             [
              0.6666666666666666,
              "#ed7953"
             ],
             [
              0.7777777777777778,
              "#fb9f3a"
             ],
             [
              0.8888888888888888,
              "#fdca26"
             ],
             [
              1,
              "#f0f921"
             ]
            ],
            "type": "heatmap"
           }
          ],
          "histogram": [
           {
            "marker": {
             "pattern": {
              "fillmode": "overlay",
              "size": 10,
              "solidity": 0.2
             }
            },
            "type": "histogram"
           }
          ],
          "histogram2d": [
           {
            "colorbar": {
             "outlinewidth": 0,
             "ticks": ""
            },
            "colorscale": [
             [
              0,
              "#0d0887"
             ],
             [
              0.1111111111111111,
              "#46039f"
             ],
             [
              0.2222222222222222,
              "#7201a8"
             ],
             [
              0.3333333333333333,
              "#9c179e"
             ],
             [
              0.4444444444444444,
              "#bd3786"
             ],
             [
              0.5555555555555556,
              "#d8576b"
             ],
             [
              0.6666666666666666,
              "#ed7953"
             ],
             [
              0.7777777777777778,
              "#fb9f3a"
             ],
             [
              0.8888888888888888,
              "#fdca26"
             ],
             [
              1,
              "#f0f921"
             ]
            ],
            "type": "histogram2d"
           }
          ],
          "histogram2dcontour": [
           {
            "colorbar": {
             "outlinewidth": 0,
             "ticks": ""
            },
            "colorscale": [
             [
              0,
              "#0d0887"
             ],
             [
              0.1111111111111111,
              "#46039f"
             ],
             [
              0.2222222222222222,
              "#7201a8"
             ],
             [
              0.3333333333333333,
              "#9c179e"
             ],
             [
              0.4444444444444444,
              "#bd3786"
             ],
             [
              0.5555555555555556,
              "#d8576b"
             ],
             [
              0.6666666666666666,
              "#ed7953"
             ],
             [
              0.7777777777777778,
              "#fb9f3a"
             ],
             [
              0.8888888888888888,
              "#fdca26"
             ],
             [
              1,
              "#f0f921"
             ]
            ],
            "type": "histogram2dcontour"
           }
          ],
          "mesh3d": [
           {
            "colorbar": {
             "outlinewidth": 0,
             "ticks": ""
            },
            "type": "mesh3d"
           }
          ],
          "parcoords": [
           {
            "line": {
             "colorbar": {
              "outlinewidth": 0,
              "ticks": ""
             }
            },
            "type": "parcoords"
           }
          ],
          "pie": [
           {
            "automargin": true,
            "type": "pie"
           }
          ],
          "scatter": [
           {
            "fillpattern": {
             "fillmode": "overlay",
             "size": 10,
             "solidity": 0.2
            },
            "type": "scatter"
           }
          ],
          "scatter3d": [
           {
            "line": {
             "colorbar": {
              "outlinewidth": 0,
              "ticks": ""
             }
            },
            "marker": {
             "colorbar": {
              "outlinewidth": 0,
              "ticks": ""
             }
            },
            "type": "scatter3d"
           }
          ],
          "scattercarpet": [
           {
            "marker": {
             "colorbar": {
              "outlinewidth": 0,
              "ticks": ""
             }
            },
            "type": "scattercarpet"
           }
          ],
          "scattergeo": [
           {
            "marker": {
             "colorbar": {
              "outlinewidth": 0,
              "ticks": ""
             }
            },
            "type": "scattergeo"
           }
          ],
          "scattergl": [
           {
            "marker": {
             "colorbar": {
              "outlinewidth": 0,
              "ticks": ""
             }
            },
            "type": "scattergl"
           }
          ],
          "scattermap": [
           {
            "marker": {
             "colorbar": {
              "outlinewidth": 0,
              "ticks": ""
             }
            },
            "type": "scattermap"
           }
          ],
          "scattermapbox": [
           {
            "marker": {
             "colorbar": {
              "outlinewidth": 0,
              "ticks": ""
             }
            },
            "type": "scattermapbox"
           }
          ],
          "scatterpolar": [
           {
            "marker": {
             "colorbar": {
              "outlinewidth": 0,
              "ticks": ""
             }
            },
            "type": "scatterpolar"
           }
          ],
          "scatterpolargl": [
           {
            "marker": {
             "colorbar": {
              "outlinewidth": 0,
              "ticks": ""
             }
            },
            "type": "scatterpolargl"
           }
          ],
          "scatterternary": [
           {
            "marker": {
             "colorbar": {
              "outlinewidth": 0,
              "ticks": ""
             }
            },
            "type": "scatterternary"
           }
          ],
          "surface": [
           {
            "colorbar": {
             "outlinewidth": 0,
             "ticks": ""
            },
            "colorscale": [
             [
              0,
              "#0d0887"
             ],
             [
              0.1111111111111111,
              "#46039f"
             ],
             [
              0.2222222222222222,
              "#7201a8"
             ],
             [
              0.3333333333333333,
              "#9c179e"
             ],
             [
              0.4444444444444444,
              "#bd3786"
             ],
             [
              0.5555555555555556,
              "#d8576b"
             ],
             [
              0.6666666666666666,
              "#ed7953"
             ],
             [
              0.7777777777777778,
              "#fb9f3a"
             ],
             [
              0.8888888888888888,
              "#fdca26"
             ],
             [
              1,
              "#f0f921"
             ]
            ],
            "type": "surface"
           }
          ],
          "table": [
           {
            "cells": {
             "fill": {
              "color": "#EBF0F8"
             },
             "line": {
              "color": "white"
             }
            },
            "header": {
             "fill": {
              "color": "#C8D4E3"
             },
             "line": {
              "color": "white"
             }
            },
            "type": "table"
           }
          ]
         },
         "layout": {
          "annotationdefaults": {
           "arrowcolor": "#2a3f5f",
           "arrowhead": 0,
           "arrowwidth": 1
          },
          "autotypenumbers": "strict",
          "coloraxis": {
           "colorbar": {
            "outlinewidth": 0,
            "ticks": ""
           }
          },
          "colorscale": {
           "diverging": [
            [
             0,
             "#8e0152"
            ],
            [
             0.1,
             "#c51b7d"
            ],
            [
             0.2,
             "#de77ae"
            ],
            [
             0.3,
             "#f1b6da"
            ],
            [
             0.4,
             "#fde0ef"
            ],
            [
             0.5,
             "#f7f7f7"
            ],
            [
             0.6,
             "#e6f5d0"
            ],
            [
             0.7,
             "#b8e186"
            ],
            [
             0.8,
             "#7fbc41"
            ],
            [
             0.9,
             "#4d9221"
            ],
            [
             1,
             "#276419"
            ]
           ],
           "sequential": [
            [
             0,
             "#0d0887"
            ],
            [
             0.1111111111111111,
             "#46039f"
            ],
            [
             0.2222222222222222,
             "#7201a8"
            ],
            [
             0.3333333333333333,
             "#9c179e"
            ],
            [
             0.4444444444444444,
             "#bd3786"
            ],
            [
             0.5555555555555556,
             "#d8576b"
            ],
            [
             0.6666666666666666,
             "#ed7953"
            ],
            [
             0.7777777777777778,
             "#fb9f3a"
            ],
            [
             0.8888888888888888,
             "#fdca26"
            ],
            [
             1,
             "#f0f921"
            ]
           ],
           "sequentialminus": [
            [
             0,
             "#0d0887"
            ],
            [
             0.1111111111111111,
             "#46039f"
            ],
            [
             0.2222222222222222,
             "#7201a8"
            ],
            [
             0.3333333333333333,
             "#9c179e"
            ],
            [
             0.4444444444444444,
             "#bd3786"
            ],
            [
             0.5555555555555556,
             "#d8576b"
            ],
            [
             0.6666666666666666,
             "#ed7953"
            ],
            [
             0.7777777777777778,
             "#fb9f3a"
            ],
            [
             0.8888888888888888,
             "#fdca26"
            ],
            [
             1,
             "#f0f921"
            ]
           ]
          },
          "colorway": [
           "#636efa",
           "#EF553B",
           "#00cc96",
           "#ab63fa",
           "#FFA15A",
           "#19d3f3",
           "#FF6692",
           "#B6E880",
           "#FF97FF",
           "#FECB52"
          ],
          "font": {
           "color": "#2a3f5f"
          },
          "geo": {
           "bgcolor": "white",
           "lakecolor": "white",
           "landcolor": "#E5ECF6",
           "showlakes": true,
           "showland": true,
           "subunitcolor": "white"
          },
          "hoverlabel": {
           "align": "left"
          },
          "hovermode": "closest",
          "mapbox": {
           "style": "light"
          },
          "paper_bgcolor": "white",
          "plot_bgcolor": "#E5ECF6",
          "polar": {
           "angularaxis": {
            "gridcolor": "white",
            "linecolor": "white",
            "ticks": ""
           },
           "bgcolor": "#E5ECF6",
           "radialaxis": {
            "gridcolor": "white",
            "linecolor": "white",
            "ticks": ""
           }
          },
          "scene": {
           "xaxis": {
            "backgroundcolor": "#E5ECF6",
            "gridcolor": "white",
            "gridwidth": 2,
            "linecolor": "white",
            "showbackground": true,
            "ticks": "",
            "zerolinecolor": "white"
           },
           "yaxis": {
            "backgroundcolor": "#E5ECF6",
            "gridcolor": "white",
            "gridwidth": 2,
            "linecolor": "white",
            "showbackground": true,
            "ticks": "",
            "zerolinecolor": "white"
           },
           "zaxis": {
            "backgroundcolor": "#E5ECF6",
            "gridcolor": "white",
            "gridwidth": 2,
            "linecolor": "white",
            "showbackground": true,
            "ticks": "",
            "zerolinecolor": "white"
           }
          },
          "shapedefaults": {
           "line": {
            "color": "#2a3f5f"
           }
          },
          "ternary": {
           "aaxis": {
            "gridcolor": "white",
            "linecolor": "white",
            "ticks": ""
           },
           "baxis": {
            "gridcolor": "white",
            "linecolor": "white",
            "ticks": ""
           },
           "bgcolor": "#E5ECF6",
           "caxis": {
            "gridcolor": "white",
            "linecolor": "white",
            "ticks": ""
           }
          },
          "title": {
           "x": 0.05
          },
          "xaxis": {
           "automargin": true,
           "gridcolor": "white",
           "linecolor": "white",
           "ticks": "",
           "title": {
            "standoff": 15
           },
           "zerolinecolor": "white",
           "zerolinewidth": 2
          },
          "yaxis": {
           "automargin": true,
           "gridcolor": "white",
           "linecolor": "white",
           "ticks": "",
           "title": {
            "standoff": 15
           },
           "zerolinecolor": "white",
           "zerolinewidth": 2
          }
         }
        },
        "title": {
         "text": "Sugar"
        }
       }
      }
     },
     "metadata": {},
     "output_type": "display_data"
    },
    {
     "data": {
      "application/vnd.plotly.v1+json": {
       "config": {
        "plotlyServerURL": "https://plot.ly"
       },
       "data": [
        {
         "link": {
          "source": {
           "bdata": "AAAAAAAAAAEBAQEBAQECAgICAgICAwMDAwMDAwQEBAQEBAQFBQUFBQUFBgYGBgYGBg==",
           "dtype": "i1"
          },
          "target": {
           "bdata": "BwgJCgsMDQcICQoLDA0HCAkKCwwNBwgJCgsMDQcICQoLDA0HCAkKCwwNBwgJCgsMDQ==",
           "dtype": "i1"
          },
          "value": [
           56.05,
           0,
           0,
           23.1,
           50.57,
           0,
           22.05,
           39.97,
           152.61,
           136.61,
           5.54,
           33.2,
           108.65,
           3.35,
           48.41,
           147.14,
           141.46,
           12.84,
           42.18,
           116.47,
           11.8,
           0,
           139.06,
           132.96,
           0,
           0,
           0,
           0,
           56.6,
           129.89,
           147.12,
           26.43,
           49.4,
           113.23,
           25.38,
           53.02,
           0,
           143.48,
           17.46,
           48.6,
           120.63,
           16.42,
           0,
           0,
           0,
           0,
           46.94,
           121.28,
           0
          ]
         },
         "node": {
          "label": [
           "Aleppo",
           "Amman",
           "Beirut",
           "Damascus",
           "Gaziantep",
           "Hama",
           "Homs",
           "Ar Raqqa",
           "Dara",
           "Dayr Az Zor",
           "Hassakeh",
           "Idleb",
           "Jubb al Jarrah",
           "Qamishli"
          ]
         },
         "type": "sankey"
        }
       ],
       "layout": {
        "template": {
         "data": {
          "bar": [
           {
            "error_x": {
             "color": "#2a3f5f"
            },
            "error_y": {
             "color": "#2a3f5f"
            },
            "marker": {
             "line": {
              "color": "#E5ECF6",
              "width": 0.5
             },
             "pattern": {
              "fillmode": "overlay",
              "size": 10,
              "solidity": 0.2
             }
            },
            "type": "bar"
           }
          ],
          "barpolar": [
           {
            "marker": {
             "line": {
              "color": "#E5ECF6",
              "width": 0.5
             },
             "pattern": {
              "fillmode": "overlay",
              "size": 10,
              "solidity": 0.2
             }
            },
            "type": "barpolar"
           }
          ],
          "carpet": [
           {
            "aaxis": {
             "endlinecolor": "#2a3f5f",
             "gridcolor": "white",
             "linecolor": "white",
             "minorgridcolor": "white",
             "startlinecolor": "#2a3f5f"
            },
            "baxis": {
             "endlinecolor": "#2a3f5f",
             "gridcolor": "white",
             "linecolor": "white",
             "minorgridcolor": "white",
             "startlinecolor": "#2a3f5f"
            },
            "type": "carpet"
           }
          ],
          "choropleth": [
           {
            "colorbar": {
             "outlinewidth": 0,
             "ticks": ""
            },
            "type": "choropleth"
           }
          ],
          "contour": [
           {
            "colorbar": {
             "outlinewidth": 0,
             "ticks": ""
            },
            "colorscale": [
             [
              0,
              "#0d0887"
             ],
             [
              0.1111111111111111,
              "#46039f"
             ],
             [
              0.2222222222222222,
              "#7201a8"
             ],
             [
              0.3333333333333333,
              "#9c179e"
             ],
             [
              0.4444444444444444,
              "#bd3786"
             ],
             [
              0.5555555555555556,
              "#d8576b"
             ],
             [
              0.6666666666666666,
              "#ed7953"
             ],
             [
              0.7777777777777778,
              "#fb9f3a"
             ],
             [
              0.8888888888888888,
              "#fdca26"
             ],
             [
              1,
              "#f0f921"
             ]
            ],
            "type": "contour"
           }
          ],
          "contourcarpet": [
           {
            "colorbar": {
             "outlinewidth": 0,
             "ticks": ""
            },
            "type": "contourcarpet"
           }
          ],
          "heatmap": [
           {
            "colorbar": {
             "outlinewidth": 0,
             "ticks": ""
            },
            "colorscale": [
             [
              0,
              "#0d0887"
             ],
             [
              0.1111111111111111,
              "#46039f"
             ],
             [
              0.2222222222222222,
              "#7201a8"
             ],
             [
              0.3333333333333333,
              "#9c179e"
             ],
             [
              0.4444444444444444,
              "#bd3786"
             ],
             [
              0.5555555555555556,
              "#d8576b"
             ],
             [
              0.6666666666666666,
              "#ed7953"
             ],
             [
              0.7777777777777778,
              "#fb9f3a"
             ],
             [
              0.8888888888888888,
              "#fdca26"
             ],
             [
              1,
              "#f0f921"
             ]
            ],
            "type": "heatmap"
           }
          ],
          "histogram": [
           {
            "marker": {
             "pattern": {
              "fillmode": "overlay",
              "size": 10,
              "solidity": 0.2
             }
            },
            "type": "histogram"
           }
          ],
          "histogram2d": [
           {
            "colorbar": {
             "outlinewidth": 0,
             "ticks": ""
            },
            "colorscale": [
             [
              0,
              "#0d0887"
             ],
             [
              0.1111111111111111,
              "#46039f"
             ],
             [
              0.2222222222222222,
              "#7201a8"
             ],
             [
              0.3333333333333333,
              "#9c179e"
             ],
             [
              0.4444444444444444,
              "#bd3786"
             ],
             [
              0.5555555555555556,
              "#d8576b"
             ],
             [
              0.6666666666666666,
              "#ed7953"
             ],
             [
              0.7777777777777778,
              "#fb9f3a"
             ],
             [
              0.8888888888888888,
              "#fdca26"
             ],
             [
              1,
              "#f0f921"
             ]
            ],
            "type": "histogram2d"
           }
          ],
          "histogram2dcontour": [
           {
            "colorbar": {
             "outlinewidth": 0,
             "ticks": ""
            },
            "colorscale": [
             [
              0,
              "#0d0887"
             ],
             [
              0.1111111111111111,
              "#46039f"
             ],
             [
              0.2222222222222222,
              "#7201a8"
             ],
             [
              0.3333333333333333,
              "#9c179e"
             ],
             [
              0.4444444444444444,
              "#bd3786"
             ],
             [
              0.5555555555555556,
              "#d8576b"
             ],
             [
              0.6666666666666666,
              "#ed7953"
             ],
             [
              0.7777777777777778,
              "#fb9f3a"
             ],
             [
              0.8888888888888888,
              "#fdca26"
             ],
             [
              1,
              "#f0f921"
             ]
            ],
            "type": "histogram2dcontour"
           }
          ],
          "mesh3d": [
           {
            "colorbar": {
             "outlinewidth": 0,
             "ticks": ""
            },
            "type": "mesh3d"
           }
          ],
          "parcoords": [
           {
            "line": {
             "colorbar": {
              "outlinewidth": 0,
              "ticks": ""
             }
            },
            "type": "parcoords"
           }
          ],
          "pie": [
           {
            "automargin": true,
            "type": "pie"
           }
          ],
          "scatter": [
           {
            "fillpattern": {
             "fillmode": "overlay",
             "size": 10,
             "solidity": 0.2
            },
            "type": "scatter"
           }
          ],
          "scatter3d": [
           {
            "line": {
             "colorbar": {
              "outlinewidth": 0,
              "ticks": ""
             }
            },
            "marker": {
             "colorbar": {
              "outlinewidth": 0,
              "ticks": ""
             }
            },
            "type": "scatter3d"
           }
          ],
          "scattercarpet": [
           {
            "marker": {
             "colorbar": {
              "outlinewidth": 0,
              "ticks": ""
             }
            },
            "type": "scattercarpet"
           }
          ],
          "scattergeo": [
           {
            "marker": {
             "colorbar": {
              "outlinewidth": 0,
              "ticks": ""
             }
            },
            "type": "scattergeo"
           }
          ],
          "scattergl": [
           {
            "marker": {
             "colorbar": {
              "outlinewidth": 0,
              "ticks": ""
             }
            },
            "type": "scattergl"
           }
          ],
          "scattermap": [
           {
            "marker": {
             "colorbar": {
              "outlinewidth": 0,
              "ticks": ""
             }
            },
            "type": "scattermap"
           }
          ],
          "scattermapbox": [
           {
            "marker": {
             "colorbar": {
              "outlinewidth": 0,
              "ticks": ""
             }
            },
            "type": "scattermapbox"
           }
          ],
          "scatterpolar": [
           {
            "marker": {
             "colorbar": {
              "outlinewidth": 0,
              "ticks": ""
             }
            },
            "type": "scatterpolar"
           }
          ],
          "scatterpolargl": [
           {
            "marker": {
             "colorbar": {
              "outlinewidth": 0,
              "ticks": ""
             }
            },
            "type": "scatterpolargl"
           }
          ],
          "scatterternary": [
           {
            "marker": {
             "colorbar": {
              "outlinewidth": 0,
              "ticks": ""
             }
            },
            "type": "scatterternary"
           }
          ],
          "surface": [
           {
            "colorbar": {
             "outlinewidth": 0,
             "ticks": ""
            },
            "colorscale": [
             [
              0,
              "#0d0887"
             ],
             [
              0.1111111111111111,
              "#46039f"
             ],
             [
              0.2222222222222222,
              "#7201a8"
             ],
             [
              0.3333333333333333,
              "#9c179e"
             ],
             [
              0.4444444444444444,
              "#bd3786"
             ],
             [
              0.5555555555555556,
              "#d8576b"
             ],
             [
              0.6666666666666666,
              "#ed7953"
             ],
             [
              0.7777777777777778,
              "#fb9f3a"
             ],
             [
              0.8888888888888888,
              "#fdca26"
             ],
             [
              1,
              "#f0f921"
             ]
            ],
            "type": "surface"
           }
          ],
          "table": [
           {
            "cells": {
             "fill": {
              "color": "#EBF0F8"
             },
             "line": {
              "color": "white"
             }
            },
            "header": {
             "fill": {
              "color": "#C8D4E3"
             },
             "line": {
              "color": "white"
             }
            },
            "type": "table"
           }
          ]
         },
         "layout": {
          "annotationdefaults": {
           "arrowcolor": "#2a3f5f",
           "arrowhead": 0,
           "arrowwidth": 1
          },
          "autotypenumbers": "strict",
          "coloraxis": {
           "colorbar": {
            "outlinewidth": 0,
            "ticks": ""
           }
          },
          "colorscale": {
           "diverging": [
            [
             0,
             "#8e0152"
            ],
            [
             0.1,
             "#c51b7d"
            ],
            [
             0.2,
             "#de77ae"
            ],
            [
             0.3,
             "#f1b6da"
            ],
            [
             0.4,
             "#fde0ef"
            ],
            [
             0.5,
             "#f7f7f7"
            ],
            [
             0.6,
             "#e6f5d0"
            ],
            [
             0.7,
             "#b8e186"
            ],
            [
             0.8,
             "#7fbc41"
            ],
            [
             0.9,
             "#4d9221"
            ],
            [
             1,
             "#276419"
            ]
           ],
           "sequential": [
            [
             0,
             "#0d0887"
            ],
            [
             0.1111111111111111,
             "#46039f"
            ],
            [
             0.2222222222222222,
             "#7201a8"
            ],
            [
             0.3333333333333333,
             "#9c179e"
            ],
            [
             0.4444444444444444,
             "#bd3786"
            ],
            [
             0.5555555555555556,
             "#d8576b"
            ],
            [
             0.6666666666666666,
             "#ed7953"
            ],
            [
             0.7777777777777778,
             "#fb9f3a"
            ],
            [
             0.8888888888888888,
             "#fdca26"
            ],
            [
             1,
             "#f0f921"
            ]
           ],
           "sequentialminus": [
            [
             0,
             "#0d0887"
            ],
            [
             0.1111111111111111,
             "#46039f"
            ],
            [
             0.2222222222222222,
             "#7201a8"
            ],
            [
             0.3333333333333333,
             "#9c179e"
            ],
            [
             0.4444444444444444,
             "#bd3786"
            ],
            [
             0.5555555555555556,
             "#d8576b"
            ],
            [
             0.6666666666666666,
             "#ed7953"
            ],
            [
             0.7777777777777778,
             "#fb9f3a"
            ],
            [
             0.8888888888888888,
             "#fdca26"
            ],
            [
             1,
             "#f0f921"
            ]
           ]
          },
          "colorway": [
           "#636efa",
           "#EF553B",
           "#00cc96",
           "#ab63fa",
           "#FFA15A",
           "#19d3f3",
           "#FF6692",
           "#B6E880",
           "#FF97FF",
           "#FECB52"
          ],
          "font": {
           "color": "#2a3f5f"
          },
          "geo": {
           "bgcolor": "white",
           "lakecolor": "white",
           "landcolor": "#E5ECF6",
           "showlakes": true,
           "showland": true,
           "subunitcolor": "white"
          },
          "hoverlabel": {
           "align": "left"
          },
          "hovermode": "closest",
          "mapbox": {
           "style": "light"
          },
          "paper_bgcolor": "white",
          "plot_bgcolor": "#E5ECF6",
          "polar": {
           "angularaxis": {
            "gridcolor": "white",
            "linecolor": "white",
            "ticks": ""
           },
           "bgcolor": "#E5ECF6",
           "radialaxis": {
            "gridcolor": "white",
            "linecolor": "white",
            "ticks": ""
           }
          },
          "scene": {
           "xaxis": {
            "backgroundcolor": "#E5ECF6",
            "gridcolor": "white",
            "gridwidth": 2,
            "linecolor": "white",
            "showbackground": true,
            "ticks": "",
            "zerolinecolor": "white"
           },
           "yaxis": {
            "backgroundcolor": "#E5ECF6",
            "gridcolor": "white",
            "gridwidth": 2,
            "linecolor": "white",
            "showbackground": true,
            "ticks": "",
            "zerolinecolor": "white"
           },
           "zaxis": {
            "backgroundcolor": "#E5ECF6",
            "gridcolor": "white",
            "gridwidth": 2,
            "linecolor": "white",
            "showbackground": true,
            "ticks": "",
            "zerolinecolor": "white"
           }
          },
          "shapedefaults": {
           "line": {
            "color": "#2a3f5f"
           }
          },
          "ternary": {
           "aaxis": {
            "gridcolor": "white",
            "linecolor": "white",
            "ticks": ""
           },
           "baxis": {
            "gridcolor": "white",
            "linecolor": "white",
            "ticks": ""
           },
           "bgcolor": "#E5ECF6",
           "caxis": {
            "gridcolor": "white",
            "linecolor": "white",
            "ticks": ""
           }
          },
          "title": {
           "x": 0.05
          },
          "xaxis": {
           "automargin": true,
           "gridcolor": "white",
           "linecolor": "white",
           "ticks": "",
           "title": {
            "standoff": 15
           },
           "zerolinecolor": "white",
           "zerolinewidth": 2
          },
          "yaxis": {
           "automargin": true,
           "gridcolor": "white",
           "linecolor": "white",
           "ticks": "",
           "title": {
            "standoff": 15
           },
           "zerolinecolor": "white",
           "zerolinewidth": 2
          }
         }
        },
        "title": {
         "text": "Wheat flour"
        }
       }
      }
     },
     "metadata": {},
     "output_type": "display_data"
    }
   ],
   "source": [
    "for f in nutrition.index:\n",
    "    value = [solution.x[i] # type: ignore\n",
    "             for i, (food, origin, destination) in enumerate(shipping_index) if food == f]\n",
    "    fig = go.Figure(go.Sankey(node={'label': factors[1]},\n",
    "                              link={'source': source,\n",
    "                                    'target': target,\n",
    "                                    'value': [round(v, 2) for v in value]}))\n",
    "    fig.update_layout(title_text=f)\n",
    "    fig.show()"
   ]
  }
 ],
 "metadata": {
  "kernelspec": {
   "display_name": "dev1",
   "language": "python",
   "name": "python3"
  },
  "language_info": {
   "codemirror_mode": {
    "name": "ipython",
    "version": 3
   },
   "file_extension": ".py",
   "mimetype": "text/x-python",
   "name": "python",
   "nbconvert_exporter": "python",
   "pygments_lexer": "ipython3",
   "version": "3.13.3"
  }
 },
 "nbformat": 4,
 "nbformat_minor": 4
}
