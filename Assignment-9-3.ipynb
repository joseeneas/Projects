{
 "cells": [
  {
   "cell_type": "code",
   "execution_count": 1,
   "metadata": {},
   "outputs": [],
   "source": [
    "import numpy  as np  # type: ignore\n",
    "import pandas as pd # type: ignore\n",
    "from scipy.optimize import linprog # type: ignore"
   ]
  },
  {
   "cell_type": "code",
   "execution_count": 2,
   "metadata": {},
   "outputs": [],
   "source": [
    "suppliers      = [\"Ashley\", \n",
    "                  \"Bedford\", \n",
    "                  \"Consol\", \n",
    "                  \"Dunby\", \n",
    "                  \"Earlam\", \n",
    "                  \"Florence\", \n",
    "                  \"Gaston\", \n",
    "                  \"Hopt\"]\n",
    "price          = [49.5, 50.0, \n",
    "                  61.0, 63.5, \n",
    "                  66.5, 71.0, \n",
    "                  72.5, 80.0]  # Cost per ton\n",
    "is_union       = [1, 1, 0, 1, 0, 1, 0, 0]                          # Union mine: 1 = Yes, 0 = No\n",
    "transport_mode = [\"Rail\", \"Truck\", \n",
    "                  \"Rail\", \"Truck\", \n",
    "                  \"Truck\", \"Truck\", \n",
    "                  \"Rail\", \"Rail\"]\n",
    "volatility     = [15, 16, 18, 20, 21, 22, 23, 25]                  # Volatility percent\n",
    "capacity       = [300, 600, 510, 655, 575, 680, 450, 490]          # Max tons each supplier can deliver\n"
   ]
  },
  {
   "cell_type": "code",
   "execution_count": null,
   "metadata": {},
   "outputs": [],
   "source": [
    "c    = price\n",
    "A_eq = [[1] * 8]\n",
    "b_eq = [1225]\n",
    "A_ub = []\n",
    "b_ub = []\n",
    "A_ub.append([-v for v in volatility])\n",
    "b_ub.append(-232.75)\n",
    "A_ub.append([-u for u in is_union])\n",
    "b_ub.append(-612.5)\n",
    "A_ub.append([1 if m == \"Rail\" else 0 for m in transport_mode])\n",
    "b_ub.append(650)"
   ]
  },
  {
   "cell_type": "code",
   "execution_count": 4,
   "metadata": {},
   "outputs": [],
   "source": [
    "A_ub.append([1 if m == \"Truck\" else 0 for m in transport_mode])\n",
    "b_ub.append(720)\n",
    "bounds = [(0, cap) for cap in capacity]"
   ]
  },
  {
   "cell_type": "code",
   "execution_count": 5,
   "metadata": {},
   "outputs": [
    {
     "name": "stdout",
     "output_type": "stream",
     "text": [
      "Running optimization...\n"
     ]
    }
   ],
   "source": [
    "print(\"Running optimization...\")\n",
    "result = linprog(c=c, A_ub=A_ub, \n",
    "                      b_ub=b_ub, \n",
    "                      A_eq=A_eq, \n",
    "                      b_eq=b_eq,\n",
    "                      bounds=bounds, \n",
    "                      method='highs')"
   ]
  },
  {
   "cell_type": "code",
   "execution_count": null,
   "metadata": {},
   "outputs": [
    {
     "name": "stdout",
     "output_type": "stream",
     "text": [
      "\n",
      "Optimal Purchase Plan:\n",
      "Supplier  Price  Purchased (mtons)    Cost\n",
      "  Ashley   49.5              300.0 14850.0\n",
      " Bedford   50.0              600.0 30000.0\n",
      "  Consol   61.0              325.0 19825.0\n",
      "   Dunby   63.5                0.0     0.0\n",
      "  Earlam   66.5                0.0     0.0\n",
      "Florence   71.0                0.0     0.0\n",
      "  Gaston   72.5                0.0     0.0\n",
      "    Hopt   80.0                0.0     0.0\n",
      "\n",
      "Total Cost          : $64,675.00\n",
      "Average Cost per Ton: $52.80\n"
     ]
    }
   ],
   "source": [
    "if result.success:\n",
    "    purchased    = result.x\n",
    "    total_cost   = np.dot(purchased, price)\n",
    "    average_cost = total_cost / 1225\n",
    "    df = pd.DataFrame({\n",
    "        \"Supplier\": suppliers,\n",
    "        \"Price\": price,\n",
    "        \"Purchased (mtons)\": purchased,\n",
    "        \"Cost\": [p * x for p, x in zip(price, purchased)]\n",
    "    })\n",
    "    print(\"\\nOptimal Purchase Plan:\")\n",
    "    print(df.round(2).to_string(index=False))\n",
    "    print(f\"\\nTotal Cost          : ${total_cost:,.2f}\")\n",
    "    print(f\"Average Cost per Ton: ${average_cost:.2f}\")\n",
    "else:\n",
    "    print(\"Optimization failed:\", result.message)"
   ]
  }
 ],
 "metadata": {
  "kernelspec": {
   "display_name": "eneas",
   "language": "python",
   "name": "python3"
  },
  "language_info": {
   "codemirror_mode": {
    "name": "ipython",
    "version": 3
   },
   "file_extension": ".py",
   "mimetype": "text/x-python",
   "name": "python",
   "nbconvert_exporter": "python",
   "pygments_lexer": "ipython3",
   "version": "3.13.2"
  }
 },
 "nbformat": 4,
 "nbformat_minor": 2
}
