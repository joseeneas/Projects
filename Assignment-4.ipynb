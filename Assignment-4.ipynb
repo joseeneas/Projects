{
 "cells": [
  {
   "cell_type": "markdown",
   "metadata": {
    "deletable": false,
    "editable": false,
    "nbgrader": {
     "checksum": "4ba799efd73f09901a4f692b520c43f6",
     "grade": false,
     "grade_id": "cell-efbddbc90ff8db80",
     "locked": true,
     "schema_version": 1,
     "solution": false
    }
   },
   "source": [
    "#### Start by loading the following data into a pandas Dataframe. This data will represent Airline Customer accounts with the first column being how many months the account has been active and the second column being the Account balanced measured in points. Start by displaying the head of the dataframe.  "
   ]
  },
  {
   "cell_type": "code",
   "execution_count": null,
   "metadata": {
    "deletable": false,
    "editable": false,
    "nbgrader": {
     "checksum": "038e911a29ce60cd87bf28e3840777c8",
     "grade": false,
     "grade_id": "cell-d95cfe2bcdd43844",
     "locked": true,
     "schema_version": 1,
     "solution": false
    }
   },
   "outputs": [],
   "source": [
    "import pandas as pd # type: ignore\n",
    "import numpy as np # type: ignore # type: ignore\n",
    "import warnings \n",
    "import matplotlib.pyplot as plot # type: ignore\n",
    "import seaborn as sns # type: ignore\n",
    "import plotly.express as pxp # type: ignore\n",
    "import plotly.graph_objs as gph # type: ignore\n",
    "from sklearn import metrics # type: ignore\n",
    "from sklearn.metrics import silhouette_score # type: ignore\n",
    "from sklearn.cluster import KMeans # type: ignore\n",
    "import matplotlib.pyplot as plt # type: ignore\n",
    "warnings.simplefilter(action=\"ignore\", category=UserWarning)\n",
    "warnings.simplefilter(action=\"ignore\", category=FutureWarning)\n",
    "  \n",
    "# create data\n",
    "data = pd.DataFrame([\n",
    "[60,41000],\n",
    "[61,46000],\n",
    "[62,49000],\n",
    "[63,39000],\n",
    "[62,45000],\n",
    "[61,50000],\n",
    "[60,46000],\n",
    "[50,76000],\n",
    "[57,82000],\n",
    "[60,58000],\n",
    "[55,80000],\n",
    "[54,81000],\n",
    "[57,84000],\n",
    "[53,81000],\n",
    "[32,90000],\n",
    "[36,86000],\n",
    "[39,90000],\n",
    "[31,91000],\n",
    "[37,85000],\n",
    "[39,88000]],\n",
    "    columns=['AccountAge', 'CurrentMileageBalance'])\n",
    "data"
   ]
  },
  {
   "cell_type": "markdown",
   "metadata": {
    "deletable": false,
    "editable": false,
    "nbgrader": {
     "checksum": "3ff46fde8ed8500fd69a9ef2af7d4a07",
     "grade": false,
     "grade_id": "cell-56e89434f3ffc000",
     "locked": true,
     "schema_version": 1,
     "solution": false
    }
   },
   "source": [
    "#### Next, show the distribution of the account age and balance using Seaborn's distplot function. Hint: plot each column of data. "
   ]
  },
  {
   "cell_type": "code",
   "execution_count": null,
   "metadata": {
    "deletable": false,
    "nbgrader": {
     "checksum": "df5b3b6927e64530f5b073afcc69f737",
     "grade": false,
     "grade_id": "cell-883dee0533aa4d16",
     "locked": false,
     "schema_version": 1,
     "solution": true
    }
   },
   "outputs": [],
   "source": [
    "plot.figure(figsize = (22, 10))\n",
    "plotnum = 1\n",
    "# how to ignore FutureWarning\n",
    "\n",
    "for cols in ['AccountAge', 'CurrentMileageBalance']:\n",
    "    if plotnum <= 2:\n",
    "        plot.subplot(1, 3, plotnum)\n",
    "        sns.distplot(data[cols])\n",
    "        \n",
    "    plotnum += 1\n",
    "\n",
    "plot.tight_layout()\n",
    "plot.show()"
   ]
  },
  {
   "cell_type": "markdown",
   "metadata": {
    "deletable": false,
    "editable": false,
    "nbgrader": {
     "checksum": "16eab8b576e916a74099e05447d21aa4",
     "grade": false,
     "grade_id": "cell-4ccea08d68abeadd",
     "locked": true,
     "schema_version": 1,
     "solution": false
    }
   },
   "source": [
    "#### Next, create a bar graph to show the distribution of account ages given the provided ranges. "
   ]
  },
  {
   "cell_type": "code",
   "execution_count": null,
   "metadata": {
    "deletable": false,
    "nbgrader": {
     "checksum": "a834882458c39e37c9b63f34bb89846b",
     "grade": false,
     "grade_id": "cell-ec4d86981ef2ba13",
     "locked": false,
     "schema_version": 1,
     "solution": true
    }
   },
   "outputs": [],
   "source": [
    "time_above_71 = data.AccountAge[data.AccountAge >= 71]\n",
    "time_56_70 = data.AccountAge[(data.AccountAge >= 56) & (data.AccountAge <= 70)]\n",
    "time_41_55 = data.AccountAge[(data.AccountAge >= 46) & (data.AccountAge <= 55)]\n",
    "time_26_40 = data.AccountAge[(data.AccountAge >= 26) & (data.AccountAge <= 40)]\n",
    "time_0_25 = data.AccountAge[(data.AccountAge >= 0) & (data.AccountAge <= 25)]\n",
    "\n",
    "x_age_ax = ['0-25', '26-40', '41-55', '56-70', '71+']\n",
    "y_age_ax = [len(time_0_25.values), len(time_26_40.values), len(time_41_55.values), \n",
    "            len(time_56_70.values), len(time_above_71.values)]\n",
    "\n",
    "pxp.bar(data_frame = data, x = x_age_ax, y = y_age_ax, color = x_age_ax,\n",
    "       title = 'Count of Accounts by Age (Months)')"
   ]
  },
  {
   "cell_type": "markdown",
   "metadata": {
    "deletable": false,
    "editable": false,
    "nbgrader": {
     "checksum": "6b29f7ad19ca53b439f3ed86fcd15aa5",
     "grade": false,
     "grade_id": "cell-0aa1c25942757810",
     "locked": true,
     "schema_version": 1,
     "solution": false
    }
   },
   "source": [
    "### Next, use the elbow method to visualize desired K value. Hint: check K in range 1 through 12. Set random_state=0."
   ]
  },
  {
   "cell_type": "code",
   "execution_count": null,
   "metadata": {
    "deletable": false,
    "nbgrader": {
     "checksum": "98129dc3aeedaec1cba5daa6b53157d8",
     "grade": false,
     "grade_id": "cell-cfe1d12a54067ce1",
     "locked": false,
     "schema_version": 1,
     "solution": true
    }
   },
   "outputs": [],
   "source": [
    "from sklearn.cluster import KMeans # type: ignore\n",
    "x_input = data.loc[:, ['AccountAge', 'CurrentMileageBalance']].values\n",
    "\n",
    "\n",
    "wcss = []\n",
    "\n",
    "# set random_state=0 in KMeans()\n",
    "# use the elbow method to visualize desired K value. Hint: check K in range 1 through 12. Set random_state=0.\n",
    "for i in range(1, 12):\n",
    "    kmeans = KMeans(n_clusters=i, random_state=0)\n",
    "    kmeans.fit(x_input)\n",
    "    wcss.append(kmeans.inertia_)\n",
    "\n",
    "# Code below used for plotting the graph and grading. Do not change\n",
    "plot.figure(figsize=(15,8))\n",
    "\n",
    "plot.plot(range(1, 12), wcss, linewidth=2, marker='8')\n",
    "plot.title('Elbow method\\n', fontsize=18)\n",
    "plot.xlabel('K')\n",
    "plot.ylabel('WCSS')\n",
    "ax = plot.gca() # get axis handle\n",
    "line = ax.get_lines()[0]\n",
    "xydata = line.get_xydata()\n",
    "plot.show()\n"
   ]
  },
  {
   "cell_type": "markdown",
   "metadata": {
    "deletable": false,
    "editable": false,
    "nbgrader": {
     "checksum": "0108867d85156fe2209aff1ca17f5736",
     "grade": false,
     "grade_id": "cell-2ab91a1e0f7fd2d4",
     "locked": true,
     "schema_version": 1,
     "solution": false
    }
   },
   "source": [
    "### Display the matrix which holds the cluster center coordinate points. "
   ]
  },
  {
   "cell_type": "code",
   "execution_count": null,
   "metadata": {
    "deletable": false,
    "nbgrader": {
     "checksum": "f1c20a0d203737ec285ec75e189d6280",
     "grade": false,
     "grade_id": "cell-591f67fc3c507a44",
     "locked": false,
     "schema_version": 1,
     "solution": true
    }
   },
   "outputs": [],
   "source": [
    "k_means=KMeans(n_clusters=3, random_state=0)\n",
    "\n",
    "# Display the matrix which holds the cluster center coordinate points. \n",
    "k_means.fit(x_input)\n",
    "print(k_means.cluster_centers_)\n",
    "\n",
    "#USED FOR GRADING -- DO NOT CHANGE\n",
    "ClusterCenters = k_means.cluster_centers_"
   ]
  },
  {
   "cell_type": "markdown",
   "metadata": {
    "deletable": false,
    "editable": false,
    "nbgrader": {
     "checksum": "330bea4c150b79f25ee3c0d97fac062c",
     "grade": false,
     "grade_id": "cell-052a8b2d1c072b86",
     "locked": true,
     "schema_version": 1,
     "solution": false
    }
   },
   "source": [
    "### Now display the Cluster graph"
   ]
  },
  {
   "cell_type": "code",
   "execution_count": null,
   "metadata": {
    "deletable": false,
    "nbgrader": {
     "checksum": "afbae361799ad7341c96c8f5b10d239c",
     "grade": false,
     "grade_id": "cell-cc5a24c8b61bddae",
     "locked": false,
     "schema_version": 1,
     "solution": true
    }
   },
   "outputs": [],
   "source": [
    "import numpy as np # type: ignore\n",
    "from sklearn.preprocessing import StandardScaler # type: ignore\n",
    "plot.figure(figsize = (16, 10))\n",
    "\n",
    "# YOUR CODE HERE\n",
    "# display the Cluster graph\n",
    "\n",
    "plot.scatter(x_input[:, 0], x_input[:, 1], c = k_means.labels_, s = 105)\n",
    "fig = plot.scatter(k_means.cluster_centers_[:, 0],k_means.cluster_centers_[:, 1], color = 'red', s = 250)\n",
    "\n",
    "points = fig.get_offsets()\n"
   ]
  }
 ],
 "metadata": {
  "kernelspec": {
   "display_name": "eneas",
   "language": "python",
   "name": "python3"
  },
  "language_info": {
   "codemirror_mode": {
    "name": "ipython",
    "version": 3
   },
   "file_extension": ".py",
   "mimetype": "text/x-python",
   "name": "python",
   "nbconvert_exporter": "python",
   "pygments_lexer": "ipython3",
   "version": "3.13.2"
  }
 },
 "nbformat": 4,
 "nbformat_minor": 4
}
