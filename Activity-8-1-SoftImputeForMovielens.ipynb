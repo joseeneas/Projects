{
 "cells": [
  {
   "cell_type": "markdown",
   "id": "b3c46e94",
   "metadata": {
    "id": "b3c46e94"
   },
   "source": [
    "#  The MovieLens Dataset\n",
    "\n",
    "[MovieLens](https://movielens.org/) is a non-commercial web-based movie recommender system, created in 1997 by GroupLens, a research lab at the University of Minnesota, in order to gather movie rating data for research purposes.\n",
    "\n",
    "\n",
    "## Getting the Data\n",
    "\n",
    "\n",
    "The MovieLens dataset is hosted by the [GroupLens](https://grouplens.org/datasets/movielens/) website. Several versions are available. We will use the latest smallest dataset released from [link](https://files.grouplens.org/datasets/movielens/ml-latest-small.zip).\n",
    "\n",
    "## Custom Code\n",
    "\n",
    "The custom packages; soft_impute and functionsCF will need to be installed"
   ]
  },
  {
   "cell_type": "code",
   "execution_count": 1,
   "id": "f5x_KMp8fpxo",
   "metadata": {
    "colab": {
     "base_uri": "https://localhost:8080/"
    },
    "executionInfo": {
     "elapsed": 26450,
     "status": "ok",
     "timestamp": 1742060966646,
     "user": {
      "displayName": "Jose Eneas Da Silva Maria",
      "userId": "05457363209835800857"
     },
     "user_tz": 240
    },
    "id": "f5x_KMp8fpxo",
    "outputId": "b4da9cf0-893d-40f5-eaf7-59daa71363cb"
   },
   "outputs": [
    {
     "name": "stdout",
     "output_type": "stream",
     "text": [
      "Requirement already satisfied: numpy in /opt/anaconda3/envs/eneas/lib/python3.13/site-packages (2.2.2)\n",
      "Note: you may need to restart the kernel to use updated packages.\n",
      "Requirement already satisfied: pandas in /opt/anaconda3/envs/eneas/lib/python3.13/site-packages (2.2.3)\n",
      "Requirement already satisfied: numpy>=1.26.0 in /opt/anaconda3/envs/eneas/lib/python3.13/site-packages (from pandas) (2.2.2)\n",
      "Requirement already satisfied: python-dateutil>=2.8.2 in /opt/anaconda3/envs/eneas/lib/python3.13/site-packages (from pandas) (2.9.0.post0)\n",
      "Requirement already satisfied: pytz>=2020.1 in /opt/anaconda3/envs/eneas/lib/python3.13/site-packages (from pandas) (2024.1)\n",
      "Requirement already satisfied: tzdata>=2022.7 in /opt/anaconda3/envs/eneas/lib/python3.13/site-packages (from pandas) (2023.3)\n",
      "Requirement already satisfied: six>=1.5 in /opt/anaconda3/envs/eneas/lib/python3.13/site-packages (from python-dateutil>=2.8.2->pandas) (1.17.0)\n",
      "Note: you may need to restart the kernel to use updated packages.\n",
      "Requirement already satisfied: fancyimpute in /opt/anaconda3/envs/eneas/lib/python3.13/site-packages (0.7.0)\n",
      "Requirement already satisfied: knnimpute>=0.1.0 in /opt/anaconda3/envs/eneas/lib/python3.13/site-packages (from fancyimpute) (0.1.0)\n",
      "Requirement already satisfied: scikit-learn>=0.24.2 in /opt/anaconda3/envs/eneas/lib/python3.13/site-packages (from fancyimpute) (1.6.1)\n",
      "Requirement already satisfied: cvxpy in /opt/anaconda3/envs/eneas/lib/python3.13/site-packages (from fancyimpute) (1.6.3)\n",
      "Requirement already satisfied: cvxopt in /opt/anaconda3/envs/eneas/lib/python3.13/site-packages (from fancyimpute) (1.3.2)\n",
      "Requirement already satisfied: pytest in /opt/anaconda3/envs/eneas/lib/python3.13/site-packages (from fancyimpute) (8.3.5)\n",
      "Requirement already satisfied: nose in /opt/anaconda3/envs/eneas/lib/python3.13/site-packages (from fancyimpute) (1.3.7)\n",
      "Requirement already satisfied: six in /opt/anaconda3/envs/eneas/lib/python3.13/site-packages (from knnimpute>=0.1.0->fancyimpute) (1.17.0)\n",
      "Requirement already satisfied: numpy>=1.10 in /opt/anaconda3/envs/eneas/lib/python3.13/site-packages (from knnimpute>=0.1.0->fancyimpute) (2.2.2)\n",
      "Requirement already satisfied: scipy>=1.6.0 in /opt/anaconda3/envs/eneas/lib/python3.13/site-packages (from scikit-learn>=0.24.2->fancyimpute) (1.15.1)\n",
      "Requirement already satisfied: joblib>=1.2.0 in /opt/anaconda3/envs/eneas/lib/python3.13/site-packages (from scikit-learn>=0.24.2->fancyimpute) (1.4.2)\n",
      "Requirement already satisfied: threadpoolctl>=3.1.0 in /opt/anaconda3/envs/eneas/lib/python3.13/site-packages (from scikit-learn>=0.24.2->fancyimpute) (3.5.0)\n",
      "Requirement already satisfied: osqp>=0.6.2 in /opt/anaconda3/envs/eneas/lib/python3.13/site-packages (from cvxpy->fancyimpute) (0.6.7.post3)\n",
      "Requirement already satisfied: clarabel>=0.5.0 in /opt/anaconda3/envs/eneas/lib/python3.13/site-packages (from cvxpy->fancyimpute) (0.10.0)\n",
      "Requirement already satisfied: scs>=3.2.4.post1 in /opt/anaconda3/envs/eneas/lib/python3.13/site-packages (from cvxpy->fancyimpute) (3.2.7.post2)\n",
      "Requirement already satisfied: iniconfig in /opt/anaconda3/envs/eneas/lib/python3.13/site-packages (from pytest->fancyimpute) (2.0.0)\n",
      "Requirement already satisfied: packaging in /opt/anaconda3/envs/eneas/lib/python3.13/site-packages (from pytest->fancyimpute) (24.2)\n",
      "Requirement already satisfied: pluggy<2,>=1.5 in /opt/anaconda3/envs/eneas/lib/python3.13/site-packages (from pytest->fancyimpute) (1.5.0)\n",
      "Requirement already satisfied: qdldl in /opt/anaconda3/envs/eneas/lib/python3.13/site-packages (from osqp>=0.6.2->cvxpy->fancyimpute) (0.1.7.post5)\n",
      "Note: you may need to restart the kernel to use updated packages.\n"
     ]
    }
   ],
   "source": [
    "# Install the standard packages\n",
    "%pip install numpy\n",
    "%pip install pandas\n",
    "%pip install fancyimpute"
   ]
  },
  {
   "cell_type": "markdown",
   "id": "cA4Pv9fGpe19",
   "metadata": {
    "id": "cA4Pv9fGpe19"
   },
   "source": [
    "Google Collab Connection to Google Drive: External data: Local Files, Drive, Sheets, and Cloud Storage\n",
    "https://colab.research.google.com/notebooks/io.ipynb"
   ]
  },
  {
   "cell_type": "code",
   "execution_count": 2,
   "id": "AFNnBYR2hAEB",
   "metadata": {
    "colab": {
     "base_uri": "https://localhost:8080/"
    },
    "executionInfo": {
     "elapsed": 16701,
     "status": "ok",
     "timestamp": 1742061000518,
     "user": {
      "displayName": "Jose Eneas Da Silva Maria",
      "userId": "05457363209835800857"
     },
     "user_tz": 240
    },
    "id": "AFNnBYR2hAEB",
    "outputId": "71bc1935-73da-4f66-8d6e-9edc6a58babf"
   },
   "outputs": [],
   "source": [
    "# mount drive\n",
    "#from google.colab import drive\n",
    "#drive.mount('/content/drive/')"
   ]
  },
  {
   "cell_type": "code",
   "execution_count": 3,
   "id": "IsIo2LkxhhQl",
   "metadata": {
    "executionInfo": {
     "elapsed": 2,
     "status": "ok",
     "timestamp": 1742061068360,
     "user": {
      "displayName": "Jose Eneas Da Silva Maria",
      "userId": "05457363209835800857"
     },
     "user_tz": 240
    },
    "id": "IsIo2LkxhhQl"
   },
   "outputs": [],
   "source": [
    "# location of custom packages: soft_impute , functionsCF, and dataset ratings.csv\n",
    "# CollaborativeFiltering folder in google drive\n",
    "import sys\n",
    "sys.path.append('/Users/eneas/Desktop/MIT/MODULE-8/CollaborativeFiltering/')"
   ]
  },
  {
   "cell_type": "code",
   "execution_count": 4,
   "id": "qv7OvJ8nr0TU",
   "metadata": {
    "executionInfo": {
     "elapsed": 4,
     "status": "ok",
     "timestamp": 1742061076094,
     "user": {
      "displayName": "Jose Eneas Da Silva Maria",
      "userId": "05457363209835800857"
     },
     "user_tz": 240
    },
    "id": "qv7OvJ8nr0TU"
   },
   "outputs": [],
   "source": [
    "# change the working directory\n",
    "import os\n",
    "os.chdir(\"/Users/eneas/Desktop/MIT/MODULE-8/CollaborativeFiltering/\")"
   ]
  },
  {
   "cell_type": "code",
   "execution_count": 5,
   "id": "e8ae0c8f",
   "metadata": {
    "executionInfo": {
     "elapsed": 3635,
     "status": "ok",
     "timestamp": 1742061082470,
     "user": {
      "displayName": "Jose Eneas Da Silva Maria",
      "userId": "05457363209835800857"
     },
     "user_tz": 240
    },
    "id": "e8ae0c8f"
   },
   "outputs": [],
   "source": [
    "# Impute necessary packages\n",
    "import numpy as np # type: ignore\n",
    "import pandas as pd # type: ignore\n",
    "from fancyimpute import BiScaler # type: ignore\n",
    "from soft_impute import SoftImpute\n",
    "from functionsCF import GenerateTrainingSet"
   ]
  },
  {
   "cell_type": "markdown",
   "id": "40bbbdd4",
   "metadata": {
    "id": "40bbbdd4"
   },
   "source": [
    "## Create the incomplete matrices for training and testing"
   ]
  },
  {
   "cell_type": "code",
   "execution_count": 6,
   "id": "Vsbz4zO0j7DB",
   "metadata": {
    "executionInfo": {
     "elapsed": 716,
     "status": "ok",
     "timestamp": 1742061092811,
     "user": {
      "displayName": "Jose Eneas Da Silva Maria",
      "userId": "05457363209835800857"
     },
     "user_tz": 240
    },
    "id": "Vsbz4zO0j7DB"
   },
   "outputs": [],
   "source": [
    "# Read movielens data from files- point to where data is stored, small set of Movielens dataset\n",
    "# 100836 (rows), userId\tmovieId\trating\ttimestamp (columns).\n",
    "# Using smaller dataset rather than the full dataset to speed performance.\n",
    "# Your results may vary depending on which Movielens data set is used; Several are available online\n",
    "# read in values only\n",
    "rating = pd.read_csv('ratings.csv', sep=',').values"
   ]
  },
  {
   "cell_type": "code",
   "execution_count": 7,
   "id": "ptTHCfTfxBuC",
   "metadata": {
    "executionInfo": {
     "elapsed": 3,
     "status": "ok",
     "timestamp": 1742061095886,
     "user": {
      "displayName": "Jose Eneas Da Silva Maria",
      "userId": "05457363209835800857"
     },
     "user_tz": 240
    },
    "id": "ptTHCfTfxBuC"
   },
   "outputs": [],
   "source": [
    "# Here we only care about the ratings, so we only use the first three columns, which contain use IDs, movie IDs, and ratings.\n",
    "rating = rating[:,0:3]"
   ]
  },
  {
   "cell_type": "code",
   "execution_count": 8,
   "id": "a-i471csu_K3",
   "metadata": {
    "colab": {
     "base_uri": "https://localhost:8080/"
    },
    "executionInfo": {
     "elapsed": 8,
     "status": "ok",
     "timestamp": 1742061097689,
     "user": {
      "displayName": "Jose Eneas Da Silva Maria",
      "userId": "05457363209835800857"
     },
     "user_tz": 240
    },
    "id": "a-i471csu_K3",
    "outputId": "5feb9b68-ff3b-4fa8-a645-71a9d7fded8c"
   },
   "outputs": [
    {
     "name": "stdout",
     "output_type": "stream",
     "text": [
      "[[ 1.  1.  4.]\n",
      " [ 1.  3.  4.]\n",
      " [ 1.  6.  4.]\n",
      " [ 1. 47.  5.]\n",
      " [ 1. 50.  5.]]\n"
     ]
    }
   ],
   "source": [
    "#show top 5 rows\n",
    "print(rating[:5, :])"
   ]
  },
  {
   "cell_type": "code",
   "execution_count": 9,
   "id": "b23d947b",
   "metadata": {
    "executionInfo": {
     "elapsed": 1018,
     "status": "ok",
     "timestamp": 1742061105612,
     "user": {
      "displayName": "Jose Eneas Da Silva Maria",
      "userId": "05457363209835800857"
     },
     "user_tz": 240
    },
    "id": "b23d947b"
   },
   "outputs": [],
   "source": [
    "# Use all known information to create the incomplete matrix\n",
    "\n",
    "# First, create an empty matrix\n",
    "matrix_incomplete = np.zeros((len(np.unique(rating[:,0])), len(np.unique(rating[:,1]))))\n",
    "\n",
    "# Second, Since some movies don't have any ratings, we only use the movies that have ratings.\n",
    "# Here we correspondingly change the movie IDs to make each column has ratings.\n",
    "# create an array of all movie IDs\n",
    "usedID = np.unique(rating[:, 1])\n",
    "# replace the movie IDs by the their positions in the array we just created\n",
    "for i in range(len(rating[:,1])):\n",
    "    rating[:,1][i] = np.where(usedID==rating[:,1][i])[0][0] + 1\n",
    "\n",
    "# Finally, we construct the incomplete matrix, on which the incomplete components are nan by\n",
    "# default.\n",
    "# all components are nan by default\n",
    "matrix_incomplete[:] = np.nan\n",
    "# create the index pair of the components with ratings\n",
    "indices = np.array(rating[:,0] - 1).astype(int), np.array(rating[:,1] - 1).astype(int)\n",
    "# change the values in the corresponding positions to the known rating information\n",
    "matrix_incomplete[indices] = rating[:,2]"
   ]
  },
  {
   "cell_type": "code",
   "execution_count": 10,
   "id": "2f54b0e6",
   "metadata": {
    "executionInfo": {
     "elapsed": 2411,
     "status": "ok",
     "timestamp": 1742061113826,
     "user": {
      "displayName": "Jose Eneas Da Silva Maria",
      "userId": "05457363209835800857"
     },
     "user_tz": 240
    },
    "id": "2f54b0e6"
   },
   "outputs": [],
   "source": [
    "# Obtain the index pairs of the training set and the validation set, with ratio 90%\n",
    "train_indices, validation_indices = GenerateTrainingSet(rating[:,0], rating[:,1], 0.90)\n",
    "# And then use the index pairs to create the incomplete training test\n",
    "matrix_train = matrix_incomplete.copy()\n",
    "matrix_train[:] = np.nan\n",
    "matrix_train[train_indices] = matrix_incomplete[train_indices]"
   ]
  },
  {
   "cell_type": "markdown",
   "id": "69a998c9",
   "metadata": {
    "id": "69a998c9"
   },
   "source": [
    "##  Run the softImpute model for collaborative filtering"
   ]
  },
  {
   "cell_type": "code",
   "execution_count": 11,
   "id": "0d16d1db",
   "metadata": {
    "executionInfo": {
     "elapsed": 16717,
     "status": "ok",
     "timestamp": 1742061143605,
     "user": {
      "displayName": "Jose Eneas Da Silva Maria",
      "userId": "05457363209835800857"
     },
     "user_tz": 240
    },
    "id": "0d16d1db"
   },
   "outputs": [],
   "source": [
    "# Create the BiScaler model\n",
    "biscaler = BiScaler(scale_rows=False, scale_columns=False, max_iters=50, verbose=False)\n",
    "# Rescale both rows and columns to have zero mean\n",
    "matrix_train_normalized = biscaler.fit_transform(matrix_train)"
   ]
  },
  {
   "cell_type": "code",
   "execution_count": 12,
   "id": "ae5de031",
   "metadata": {
    "executionInfo": {
     "elapsed": 3,
     "status": "ok",
     "timestamp": 1742061145598,
     "user": {
      "displayName": "Jose Eneas Da Silva Maria",
      "userId": "05457363209835800857"
     },
     "user_tz": 240
    },
    "id": "ae5de031"
   },
   "outputs": [],
   "source": [
    "# Use softImpute to complete the matrix. J means the number of archetypes and rand_seed means the\n",
    "# seed for the inner random number generator, verbose control whether outputting algorithm logs.\n",
    "softImpute = SoftImpute(J = 4, maxit = 200, random_seed = 1, verbose = False)"
   ]
  },
  {
   "cell_type": "code",
   "execution_count": 13,
   "id": "19484161",
   "metadata": {
    "executionInfo": {
     "elapsed": 37733,
     "status": "ok",
     "timestamp": 1742061186846,
     "user": {
      "displayName": "Jose Eneas Da Silva Maria",
      "userId": "05457363209835800857"
     },
     "user_tz": 240
    },
    "id": "19484161"
   },
   "outputs": [],
   "source": [
    "# Run the softImpute model on the normalized training set\n",
    "matrix_train_softImpute = softImpute.fit(matrix_train_normalized)\n",
    "# Use the softImpute model to create the predicted matrix. If we set copyto as True, then it\n",
    "# directly change the value of matrix_train_normalized\n",
    "matrix_train_filled_normalized = matrix_train_softImpute.predict(matrix_train_normalized, copyto = False)\n",
    "# Inverse transformation to undo the scaling\n",
    "matrix_train_filled = biscaler.inverse_transform(matrix_train_filled_normalized)"
   ]
  },
  {
   "cell_type": "markdown",
   "id": "9481eb67",
   "metadata": {
    "id": "9481eb67"
   },
   "source": [
    "## Analysis of the predicted ratings"
   ]
  },
  {
   "cell_type": "markdown",
   "id": "988d616f",
   "metadata": {
    "id": "988d616f"
   },
   "source": [
    "### Out-of-sample R^2"
   ]
  },
  {
   "cell_type": "code",
   "execution_count": 14,
   "id": "a097cfe2",
   "metadata": {
    "executionInfo": {
     "elapsed": 1,
     "status": "ok",
     "timestamp": 1742061194782,
     "user": {
      "displayName": "Jose Eneas Da Silva Maria",
      "userId": "05457363209835800857"
     },
     "user_tz": 240
    },
    "id": "a097cfe2"
   },
   "outputs": [],
   "source": [
    "# Create the baseline method\n",
    "train_average = np.average(matrix_train[train_indices])"
   ]
  },
  {
   "cell_type": "code",
   "execution_count": 15,
   "id": "d89639dd",
   "metadata": {
    "colab": {
     "base_uri": "https://localhost:8080/"
    },
    "executionInfo": {
     "elapsed": 18,
     "status": "ok",
     "timestamp": 1742061196801,
     "user": {
      "displayName": "Jose Eneas Da Silva Maria",
      "userId": "05457363209835800857"
     },
     "user_tz": 240
    },
    "id": "d89639dd",
    "outputId": "1558f33e-4fd4-49ff-e493-8bcfab623b92"
   },
   "outputs": [
    {
     "name": "stdout",
     "output_type": "stream",
     "text": [
      "out-of-sample R2: 0.2040, in-sample R2: 0.6140.\n"
     ]
    }
   ],
   "source": [
    "# Calculate out-of-sample R2 and in-sample R2\n",
    "# Your results may vary from the lesson due to datasize and training test split.\n",
    "validation_mse = ((matrix_train_filled[validation_indices] - matrix_incomplete[validation_indices]) ** 2).mean()\n",
    "training_mse = ((matrix_train_filled[train_indices] - matrix_incomplete[train_indices]) ** 2).mean()\n",
    "validation_mse_baseline = ((train_average - matrix_incomplete[validation_indices]) ** 2).mean()\n",
    "training_mse_baseline = ((train_average - matrix_incomplete[train_indices]) ** 2).mean()\n",
    "print(\"out-of-sample R2: %.4f, in-sample R2: %.4f.\" % (1 - validation_mse / validation_mse_baseline, 1 - training_mse / training_mse_baseline))"
   ]
  },
  {
   "cell_type": "markdown",
   "id": "d09890c5",
   "metadata": {
    "id": "d09890c5"
   },
   "source": [
    "### Get low-rank factors"
   ]
  },
  {
   "cell_type": "code",
   "execution_count": 16,
   "id": "78125afd",
   "metadata": {
    "colab": {
     "base_uri": "https://localhost:8080/"
    },
    "executionInfo": {
     "elapsed": 4,
     "status": "ok",
     "timestamp": 1742061203731,
     "user": {
      "displayName": "Jose Eneas Da Silva Maria",
      "userId": "05457363209835800857"
     },
     "user_tz": 240
    },
    "id": "78125afd",
    "outputId": "b1c3451f-4c0b-492f-a1d3-1ff86afc3f3a"
   },
   "outputs": [
    {
     "data": {
      "text/plain": [
       "array([[-0.01059553,  0.00738432,  0.00095827,  0.00763057],\n",
       "       [ 0.00084638,  0.00592296, -0.00052429, -0.00275899],\n",
       "       [-0.00217362,  0.01406614, -0.00250328,  0.01682713],\n",
       "       ...,\n",
       "       [ 0.        ,  0.        ,  0.        ,  0.        ],\n",
       "       [ 0.        ,  0.        ,  0.        ,  0.        ],\n",
       "       [ 0.        ,  0.        ,  0.        ,  0.        ]],\n",
       "      shape=(9724, 4))"
      ]
     },
     "execution_count": 16,
     "metadata": {},
     "output_type": "execute_result"
    }
   ],
   "source": [
    "# Obtain the ratings of each archetype\n",
    "# Each row of this matrix corresponds to a song and each column corresponds to an archetype\n",
    "softImpute.v"
   ]
  },
  {
   "cell_type": "code",
   "execution_count": 17,
   "id": "1c37024e",
   "metadata": {
    "colab": {
     "base_uri": "https://localhost:8080/"
    },
    "executionInfo": {
     "elapsed": 92,
     "status": "ok",
     "timestamp": 1742061211094,
     "user": {
      "displayName": "Jose Eneas Da Silva Maria",
      "userId": "05457363209835800857"
     },
     "user_tz": 240
    },
    "id": "1c37024e",
    "outputId": "fcb19cd9-f398-4a17-b4dc-9d31fee4086a"
   },
   "outputs": [
    {
     "data": {
      "text/plain": [
       "(9724, 4)"
      ]
     },
     "execution_count": 17,
     "metadata": {},
     "output_type": "execute_result"
    }
   ],
   "source": [
    "softImpute.v.shape"
   ]
  },
  {
   "cell_type": "code",
   "execution_count": 18,
   "id": "6250e638",
   "metadata": {
    "colab": {
     "base_uri": "https://localhost:8080/"
    },
    "executionInfo": {
     "elapsed": 2,
     "status": "ok",
     "timestamp": 1742061212920,
     "user": {
      "displayName": "Jose Eneas Da Silva Maria",
      "userId": "05457363209835800857"
     },
     "user_tz": 240
    },
    "id": "6250e638",
    "outputId": "5f5222c2-9330-4352-d043-a8cfd76f7b4e"
   },
   "outputs": [
    {
     "data": {
      "text/plain": [
       "array([[ -9.28902628,  11.99637881,   3.96105647, -10.51264863],\n",
       "       [  4.60952834,  14.17893705,  10.13304446,  -5.63247093],\n",
       "       [ 67.66498595,  51.10879891,  19.09411836,  -5.31394527],\n",
       "       ...,\n",
       "       [ 42.60045155, -27.45724096,   3.70374048,  19.47398224],\n",
       "       [ -0.17512687,   2.86434723,   1.7493947 ,  -4.97185285],\n",
       "       [ -2.62538395,   8.48671393,  14.19970535,   7.42396582]],\n",
       "      shape=(610, 4))"
      ]
     },
     "execution_count": 18,
     "metadata": {},
     "output_type": "execute_result"
    }
   ],
   "source": [
    "# (Optional)\n",
    "# Obtain the weights of archetypes of each user\n",
    "# each row of this matrix corresponds to a user and each column corresponds to an archetype\n",
    "weights = np.dot(softImpute.u, np.diagflat(softImpute.d).T)\n",
    "weights"
   ]
  },
  {
   "cell_type": "code",
   "execution_count": 19,
   "id": "c3dd121c",
   "metadata": {
    "colab": {
     "base_uri": "https://localhost:8080/"
    },
    "executionInfo": {
     "elapsed": 5,
     "status": "ok",
     "timestamp": 1742061216281,
     "user": {
      "displayName": "Jose Eneas Da Silva Maria",
      "userId": "05457363209835800857"
     },
     "user_tz": 240
    },
    "id": "c3dd121c",
    "outputId": "f30fdf24-14e4-4f8a-a98d-3a060bb933b5"
   },
   "outputs": [
    {
     "data": {
      "text/plain": [
       "(610, 4)"
      ]
     },
     "execution_count": 19,
     "metadata": {},
     "output_type": "execute_result"
    }
   ],
   "source": [
    "weights.shape"
   ]
  },
  {
   "cell_type": "code",
   "execution_count": 20,
   "id": "cf2f7437",
   "metadata": {
    "executionInfo": {
     "elapsed": 14,
     "status": "ok",
     "timestamp": 1742061218129,
     "user": {
      "displayName": "Jose Eneas Da Silva Maria",
      "userId": "05457363209835800857"
     },
     "user_tz": 240
    },
    "id": "cf2f7437"
   },
   "outputs": [],
   "source": [
    "# And then the predicted matrix is computed by the product of two low-rank matrices\n",
    "new_prediction = np.dot(weights, softImpute.v.T)"
   ]
  },
  {
   "cell_type": "code",
   "execution_count": 21,
   "id": "d7421f9c",
   "metadata": {
    "colab": {
     "base_uri": "https://localhost:8080/"
    },
    "executionInfo": {
     "elapsed": 44,
     "status": "ok",
     "timestamp": 1742061220146,
     "user": {
      "displayName": "Jose Eneas Da Silva Maria",
      "userId": "05457363209835800857"
     },
     "user_tz": 240
    },
    "id": "d7421f9c",
    "outputId": "ae2c6555-a758-4381-ecee-3bd313447e72"
   },
   "outputs": [
    {
     "data": {
      "text/plain": [
       "np.float64(7.019952411338923e-11)"
      ]
     },
     "execution_count": 21,
     "metadata": {},
     "output_type": "execute_result"
    }
   ],
   "source": [
    "# We can see it is the same with the output of the codes in the previous section\n",
    "np.sum(np.abs(new_prediction - matrix_train_filled_normalized))"
   ]
  },
  {
   "cell_type": "markdown",
   "id": "c0831b6a",
   "metadata": {
    "id": "c0831b6a"
   },
   "source": [
    "end of the note"
   ]
  }
 ],
 "metadata": {
  "colab": {
   "provenance": []
  },
  "kernelspec": {
   "display_name": "eneas",
   "language": "python",
   "name": "python3"
  },
  "language_info": {
   "codemirror_mode": {
    "name": "ipython",
    "version": 3
   },
   "file_extension": ".py",
   "mimetype": "text/x-python",
   "name": "python",
   "nbconvert_exporter": "python",
   "pygments_lexer": "ipython3",
   "version": "3.13.2"
  }
 },
 "nbformat": 4,
 "nbformat_minor": 5
}
